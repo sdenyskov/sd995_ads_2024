{
  "cells": [
    {
      "cell_type": "markdown",
      "metadata": {
        "id": "-tbzTphJeGlW"
      },
      "source": [
        "# Assessment for Advanced Data Science\n",
        "# *Data Pipelines*"
      ]
    },
    {
      "cell_type": "markdown",
      "metadata": {
        "id": "vVm3IV8eZPdE"
      },
      "source": [
        "## Radzim Sendyka, Christian Cabrera, Carl Henrik Ek and Neil D. Lawrence\n",
        "\n",
        "### 19 November 2024"
      ]
    },
    {
      "cell_type": "markdown",
      "metadata": {
        "id": "Evaf5gdVnE0s"
      },
      "source": [
        "Welcome to the course assessment for the Advanced Data Science unit. In this assessment, you will build two data pipelines and prediction systems.\n",
        "\n",
        "The maximum total mark for this assessment is 20. That mark is split into two miniprojects below.\n",
        "- The first miniproject is worth 7 marks.\n",
        "- The second miniproject is worth 13 marks.\n",
        "\n",
        "*The check Session for this Assessment is 03 December 2024.*"
      ]
    },
    {
      "cell_type": "markdown",
      "metadata": {
        "id": "R_gVPt8Nndjn"
      },
      "source": [
        "# Task 1 (7 marks)"
      ]
    },
    {
      "cell_type": "markdown",
      "metadata": {
        "id": "2yaFil7l34HD"
      },
      "source": [
        "This example project builds on your experience from the practicals, using Open Street Maps, and connecting them to real-world datasets.\n",
        "\n",
        "Your prediction system will be based on data from the 2021 UK Census, and Open Street Maps."
      ]
    },
    {
      "cell_type": "markdown",
      "metadata": {
        "id": "jVnzIgd3ZWt0"
      },
      "source": [
        "### Build a data pipeline and prediction system.\n",
        "\n",
        "Structure your system around the [Access-Assess-Address](https://inverseprobability.com/talks/notes/access-assess-address-a-pipeline-for-automated-data-science.html) framework for automated data science.\n",
        "Use the framework of [Data Readiness Levels](https://inverseprobability.com/publications/data-readiness-levels.html) to track the state of your datasets throughout the process.\n",
        "Visualise your data and predictions using appropriate charts and graphics.\n",
        "Remember, your notebook should tell a story.\n",
        "\n",
        "1.1. Download the data from online sources. In this task you will need:\n",
        "  - UK Census Data\n",
        "    - The UK Census data file for and Socio-economic Classification (NS SEC) [here](https://www.ons.gov.uk/datasets/TS062/editions/2021/versions/5) or [here](https://www.nomisweb.co.uk/sources/census_2021_bulk). Use the most detailed area type (Output Areas).\n",
        "    - One other UK Census data file of your choosing [here](https://www.ons.gov.uk/search?topics=9731,6646,3845,9497,4262,4128,7755,4994,6885,9724,7367&filter=datasets) or [here](https://www.nomisweb.co.uk/sources/census_2021_bulk). Use the most detailed area type available.\n",
        "    - Geographic coordinates of Census Output Areas [here](https://www.data.gov.uk/dataset/4d4e021d-fe98-4a0e-88e2-3ead84538537/output-areas-december-2021-boundaries-ew-bgc-v2).\n",
        "  - Spatial data\n",
        "    - Set up an API connection to Open Street Maps [here](https://osmnx.readthedocs.io/en/stable/). Optionally, to be able to use more data in training, you might want to also download the entire map for England (or more) [here](https://download.openstreetmap.fr/extracts/) or [here](https://wiki.openstreetmap.org/wiki/Planet.osm).\n",
        "\n",
        "1.2. Structure the data, and upload it to your AWS database.\n",
        "\n",
        "- Census datasets can be huge and unwieldy to manipulate directly in python frameworks such as pandas. As a result we will host the data in a relational database.\n",
        "\n",
        "- Using a cloud hosted database (such as MariaDB hosted on the AWS RDS service),  you will construct a database containing tables that contain per-output-area data, latitudes and longitudes of the output areas, and potentially, extracted selected open street maps features from the country-wide data file.\n",
        "\n",
        "- Make sure you set the correct indices on your data, which will allow your code to run much faster. Hint: create an index on any columns you will be looking up, and joint indices if your lookup involves multiple columns (like coordinates).\n",
        "\n",
        "You will likely find the following resources helpful.\n",
        "\n",
        "- Lecture 1, 2 and 3.\n",
        "- Lab class 1 and 2.\n",
        "\n",
        "\n",
        "- *Note, this particular dataset could probably be handled directly in pandas, but you are explicitly tasked with using a database. This is a compromise from previous iterations of this course, where students spent quite a lot of time struggling from the size of the data. This is an opportunity for you to demonstrate your skills, as well as prepare for the second part of the assessment where databases might be necessary. Approach that do not use databases where needed will be penalised during marking.*\n",
        "\n",
        "\n",
        "2.0. Explore the data.\n",
        "\n",
        "  - To make predictions you will augment your data with information obtained from Open Street Map: an open license source of mapping information. You will need to use the techniques you have learnt in the course to indentify and incorporate useful features for your prediction tasks.\n",
        "  - Look at the percentage of students (NS SEC code L15) in the individual output areas, and explore how it's related to various types of open street map features in those locations. Use the relationships you found to suggest the features to be used in a system that predicts percentage of students in a given area.\n",
        "  - Do the same for an additional census variable (e.g., the average age in a given area).\n",
        "\n",
        "3.0. Make a prediction system.\n",
        "- Use Open Street Maps to predict Socio-Economic Status - in particular, the percent of full time students, from OSM features. Your function should take as input a coordinate pair (you can assume it will be in England), and return an estimate for the share of students in that area.\n",
        "\n",
        "- Do the same for the additional census variable you selected in the previous step.\n",
        "\n",
        "Hints:\n",
        "\n",
        "  - *Some of the census data sheets are very detailed. You might want to try \"boiling them down\" to some aggregate value or selecting just the most important columns.*\n",
        "\n",
        "  - *This assignment is focused on data pipelines, rather than machine learning, so we do not expect any advanced architectures here - a linear model or similar is perfectly fine.*\n",
        "  \n",
        "  - *For data exploration, or picking your second dataset, you may find useful the [interactive map](https://www.ons.gov.uk/census/maps/) of the census data.*"
      ]
    },
    {
      "cell_type": "markdown",
      "metadata": {
        "id": "VAfdUurg4JhM"
      },
      "source": [
        "### Story.\n",
        "\n",
        "- Remember the notebook you create should tell a story, any code that is not critical to that story can safely be placed into the associated analysis library and imported for use (structured as given in the Fynesse template). Make sure your decisions are well substanciated and flow nicely throughout the notebook, with clear explanations.\n",
        "\n",
        "- Explain everything you do. Why is your question important, why you selected the datasets you did, why did you join them how you did, why did you look at the things you looked at.\n",
        "\n",
        "Make sure in your notebook you discuss the design decisions you made in your pipeline and prediction system. How did you structure your notebook? How did you track data readiness? Which aspects of your system could be improved further?\n",
        "\n",
        "Make sure you compare how you predict student population and your second chosen property. What differences are there, in the underlying data, process, and results?\n",
        "\n",
        "Make sure you discuss the reusability of your data pipeline and prediction system. What changes to the underlying data/system is it resilient to, and what isn't it? What work would need to be done to adjust it to answer questions about other statistics, or a different country, instead?"
      ]
    },
    {
      "cell_type": "markdown",
      "metadata": {
        "id": "VN8V5rhV4CNW"
      },
      "source": [
        "### Fynesse library.\n",
        "\n",
        "- Alongside your implementation you will provide a short repository overview describing how you have implemented the different parts of the project and where you have placed those parts in your code repository. You will submit your code alongside a version of this notebook that will allow your examiner to understand and reconstruct the thinking behind your analysis. This notebook is structured to help you in creating that description and allow you to understand how we will allocate the marks. You should make use of the Fynesse framework (https://github.com/lawrennd/fynesse_template) for structuring your code.\n",
        "\n",
        "- One artefact to be included in your submission is a python library structured according to the \"Access, Assess, Address\" standard for data science solutions. You will submit this library alongside your code. Use the cell below to perform the necessary installation instructions for your library.\n",
        "You should base your module on the template repository given by the Fynesse template repository. That should make it pip-installable as below.\n",
        "`%pip install git+https://github.com/lawrennd/fynesse_template.git`. You can either replace fynesse with the name you've given your analysis module or you can leave the name as fynesse if you prefer.\n",
        "\n",
        "- Remember the notebook you create should tell a story, any code that is not critical to that story can safely be placed into the associated analysis library and imported for use (structured as given in the Fynesse template). Remember to include you fynesse library in your submission."
      ]
    },
    {
      "cell_type": "markdown",
      "metadata": {
        "id": "s6_rVCxjnzLB"
      },
      "source": [
        "## Access"
      ]
    },
    {
      "cell_type": "code",
      "execution_count": 14,
      "metadata": {
        "id": "KjesIa7SoIYO"
      },
      "outputs": [
        {
          "name": "stdout",
          "output_type": "stream",
          "text": [
            "Found existing installation: fynesse 0.1.0\n",
            "Uninstalling fynesse-0.1.0:\n",
            "  Successfully uninstalled fynesse-0.1.0\n",
            "Note: you may need to restart the kernel to use updated packages.\n",
            "Collecting git+https://github.com/sdenyskov/sd995_ads_2024.git\n",
            "  Cloning https://github.com/sdenyskov/sd995_ads_2024.git to /private/var/folders/tq/f7lcjhp564g26624rbp38l240000gn/T/pip-req-build-eki8jtnu\n",
            "  Running command git clone --filter=blob:none --quiet https://github.com/sdenyskov/sd995_ads_2024.git /private/var/folders/tq/f7lcjhp564g26624rbp38l240000gn/T/pip-req-build-eki8jtnu\n",
            "  Resolved https://github.com/sdenyskov/sd995_ads_2024.git to commit b00350919885a50eafa1ea0cadfd67d990206fdf\n",
            "  Preparing metadata (setup.py) ... \u001b[?25ldone\n",
            "\u001b[?25hRequirement already satisfied: pandas in /Library/Frameworks/Python.framework/Versions/3.10/lib/python3.10/site-packages (from fynesse==0.1.0) (2.1.1)\n",
            "Requirement already satisfied: numpy in /Library/Frameworks/Python.framework/Versions/3.10/lib/python3.10/site-packages (from fynesse==0.1.0) (1.24.2)\n",
            "Requirement already satisfied: jupyter in /Library/Frameworks/Python.framework/Versions/3.10/lib/python3.10/site-packages (from fynesse==0.1.0) (1.1.1)\n",
            "Requirement already satisfied: matplotlib in /Library/Frameworks/Python.framework/Versions/3.10/lib/python3.10/site-packages (from fynesse==0.1.0) (3.9.2)\n",
            "Requirement already satisfied: notebook in /Library/Frameworks/Python.framework/Versions/3.10/lib/python3.10/site-packages (from jupyter->fynesse==0.1.0) (7.2.2)\n",
            "Requirement already satisfied: jupyter-console in /Library/Frameworks/Python.framework/Versions/3.10/lib/python3.10/site-packages (from jupyter->fynesse==0.1.0) (6.6.3)\n",
            "Requirement already satisfied: nbconvert in /Library/Frameworks/Python.framework/Versions/3.10/lib/python3.10/site-packages (from jupyter->fynesse==0.1.0) (7.16.4)\n",
            "Requirement already satisfied: ipykernel in /Users/sv/Library/Python/3.10/lib/python/site-packages (from jupyter->fynesse==0.1.0) (6.26.0)\n",
            "Requirement already satisfied: ipywidgets in /Library/Frameworks/Python.framework/Versions/3.10/lib/python3.10/site-packages (from jupyter->fynesse==0.1.0) (8.1.5)\n",
            "Requirement already satisfied: jupyterlab in /Library/Frameworks/Python.framework/Versions/3.10/lib/python3.10/site-packages (from jupyter->fynesse==0.1.0) (4.2.5)\n",
            "Requirement already satisfied: contourpy>=1.0.1 in /Library/Frameworks/Python.framework/Versions/3.10/lib/python3.10/site-packages (from matplotlib->fynesse==0.1.0) (1.0.7)\n",
            "Requirement already satisfied: cycler>=0.10 in /Library/Frameworks/Python.framework/Versions/3.10/lib/python3.10/site-packages (from matplotlib->fynesse==0.1.0) (0.11.0)\n",
            "Requirement already satisfied: fonttools>=4.22.0 in /Library/Frameworks/Python.framework/Versions/3.10/lib/python3.10/site-packages (from matplotlib->fynesse==0.1.0) (4.39.0)\n",
            "Requirement already satisfied: kiwisolver>=1.3.1 in /Library/Frameworks/Python.framework/Versions/3.10/lib/python3.10/site-packages (from matplotlib->fynesse==0.1.0) (1.4.4)\n",
            "Requirement already satisfied: packaging>=20.0 in /Library/Frameworks/Python.framework/Versions/3.10/lib/python3.10/site-packages (from matplotlib->fynesse==0.1.0) (23.0)\n",
            "Requirement already satisfied: pillow>=8 in /Library/Frameworks/Python.framework/Versions/3.10/lib/python3.10/site-packages (from matplotlib->fynesse==0.1.0) (9.4.0)\n",
            "Requirement already satisfied: pyparsing>=2.3.1 in /Library/Frameworks/Python.framework/Versions/3.10/lib/python3.10/site-packages (from matplotlib->fynesse==0.1.0) (3.0.9)\n",
            "Requirement already satisfied: python-dateutil>=2.7 in /Library/Frameworks/Python.framework/Versions/3.10/lib/python3.10/site-packages (from matplotlib->fynesse==0.1.0) (2.8.2)\n",
            "Requirement already satisfied: pytz>=2020.1 in /Library/Frameworks/Python.framework/Versions/3.10/lib/python3.10/site-packages (from pandas->fynesse==0.1.0) (2023.3.post1)\n",
            "Requirement already satisfied: tzdata>=2022.1 in /Library/Frameworks/Python.framework/Versions/3.10/lib/python3.10/site-packages (from pandas->fynesse==0.1.0) (2023.3)\n",
            "Requirement already satisfied: six>=1.5 in /Library/Frameworks/Python.framework/Versions/3.10/lib/python3.10/site-packages (from python-dateutil>=2.7->matplotlib->fynesse==0.1.0) (1.16.0)\n",
            "Requirement already satisfied: appnope in /Users/sv/Library/Python/3.10/lib/python/site-packages (from ipykernel->jupyter->fynesse==0.1.0) (0.1.3)\n",
            "Requirement already satisfied: comm>=0.1.1 in /Users/sv/Library/Python/3.10/lib/python/site-packages (from ipykernel->jupyter->fynesse==0.1.0) (0.1.4)\n",
            "Requirement already satisfied: debugpy>=1.6.5 in /Users/sv/Library/Python/3.10/lib/python/site-packages (from ipykernel->jupyter->fynesse==0.1.0) (1.8.0)\n",
            "Requirement already satisfied: ipython>=7.23.1 in /Users/sv/Library/Python/3.10/lib/python/site-packages (from ipykernel->jupyter->fynesse==0.1.0) (8.16.1)\n",
            "Requirement already satisfied: jupyter-client>=6.1.12 in /Users/sv/Library/Python/3.10/lib/python/site-packages (from ipykernel->jupyter->fynesse==0.1.0) (8.5.0)\n",
            "Requirement already satisfied: jupyter-core!=5.0.*,>=4.12 in /Users/sv/Library/Python/3.10/lib/python/site-packages (from ipykernel->jupyter->fynesse==0.1.0) (5.4.0)\n",
            "Requirement already satisfied: matplotlib-inline>=0.1 in /Users/sv/Library/Python/3.10/lib/python/site-packages (from ipykernel->jupyter->fynesse==0.1.0) (0.1.6)\n",
            "Requirement already satisfied: nest-asyncio in /Users/sv/Library/Python/3.10/lib/python/site-packages (from ipykernel->jupyter->fynesse==0.1.0) (1.5.8)\n",
            "Requirement already satisfied: psutil in /Users/sv/Library/Python/3.10/lib/python/site-packages (from ipykernel->jupyter->fynesse==0.1.0) (5.9.6)\n",
            "Requirement already satisfied: pyzmq>=20 in /Users/sv/Library/Python/3.10/lib/python/site-packages (from ipykernel->jupyter->fynesse==0.1.0) (25.1.1)\n",
            "Requirement already satisfied: tornado>=6.1 in /Users/sv/Library/Python/3.10/lib/python/site-packages (from ipykernel->jupyter->fynesse==0.1.0) (6.3.3)\n",
            "Requirement already satisfied: traitlets>=5.4.0 in /Users/sv/Library/Python/3.10/lib/python/site-packages (from ipykernel->jupyter->fynesse==0.1.0) (5.12.0)\n",
            "Requirement already satisfied: widgetsnbextension~=4.0.12 in /Library/Frameworks/Python.framework/Versions/3.10/lib/python3.10/site-packages (from ipywidgets->jupyter->fynesse==0.1.0) (4.0.13)\n",
            "Requirement already satisfied: jupyterlab-widgets~=3.0.12 in /Library/Frameworks/Python.framework/Versions/3.10/lib/python3.10/site-packages (from ipywidgets->jupyter->fynesse==0.1.0) (3.0.13)\n",
            "Requirement already satisfied: prompt-toolkit>=3.0.30 in /Users/sv/Library/Python/3.10/lib/python/site-packages (from jupyter-console->jupyter->fynesse==0.1.0) (3.0.39)\n",
            "Requirement already satisfied: pygments in /Users/sv/Library/Python/3.10/lib/python/site-packages (from jupyter-console->jupyter->fynesse==0.1.0) (2.16.1)\n",
            "Requirement already satisfied: async-lru>=1.0.0 in /Library/Frameworks/Python.framework/Versions/3.10/lib/python3.10/site-packages (from jupyterlab->jupyter->fynesse==0.1.0) (2.0.4)\n",
            "Requirement already satisfied: httpx>=0.25.0 in /Library/Frameworks/Python.framework/Versions/3.10/lib/python3.10/site-packages (from jupyterlab->jupyter->fynesse==0.1.0) (0.27.2)\n",
            "Requirement already satisfied: jinja2>=3.0.3 in /Library/Frameworks/Python.framework/Versions/3.10/lib/python3.10/site-packages (from jupyterlab->jupyter->fynesse==0.1.0) (3.1.4)\n",
            "Requirement already satisfied: jupyter-lsp>=2.0.0 in /Library/Frameworks/Python.framework/Versions/3.10/lib/python3.10/site-packages (from jupyterlab->jupyter->fynesse==0.1.0) (2.2.5)\n",
            "Requirement already satisfied: jupyter-server<3,>=2.4.0 in /Library/Frameworks/Python.framework/Versions/3.10/lib/python3.10/site-packages (from jupyterlab->jupyter->fynesse==0.1.0) (2.14.2)\n",
            "Requirement already satisfied: jupyterlab-server<3,>=2.27.1 in /Library/Frameworks/Python.framework/Versions/3.10/lib/python3.10/site-packages (from jupyterlab->jupyter->fynesse==0.1.0) (2.27.3)\n",
            "Requirement already satisfied: notebook-shim>=0.2 in /Library/Frameworks/Python.framework/Versions/3.10/lib/python3.10/site-packages (from jupyterlab->jupyter->fynesse==0.1.0) (0.2.4)\n",
            "Requirement already satisfied: setuptools>=40.1.0 in /Library/Frameworks/Python.framework/Versions/3.10/lib/python3.10/site-packages (from jupyterlab->jupyter->fynesse==0.1.0) (63.2.0)\n",
            "Requirement already satisfied: tomli>=1.2.2 in /Library/Frameworks/Python.framework/Versions/3.10/lib/python3.10/site-packages (from jupyterlab->jupyter->fynesse==0.1.0) (2.0.2)\n",
            "Requirement already satisfied: beautifulsoup4 in /Library/Frameworks/Python.framework/Versions/3.10/lib/python3.10/site-packages (from nbconvert->jupyter->fynesse==0.1.0) (4.12.3)\n",
            "Requirement already satisfied: bleach!=5.0.0 in /Library/Frameworks/Python.framework/Versions/3.10/lib/python3.10/site-packages (from nbconvert->jupyter->fynesse==0.1.0) (6.2.0)\n",
            "Requirement already satisfied: defusedxml in /Library/Frameworks/Python.framework/Versions/3.10/lib/python3.10/site-packages (from nbconvert->jupyter->fynesse==0.1.0) (0.7.1)\n",
            "Requirement already satisfied: jupyterlab-pygments in /Library/Frameworks/Python.framework/Versions/3.10/lib/python3.10/site-packages (from nbconvert->jupyter->fynesse==0.1.0) (0.3.0)\n",
            "Requirement already satisfied: markupsafe>=2.0 in /Library/Frameworks/Python.framework/Versions/3.10/lib/python3.10/site-packages (from nbconvert->jupyter->fynesse==0.1.0) (2.1.3)\n",
            "Requirement already satisfied: mistune<4,>=2.0.3 in /Library/Frameworks/Python.framework/Versions/3.10/lib/python3.10/site-packages (from nbconvert->jupyter->fynesse==0.1.0) (3.0.2)\n",
            "Requirement already satisfied: nbclient>=0.5.0 in /Library/Frameworks/Python.framework/Versions/3.10/lib/python3.10/site-packages (from nbconvert->jupyter->fynesse==0.1.0) (0.10.0)\n",
            "Requirement already satisfied: nbformat>=5.7 in /Library/Frameworks/Python.framework/Versions/3.10/lib/python3.10/site-packages (from nbconvert->jupyter->fynesse==0.1.0) (5.10.4)\n",
            "Requirement already satisfied: pandocfilters>=1.4.1 in /Library/Frameworks/Python.framework/Versions/3.10/lib/python3.10/site-packages (from nbconvert->jupyter->fynesse==0.1.0) (1.5.1)\n",
            "Requirement already satisfied: tinycss2 in /Library/Frameworks/Python.framework/Versions/3.10/lib/python3.10/site-packages (from nbconvert->jupyter->fynesse==0.1.0) (1.4.0)\n",
            "Requirement already satisfied: typing-extensions>=4.0.0 in /Library/Frameworks/Python.framework/Versions/3.10/lib/python3.10/site-packages (from async-lru>=1.0.0->jupyterlab->jupyter->fynesse==0.1.0) (4.8.0)\n",
            "Requirement already satisfied: webencodings in /Library/Frameworks/Python.framework/Versions/3.10/lib/python3.10/site-packages (from bleach!=5.0.0->nbconvert->jupyter->fynesse==0.1.0) (0.5.1)\n",
            "Requirement already satisfied: anyio in /Library/Frameworks/Python.framework/Versions/3.10/lib/python3.10/site-packages (from httpx>=0.25.0->jupyterlab->jupyter->fynesse==0.1.0) (4.6.2.post1)\n",
            "Requirement already satisfied: certifi in /Library/Frameworks/Python.framework/Versions/3.10/lib/python3.10/site-packages (from httpx>=0.25.0->jupyterlab->jupyter->fynesse==0.1.0) (2023.7.22)\n",
            "Requirement already satisfied: httpcore==1.* in /Library/Frameworks/Python.framework/Versions/3.10/lib/python3.10/site-packages (from httpx>=0.25.0->jupyterlab->jupyter->fynesse==0.1.0) (1.0.6)\n",
            "Requirement already satisfied: idna in /Library/Frameworks/Python.framework/Versions/3.10/lib/python3.10/site-packages (from httpx>=0.25.0->jupyterlab->jupyter->fynesse==0.1.0) (3.4)\n",
            "Requirement already satisfied: sniffio in /Library/Frameworks/Python.framework/Versions/3.10/lib/python3.10/site-packages (from httpx>=0.25.0->jupyterlab->jupyter->fynesse==0.1.0) (1.3.1)\n",
            "Requirement already satisfied: h11<0.15,>=0.13 in /Library/Frameworks/Python.framework/Versions/3.10/lib/python3.10/site-packages (from httpcore==1.*->httpx>=0.25.0->jupyterlab->jupyter->fynesse==0.1.0) (0.14.0)\n",
            "Requirement already satisfied: backcall in /Users/sv/Library/Python/3.10/lib/python/site-packages (from ipython>=7.23.1->ipykernel->jupyter->fynesse==0.1.0) (0.2.0)\n",
            "Requirement already satisfied: decorator in /Users/sv/Library/Python/3.10/lib/python/site-packages (from ipython>=7.23.1->ipykernel->jupyter->fynesse==0.1.0) (5.1.1)\n",
            "Requirement already satisfied: jedi>=0.16 in /Users/sv/Library/Python/3.10/lib/python/site-packages (from ipython>=7.23.1->ipykernel->jupyter->fynesse==0.1.0) (0.19.1)\n",
            "Requirement already satisfied: pickleshare in /Users/sv/Library/Python/3.10/lib/python/site-packages (from ipython>=7.23.1->ipykernel->jupyter->fynesse==0.1.0) (0.7.5)\n",
            "Requirement already satisfied: stack-data in /Users/sv/Library/Python/3.10/lib/python/site-packages (from ipython>=7.23.1->ipykernel->jupyter->fynesse==0.1.0) (0.6.3)\n",
            "Requirement already satisfied: exceptiongroup in /Users/sv/Library/Python/3.10/lib/python/site-packages (from ipython>=7.23.1->ipykernel->jupyter->fynesse==0.1.0) (1.1.3)\n",
            "Requirement already satisfied: pexpect>4.3 in /Users/sv/Library/Python/3.10/lib/python/site-packages (from ipython>=7.23.1->ipykernel->jupyter->fynesse==0.1.0) (4.8.0)\n",
            "Requirement already satisfied: platformdirs>=2.5 in /Users/sv/Library/Python/3.10/lib/python/site-packages (from jupyter-core!=5.0.*,>=4.12->ipykernel->jupyter->fynesse==0.1.0) (3.11.0)\n",
            "Requirement already satisfied: argon2-cffi>=21.1 in /Library/Frameworks/Python.framework/Versions/3.10/lib/python3.10/site-packages (from jupyter-server<3,>=2.4.0->jupyterlab->jupyter->fynesse==0.1.0) (23.1.0)\n",
            "Requirement already satisfied: jupyter-events>=0.9.0 in /Library/Frameworks/Python.framework/Versions/3.10/lib/python3.10/site-packages (from jupyter-server<3,>=2.4.0->jupyterlab->jupyter->fynesse==0.1.0) (0.10.0)\n",
            "Requirement already satisfied: jupyter-server-terminals>=0.4.4 in /Library/Frameworks/Python.framework/Versions/3.10/lib/python3.10/site-packages (from jupyter-server<3,>=2.4.0->jupyterlab->jupyter->fynesse==0.1.0) (0.5.3)\n",
            "Requirement already satisfied: overrides>=5.0 in /Library/Frameworks/Python.framework/Versions/3.10/lib/python3.10/site-packages (from jupyter-server<3,>=2.4.0->jupyterlab->jupyter->fynesse==0.1.0) (7.7.0)\n",
            "Requirement already satisfied: prometheus-client>=0.9 in /Library/Frameworks/Python.framework/Versions/3.10/lib/python3.10/site-packages (from jupyter-server<3,>=2.4.0->jupyterlab->jupyter->fynesse==0.1.0) (0.21.0)\n",
            "Requirement already satisfied: send2trash>=1.8.2 in /Library/Frameworks/Python.framework/Versions/3.10/lib/python3.10/site-packages (from jupyter-server<3,>=2.4.0->jupyterlab->jupyter->fynesse==0.1.0) (1.8.3)\n",
            "Requirement already satisfied: terminado>=0.8.3 in /Library/Frameworks/Python.framework/Versions/3.10/lib/python3.10/site-packages (from jupyter-server<3,>=2.4.0->jupyterlab->jupyter->fynesse==0.1.0) (0.18.1)\n",
            "Requirement already satisfied: websocket-client>=1.7 in /Library/Frameworks/Python.framework/Versions/3.10/lib/python3.10/site-packages (from jupyter-server<3,>=2.4.0->jupyterlab->jupyter->fynesse==0.1.0) (1.8.0)\n",
            "Requirement already satisfied: babel>=2.10 in /Library/Frameworks/Python.framework/Versions/3.10/lib/python3.10/site-packages (from jupyterlab-server<3,>=2.27.1->jupyterlab->jupyter->fynesse==0.1.0) (2.16.0)\n",
            "Requirement already satisfied: json5>=0.9.0 in /Library/Frameworks/Python.framework/Versions/3.10/lib/python3.10/site-packages (from jupyterlab-server<3,>=2.27.1->jupyterlab->jupyter->fynesse==0.1.0) (0.9.25)\n",
            "Requirement already satisfied: jsonschema>=4.18.0 in /Library/Frameworks/Python.framework/Versions/3.10/lib/python3.10/site-packages (from jupyterlab-server<3,>=2.27.1->jupyterlab->jupyter->fynesse==0.1.0) (4.23.0)\n",
            "Requirement already satisfied: requests>=2.31 in /Library/Frameworks/Python.framework/Versions/3.10/lib/python3.10/site-packages (from jupyterlab-server<3,>=2.27.1->jupyterlab->jupyter->fynesse==0.1.0) (2.31.0)\n",
            "Requirement already satisfied: fastjsonschema>=2.15 in /Library/Frameworks/Python.framework/Versions/3.10/lib/python3.10/site-packages (from nbformat>=5.7->nbconvert->jupyter->fynesse==0.1.0) (2.20.0)\n",
            "Requirement already satisfied: wcwidth in /Users/sv/Library/Python/3.10/lib/python/site-packages (from prompt-toolkit>=3.0.30->jupyter-console->jupyter->fynesse==0.1.0) (0.2.8)\n",
            "Requirement already satisfied: soupsieve>1.2 in /Library/Frameworks/Python.framework/Versions/3.10/lib/python3.10/site-packages (from beautifulsoup4->nbconvert->jupyter->fynesse==0.1.0) (2.6)\n",
            "Requirement already satisfied: argon2-cffi-bindings in /Library/Frameworks/Python.framework/Versions/3.10/lib/python3.10/site-packages (from argon2-cffi>=21.1->jupyter-server<3,>=2.4.0->jupyterlab->jupyter->fynesse==0.1.0) (21.2.0)\n",
            "Requirement already satisfied: parso<0.9.0,>=0.8.3 in /Users/sv/Library/Python/3.10/lib/python/site-packages (from jedi>=0.16->ipython>=7.23.1->ipykernel->jupyter->fynesse==0.1.0) (0.8.3)\n",
            "Requirement already satisfied: attrs>=22.2.0 in /Library/Frameworks/Python.framework/Versions/3.10/lib/python3.10/site-packages (from jsonschema>=4.18.0->jupyterlab-server<3,>=2.27.1->jupyterlab->jupyter->fynesse==0.1.0) (24.2.0)\n",
            "Requirement already satisfied: jsonschema-specifications>=2023.03.6 in /Library/Frameworks/Python.framework/Versions/3.10/lib/python3.10/site-packages (from jsonschema>=4.18.0->jupyterlab-server<3,>=2.27.1->jupyterlab->jupyter->fynesse==0.1.0) (2024.10.1)\n",
            "Requirement already satisfied: referencing>=0.28.4 in /Library/Frameworks/Python.framework/Versions/3.10/lib/python3.10/site-packages (from jsonschema>=4.18.0->jupyterlab-server<3,>=2.27.1->jupyterlab->jupyter->fynesse==0.1.0) (0.35.1)\n",
            "Requirement already satisfied: rpds-py>=0.7.1 in /Library/Frameworks/Python.framework/Versions/3.10/lib/python3.10/site-packages (from jsonschema>=4.18.0->jupyterlab-server<3,>=2.27.1->jupyterlab->jupyter->fynesse==0.1.0) (0.21.0)\n",
            "Requirement already satisfied: python-json-logger>=2.0.4 in /Library/Frameworks/Python.framework/Versions/3.10/lib/python3.10/site-packages (from jupyter-events>=0.9.0->jupyter-server<3,>=2.4.0->jupyterlab->jupyter->fynesse==0.1.0) (2.0.7)\n",
            "Requirement already satisfied: pyyaml>=5.3 in /Library/Frameworks/Python.framework/Versions/3.10/lib/python3.10/site-packages (from jupyter-events>=0.9.0->jupyter-server<3,>=2.4.0->jupyterlab->jupyter->fynesse==0.1.0) (6.0.2)\n",
            "Requirement already satisfied: rfc3339-validator in /Library/Frameworks/Python.framework/Versions/3.10/lib/python3.10/site-packages (from jupyter-events>=0.9.0->jupyter-server<3,>=2.4.0->jupyterlab->jupyter->fynesse==0.1.0) (0.1.4)\n",
            "Requirement already satisfied: rfc3986-validator>=0.1.1 in /Library/Frameworks/Python.framework/Versions/3.10/lib/python3.10/site-packages (from jupyter-events>=0.9.0->jupyter-server<3,>=2.4.0->jupyterlab->jupyter->fynesse==0.1.0) (0.1.1)\n",
            "Requirement already satisfied: ptyprocess>=0.5 in /Users/sv/Library/Python/3.10/lib/python/site-packages (from pexpect>4.3->ipython>=7.23.1->ipykernel->jupyter->fynesse==0.1.0) (0.7.0)\n",
            "Requirement already satisfied: charset-normalizer<4,>=2 in /Library/Frameworks/Python.framework/Versions/3.10/lib/python3.10/site-packages (from requests>=2.31->jupyterlab-server<3,>=2.27.1->jupyterlab->jupyter->fynesse==0.1.0) (3.3.1)\n",
            "Requirement already satisfied: urllib3<3,>=1.21.1 in /Library/Frameworks/Python.framework/Versions/3.10/lib/python3.10/site-packages (from requests>=2.31->jupyterlab-server<3,>=2.27.1->jupyterlab->jupyter->fynesse==0.1.0) (2.0.7)\n",
            "Requirement already satisfied: executing>=1.2.0 in /Users/sv/Library/Python/3.10/lib/python/site-packages (from stack-data->ipython>=7.23.1->ipykernel->jupyter->fynesse==0.1.0) (2.0.0)\n",
            "Requirement already satisfied: asttokens>=2.1.0 in /Users/sv/Library/Python/3.10/lib/python/site-packages (from stack-data->ipython>=7.23.1->ipykernel->jupyter->fynesse==0.1.0) (2.4.0)\n",
            "Requirement already satisfied: pure-eval in /Users/sv/Library/Python/3.10/lib/python/site-packages (from stack-data->ipython>=7.23.1->ipykernel->jupyter->fynesse==0.1.0) (0.2.2)\n",
            "Requirement already satisfied: fqdn in /Library/Frameworks/Python.framework/Versions/3.10/lib/python3.10/site-packages (from jsonschema[format-nongpl]>=4.18.0->jupyter-events>=0.9.0->jupyter-server<3,>=2.4.0->jupyterlab->jupyter->fynesse==0.1.0) (1.5.1)\n",
            "Requirement already satisfied: isoduration in /Library/Frameworks/Python.framework/Versions/3.10/lib/python3.10/site-packages (from jsonschema[format-nongpl]>=4.18.0->jupyter-events>=0.9.0->jupyter-server<3,>=2.4.0->jupyterlab->jupyter->fynesse==0.1.0) (20.11.0)\n",
            "Requirement already satisfied: jsonpointer>1.13 in /Library/Frameworks/Python.framework/Versions/3.10/lib/python3.10/site-packages (from jsonschema[format-nongpl]>=4.18.0->jupyter-events>=0.9.0->jupyter-server<3,>=2.4.0->jupyterlab->jupyter->fynesse==0.1.0) (3.0.0)\n",
            "Requirement already satisfied: uri-template in /Library/Frameworks/Python.framework/Versions/3.10/lib/python3.10/site-packages (from jsonschema[format-nongpl]>=4.18.0->jupyter-events>=0.9.0->jupyter-server<3,>=2.4.0->jupyterlab->jupyter->fynesse==0.1.0) (1.3.0)\n",
            "Requirement already satisfied: webcolors>=24.6.0 in /Library/Frameworks/Python.framework/Versions/3.10/lib/python3.10/site-packages (from jsonschema[format-nongpl]>=4.18.0->jupyter-events>=0.9.0->jupyter-server<3,>=2.4.0->jupyterlab->jupyter->fynesse==0.1.0) (24.8.0)\n",
            "Requirement already satisfied: cffi>=1.0.1 in /Library/Frameworks/Python.framework/Versions/3.10/lib/python3.10/site-packages (from argon2-cffi-bindings->argon2-cffi>=21.1->jupyter-server<3,>=2.4.0->jupyterlab->jupyter->fynesse==0.1.0) (1.17.1)\n",
            "Requirement already satisfied: pycparser in /Library/Frameworks/Python.framework/Versions/3.10/lib/python3.10/site-packages (from cffi>=1.0.1->argon2-cffi-bindings->argon2-cffi>=21.1->jupyter-server<3,>=2.4.0->jupyterlab->jupyter->fynesse==0.1.0) (2.22)\n",
            "Requirement already satisfied: arrow>=0.15.0 in /Library/Frameworks/Python.framework/Versions/3.10/lib/python3.10/site-packages (from isoduration->jsonschema[format-nongpl]>=4.18.0->jupyter-events>=0.9.0->jupyter-server<3,>=2.4.0->jupyterlab->jupyter->fynesse==0.1.0) (1.3.0)\n",
            "Requirement already satisfied: types-python-dateutil>=2.8.10 in /Library/Frameworks/Python.framework/Versions/3.10/lib/python3.10/site-packages (from arrow>=0.15.0->isoduration->jsonschema[format-nongpl]>=4.18.0->jupyter-events>=0.9.0->jupyter-server<3,>=2.4.0->jupyterlab->jupyter->fynesse==0.1.0) (2.9.0.20241003)\n",
            "Building wheels for collected packages: fynesse\n",
            "  Building wheel for fynesse (setup.py) ... \u001b[?25ldone\n",
            "\u001b[?25h  Created wheel for fynesse: filename=fynesse-0.1.0-py3-none-any.whl size=10854 sha256=fa662ffbd742be557c5c214a43b70c7bc1649ab1bd4e424145fa758f5288e222\n",
            "  Stored in directory: /private/var/folders/tq/f7lcjhp564g26624rbp38l240000gn/T/pip-ephem-wheel-cache-_h4c5_l7/wheels/3c/89/03/7b7d5f4887f9d2568c1996e5bc272e3e23ab7406662c635b84\n",
            "Successfully built fynesse\n",
            "Installing collected packages: fynesse\n",
            "Successfully installed fynesse-0.1.0\n",
            "Note: you may need to restart the kernel to use updated packages.\n",
            "Requirement already satisfied: osmnx in /Library/Frameworks/Python.framework/Versions/3.10/lib/python3.10/site-packages (1.9.4)\n",
            "Requirement already satisfied: geopandas<0.15,>=0.12 in /Library/Frameworks/Python.framework/Versions/3.10/lib/python3.10/site-packages (from osmnx) (0.14.4)\n",
            "Requirement already satisfied: networkx<3.4,>=2.5 in /Library/Frameworks/Python.framework/Versions/3.10/lib/python3.10/site-packages (from osmnx) (3.3)\n",
            "Requirement already satisfied: numpy<1.27,>=1.20 in /Library/Frameworks/Python.framework/Versions/3.10/lib/python3.10/site-packages (from osmnx) (1.24.2)\n",
            "Requirement already satisfied: pandas<2.3,>=1.1 in /Library/Frameworks/Python.framework/Versions/3.10/lib/python3.10/site-packages (from osmnx) (2.1.1)\n",
            "Requirement already satisfied: requests<2.33,>=2.27 in /Library/Frameworks/Python.framework/Versions/3.10/lib/python3.10/site-packages (from osmnx) (2.31.0)\n",
            "Requirement already satisfied: shapely<2.1,>=2.0 in /Library/Frameworks/Python.framework/Versions/3.10/lib/python3.10/site-packages (from osmnx) (2.0.6)\n",
            "Requirement already satisfied: fiona>=1.8.21 in /Library/Frameworks/Python.framework/Versions/3.10/lib/python3.10/site-packages (from geopandas<0.15,>=0.12->osmnx) (1.10.1)\n",
            "Requirement already satisfied: packaging in /Library/Frameworks/Python.framework/Versions/3.10/lib/python3.10/site-packages (from geopandas<0.15,>=0.12->osmnx) (23.0)\n",
            "Requirement already satisfied: pyproj>=3.3.0 in /Library/Frameworks/Python.framework/Versions/3.10/lib/python3.10/site-packages (from geopandas<0.15,>=0.12->osmnx) (3.7.0)\n",
            "Requirement already satisfied: python-dateutil>=2.8.2 in /Library/Frameworks/Python.framework/Versions/3.10/lib/python3.10/site-packages (from pandas<2.3,>=1.1->osmnx) (2.8.2)\n",
            "Requirement already satisfied: pytz>=2020.1 in /Library/Frameworks/Python.framework/Versions/3.10/lib/python3.10/site-packages (from pandas<2.3,>=1.1->osmnx) (2023.3.post1)\n",
            "Requirement already satisfied: tzdata>=2022.1 in /Library/Frameworks/Python.framework/Versions/3.10/lib/python3.10/site-packages (from pandas<2.3,>=1.1->osmnx) (2023.3)\n",
            "Requirement already satisfied: charset-normalizer<4,>=2 in /Library/Frameworks/Python.framework/Versions/3.10/lib/python3.10/site-packages (from requests<2.33,>=2.27->osmnx) (3.3.1)\n",
            "Requirement already satisfied: idna<4,>=2.5 in /Library/Frameworks/Python.framework/Versions/3.10/lib/python3.10/site-packages (from requests<2.33,>=2.27->osmnx) (3.4)\n",
            "Requirement already satisfied: urllib3<3,>=1.21.1 in /Library/Frameworks/Python.framework/Versions/3.10/lib/python3.10/site-packages (from requests<2.33,>=2.27->osmnx) (2.0.7)\n",
            "Requirement already satisfied: certifi>=2017.4.17 in /Library/Frameworks/Python.framework/Versions/3.10/lib/python3.10/site-packages (from requests<2.33,>=2.27->osmnx) (2023.7.22)\n",
            "Requirement already satisfied: attrs>=19.2.0 in /Library/Frameworks/Python.framework/Versions/3.10/lib/python3.10/site-packages (from fiona>=1.8.21->geopandas<0.15,>=0.12->osmnx) (24.2.0)\n",
            "Requirement already satisfied: click~=8.0 in /Library/Frameworks/Python.framework/Versions/3.10/lib/python3.10/site-packages (from fiona>=1.8.21->geopandas<0.15,>=0.12->osmnx) (8.1.3)\n",
            "Requirement already satisfied: click-plugins>=1.0 in /Library/Frameworks/Python.framework/Versions/3.10/lib/python3.10/site-packages (from fiona>=1.8.21->geopandas<0.15,>=0.12->osmnx) (1.1.1)\n",
            "Requirement already satisfied: cligj>=0.5 in /Library/Frameworks/Python.framework/Versions/3.10/lib/python3.10/site-packages (from fiona>=1.8.21->geopandas<0.15,>=0.12->osmnx) (0.7.2)\n",
            "Requirement already satisfied: six>=1.5 in /Library/Frameworks/Python.framework/Versions/3.10/lib/python3.10/site-packages (from python-dateutil>=2.8.2->pandas<2.3,>=1.1->osmnx) (1.16.0)\n",
            "Note: you may need to restart the kernel to use updated packages.\n"
          ]
        }
      ],
      "source": [
        "%pip uninstall --yes fynesse\n",
        "%pip install git+https://github.com/sdenyskov/sd995_ads_2024.git\n",
        "%pip install osmnx"
      ]
    },
    {
      "cell_type": "code",
      "execution_count": 15,
      "metadata": {
        "id": "3x_sHEuXn08a"
      },
      "outputs": [],
      "source": [
        "import pandas as pd\n",
        "import numpy as np\n",
        "import osmnx as ox\n",
        "import fynesse"
      ]
    },
    {
      "cell_type": "code",
      "execution_count": 16,
      "metadata": {
        "id": "zb4p6V8_376U"
      },
      "outputs": [
        {
          "data": {
            "text/plain": [
              "'https://raw.githubusercontent.com/lawrennd/datasets_mirror/main/'"
            ]
          },
          "execution_count": 16,
          "metadata": {},
          "output_type": "execute_result"
        }
      ],
      "source": [
        "# Your code here\n",
        "fynesse.access.config['data_url']"
      ]
    },
    {
      "cell_type": "markdown",
      "metadata": {
        "id": "8V9nPm-tsXlQ"
      },
      "source": [
        "Write a short paragraph summarising what you did in the Access stage."
      ]
    },
    {
      "cell_type": "markdown",
      "metadata": {
        "id": "MIweGJKkn1LW"
      },
      "source": [
        "## Assess"
      ]
    },
    {
      "cell_type": "code",
      "execution_count": null,
      "metadata": {
        "id": "FUy3b7lin2wU"
      },
      "outputs": [],
      "source": []
    },
    {
      "cell_type": "markdown",
      "metadata": {
        "id": "Kr5-wBZs1BDT"
      },
      "source": [
        "Write a short paragraph summarising what you did in the Assess stage."
      ]
    },
    {
      "cell_type": "code",
      "execution_count": null,
      "metadata": {
        "id": "RpzpG97O1JTs"
      },
      "outputs": [],
      "source": [
        "# TODO: your answer here"
      ]
    },
    {
      "cell_type": "markdown",
      "metadata": {
        "id": "TIzv84Kcn3Dj"
      },
      "source": [
        "## Address"
      ]
    },
    {
      "cell_type": "code",
      "execution_count": null,
      "metadata": {
        "id": "P9GQVzaBn-YC"
      },
      "outputs": [],
      "source": []
    },
    {
      "cell_type": "code",
      "execution_count": null,
      "metadata": {
        "id": "Ukm6s3Fyn57t"
      },
      "outputs": [],
      "source": [
        "def estimate_students(latitude: float, longitude: float) -> float:\n",
        "    \"\"\"\n",
        "    Args:\n",
        "    latitude (float): The latitude coordinate.\n",
        "    longitude (float): The longitude coordinate.\n",
        "\n",
        "    Returns:\n",
        "    float: Estimated share of students in that area (value between 0 and 1).\n",
        "    \"\"\"\n",
        "    # TODO: implement\n",
        "    return NotImplementedError\n",
        "\n",
        "\n",
        "def estimate_something(latitude: float, longitude: float) -> float:\n",
        "    #TODO: rename function\n",
        "    \"\"\"\n",
        "    Args:\n",
        "    latitude (float): The latitude coordinate.\n",
        "    longitude (float): The longitude coordinate.\n",
        "\n",
        "    Returns:\n",
        "    float: Estimated value, percentage, probability, etc\n",
        "    \"\"\"\n",
        "    # TODO: implement\n",
        "    return NotImplementedError"
      ]
    },
    {
      "cell_type": "markdown",
      "metadata": {
        "id": "ktZ4NrcU1NsX"
      },
      "source": [
        "Write a short paragraph summarising what you did in the Address stage."
      ]
    },
    {
      "cell_type": "code",
      "execution_count": null,
      "metadata": {
        "id": "WQVi5mRF1R7V"
      },
      "outputs": [],
      "source": [
        "# TODO: your answer here"
      ]
    },
    {
      "cell_type": "markdown",
      "metadata": {
        "id": "M03wH58P5V3K"
      },
      "source": [
        "## Discussion"
      ]
    },
    {
      "cell_type": "markdown",
      "metadata": {
        "id": "0OlifPaO6Twy"
      },
      "source": [
        "#### Story and structure"
      ]
    },
    {
      "cell_type": "code",
      "execution_count": null,
      "metadata": {
        "id": "vHe7s9WP8vc_"
      },
      "outputs": [],
      "source": [
        "# Marks awarded for inline explanation and structure, no need for answers here. Go over your notebook to make sure you explain what you did and why."
      ]
    },
    {
      "cell_type": "markdown",
      "metadata": {
        "id": "nQXOZrmh6ZkH"
      },
      "source": [
        "#### Design decisions"
      ]
    },
    {
      "cell_type": "code",
      "execution_count": null,
      "metadata": {
        "id": "VZpLGlIQ6WOB"
      },
      "outputs": [],
      "source": [
        "# TODO: your answer here"
      ]
    },
    {
      "cell_type": "markdown",
      "metadata": {
        "id": "uXTy0gCJ7FqJ"
      },
      "source": [
        "#### Comparison"
      ]
    },
    {
      "cell_type": "code",
      "execution_count": null,
      "metadata": {
        "id": "StIuDGx26YT3"
      },
      "outputs": [],
      "source": [
        "# TODO: your answer here"
      ]
    },
    {
      "cell_type": "markdown",
      "metadata": {
        "id": "DRnOzM_Y7Jt7"
      },
      "source": [
        "#### Reusability"
      ]
    },
    {
      "cell_type": "code",
      "execution_count": null,
      "metadata": {
        "id": "XNin895_6YgZ"
      },
      "outputs": [],
      "source": [
        "# TODO: your answer here"
      ]
    },
    {
      "cell_type": "markdown",
      "metadata": {
        "id": "_L96aZiR4WVL"
      },
      "source": [
        "# Task 2: miniproject (13 marks)"
      ]
    },
    {
      "cell_type": "markdown",
      "metadata": {
        "id": "6i81p_90A1at"
      },
      "source": [
        "We expect your miniproject to be more advanced than the example project, and that's why we allocated more marks to it. The first 7 marks will be allocated similarly to Task 1.\n",
        "\n",
        "6 remaining points are *bonus* - they will be allocated for going far beyond what you did in Task 1, either in data access, assess, address or story."
      ]
    },
    {
      "cell_type": "markdown",
      "metadata": {
        "id": "USNwRwBaCzOC"
      },
      "source": [
        "#### Choosing your topic\n",
        "\n",
        "You are given a lot of flexibility in choosing a miniproject topic.\n",
        "\n",
        "Some hints:\n",
        "- Your project should be based on the Census, Price Paid, OSM and Election datasets.\n",
        "- It's a good idea to pick something that you are interested in.\n",
        "- Bear in mind there are no marks dedicated to your overall prediction accuracy, so there is no advantage to picking 'easy' topics. It is perfectly ok to not reach significant predictive power, as long as you followed the proper process.\n",
        "\n",
        "Some guidelines:\n",
        "- Do not make a miniproject that furthers discriminatory rhetoric. In general, avoid topics that could be insensitive. If in doubt, message Radzim Sendyka (and *cc* Christian Cabrera) to discuss if this applies to your idea.\n",
        "- Please avoid any projects that would require approval from the ethics comittee.\n",
        "- Pick the scope of your projects that will allow you to show your skills. Some projects might not be challenging enough while others might be hard to make any progress in. Don't be scared to report negative results.\n",
        "\n",
        "Please email Radzim Sendyka (and *cc* Christian Cabrera) with your project idea when you begin working on it, so we can let you know about any potential concerns (eg. potentially insensive, too off-topic, too simple, too complex) as soon as we can. You can change the topic up to the submission deadline, but let us know again in cases of major changes."
      ]
    },
    {
      "cell_type": "markdown",
      "metadata": {
        "id": "pwjwzdgvAGI-"
      },
      "source": [
        "Most of the advice from Task 1 still applies, particularly around using an online relational database, structuring your notebook, fynesse, access-assess-address, data readiness levels, hints."
      ]
    },
    {
      "cell_type": "markdown",
      "metadata": {
        "id": "9i6X92QHnuAT"
      },
      "source": [
        "Sources you may want to include in your data include:\n",
        "\n",
        "  - UK Census Data\n",
        "    - UK Census 2021 data [here](https://www.ons.gov.uk/search?topics=9731,6646,3845,9497,4262,4128,7755,4994,6885,9724,7367&filter=datasets) or [here](https://www.nomisweb.co.uk/sources/census_2021_bulk).\n",
        "    - Historical Census data [here](https://www.ons.gov.uk/census/historiccensusdata).\n",
        "    - Geographic coordinates of Census Output Areas [here](https://www.data.gov.uk/dataset/4d4e021d-fe98-4a0e-88e2-3ead84538537/output-areas-december-2021-boundaries-ew-bgc-v2).\n",
        "  - Spatial data\n",
        "    - You should already have a connection to OpenStreetMaps.\n",
        "    - You might want to also download the entire map for England (or more) [here](https://download.openstreetmap.fr/extracts/) or [here](https://wiki.openstreetmap.org/wiki/Planet.osm).\n",
        "  - Election data\n",
        "    - Recent Election Results data [here](https://commonslibrary.parliament.uk/research-briefings/cbp-10009/)\n",
        "    - Historical Election Results data [here](https://commonslibrary.parliament.uk/research-briefings/cbp-8647/#fullreport).\n",
        "    - Lookup reference between Output Areas and Parliamentary Constituencies [here](https://geoportal.statistics.gov.uk/datasets/5968b5b2c0f14dd29ba277beaae6dec3_0/explore).\n",
        "  - Price Paid Data\n",
        "    - You should have this data already in your database.\n",
        "  - OSM\n",
        "    - You should know how to access this data from previous practicals."
      ]
    },
    {
      "cell_type": "markdown",
      "metadata": {
        "id": "C0etneFRoDRx"
      },
      "source": [
        "Example ideas:\n",
        "\n",
        "- Are areas correlated in terms of census results? If so, find the areas that are leading change, and the ones that are following.\n",
        "- Which historical census variables used to predict election results in the past, but don't seem related anymore?\n",
        "- Census results are only updated once a decade, but new roads and houses are built every year. Can census results, for example those relating to travel, be predicted from basic map information, such as street networks?\n",
        "- Building new houses is our best way of tackling the housing crisis. Use the information on new builds in the house prices dataset to explore what factors drive new developments, and make predictions for where the next houses will be built.\n",
        "- House styles differ a lot between regions and inhabitants. Can you make any predictions about the house or area simply from looking at it's geometric shape and orientation?\n",
        "\n",
        "Note that the ideas are just a starting point question. You should include more in-depth investigations into the data, validate your findings where applicable, and prepare visualisations."
      ]
    },
    {
      "cell_type": "markdown",
      "metadata": {
        "id": "8lW1FTFyBFFr"
      },
      "source": [
        "## Title and description"
      ]
    },
    {
      "cell_type": "code",
      "execution_count": null,
      "metadata": {
        "id": "k225EcHeA_aV"
      },
      "outputs": [],
      "source": [
        "# TODO: title your miniproject"
      ]
    },
    {
      "cell_type": "code",
      "execution_count": null,
      "metadata": {
        "id": "gtVWDrKcBIVJ"
      },
      "outputs": [],
      "source": [
        "# TODO: provide a very brief description of the goals of your miniproject"
      ]
    },
    {
      "cell_type": "markdown",
      "metadata": {
        "id": "6UH7IY3aBml-"
      },
      "source": [
        "## TODO: Your Project Goes Here"
      ]
    },
    {
      "cell_type": "code",
      "execution_count": null,
      "metadata": {
        "id": "fBlEztj4ZqqN"
      },
      "outputs": [],
      "source": []
    },
    {
      "cell_type": "markdown",
      "metadata": {
        "id": "jjIIXwV2HYFT"
      },
      "source": [
        "## Conclusions\n",
        "\n",
        "The below code is for marking purpuses only, and not part of your project. It helps us gather the data we need without asking you for database credentials, and scouring github pages. This is mandatory. If the code does not work for you, let us know immediately."
      ]
    },
    {
      "cell_type": "markdown",
      "metadata": {
        "id": "9ccS8vrjHbh3"
      },
      "source": [
        "1) Please re-run the code from Practical 1 to help us see the contents of your database. We recommend you include all data sources there, but some smaller inputs are fine to use as files."
      ]
    },
    {
      "cell_type": "code",
      "execution_count": null,
      "metadata": {
        "id": "XNLYfO92HZ_G"
      },
      "outputs": [],
      "source": [
        "tables = %sql SHOW TABLES;\n",
        "\n",
        "for row in tables:\n",
        "    table_name = row[0]\n",
        "    print(f\"\\nTable: {table_name}\")\n",
        "\n",
        "    table_status = %sql SHOW TABLE STATUS LIKE '{table_name}';\n",
        "    approx_row_count = table_status[0][4] if table_status else 'Unable to fetch row count'\n",
        "    print(\"\\nApprox Row Count:\", approx_row_count//100000/10, \"M\")\n",
        "\n",
        "    first_5_rows = %sql SELECT * FROM `{table_name}` LIMIT 5;\n",
        "    print(first_5_rows)\n",
        "\n",
        "    indices = %sql SHOW INDEX FROM `{table_name}`;\n",
        "    if indices:\n",
        "        print(\"\\nIndices:\")\n",
        "        for index in indices:\n",
        "            print(f\" - {index[2]} ({index[10]}): Column {index[4]}\")\n",
        "    else:\n",
        "        print(\"\\nNo indices set on this table.\")"
      ]
    },
    {
      "cell_type": "markdown",
      "metadata": {
        "id": "E8r6UgTsHmms"
      },
      "source": [
        "2) Please paste a link to your fynesse library below, and make sure it's publically accessible. Also run the code below, and make sure it worked, printing out the contents of your library."
      ]
    },
    {
      "cell_type": "code",
      "execution_count": 8,
      "metadata": {
        "id": "CqbzdvzhJTMN"
      },
      "outputs": [],
      "source": [
        "fynesse_url = 'https://github.com/sdenyskov/sd995_ads_2024.git' # '<your-url-library-here>'"
      ]
    },
    {
      "cell_type": "code",
      "execution_count": 9,
      "metadata": {
        "id": "2h-g3gEhHq0b"
      },
      "outputs": [
        {
          "name": "stdout",
          "output_type": "stream",
          "text": [
            "FYNESSE STRUCTURE:\n",
            "fynesse/\n",
            "    defaults.yml\n",
            "    address.py\n",
            "    config.py\n",
            "    access.py\n",
            "    __init__.py\n",
            "    assess.py\n",
            "    __pycache__/\n",
            "        address.cpython-310.pyc\n",
            "        assess.cpython-310.pyc\n",
            "        config.cpython-310.pyc\n",
            "        access.cpython-310.pyc\n",
            "        __init__.cpython-310.pyc\n",
            "FILE CONTENTS\n",
            "--- Contents of /Library/Frameworks/Python.framework/Versions/3.10/lib/python3.10/site-packages/fynesse/defaults.yml ---\n",
            "\n",
            "# Place config informatio you want everyone to have here.\n",
            "data_url: https://raw.githubusercontent.com/lawrennd/datasets_mirror/main/\n",
            "\n",
            "\n",
            "--------------------------------------------------\n",
            "\n",
            "--- Contents of /Library/Frameworks/Python.framework/Versions/3.10/lib/python3.10/site-packages/fynesse/address.py ---\n",
            "\n",
            "# This file contains code for suporting addressing questions in the data\n",
            "\n",
            "\"\"\"# Here are some of the imports we might expect \n",
            "import sklearn.model_selection  as ms\n",
            "import sklearn.linear_model as lm\n",
            "import sklearn.svm as svm\n",
            "import sklearn.naive_bayes as naive_bayes\n",
            "import sklearn.tree as tree\n",
            "\n",
            "import GPy\n",
            "import torch\n",
            "import tensorflow as tf\n",
            "\n",
            "# Or if it's a statistical analysis\n",
            "import scipy.stats\"\"\"\n",
            "\n",
            "\"\"\"Address a particular question that arises from the data\"\"\"\n",
            "\n",
            "\n",
            "\n",
            "--------------------------------------------------\n",
            "\n",
            "--- Contents of /Library/Frameworks/Python.framework/Versions/3.10/lib/python3.10/site-packages/fynesse/config.py ---\n",
            "\n",
            "import os\n",
            "import yaml\n",
            "\n",
            "default_file = os.path.join(os.path.dirname(__file__), \"defaults.yml\")\n",
            "local_file = os.path.abspath(os.path.join(os.path.dirname(__file__), \"machine.yml\"))\n",
            "user_file = '_config.yml'\n",
            "\n",
            "config = {}\n",
            "\n",
            "if os.path.exists(default_file):\n",
            "    with open(default_file) as file:\n",
            "        config.update(yaml.load(file, Loader=yaml.FullLoader))\n",
            "\n",
            "if os.path.exists(local_file):\n",
            "    with open(local_file) as file:\n",
            "        config.update(yaml.load(file, Loader=yaml.FullLoader))\n",
            "\n",
            "if os.path.exists(user_file):\n",
            "    with open(user_file) as file:\n",
            "        config.update(yaml.load(file, Loader=yaml.FullLoader))\n",
            "\n",
            "if config=={}:\n",
            "    raise ValueError(\n",
            "        \"No configuration file found at either \"\n",
            "        + user_file\n",
            "        + \" or \"\n",
            "        + local_file\n",
            "        + \" or \"\n",
            "        + default_file\n",
            "        + \".\"\n",
            "    )\n",
            "\n",
            "for key, item in config.items():\n",
            "    if item is str:\n",
            "        config[key] = os.path.expandvars(item)\n",
            "\n",
            "\n",
            "--------------------------------------------------\n",
            "\n",
            "--- Contents of /Library/Frameworks/Python.framework/Versions/3.10/lib/python3.10/site-packages/fynesse/access.py ---\n",
            "\n",
            "from .config import *\n",
            "\n",
            "\"\"\"These are the types of import we might expect in this file\n",
            "import httplib2\n",
            "import oauth2\n",
            "import tables\n",
            "import mongodb\n",
            "import sqlite\"\"\"\n",
            "\n",
            "# This file accesses the data\n",
            "\n",
            "\"\"\"Place commands in this file to access the data electronically. Don't remove any missing values, or deal with outliers. Make sure you have legalities correct, both intellectual property and personal data privacy rights. Beyond the legal side also think about the ethical issues around this data. \"\"\"\n",
            "\n",
            "def data():\n",
            "    \"\"\"Read the data from the web or local file, returning structured format such as a data frame\"\"\"\n",
            "    raise NotImplementedError\n",
            "\n",
            "\n",
            "\n",
            "--------------------------------------------------\n",
            "\n",
            "--- Contents of /Library/Frameworks/Python.framework/Versions/3.10/lib/python3.10/site-packages/fynesse/__init__.py ---\n",
            "\n",
            "from . import access\n",
            "from . import assess\n",
            "\n",
            "\n",
            "--------------------------------------------------\n",
            "\n",
            "--- Contents of /Library/Frameworks/Python.framework/Versions/3.10/lib/python3.10/site-packages/fynesse/assess.py ---\n",
            "\n",
            "from .config import *\n",
            "\n",
            "from . import access\n",
            "\n",
            "\"\"\"These are the types of import we might expect in this file\n",
            "import pandas\n",
            "import bokeh\n",
            "import seaborn\n",
            "import matplotlib.pyplot as plt\n",
            "import sklearn.decomposition as decomposition\n",
            "import sklearn.feature_extraction\"\"\"\n",
            "\n",
            "\"\"\"Place commands in this file to assess the data you have downloaded. How are missing values encoded, how are outliers encoded? What do columns represent, makes rure they are correctly labeled. How is the data indexed. Crete visualisation routines to assess the data (e.g. in bokeh). Ensure that date formats are correct and correctly timezoned.\"\"\"\n",
            "\n",
            "\n",
            "def data():\n",
            "    \"\"\"Load the data from access and ensure missing values are correctly encoded as well as indices correct, column names informative, date and times correctly formatted. Return a structured data structure such as a data frame.\"\"\"\n",
            "    df = access.data()\n",
            "    raise NotImplementedError\n",
            "\n",
            "def query(data):\n",
            "    \"\"\"Request user input for some aspect of the data.\"\"\"\n",
            "    raise NotImplementedError\n",
            "\n",
            "def view(data):\n",
            "    \"\"\"Provide a view of the data that allows the user to verify some aspect of its quality.\"\"\"\n",
            "    raise NotImplementedError\n",
            "\n",
            "def labelled(data):\n",
            "    \"\"\"Provide a labelled set of data ready for supervised learning.\"\"\"\n",
            "    raise NotImplementedError\n",
            "\n",
            "\n",
            "--------------------------------------------------\n",
            "\n",
            "--- Contents of /Library/Frameworks/Python.framework/Versions/3.10/lib/python3.10/site-packages/fynesse/__pycache__/address.cpython-310.pyc ---\n",
            "\n",
            "Could not read /Library/Frameworks/Python.framework/Versions/3.10/lib/python3.10/site-packages/fynesse/__pycache__/address.cpython-310.pyc: 'utf-8' codec can't decode byte 0xc6 in position 9: invalid continuation byte\n",
            "\n",
            "--------------------------------------------------\n",
            "\n",
            "--- Contents of /Library/Frameworks/Python.framework/Versions/3.10/lib/python3.10/site-packages/fynesse/__pycache__/assess.cpython-310.pyc ---\n",
            "\n",
            "Could not read /Library/Frameworks/Python.framework/Versions/3.10/lib/python3.10/site-packages/fynesse/__pycache__/assess.cpython-310.pyc: 'utf-8' codec can't decode byte 0xc6 in position 9: invalid continuation byte\n",
            "\n",
            "--------------------------------------------------\n",
            "\n",
            "--- Contents of /Library/Frameworks/Python.framework/Versions/3.10/lib/python3.10/site-packages/fynesse/__pycache__/config.cpython-310.pyc ---\n",
            "\n",
            "Could not read /Library/Frameworks/Python.framework/Versions/3.10/lib/python3.10/site-packages/fynesse/__pycache__/config.cpython-310.pyc: 'utf-8' codec can't decode byte 0xc6 in position 9: invalid continuation byte\n",
            "\n",
            "--------------------------------------------------\n",
            "\n",
            "--- Contents of /Library/Frameworks/Python.framework/Versions/3.10/lib/python3.10/site-packages/fynesse/__pycache__/access.cpython-310.pyc ---\n",
            "\n",
            "Could not read /Library/Frameworks/Python.framework/Versions/3.10/lib/python3.10/site-packages/fynesse/__pycache__/access.cpython-310.pyc: 'utf-8' codec can't decode byte 0xc6 in position 9: invalid continuation byte\n",
            "\n",
            "--------------------------------------------------\n",
            "\n",
            "--- Contents of /Library/Frameworks/Python.framework/Versions/3.10/lib/python3.10/site-packages/fynesse/__pycache__/__init__.cpython-310.pyc ---\n",
            "\n",
            "Could not read /Library/Frameworks/Python.framework/Versions/3.10/lib/python3.10/site-packages/fynesse/__pycache__/__init__.cpython-310.pyc: 'utf-8' codec can't decode byte 0xc6 in position 9: invalid continuation byte\n",
            "\n",
            "--------------------------------------------------\n",
            "\n"
          ]
        }
      ],
      "source": [
        "import fynesse\n",
        "import os\n",
        "\n",
        "print('FYNESSE STRUCTURE:')\n",
        "package_path = os.path.dirname(fynesse.__file__)\n",
        "for root, dirs, files in os.walk(package_path):\n",
        "    level = root.replace(package_path, '').count(os.sep)\n",
        "    indent = ' ' * 4 * level\n",
        "    print(f\"{indent}{os.path.basename(root)}/\")\n",
        "    sub_indent = ' ' * 4 * (level + 1)\n",
        "    for f in files:\n",
        "        print(f\"{sub_indent}{f}\")\n",
        "\n",
        "print('FILE CONTENTS')\n",
        "for root, dirs, files in os.walk(package_path):\n",
        "    for file in files:\n",
        "        file_path = os.path.join(root, file)\n",
        "        print(f\"--- Contents of {file_path} ---\\n\")\n",
        "        try:\n",
        "            with open(file_path, \"r\", encoding=\"utf-8\") as f:\n",
        "                print(f.read())\n",
        "        except Exception as e:\n",
        "            print(f\"Could not read {file_path}: {e}\")\n",
        "        print(\"\\n\" + \"-\" * 50 + \"\\n\")"
      ]
    }
  ],
  "metadata": {
    "colab": {
      "provenance": []
    },
    "kernelspec": {
      "display_name": "Python 3",
      "name": "python3"
    },
    "language_info": {
      "codemirror_mode": {
        "name": "ipython",
        "version": 3
      },
      "file_extension": ".py",
      "mimetype": "text/x-python",
      "name": "python",
      "nbconvert_exporter": "python",
      "pygments_lexer": "ipython3",
      "version": "3.10.6"
    }
  },
  "nbformat": 4,
  "nbformat_minor": 0
}

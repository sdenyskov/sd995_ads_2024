{
  "cells": [
    {
      "cell_type": "code",
      "execution_count": 8,
      "metadata": {},
      "outputs": [],
      "source": [
        "import requests\n",
        "import pymysql\n",
        "import csv\n",
        "import pandas as pd\n",
        "import osmnx as ox\n",
        "import yaml\n",
        "import zipfile\n",
        "import io\n",
        "import math\n",
        "import numpy as np\n",
        "import os\n",
        "\n",
        "# import httplib2\n",
        "# import oauth2\n",
        "# import tables\n",
        "# import mongodb\n",
        "# import sqlite\n",
        "\n",
        "\n",
        "################ These functions are used for downloading data and transforming it by the scheme csv <-> db <-> df ################\n",
        "\n",
        "def download_data_csv(file_url_list, file_name_list):\n",
        "    \"\"\"\n",
        "    Download data from the web in the format of csv.\n",
        "    \"\"\"\n",
        "\n",
        "    if len(file_url_list) != len(file_name_list):\n",
        "        raise Exception(\"file_url_list and file_name_list must be of equal length\")\n",
        "\n",
        "    for i in range(len(file_url_list)):\n",
        "        file_url = file_url_list[i]\n",
        "        file_name = file_name_list[i]\n",
        "        print (f\"Downloading data from {file_url}\")\n",
        "        response = requests.get(file_url)\n",
        "        if response.status_code == 200:\n",
        "            with open(\"./\" + file_name, \"wb\") as file:\n",
        "                file.write(response.content)\n",
        "\n",
        "def download_data_zip(file_url, file_name):\n",
        "    \"\"\"\n",
        "    Download data from the web in the format of zip.\n",
        "    \"\"\"\n",
        "    \n",
        "    # Getting zip\n",
        "    response = requests.get(file_url)\n",
        "\n",
        "    if response.status_code == 200:\n",
        "        print(\"ZIP file has been downloaded successfully!\")\n",
        "\n",
        "        # Getting csv\n",
        "        zip_file = zipfile.ZipFile(io.BytesIO(response.content))\n",
        "        csv_file = zip_file.open(file_name)\n",
        "\n",
        "        # Saving csv\n",
        "        file = open(\"./\" + file_name, \"wb\")\n",
        "        file.write(csv_file.read())\n",
        "        print(\"File has been saved successfully.\")\n",
        "\n",
        "def download_census_data(code, base_dir=''):\n",
        "\n",
        "    url = f'https://www.nomisweb.co.uk/output/census/2021/census2021-{code.lower()}.zip'\n",
        "    extract_dir = os.path.join(base_dir, os.path.splitext(os.path.basename(url))[0])\n",
        "\n",
        "    if os.path.exists(extract_dir) and os.listdir(extract_dir):\n",
        "        print(f\"Files already exist at: {extract_dir}.\")\n",
        "        return\n",
        "\n",
        "    os.makedirs(extract_dir, exist_ok=True)\n",
        "    response = requests.get(url)\n",
        "    response.raise_for_status()\n",
        "\n",
        "    with zipfile.ZipFile(io.BytesIO(response.content)) as zip_ref:\n",
        "        zip_ref.extractall(extract_dir)\n",
        "\n",
        "    print(f\"Files extracted to: {extract_dir}\")\n",
        "\n",
        "def load_census_data(code, level='msoa'):\n",
        "    \n",
        "    return pd.read_csv(f'census2021-{code.lower()}/census2021-{code.lower()}-{level}.csv')\n",
        "\n",
        "def create_connection(database='ads_2024'):\n",
        "    \"\"\" \n",
        "    Create a database connection to the MariaDB database \n",
        "    specified by the host url and database name.\n",
        "    Returns Connection object or None.\n",
        "    \"\"\"\n",
        "    \n",
        "    with open(\"credentials.yaml\") as file:\n",
        "        credentials = yaml.safe_load(file)\n",
        "\n",
        "    conn = None\n",
        "    try:\n",
        "        conn = pymysql.connect(user=credentials[\"username\"],\n",
        "                               passwd=credentials[\"password\"],\n",
        "                               host=credentials[\"url\"],\n",
        "                               port=(int)(credentials[\"port\"]),\n",
        "                               local_infile=1,\n",
        "                               db=database\n",
        "                               )\n",
        "        print(f\"Connection established!\")\n",
        "    except Exception as e:\n",
        "        print(f\"Error connecting to the MariaDB Server: {e}\")\n",
        "    \n",
        "    return conn\n",
        "\n",
        "def csv_to_df(file_name):\n",
        "\n",
        "    try:\n",
        "        df = pd.read_csv(\"./\" + file_name)\n",
        "        return df\n",
        "    except Exception as e:\n",
        "        print(f\"Error loading CSV file: {e}\")\n",
        "        return None\n",
        "\n",
        "def csv_to_db(conn, file_name, table_name, ignore_first_row):\n",
        "\n",
        "    cur = conn.cursor()\n",
        "\n",
        "    csv_file_path = './' + file_name\n",
        "    print(f'Loading data into the table')\n",
        "    if ignore_first_row:\n",
        "        cur.execute(f\"LOAD DATA LOCAL INFILE '{csv_file_path}' INTO TABLE `{table_name}` FIELDS TERMINATED BY ',' OPTIONALLY ENCLOSED by '\\\"' LINES STARTING BY '' TERMINATED BY '\\n' IGNORE 1 LINES;\")\n",
        "    else:\n",
        "        cur.execute(f\"LOAD DATA LOCAL INFILE '{csv_file_path}' INTO TABLE `{table_name}` FIELDS TERMINATED BY ',' OPTIONALLY ENCLOSED by '\\\"' LINES STARTING BY '' TERMINATED BY '\\n';\")\n",
        "    print(f'Data loaded into the table {table_name}')\n",
        "\n",
        "    conn.commit()\n",
        "\n",
        "def db_to_csv(conn, table_name, file_name):\n",
        "\n",
        "    try:\n",
        "        cur = conn.cursor()\n",
        "\n",
        "        cur.execute(f\"SELECT * FROM `{table_name}`;\")\n",
        "        column_titles = [desc[0] for desc in cur.description]\n",
        "        rows = cur.fetchall()\n",
        "        \n",
        "        with open(file_name, mode='w', newline='', encoding='utf-8') as csv_file:\n",
        "            writer = csv.writer(csv_file)\n",
        "            writer.writerow(column_titles)\n",
        "            writer.writerows(rows)\n",
        "        print(f\"Data successfully exported to {file_name}\")\n",
        "    except Exception as e:\n",
        "        print(f\"Error: {e}\")\n",
        "    finally:\n",
        "        conn.commit()\n",
        "\n",
        "def df_to_csv(df, file_name):\n",
        "    \n",
        "    try:\n",
        "        df.to_csv(\"./\" + file_name, index=False)\n",
        "        print(f\"DataFrame successfully saved to {file_name}\")\n",
        "    except Exception as e:\n",
        "        print(f\"Error: {e}\")\n",
        "\n",
        "################ These functions are used for operating with OSM-style data ################\n",
        "\n",
        "def get_bounds(lat, lon, km_box_dimension):\n",
        "    \"\"\"\n",
        "    lat: Latitude of the center point in decimal degrees.\n",
        "    lon: Longitude of the center point in decimal degrees.\n",
        "    km_distance: Distance between sides in kilometers.\n",
        "    Returns (up, down, left, right): border coordinates.\n",
        "    \"\"\"\n",
        "\n",
        "    earth_radius = 6371.0 # km\n",
        "    km_distance = km_box_dimension / 2\n",
        "\n",
        "    angular_distance = km_distance / earth_radius\n",
        "    \n",
        "    up_lat = lat + math.degrees(angular_distance)\n",
        "    down_lat = lat - math.degrees(angular_distance)\n",
        "    \n",
        "    left_lon = lon - math.degrees(angular_distance / math.cos(math.radians(lat)))\n",
        "    right_lon = lon + math.degrees(angular_distance / math.cos(math.radians(lat)))\n",
        "    \n",
        "    return (up_lat, down_lat, left_lon, right_lon)\n",
        "\n",
        "def get_bounds_by_name(place_name):\n",
        "    \n",
        "    # Fetch the boundary polygon for the given place name\n",
        "    gdf = ox.geocode_to_gdf(place_name)\n",
        "    \n",
        "    bounds = gdf.total_bounds\n",
        "\n",
        "    return bounds\n",
        "\n",
        "def km_distance(lat1, lon1, lat2, lon2):\n",
        "\n",
        "    # Convert latitude and longitude from degrees to radians\n",
        "    lat1, lon1, lat2, lon2 = map(np.radians, [lat1, lon1, lat2, lon2])\n",
        "\n",
        "    # Radius of the Earth in kilometers\n",
        "    R = 6371.0\n",
        "\n",
        "    # Differences in coordinates\n",
        "    dlat = lat2 - lat1\n",
        "    dlon = lon2 - lon1\n",
        "\n",
        "    # Haversine formula\n",
        "    a = np.sin(dlat / 2)**2 + np.cos(lat1) * np.cos(lat2) * np.sin(dlon / 2)**2\n",
        "    c = 2 * np.arctan2(np.sqrt(a), np.sqrt(1 - a))\n",
        "    \n",
        "    km_distance = R * c\n",
        "    return km_distance\n",
        "\n",
        "def get_all_buildings_from_osm_by_bounds(bounds, tags = {'building': True}):\n",
        "\n",
        "    (north, south, east, west) = bounds\n",
        "\n",
        "    # Get information about all buildings in the area\n",
        "    all_buildings_from_osm = ox.geometries_from_bbox(north, south, east, west, tags)\n",
        "    \n",
        "    return all_buildings_from_osm\n"
      ]
    },
    {
      "cell_type": "code",
      "execution_count": 9,
      "metadata": {},
      "outputs": [],
      "source": [
        "import numpy as np\n",
        "import pandas as pd\n",
        "import matplotlib.pyplot as plt\n",
        "from sklearn.preprocessing import MinMaxScaler\n",
        "from sklearn.cluster import KMeans\n",
        "import osmnx as ox\n",
        "import seaborn as sns\n",
        "from sklearn.metrics import mean_squared_error, r2_score\n",
        "\n",
        "# import bokeh\n",
        "# import seaborn\n",
        "# import sklearn.decomposition as decomposition\n",
        "# import sklearn.feature_extraction\n",
        "\n",
        "\n",
        "def csv_preview(file_name):\n",
        "\n",
        "    try:\n",
        "        with open(\"./\" + file_name, 'r') as file:\n",
        "            column_titles = file.readline().strip()\n",
        "            print(\"Column Titles:\")\n",
        "            print(column_titles)\n",
        "\n",
        "            print(\"\\nFirst 10 Rows:\")\n",
        "            for i in range(10):\n",
        "                row = file.readline().strip()\n",
        "                if row:\n",
        "                    print(row)\n",
        "                else:\n",
        "                    break\n",
        "    except Exception as e:\n",
        "        print(f\"Error: {e}\")\n",
        "\n",
        "def execute_query(conn, query):\n",
        "    \"\"\"\n",
        "    Examples are:\n",
        "    SHOW TABLES;\n",
        "    SHOW TABLE STATUS LIKE '{table_name}';\n",
        "    SHOW INDEX FROM `{table_name}`;\n",
        "    SELECT * FROM `{table_name}` LIMIT {sample_size};\n",
        "    SELECT count(*) FROM `{table_name}`;\n",
        "    SELECT MIN({column}) AS min_value, MAX({column}) AS max_value FROM `{table_name}`\n",
        "    \"\"\"\n",
        "\n",
        "    cur = conn.cursor()\n",
        "    cur.execute(query)\n",
        "    rows = cur.fetchall()\n",
        "\n",
        "    conn.commit()\n",
        "\n",
        "    return rows\n",
        "\n",
        "def create_table_by_query(conn, table_name, columns, column_names, data_types, constraints):\n",
        "\n",
        "    if columns != len(column_names):\n",
        "        raise Exception(\"columns != len(column_names)\")\n",
        "    elif columns != len(data_types):\n",
        "        raise Exception(\"columns != len(data_types)\")\n",
        "    elif columns != len(constraints):\n",
        "        raise Exception(\"columns != len(constraints)\")\n",
        "    else:\n",
        "        query = f'CREATE TABLE {table_name} ({\", \".join([f\"`{column_names[i]}` {data_types[i]} {constraints[i]}\" for i in range(columns)])})'\n",
        "        print(query)\n",
        "        execute_query(conn, query)\n",
        "\n",
        "def create_single_index(conn, index_name, table_name, field_name):\n",
        "\n",
        "    rows = execute_query(conn, f\"CREATE INDEX {index_name} ON {table_name}({field_name});\")\n",
        "\n",
        "    return rows\n",
        "\n",
        "def create_multiple_index(conn, index_name, table_name, field_names):\n",
        "\n",
        "    rows = execute_query(conn, f\"CREATE INDEX {index_name} ON `{table_name}` ({', '.join(field_names)})\")\n",
        "\n",
        "    return rows\n",
        "\n",
        "def get_summary_on_db(conn):\n",
        "\n",
        "    tables = execute_query(conn, \"SHOW TABLES;\")\n",
        "\n",
        "    for row in tables:\n",
        "        table_name = row[0]\n",
        "        print(f\"\\nTable: {table_name}\")\n",
        "\n",
        "        table_status = execute_query(conn, f\"SHOW TABLE STATUS LIKE '{table_name}';\")\n",
        "        approx_row_count = table_status[0][4] if table_status else 'Unable to fetch row count'\n",
        "        print(\"\\nApprox Row Count:\", approx_row_count//100000/10, \"M\")\n",
        "\n",
        "        limit = 5\n",
        "        column_names = execute_query(conn, f\"SELECT COLUMN_NAME FROM INFORMATION_SCHEMA.COLUMNS WHERE TABLE_NAME = '{table_name}';\")\n",
        "        first_rows = execute_query(conn, f\"SELECT * FROM `{table_name}` LIMIT {limit};\")\n",
        "        print(tuple(item[0] for item in column_names))\n",
        "        for row in first_rows:\n",
        "            print(row)\n",
        "\n",
        "        indices = execute_query(conn, f\"SHOW INDEX FROM `{table_name}`;\")\n",
        "        if indices:\n",
        "            print(\"\\nIndices:\")\n",
        "            for index in indices:\n",
        "                print(f\" - {index[2]} ({index[10]}): Column {index[4]}\")\n",
        "        else:\n",
        "            print(\"\\nNo indices set on this table.\")"
      ]
    },
    {
      "cell_type": "code",
      "execution_count": 36,
      "metadata": {},
      "outputs": [],
      "source": [
        "import sys\n",
        "\n",
        "def currently_unused_download_data(file_url_list, file_name_list):\n",
        "    \"\"\"\n",
        "    Download data from the web in the format of CSV, displaying download progress.\n",
        "    \"\"\"\n",
        "\n",
        "    if len(file_url_list) != len(file_name_list):\n",
        "        raise Exception(\"file_url_list and file_name_list must be of equal length\")\n",
        "\n",
        "    for i in range(len(file_url_list)):\n",
        "        file_url = file_url_list[i]\n",
        "        file_name = file_name_list[i]\n",
        "        print(f\"Downloading data from {file_url}\")\n",
        "        \n",
        "        # Send GET request with streaming\n",
        "        response = requests.get(file_url, stream=True)\n",
        "        \n",
        "        if response.status_code == 200:\n",
        "            # Get total file size from headers\n",
        "            total_size = int(response.headers.get('content-length', 0))\n",
        "            if total_size == 0:\n",
        "                print(f\"Warning: Content-Length is missing. Unable to calculate progress.\")\n",
        "            \n",
        "            # Open the file for writing in binary mode\n",
        "            with open(file_name, \"wb\") as file:\n",
        "                downloaded_size = 0\n",
        "                for chunk in response.iter_content(chunk_size=1024):  # download in chunks of 1 KB\n",
        "                    if chunk:  # filter out keep-alive new chunks\n",
        "                        file.write(chunk)\n",
        "                        downloaded_size += len(chunk)\n",
        "                        \n",
        "                        # Calculate and display the progress\n",
        "                        progress = (downloaded_size / total_size) * 100\n",
        "                        print(f\"\\rDownloading: {progress:.2f}% ({downloaded_size}/{total_size} bytes)\", end=\"\")\n",
        "                        \n",
        "                        # Flush output to show progress immediately\n",
        "                        sys.stdout.flush()\n",
        "            \n",
        "            print(\"\\nDownload completed!\")\n",
        "        else:\n",
        "            print(f\"Failed to download {file_url} with status code {response.status_code}\")"
      ]
    },
    {
      "cell_type": "code",
      "execution_count": null,
      "metadata": {},
      "outputs": [],
      "source": [
        "import requests\n",
        "import geopandas as gpd\n",
        "from shapely.geometry import Point, Polygon\n",
        "\n",
        "overpass_url = \"http://overpass-api.de/api/interpreter\"\n",
        "overpass_query = \"\"\"\n",
        "[out:json];\n",
        "area[\"name\"=\"Luxembourg\"]->.searchArea;\n",
        "(\n",
        "  node[\"building\"](area.searchArea);\n",
        "  way[\"building\"](area.searchArea);\n",
        "  relation[\"building\"](area.searchArea);\n",
        ");\n",
        "out body;\n",
        ">;\n",
        "out skel qt;\n",
        "\"\"\"\n",
        "response = requests.get(overpass_url, params={'data': overpass_query})\n",
        "\n",
        "if response.status_code == 200:\n",
        "    data = response.json()\n",
        "    elements = data['elements']\n",
        "\n",
        "    # Parse nodes\n",
        "    nodes = {element['id']: (element['lon'], element['lat'])\n",
        "             for element in elements if element['type'] == 'node'}\n",
        "\n",
        "    # Parse ways and build geometries\n",
        "    buildings = []\n",
        "    for element in elements:\n",
        "        if element['type'] == 'way' and 'tags' in element:\n",
        "            node_refs = element['nodes']\n",
        "            coordinates = [nodes[node_id] for node_id in node_refs if node_id in nodes]\n",
        "            if len(coordinates) > 2:  # Ensure valid polygons\n",
        "                polygon = Polygon(coordinates)\n",
        "                buildings.append({\n",
        "                    \"id\": element['id'],\n",
        "                    \"tags\": element.get('tags', {}),\n",
        "                    \"geometry\": polygon\n",
        "                })\n",
        "\n",
        "    # Convert to GeoDataFrame\n",
        "    if buildings:\n",
        "        gdf = gpd.GeoDataFrame(buildings)\n",
        "        gdf['geometry'] = gdf['geometry'].apply(lambda x: x)  # Set geometry column\n",
        "        gdf.to_csv('osm_buildings_l.csv', index=False)\n",
        "        print(\"Data saved to osm_buildings_l.csv\")\n",
        "    else:\n",
        "        print(\"No buildings found.\")\n",
        "else:\n",
        "    print(f\"Failed to fetch data: {response.status_code}\")\n"
      ]
    },
    {
      "cell_type": "markdown",
      "metadata": {
        "id": "-tbzTphJeGlW"
      },
      "source": [
        "# Assessment for Advanced Data Science\n",
        "# *Data Pipelines*"
      ]
    },
    {
      "cell_type": "markdown",
      "metadata": {
        "id": "vVm3IV8eZPdE"
      },
      "source": [
        "## Radzim Sendyka, Christian Cabrera, Carl Henrik Ek and Neil D. Lawrence\n",
        "\n",
        "### 19 November 2024"
      ]
    },
    {
      "cell_type": "markdown",
      "metadata": {
        "id": "Evaf5gdVnE0s"
      },
      "source": [
        "Welcome to the course assessment for the Advanced Data Science unit. In this assessment, you will build two data pipelines and prediction systems.\n",
        "\n",
        "The maximum total mark for this assessment is 20. That mark is split into two miniprojects below.\n",
        "- The first miniproject is worth 7 marks.\n",
        "- The second miniproject is worth 13 marks.\n",
        "\n",
        "*The check Session for this Assessment is 03 December 2024.*"
      ]
    },
    {
      "cell_type": "markdown",
      "metadata": {
        "id": "R_gVPt8Nndjn"
      },
      "source": [
        "# Task 1 (7 marks)"
      ]
    },
    {
      "cell_type": "markdown",
      "metadata": {
        "id": "2yaFil7l34HD"
      },
      "source": [
        "This example project builds on your experience from the practicals, using Open Street Maps, and connecting them to real-world datasets.\n",
        "\n",
        "Your prediction system will be based on data from the 2021 UK Census, and Open Street Maps."
      ]
    },
    {
      "cell_type": "markdown",
      "metadata": {
        "id": "jVnzIgd3ZWt0"
      },
      "source": [
        "### Build a data pipeline and prediction system.\n",
        "\n",
        "Structure your system around the [Access-Assess-Address](https://inverseprobability.com/talks/notes/access-assess-address-a-pipeline-for-automated-data-science.html) framework for automated data science.\n",
        "Use the framework of [Data Readiness Levels](https://inverseprobability.com/publications/data-readiness-levels.html) to track the state of your datasets throughout the process.\n",
        "Visualise your data and predictions using appropriate charts and graphics.\n",
        "Remember, your notebook should tell a story.\n",
        "\n",
        "1.1. Download the data from online sources. In this task you will need:\n",
        "  - UK Census Data\n",
        "    - The UK Census data file for and Socio-economic Classification (NS SEC) [here](https://www.ons.gov.uk/datasets/TS062/editions/2021/versions/5) or [here](https://www.nomisweb.co.uk/sources/census_2021_bulk). Use the most detailed area type (Output Areas).\n",
        "    - One other UK Census data file of your choosing [here](https://www.ons.gov.uk/search?topics=9731,6646,3845,9497,4262,4128,7755,4994,6885,9724,7367&filter=datasets) or [here](https://www.nomisweb.co.uk/sources/census_2021_bulk). Use the most detailed area type available.\n",
        "    - Geographic coordinates of Census Output Areas [here](https://www.data.gov.uk/dataset/4d4e021d-fe98-4a0e-88e2-3ead84538537/output-areas-december-2021-boundaries-ew-bgc-v2).\n",
        "  - Spatial data\n",
        "    - Set up an API connection to Open Street Maps [here](https://osmnx.readthedocs.io/en/stable/). Optionally, to be able to use more data in training, you might want to also download the entire map for England (or more) [here](https://download.openstreetmap.fr/extracts/) or [here](https://wiki.openstreetmap.org/wiki/Planet.osm).\n",
        "\n",
        "1.2. Structure the data, and upload it to your AWS database.\n",
        "\n",
        "- Census datasets can be huge and unwieldy to manipulate directly in python frameworks such as pandas. As a result we will host the data in a relational database.\n",
        "\n",
        "- Using a cloud hosted database (such as MariaDB hosted on the AWS RDS service),  you will construct a database containing tables that contain per-output-area data, latitudes and longitudes of the output areas, and potentially, extracted selected open street maps features from the country-wide data file.\n",
        "\n",
        "- Make sure you set the correct indices on your data, which will allow your code to run much faster. Hint: create an index on any columns you will be looking up, and joint indices if your lookup involves multiple columns (like coordinates).\n",
        "\n",
        "You will likely find the following resources helpful.\n",
        "\n",
        "- Lecture 1, 2 and 3.\n",
        "- Lab class 1 and 2.\n",
        "\n",
        "\n",
        "- *Note, this particular dataset could probably be handled directly in pandas, but you are explicitly tasked with using a database. This is a compromise from previous iterations of this course, where students spent quite a lot of time struggling from the size of the data. This is an opportunity for you to demonstrate your skills, as well as prepare for the second part of the assessment where databases might be necessary. Approach that do not use databases where needed will be penalised during marking.*\n",
        "\n",
        "\n",
        "2.0. Explore the data.\n",
        "\n",
        "  - To make predictions you will augment your data with information obtained from Open Street Map: an open license source of mapping information. You will need to use the techniques you have learnt in the course to indentify and incorporate useful features for your prediction tasks.\n",
        "  - Look at the percentage of students (NS SEC code L15) in the individual output areas, and explore how it's related to various types of open street map features in those locations. Use the relationships you found to suggest the features to be used in a system that predicts percentage of students in a given area.\n",
        "  - Do the same for an additional census variable (e.g., the average age in a given area).\n",
        "\n",
        "3.0. Make a prediction system.\n",
        "- Use Open Street Maps to predict Socio-Economic Status - in particular, the percent of full time students, from OSM features. Your function should take as input a coordinate pair (you can assume it will be in England), and return an estimate for the share of students in that area.\n",
        "\n",
        "- Do the same for the additional census variable you selected in the previous step.\n",
        "\n",
        "Hints:\n",
        "\n",
        "  - *Some of the census data sheets are very detailed. You might want to try \"boiling them down\" to some aggregate value or selecting just the most important columns.*\n",
        "\n",
        "  - *This assignment is focused on data pipelines, rather than machine learning, so we do not expect any advanced architectures here - a linear model or similar is perfectly fine.*\n",
        "  \n",
        "  - *For data exploration, or picking your second dataset, you may find useful the [interactive map](https://www.ons.gov.uk/census/maps/) of the census data.*"
      ]
    },
    {
      "cell_type": "markdown",
      "metadata": {
        "id": "VAfdUurg4JhM"
      },
      "source": [
        "### Story.\n",
        "\n",
        "- Remember the notebook you create should tell a story, any code that is not critical to that story can safely be placed into the associated analysis library and imported for use (structured as given in the Fynesse template). Make sure your decisions are well substanciated and flow nicely throughout the notebook, with clear explanations.\n",
        "\n",
        "- Explain everything you do. Why is your question important, why you selected the datasets you did, why did you join them how you did, why did you look at the things you looked at.\n",
        "\n",
        "Make sure in your notebook you discuss the design decisions you made in your pipeline and prediction system. How did you structure your notebook? How did you track data readiness? Which aspects of your system could be improved further?\n",
        "\n",
        "Make sure you compare how you predict student population and your second chosen property. What differences are there, in the underlying data, process, and results?\n",
        "\n",
        "Make sure you discuss the reusability of your data pipeline and prediction system. What changes to the underlying data/system is it resilient to, and what isn't it? What work would need to be done to adjust it to answer questions about other statistics, or a different country, instead?"
      ]
    },
    {
      "cell_type": "markdown",
      "metadata": {
        "id": "VN8V5rhV4CNW"
      },
      "source": [
        "### Fynesse library.\n",
        "\n",
        "- Alongside your implementation you will provide a short repository overview describing how you have implemented the different parts of the project and where you have placed those parts in your code repository. You will submit your code alongside a version of this notebook that will allow your examiner to understand and reconstruct the thinking behind your analysis. This notebook is structured to help you in creating that description and allow you to understand how we will allocate the marks. You should make use of the Fynesse framework (https://github.com/lawrennd/fynesse_template) for structuring your code.\n",
        "\n",
        "- One artefact to be included in your submission is a python library structured according to the \"Access, Assess, Address\" standard for data science solutions. You will submit this library alongside your code. Use the cell below to perform the necessary installation instructions for your library.\n",
        "You should base your module on the template repository given by the Fynesse template repository. That should make it pip-installable as below.\n",
        "`%pip install git+https://github.com/lawrennd/fynesse_template.git`. You can either replace fynesse with the name you've given your analysis module or you can leave the name as fynesse if you prefer.\n",
        "\n",
        "- Remember the notebook you create should tell a story, any code that is not critical to that story can safely be placed into the associated analysis library and imported for use (structured as given in the Fynesse template). Remember to include you fynesse library in your submission."
      ]
    },
    {
      "cell_type": "markdown",
      "metadata": {},
      "source": [
        "Let's start with installing, importing, and checking contents of fynesse library:"
      ]
    },
    {
      "cell_type": "code",
      "execution_count": null,
      "metadata": {},
      "outputs": [],
      "source": [
        "%pip uninstall --yes fynesse\n",
        "%pip install git+https://github.com/sdenyskov/sd995_ads_2024.git"
      ]
    },
    {
      "cell_type": "code",
      "execution_count": 2,
      "metadata": {},
      "outputs": [],
      "source": [
        "import fynesse"
      ]
    },
    {
      "cell_type": "code",
      "execution_count": 5,
      "metadata": {},
      "outputs": [
        {
          "name": "stdout",
          "output_type": "stream",
          "text": [
            "FUNCTION DECLARATIONS:\n",
            "\n",
            "--- Function declarations in /Library/Frameworks/Python.framework/Versions/3.10/lib/python3.10/site-packages/fynesse/address.py ---\n",
            "\n",
            "def fit_and_predict(x, y, x_pred, design_matrix = lambda x: x.reshape(-1, 1), regularised = False, alpha = 0.05, L1_wt = 1.0):\n",
            "def cross_validation(x, y, k):\n",
            "def predict_age_profile(nssec_df, age_df, nssec_row_to_predict):\n",
            "\n",
            "--- Function declarations in /Library/Frameworks/Python.framework/Versions/3.10/lib/python3.10/site-packages/fynesse/access.py ---\n",
            "\n",
            "def download_data_csv(file_url_list, file_name_list):\n",
            "def download_data_zip(file_url, file_name):\n",
            "def download_census_data(code, base_dir=''):\n",
            "def load_census_data(code, level='msoa'):\n",
            "def create_connection(database='ads_2024'):\n",
            "def csv_to_df(file_name):\n",
            "def csv_to_db(conn, file_name, table_name):\n",
            "def db_to_csv(conn, table_name, file_name):\n",
            "def df_to_csv(df, file_name):\n",
            "def get_bounds(lat, lon, km_box_dimension):\n",
            "def get_bounds_by_name(place_name):\n",
            "def km_distance(lat1, lon1, lat2, lon2):\n",
            "def get_all_buildings_from_osm_by_bounds(bounds):\n",
            "\n",
            "--- Function declarations in /Library/Frameworks/Python.framework/Versions/3.10/lib/python3.10/site-packages/fynesse/assess.py ---\n",
            "\n",
            "def csv_preview(file_name):\n",
            "def execute_query(conn, query):\n",
            "def create_table_by_query(conn, query, table_name):\n",
            "def create_single_index(conn, index_name, table_name, field_name):\n",
            "def create_multiple_index(conn, index_name, table_name, field_names):\n",
            "def get_summary_on_db(conn):\n",
            "def normalise_df(data, columns_not_to_normalize = ['location']):\n",
            "def kmeans_clusters(data, n_clusters):\n",
            "def plot_clusters(clustered_data, n_clusters):\n",
            "def plot_correlation_matrix(data, columns_to_drop):\n",
            "def plot_predictions_against_trues(y, y_pred, limits = None):\n",
            "def plot_predictions_and_trues(x_values, true_values, pred_values, limits = None):\n",
            "def count_pois_near_coordinates_by_bounds(bounds, tags):\n",
            "def get_houses_from_price_data_by_bounds(conn, bounds):\n",
            "def filter_buildings_from_osm(all_buildings_from_osm):\n",
            "def capitalize(x):\n",
            "def match_buildings_from_osm(valid_buildings_from_osm, all_houses_from_db):\n",
            "def plot_buildings(bounds, place_name, layer1, layer2 = None, layer3 = None):\n",
            "\n"
          ]
        }
      ],
      "source": [
        "import os\n",
        "\n",
        "print('FUNCTION DECLARATIONS:')\n",
        "print()\n",
        "package_path = os.path.dirname(fynesse.__file__)\n",
        "for root, dirs, files in os.walk(package_path):\n",
        "    for file in files:\n",
        "        file_path = os.path.join(root, file)\n",
        "        if file_path.endswith(\"s.py\"):\n",
        "            print(f\"--- Function declarations in {file_path} ---\\n\")\n",
        "            try:\n",
        "                with open(file_path, \"r\", encoding=\"utf-8\") as f:\n",
        "                    lines = f.readlines()\n",
        "                    for line in lines:\n",
        "                        if line.strip().startswith('def '):\n",
        "                            print(line.strip())\n",
        "            except Exception as e:\n",
        "                print(f\"Could not read {file_path}: {e}\")\n",
        "            print()"
      ]
    },
    {
      "cell_type": "code",
      "execution_count": 4,
      "metadata": {
        "id": "zb4p6V8_376U"
      },
      "outputs": [],
      "source": [
        "# fynesse.access.config['data_url']"
      ]
    },
    {
      "cell_type": "markdown",
      "metadata": {
        "id": "s6_rVCxjnzLB"
      },
      "source": [
        "## Access"
      ]
    },
    {
      "cell_type": "code",
      "execution_count": null,
      "metadata": {
        "id": "KjesIa7SoIYO"
      },
      "outputs": [],
      "source": [
        "%pip install osmnx"
      ]
    },
    {
      "cell_type": "code",
      "execution_count": 10,
      "metadata": {
        "id": "3x_sHEuXn08a"
      },
      "outputs": [],
      "source": [
        "import pandas as pd\n",
        "import numpy as np\n",
        "import osmnx as ox\n",
        "import requests\n",
        "import os"
      ]
    },
    {
      "cell_type": "markdown",
      "metadata": {},
      "source": [
        "We will start with downloading needed data from online sources. In this task we will need the following:"
      ]
    },
    {
      "cell_type": "markdown",
      "metadata": {},
      "source": [
        "- UK Census data file for and Socio-economic Classification (NS SEC) - we will use the most detailed area type (Output Areas)."
      ]
    },
    {
      "cell_type": "code",
      "execution_count": 37,
      "metadata": {},
      "outputs": [
        {
          "name": "stdout",
          "output_type": "stream",
          "text": [
            "Files already exist at: census2021-ts062.\n"
          ]
        },
        {
          "data": {
            "text/html": [
              "<div>\n",
              "<style scoped>\n",
              "    .dataframe tbody tr th:only-of-type {\n",
              "        vertical-align: middle;\n",
              "    }\n",
              "\n",
              "    .dataframe tbody tr th {\n",
              "        vertical-align: top;\n",
              "    }\n",
              "\n",
              "    .dataframe thead th {\n",
              "        text-align: right;\n",
              "    }\n",
              "</style>\n",
              "<table border=\"1\" class=\"dataframe\">\n",
              "  <thead>\n",
              "    <tr style=\"text-align: right;\">\n",
              "      <th></th>\n",
              "      <th>date</th>\n",
              "      <th>geography</th>\n",
              "      <th>geography code</th>\n",
              "      <th>National Statistics Socio-economic Classification (NS-SEC): Total: All usual residents aged 16 years and over</th>\n",
              "      <th>National Statistics Socio-economic Classification (NS-SEC): L1, L2 and L3 Higher managerial, administrative and professional occupations</th>\n",
              "      <th>National Statistics Socio-economic Classification (NS-SEC): L4, L5 and L6 Lower managerial, administrative and professional occupations</th>\n",
              "      <th>National Statistics Socio-economic Classification (NS-SEC): L7 Intermediate occupations</th>\n",
              "      <th>National Statistics Socio-economic Classification (NS-SEC): L8 and L9 Small employers and own account workers</th>\n",
              "      <th>National Statistics Socio-economic Classification (NS-SEC): L10 and L11 Lower supervisory and technical occupations</th>\n",
              "      <th>National Statistics Socio-economic Classification (NS-SEC): L12 Semi-routine occupations</th>\n",
              "      <th>National Statistics Socio-economic Classification (NS-SEC): L13 Routine occupations</th>\n",
              "      <th>National Statistics Socio-economic Classification (NS-SEC): L14.1 and L14.2 Never worked and long-term unemployed</th>\n",
              "      <th>National Statistics Socio-economic Classification (NS-SEC): L15 Full-time students</th>\n",
              "    </tr>\n",
              "  </thead>\n",
              "  <tbody>\n",
              "    <tr>\n",
              "      <th>0</th>\n",
              "      <td>2021</td>\n",
              "      <td>E00000001</td>\n",
              "      <td>E00000001</td>\n",
              "      <td>159</td>\n",
              "      <td>80</td>\n",
              "      <td>38</td>\n",
              "      <td>13</td>\n",
              "      <td>9</td>\n",
              "      <td>3</td>\n",
              "      <td>5</td>\n",
              "      <td>5</td>\n",
              "      <td>4</td>\n",
              "      <td>2</td>\n",
              "    </tr>\n",
              "    <tr>\n",
              "      <th>1</th>\n",
              "      <td>2021</td>\n",
              "      <td>E00000003</td>\n",
              "      <td>E00000003</td>\n",
              "      <td>222</td>\n",
              "      <td>96</td>\n",
              "      <td>58</td>\n",
              "      <td>8</td>\n",
              "      <td>26</td>\n",
              "      <td>2</td>\n",
              "      <td>5</td>\n",
              "      <td>2</td>\n",
              "      <td>5</td>\n",
              "      <td>20</td>\n",
              "    </tr>\n",
              "    <tr>\n",
              "      <th>2</th>\n",
              "      <td>2021</td>\n",
              "      <td>E00000005</td>\n",
              "      <td>E00000005</td>\n",
              "      <td>103</td>\n",
              "      <td>37</td>\n",
              "      <td>28</td>\n",
              "      <td>8</td>\n",
              "      <td>21</td>\n",
              "      <td>0</td>\n",
              "      <td>3</td>\n",
              "      <td>1</td>\n",
              "      <td>1</td>\n",
              "      <td>4</td>\n",
              "    </tr>\n",
              "    <tr>\n",
              "      <th>3</th>\n",
              "      <td>2021</td>\n",
              "      <td>E00000007</td>\n",
              "      <td>E00000007</td>\n",
              "      <td>140</td>\n",
              "      <td>62</td>\n",
              "      <td>39</td>\n",
              "      <td>5</td>\n",
              "      <td>11</td>\n",
              "      <td>3</td>\n",
              "      <td>3</td>\n",
              "      <td>1</td>\n",
              "      <td>6</td>\n",
              "      <td>10</td>\n",
              "    </tr>\n",
              "    <tr>\n",
              "      <th>4</th>\n",
              "      <td>2021</td>\n",
              "      <td>E00000010</td>\n",
              "      <td>E00000010</td>\n",
              "      <td>170</td>\n",
              "      <td>34</td>\n",
              "      <td>45</td>\n",
              "      <td>17</td>\n",
              "      <td>27</td>\n",
              "      <td>7</td>\n",
              "      <td>10</td>\n",
              "      <td>14</td>\n",
              "      <td>11</td>\n",
              "      <td>5</td>\n",
              "    </tr>\n",
              "    <tr>\n",
              "      <th>...</th>\n",
              "      <td>...</td>\n",
              "      <td>...</td>\n",
              "      <td>...</td>\n",
              "      <td>...</td>\n",
              "      <td>...</td>\n",
              "      <td>...</td>\n",
              "      <td>...</td>\n",
              "      <td>...</td>\n",
              "      <td>...</td>\n",
              "      <td>...</td>\n",
              "      <td>...</td>\n",
              "      <td>...</td>\n",
              "      <td>...</td>\n",
              "    </tr>\n",
              "    <tr>\n",
              "      <th>188875</th>\n",
              "      <td>2021</td>\n",
              "      <td>W00010693</td>\n",
              "      <td>W00010693</td>\n",
              "      <td>737</td>\n",
              "      <td>2</td>\n",
              "      <td>8</td>\n",
              "      <td>5</td>\n",
              "      <td>8</td>\n",
              "      <td>7</td>\n",
              "      <td>9</td>\n",
              "      <td>14</td>\n",
              "      <td>2</td>\n",
              "      <td>682</td>\n",
              "    </tr>\n",
              "    <tr>\n",
              "      <th>188876</th>\n",
              "      <td>2021</td>\n",
              "      <td>W00010694</td>\n",
              "      <td>W00010694</td>\n",
              "      <td>304</td>\n",
              "      <td>35</td>\n",
              "      <td>87</td>\n",
              "      <td>40</td>\n",
              "      <td>31</td>\n",
              "      <td>23</td>\n",
              "      <td>26</td>\n",
              "      <td>33</td>\n",
              "      <td>7</td>\n",
              "      <td>22</td>\n",
              "    </tr>\n",
              "    <tr>\n",
              "      <th>188877</th>\n",
              "      <td>2021</td>\n",
              "      <td>W00010695</td>\n",
              "      <td>W00010695</td>\n",
              "      <td>154</td>\n",
              "      <td>12</td>\n",
              "      <td>44</td>\n",
              "      <td>22</td>\n",
              "      <td>15</td>\n",
              "      <td>12</td>\n",
              "      <td>15</td>\n",
              "      <td>17</td>\n",
              "      <td>11</td>\n",
              "      <td>6</td>\n",
              "    </tr>\n",
              "    <tr>\n",
              "      <th>188878</th>\n",
              "      <td>2021</td>\n",
              "      <td>W00010696</td>\n",
              "      <td>W00010696</td>\n",
              "      <td>176</td>\n",
              "      <td>32</td>\n",
              "      <td>55</td>\n",
              "      <td>26</td>\n",
              "      <td>14</td>\n",
              "      <td>9</td>\n",
              "      <td>13</td>\n",
              "      <td>12</td>\n",
              "      <td>7</td>\n",
              "      <td>8</td>\n",
              "    </tr>\n",
              "    <tr>\n",
              "      <th>188879</th>\n",
              "      <td>2021</td>\n",
              "      <td>W00010697</td>\n",
              "      <td>W00010697</td>\n",
              "      <td>215</td>\n",
              "      <td>16</td>\n",
              "      <td>59</td>\n",
              "      <td>40</td>\n",
              "      <td>21</td>\n",
              "      <td>10</td>\n",
              "      <td>30</td>\n",
              "      <td>27</td>\n",
              "      <td>4</td>\n",
              "      <td>8</td>\n",
              "    </tr>\n",
              "  </tbody>\n",
              "</table>\n",
              "<p>188880 rows × 13 columns</p>\n",
              "</div>"
            ],
            "text/plain": [
              "        date  geography geography code  \\\n",
              "0       2021  E00000001      E00000001   \n",
              "1       2021  E00000003      E00000003   \n",
              "2       2021  E00000005      E00000005   \n",
              "3       2021  E00000007      E00000007   \n",
              "4       2021  E00000010      E00000010   \n",
              "...      ...        ...            ...   \n",
              "188875  2021  W00010693      W00010693   \n",
              "188876  2021  W00010694      W00010694   \n",
              "188877  2021  W00010695      W00010695   \n",
              "188878  2021  W00010696      W00010696   \n",
              "188879  2021  W00010697      W00010697   \n",
              "\n",
              "        National Statistics Socio-economic Classification (NS-SEC): Total: All usual residents aged 16 years and over  \\\n",
              "0                                                     159                                                               \n",
              "1                                                     222                                                               \n",
              "2                                                     103                                                               \n",
              "3                                                     140                                                               \n",
              "4                                                     170                                                               \n",
              "...                                                   ...                                                               \n",
              "188875                                                737                                                               \n",
              "188876                                                304                                                               \n",
              "188877                                                154                                                               \n",
              "188878                                                176                                                               \n",
              "188879                                                215                                                               \n",
              "\n",
              "        National Statistics Socio-economic Classification (NS-SEC): L1, L2 and L3 Higher managerial, administrative and professional occupations  \\\n",
              "0                                                      80                                                                                          \n",
              "1                                                      96                                                                                          \n",
              "2                                                      37                                                                                          \n",
              "3                                                      62                                                                                          \n",
              "4                                                      34                                                                                          \n",
              "...                                                   ...                                                                                          \n",
              "188875                                                  2                                                                                          \n",
              "188876                                                 35                                                                                          \n",
              "188877                                                 12                                                                                          \n",
              "188878                                                 32                                                                                          \n",
              "188879                                                 16                                                                                          \n",
              "\n",
              "        National Statistics Socio-economic Classification (NS-SEC): L4, L5 and L6 Lower managerial, administrative and professional occupations  \\\n",
              "0                                                      38                                                                                         \n",
              "1                                                      58                                                                                         \n",
              "2                                                      28                                                                                         \n",
              "3                                                      39                                                                                         \n",
              "4                                                      45                                                                                         \n",
              "...                                                   ...                                                                                         \n",
              "188875                                                  8                                                                                         \n",
              "188876                                                 87                                                                                         \n",
              "188877                                                 44                                                                                         \n",
              "188878                                                 55                                                                                         \n",
              "188879                                                 59                                                                                         \n",
              "\n",
              "        National Statistics Socio-economic Classification (NS-SEC): L7 Intermediate occupations  \\\n",
              "0                                                      13                                         \n",
              "1                                                       8                                         \n",
              "2                                                       8                                         \n",
              "3                                                       5                                         \n",
              "4                                                      17                                         \n",
              "...                                                   ...                                         \n",
              "188875                                                  5                                         \n",
              "188876                                                 40                                         \n",
              "188877                                                 22                                         \n",
              "188878                                                 26                                         \n",
              "188879                                                 40                                         \n",
              "\n",
              "        National Statistics Socio-economic Classification (NS-SEC): L8 and L9 Small employers and own account workers  \\\n",
              "0                                                       9                                                               \n",
              "1                                                      26                                                               \n",
              "2                                                      21                                                               \n",
              "3                                                      11                                                               \n",
              "4                                                      27                                                               \n",
              "...                                                   ...                                                               \n",
              "188875                                                  8                                                               \n",
              "188876                                                 31                                                               \n",
              "188877                                                 15                                                               \n",
              "188878                                                 14                                                               \n",
              "188879                                                 21                                                               \n",
              "\n",
              "        National Statistics Socio-economic Classification (NS-SEC): L10 and L11 Lower supervisory and technical occupations  \\\n",
              "0                                                       3                                                                     \n",
              "1                                                       2                                                                     \n",
              "2                                                       0                                                                     \n",
              "3                                                       3                                                                     \n",
              "4                                                       7                                                                     \n",
              "...                                                   ...                                                                     \n",
              "188875                                                  7                                                                     \n",
              "188876                                                 23                                                                     \n",
              "188877                                                 12                                                                     \n",
              "188878                                                  9                                                                     \n",
              "188879                                                 10                                                                     \n",
              "\n",
              "        National Statistics Socio-economic Classification (NS-SEC): L12 Semi-routine occupations  \\\n",
              "0                                                       5                                          \n",
              "1                                                       5                                          \n",
              "2                                                       3                                          \n",
              "3                                                       3                                          \n",
              "4                                                      10                                          \n",
              "...                                                   ...                                          \n",
              "188875                                                  9                                          \n",
              "188876                                                 26                                          \n",
              "188877                                                 15                                          \n",
              "188878                                                 13                                          \n",
              "188879                                                 30                                          \n",
              "\n",
              "        National Statistics Socio-economic Classification (NS-SEC): L13 Routine occupations  \\\n",
              "0                                                       5                                     \n",
              "1                                                       2                                     \n",
              "2                                                       1                                     \n",
              "3                                                       1                                     \n",
              "4                                                      14                                     \n",
              "...                                                   ...                                     \n",
              "188875                                                 14                                     \n",
              "188876                                                 33                                     \n",
              "188877                                                 17                                     \n",
              "188878                                                 12                                     \n",
              "188879                                                 27                                     \n",
              "\n",
              "        National Statistics Socio-economic Classification (NS-SEC): L14.1 and L14.2 Never worked and long-term unemployed  \\\n",
              "0                                                       4                                                                   \n",
              "1                                                       5                                                                   \n",
              "2                                                       1                                                                   \n",
              "3                                                       6                                                                   \n",
              "4                                                      11                                                                   \n",
              "...                                                   ...                                                                   \n",
              "188875                                                  2                                                                   \n",
              "188876                                                  7                                                                   \n",
              "188877                                                 11                                                                   \n",
              "188878                                                  7                                                                   \n",
              "188879                                                  4                                                                   \n",
              "\n",
              "        National Statistics Socio-economic Classification (NS-SEC): L15 Full-time students  \n",
              "0                                                       2                                   \n",
              "1                                                      20                                   \n",
              "2                                                       4                                   \n",
              "3                                                      10                                   \n",
              "4                                                       5                                   \n",
              "...                                                   ...                                   \n",
              "188875                                                682                                   \n",
              "188876                                                 22                                   \n",
              "188877                                                  6                                   \n",
              "188878                                                  8                                   \n",
              "188879                                                  8                                   \n",
              "\n",
              "[188880 rows x 13 columns]"
            ]
          },
          "execution_count": 37,
          "metadata": {},
          "output_type": "execute_result"
        }
      ],
      "source": [
        "download_census_data('TS062')\n",
        "nssec_2021_df = fynesse.access.load_census_data('TS062', level='oa')\n",
        "nssec_2021_df"
      ]
    },
    {
      "cell_type": "markdown",
      "metadata": {},
      "source": [
        "- One other UK Census data file of our choosing - we will use Migrant Indicator - we will use the most detailed area type (Output Areas)."
      ]
    },
    {
      "cell_type": "code",
      "execution_count": 25,
      "metadata": {},
      "outputs": [
        {
          "name": "stdout",
          "output_type": "stream",
          "text": [
            "Files already exist at: census2021-ts019.\n"
          ]
        },
        {
          "data": {
            "text/html": [
              "<div>\n",
              "<style scoped>\n",
              "    .dataframe tbody tr th:only-of-type {\n",
              "        vertical-align: middle;\n",
              "    }\n",
              "\n",
              "    .dataframe tbody tr th {\n",
              "        vertical-align: top;\n",
              "    }\n",
              "\n",
              "    .dataframe thead th {\n",
              "        text-align: right;\n",
              "    }\n",
              "</style>\n",
              "<table border=\"1\" class=\"dataframe\">\n",
              "  <thead>\n",
              "    <tr style=\"text-align: right;\">\n",
              "      <th></th>\n",
              "      <th>date</th>\n",
              "      <th>geography</th>\n",
              "      <th>geography code</th>\n",
              "      <th>Migrant indicator: Total: All usual residents; measures: Value</th>\n",
              "      <th>Migrant indicator: Address one year ago is the same as the address of enumeration; measures: Value</th>\n",
              "      <th>Migrant indicator: Address one year ago is student term-time or boarding school address in the UK; measures: Value</th>\n",
              "      <th>Migrant indicator: Migrant from within the UK: Address one year ago was in the UK; measures: Value</th>\n",
              "      <th>Migrant indicator: Migrant from outside the UK: Address one year ago was outside the UK; measures: Value</th>\n",
              "    </tr>\n",
              "  </thead>\n",
              "  <tbody>\n",
              "    <tr>\n",
              "      <th>0</th>\n",
              "      <td>2021</td>\n",
              "      <td>E00060274</td>\n",
              "      <td>E00060274</td>\n",
              "      <td>271</td>\n",
              "      <td>253</td>\n",
              "      <td>0</td>\n",
              "      <td>18</td>\n",
              "      <td>0</td>\n",
              "    </tr>\n",
              "    <tr>\n",
              "      <th>1</th>\n",
              "      <td>2021</td>\n",
              "      <td>E00060275</td>\n",
              "      <td>E00060275</td>\n",
              "      <td>407</td>\n",
              "      <td>386</td>\n",
              "      <td>0</td>\n",
              "      <td>19</td>\n",
              "      <td>2</td>\n",
              "    </tr>\n",
              "    <tr>\n",
              "      <th>2</th>\n",
              "      <td>2021</td>\n",
              "      <td>E00060276</td>\n",
              "      <td>E00060276</td>\n",
              "      <td>257</td>\n",
              "      <td>245</td>\n",
              "      <td>0</td>\n",
              "      <td>12</td>\n",
              "      <td>0</td>\n",
              "    </tr>\n",
              "    <tr>\n",
              "      <th>3</th>\n",
              "      <td>2021</td>\n",
              "      <td>E00060277</td>\n",
              "      <td>E00060277</td>\n",
              "      <td>275</td>\n",
              "      <td>244</td>\n",
              "      <td>0</td>\n",
              "      <td>31</td>\n",
              "      <td>0</td>\n",
              "    </tr>\n",
              "    <tr>\n",
              "      <th>4</th>\n",
              "      <td>2021</td>\n",
              "      <td>E00060279</td>\n",
              "      <td>E00060279</td>\n",
              "      <td>272</td>\n",
              "      <td>257</td>\n",
              "      <td>0</td>\n",
              "      <td>15</td>\n",
              "      <td>0</td>\n",
              "    </tr>\n",
              "    <tr>\n",
              "      <th>...</th>\n",
              "      <td>...</td>\n",
              "      <td>...</td>\n",
              "      <td>...</td>\n",
              "      <td>...</td>\n",
              "      <td>...</td>\n",
              "      <td>...</td>\n",
              "      <td>...</td>\n",
              "      <td>...</td>\n",
              "    </tr>\n",
              "    <tr>\n",
              "      <th>188875</th>\n",
              "      <td>2021</td>\n",
              "      <td>W00006938</td>\n",
              "      <td>W00006938</td>\n",
              "      <td>217</td>\n",
              "      <td>204</td>\n",
              "      <td>0</td>\n",
              "      <td>13</td>\n",
              "      <td>0</td>\n",
              "    </tr>\n",
              "    <tr>\n",
              "      <th>188876</th>\n",
              "      <td>2021</td>\n",
              "      <td>W00006940</td>\n",
              "      <td>W00006940</td>\n",
              "      <td>418</td>\n",
              "      <td>406</td>\n",
              "      <td>0</td>\n",
              "      <td>12</td>\n",
              "      <td>0</td>\n",
              "    </tr>\n",
              "    <tr>\n",
              "      <th>188877</th>\n",
              "      <td>2021</td>\n",
              "      <td>W00006941</td>\n",
              "      <td>W00006941</td>\n",
              "      <td>273</td>\n",
              "      <td>259</td>\n",
              "      <td>0</td>\n",
              "      <td>13</td>\n",
              "      <td>1</td>\n",
              "    </tr>\n",
              "    <tr>\n",
              "      <th>188878</th>\n",
              "      <td>2021</td>\n",
              "      <td>W00006942</td>\n",
              "      <td>W00006942</td>\n",
              "      <td>327</td>\n",
              "      <td>315</td>\n",
              "      <td>1</td>\n",
              "      <td>11</td>\n",
              "      <td>0</td>\n",
              "    </tr>\n",
              "    <tr>\n",
              "      <th>188879</th>\n",
              "      <td>2021</td>\n",
              "      <td>W00009771</td>\n",
              "      <td>W00009771</td>\n",
              "      <td>222</td>\n",
              "      <td>204</td>\n",
              "      <td>0</td>\n",
              "      <td>18</td>\n",
              "      <td>0</td>\n",
              "    </tr>\n",
              "  </tbody>\n",
              "</table>\n",
              "<p>188880 rows × 8 columns</p>\n",
              "</div>"
            ],
            "text/plain": [
              "        date  geography geography code  \\\n",
              "0       2021  E00060274      E00060274   \n",
              "1       2021  E00060275      E00060275   \n",
              "2       2021  E00060276      E00060276   \n",
              "3       2021  E00060277      E00060277   \n",
              "4       2021  E00060279      E00060279   \n",
              "...      ...        ...            ...   \n",
              "188875  2021  W00006938      W00006938   \n",
              "188876  2021  W00006940      W00006940   \n",
              "188877  2021  W00006941      W00006941   \n",
              "188878  2021  W00006942      W00006942   \n",
              "188879  2021  W00009771      W00009771   \n",
              "\n",
              "        Migrant indicator: Total: All usual residents; measures: Value  \\\n",
              "0                                                     271                \n",
              "1                                                     407                \n",
              "2                                                     257                \n",
              "3                                                     275                \n",
              "4                                                     272                \n",
              "...                                                   ...                \n",
              "188875                                                217                \n",
              "188876                                                418                \n",
              "188877                                                273                \n",
              "188878                                                327                \n",
              "188879                                                222                \n",
              "\n",
              "        Migrant indicator: Address one year ago is the same as the address of enumeration; measures: Value  \\\n",
              "0                                                     253                                                    \n",
              "1                                                     386                                                    \n",
              "2                                                     245                                                    \n",
              "3                                                     244                                                    \n",
              "4                                                     257                                                    \n",
              "...                                                   ...                                                    \n",
              "188875                                                204                                                    \n",
              "188876                                                406                                                    \n",
              "188877                                                259                                                    \n",
              "188878                                                315                                                    \n",
              "188879                                                204                                                    \n",
              "\n",
              "        Migrant indicator: Address one year ago is student term-time or boarding school address in the UK; measures: Value  \\\n",
              "0                                                       0                                                                    \n",
              "1                                                       0                                                                    \n",
              "2                                                       0                                                                    \n",
              "3                                                       0                                                                    \n",
              "4                                                       0                                                                    \n",
              "...                                                   ...                                                                    \n",
              "188875                                                  0                                                                    \n",
              "188876                                                  0                                                                    \n",
              "188877                                                  0                                                                    \n",
              "188878                                                  1                                                                    \n",
              "188879                                                  0                                                                    \n",
              "\n",
              "        Migrant indicator: Migrant from within the UK: Address one year ago was in the UK; measures: Value  \\\n",
              "0                                                      18                                                    \n",
              "1                                                      19                                                    \n",
              "2                                                      12                                                    \n",
              "3                                                      31                                                    \n",
              "4                                                      15                                                    \n",
              "...                                                   ...                                                    \n",
              "188875                                                 13                                                    \n",
              "188876                                                 12                                                    \n",
              "188877                                                 13                                                    \n",
              "188878                                                 11                                                    \n",
              "188879                                                 18                                                    \n",
              "\n",
              "        Migrant indicator: Migrant from outside the UK: Address one year ago was outside the UK; measures: Value  \n",
              "0                                                       0                                                         \n",
              "1                                                       2                                                         \n",
              "2                                                       0                                                         \n",
              "3                                                       0                                                         \n",
              "4                                                       0                                                         \n",
              "...                                                   ...                                                         \n",
              "188875                                                  0                                                         \n",
              "188876                                                  0                                                         \n",
              "188877                                                  1                                                         \n",
              "188878                                                  0                                                         \n",
              "188879                                                  0                                                         \n",
              "\n",
              "[188880 rows x 8 columns]"
            ]
          },
          "execution_count": 25,
          "metadata": {},
          "output_type": "execute_result"
        }
      ],
      "source": [
        "download_census_data('TS019')\n",
        "mi_2021_df = fynesse.access.load_census_data('TS019', level='oa')\n",
        "mi_2021_df"
      ]
    },
    {
      "cell_type": "markdown",
      "metadata": {},
      "source": [
        "- Geographic coordinates of Census Output Areas."
      ]
    },
    {
      "cell_type": "code",
      "execution_count": 23,
      "metadata": {},
      "outputs": [
        {
          "name": "stdout",
          "output_type": "stream",
          "text": [
            "Downloading data from https://open-geography-portalx-ons.hub.arcgis.com/api/download/v1/items/6beafcfd9b9c4c9993a06b6b199d7e6d/csv?layers=0\n"
          ]
        },
        {
          "data": {
            "text/html": [
              "<div>\n",
              "<style scoped>\n",
              "    .dataframe tbody tr th:only-of-type {\n",
              "        vertical-align: middle;\n",
              "    }\n",
              "\n",
              "    .dataframe tbody tr th {\n",
              "        vertical-align: top;\n",
              "    }\n",
              "\n",
              "    .dataframe thead th {\n",
              "        text-align: right;\n",
              "    }\n",
              "</style>\n",
              "<table border=\"1\" class=\"dataframe\">\n",
              "  <thead>\n",
              "    <tr style=\"text-align: right;\">\n",
              "      <th></th>\n",
              "      <th>FID</th>\n",
              "      <th>OA21CD</th>\n",
              "      <th>LSOA21CD</th>\n",
              "      <th>LSOA21NM</th>\n",
              "      <th>LSOA21NMW</th>\n",
              "      <th>BNG_E</th>\n",
              "      <th>BNG_N</th>\n",
              "      <th>LAT</th>\n",
              "      <th>LONG</th>\n",
              "      <th>Shape__Area</th>\n",
              "      <th>Shape__Length</th>\n",
              "      <th>GlobalID</th>\n",
              "    </tr>\n",
              "  </thead>\n",
              "  <tbody>\n",
              "    <tr>\n",
              "      <th>0</th>\n",
              "      <td>1</td>\n",
              "      <td>E00000001</td>\n",
              "      <td>E01000001</td>\n",
              "      <td>City of London 001A</td>\n",
              "      <td></td>\n",
              "      <td>532250</td>\n",
              "      <td>181864</td>\n",
              "      <td>51.52022</td>\n",
              "      <td>-0.09523</td>\n",
              "      <td>6949.151482</td>\n",
              "      <td>421.166161</td>\n",
              "      <td>3a44dd3d-5082-4a09-9b9c-3a5fadc811ed</td>\n",
              "    </tr>\n",
              "    <tr>\n",
              "      <th>1</th>\n",
              "      <td>2</td>\n",
              "      <td>E00000003</td>\n",
              "      <td>E01000001</td>\n",
              "      <td>City of London 001A</td>\n",
              "      <td></td>\n",
              "      <td>532171</td>\n",
              "      <td>181819</td>\n",
              "      <td>51.51983</td>\n",
              "      <td>-0.09638</td>\n",
              "      <td>4492.411072</td>\n",
              "      <td>307.714653</td>\n",
              "      <td>f1216dc8-14d1-4857-9230-cab0641758fb</td>\n",
              "    </tr>\n",
              "    <tr>\n",
              "      <th>2</th>\n",
              "      <td>3</td>\n",
              "      <td>E00000005</td>\n",
              "      <td>E01000001</td>\n",
              "      <td>City of London 001A</td>\n",
              "      <td></td>\n",
              "      <td>532166</td>\n",
              "      <td>181722</td>\n",
              "      <td>51.51896</td>\n",
              "      <td>-0.09649</td>\n",
              "      <td>8565.514214</td>\n",
              "      <td>385.204781</td>\n",
              "      <td>44d6f70f-549c-4288-9b6d-de2adbf02582</td>\n",
              "    </tr>\n",
              "    <tr>\n",
              "      <th>3</th>\n",
              "      <td>4</td>\n",
              "      <td>E00000007</td>\n",
              "      <td>E01000001</td>\n",
              "      <td>City of London 001A</td>\n",
              "      <td></td>\n",
              "      <td>532088</td>\n",
              "      <td>181473</td>\n",
              "      <td>51.51674</td>\n",
              "      <td>-0.09771</td>\n",
              "      <td>75994.829704</td>\n",
              "      <td>1408.607657</td>\n",
              "      <td>4dd683e1-9a5c-46cf-9e19-8465c8fbb6cb</td>\n",
              "    </tr>\n",
              "    <tr>\n",
              "      <th>4</th>\n",
              "      <td>5</td>\n",
              "      <td>E00000010</td>\n",
              "      <td>E01000003</td>\n",
              "      <td>City of London 001C</td>\n",
              "      <td></td>\n",
              "      <td>532092</td>\n",
              "      <td>182114</td>\n",
              "      <td>51.52250</td>\n",
              "      <td>-0.09741</td>\n",
              "      <td>2102.876602</td>\n",
              "      <td>215.271975</td>\n",
              "      <td>7476781f-8fe4-4c9b-bde1-0eecbd146dff</td>\n",
              "    </tr>\n",
              "    <tr>\n",
              "      <th>...</th>\n",
              "      <td>...</td>\n",
              "      <td>...</td>\n",
              "      <td>...</td>\n",
              "      <td>...</td>\n",
              "      <td>...</td>\n",
              "      <td>...</td>\n",
              "      <td>...</td>\n",
              "      <td>...</td>\n",
              "      <td>...</td>\n",
              "      <td>...</td>\n",
              "      <td>...</td>\n",
              "      <td>...</td>\n",
              "    </tr>\n",
              "    <tr>\n",
              "      <th>188875</th>\n",
              "      <td>188876</td>\n",
              "      <td>W00010693</td>\n",
              "      <td>W01000062</td>\n",
              "      <td>Gwynedd 001A</td>\n",
              "      <td>Gwynedd 001A</td>\n",
              "      <td>257885</td>\n",
              "      <td>371596</td>\n",
              "      <td>53.22236</td>\n",
              "      <td>-4.13012</td>\n",
              "      <td>117624.672455</td>\n",
              "      <td>2070.603553</td>\n",
              "      <td>5f872a8d-7128-47b4-a6ab-487a8aa93716</td>\n",
              "    </tr>\n",
              "    <tr>\n",
              "      <th>188876</th>\n",
              "      <td>188877</td>\n",
              "      <td>W00010694</td>\n",
              "      <td>W01000645</td>\n",
              "      <td>Carmarthenshire 006C</td>\n",
              "      <td>Sir Gaerfyrddin 006C</td>\n",
              "      <td>240146</td>\n",
              "      <td>220834</td>\n",
              "      <td>51.86313</td>\n",
              "      <td>-4.32295</td>\n",
              "      <td>261298.148006</td>\n",
              "      <td>3228.184286</td>\n",
              "      <td>69c22977-5117-45ee-89d5-0eb35fc713b1</td>\n",
              "    </tr>\n",
              "    <tr>\n",
              "      <th>188877</th>\n",
              "      <td>188878</td>\n",
              "      <td>W00010695</td>\n",
              "      <td>W01000664</td>\n",
              "      <td>Carmarthenshire 016C</td>\n",
              "      <td>Sir Gaerfyrddin 016C</td>\n",
              "      <td>256581</td>\n",
              "      <td>213406</td>\n",
              "      <td>51.80086</td>\n",
              "      <td>-4.08136</td>\n",
              "      <td>196049.177578</td>\n",
              "      <td>2232.955182</td>\n",
              "      <td>b511da17-e4e3-4425-bd9b-bea99d2c5071</td>\n",
              "    </tr>\n",
              "    <tr>\n",
              "      <th>188878</th>\n",
              "      <td>188879</td>\n",
              "      <td>W00010696</td>\n",
              "      <td>W01001923</td>\n",
              "      <td>Carmarthenshire 026G</td>\n",
              "      <td>Sir Gaerfyrddin 026G</td>\n",
              "      <td>252233</td>\n",
              "      <td>198463</td>\n",
              "      <td>51.66546</td>\n",
              "      <td>-4.13803</td>\n",
              "      <td>358656.479244</td>\n",
              "      <td>2928.234067</td>\n",
              "      <td>b36d2ac0-a236-4e97-8dc0-044327808718</td>\n",
              "    </tr>\n",
              "    <tr>\n",
              "      <th>188879</th>\n",
              "      <td>188880</td>\n",
              "      <td>W00010697</td>\n",
              "      <td>W01000667</td>\n",
              "      <td>Carmarthenshire 023C</td>\n",
              "      <td>Sir Gaerfyrddin 023C</td>\n",
              "      <td>249792</td>\n",
              "      <td>200786</td>\n",
              "      <td>51.68569</td>\n",
              "      <td>-4.17430</td>\n",
              "      <td>41479.260704</td>\n",
              "      <td>929.445832</td>\n",
              "      <td>b9f72baf-42b1-4da6-9be6-45c1a86cd3ef</td>\n",
              "    </tr>\n",
              "  </tbody>\n",
              "</table>\n",
              "<p>188880 rows × 12 columns</p>\n",
              "</div>"
            ],
            "text/plain": [
              "           FID     OA21CD   LSOA21CD              LSOA21NM  \\\n",
              "0            1  E00000001  E01000001   City of London 001A   \n",
              "1            2  E00000003  E01000001   City of London 001A   \n",
              "2            3  E00000005  E01000001   City of London 001A   \n",
              "3            4  E00000007  E01000001   City of London 001A   \n",
              "4            5  E00000010  E01000003   City of London 001C   \n",
              "...        ...        ...        ...                   ...   \n",
              "188875  188876  W00010693  W01000062          Gwynedd 001A   \n",
              "188876  188877  W00010694  W01000645  Carmarthenshire 006C   \n",
              "188877  188878  W00010695  W01000664  Carmarthenshire 016C   \n",
              "188878  188879  W00010696  W01001923  Carmarthenshire 026G   \n",
              "188879  188880  W00010697  W01000667  Carmarthenshire 023C   \n",
              "\n",
              "                   LSOA21NMW   BNG_E   BNG_N       LAT     LONG  \\\n",
              "0                             532250  181864  51.52022 -0.09523   \n",
              "1                             532171  181819  51.51983 -0.09638   \n",
              "2                             532166  181722  51.51896 -0.09649   \n",
              "3                             532088  181473  51.51674 -0.09771   \n",
              "4                             532092  182114  51.52250 -0.09741   \n",
              "...                      ...     ...     ...       ...      ...   \n",
              "188875          Gwynedd 001A  257885  371596  53.22236 -4.13012   \n",
              "188876  Sir Gaerfyrddin 006C  240146  220834  51.86313 -4.32295   \n",
              "188877  Sir Gaerfyrddin 016C  256581  213406  51.80086 -4.08136   \n",
              "188878  Sir Gaerfyrddin 026G  252233  198463  51.66546 -4.13803   \n",
              "188879  Sir Gaerfyrddin 023C  249792  200786  51.68569 -4.17430   \n",
              "\n",
              "          Shape__Area  Shape__Length                              GlobalID  \n",
              "0         6949.151482     421.166161  3a44dd3d-5082-4a09-9b9c-3a5fadc811ed  \n",
              "1         4492.411072     307.714653  f1216dc8-14d1-4857-9230-cab0641758fb  \n",
              "2         8565.514214     385.204781  44d6f70f-549c-4288-9b6d-de2adbf02582  \n",
              "3        75994.829704    1408.607657  4dd683e1-9a5c-46cf-9e19-8465c8fbb6cb  \n",
              "4         2102.876602     215.271975  7476781f-8fe4-4c9b-bde1-0eecbd146dff  \n",
              "...               ...            ...                                   ...  \n",
              "188875  117624.672455    2070.603553  5f872a8d-7128-47b4-a6ab-487a8aa93716  \n",
              "188876  261298.148006    3228.184286  69c22977-5117-45ee-89d5-0eb35fc713b1  \n",
              "188877  196049.177578    2232.955182  b511da17-e4e3-4425-bd9b-bea99d2c5071  \n",
              "188878  358656.479244    2928.234067  b36d2ac0-a236-4e97-8dc0-044327808718  \n",
              "188879   41479.260704     929.445832  b9f72baf-42b1-4da6-9be6-45c1a86cd3ef  \n",
              "\n",
              "[188880 rows x 12 columns]"
            ]
          },
          "execution_count": 23,
          "metadata": {},
          "output_type": "execute_result"
        }
      ],
      "source": [
        "download_data_csv(['https://open-geography-portalx-ons.hub.arcgis.com/api/download/v1/items/6beafcfd9b9c4c9993a06b6b199d7e6d/csv?layers=0'], ['uk_oa_list.csv'])\n",
        "oa_df = csv_to_df(\"uk_oa_list.csv\")\n",
        "oa_df"
      ]
    },
    {
      "cell_type": "markdown",
      "metadata": {},
      "source": [
        "Meanings of the columns: \n",
        "- FID - Unique feature identifier (internal reference).\n",
        "- OA21CD - Output Area 2021 Code (smallest geographic unit, also used in downloaded census data).\n",
        "- LSOA21CD - Lower Layer Super Output Area 2021 Code (larger area made of Output Areas).\n",
        "- LSOA21NM - Name of the Lower Layer Super Output Area 2021.\n",
        "- LSOA21NMW - Welsh name of the Lower Layer Super Output Area 2021 (if applicable).\n",
        "- BNG_E - Easting coordinate (British National Grid system).\n",
        "- BNG_N - Northing coordinate (British National Grid system).\n",
        "- LAT - Latitude in decimal degrees (geographic position).\n",
        "- LONG - Longitude in decimal degrees (geographic position).\n",
        "- Shape__Area - Area of the geographical feature (polygon), typically in square meters or km².\n",
        "- Shape__Length - Perimeter length of the geographical feature, in meters or kilometers.\n",
        "- GlobalID - Unique global identifier for the feature (used across systems)."
      ]
    },
    {
      "cell_type": "markdown",
      "metadata": {},
      "source": [
        "- We will also need to get spatial data - we will get it using Open Street Maps."
      ]
    },
    {
      "cell_type": "code",
      "execution_count": 14,
      "metadata": {},
      "outputs": [],
      "source": [
        "features_df = [\n",
        " 'geometry',\n",
        " 'ways',\n",
        " 'nodes',\n",
        " 'type',\n",
        " 'addr:country',\n",
        " 'addr:postcode',\n",
        " 'addr:street',\n",
        " 'addr:housenumber',\n",
        " 'addr:city',\n",
        " 'addr:housename',\n",
        " 'addr:place',\n",
        "\n",
        " 'name',\n",
        " 'alt_name',\n",
        " 'old_name',\n",
        " 'nohousenumber',\n",
        " 'note',\n",
        "\n",
        " 'disused',\n",
        " 'height',\n",
        "\n",
        " 'amenity',\n",
        " 'tourism',\n",
        " 'brand',\n",
        " 'leisure',\n",
        " 'cuisine',\n",
        " 'emergency',\n",
        " 'historic',\n",
        " 'sport',\n",
        " 'shop',\n",
        " 'religion',\n",
        " 'power',\n",
        " 'military',\n",
        "\n",
        " 'house',\n",
        " 'building',\n",
        " 'building:material',\n",
        " 'building:levels',\n",
        " 'internet_access',\n",
        "\n",
        " 'capacity',\n",
        " 'roof:levels',\n",
        " 'roof:shape'\n",
        " 'fee',\n",
        " 'man_made',\n",
        " 'denomination',\n",
        " 'layer']\n",
        "\n",
        "features_db = ['element_type', 'osmid'] + features_df"
      ]
    },
    {
      "cell_type": "code",
      "execution_count": 20,
      "metadata": {},
      "outputs": [
        {
          "name": "stdout",
          "output_type": "stream",
          "text": [
            "Getting dataframe to form osm_uk_5_0.csv\n"
          ]
        },
        {
          "name": "stderr",
          "output_type": "stream",
          "text": [
            "/var/folders/tq/f7lcjhp564g26624rbp38l240000gn/T/ipykernel_19312/1508289565.py:212: FutureWarning: The `geometries` module and `geometries_from_X` functions have been renamed the `features` module and `features_from_X` functions. Use these instead. The `geometries` module and function names are deprecated and will be removed in the v2.0.0 release. See the OSMnx v2 migration guide: https://github.com/gboeing/osmnx/issues/1123\n",
            "  all_buildings_from_osm = ox.geometries_from_bbox(north, south, east, west, tags)\n",
            "/Library/Frameworks/Python.framework/Versions/3.10/lib/python3.10/site-packages/osmnx/geometries.py:48: FutureWarning: The `north`, `south`, `east`, and `west` parameters are deprecated and will be removed in the v2.0.0 release. Use the `bbox` parameter instead. See the OSMnx v2 migration guide: https://github.com/gboeing/osmnx/issues/1123\n",
            "  return features.features_from_bbox(north, south, east, west, tags=tags)\n",
            "/Library/Frameworks/Python.framework/Versions/3.10/lib/python3.10/site-packages/osmnx/geometries.py:48: FutureWarning: The expected order of coordinates in `bbox` will change in the v2.0.0 release to `(left, bottom, right, top)`.\n",
            "  return features.features_from_bbox(north, south, east, west, tags=tags)\n"
          ]
        },
        {
          "name": "stdout",
          "output_type": "stream",
          "text": [
            "osm_uk_5_0.csv has been formed successfully\n",
            "Getting dataframe to form osm_uk_5_1.csv\n"
          ]
        },
        {
          "name": "stderr",
          "output_type": "stream",
          "text": [
            "/var/folders/tq/f7lcjhp564g26624rbp38l240000gn/T/ipykernel_19312/1508289565.py:212: FutureWarning: The `geometries` module and `geometries_from_X` functions have been renamed the `features` module and `features_from_X` functions. Use these instead. The `geometries` module and function names are deprecated and will be removed in the v2.0.0 release. See the OSMnx v2 migration guide: https://github.com/gboeing/osmnx/issues/1123\n",
            "  all_buildings_from_osm = ox.geometries_from_bbox(north, south, east, west, tags)\n",
            "/Library/Frameworks/Python.framework/Versions/3.10/lib/python3.10/site-packages/osmnx/geometries.py:48: FutureWarning: The `north`, `south`, `east`, and `west` parameters are deprecated and will be removed in the v2.0.0 release. Use the `bbox` parameter instead. See the OSMnx v2 migration guide: https://github.com/gboeing/osmnx/issues/1123\n",
            "  return features.features_from_bbox(north, south, east, west, tags=tags)\n",
            "/Library/Frameworks/Python.framework/Versions/3.10/lib/python3.10/site-packages/osmnx/geometries.py:48: FutureWarning: The expected order of coordinates in `bbox` will change in the v2.0.0 release to `(left, bottom, right, top)`.\n",
            "  return features.features_from_bbox(north, south, east, west, tags=tags)\n"
          ]
        },
        {
          "name": "stdout",
          "output_type": "stream",
          "text": [
            "osm_uk_5_1.csv has been formed successfully\n",
            "Getting dataframe to form osm_uk_5_2.csv\n"
          ]
        },
        {
          "name": "stderr",
          "output_type": "stream",
          "text": [
            "/var/folders/tq/f7lcjhp564g26624rbp38l240000gn/T/ipykernel_19312/1508289565.py:212: FutureWarning: The `geometries` module and `geometries_from_X` functions have been renamed the `features` module and `features_from_X` functions. Use these instead. The `geometries` module and function names are deprecated and will be removed in the v2.0.0 release. See the OSMnx v2 migration guide: https://github.com/gboeing/osmnx/issues/1123\n",
            "  all_buildings_from_osm = ox.geometries_from_bbox(north, south, east, west, tags)\n",
            "/Library/Frameworks/Python.framework/Versions/3.10/lib/python3.10/site-packages/osmnx/geometries.py:48: FutureWarning: The `north`, `south`, `east`, and `west` parameters are deprecated and will be removed in the v2.0.0 release. Use the `bbox` parameter instead. See the OSMnx v2 migration guide: https://github.com/gboeing/osmnx/issues/1123\n",
            "  return features.features_from_bbox(north, south, east, west, tags=tags)\n",
            "/Library/Frameworks/Python.framework/Versions/3.10/lib/python3.10/site-packages/osmnx/geometries.py:48: FutureWarning: The expected order of coordinates in `bbox` will change in the v2.0.0 release to `(left, bottom, right, top)`.\n",
            "  return features.features_from_bbox(north, south, east, west, tags=tags)\n"
          ]
        },
        {
          "name": "stdout",
          "output_type": "stream",
          "text": [
            "osm_uk_5_2.csv has not been created due to error \"No data elements in server response. Check log and query location/tags.\"\n",
            "Getting dataframe to form osm_uk_5_3.csv\n"
          ]
        },
        {
          "name": "stderr",
          "output_type": "stream",
          "text": [
            "/var/folders/tq/f7lcjhp564g26624rbp38l240000gn/T/ipykernel_19312/1508289565.py:212: FutureWarning: The `geometries` module and `geometries_from_X` functions have been renamed the `features` module and `features_from_X` functions. Use these instead. The `geometries` module and function names are deprecated and will be removed in the v2.0.0 release. See the OSMnx v2 migration guide: https://github.com/gboeing/osmnx/issues/1123\n",
            "  all_buildings_from_osm = ox.geometries_from_bbox(north, south, east, west, tags)\n",
            "/Library/Frameworks/Python.framework/Versions/3.10/lib/python3.10/site-packages/osmnx/geometries.py:48: FutureWarning: The `north`, `south`, `east`, and `west` parameters are deprecated and will be removed in the v2.0.0 release. Use the `bbox` parameter instead. See the OSMnx v2 migration guide: https://github.com/gboeing/osmnx/issues/1123\n",
            "  return features.features_from_bbox(north, south, east, west, tags=tags)\n",
            "/Library/Frameworks/Python.framework/Versions/3.10/lib/python3.10/site-packages/osmnx/geometries.py:48: FutureWarning: The expected order of coordinates in `bbox` will change in the v2.0.0 release to `(left, bottom, right, top)`.\n",
            "  return features.features_from_bbox(north, south, east, west, tags=tags)\n"
          ]
        },
        {
          "name": "stdout",
          "output_type": "stream",
          "text": [
            "osm_uk_5_3.csv has not been created due to error \"No data elements in server response. Check log and query location/tags.\"\n",
            "Getting dataframe to form osm_uk_5_4.csv\n"
          ]
        },
        {
          "name": "stderr",
          "output_type": "stream",
          "text": [
            "/var/folders/tq/f7lcjhp564g26624rbp38l240000gn/T/ipykernel_19312/1508289565.py:212: FutureWarning: The `geometries` module and `geometries_from_X` functions have been renamed the `features` module and `features_from_X` functions. Use these instead. The `geometries` module and function names are deprecated and will be removed in the v2.0.0 release. See the OSMnx v2 migration guide: https://github.com/gboeing/osmnx/issues/1123\n",
            "  all_buildings_from_osm = ox.geometries_from_bbox(north, south, east, west, tags)\n",
            "/Library/Frameworks/Python.framework/Versions/3.10/lib/python3.10/site-packages/osmnx/geometries.py:48: FutureWarning: The `north`, `south`, `east`, and `west` parameters are deprecated and will be removed in the v2.0.0 release. Use the `bbox` parameter instead. See the OSMnx v2 migration guide: https://github.com/gboeing/osmnx/issues/1123\n",
            "  return features.features_from_bbox(north, south, east, west, tags=tags)\n",
            "/Library/Frameworks/Python.framework/Versions/3.10/lib/python3.10/site-packages/osmnx/geometries.py:48: FutureWarning: The expected order of coordinates in `bbox` will change in the v2.0.0 release to `(left, bottom, right, top)`.\n",
            "  return features.features_from_bbox(north, south, east, west, tags=tags)\n"
          ]
        },
        {
          "name": "stdout",
          "output_type": "stream",
          "text": [
            "osm_uk_5_4.csv has been formed successfully\n",
            "Getting dataframe to form osm_uk_5_5.csv\n"
          ]
        },
        {
          "name": "stderr",
          "output_type": "stream",
          "text": [
            "/var/folders/tq/f7lcjhp564g26624rbp38l240000gn/T/ipykernel_19312/1508289565.py:212: FutureWarning: The `geometries` module and `geometries_from_X` functions have been renamed the `features` module and `features_from_X` functions. Use these instead. The `geometries` module and function names are deprecated and will be removed in the v2.0.0 release. See the OSMnx v2 migration guide: https://github.com/gboeing/osmnx/issues/1123\n",
            "  all_buildings_from_osm = ox.geometries_from_bbox(north, south, east, west, tags)\n",
            "/Library/Frameworks/Python.framework/Versions/3.10/lib/python3.10/site-packages/osmnx/geometries.py:48: FutureWarning: The `north`, `south`, `east`, and `west` parameters are deprecated and will be removed in the v2.0.0 release. Use the `bbox` parameter instead. See the OSMnx v2 migration guide: https://github.com/gboeing/osmnx/issues/1123\n",
            "  return features.features_from_bbox(north, south, east, west, tags=tags)\n",
            "/Library/Frameworks/Python.framework/Versions/3.10/lib/python3.10/site-packages/osmnx/geometries.py:48: FutureWarning: The expected order of coordinates in `bbox` will change in the v2.0.0 release to `(left, bottom, right, top)`.\n",
            "  return features.features_from_bbox(north, south, east, west, tags=tags)\n"
          ]
        },
        {
          "name": "stdout",
          "output_type": "stream",
          "text": [
            "osm_uk_5_5.csv has been formed successfully\n",
            "Getting dataframe to form osm_uk_5_6.csv\n"
          ]
        },
        {
          "name": "stderr",
          "output_type": "stream",
          "text": [
            "/var/folders/tq/f7lcjhp564g26624rbp38l240000gn/T/ipykernel_19312/1508289565.py:212: FutureWarning: The `geometries` module and `geometries_from_X` functions have been renamed the `features` module and `features_from_X` functions. Use these instead. The `geometries` module and function names are deprecated and will be removed in the v2.0.0 release. See the OSMnx v2 migration guide: https://github.com/gboeing/osmnx/issues/1123\n",
            "  all_buildings_from_osm = ox.geometries_from_bbox(north, south, east, west, tags)\n",
            "/Library/Frameworks/Python.framework/Versions/3.10/lib/python3.10/site-packages/osmnx/geometries.py:48: FutureWarning: The `north`, `south`, `east`, and `west` parameters are deprecated and will be removed in the v2.0.0 release. Use the `bbox` parameter instead. See the OSMnx v2 migration guide: https://github.com/gboeing/osmnx/issues/1123\n",
            "  return features.features_from_bbox(north, south, east, west, tags=tags)\n",
            "/Library/Frameworks/Python.framework/Versions/3.10/lib/python3.10/site-packages/osmnx/geometries.py:48: FutureWarning: The expected order of coordinates in `bbox` will change in the v2.0.0 release to `(left, bottom, right, top)`.\n",
            "  return features.features_from_bbox(north, south, east, west, tags=tags)\n"
          ]
        },
        {
          "name": "stdout",
          "output_type": "stream",
          "text": [
            "osm_uk_5_6.csv has been formed successfully\n",
            "Getting dataframe to form osm_uk_5_7.csv\n"
          ]
        },
        {
          "name": "stderr",
          "output_type": "stream",
          "text": [
            "/var/folders/tq/f7lcjhp564g26624rbp38l240000gn/T/ipykernel_19312/1508289565.py:212: FutureWarning: The `geometries` module and `geometries_from_X` functions have been renamed the `features` module and `features_from_X` functions. Use these instead. The `geometries` module and function names are deprecated and will be removed in the v2.0.0 release. See the OSMnx v2 migration guide: https://github.com/gboeing/osmnx/issues/1123\n",
            "  all_buildings_from_osm = ox.geometries_from_bbox(north, south, east, west, tags)\n",
            "/Library/Frameworks/Python.framework/Versions/3.10/lib/python3.10/site-packages/osmnx/geometries.py:48: FutureWarning: The `north`, `south`, `east`, and `west` parameters are deprecated and will be removed in the v2.0.0 release. Use the `bbox` parameter instead. See the OSMnx v2 migration guide: https://github.com/gboeing/osmnx/issues/1123\n",
            "  return features.features_from_bbox(north, south, east, west, tags=tags)\n",
            "/Library/Frameworks/Python.framework/Versions/3.10/lib/python3.10/site-packages/osmnx/geometries.py:48: FutureWarning: The expected order of coordinates in `bbox` will change in the v2.0.0 release to `(left, bottom, right, top)`.\n",
            "  return features.features_from_bbox(north, south, east, west, tags=tags)\n"
          ]
        },
        {
          "name": "stdout",
          "output_type": "stream",
          "text": [
            "osm_uk_5_7.csv has been formed successfully\n",
            "Getting dataframe to form osm_uk_5_8.csv\n"
          ]
        },
        {
          "name": "stderr",
          "output_type": "stream",
          "text": [
            "/var/folders/tq/f7lcjhp564g26624rbp38l240000gn/T/ipykernel_19312/1508289565.py:212: FutureWarning: The `geometries` module and `geometries_from_X` functions have been renamed the `features` module and `features_from_X` functions. Use these instead. The `geometries` module and function names are deprecated and will be removed in the v2.0.0 release. See the OSMnx v2 migration guide: https://github.com/gboeing/osmnx/issues/1123\n",
            "  all_buildings_from_osm = ox.geometries_from_bbox(north, south, east, west, tags)\n",
            "/Library/Frameworks/Python.framework/Versions/3.10/lib/python3.10/site-packages/osmnx/geometries.py:48: FutureWarning: The `north`, `south`, `east`, and `west` parameters are deprecated and will be removed in the v2.0.0 release. Use the `bbox` parameter instead. See the OSMnx v2 migration guide: https://github.com/gboeing/osmnx/issues/1123\n",
            "  return features.features_from_bbox(north, south, east, west, tags=tags)\n",
            "/Library/Frameworks/Python.framework/Versions/3.10/lib/python3.10/site-packages/osmnx/geometries.py:48: FutureWarning: The expected order of coordinates in `bbox` will change in the v2.0.0 release to `(left, bottom, right, top)`.\n",
            "  return features.features_from_bbox(north, south, east, west, tags=tags)\n"
          ]
        },
        {
          "name": "stdout",
          "output_type": "stream",
          "text": [
            "osm_uk_5_8.csv has been formed successfully\n",
            "Getting dataframe to form osm_uk_5_9.csv\n"
          ]
        },
        {
          "name": "stderr",
          "output_type": "stream",
          "text": [
            "/var/folders/tq/f7lcjhp564g26624rbp38l240000gn/T/ipykernel_19312/1508289565.py:212: FutureWarning: The `geometries` module and `geometries_from_X` functions have been renamed the `features` module and `features_from_X` functions. Use these instead. The `geometries` module and function names are deprecated and will be removed in the v2.0.0 release. See the OSMnx v2 migration guide: https://github.com/gboeing/osmnx/issues/1123\n",
            "  all_buildings_from_osm = ox.geometries_from_bbox(north, south, east, west, tags)\n",
            "/Library/Frameworks/Python.framework/Versions/3.10/lib/python3.10/site-packages/osmnx/geometries.py:48: FutureWarning: The `north`, `south`, `east`, and `west` parameters are deprecated and will be removed in the v2.0.0 release. Use the `bbox` parameter instead. See the OSMnx v2 migration guide: https://github.com/gboeing/osmnx/issues/1123\n",
            "  return features.features_from_bbox(north, south, east, west, tags=tags)\n",
            "/Library/Frameworks/Python.framework/Versions/3.10/lib/python3.10/site-packages/osmnx/geometries.py:48: FutureWarning: The expected order of coordinates in `bbox` will change in the v2.0.0 release to `(left, bottom, right, top)`.\n",
            "  return features.features_from_bbox(north, south, east, west, tags=tags)\n"
          ]
        },
        {
          "name": "stdout",
          "output_type": "stream",
          "text": [
            "osm_uk_5_9.csv has been formed successfully\n",
            "Getting dataframe to form osm_uk_5_10.csv\n"
          ]
        },
        {
          "name": "stderr",
          "output_type": "stream",
          "text": [
            "/var/folders/tq/f7lcjhp564g26624rbp38l240000gn/T/ipykernel_19312/1508289565.py:212: FutureWarning: The `geometries` module and `geometries_from_X` functions have been renamed the `features` module and `features_from_X` functions. Use these instead. The `geometries` module and function names are deprecated and will be removed in the v2.0.0 release. See the OSMnx v2 migration guide: https://github.com/gboeing/osmnx/issues/1123\n",
            "  all_buildings_from_osm = ox.geometries_from_bbox(north, south, east, west, tags)\n",
            "/Library/Frameworks/Python.framework/Versions/3.10/lib/python3.10/site-packages/osmnx/geometries.py:48: FutureWarning: The `north`, `south`, `east`, and `west` parameters are deprecated and will be removed in the v2.0.0 release. Use the `bbox` parameter instead. See the OSMnx v2 migration guide: https://github.com/gboeing/osmnx/issues/1123\n",
            "  return features.features_from_bbox(north, south, east, west, tags=tags)\n",
            "/Library/Frameworks/Python.framework/Versions/3.10/lib/python3.10/site-packages/osmnx/geometries.py:48: FutureWarning: The expected order of coordinates in `bbox` will change in the v2.0.0 release to `(left, bottom, right, top)`.\n",
            "  return features.features_from_bbox(north, south, east, west, tags=tags)\n"
          ]
        },
        {
          "name": "stdout",
          "output_type": "stream",
          "text": [
            "osm_uk_5_10.csv has been formed successfully\n",
            "Getting dataframe to form osm_uk_5_11.csv\n"
          ]
        },
        {
          "name": "stderr",
          "output_type": "stream",
          "text": [
            "/var/folders/tq/f7lcjhp564g26624rbp38l240000gn/T/ipykernel_19312/1508289565.py:212: FutureWarning: The `geometries` module and `geometries_from_X` functions have been renamed the `features` module and `features_from_X` functions. Use these instead. The `geometries` module and function names are deprecated and will be removed in the v2.0.0 release. See the OSMnx v2 migration guide: https://github.com/gboeing/osmnx/issues/1123\n",
            "  all_buildings_from_osm = ox.geometries_from_bbox(north, south, east, west, tags)\n",
            "/Library/Frameworks/Python.framework/Versions/3.10/lib/python3.10/site-packages/osmnx/geometries.py:48: FutureWarning: The `north`, `south`, `east`, and `west` parameters are deprecated and will be removed in the v2.0.0 release. Use the `bbox` parameter instead. See the OSMnx v2 migration guide: https://github.com/gboeing/osmnx/issues/1123\n",
            "  return features.features_from_bbox(north, south, east, west, tags=tags)\n",
            "/Library/Frameworks/Python.framework/Versions/3.10/lib/python3.10/site-packages/osmnx/geometries.py:48: FutureWarning: The expected order of coordinates in `bbox` will change in the v2.0.0 release to `(left, bottom, right, top)`.\n",
            "  return features.features_from_bbox(north, south, east, west, tags=tags)\n"
          ]
        },
        {
          "name": "stdout",
          "output_type": "stream",
          "text": [
            "osm_uk_5_11.csv has been formed successfully\n",
            "Getting dataframe to form osm_uk_5_12.csv\n"
          ]
        },
        {
          "name": "stderr",
          "output_type": "stream",
          "text": [
            "/var/folders/tq/f7lcjhp564g26624rbp38l240000gn/T/ipykernel_19312/1508289565.py:212: FutureWarning: The `geometries` module and `geometries_from_X` functions have been renamed the `features` module and `features_from_X` functions. Use these instead. The `geometries` module and function names are deprecated and will be removed in the v2.0.0 release. See the OSMnx v2 migration guide: https://github.com/gboeing/osmnx/issues/1123\n",
            "  all_buildings_from_osm = ox.geometries_from_bbox(north, south, east, west, tags)\n",
            "/Library/Frameworks/Python.framework/Versions/3.10/lib/python3.10/site-packages/osmnx/geometries.py:48: FutureWarning: The `north`, `south`, `east`, and `west` parameters are deprecated and will be removed in the v2.0.0 release. Use the `bbox` parameter instead. See the OSMnx v2 migration guide: https://github.com/gboeing/osmnx/issues/1123\n",
            "  return features.features_from_bbox(north, south, east, west, tags=tags)\n",
            "/Library/Frameworks/Python.framework/Versions/3.10/lib/python3.10/site-packages/osmnx/geometries.py:48: FutureWarning: The expected order of coordinates in `bbox` will change in the v2.0.0 release to `(left, bottom, right, top)`.\n",
            "  return features.features_from_bbox(north, south, east, west, tags=tags)\n"
          ]
        },
        {
          "name": "stdout",
          "output_type": "stream",
          "text": [
            "osm_uk_5_12.csv has been formed successfully\n",
            "Getting dataframe to form osm_uk_5_13.csv\n"
          ]
        },
        {
          "name": "stderr",
          "output_type": "stream",
          "text": [
            "/var/folders/tq/f7lcjhp564g26624rbp38l240000gn/T/ipykernel_19312/1508289565.py:212: FutureWarning: The `geometries` module and `geometries_from_X` functions have been renamed the `features` module and `features_from_X` functions. Use these instead. The `geometries` module and function names are deprecated and will be removed in the v2.0.0 release. See the OSMnx v2 migration guide: https://github.com/gboeing/osmnx/issues/1123\n",
            "  all_buildings_from_osm = ox.geometries_from_bbox(north, south, east, west, tags)\n",
            "/Library/Frameworks/Python.framework/Versions/3.10/lib/python3.10/site-packages/osmnx/geometries.py:48: FutureWarning: The `north`, `south`, `east`, and `west` parameters are deprecated and will be removed in the v2.0.0 release. Use the `bbox` parameter instead. See the OSMnx v2 migration guide: https://github.com/gboeing/osmnx/issues/1123\n",
            "  return features.features_from_bbox(north, south, east, west, tags=tags)\n",
            "/Library/Frameworks/Python.framework/Versions/3.10/lib/python3.10/site-packages/osmnx/geometries.py:48: FutureWarning: The expected order of coordinates in `bbox` will change in the v2.0.0 release to `(left, bottom, right, top)`.\n",
            "  return features.features_from_bbox(north, south, east, west, tags=tags)\n"
          ]
        },
        {
          "name": "stdout",
          "output_type": "stream",
          "text": [
            "osm_uk_5_13.csv has been formed successfully\n",
            "Getting dataframe to form osm_uk_5_14.csv\n"
          ]
        },
        {
          "name": "stderr",
          "output_type": "stream",
          "text": [
            "/var/folders/tq/f7lcjhp564g26624rbp38l240000gn/T/ipykernel_19312/1508289565.py:212: FutureWarning: The `geometries` module and `geometries_from_X` functions have been renamed the `features` module and `features_from_X` functions. Use these instead. The `geometries` module and function names are deprecated and will be removed in the v2.0.0 release. See the OSMnx v2 migration guide: https://github.com/gboeing/osmnx/issues/1123\n",
            "  all_buildings_from_osm = ox.geometries_from_bbox(north, south, east, west, tags)\n",
            "/Library/Frameworks/Python.framework/Versions/3.10/lib/python3.10/site-packages/osmnx/geometries.py:48: FutureWarning: The `north`, `south`, `east`, and `west` parameters are deprecated and will be removed in the v2.0.0 release. Use the `bbox` parameter instead. See the OSMnx v2 migration guide: https://github.com/gboeing/osmnx/issues/1123\n",
            "  return features.features_from_bbox(north, south, east, west, tags=tags)\n",
            "/Library/Frameworks/Python.framework/Versions/3.10/lib/python3.10/site-packages/osmnx/geometries.py:48: FutureWarning: The expected order of coordinates in `bbox` will change in the v2.0.0 release to `(left, bottom, right, top)`.\n",
            "  return features.features_from_bbox(north, south, east, west, tags=tags)\n"
          ]
        },
        {
          "name": "stdout",
          "output_type": "stream",
          "text": [
            "osm_uk_5_14.csv has been formed successfully\n",
            "Getting dataframe to form osm_uk_5_15.csv\n"
          ]
        },
        {
          "name": "stderr",
          "output_type": "stream",
          "text": [
            "/var/folders/tq/f7lcjhp564g26624rbp38l240000gn/T/ipykernel_19312/1508289565.py:212: FutureWarning: The `geometries` module and `geometries_from_X` functions have been renamed the `features` module and `features_from_X` functions. Use these instead. The `geometries` module and function names are deprecated and will be removed in the v2.0.0 release. See the OSMnx v2 migration guide: https://github.com/gboeing/osmnx/issues/1123\n",
            "  all_buildings_from_osm = ox.geometries_from_bbox(north, south, east, west, tags)\n",
            "/Library/Frameworks/Python.framework/Versions/3.10/lib/python3.10/site-packages/osmnx/geometries.py:48: FutureWarning: The `north`, `south`, `east`, and `west` parameters are deprecated and will be removed in the v2.0.0 release. Use the `bbox` parameter instead. See the OSMnx v2 migration guide: https://github.com/gboeing/osmnx/issues/1123\n",
            "  return features.features_from_bbox(north, south, east, west, tags=tags)\n",
            "/Library/Frameworks/Python.framework/Versions/3.10/lib/python3.10/site-packages/osmnx/geometries.py:48: FutureWarning: The expected order of coordinates in `bbox` will change in the v2.0.0 release to `(left, bottom, right, top)`.\n",
            "  return features.features_from_bbox(north, south, east, west, tags=tags)\n"
          ]
        },
        {
          "name": "stdout",
          "output_type": "stream",
          "text": [
            "osm_uk_5_15.csv has been formed successfully\n",
            "Getting dataframe to form osm_uk_5_16.csv\n"
          ]
        },
        {
          "name": "stderr",
          "output_type": "stream",
          "text": [
            "/var/folders/tq/f7lcjhp564g26624rbp38l240000gn/T/ipykernel_19312/1508289565.py:212: FutureWarning: The `geometries` module and `geometries_from_X` functions have been renamed the `features` module and `features_from_X` functions. Use these instead. The `geometries` module and function names are deprecated and will be removed in the v2.0.0 release. See the OSMnx v2 migration guide: https://github.com/gboeing/osmnx/issues/1123\n",
            "  all_buildings_from_osm = ox.geometries_from_bbox(north, south, east, west, tags)\n",
            "/Library/Frameworks/Python.framework/Versions/3.10/lib/python3.10/site-packages/osmnx/geometries.py:48: FutureWarning: The `north`, `south`, `east`, and `west` parameters are deprecated and will be removed in the v2.0.0 release. Use the `bbox` parameter instead. See the OSMnx v2 migration guide: https://github.com/gboeing/osmnx/issues/1123\n",
            "  return features.features_from_bbox(north, south, east, west, tags=tags)\n",
            "/Library/Frameworks/Python.framework/Versions/3.10/lib/python3.10/site-packages/osmnx/geometries.py:48: FutureWarning: The expected order of coordinates in `bbox` will change in the v2.0.0 release to `(left, bottom, right, top)`.\n",
            "  return features.features_from_bbox(north, south, east, west, tags=tags)\n"
          ]
        },
        {
          "name": "stdout",
          "output_type": "stream",
          "text": [
            "osm_uk_5_16.csv has been formed successfully\n",
            "Getting dataframe to form osm_uk_5_17.csv\n"
          ]
        },
        {
          "name": "stderr",
          "output_type": "stream",
          "text": [
            "/var/folders/tq/f7lcjhp564g26624rbp38l240000gn/T/ipykernel_19312/1508289565.py:212: FutureWarning: The `geometries` module and `geometries_from_X` functions have been renamed the `features` module and `features_from_X` functions. Use these instead. The `geometries` module and function names are deprecated and will be removed in the v2.0.0 release. See the OSMnx v2 migration guide: https://github.com/gboeing/osmnx/issues/1123\n",
            "  all_buildings_from_osm = ox.geometries_from_bbox(north, south, east, west, tags)\n",
            "/Library/Frameworks/Python.framework/Versions/3.10/lib/python3.10/site-packages/osmnx/geometries.py:48: FutureWarning: The `north`, `south`, `east`, and `west` parameters are deprecated and will be removed in the v2.0.0 release. Use the `bbox` parameter instead. See the OSMnx v2 migration guide: https://github.com/gboeing/osmnx/issues/1123\n",
            "  return features.features_from_bbox(north, south, east, west, tags=tags)\n",
            "/Library/Frameworks/Python.framework/Versions/3.10/lib/python3.10/site-packages/osmnx/geometries.py:48: FutureWarning: The expected order of coordinates in `bbox` will change in the v2.0.0 release to `(left, bottom, right, top)`.\n",
            "  return features.features_from_bbox(north, south, east, west, tags=tags)\n"
          ]
        },
        {
          "name": "stdout",
          "output_type": "stream",
          "text": [
            "osm_uk_5_17.csv has been formed successfully\n",
            "Getting dataframe to form osm_uk_6_0.csv\n"
          ]
        },
        {
          "name": "stderr",
          "output_type": "stream",
          "text": [
            "/var/folders/tq/f7lcjhp564g26624rbp38l240000gn/T/ipykernel_19312/1508289565.py:212: FutureWarning: The `geometries` module and `geometries_from_X` functions have been renamed the `features` module and `features_from_X` functions. Use these instead. The `geometries` module and function names are deprecated and will be removed in the v2.0.0 release. See the OSMnx v2 migration guide: https://github.com/gboeing/osmnx/issues/1123\n",
            "  all_buildings_from_osm = ox.geometries_from_bbox(north, south, east, west, tags)\n",
            "/Library/Frameworks/Python.framework/Versions/3.10/lib/python3.10/site-packages/osmnx/geometries.py:48: FutureWarning: The `north`, `south`, `east`, and `west` parameters are deprecated and will be removed in the v2.0.0 release. Use the `bbox` parameter instead. See the OSMnx v2 migration guide: https://github.com/gboeing/osmnx/issues/1123\n",
            "  return features.features_from_bbox(north, south, east, west, tags=tags)\n",
            "/Library/Frameworks/Python.framework/Versions/3.10/lib/python3.10/site-packages/osmnx/geometries.py:48: FutureWarning: The expected order of coordinates in `bbox` will change in the v2.0.0 release to `(left, bottom, right, top)`.\n",
            "  return features.features_from_bbox(north, south, east, west, tags=tags)\n"
          ]
        },
        {
          "name": "stdout",
          "output_type": "stream",
          "text": [
            "osm_uk_6_0.csv has been formed successfully\n",
            "Getting dataframe to form osm_uk_6_1.csv\n"
          ]
        },
        {
          "name": "stderr",
          "output_type": "stream",
          "text": [
            "/var/folders/tq/f7lcjhp564g26624rbp38l240000gn/T/ipykernel_19312/1508289565.py:212: FutureWarning: The `geometries` module and `geometries_from_X` functions have been renamed the `features` module and `features_from_X` functions. Use these instead. The `geometries` module and function names are deprecated and will be removed in the v2.0.0 release. See the OSMnx v2 migration guide: https://github.com/gboeing/osmnx/issues/1123\n",
            "  all_buildings_from_osm = ox.geometries_from_bbox(north, south, east, west, tags)\n",
            "/Library/Frameworks/Python.framework/Versions/3.10/lib/python3.10/site-packages/osmnx/geometries.py:48: FutureWarning: The `north`, `south`, `east`, and `west` parameters are deprecated and will be removed in the v2.0.0 release. Use the `bbox` parameter instead. See the OSMnx v2 migration guide: https://github.com/gboeing/osmnx/issues/1123\n",
            "  return features.features_from_bbox(north, south, east, west, tags=tags)\n",
            "/Library/Frameworks/Python.framework/Versions/3.10/lib/python3.10/site-packages/osmnx/geometries.py:48: FutureWarning: The expected order of coordinates in `bbox` will change in the v2.0.0 release to `(left, bottom, right, top)`.\n",
            "  return features.features_from_bbox(north, south, east, west, tags=tags)\n"
          ]
        },
        {
          "name": "stdout",
          "output_type": "stream",
          "text": [
            "osm_uk_6_1.csv has been formed successfully\n",
            "Getting dataframe to form osm_uk_6_2.csv\n"
          ]
        },
        {
          "name": "stderr",
          "output_type": "stream",
          "text": [
            "/var/folders/tq/f7lcjhp564g26624rbp38l240000gn/T/ipykernel_19312/1508289565.py:212: FutureWarning: The `geometries` module and `geometries_from_X` functions have been renamed the `features` module and `features_from_X` functions. Use these instead. The `geometries` module and function names are deprecated and will be removed in the v2.0.0 release. See the OSMnx v2 migration guide: https://github.com/gboeing/osmnx/issues/1123\n",
            "  all_buildings_from_osm = ox.geometries_from_bbox(north, south, east, west, tags)\n",
            "/Library/Frameworks/Python.framework/Versions/3.10/lib/python3.10/site-packages/osmnx/geometries.py:48: FutureWarning: The `north`, `south`, `east`, and `west` parameters are deprecated and will be removed in the v2.0.0 release. Use the `bbox` parameter instead. See the OSMnx v2 migration guide: https://github.com/gboeing/osmnx/issues/1123\n",
            "  return features.features_from_bbox(north, south, east, west, tags=tags)\n",
            "/Library/Frameworks/Python.framework/Versions/3.10/lib/python3.10/site-packages/osmnx/geometries.py:48: FutureWarning: The expected order of coordinates in `bbox` will change in the v2.0.0 release to `(left, bottom, right, top)`.\n",
            "  return features.features_from_bbox(north, south, east, west, tags=tags)\n"
          ]
        },
        {
          "name": "stdout",
          "output_type": "stream",
          "text": [
            "osm_uk_6_2.csv has been formed successfully\n",
            "Getting dataframe to form osm_uk_6_3.csv\n"
          ]
        },
        {
          "name": "stderr",
          "output_type": "stream",
          "text": [
            "/var/folders/tq/f7lcjhp564g26624rbp38l240000gn/T/ipykernel_19312/1508289565.py:212: FutureWarning: The `geometries` module and `geometries_from_X` functions have been renamed the `features` module and `features_from_X` functions. Use these instead. The `geometries` module and function names are deprecated and will be removed in the v2.0.0 release. See the OSMnx v2 migration guide: https://github.com/gboeing/osmnx/issues/1123\n",
            "  all_buildings_from_osm = ox.geometries_from_bbox(north, south, east, west, tags)\n",
            "/Library/Frameworks/Python.framework/Versions/3.10/lib/python3.10/site-packages/osmnx/geometries.py:48: FutureWarning: The `north`, `south`, `east`, and `west` parameters are deprecated and will be removed in the v2.0.0 release. Use the `bbox` parameter instead. See the OSMnx v2 migration guide: https://github.com/gboeing/osmnx/issues/1123\n",
            "  return features.features_from_bbox(north, south, east, west, tags=tags)\n",
            "/Library/Frameworks/Python.framework/Versions/3.10/lib/python3.10/site-packages/osmnx/geometries.py:48: FutureWarning: The expected order of coordinates in `bbox` will change in the v2.0.0 release to `(left, bottom, right, top)`.\n",
            "  return features.features_from_bbox(north, south, east, west, tags=tags)\n"
          ]
        },
        {
          "name": "stdout",
          "output_type": "stream",
          "text": [
            "osm_uk_6_3.csv has not been created due to error \"No data elements in server response. Check log and query location/tags.\"\n",
            "Getting dataframe to form osm_uk_6_4.csv\n"
          ]
        },
        {
          "name": "stderr",
          "output_type": "stream",
          "text": [
            "/var/folders/tq/f7lcjhp564g26624rbp38l240000gn/T/ipykernel_19312/1508289565.py:212: FutureWarning: The `geometries` module and `geometries_from_X` functions have been renamed the `features` module and `features_from_X` functions. Use these instead. The `geometries` module and function names are deprecated and will be removed in the v2.0.0 release. See the OSMnx v2 migration guide: https://github.com/gboeing/osmnx/issues/1123\n",
            "  all_buildings_from_osm = ox.geometries_from_bbox(north, south, east, west, tags)\n",
            "/Library/Frameworks/Python.framework/Versions/3.10/lib/python3.10/site-packages/osmnx/geometries.py:48: FutureWarning: The `north`, `south`, `east`, and `west` parameters are deprecated and will be removed in the v2.0.0 release. Use the `bbox` parameter instead. See the OSMnx v2 migration guide: https://github.com/gboeing/osmnx/issues/1123\n",
            "  return features.features_from_bbox(north, south, east, west, tags=tags)\n",
            "/Library/Frameworks/Python.framework/Versions/3.10/lib/python3.10/site-packages/osmnx/geometries.py:48: FutureWarning: The expected order of coordinates in `bbox` will change in the v2.0.0 release to `(left, bottom, right, top)`.\n",
            "  return features.features_from_bbox(north, south, east, west, tags=tags)\n"
          ]
        },
        {
          "name": "stdout",
          "output_type": "stream",
          "text": [
            "osm_uk_6_4.csv has been formed successfully\n",
            "Getting dataframe to form osm_uk_6_5.csv\n"
          ]
        },
        {
          "name": "stderr",
          "output_type": "stream",
          "text": [
            "/var/folders/tq/f7lcjhp564g26624rbp38l240000gn/T/ipykernel_19312/1508289565.py:212: FutureWarning: The `geometries` module and `geometries_from_X` functions have been renamed the `features` module and `features_from_X` functions. Use these instead. The `geometries` module and function names are deprecated and will be removed in the v2.0.0 release. See the OSMnx v2 migration guide: https://github.com/gboeing/osmnx/issues/1123\n",
            "  all_buildings_from_osm = ox.geometries_from_bbox(north, south, east, west, tags)\n",
            "/Library/Frameworks/Python.framework/Versions/3.10/lib/python3.10/site-packages/osmnx/geometries.py:48: FutureWarning: The `north`, `south`, `east`, and `west` parameters are deprecated and will be removed in the v2.0.0 release. Use the `bbox` parameter instead. See the OSMnx v2 migration guide: https://github.com/gboeing/osmnx/issues/1123\n",
            "  return features.features_from_bbox(north, south, east, west, tags=tags)\n",
            "/Library/Frameworks/Python.framework/Versions/3.10/lib/python3.10/site-packages/osmnx/geometries.py:48: FutureWarning: The expected order of coordinates in `bbox` will change in the v2.0.0 release to `(left, bottom, right, top)`.\n",
            "  return features.features_from_bbox(north, south, east, west, tags=tags)\n"
          ]
        },
        {
          "name": "stdout",
          "output_type": "stream",
          "text": [
            "osm_uk_6_5.csv has been formed successfully\n",
            "Getting dataframe to form osm_uk_6_6.csv\n"
          ]
        },
        {
          "name": "stderr",
          "output_type": "stream",
          "text": [
            "/var/folders/tq/f7lcjhp564g26624rbp38l240000gn/T/ipykernel_19312/1508289565.py:212: FutureWarning: The `geometries` module and `geometries_from_X` functions have been renamed the `features` module and `features_from_X` functions. Use these instead. The `geometries` module and function names are deprecated and will be removed in the v2.0.0 release. See the OSMnx v2 migration guide: https://github.com/gboeing/osmnx/issues/1123\n",
            "  all_buildings_from_osm = ox.geometries_from_bbox(north, south, east, west, tags)\n",
            "/Library/Frameworks/Python.framework/Versions/3.10/lib/python3.10/site-packages/osmnx/geometries.py:48: FutureWarning: The `north`, `south`, `east`, and `west` parameters are deprecated and will be removed in the v2.0.0 release. Use the `bbox` parameter instead. See the OSMnx v2 migration guide: https://github.com/gboeing/osmnx/issues/1123\n",
            "  return features.features_from_bbox(north, south, east, west, tags=tags)\n",
            "/Library/Frameworks/Python.framework/Versions/3.10/lib/python3.10/site-packages/osmnx/geometries.py:48: FutureWarning: The expected order of coordinates in `bbox` will change in the v2.0.0 release to `(left, bottom, right, top)`.\n",
            "  return features.features_from_bbox(north, south, east, west, tags=tags)\n"
          ]
        },
        {
          "name": "stdout",
          "output_type": "stream",
          "text": [
            "osm_uk_6_6.csv has been formed successfully\n",
            "Getting dataframe to form osm_uk_6_7.csv\n"
          ]
        },
        {
          "name": "stderr",
          "output_type": "stream",
          "text": [
            "/var/folders/tq/f7lcjhp564g26624rbp38l240000gn/T/ipykernel_19312/1508289565.py:212: FutureWarning: The `geometries` module and `geometries_from_X` functions have been renamed the `features` module and `features_from_X` functions. Use these instead. The `geometries` module and function names are deprecated and will be removed in the v2.0.0 release. See the OSMnx v2 migration guide: https://github.com/gboeing/osmnx/issues/1123\n",
            "  all_buildings_from_osm = ox.geometries_from_bbox(north, south, east, west, tags)\n",
            "/Library/Frameworks/Python.framework/Versions/3.10/lib/python3.10/site-packages/osmnx/geometries.py:48: FutureWarning: The `north`, `south`, `east`, and `west` parameters are deprecated and will be removed in the v2.0.0 release. Use the `bbox` parameter instead. See the OSMnx v2 migration guide: https://github.com/gboeing/osmnx/issues/1123\n",
            "  return features.features_from_bbox(north, south, east, west, tags=tags)\n",
            "/Library/Frameworks/Python.framework/Versions/3.10/lib/python3.10/site-packages/osmnx/geometries.py:48: FutureWarning: The expected order of coordinates in `bbox` will change in the v2.0.0 release to `(left, bottom, right, top)`.\n",
            "  return features.features_from_bbox(north, south, east, west, tags=tags)\n"
          ]
        },
        {
          "name": "stdout",
          "output_type": "stream",
          "text": [
            "osm_uk_6_7.csv has been formed successfully\n",
            "Getting dataframe to form osm_uk_6_8.csv\n"
          ]
        },
        {
          "name": "stderr",
          "output_type": "stream",
          "text": [
            "/var/folders/tq/f7lcjhp564g26624rbp38l240000gn/T/ipykernel_19312/1508289565.py:212: FutureWarning: The `geometries` module and `geometries_from_X` functions have been renamed the `features` module and `features_from_X` functions. Use these instead. The `geometries` module and function names are deprecated and will be removed in the v2.0.0 release. See the OSMnx v2 migration guide: https://github.com/gboeing/osmnx/issues/1123\n",
            "  all_buildings_from_osm = ox.geometries_from_bbox(north, south, east, west, tags)\n",
            "/Library/Frameworks/Python.framework/Versions/3.10/lib/python3.10/site-packages/osmnx/geometries.py:48: FutureWarning: The `north`, `south`, `east`, and `west` parameters are deprecated and will be removed in the v2.0.0 release. Use the `bbox` parameter instead. See the OSMnx v2 migration guide: https://github.com/gboeing/osmnx/issues/1123\n",
            "  return features.features_from_bbox(north, south, east, west, tags=tags)\n",
            "/Library/Frameworks/Python.framework/Versions/3.10/lib/python3.10/site-packages/osmnx/geometries.py:48: FutureWarning: The expected order of coordinates in `bbox` will change in the v2.0.0 release to `(left, bottom, right, top)`.\n",
            "  return features.features_from_bbox(north, south, east, west, tags=tags)\n"
          ]
        },
        {
          "name": "stdout",
          "output_type": "stream",
          "text": [
            "osm_uk_6_8.csv has been formed successfully\n",
            "Getting dataframe to form osm_uk_6_9.csv\n"
          ]
        },
        {
          "name": "stderr",
          "output_type": "stream",
          "text": [
            "/var/folders/tq/f7lcjhp564g26624rbp38l240000gn/T/ipykernel_19312/1508289565.py:212: FutureWarning: The `geometries` module and `geometries_from_X` functions have been renamed the `features` module and `features_from_X` functions. Use these instead. The `geometries` module and function names are deprecated and will be removed in the v2.0.0 release. See the OSMnx v2 migration guide: https://github.com/gboeing/osmnx/issues/1123\n",
            "  all_buildings_from_osm = ox.geometries_from_bbox(north, south, east, west, tags)\n",
            "/Library/Frameworks/Python.framework/Versions/3.10/lib/python3.10/site-packages/osmnx/geometries.py:48: FutureWarning: The `north`, `south`, `east`, and `west` parameters are deprecated and will be removed in the v2.0.0 release. Use the `bbox` parameter instead. See the OSMnx v2 migration guide: https://github.com/gboeing/osmnx/issues/1123\n",
            "  return features.features_from_bbox(north, south, east, west, tags=tags)\n",
            "/Library/Frameworks/Python.framework/Versions/3.10/lib/python3.10/site-packages/osmnx/geometries.py:48: FutureWarning: The expected order of coordinates in `bbox` will change in the v2.0.0 release to `(left, bottom, right, top)`.\n",
            "  return features.features_from_bbox(north, south, east, west, tags=tags)\n"
          ]
        },
        {
          "name": "stdout",
          "output_type": "stream",
          "text": [
            "osm_uk_6_9.csv has been formed successfully\n",
            "Getting dataframe to form osm_uk_6_10.csv\n"
          ]
        },
        {
          "name": "stderr",
          "output_type": "stream",
          "text": [
            "/var/folders/tq/f7lcjhp564g26624rbp38l240000gn/T/ipykernel_19312/1508289565.py:212: FutureWarning: The `geometries` module and `geometries_from_X` functions have been renamed the `features` module and `features_from_X` functions. Use these instead. The `geometries` module and function names are deprecated and will be removed in the v2.0.0 release. See the OSMnx v2 migration guide: https://github.com/gboeing/osmnx/issues/1123\n",
            "  all_buildings_from_osm = ox.geometries_from_bbox(north, south, east, west, tags)\n",
            "/Library/Frameworks/Python.framework/Versions/3.10/lib/python3.10/site-packages/osmnx/geometries.py:48: FutureWarning: The `north`, `south`, `east`, and `west` parameters are deprecated and will be removed in the v2.0.0 release. Use the `bbox` parameter instead. See the OSMnx v2 migration guide: https://github.com/gboeing/osmnx/issues/1123\n",
            "  return features.features_from_bbox(north, south, east, west, tags=tags)\n",
            "/Library/Frameworks/Python.framework/Versions/3.10/lib/python3.10/site-packages/osmnx/geometries.py:48: FutureWarning: The expected order of coordinates in `bbox` will change in the v2.0.0 release to `(left, bottom, right, top)`.\n",
            "  return features.features_from_bbox(north, south, east, west, tags=tags)\n"
          ]
        },
        {
          "name": "stdout",
          "output_type": "stream",
          "text": [
            "osm_uk_6_10.csv has been formed successfully\n",
            "Getting dataframe to form osm_uk_6_11.csv\n"
          ]
        },
        {
          "name": "stderr",
          "output_type": "stream",
          "text": [
            "/var/folders/tq/f7lcjhp564g26624rbp38l240000gn/T/ipykernel_19312/1508289565.py:212: FutureWarning: The `geometries` module and `geometries_from_X` functions have been renamed the `features` module and `features_from_X` functions. Use these instead. The `geometries` module and function names are deprecated and will be removed in the v2.0.0 release. See the OSMnx v2 migration guide: https://github.com/gboeing/osmnx/issues/1123\n",
            "  all_buildings_from_osm = ox.geometries_from_bbox(north, south, east, west, tags)\n",
            "/Library/Frameworks/Python.framework/Versions/3.10/lib/python3.10/site-packages/osmnx/geometries.py:48: FutureWarning: The `north`, `south`, `east`, and `west` parameters are deprecated and will be removed in the v2.0.0 release. Use the `bbox` parameter instead. See the OSMnx v2 migration guide: https://github.com/gboeing/osmnx/issues/1123\n",
            "  return features.features_from_bbox(north, south, east, west, tags=tags)\n",
            "/Library/Frameworks/Python.framework/Versions/3.10/lib/python3.10/site-packages/osmnx/geometries.py:48: FutureWarning: The expected order of coordinates in `bbox` will change in the v2.0.0 release to `(left, bottom, right, top)`.\n",
            "  return features.features_from_bbox(north, south, east, west, tags=tags)\n"
          ]
        },
        {
          "name": "stdout",
          "output_type": "stream",
          "text": [
            "osm_uk_6_11.csv has been formed successfully\n",
            "Getting dataframe to form osm_uk_6_12.csv\n"
          ]
        },
        {
          "name": "stderr",
          "output_type": "stream",
          "text": [
            "/var/folders/tq/f7lcjhp564g26624rbp38l240000gn/T/ipykernel_19312/1508289565.py:212: FutureWarning: The `geometries` module and `geometries_from_X` functions have been renamed the `features` module and `features_from_X` functions. Use these instead. The `geometries` module and function names are deprecated and will be removed in the v2.0.0 release. See the OSMnx v2 migration guide: https://github.com/gboeing/osmnx/issues/1123\n",
            "  all_buildings_from_osm = ox.geometries_from_bbox(north, south, east, west, tags)\n",
            "/Library/Frameworks/Python.framework/Versions/3.10/lib/python3.10/site-packages/osmnx/geometries.py:48: FutureWarning: The `north`, `south`, `east`, and `west` parameters are deprecated and will be removed in the v2.0.0 release. Use the `bbox` parameter instead. See the OSMnx v2 migration guide: https://github.com/gboeing/osmnx/issues/1123\n",
            "  return features.features_from_bbox(north, south, east, west, tags=tags)\n",
            "/Library/Frameworks/Python.framework/Versions/3.10/lib/python3.10/site-packages/osmnx/geometries.py:48: FutureWarning: The expected order of coordinates in `bbox` will change in the v2.0.0 release to `(left, bottom, right, top)`.\n",
            "  return features.features_from_bbox(north, south, east, west, tags=tags)\n"
          ]
        },
        {
          "name": "stdout",
          "output_type": "stream",
          "text": [
            "osm_uk_6_12.csv has been formed successfully\n",
            "Getting dataframe to form osm_uk_6_13.csv\n"
          ]
        },
        {
          "name": "stderr",
          "output_type": "stream",
          "text": [
            "/var/folders/tq/f7lcjhp564g26624rbp38l240000gn/T/ipykernel_19312/1508289565.py:212: FutureWarning: The `geometries` module and `geometries_from_X` functions have been renamed the `features` module and `features_from_X` functions. Use these instead. The `geometries` module and function names are deprecated and will be removed in the v2.0.0 release. See the OSMnx v2 migration guide: https://github.com/gboeing/osmnx/issues/1123\n",
            "  all_buildings_from_osm = ox.geometries_from_bbox(north, south, east, west, tags)\n",
            "/Library/Frameworks/Python.framework/Versions/3.10/lib/python3.10/site-packages/osmnx/geometries.py:48: FutureWarning: The `north`, `south`, `east`, and `west` parameters are deprecated and will be removed in the v2.0.0 release. Use the `bbox` parameter instead. See the OSMnx v2 migration guide: https://github.com/gboeing/osmnx/issues/1123\n",
            "  return features.features_from_bbox(north, south, east, west, tags=tags)\n",
            "/Library/Frameworks/Python.framework/Versions/3.10/lib/python3.10/site-packages/osmnx/geometries.py:48: FutureWarning: The expected order of coordinates in `bbox` will change in the v2.0.0 release to `(left, bottom, right, top)`.\n",
            "  return features.features_from_bbox(north, south, east, west, tags=tags)\n"
          ]
        },
        {
          "name": "stdout",
          "output_type": "stream",
          "text": [
            "osm_uk_6_13.csv has been formed successfully\n",
            "Getting dataframe to form osm_uk_6_14.csv\n"
          ]
        },
        {
          "name": "stderr",
          "output_type": "stream",
          "text": [
            "/var/folders/tq/f7lcjhp564g26624rbp38l240000gn/T/ipykernel_19312/1508289565.py:212: FutureWarning: The `geometries` module and `geometries_from_X` functions have been renamed the `features` module and `features_from_X` functions. Use these instead. The `geometries` module and function names are deprecated and will be removed in the v2.0.0 release. See the OSMnx v2 migration guide: https://github.com/gboeing/osmnx/issues/1123\n",
            "  all_buildings_from_osm = ox.geometries_from_bbox(north, south, east, west, tags)\n",
            "/Library/Frameworks/Python.framework/Versions/3.10/lib/python3.10/site-packages/osmnx/geometries.py:48: FutureWarning: The `north`, `south`, `east`, and `west` parameters are deprecated and will be removed in the v2.0.0 release. Use the `bbox` parameter instead. See the OSMnx v2 migration guide: https://github.com/gboeing/osmnx/issues/1123\n",
            "  return features.features_from_bbox(north, south, east, west, tags=tags)\n",
            "/Library/Frameworks/Python.framework/Versions/3.10/lib/python3.10/site-packages/osmnx/geometries.py:48: FutureWarning: The expected order of coordinates in `bbox` will change in the v2.0.0 release to `(left, bottom, right, top)`.\n",
            "  return features.features_from_bbox(north, south, east, west, tags=tags)\n"
          ]
        },
        {
          "name": "stdout",
          "output_type": "stream",
          "text": [
            "osm_uk_6_14.csv has been formed successfully\n",
            "Getting dataframe to form osm_uk_6_15.csv\n"
          ]
        },
        {
          "name": "stderr",
          "output_type": "stream",
          "text": [
            "/var/folders/tq/f7lcjhp564g26624rbp38l240000gn/T/ipykernel_19312/1508289565.py:212: FutureWarning: The `geometries` module and `geometries_from_X` functions have been renamed the `features` module and `features_from_X` functions. Use these instead. The `geometries` module and function names are deprecated and will be removed in the v2.0.0 release. See the OSMnx v2 migration guide: https://github.com/gboeing/osmnx/issues/1123\n",
            "  all_buildings_from_osm = ox.geometries_from_bbox(north, south, east, west, tags)\n",
            "/Library/Frameworks/Python.framework/Versions/3.10/lib/python3.10/site-packages/osmnx/geometries.py:48: FutureWarning: The `north`, `south`, `east`, and `west` parameters are deprecated and will be removed in the v2.0.0 release. Use the `bbox` parameter instead. See the OSMnx v2 migration guide: https://github.com/gboeing/osmnx/issues/1123\n",
            "  return features.features_from_bbox(north, south, east, west, tags=tags)\n",
            "/Library/Frameworks/Python.framework/Versions/3.10/lib/python3.10/site-packages/osmnx/geometries.py:48: FutureWarning: The expected order of coordinates in `bbox` will change in the v2.0.0 release to `(left, bottom, right, top)`.\n",
            "  return features.features_from_bbox(north, south, east, west, tags=tags)\n"
          ]
        },
        {
          "name": "stdout",
          "output_type": "stream",
          "text": [
            "osm_uk_6_15.csv has been formed successfully\n",
            "Getting dataframe to form osm_uk_6_16.csv\n"
          ]
        },
        {
          "name": "stderr",
          "output_type": "stream",
          "text": [
            "/var/folders/tq/f7lcjhp564g26624rbp38l240000gn/T/ipykernel_19312/1508289565.py:212: FutureWarning: The `geometries` module and `geometries_from_X` functions have been renamed the `features` module and `features_from_X` functions. Use these instead. The `geometries` module and function names are deprecated and will be removed in the v2.0.0 release. See the OSMnx v2 migration guide: https://github.com/gboeing/osmnx/issues/1123\n",
            "  all_buildings_from_osm = ox.geometries_from_bbox(north, south, east, west, tags)\n",
            "/Library/Frameworks/Python.framework/Versions/3.10/lib/python3.10/site-packages/osmnx/geometries.py:48: FutureWarning: The `north`, `south`, `east`, and `west` parameters are deprecated and will be removed in the v2.0.0 release. Use the `bbox` parameter instead. See the OSMnx v2 migration guide: https://github.com/gboeing/osmnx/issues/1123\n",
            "  return features.features_from_bbox(north, south, east, west, tags=tags)\n",
            "/Library/Frameworks/Python.framework/Versions/3.10/lib/python3.10/site-packages/osmnx/geometries.py:48: FutureWarning: The expected order of coordinates in `bbox` will change in the v2.0.0 release to `(left, bottom, right, top)`.\n",
            "  return features.features_from_bbox(north, south, east, west, tags=tags)\n"
          ]
        },
        {
          "name": "stdout",
          "output_type": "stream",
          "text": [
            "osm_uk_6_16.csv has been formed successfully\n",
            "Getting dataframe to form osm_uk_6_17.csv\n"
          ]
        },
        {
          "name": "stderr",
          "output_type": "stream",
          "text": [
            "/var/folders/tq/f7lcjhp564g26624rbp38l240000gn/T/ipykernel_19312/1508289565.py:212: FutureWarning: The `geometries` module and `geometries_from_X` functions have been renamed the `features` module and `features_from_X` functions. Use these instead. The `geometries` module and function names are deprecated and will be removed in the v2.0.0 release. See the OSMnx v2 migration guide: https://github.com/gboeing/osmnx/issues/1123\n",
            "  all_buildings_from_osm = ox.geometries_from_bbox(north, south, east, west, tags)\n",
            "/Library/Frameworks/Python.framework/Versions/3.10/lib/python3.10/site-packages/osmnx/geometries.py:48: FutureWarning: The `north`, `south`, `east`, and `west` parameters are deprecated and will be removed in the v2.0.0 release. Use the `bbox` parameter instead. See the OSMnx v2 migration guide: https://github.com/gboeing/osmnx/issues/1123\n",
            "  return features.features_from_bbox(north, south, east, west, tags=tags)\n",
            "/Library/Frameworks/Python.framework/Versions/3.10/lib/python3.10/site-packages/osmnx/geometries.py:48: FutureWarning: The expected order of coordinates in `bbox` will change in the v2.0.0 release to `(left, bottom, right, top)`.\n",
            "  return features.features_from_bbox(north, south, east, west, tags=tags)\n"
          ]
        },
        {
          "name": "stdout",
          "output_type": "stream",
          "text": [
            "osm_uk_6_17.csv has been formed successfully\n",
            "Getting dataframe to form osm_uk_7_0.csv\n"
          ]
        },
        {
          "name": "stderr",
          "output_type": "stream",
          "text": [
            "/var/folders/tq/f7lcjhp564g26624rbp38l240000gn/T/ipykernel_19312/1508289565.py:212: FutureWarning: The `geometries` module and `geometries_from_X` functions have been renamed the `features` module and `features_from_X` functions. Use these instead. The `geometries` module and function names are deprecated and will be removed in the v2.0.0 release. See the OSMnx v2 migration guide: https://github.com/gboeing/osmnx/issues/1123\n",
            "  all_buildings_from_osm = ox.geometries_from_bbox(north, south, east, west, tags)\n",
            "/Library/Frameworks/Python.framework/Versions/3.10/lib/python3.10/site-packages/osmnx/geometries.py:48: FutureWarning: The `north`, `south`, `east`, and `west` parameters are deprecated and will be removed in the v2.0.0 release. Use the `bbox` parameter instead. See the OSMnx v2 migration guide: https://github.com/gboeing/osmnx/issues/1123\n",
            "  return features.features_from_bbox(north, south, east, west, tags=tags)\n",
            "/Library/Frameworks/Python.framework/Versions/3.10/lib/python3.10/site-packages/osmnx/geometries.py:48: FutureWarning: The expected order of coordinates in `bbox` will change in the v2.0.0 release to `(left, bottom, right, top)`.\n",
            "  return features.features_from_bbox(north, south, east, west, tags=tags)\n"
          ]
        },
        {
          "name": "stdout",
          "output_type": "stream",
          "text": [
            "osm_uk_7_0.csv has been formed successfully\n",
            "Getting dataframe to form osm_uk_7_1.csv\n"
          ]
        },
        {
          "name": "stderr",
          "output_type": "stream",
          "text": [
            "/var/folders/tq/f7lcjhp564g26624rbp38l240000gn/T/ipykernel_19312/1508289565.py:212: FutureWarning: The `geometries` module and `geometries_from_X` functions have been renamed the `features` module and `features_from_X` functions. Use these instead. The `geometries` module and function names are deprecated and will be removed in the v2.0.0 release. See the OSMnx v2 migration guide: https://github.com/gboeing/osmnx/issues/1123\n",
            "  all_buildings_from_osm = ox.geometries_from_bbox(north, south, east, west, tags)\n",
            "/Library/Frameworks/Python.framework/Versions/3.10/lib/python3.10/site-packages/osmnx/geometries.py:48: FutureWarning: The `north`, `south`, `east`, and `west` parameters are deprecated and will be removed in the v2.0.0 release. Use the `bbox` parameter instead. See the OSMnx v2 migration guide: https://github.com/gboeing/osmnx/issues/1123\n",
            "  return features.features_from_bbox(north, south, east, west, tags=tags)\n",
            "/Library/Frameworks/Python.framework/Versions/3.10/lib/python3.10/site-packages/osmnx/geometries.py:48: FutureWarning: The expected order of coordinates in `bbox` will change in the v2.0.0 release to `(left, bottom, right, top)`.\n",
            "  return features.features_from_bbox(north, south, east, west, tags=tags)\n"
          ]
        },
        {
          "name": "stdout",
          "output_type": "stream",
          "text": [
            "osm_uk_7_1.csv has been formed successfully\n",
            "Getting dataframe to form osm_uk_7_2.csv\n"
          ]
        },
        {
          "name": "stderr",
          "output_type": "stream",
          "text": [
            "/var/folders/tq/f7lcjhp564g26624rbp38l240000gn/T/ipykernel_19312/1508289565.py:212: FutureWarning: The `geometries` module and `geometries_from_X` functions have been renamed the `features` module and `features_from_X` functions. Use these instead. The `geometries` module and function names are deprecated and will be removed in the v2.0.0 release. See the OSMnx v2 migration guide: https://github.com/gboeing/osmnx/issues/1123\n",
            "  all_buildings_from_osm = ox.geometries_from_bbox(north, south, east, west, tags)\n",
            "/Library/Frameworks/Python.framework/Versions/3.10/lib/python3.10/site-packages/osmnx/geometries.py:48: FutureWarning: The `north`, `south`, `east`, and `west` parameters are deprecated and will be removed in the v2.0.0 release. Use the `bbox` parameter instead. See the OSMnx v2 migration guide: https://github.com/gboeing/osmnx/issues/1123\n",
            "  return features.features_from_bbox(north, south, east, west, tags=tags)\n",
            "/Library/Frameworks/Python.framework/Versions/3.10/lib/python3.10/site-packages/osmnx/geometries.py:48: FutureWarning: The expected order of coordinates in `bbox` will change in the v2.0.0 release to `(left, bottom, right, top)`.\n",
            "  return features.features_from_bbox(north, south, east, west, tags=tags)\n"
          ]
        },
        {
          "name": "stdout",
          "output_type": "stream",
          "text": [
            "osm_uk_7_2.csv has not been created due to error \"No data elements in server response. Check log and query location/tags.\"\n",
            "Getting dataframe to form osm_uk_7_3.csv\n"
          ]
        },
        {
          "name": "stderr",
          "output_type": "stream",
          "text": [
            "/var/folders/tq/f7lcjhp564g26624rbp38l240000gn/T/ipykernel_19312/1508289565.py:212: FutureWarning: The `geometries` module and `geometries_from_X` functions have been renamed the `features` module and `features_from_X` functions. Use these instead. The `geometries` module and function names are deprecated and will be removed in the v2.0.0 release. See the OSMnx v2 migration guide: https://github.com/gboeing/osmnx/issues/1123\n",
            "  all_buildings_from_osm = ox.geometries_from_bbox(north, south, east, west, tags)\n",
            "/Library/Frameworks/Python.framework/Versions/3.10/lib/python3.10/site-packages/osmnx/geometries.py:48: FutureWarning: The `north`, `south`, `east`, and `west` parameters are deprecated and will be removed in the v2.0.0 release. Use the `bbox` parameter instead. See the OSMnx v2 migration guide: https://github.com/gboeing/osmnx/issues/1123\n",
            "  return features.features_from_bbox(north, south, east, west, tags=tags)\n",
            "/Library/Frameworks/Python.framework/Versions/3.10/lib/python3.10/site-packages/osmnx/geometries.py:48: FutureWarning: The expected order of coordinates in `bbox` will change in the v2.0.0 release to `(left, bottom, right, top)`.\n",
            "  return features.features_from_bbox(north, south, east, west, tags=tags)\n"
          ]
        },
        {
          "name": "stdout",
          "output_type": "stream",
          "text": [
            "osm_uk_7_3.csv has not been created due to error \"No data elements in server response. Check log and query location/tags.\"\n",
            "Getting dataframe to form osm_uk_7_4.csv\n"
          ]
        },
        {
          "name": "stderr",
          "output_type": "stream",
          "text": [
            "/var/folders/tq/f7lcjhp564g26624rbp38l240000gn/T/ipykernel_19312/1508289565.py:212: FutureWarning: The `geometries` module and `geometries_from_X` functions have been renamed the `features` module and `features_from_X` functions. Use these instead. The `geometries` module and function names are deprecated and will be removed in the v2.0.0 release. See the OSMnx v2 migration guide: https://github.com/gboeing/osmnx/issues/1123\n",
            "  all_buildings_from_osm = ox.geometries_from_bbox(north, south, east, west, tags)\n",
            "/Library/Frameworks/Python.framework/Versions/3.10/lib/python3.10/site-packages/osmnx/geometries.py:48: FutureWarning: The `north`, `south`, `east`, and `west` parameters are deprecated and will be removed in the v2.0.0 release. Use the `bbox` parameter instead. See the OSMnx v2 migration guide: https://github.com/gboeing/osmnx/issues/1123\n",
            "  return features.features_from_bbox(north, south, east, west, tags=tags)\n",
            "/Library/Frameworks/Python.framework/Versions/3.10/lib/python3.10/site-packages/osmnx/geometries.py:48: FutureWarning: The expected order of coordinates in `bbox` will change in the v2.0.0 release to `(left, bottom, right, top)`.\n",
            "  return features.features_from_bbox(north, south, east, west, tags=tags)\n"
          ]
        },
        {
          "name": "stdout",
          "output_type": "stream",
          "text": [
            "osm_uk_7_4.csv has been formed successfully\n",
            "Getting dataframe to form osm_uk_7_5.csv\n"
          ]
        },
        {
          "name": "stderr",
          "output_type": "stream",
          "text": [
            "/var/folders/tq/f7lcjhp564g26624rbp38l240000gn/T/ipykernel_19312/1508289565.py:212: FutureWarning: The `geometries` module and `geometries_from_X` functions have been renamed the `features` module and `features_from_X` functions. Use these instead. The `geometries` module and function names are deprecated and will be removed in the v2.0.0 release. See the OSMnx v2 migration guide: https://github.com/gboeing/osmnx/issues/1123\n",
            "  all_buildings_from_osm = ox.geometries_from_bbox(north, south, east, west, tags)\n",
            "/Library/Frameworks/Python.framework/Versions/3.10/lib/python3.10/site-packages/osmnx/geometries.py:48: FutureWarning: The `north`, `south`, `east`, and `west` parameters are deprecated and will be removed in the v2.0.0 release. Use the `bbox` parameter instead. See the OSMnx v2 migration guide: https://github.com/gboeing/osmnx/issues/1123\n",
            "  return features.features_from_bbox(north, south, east, west, tags=tags)\n",
            "/Library/Frameworks/Python.framework/Versions/3.10/lib/python3.10/site-packages/osmnx/geometries.py:48: FutureWarning: The expected order of coordinates in `bbox` will change in the v2.0.0 release to `(left, bottom, right, top)`.\n",
            "  return features.features_from_bbox(north, south, east, west, tags=tags)\n"
          ]
        },
        {
          "name": "stdout",
          "output_type": "stream",
          "text": [
            "osm_uk_7_5.csv has been formed successfully\n",
            "Getting dataframe to form osm_uk_7_6.csv\n"
          ]
        },
        {
          "name": "stderr",
          "output_type": "stream",
          "text": [
            "/var/folders/tq/f7lcjhp564g26624rbp38l240000gn/T/ipykernel_19312/1508289565.py:212: FutureWarning: The `geometries` module and `geometries_from_X` functions have been renamed the `features` module and `features_from_X` functions. Use these instead. The `geometries` module and function names are deprecated and will be removed in the v2.0.0 release. See the OSMnx v2 migration guide: https://github.com/gboeing/osmnx/issues/1123\n",
            "  all_buildings_from_osm = ox.geometries_from_bbox(north, south, east, west, tags)\n",
            "/Library/Frameworks/Python.framework/Versions/3.10/lib/python3.10/site-packages/osmnx/geometries.py:48: FutureWarning: The `north`, `south`, `east`, and `west` parameters are deprecated and will be removed in the v2.0.0 release. Use the `bbox` parameter instead. See the OSMnx v2 migration guide: https://github.com/gboeing/osmnx/issues/1123\n",
            "  return features.features_from_bbox(north, south, east, west, tags=tags)\n",
            "/Library/Frameworks/Python.framework/Versions/3.10/lib/python3.10/site-packages/osmnx/geometries.py:48: FutureWarning: The expected order of coordinates in `bbox` will change in the v2.0.0 release to `(left, bottom, right, top)`.\n",
            "  return features.features_from_bbox(north, south, east, west, tags=tags)\n"
          ]
        },
        {
          "name": "stdout",
          "output_type": "stream",
          "text": [
            "osm_uk_7_6.csv has been formed successfully\n",
            "Getting dataframe to form osm_uk_7_7.csv\n"
          ]
        },
        {
          "name": "stderr",
          "output_type": "stream",
          "text": [
            "/var/folders/tq/f7lcjhp564g26624rbp38l240000gn/T/ipykernel_19312/1508289565.py:212: FutureWarning: The `geometries` module and `geometries_from_X` functions have been renamed the `features` module and `features_from_X` functions. Use these instead. The `geometries` module and function names are deprecated and will be removed in the v2.0.0 release. See the OSMnx v2 migration guide: https://github.com/gboeing/osmnx/issues/1123\n",
            "  all_buildings_from_osm = ox.geometries_from_bbox(north, south, east, west, tags)\n",
            "/Library/Frameworks/Python.framework/Versions/3.10/lib/python3.10/site-packages/osmnx/geometries.py:48: FutureWarning: The `north`, `south`, `east`, and `west` parameters are deprecated and will be removed in the v2.0.0 release. Use the `bbox` parameter instead. See the OSMnx v2 migration guide: https://github.com/gboeing/osmnx/issues/1123\n",
            "  return features.features_from_bbox(north, south, east, west, tags=tags)\n",
            "/Library/Frameworks/Python.framework/Versions/3.10/lib/python3.10/site-packages/osmnx/geometries.py:48: FutureWarning: The expected order of coordinates in `bbox` will change in the v2.0.0 release to `(left, bottom, right, top)`.\n",
            "  return features.features_from_bbox(north, south, east, west, tags=tags)\n"
          ]
        },
        {
          "name": "stdout",
          "output_type": "stream",
          "text": [
            "osm_uk_7_7.csv has been formed successfully\n",
            "Getting dataframe to form osm_uk_7_8.csv\n"
          ]
        },
        {
          "name": "stderr",
          "output_type": "stream",
          "text": [
            "/var/folders/tq/f7lcjhp564g26624rbp38l240000gn/T/ipykernel_19312/1508289565.py:212: FutureWarning: The `geometries` module and `geometries_from_X` functions have been renamed the `features` module and `features_from_X` functions. Use these instead. The `geometries` module and function names are deprecated and will be removed in the v2.0.0 release. See the OSMnx v2 migration guide: https://github.com/gboeing/osmnx/issues/1123\n",
            "  all_buildings_from_osm = ox.geometries_from_bbox(north, south, east, west, tags)\n",
            "/Library/Frameworks/Python.framework/Versions/3.10/lib/python3.10/site-packages/osmnx/geometries.py:48: FutureWarning: The `north`, `south`, `east`, and `west` parameters are deprecated and will be removed in the v2.0.0 release. Use the `bbox` parameter instead. See the OSMnx v2 migration guide: https://github.com/gboeing/osmnx/issues/1123\n",
            "  return features.features_from_bbox(north, south, east, west, tags=tags)\n",
            "/Library/Frameworks/Python.framework/Versions/3.10/lib/python3.10/site-packages/osmnx/geometries.py:48: FutureWarning: The expected order of coordinates in `bbox` will change in the v2.0.0 release to `(left, bottom, right, top)`.\n",
            "  return features.features_from_bbox(north, south, east, west, tags=tags)\n"
          ]
        },
        {
          "name": "stdout",
          "output_type": "stream",
          "text": [
            "osm_uk_7_8.csv has been formed successfully\n",
            "Getting dataframe to form osm_uk_7_9.csv\n"
          ]
        },
        {
          "name": "stderr",
          "output_type": "stream",
          "text": [
            "/var/folders/tq/f7lcjhp564g26624rbp38l240000gn/T/ipykernel_19312/1508289565.py:212: FutureWarning: The `geometries` module and `geometries_from_X` functions have been renamed the `features` module and `features_from_X` functions. Use these instead. The `geometries` module and function names are deprecated and will be removed in the v2.0.0 release. See the OSMnx v2 migration guide: https://github.com/gboeing/osmnx/issues/1123\n",
            "  all_buildings_from_osm = ox.geometries_from_bbox(north, south, east, west, tags)\n",
            "/Library/Frameworks/Python.framework/Versions/3.10/lib/python3.10/site-packages/osmnx/geometries.py:48: FutureWarning: The `north`, `south`, `east`, and `west` parameters are deprecated and will be removed in the v2.0.0 release. Use the `bbox` parameter instead. See the OSMnx v2 migration guide: https://github.com/gboeing/osmnx/issues/1123\n",
            "  return features.features_from_bbox(north, south, east, west, tags=tags)\n",
            "/Library/Frameworks/Python.framework/Versions/3.10/lib/python3.10/site-packages/osmnx/geometries.py:48: FutureWarning: The expected order of coordinates in `bbox` will change in the v2.0.0 release to `(left, bottom, right, top)`.\n",
            "  return features.features_from_bbox(north, south, east, west, tags=tags)\n"
          ]
        },
        {
          "name": "stdout",
          "output_type": "stream",
          "text": [
            "osm_uk_7_9.csv has been formed successfully\n",
            "Getting dataframe to form osm_uk_7_10.csv\n"
          ]
        },
        {
          "name": "stderr",
          "output_type": "stream",
          "text": [
            "/var/folders/tq/f7lcjhp564g26624rbp38l240000gn/T/ipykernel_19312/1508289565.py:212: FutureWarning: The `geometries` module and `geometries_from_X` functions have been renamed the `features` module and `features_from_X` functions. Use these instead. The `geometries` module and function names are deprecated and will be removed in the v2.0.0 release. See the OSMnx v2 migration guide: https://github.com/gboeing/osmnx/issues/1123\n",
            "  all_buildings_from_osm = ox.geometries_from_bbox(north, south, east, west, tags)\n",
            "/Library/Frameworks/Python.framework/Versions/3.10/lib/python3.10/site-packages/osmnx/geometries.py:48: FutureWarning: The `north`, `south`, `east`, and `west` parameters are deprecated and will be removed in the v2.0.0 release. Use the `bbox` parameter instead. See the OSMnx v2 migration guide: https://github.com/gboeing/osmnx/issues/1123\n",
            "  return features.features_from_bbox(north, south, east, west, tags=tags)\n",
            "/Library/Frameworks/Python.framework/Versions/3.10/lib/python3.10/site-packages/osmnx/geometries.py:48: FutureWarning: The expected order of coordinates in `bbox` will change in the v2.0.0 release to `(left, bottom, right, top)`.\n",
            "  return features.features_from_bbox(north, south, east, west, tags=tags)\n"
          ]
        },
        {
          "name": "stdout",
          "output_type": "stream",
          "text": [
            "osm_uk_7_10.csv has been formed successfully\n",
            "Getting dataframe to form osm_uk_7_11.csv\n"
          ]
        },
        {
          "name": "stderr",
          "output_type": "stream",
          "text": [
            "/var/folders/tq/f7lcjhp564g26624rbp38l240000gn/T/ipykernel_19312/1508289565.py:212: FutureWarning: The `geometries` module and `geometries_from_X` functions have been renamed the `features` module and `features_from_X` functions. Use these instead. The `geometries` module and function names are deprecated and will be removed in the v2.0.0 release. See the OSMnx v2 migration guide: https://github.com/gboeing/osmnx/issues/1123\n",
            "  all_buildings_from_osm = ox.geometries_from_bbox(north, south, east, west, tags)\n",
            "/Library/Frameworks/Python.framework/Versions/3.10/lib/python3.10/site-packages/osmnx/geometries.py:48: FutureWarning: The `north`, `south`, `east`, and `west` parameters are deprecated and will be removed in the v2.0.0 release. Use the `bbox` parameter instead. See the OSMnx v2 migration guide: https://github.com/gboeing/osmnx/issues/1123\n",
            "  return features.features_from_bbox(north, south, east, west, tags=tags)\n",
            "/Library/Frameworks/Python.framework/Versions/3.10/lib/python3.10/site-packages/osmnx/geometries.py:48: FutureWarning: The expected order of coordinates in `bbox` will change in the v2.0.0 release to `(left, bottom, right, top)`.\n",
            "  return features.features_from_bbox(north, south, east, west, tags=tags)\n"
          ]
        },
        {
          "name": "stdout",
          "output_type": "stream",
          "text": [
            "osm_uk_7_11.csv has been formed successfully\n",
            "Getting dataframe to form osm_uk_7_12.csv\n"
          ]
        },
        {
          "name": "stderr",
          "output_type": "stream",
          "text": [
            "/var/folders/tq/f7lcjhp564g26624rbp38l240000gn/T/ipykernel_19312/1508289565.py:212: FutureWarning: The `geometries` module and `geometries_from_X` functions have been renamed the `features` module and `features_from_X` functions. Use these instead. The `geometries` module and function names are deprecated and will be removed in the v2.0.0 release. See the OSMnx v2 migration guide: https://github.com/gboeing/osmnx/issues/1123\n",
            "  all_buildings_from_osm = ox.geometries_from_bbox(north, south, east, west, tags)\n",
            "/Library/Frameworks/Python.framework/Versions/3.10/lib/python3.10/site-packages/osmnx/geometries.py:48: FutureWarning: The `north`, `south`, `east`, and `west` parameters are deprecated and will be removed in the v2.0.0 release. Use the `bbox` parameter instead. See the OSMnx v2 migration guide: https://github.com/gboeing/osmnx/issues/1123\n",
            "  return features.features_from_bbox(north, south, east, west, tags=tags)\n",
            "/Library/Frameworks/Python.framework/Versions/3.10/lib/python3.10/site-packages/osmnx/geometries.py:48: FutureWarning: The expected order of coordinates in `bbox` will change in the v2.0.0 release to `(left, bottom, right, top)`.\n",
            "  return features.features_from_bbox(north, south, east, west, tags=tags)\n"
          ]
        },
        {
          "name": "stdout",
          "output_type": "stream",
          "text": [
            "osm_uk_7_12.csv has been formed successfully\n",
            "Getting dataframe to form osm_uk_7_13.csv\n"
          ]
        },
        {
          "name": "stderr",
          "output_type": "stream",
          "text": [
            "/var/folders/tq/f7lcjhp564g26624rbp38l240000gn/T/ipykernel_19312/1508289565.py:212: FutureWarning: The `geometries` module and `geometries_from_X` functions have been renamed the `features` module and `features_from_X` functions. Use these instead. The `geometries` module and function names are deprecated and will be removed in the v2.0.0 release. See the OSMnx v2 migration guide: https://github.com/gboeing/osmnx/issues/1123\n",
            "  all_buildings_from_osm = ox.geometries_from_bbox(north, south, east, west, tags)\n",
            "/Library/Frameworks/Python.framework/Versions/3.10/lib/python3.10/site-packages/osmnx/geometries.py:48: FutureWarning: The `north`, `south`, `east`, and `west` parameters are deprecated and will be removed in the v2.0.0 release. Use the `bbox` parameter instead. See the OSMnx v2 migration guide: https://github.com/gboeing/osmnx/issues/1123\n",
            "  return features.features_from_bbox(north, south, east, west, tags=tags)\n",
            "/Library/Frameworks/Python.framework/Versions/3.10/lib/python3.10/site-packages/osmnx/geometries.py:48: FutureWarning: The expected order of coordinates in `bbox` will change in the v2.0.0 release to `(left, bottom, right, top)`.\n",
            "  return features.features_from_bbox(north, south, east, west, tags=tags)\n"
          ]
        },
        {
          "name": "stdout",
          "output_type": "stream",
          "text": [
            "osm_uk_7_13.csv has been formed successfully\n",
            "Getting dataframe to form osm_uk_7_14.csv\n"
          ]
        },
        {
          "name": "stderr",
          "output_type": "stream",
          "text": [
            "/var/folders/tq/f7lcjhp564g26624rbp38l240000gn/T/ipykernel_19312/1508289565.py:212: FutureWarning: The `geometries` module and `geometries_from_X` functions have been renamed the `features` module and `features_from_X` functions. Use these instead. The `geometries` module and function names are deprecated and will be removed in the v2.0.0 release. See the OSMnx v2 migration guide: https://github.com/gboeing/osmnx/issues/1123\n",
            "  all_buildings_from_osm = ox.geometries_from_bbox(north, south, east, west, tags)\n",
            "/Library/Frameworks/Python.framework/Versions/3.10/lib/python3.10/site-packages/osmnx/geometries.py:48: FutureWarning: The `north`, `south`, `east`, and `west` parameters are deprecated and will be removed in the v2.0.0 release. Use the `bbox` parameter instead. See the OSMnx v2 migration guide: https://github.com/gboeing/osmnx/issues/1123\n",
            "  return features.features_from_bbox(north, south, east, west, tags=tags)\n",
            "/Library/Frameworks/Python.framework/Versions/3.10/lib/python3.10/site-packages/osmnx/geometries.py:48: FutureWarning: The expected order of coordinates in `bbox` will change in the v2.0.0 release to `(left, bottom, right, top)`.\n",
            "  return features.features_from_bbox(north, south, east, west, tags=tags)\n"
          ]
        },
        {
          "name": "stdout",
          "output_type": "stream",
          "text": [
            "osm_uk_7_14.csv has been formed successfully\n",
            "Getting dataframe to form osm_uk_7_15.csv\n"
          ]
        },
        {
          "name": "stderr",
          "output_type": "stream",
          "text": [
            "/var/folders/tq/f7lcjhp564g26624rbp38l240000gn/T/ipykernel_19312/1508289565.py:212: FutureWarning: The `geometries` module and `geometries_from_X` functions have been renamed the `features` module and `features_from_X` functions. Use these instead. The `geometries` module and function names are deprecated and will be removed in the v2.0.0 release. See the OSMnx v2 migration guide: https://github.com/gboeing/osmnx/issues/1123\n",
            "  all_buildings_from_osm = ox.geometries_from_bbox(north, south, east, west, tags)\n",
            "/Library/Frameworks/Python.framework/Versions/3.10/lib/python3.10/site-packages/osmnx/geometries.py:48: FutureWarning: The `north`, `south`, `east`, and `west` parameters are deprecated and will be removed in the v2.0.0 release. Use the `bbox` parameter instead. See the OSMnx v2 migration guide: https://github.com/gboeing/osmnx/issues/1123\n",
            "  return features.features_from_bbox(north, south, east, west, tags=tags)\n",
            "/Library/Frameworks/Python.framework/Versions/3.10/lib/python3.10/site-packages/osmnx/geometries.py:48: FutureWarning: The expected order of coordinates in `bbox` will change in the v2.0.0 release to `(left, bottom, right, top)`.\n",
            "  return features.features_from_bbox(north, south, east, west, tags=tags)\n"
          ]
        },
        {
          "name": "stdout",
          "output_type": "stream",
          "text": [
            "osm_uk_7_15.csv has not been created due to error \"No data elements in server response. Check log and query location/tags.\"\n",
            "Getting dataframe to form osm_uk_7_16.csv\n"
          ]
        },
        {
          "name": "stderr",
          "output_type": "stream",
          "text": [
            "/var/folders/tq/f7lcjhp564g26624rbp38l240000gn/T/ipykernel_19312/1508289565.py:212: FutureWarning: The `geometries` module and `geometries_from_X` functions have been renamed the `features` module and `features_from_X` functions. Use these instead. The `geometries` module and function names are deprecated and will be removed in the v2.0.0 release. See the OSMnx v2 migration guide: https://github.com/gboeing/osmnx/issues/1123\n",
            "  all_buildings_from_osm = ox.geometries_from_bbox(north, south, east, west, tags)\n",
            "/Library/Frameworks/Python.framework/Versions/3.10/lib/python3.10/site-packages/osmnx/geometries.py:48: FutureWarning: The `north`, `south`, `east`, and `west` parameters are deprecated and will be removed in the v2.0.0 release. Use the `bbox` parameter instead. See the OSMnx v2 migration guide: https://github.com/gboeing/osmnx/issues/1123\n",
            "  return features.features_from_bbox(north, south, east, west, tags=tags)\n",
            "/Library/Frameworks/Python.framework/Versions/3.10/lib/python3.10/site-packages/osmnx/geometries.py:48: FutureWarning: The expected order of coordinates in `bbox` will change in the v2.0.0 release to `(left, bottom, right, top)`.\n",
            "  return features.features_from_bbox(north, south, east, west, tags=tags)\n"
          ]
        },
        {
          "name": "stdout",
          "output_type": "stream",
          "text": [
            "osm_uk_7_16.csv has not been created due to error \"No data elements in server response. Check log and query location/tags.\"\n",
            "Getting dataframe to form osm_uk_7_17.csv\n"
          ]
        },
        {
          "name": "stderr",
          "output_type": "stream",
          "text": [
            "/var/folders/tq/f7lcjhp564g26624rbp38l240000gn/T/ipykernel_19312/1508289565.py:212: FutureWarning: The `geometries` module and `geometries_from_X` functions have been renamed the `features` module and `features_from_X` functions. Use these instead. The `geometries` module and function names are deprecated and will be removed in the v2.0.0 release. See the OSMnx v2 migration guide: https://github.com/gboeing/osmnx/issues/1123\n",
            "  all_buildings_from_osm = ox.geometries_from_bbox(north, south, east, west, tags)\n",
            "/Library/Frameworks/Python.framework/Versions/3.10/lib/python3.10/site-packages/osmnx/geometries.py:48: FutureWarning: The `north`, `south`, `east`, and `west` parameters are deprecated and will be removed in the v2.0.0 release. Use the `bbox` parameter instead. See the OSMnx v2 migration guide: https://github.com/gboeing/osmnx/issues/1123\n",
            "  return features.features_from_bbox(north, south, east, west, tags=tags)\n",
            "/Library/Frameworks/Python.framework/Versions/3.10/lib/python3.10/site-packages/osmnx/geometries.py:48: FutureWarning: The expected order of coordinates in `bbox` will change in the v2.0.0 release to `(left, bottom, right, top)`.\n",
            "  return features.features_from_bbox(north, south, east, west, tags=tags)\n"
          ]
        },
        {
          "name": "stdout",
          "output_type": "stream",
          "text": [
            "osm_uk_7_17.csv has not been created due to error \"No data elements in server response. Check log and query location/tags.\"\n",
            "Getting dataframe to form osm_uk_8_0.csv\n"
          ]
        },
        {
          "name": "stderr",
          "output_type": "stream",
          "text": [
            "/var/folders/tq/f7lcjhp564g26624rbp38l240000gn/T/ipykernel_19312/1508289565.py:212: FutureWarning: The `geometries` module and `geometries_from_X` functions have been renamed the `features` module and `features_from_X` functions. Use these instead. The `geometries` module and function names are deprecated and will be removed in the v2.0.0 release. See the OSMnx v2 migration guide: https://github.com/gboeing/osmnx/issues/1123\n",
            "  all_buildings_from_osm = ox.geometries_from_bbox(north, south, east, west, tags)\n",
            "/Library/Frameworks/Python.framework/Versions/3.10/lib/python3.10/site-packages/osmnx/geometries.py:48: FutureWarning: The `north`, `south`, `east`, and `west` parameters are deprecated and will be removed in the v2.0.0 release. Use the `bbox` parameter instead. See the OSMnx v2 migration guide: https://github.com/gboeing/osmnx/issues/1123\n",
            "  return features.features_from_bbox(north, south, east, west, tags=tags)\n",
            "/Library/Frameworks/Python.framework/Versions/3.10/lib/python3.10/site-packages/osmnx/geometries.py:48: FutureWarning: The expected order of coordinates in `bbox` will change in the v2.0.0 release to `(left, bottom, right, top)`.\n",
            "  return features.features_from_bbox(north, south, east, west, tags=tags)\n"
          ]
        },
        {
          "name": "stdout",
          "output_type": "stream",
          "text": [
            "osm_uk_8_0.csv has been formed successfully\n",
            "Getting dataframe to form osm_uk_8_1.csv\n"
          ]
        },
        {
          "name": "stderr",
          "output_type": "stream",
          "text": [
            "/var/folders/tq/f7lcjhp564g26624rbp38l240000gn/T/ipykernel_19312/1508289565.py:212: FutureWarning: The `geometries` module and `geometries_from_X` functions have been renamed the `features` module and `features_from_X` functions. Use these instead. The `geometries` module and function names are deprecated and will be removed in the v2.0.0 release. See the OSMnx v2 migration guide: https://github.com/gboeing/osmnx/issues/1123\n",
            "  all_buildings_from_osm = ox.geometries_from_bbox(north, south, east, west, tags)\n",
            "/Library/Frameworks/Python.framework/Versions/3.10/lib/python3.10/site-packages/osmnx/geometries.py:48: FutureWarning: The `north`, `south`, `east`, and `west` parameters are deprecated and will be removed in the v2.0.0 release. Use the `bbox` parameter instead. See the OSMnx v2 migration guide: https://github.com/gboeing/osmnx/issues/1123\n",
            "  return features.features_from_bbox(north, south, east, west, tags=tags)\n",
            "/Library/Frameworks/Python.framework/Versions/3.10/lib/python3.10/site-packages/osmnx/geometries.py:48: FutureWarning: The expected order of coordinates in `bbox` will change in the v2.0.0 release to `(left, bottom, right, top)`.\n",
            "  return features.features_from_bbox(north, south, east, west, tags=tags)\n"
          ]
        },
        {
          "name": "stdout",
          "output_type": "stream",
          "text": [
            "osm_uk_8_1.csv has been formed successfully\n",
            "Getting dataframe to form osm_uk_8_2.csv\n"
          ]
        },
        {
          "name": "stderr",
          "output_type": "stream",
          "text": [
            "/var/folders/tq/f7lcjhp564g26624rbp38l240000gn/T/ipykernel_19312/1508289565.py:212: FutureWarning: The `geometries` module and `geometries_from_X` functions have been renamed the `features` module and `features_from_X` functions. Use these instead. The `geometries` module and function names are deprecated and will be removed in the v2.0.0 release. See the OSMnx v2 migration guide: https://github.com/gboeing/osmnx/issues/1123\n",
            "  all_buildings_from_osm = ox.geometries_from_bbox(north, south, east, west, tags)\n",
            "/Library/Frameworks/Python.framework/Versions/3.10/lib/python3.10/site-packages/osmnx/geometries.py:48: FutureWarning: The `north`, `south`, `east`, and `west` parameters are deprecated and will be removed in the v2.0.0 release. Use the `bbox` parameter instead. See the OSMnx v2 migration guide: https://github.com/gboeing/osmnx/issues/1123\n",
            "  return features.features_from_bbox(north, south, east, west, tags=tags)\n",
            "/Library/Frameworks/Python.framework/Versions/3.10/lib/python3.10/site-packages/osmnx/geometries.py:48: FutureWarning: The expected order of coordinates in `bbox` will change in the v2.0.0 release to `(left, bottom, right, top)`.\n",
            "  return features.features_from_bbox(north, south, east, west, tags=tags)\n"
          ]
        },
        {
          "name": "stdout",
          "output_type": "stream",
          "text": [
            "osm_uk_8_2.csv has been formed successfully\n",
            "Getting dataframe to form osm_uk_8_3.csv\n"
          ]
        },
        {
          "name": "stderr",
          "output_type": "stream",
          "text": [
            "/var/folders/tq/f7lcjhp564g26624rbp38l240000gn/T/ipykernel_19312/1508289565.py:212: FutureWarning: The `geometries` module and `geometries_from_X` functions have been renamed the `features` module and `features_from_X` functions. Use these instead. The `geometries` module and function names are deprecated and will be removed in the v2.0.0 release. See the OSMnx v2 migration guide: https://github.com/gboeing/osmnx/issues/1123\n",
            "  all_buildings_from_osm = ox.geometries_from_bbox(north, south, east, west, tags)\n",
            "/Library/Frameworks/Python.framework/Versions/3.10/lib/python3.10/site-packages/osmnx/geometries.py:48: FutureWarning: The `north`, `south`, `east`, and `west` parameters are deprecated and will be removed in the v2.0.0 release. Use the `bbox` parameter instead. See the OSMnx v2 migration guide: https://github.com/gboeing/osmnx/issues/1123\n",
            "  return features.features_from_bbox(north, south, east, west, tags=tags)\n",
            "/Library/Frameworks/Python.framework/Versions/3.10/lib/python3.10/site-packages/osmnx/geometries.py:48: FutureWarning: The expected order of coordinates in `bbox` will change in the v2.0.0 release to `(left, bottom, right, top)`.\n",
            "  return features.features_from_bbox(north, south, east, west, tags=tags)\n"
          ]
        },
        {
          "name": "stdout",
          "output_type": "stream",
          "text": [
            "osm_uk_8_3.csv has not been created due to error \"No data elements in server response. Check log and query location/tags.\"\n",
            "Getting dataframe to form osm_uk_8_4.csv\n"
          ]
        },
        {
          "name": "stderr",
          "output_type": "stream",
          "text": [
            "/var/folders/tq/f7lcjhp564g26624rbp38l240000gn/T/ipykernel_19312/1508289565.py:212: FutureWarning: The `geometries` module and `geometries_from_X` functions have been renamed the `features` module and `features_from_X` functions. Use these instead. The `geometries` module and function names are deprecated and will be removed in the v2.0.0 release. See the OSMnx v2 migration guide: https://github.com/gboeing/osmnx/issues/1123\n",
            "  all_buildings_from_osm = ox.geometries_from_bbox(north, south, east, west, tags)\n",
            "/Library/Frameworks/Python.framework/Versions/3.10/lib/python3.10/site-packages/osmnx/geometries.py:48: FutureWarning: The `north`, `south`, `east`, and `west` parameters are deprecated and will be removed in the v2.0.0 release. Use the `bbox` parameter instead. See the OSMnx v2 migration guide: https://github.com/gboeing/osmnx/issues/1123\n",
            "  return features.features_from_bbox(north, south, east, west, tags=tags)\n",
            "/Library/Frameworks/Python.framework/Versions/3.10/lib/python3.10/site-packages/osmnx/geometries.py:48: FutureWarning: The expected order of coordinates in `bbox` will change in the v2.0.0 release to `(left, bottom, right, top)`.\n",
            "  return features.features_from_bbox(north, south, east, west, tags=tags)\n"
          ]
        },
        {
          "name": "stdout",
          "output_type": "stream",
          "text": [
            "osm_uk_8_4.csv has been formed successfully\n",
            "Getting dataframe to form osm_uk_8_5.csv\n"
          ]
        },
        {
          "name": "stderr",
          "output_type": "stream",
          "text": [
            "/var/folders/tq/f7lcjhp564g26624rbp38l240000gn/T/ipykernel_19312/1508289565.py:212: FutureWarning: The `geometries` module and `geometries_from_X` functions have been renamed the `features` module and `features_from_X` functions. Use these instead. The `geometries` module and function names are deprecated and will be removed in the v2.0.0 release. See the OSMnx v2 migration guide: https://github.com/gboeing/osmnx/issues/1123\n",
            "  all_buildings_from_osm = ox.geometries_from_bbox(north, south, east, west, tags)\n",
            "/Library/Frameworks/Python.framework/Versions/3.10/lib/python3.10/site-packages/osmnx/geometries.py:48: FutureWarning: The `north`, `south`, `east`, and `west` parameters are deprecated and will be removed in the v2.0.0 release. Use the `bbox` parameter instead. See the OSMnx v2 migration guide: https://github.com/gboeing/osmnx/issues/1123\n",
            "  return features.features_from_bbox(north, south, east, west, tags=tags)\n",
            "/Library/Frameworks/Python.framework/Versions/3.10/lib/python3.10/site-packages/osmnx/geometries.py:48: FutureWarning: The expected order of coordinates in `bbox` will change in the v2.0.0 release to `(left, bottom, right, top)`.\n",
            "  return features.features_from_bbox(north, south, east, west, tags=tags)\n"
          ]
        },
        {
          "name": "stdout",
          "output_type": "stream",
          "text": [
            "osm_uk_8_5.csv has been formed successfully\n",
            "Getting dataframe to form osm_uk_8_6.csv\n"
          ]
        },
        {
          "name": "stderr",
          "output_type": "stream",
          "text": [
            "/var/folders/tq/f7lcjhp564g26624rbp38l240000gn/T/ipykernel_19312/1508289565.py:212: FutureWarning: The `geometries` module and `geometries_from_X` functions have been renamed the `features` module and `features_from_X` functions. Use these instead. The `geometries` module and function names are deprecated and will be removed in the v2.0.0 release. See the OSMnx v2 migration guide: https://github.com/gboeing/osmnx/issues/1123\n",
            "  all_buildings_from_osm = ox.geometries_from_bbox(north, south, east, west, tags)\n",
            "/Library/Frameworks/Python.framework/Versions/3.10/lib/python3.10/site-packages/osmnx/geometries.py:48: FutureWarning: The `north`, `south`, `east`, and `west` parameters are deprecated and will be removed in the v2.0.0 release. Use the `bbox` parameter instead. See the OSMnx v2 migration guide: https://github.com/gboeing/osmnx/issues/1123\n",
            "  return features.features_from_bbox(north, south, east, west, tags=tags)\n",
            "/Library/Frameworks/Python.framework/Versions/3.10/lib/python3.10/site-packages/osmnx/geometries.py:48: FutureWarning: The expected order of coordinates in `bbox` will change in the v2.0.0 release to `(left, bottom, right, top)`.\n",
            "  return features.features_from_bbox(north, south, east, west, tags=tags)\n"
          ]
        },
        {
          "name": "stdout",
          "output_type": "stream",
          "text": [
            "osm_uk_8_6.csv has been formed successfully\n",
            "Getting dataframe to form osm_uk_8_7.csv\n"
          ]
        },
        {
          "name": "stderr",
          "output_type": "stream",
          "text": [
            "/var/folders/tq/f7lcjhp564g26624rbp38l240000gn/T/ipykernel_19312/1508289565.py:212: FutureWarning: The `geometries` module and `geometries_from_X` functions have been renamed the `features` module and `features_from_X` functions. Use these instead. The `geometries` module and function names are deprecated and will be removed in the v2.0.0 release. See the OSMnx v2 migration guide: https://github.com/gboeing/osmnx/issues/1123\n",
            "  all_buildings_from_osm = ox.geometries_from_bbox(north, south, east, west, tags)\n",
            "/Library/Frameworks/Python.framework/Versions/3.10/lib/python3.10/site-packages/osmnx/geometries.py:48: FutureWarning: The `north`, `south`, `east`, and `west` parameters are deprecated and will be removed in the v2.0.0 release. Use the `bbox` parameter instead. See the OSMnx v2 migration guide: https://github.com/gboeing/osmnx/issues/1123\n",
            "  return features.features_from_bbox(north, south, east, west, tags=tags)\n",
            "/Library/Frameworks/Python.framework/Versions/3.10/lib/python3.10/site-packages/osmnx/geometries.py:48: FutureWarning: The expected order of coordinates in `bbox` will change in the v2.0.0 release to `(left, bottom, right, top)`.\n",
            "  return features.features_from_bbox(north, south, east, west, tags=tags)\n"
          ]
        },
        {
          "name": "stdout",
          "output_type": "stream",
          "text": [
            "osm_uk_8_7.csv has been formed successfully\n",
            "Getting dataframe to form osm_uk_8_8.csv\n"
          ]
        },
        {
          "name": "stderr",
          "output_type": "stream",
          "text": [
            "/var/folders/tq/f7lcjhp564g26624rbp38l240000gn/T/ipykernel_19312/1508289565.py:212: FutureWarning: The `geometries` module and `geometries_from_X` functions have been renamed the `features` module and `features_from_X` functions. Use these instead. The `geometries` module and function names are deprecated and will be removed in the v2.0.0 release. See the OSMnx v2 migration guide: https://github.com/gboeing/osmnx/issues/1123\n",
            "  all_buildings_from_osm = ox.geometries_from_bbox(north, south, east, west, tags)\n",
            "/Library/Frameworks/Python.framework/Versions/3.10/lib/python3.10/site-packages/osmnx/geometries.py:48: FutureWarning: The `north`, `south`, `east`, and `west` parameters are deprecated and will be removed in the v2.0.0 release. Use the `bbox` parameter instead. See the OSMnx v2 migration guide: https://github.com/gboeing/osmnx/issues/1123\n",
            "  return features.features_from_bbox(north, south, east, west, tags=tags)\n",
            "/Library/Frameworks/Python.framework/Versions/3.10/lib/python3.10/site-packages/osmnx/geometries.py:48: FutureWarning: The expected order of coordinates in `bbox` will change in the v2.0.0 release to `(left, bottom, right, top)`.\n",
            "  return features.features_from_bbox(north, south, east, west, tags=tags)\n"
          ]
        },
        {
          "name": "stdout",
          "output_type": "stream",
          "text": [
            "osm_uk_8_8.csv has been formed successfully\n",
            "Getting dataframe to form osm_uk_8_9.csv\n"
          ]
        },
        {
          "name": "stderr",
          "output_type": "stream",
          "text": [
            "/var/folders/tq/f7lcjhp564g26624rbp38l240000gn/T/ipykernel_19312/1508289565.py:212: FutureWarning: The `geometries` module and `geometries_from_X` functions have been renamed the `features` module and `features_from_X` functions. Use these instead. The `geometries` module and function names are deprecated and will be removed in the v2.0.0 release. See the OSMnx v2 migration guide: https://github.com/gboeing/osmnx/issues/1123\n",
            "  all_buildings_from_osm = ox.geometries_from_bbox(north, south, east, west, tags)\n",
            "/Library/Frameworks/Python.framework/Versions/3.10/lib/python3.10/site-packages/osmnx/geometries.py:48: FutureWarning: The `north`, `south`, `east`, and `west` parameters are deprecated and will be removed in the v2.0.0 release. Use the `bbox` parameter instead. See the OSMnx v2 migration guide: https://github.com/gboeing/osmnx/issues/1123\n",
            "  return features.features_from_bbox(north, south, east, west, tags=tags)\n",
            "/Library/Frameworks/Python.framework/Versions/3.10/lib/python3.10/site-packages/osmnx/geometries.py:48: FutureWarning: The expected order of coordinates in `bbox` will change in the v2.0.0 release to `(left, bottom, right, top)`.\n",
            "  return features.features_from_bbox(north, south, east, west, tags=tags)\n"
          ]
        },
        {
          "name": "stdout",
          "output_type": "stream",
          "text": [
            "osm_uk_8_9.csv has been formed successfully\n",
            "Getting dataframe to form osm_uk_8_10.csv\n"
          ]
        },
        {
          "name": "stderr",
          "output_type": "stream",
          "text": [
            "/var/folders/tq/f7lcjhp564g26624rbp38l240000gn/T/ipykernel_19312/1508289565.py:212: FutureWarning: The `geometries` module and `geometries_from_X` functions have been renamed the `features` module and `features_from_X` functions. Use these instead. The `geometries` module and function names are deprecated and will be removed in the v2.0.0 release. See the OSMnx v2 migration guide: https://github.com/gboeing/osmnx/issues/1123\n",
            "  all_buildings_from_osm = ox.geometries_from_bbox(north, south, east, west, tags)\n",
            "/Library/Frameworks/Python.framework/Versions/3.10/lib/python3.10/site-packages/osmnx/geometries.py:48: FutureWarning: The `north`, `south`, `east`, and `west` parameters are deprecated and will be removed in the v2.0.0 release. Use the `bbox` parameter instead. See the OSMnx v2 migration guide: https://github.com/gboeing/osmnx/issues/1123\n",
            "  return features.features_from_bbox(north, south, east, west, tags=tags)\n",
            "/Library/Frameworks/Python.framework/Versions/3.10/lib/python3.10/site-packages/osmnx/geometries.py:48: FutureWarning: The expected order of coordinates in `bbox` will change in the v2.0.0 release to `(left, bottom, right, top)`.\n",
            "  return features.features_from_bbox(north, south, east, west, tags=tags)\n"
          ]
        },
        {
          "name": "stdout",
          "output_type": "stream",
          "text": [
            "osm_uk_8_10.csv has been formed successfully\n",
            "Getting dataframe to form osm_uk_8_11.csv\n"
          ]
        },
        {
          "name": "stderr",
          "output_type": "stream",
          "text": [
            "/var/folders/tq/f7lcjhp564g26624rbp38l240000gn/T/ipykernel_19312/1508289565.py:212: FutureWarning: The `geometries` module and `geometries_from_X` functions have been renamed the `features` module and `features_from_X` functions. Use these instead. The `geometries` module and function names are deprecated and will be removed in the v2.0.0 release. See the OSMnx v2 migration guide: https://github.com/gboeing/osmnx/issues/1123\n",
            "  all_buildings_from_osm = ox.geometries_from_bbox(north, south, east, west, tags)\n",
            "/Library/Frameworks/Python.framework/Versions/3.10/lib/python3.10/site-packages/osmnx/geometries.py:48: FutureWarning: The `north`, `south`, `east`, and `west` parameters are deprecated and will be removed in the v2.0.0 release. Use the `bbox` parameter instead. See the OSMnx v2 migration guide: https://github.com/gboeing/osmnx/issues/1123\n",
            "  return features.features_from_bbox(north, south, east, west, tags=tags)\n",
            "/Library/Frameworks/Python.framework/Versions/3.10/lib/python3.10/site-packages/osmnx/geometries.py:48: FutureWarning: The expected order of coordinates in `bbox` will change in the v2.0.0 release to `(left, bottom, right, top)`.\n",
            "  return features.features_from_bbox(north, south, east, west, tags=tags)\n"
          ]
        },
        {
          "name": "stdout",
          "output_type": "stream",
          "text": [
            "osm_uk_8_11.csv has been formed successfully\n",
            "Getting dataframe to form osm_uk_8_12.csv\n"
          ]
        },
        {
          "name": "stderr",
          "output_type": "stream",
          "text": [
            "/var/folders/tq/f7lcjhp564g26624rbp38l240000gn/T/ipykernel_19312/1508289565.py:212: FutureWarning: The `geometries` module and `geometries_from_X` functions have been renamed the `features` module and `features_from_X` functions. Use these instead. The `geometries` module and function names are deprecated and will be removed in the v2.0.0 release. See the OSMnx v2 migration guide: https://github.com/gboeing/osmnx/issues/1123\n",
            "  all_buildings_from_osm = ox.geometries_from_bbox(north, south, east, west, tags)\n",
            "/Library/Frameworks/Python.framework/Versions/3.10/lib/python3.10/site-packages/osmnx/geometries.py:48: FutureWarning: The `north`, `south`, `east`, and `west` parameters are deprecated and will be removed in the v2.0.0 release. Use the `bbox` parameter instead. See the OSMnx v2 migration guide: https://github.com/gboeing/osmnx/issues/1123\n",
            "  return features.features_from_bbox(north, south, east, west, tags=tags)\n",
            "/Library/Frameworks/Python.framework/Versions/3.10/lib/python3.10/site-packages/osmnx/geometries.py:48: FutureWarning: The expected order of coordinates in `bbox` will change in the v2.0.0 release to `(left, bottom, right, top)`.\n",
            "  return features.features_from_bbox(north, south, east, west, tags=tags)\n"
          ]
        },
        {
          "name": "stdout",
          "output_type": "stream",
          "text": [
            "osm_uk_8_12.csv has been formed successfully\n",
            "Getting dataframe to form osm_uk_8_13.csv\n"
          ]
        },
        {
          "name": "stderr",
          "output_type": "stream",
          "text": [
            "/var/folders/tq/f7lcjhp564g26624rbp38l240000gn/T/ipykernel_19312/1508289565.py:212: FutureWarning: The `geometries` module and `geometries_from_X` functions have been renamed the `features` module and `features_from_X` functions. Use these instead. The `geometries` module and function names are deprecated and will be removed in the v2.0.0 release. See the OSMnx v2 migration guide: https://github.com/gboeing/osmnx/issues/1123\n",
            "  all_buildings_from_osm = ox.geometries_from_bbox(north, south, east, west, tags)\n",
            "/Library/Frameworks/Python.framework/Versions/3.10/lib/python3.10/site-packages/osmnx/geometries.py:48: FutureWarning: The `north`, `south`, `east`, and `west` parameters are deprecated and will be removed in the v2.0.0 release. Use the `bbox` parameter instead. See the OSMnx v2 migration guide: https://github.com/gboeing/osmnx/issues/1123\n",
            "  return features.features_from_bbox(north, south, east, west, tags=tags)\n",
            "/Library/Frameworks/Python.framework/Versions/3.10/lib/python3.10/site-packages/osmnx/geometries.py:48: FutureWarning: The expected order of coordinates in `bbox` will change in the v2.0.0 release to `(left, bottom, right, top)`.\n",
            "  return features.features_from_bbox(north, south, east, west, tags=tags)\n"
          ]
        },
        {
          "name": "stdout",
          "output_type": "stream",
          "text": [
            "osm_uk_8_13.csv has been formed successfully\n",
            "Getting dataframe to form osm_uk_8_14.csv\n"
          ]
        },
        {
          "name": "stderr",
          "output_type": "stream",
          "text": [
            "/var/folders/tq/f7lcjhp564g26624rbp38l240000gn/T/ipykernel_19312/1508289565.py:212: FutureWarning: The `geometries` module and `geometries_from_X` functions have been renamed the `features` module and `features_from_X` functions. Use these instead. The `geometries` module and function names are deprecated and will be removed in the v2.0.0 release. See the OSMnx v2 migration guide: https://github.com/gboeing/osmnx/issues/1123\n",
            "  all_buildings_from_osm = ox.geometries_from_bbox(north, south, east, west, tags)\n",
            "/Library/Frameworks/Python.framework/Versions/3.10/lib/python3.10/site-packages/osmnx/geometries.py:48: FutureWarning: The `north`, `south`, `east`, and `west` parameters are deprecated and will be removed in the v2.0.0 release. Use the `bbox` parameter instead. See the OSMnx v2 migration guide: https://github.com/gboeing/osmnx/issues/1123\n",
            "  return features.features_from_bbox(north, south, east, west, tags=tags)\n",
            "/Library/Frameworks/Python.framework/Versions/3.10/lib/python3.10/site-packages/osmnx/geometries.py:48: FutureWarning: The expected order of coordinates in `bbox` will change in the v2.0.0 release to `(left, bottom, right, top)`.\n",
            "  return features.features_from_bbox(north, south, east, west, tags=tags)\n"
          ]
        },
        {
          "name": "stdout",
          "output_type": "stream",
          "text": [
            "osm_uk_8_14.csv has not been created due to error \"No data elements in server response. Check log and query location/tags.\"\n",
            "Getting dataframe to form osm_uk_8_15.csv\n"
          ]
        },
        {
          "name": "stderr",
          "output_type": "stream",
          "text": [
            "/var/folders/tq/f7lcjhp564g26624rbp38l240000gn/T/ipykernel_19312/1508289565.py:212: FutureWarning: The `geometries` module and `geometries_from_X` functions have been renamed the `features` module and `features_from_X` functions. Use these instead. The `geometries` module and function names are deprecated and will be removed in the v2.0.0 release. See the OSMnx v2 migration guide: https://github.com/gboeing/osmnx/issues/1123\n",
            "  all_buildings_from_osm = ox.geometries_from_bbox(north, south, east, west, tags)\n",
            "/Library/Frameworks/Python.framework/Versions/3.10/lib/python3.10/site-packages/osmnx/geometries.py:48: FutureWarning: The `north`, `south`, `east`, and `west` parameters are deprecated and will be removed in the v2.0.0 release. Use the `bbox` parameter instead. See the OSMnx v2 migration guide: https://github.com/gboeing/osmnx/issues/1123\n",
            "  return features.features_from_bbox(north, south, east, west, tags=tags)\n",
            "/Library/Frameworks/Python.framework/Versions/3.10/lib/python3.10/site-packages/osmnx/geometries.py:48: FutureWarning: The expected order of coordinates in `bbox` will change in the v2.0.0 release to `(left, bottom, right, top)`.\n",
            "  return features.features_from_bbox(north, south, east, west, tags=tags)\n"
          ]
        },
        {
          "name": "stdout",
          "output_type": "stream",
          "text": [
            "osm_uk_8_15.csv has not been created due to error \"No data elements in server response. Check log and query location/tags.\"\n",
            "Getting dataframe to form osm_uk_8_16.csv\n"
          ]
        },
        {
          "name": "stderr",
          "output_type": "stream",
          "text": [
            "/var/folders/tq/f7lcjhp564g26624rbp38l240000gn/T/ipykernel_19312/1508289565.py:212: FutureWarning: The `geometries` module and `geometries_from_X` functions have been renamed the `features` module and `features_from_X` functions. Use these instead. The `geometries` module and function names are deprecated and will be removed in the v2.0.0 release. See the OSMnx v2 migration guide: https://github.com/gboeing/osmnx/issues/1123\n",
            "  all_buildings_from_osm = ox.geometries_from_bbox(north, south, east, west, tags)\n",
            "/Library/Frameworks/Python.framework/Versions/3.10/lib/python3.10/site-packages/osmnx/geometries.py:48: FutureWarning: The `north`, `south`, `east`, and `west` parameters are deprecated and will be removed in the v2.0.0 release. Use the `bbox` parameter instead. See the OSMnx v2 migration guide: https://github.com/gboeing/osmnx/issues/1123\n",
            "  return features.features_from_bbox(north, south, east, west, tags=tags)\n",
            "/Library/Frameworks/Python.framework/Versions/3.10/lib/python3.10/site-packages/osmnx/geometries.py:48: FutureWarning: The expected order of coordinates in `bbox` will change in the v2.0.0 release to `(left, bottom, right, top)`.\n",
            "  return features.features_from_bbox(north, south, east, west, tags=tags)\n"
          ]
        },
        {
          "name": "stdout",
          "output_type": "stream",
          "text": [
            "osm_uk_8_16.csv has not been created due to error \"No data elements in server response. Check log and query location/tags.\"\n",
            "Getting dataframe to form osm_uk_8_17.csv\n"
          ]
        },
        {
          "name": "stderr",
          "output_type": "stream",
          "text": [
            "/var/folders/tq/f7lcjhp564g26624rbp38l240000gn/T/ipykernel_19312/1508289565.py:212: FutureWarning: The `geometries` module and `geometries_from_X` functions have been renamed the `features` module and `features_from_X` functions. Use these instead. The `geometries` module and function names are deprecated and will be removed in the v2.0.0 release. See the OSMnx v2 migration guide: https://github.com/gboeing/osmnx/issues/1123\n",
            "  all_buildings_from_osm = ox.geometries_from_bbox(north, south, east, west, tags)\n",
            "/Library/Frameworks/Python.framework/Versions/3.10/lib/python3.10/site-packages/osmnx/geometries.py:48: FutureWarning: The `north`, `south`, `east`, and `west` parameters are deprecated and will be removed in the v2.0.0 release. Use the `bbox` parameter instead. See the OSMnx v2 migration guide: https://github.com/gboeing/osmnx/issues/1123\n",
            "  return features.features_from_bbox(north, south, east, west, tags=tags)\n",
            "/Library/Frameworks/Python.framework/Versions/3.10/lib/python3.10/site-packages/osmnx/geometries.py:48: FutureWarning: The expected order of coordinates in `bbox` will change in the v2.0.0 release to `(left, bottom, right, top)`.\n",
            "  return features.features_from_bbox(north, south, east, west, tags=tags)\n"
          ]
        },
        {
          "name": "stdout",
          "output_type": "stream",
          "text": [
            "osm_uk_8_17.csv has not been created due to error \"No data elements in server response. Check log and query location/tags.\"\n",
            "Getting dataframe to form osm_uk_9_0.csv\n"
          ]
        },
        {
          "name": "stderr",
          "output_type": "stream",
          "text": [
            "/var/folders/tq/f7lcjhp564g26624rbp38l240000gn/T/ipykernel_19312/1508289565.py:212: FutureWarning: The `geometries` module and `geometries_from_X` functions have been renamed the `features` module and `features_from_X` functions. Use these instead. The `geometries` module and function names are deprecated and will be removed in the v2.0.0 release. See the OSMnx v2 migration guide: https://github.com/gboeing/osmnx/issues/1123\n",
            "  all_buildings_from_osm = ox.geometries_from_bbox(north, south, east, west, tags)\n",
            "/Library/Frameworks/Python.framework/Versions/3.10/lib/python3.10/site-packages/osmnx/geometries.py:48: FutureWarning: The `north`, `south`, `east`, and `west` parameters are deprecated and will be removed in the v2.0.0 release. Use the `bbox` parameter instead. See the OSMnx v2 migration guide: https://github.com/gboeing/osmnx/issues/1123\n",
            "  return features.features_from_bbox(north, south, east, west, tags=tags)\n",
            "/Library/Frameworks/Python.framework/Versions/3.10/lib/python3.10/site-packages/osmnx/geometries.py:48: FutureWarning: The expected order of coordinates in `bbox` will change in the v2.0.0 release to `(left, bottom, right, top)`.\n",
            "  return features.features_from_bbox(north, south, east, west, tags=tags)\n"
          ]
        },
        {
          "name": "stdout",
          "output_type": "stream",
          "text": [
            "osm_uk_9_0.csv has been formed successfully\n",
            "Getting dataframe to form osm_uk_9_1.csv\n"
          ]
        },
        {
          "name": "stderr",
          "output_type": "stream",
          "text": [
            "/var/folders/tq/f7lcjhp564g26624rbp38l240000gn/T/ipykernel_19312/1508289565.py:212: FutureWarning: The `geometries` module and `geometries_from_X` functions have been renamed the `features` module and `features_from_X` functions. Use these instead. The `geometries` module and function names are deprecated and will be removed in the v2.0.0 release. See the OSMnx v2 migration guide: https://github.com/gboeing/osmnx/issues/1123\n",
            "  all_buildings_from_osm = ox.geometries_from_bbox(north, south, east, west, tags)\n",
            "/Library/Frameworks/Python.framework/Versions/3.10/lib/python3.10/site-packages/osmnx/geometries.py:48: FutureWarning: The `north`, `south`, `east`, and `west` parameters are deprecated and will be removed in the v2.0.0 release. Use the `bbox` parameter instead. See the OSMnx v2 migration guide: https://github.com/gboeing/osmnx/issues/1123\n",
            "  return features.features_from_bbox(north, south, east, west, tags=tags)\n",
            "/Library/Frameworks/Python.framework/Versions/3.10/lib/python3.10/site-packages/osmnx/geometries.py:48: FutureWarning: The expected order of coordinates in `bbox` will change in the v2.0.0 release to `(left, bottom, right, top)`.\n",
            "  return features.features_from_bbox(north, south, east, west, tags=tags)\n"
          ]
        },
        {
          "name": "stdout",
          "output_type": "stream",
          "text": [
            "osm_uk_9_1.csv has been formed successfully\n",
            "Getting dataframe to form osm_uk_9_2.csv\n"
          ]
        },
        {
          "name": "stderr",
          "output_type": "stream",
          "text": [
            "/var/folders/tq/f7lcjhp564g26624rbp38l240000gn/T/ipykernel_19312/1508289565.py:212: FutureWarning: The `geometries` module and `geometries_from_X` functions have been renamed the `features` module and `features_from_X` functions. Use these instead. The `geometries` module and function names are deprecated and will be removed in the v2.0.0 release. See the OSMnx v2 migration guide: https://github.com/gboeing/osmnx/issues/1123\n",
            "  all_buildings_from_osm = ox.geometries_from_bbox(north, south, east, west, tags)\n",
            "/Library/Frameworks/Python.framework/Versions/3.10/lib/python3.10/site-packages/osmnx/geometries.py:48: FutureWarning: The `north`, `south`, `east`, and `west` parameters are deprecated and will be removed in the v2.0.0 release. Use the `bbox` parameter instead. See the OSMnx v2 migration guide: https://github.com/gboeing/osmnx/issues/1123\n",
            "  return features.features_from_bbox(north, south, east, west, tags=tags)\n",
            "/Library/Frameworks/Python.framework/Versions/3.10/lib/python3.10/site-packages/osmnx/geometries.py:48: FutureWarning: The expected order of coordinates in `bbox` will change in the v2.0.0 release to `(left, bottom, right, top)`.\n",
            "  return features.features_from_bbox(north, south, east, west, tags=tags)\n"
          ]
        },
        {
          "name": "stdout",
          "output_type": "stream",
          "text": [
            "osm_uk_9_2.csv has been formed successfully\n",
            "Getting dataframe to form osm_uk_9_3.csv\n"
          ]
        },
        {
          "name": "stderr",
          "output_type": "stream",
          "text": [
            "/var/folders/tq/f7lcjhp564g26624rbp38l240000gn/T/ipykernel_19312/1508289565.py:212: FutureWarning: The `geometries` module and `geometries_from_X` functions have been renamed the `features` module and `features_from_X` functions. Use these instead. The `geometries` module and function names are deprecated and will be removed in the v2.0.0 release. See the OSMnx v2 migration guide: https://github.com/gboeing/osmnx/issues/1123\n",
            "  all_buildings_from_osm = ox.geometries_from_bbox(north, south, east, west, tags)\n",
            "/Library/Frameworks/Python.framework/Versions/3.10/lib/python3.10/site-packages/osmnx/geometries.py:48: FutureWarning: The `north`, `south`, `east`, and `west` parameters are deprecated and will be removed in the v2.0.0 release. Use the `bbox` parameter instead. See the OSMnx v2 migration guide: https://github.com/gboeing/osmnx/issues/1123\n",
            "  return features.features_from_bbox(north, south, east, west, tags=tags)\n",
            "/Library/Frameworks/Python.framework/Versions/3.10/lib/python3.10/site-packages/osmnx/geometries.py:48: FutureWarning: The expected order of coordinates in `bbox` will change in the v2.0.0 release to `(left, bottom, right, top)`.\n",
            "  return features.features_from_bbox(north, south, east, west, tags=tags)\n"
          ]
        },
        {
          "name": "stdout",
          "output_type": "stream",
          "text": [
            "osm_uk_9_3.csv has been formed successfully\n",
            "Getting dataframe to form osm_uk_9_4.csv\n"
          ]
        },
        {
          "name": "stderr",
          "output_type": "stream",
          "text": [
            "/var/folders/tq/f7lcjhp564g26624rbp38l240000gn/T/ipykernel_19312/1508289565.py:212: FutureWarning: The `geometries` module and `geometries_from_X` functions have been renamed the `features` module and `features_from_X` functions. Use these instead. The `geometries` module and function names are deprecated and will be removed in the v2.0.0 release. See the OSMnx v2 migration guide: https://github.com/gboeing/osmnx/issues/1123\n",
            "  all_buildings_from_osm = ox.geometries_from_bbox(north, south, east, west, tags)\n",
            "/Library/Frameworks/Python.framework/Versions/3.10/lib/python3.10/site-packages/osmnx/geometries.py:48: FutureWarning: The `north`, `south`, `east`, and `west` parameters are deprecated and will be removed in the v2.0.0 release. Use the `bbox` parameter instead. See the OSMnx v2 migration guide: https://github.com/gboeing/osmnx/issues/1123\n",
            "  return features.features_from_bbox(north, south, east, west, tags=tags)\n",
            "/Library/Frameworks/Python.framework/Versions/3.10/lib/python3.10/site-packages/osmnx/geometries.py:48: FutureWarning: The expected order of coordinates in `bbox` will change in the v2.0.0 release to `(left, bottom, right, top)`.\n",
            "  return features.features_from_bbox(north, south, east, west, tags=tags)\n"
          ]
        },
        {
          "name": "stdout",
          "output_type": "stream",
          "text": [
            "osm_uk_9_4.csv has been formed successfully\n",
            "Getting dataframe to form osm_uk_9_5.csv\n"
          ]
        },
        {
          "name": "stderr",
          "output_type": "stream",
          "text": [
            "/var/folders/tq/f7lcjhp564g26624rbp38l240000gn/T/ipykernel_19312/1508289565.py:212: FutureWarning: The `geometries` module and `geometries_from_X` functions have been renamed the `features` module and `features_from_X` functions. Use these instead. The `geometries` module and function names are deprecated and will be removed in the v2.0.0 release. See the OSMnx v2 migration guide: https://github.com/gboeing/osmnx/issues/1123\n",
            "  all_buildings_from_osm = ox.geometries_from_bbox(north, south, east, west, tags)\n",
            "/Library/Frameworks/Python.framework/Versions/3.10/lib/python3.10/site-packages/osmnx/geometries.py:48: FutureWarning: The `north`, `south`, `east`, and `west` parameters are deprecated and will be removed in the v2.0.0 release. Use the `bbox` parameter instead. See the OSMnx v2 migration guide: https://github.com/gboeing/osmnx/issues/1123\n",
            "  return features.features_from_bbox(north, south, east, west, tags=tags)\n",
            "/Library/Frameworks/Python.framework/Versions/3.10/lib/python3.10/site-packages/osmnx/geometries.py:48: FutureWarning: The expected order of coordinates in `bbox` will change in the v2.0.0 release to `(left, bottom, right, top)`.\n",
            "  return features.features_from_bbox(north, south, east, west, tags=tags)\n"
          ]
        },
        {
          "name": "stdout",
          "output_type": "stream",
          "text": [
            "osm_uk_9_5.csv has been formed successfully\n",
            "Getting dataframe to form osm_uk_9_6.csv\n"
          ]
        },
        {
          "name": "stderr",
          "output_type": "stream",
          "text": [
            "/var/folders/tq/f7lcjhp564g26624rbp38l240000gn/T/ipykernel_19312/1508289565.py:212: FutureWarning: The `geometries` module and `geometries_from_X` functions have been renamed the `features` module and `features_from_X` functions. Use these instead. The `geometries` module and function names are deprecated and will be removed in the v2.0.0 release. See the OSMnx v2 migration guide: https://github.com/gboeing/osmnx/issues/1123\n",
            "  all_buildings_from_osm = ox.geometries_from_bbox(north, south, east, west, tags)\n",
            "/Library/Frameworks/Python.framework/Versions/3.10/lib/python3.10/site-packages/osmnx/geometries.py:48: FutureWarning: The `north`, `south`, `east`, and `west` parameters are deprecated and will be removed in the v2.0.0 release. Use the `bbox` parameter instead. See the OSMnx v2 migration guide: https://github.com/gboeing/osmnx/issues/1123\n",
            "  return features.features_from_bbox(north, south, east, west, tags=tags)\n",
            "/Library/Frameworks/Python.framework/Versions/3.10/lib/python3.10/site-packages/osmnx/geometries.py:48: FutureWarning: The expected order of coordinates in `bbox` will change in the v2.0.0 release to `(left, bottom, right, top)`.\n",
            "  return features.features_from_bbox(north, south, east, west, tags=tags)\n"
          ]
        },
        {
          "name": "stdout",
          "output_type": "stream",
          "text": [
            "osm_uk_9_6.csv has been formed successfully\n",
            "Getting dataframe to form osm_uk_9_7.csv\n"
          ]
        },
        {
          "name": "stderr",
          "output_type": "stream",
          "text": [
            "/var/folders/tq/f7lcjhp564g26624rbp38l240000gn/T/ipykernel_19312/1508289565.py:212: FutureWarning: The `geometries` module and `geometries_from_X` functions have been renamed the `features` module and `features_from_X` functions. Use these instead. The `geometries` module and function names are deprecated and will be removed in the v2.0.0 release. See the OSMnx v2 migration guide: https://github.com/gboeing/osmnx/issues/1123\n",
            "  all_buildings_from_osm = ox.geometries_from_bbox(north, south, east, west, tags)\n",
            "/Library/Frameworks/Python.framework/Versions/3.10/lib/python3.10/site-packages/osmnx/geometries.py:48: FutureWarning: The `north`, `south`, `east`, and `west` parameters are deprecated and will be removed in the v2.0.0 release. Use the `bbox` parameter instead. See the OSMnx v2 migration guide: https://github.com/gboeing/osmnx/issues/1123\n",
            "  return features.features_from_bbox(north, south, east, west, tags=tags)\n",
            "/Library/Frameworks/Python.framework/Versions/3.10/lib/python3.10/site-packages/osmnx/geometries.py:48: FutureWarning: The expected order of coordinates in `bbox` will change in the v2.0.0 release to `(left, bottom, right, top)`.\n",
            "  return features.features_from_bbox(north, south, east, west, tags=tags)\n"
          ]
        },
        {
          "name": "stdout",
          "output_type": "stream",
          "text": [
            "osm_uk_9_7.csv has been formed successfully\n",
            "Getting dataframe to form osm_uk_9_8.csv\n"
          ]
        },
        {
          "name": "stderr",
          "output_type": "stream",
          "text": [
            "/var/folders/tq/f7lcjhp564g26624rbp38l240000gn/T/ipykernel_19312/1508289565.py:212: FutureWarning: The `geometries` module and `geometries_from_X` functions have been renamed the `features` module and `features_from_X` functions. Use these instead. The `geometries` module and function names are deprecated and will be removed in the v2.0.0 release. See the OSMnx v2 migration guide: https://github.com/gboeing/osmnx/issues/1123\n",
            "  all_buildings_from_osm = ox.geometries_from_bbox(north, south, east, west, tags)\n",
            "/Library/Frameworks/Python.framework/Versions/3.10/lib/python3.10/site-packages/osmnx/geometries.py:48: FutureWarning: The `north`, `south`, `east`, and `west` parameters are deprecated and will be removed in the v2.0.0 release. Use the `bbox` parameter instead. See the OSMnx v2 migration guide: https://github.com/gboeing/osmnx/issues/1123\n",
            "  return features.features_from_bbox(north, south, east, west, tags=tags)\n",
            "/Library/Frameworks/Python.framework/Versions/3.10/lib/python3.10/site-packages/osmnx/geometries.py:48: FutureWarning: The expected order of coordinates in `bbox` will change in the v2.0.0 release to `(left, bottom, right, top)`.\n",
            "  return features.features_from_bbox(north, south, east, west, tags=tags)\n"
          ]
        },
        {
          "name": "stdout",
          "output_type": "stream",
          "text": [
            "osm_uk_9_8.csv has been formed successfully\n",
            "Getting dataframe to form osm_uk_9_9.csv\n"
          ]
        },
        {
          "name": "stderr",
          "output_type": "stream",
          "text": [
            "/var/folders/tq/f7lcjhp564g26624rbp38l240000gn/T/ipykernel_19312/1508289565.py:212: FutureWarning: The `geometries` module and `geometries_from_X` functions have been renamed the `features` module and `features_from_X` functions. Use these instead. The `geometries` module and function names are deprecated and will be removed in the v2.0.0 release. See the OSMnx v2 migration guide: https://github.com/gboeing/osmnx/issues/1123\n",
            "  all_buildings_from_osm = ox.geometries_from_bbox(north, south, east, west, tags)\n",
            "/Library/Frameworks/Python.framework/Versions/3.10/lib/python3.10/site-packages/osmnx/geometries.py:48: FutureWarning: The `north`, `south`, `east`, and `west` parameters are deprecated and will be removed in the v2.0.0 release. Use the `bbox` parameter instead. See the OSMnx v2 migration guide: https://github.com/gboeing/osmnx/issues/1123\n",
            "  return features.features_from_bbox(north, south, east, west, tags=tags)\n",
            "/Library/Frameworks/Python.framework/Versions/3.10/lib/python3.10/site-packages/osmnx/geometries.py:48: FutureWarning: The expected order of coordinates in `bbox` will change in the v2.0.0 release to `(left, bottom, right, top)`.\n",
            "  return features.features_from_bbox(north, south, east, west, tags=tags)\n"
          ]
        },
        {
          "name": "stdout",
          "output_type": "stream",
          "text": [
            "osm_uk_9_9.csv has been formed successfully\n",
            "Getting dataframe to form osm_uk_9_10.csv\n"
          ]
        },
        {
          "name": "stderr",
          "output_type": "stream",
          "text": [
            "/var/folders/tq/f7lcjhp564g26624rbp38l240000gn/T/ipykernel_19312/1508289565.py:212: FutureWarning: The `geometries` module and `geometries_from_X` functions have been renamed the `features` module and `features_from_X` functions. Use these instead. The `geometries` module and function names are deprecated and will be removed in the v2.0.0 release. See the OSMnx v2 migration guide: https://github.com/gboeing/osmnx/issues/1123\n",
            "  all_buildings_from_osm = ox.geometries_from_bbox(north, south, east, west, tags)\n",
            "/Library/Frameworks/Python.framework/Versions/3.10/lib/python3.10/site-packages/osmnx/geometries.py:48: FutureWarning: The `north`, `south`, `east`, and `west` parameters are deprecated and will be removed in the v2.0.0 release. Use the `bbox` parameter instead. See the OSMnx v2 migration guide: https://github.com/gboeing/osmnx/issues/1123\n",
            "  return features.features_from_bbox(north, south, east, west, tags=tags)\n",
            "/Library/Frameworks/Python.framework/Versions/3.10/lib/python3.10/site-packages/osmnx/geometries.py:48: FutureWarning: The expected order of coordinates in `bbox` will change in the v2.0.0 release to `(left, bottom, right, top)`.\n",
            "  return features.features_from_bbox(north, south, east, west, tags=tags)\n"
          ]
        },
        {
          "name": "stdout",
          "output_type": "stream",
          "text": [
            "osm_uk_9_10.csv has been formed successfully\n",
            "Getting dataframe to form osm_uk_9_11.csv\n"
          ]
        },
        {
          "name": "stderr",
          "output_type": "stream",
          "text": [
            "/var/folders/tq/f7lcjhp564g26624rbp38l240000gn/T/ipykernel_19312/1508289565.py:212: FutureWarning: The `geometries` module and `geometries_from_X` functions have been renamed the `features` module and `features_from_X` functions. Use these instead. The `geometries` module and function names are deprecated and will be removed in the v2.0.0 release. See the OSMnx v2 migration guide: https://github.com/gboeing/osmnx/issues/1123\n",
            "  all_buildings_from_osm = ox.geometries_from_bbox(north, south, east, west, tags)\n",
            "/Library/Frameworks/Python.framework/Versions/3.10/lib/python3.10/site-packages/osmnx/geometries.py:48: FutureWarning: The `north`, `south`, `east`, and `west` parameters are deprecated and will be removed in the v2.0.0 release. Use the `bbox` parameter instead. See the OSMnx v2 migration guide: https://github.com/gboeing/osmnx/issues/1123\n",
            "  return features.features_from_bbox(north, south, east, west, tags=tags)\n",
            "/Library/Frameworks/Python.framework/Versions/3.10/lib/python3.10/site-packages/osmnx/geometries.py:48: FutureWarning: The expected order of coordinates in `bbox` will change in the v2.0.0 release to `(left, bottom, right, top)`.\n",
            "  return features.features_from_bbox(north, south, east, west, tags=tags)\n"
          ]
        },
        {
          "name": "stdout",
          "output_type": "stream",
          "text": [
            "osm_uk_9_11.csv has been formed successfully\n",
            "Getting dataframe to form osm_uk_9_12.csv\n"
          ]
        },
        {
          "name": "stderr",
          "output_type": "stream",
          "text": [
            "/var/folders/tq/f7lcjhp564g26624rbp38l240000gn/T/ipykernel_19312/1508289565.py:212: FutureWarning: The `geometries` module and `geometries_from_X` functions have been renamed the `features` module and `features_from_X` functions. Use these instead. The `geometries` module and function names are deprecated and will be removed in the v2.0.0 release. See the OSMnx v2 migration guide: https://github.com/gboeing/osmnx/issues/1123\n",
            "  all_buildings_from_osm = ox.geometries_from_bbox(north, south, east, west, tags)\n",
            "/Library/Frameworks/Python.framework/Versions/3.10/lib/python3.10/site-packages/osmnx/geometries.py:48: FutureWarning: The `north`, `south`, `east`, and `west` parameters are deprecated and will be removed in the v2.0.0 release. Use the `bbox` parameter instead. See the OSMnx v2 migration guide: https://github.com/gboeing/osmnx/issues/1123\n",
            "  return features.features_from_bbox(north, south, east, west, tags=tags)\n",
            "/Library/Frameworks/Python.framework/Versions/3.10/lib/python3.10/site-packages/osmnx/geometries.py:48: FutureWarning: The expected order of coordinates in `bbox` will change in the v2.0.0 release to `(left, bottom, right, top)`.\n",
            "  return features.features_from_bbox(north, south, east, west, tags=tags)\n"
          ]
        },
        {
          "name": "stdout",
          "output_type": "stream",
          "text": [
            "osm_uk_9_12.csv has been formed successfully\n",
            "Getting dataframe to form osm_uk_9_13.csv\n"
          ]
        },
        {
          "name": "stderr",
          "output_type": "stream",
          "text": [
            "/var/folders/tq/f7lcjhp564g26624rbp38l240000gn/T/ipykernel_19312/1508289565.py:212: FutureWarning: The `geometries` module and `geometries_from_X` functions have been renamed the `features` module and `features_from_X` functions. Use these instead. The `geometries` module and function names are deprecated and will be removed in the v2.0.0 release. See the OSMnx v2 migration guide: https://github.com/gboeing/osmnx/issues/1123\n",
            "  all_buildings_from_osm = ox.geometries_from_bbox(north, south, east, west, tags)\n",
            "/Library/Frameworks/Python.framework/Versions/3.10/lib/python3.10/site-packages/osmnx/geometries.py:48: FutureWarning: The `north`, `south`, `east`, and `west` parameters are deprecated and will be removed in the v2.0.0 release. Use the `bbox` parameter instead. See the OSMnx v2 migration guide: https://github.com/gboeing/osmnx/issues/1123\n",
            "  return features.features_from_bbox(north, south, east, west, tags=tags)\n",
            "/Library/Frameworks/Python.framework/Versions/3.10/lib/python3.10/site-packages/osmnx/geometries.py:48: FutureWarning: The expected order of coordinates in `bbox` will change in the v2.0.0 release to `(left, bottom, right, top)`.\n",
            "  return features.features_from_bbox(north, south, east, west, tags=tags)\n"
          ]
        },
        {
          "name": "stdout",
          "output_type": "stream",
          "text": [
            "osm_uk_9_13.csv has been formed successfully\n",
            "Getting dataframe to form osm_uk_9_14.csv\n"
          ]
        },
        {
          "name": "stderr",
          "output_type": "stream",
          "text": [
            "/var/folders/tq/f7lcjhp564g26624rbp38l240000gn/T/ipykernel_19312/1508289565.py:212: FutureWarning: The `geometries` module and `geometries_from_X` functions have been renamed the `features` module and `features_from_X` functions. Use these instead. The `geometries` module and function names are deprecated and will be removed in the v2.0.0 release. See the OSMnx v2 migration guide: https://github.com/gboeing/osmnx/issues/1123\n",
            "  all_buildings_from_osm = ox.geometries_from_bbox(north, south, east, west, tags)\n",
            "/Library/Frameworks/Python.framework/Versions/3.10/lib/python3.10/site-packages/osmnx/geometries.py:48: FutureWarning: The `north`, `south`, `east`, and `west` parameters are deprecated and will be removed in the v2.0.0 release. Use the `bbox` parameter instead. See the OSMnx v2 migration guide: https://github.com/gboeing/osmnx/issues/1123\n",
            "  return features.features_from_bbox(north, south, east, west, tags=tags)\n",
            "/Library/Frameworks/Python.framework/Versions/3.10/lib/python3.10/site-packages/osmnx/geometries.py:48: FutureWarning: The expected order of coordinates in `bbox` will change in the v2.0.0 release to `(left, bottom, right, top)`.\n",
            "  return features.features_from_bbox(north, south, east, west, tags=tags)\n"
          ]
        },
        {
          "name": "stdout",
          "output_type": "stream",
          "text": [
            "osm_uk_9_14.csv has not been created due to error \"No data elements in server response. Check log and query location/tags.\"\n",
            "Getting dataframe to form osm_uk_9_15.csv\n"
          ]
        },
        {
          "name": "stderr",
          "output_type": "stream",
          "text": [
            "/var/folders/tq/f7lcjhp564g26624rbp38l240000gn/T/ipykernel_19312/1508289565.py:212: FutureWarning: The `geometries` module and `geometries_from_X` functions have been renamed the `features` module and `features_from_X` functions. Use these instead. The `geometries` module and function names are deprecated and will be removed in the v2.0.0 release. See the OSMnx v2 migration guide: https://github.com/gboeing/osmnx/issues/1123\n",
            "  all_buildings_from_osm = ox.geometries_from_bbox(north, south, east, west, tags)\n",
            "/Library/Frameworks/Python.framework/Versions/3.10/lib/python3.10/site-packages/osmnx/geometries.py:48: FutureWarning: The `north`, `south`, `east`, and `west` parameters are deprecated and will be removed in the v2.0.0 release. Use the `bbox` parameter instead. See the OSMnx v2 migration guide: https://github.com/gboeing/osmnx/issues/1123\n",
            "  return features.features_from_bbox(north, south, east, west, tags=tags)\n",
            "/Library/Frameworks/Python.framework/Versions/3.10/lib/python3.10/site-packages/osmnx/geometries.py:48: FutureWarning: The expected order of coordinates in `bbox` will change in the v2.0.0 release to `(left, bottom, right, top)`.\n",
            "  return features.features_from_bbox(north, south, east, west, tags=tags)\n"
          ]
        },
        {
          "name": "stdout",
          "output_type": "stream",
          "text": [
            "osm_uk_9_15.csv has not been created due to error \"No data elements in server response. Check log and query location/tags.\"\n",
            "Getting dataframe to form osm_uk_9_16.csv\n"
          ]
        },
        {
          "name": "stderr",
          "output_type": "stream",
          "text": [
            "/var/folders/tq/f7lcjhp564g26624rbp38l240000gn/T/ipykernel_19312/1508289565.py:212: FutureWarning: The `geometries` module and `geometries_from_X` functions have been renamed the `features` module and `features_from_X` functions. Use these instead. The `geometries` module and function names are deprecated and will be removed in the v2.0.0 release. See the OSMnx v2 migration guide: https://github.com/gboeing/osmnx/issues/1123\n",
            "  all_buildings_from_osm = ox.geometries_from_bbox(north, south, east, west, tags)\n",
            "/Library/Frameworks/Python.framework/Versions/3.10/lib/python3.10/site-packages/osmnx/geometries.py:48: FutureWarning: The `north`, `south`, `east`, and `west` parameters are deprecated and will be removed in the v2.0.0 release. Use the `bbox` parameter instead. See the OSMnx v2 migration guide: https://github.com/gboeing/osmnx/issues/1123\n",
            "  return features.features_from_bbox(north, south, east, west, tags=tags)\n",
            "/Library/Frameworks/Python.framework/Versions/3.10/lib/python3.10/site-packages/osmnx/geometries.py:48: FutureWarning: The expected order of coordinates in `bbox` will change in the v2.0.0 release to `(left, bottom, right, top)`.\n",
            "  return features.features_from_bbox(north, south, east, west, tags=tags)\n"
          ]
        },
        {
          "name": "stdout",
          "output_type": "stream",
          "text": [
            "osm_uk_9_16.csv has not been created due to error \"No data elements in server response. Check log and query location/tags.\"\n",
            "Getting dataframe to form osm_uk_9_17.csv\n"
          ]
        },
        {
          "name": "stderr",
          "output_type": "stream",
          "text": [
            "/var/folders/tq/f7lcjhp564g26624rbp38l240000gn/T/ipykernel_19312/1508289565.py:212: FutureWarning: The `geometries` module and `geometries_from_X` functions have been renamed the `features` module and `features_from_X` functions. Use these instead. The `geometries` module and function names are deprecated and will be removed in the v2.0.0 release. See the OSMnx v2 migration guide: https://github.com/gboeing/osmnx/issues/1123\n",
            "  all_buildings_from_osm = ox.geometries_from_bbox(north, south, east, west, tags)\n",
            "/Library/Frameworks/Python.framework/Versions/3.10/lib/python3.10/site-packages/osmnx/geometries.py:48: FutureWarning: The `north`, `south`, `east`, and `west` parameters are deprecated and will be removed in the v2.0.0 release. Use the `bbox` parameter instead. See the OSMnx v2 migration guide: https://github.com/gboeing/osmnx/issues/1123\n",
            "  return features.features_from_bbox(north, south, east, west, tags=tags)\n",
            "/Library/Frameworks/Python.framework/Versions/3.10/lib/python3.10/site-packages/osmnx/geometries.py:48: FutureWarning: The expected order of coordinates in `bbox` will change in the v2.0.0 release to `(left, bottom, right, top)`.\n",
            "  return features.features_from_bbox(north, south, east, west, tags=tags)\n"
          ]
        },
        {
          "name": "stdout",
          "output_type": "stream",
          "text": [
            "osm_uk_9_17.csv has not been created due to error \"No data elements in server response. Check log and query location/tags.\"\n",
            "Getting dataframe to form osm_uk_10_0.csv\n"
          ]
        },
        {
          "name": "stderr",
          "output_type": "stream",
          "text": [
            "/var/folders/tq/f7lcjhp564g26624rbp38l240000gn/T/ipykernel_19312/1508289565.py:212: FutureWarning: The `geometries` module and `geometries_from_X` functions have been renamed the `features` module and `features_from_X` functions. Use these instead. The `geometries` module and function names are deprecated and will be removed in the v2.0.0 release. See the OSMnx v2 migration guide: https://github.com/gboeing/osmnx/issues/1123\n",
            "  all_buildings_from_osm = ox.geometries_from_bbox(north, south, east, west, tags)\n",
            "/Library/Frameworks/Python.framework/Versions/3.10/lib/python3.10/site-packages/osmnx/geometries.py:48: FutureWarning: The `north`, `south`, `east`, and `west` parameters are deprecated and will be removed in the v2.0.0 release. Use the `bbox` parameter instead. See the OSMnx v2 migration guide: https://github.com/gboeing/osmnx/issues/1123\n",
            "  return features.features_from_bbox(north, south, east, west, tags=tags)\n",
            "/Library/Frameworks/Python.framework/Versions/3.10/lib/python3.10/site-packages/osmnx/geometries.py:48: FutureWarning: The expected order of coordinates in `bbox` will change in the v2.0.0 release to `(left, bottom, right, top)`.\n",
            "  return features.features_from_bbox(north, south, east, west, tags=tags)\n"
          ]
        },
        {
          "name": "stdout",
          "output_type": "stream",
          "text": [
            "osm_uk_10_0.csv has been formed successfully\n",
            "Getting dataframe to form osm_uk_10_1.csv\n"
          ]
        },
        {
          "name": "stderr",
          "output_type": "stream",
          "text": [
            "/var/folders/tq/f7lcjhp564g26624rbp38l240000gn/T/ipykernel_19312/1508289565.py:212: FutureWarning: The `geometries` module and `geometries_from_X` functions have been renamed the `features` module and `features_from_X` functions. Use these instead. The `geometries` module and function names are deprecated and will be removed in the v2.0.0 release. See the OSMnx v2 migration guide: https://github.com/gboeing/osmnx/issues/1123\n",
            "  all_buildings_from_osm = ox.geometries_from_bbox(north, south, east, west, tags)\n",
            "/Library/Frameworks/Python.framework/Versions/3.10/lib/python3.10/site-packages/osmnx/geometries.py:48: FutureWarning: The `north`, `south`, `east`, and `west` parameters are deprecated and will be removed in the v2.0.0 release. Use the `bbox` parameter instead. See the OSMnx v2 migration guide: https://github.com/gboeing/osmnx/issues/1123\n",
            "  return features.features_from_bbox(north, south, east, west, tags=tags)\n",
            "/Library/Frameworks/Python.framework/Versions/3.10/lib/python3.10/site-packages/osmnx/geometries.py:48: FutureWarning: The expected order of coordinates in `bbox` will change in the v2.0.0 release to `(left, bottom, right, top)`.\n",
            "  return features.features_from_bbox(north, south, east, west, tags=tags)\n"
          ]
        },
        {
          "name": "stdout",
          "output_type": "stream",
          "text": [
            "osm_uk_10_1.csv has been formed successfully\n",
            "Getting dataframe to form osm_uk_10_2.csv\n"
          ]
        },
        {
          "name": "stderr",
          "output_type": "stream",
          "text": [
            "/var/folders/tq/f7lcjhp564g26624rbp38l240000gn/T/ipykernel_19312/1508289565.py:212: FutureWarning: The `geometries` module and `geometries_from_X` functions have been renamed the `features` module and `features_from_X` functions. Use these instead. The `geometries` module and function names are deprecated and will be removed in the v2.0.0 release. See the OSMnx v2 migration guide: https://github.com/gboeing/osmnx/issues/1123\n",
            "  all_buildings_from_osm = ox.geometries_from_bbox(north, south, east, west, tags)\n",
            "/Library/Frameworks/Python.framework/Versions/3.10/lib/python3.10/site-packages/osmnx/geometries.py:48: FutureWarning: The `north`, `south`, `east`, and `west` parameters are deprecated and will be removed in the v2.0.0 release. Use the `bbox` parameter instead. See the OSMnx v2 migration guide: https://github.com/gboeing/osmnx/issues/1123\n",
            "  return features.features_from_bbox(north, south, east, west, tags=tags)\n",
            "/Library/Frameworks/Python.framework/Versions/3.10/lib/python3.10/site-packages/osmnx/geometries.py:48: FutureWarning: The expected order of coordinates in `bbox` will change in the v2.0.0 release to `(left, bottom, right, top)`.\n",
            "  return features.features_from_bbox(north, south, east, west, tags=tags)\n"
          ]
        },
        {
          "name": "stdout",
          "output_type": "stream",
          "text": [
            "osm_uk_10_2.csv has been formed successfully\n",
            "Getting dataframe to form osm_uk_10_3.csv\n"
          ]
        },
        {
          "name": "stderr",
          "output_type": "stream",
          "text": [
            "/var/folders/tq/f7lcjhp564g26624rbp38l240000gn/T/ipykernel_19312/1508289565.py:212: FutureWarning: The `geometries` module and `geometries_from_X` functions have been renamed the `features` module and `features_from_X` functions. Use these instead. The `geometries` module and function names are deprecated and will be removed in the v2.0.0 release. See the OSMnx v2 migration guide: https://github.com/gboeing/osmnx/issues/1123\n",
            "  all_buildings_from_osm = ox.geometries_from_bbox(north, south, east, west, tags)\n",
            "/Library/Frameworks/Python.framework/Versions/3.10/lib/python3.10/site-packages/osmnx/geometries.py:48: FutureWarning: The `north`, `south`, `east`, and `west` parameters are deprecated and will be removed in the v2.0.0 release. Use the `bbox` parameter instead. See the OSMnx v2 migration guide: https://github.com/gboeing/osmnx/issues/1123\n",
            "  return features.features_from_bbox(north, south, east, west, tags=tags)\n",
            "/Library/Frameworks/Python.framework/Versions/3.10/lib/python3.10/site-packages/osmnx/geometries.py:48: FutureWarning: The expected order of coordinates in `bbox` will change in the v2.0.0 release to `(left, bottom, right, top)`.\n",
            "  return features.features_from_bbox(north, south, east, west, tags=tags)\n"
          ]
        },
        {
          "name": "stdout",
          "output_type": "stream",
          "text": [
            "osm_uk_10_3.csv has been formed successfully\n",
            "Getting dataframe to form osm_uk_10_4.csv\n"
          ]
        },
        {
          "name": "stderr",
          "output_type": "stream",
          "text": [
            "/var/folders/tq/f7lcjhp564g26624rbp38l240000gn/T/ipykernel_19312/1508289565.py:212: FutureWarning: The `geometries` module and `geometries_from_X` functions have been renamed the `features` module and `features_from_X` functions. Use these instead. The `geometries` module and function names are deprecated and will be removed in the v2.0.0 release. See the OSMnx v2 migration guide: https://github.com/gboeing/osmnx/issues/1123\n",
            "  all_buildings_from_osm = ox.geometries_from_bbox(north, south, east, west, tags)\n",
            "/Library/Frameworks/Python.framework/Versions/3.10/lib/python3.10/site-packages/osmnx/geometries.py:48: FutureWarning: The `north`, `south`, `east`, and `west` parameters are deprecated and will be removed in the v2.0.0 release. Use the `bbox` parameter instead. See the OSMnx v2 migration guide: https://github.com/gboeing/osmnx/issues/1123\n",
            "  return features.features_from_bbox(north, south, east, west, tags=tags)\n",
            "/Library/Frameworks/Python.framework/Versions/3.10/lib/python3.10/site-packages/osmnx/geometries.py:48: FutureWarning: The expected order of coordinates in `bbox` will change in the v2.0.0 release to `(left, bottom, right, top)`.\n",
            "  return features.features_from_bbox(north, south, east, west, tags=tags)\n"
          ]
        },
        {
          "name": "stdout",
          "output_type": "stream",
          "text": [
            "osm_uk_10_4.csv has been formed successfully\n",
            "Getting dataframe to form osm_uk_10_5.csv\n"
          ]
        },
        {
          "name": "stderr",
          "output_type": "stream",
          "text": [
            "/var/folders/tq/f7lcjhp564g26624rbp38l240000gn/T/ipykernel_19312/1508289565.py:212: FutureWarning: The `geometries` module and `geometries_from_X` functions have been renamed the `features` module and `features_from_X` functions. Use these instead. The `geometries` module and function names are deprecated and will be removed in the v2.0.0 release. See the OSMnx v2 migration guide: https://github.com/gboeing/osmnx/issues/1123\n",
            "  all_buildings_from_osm = ox.geometries_from_bbox(north, south, east, west, tags)\n",
            "/Library/Frameworks/Python.framework/Versions/3.10/lib/python3.10/site-packages/osmnx/geometries.py:48: FutureWarning: The `north`, `south`, `east`, and `west` parameters are deprecated and will be removed in the v2.0.0 release. Use the `bbox` parameter instead. See the OSMnx v2 migration guide: https://github.com/gboeing/osmnx/issues/1123\n",
            "  return features.features_from_bbox(north, south, east, west, tags=tags)\n",
            "/Library/Frameworks/Python.framework/Versions/3.10/lib/python3.10/site-packages/osmnx/geometries.py:48: FutureWarning: The expected order of coordinates in `bbox` will change in the v2.0.0 release to `(left, bottom, right, top)`.\n",
            "  return features.features_from_bbox(north, south, east, west, tags=tags)\n"
          ]
        },
        {
          "name": "stdout",
          "output_type": "stream",
          "text": [
            "osm_uk_10_5.csv has been formed successfully\n",
            "Getting dataframe to form osm_uk_10_6.csv\n"
          ]
        },
        {
          "name": "stderr",
          "output_type": "stream",
          "text": [
            "/var/folders/tq/f7lcjhp564g26624rbp38l240000gn/T/ipykernel_19312/1508289565.py:212: FutureWarning: The `geometries` module and `geometries_from_X` functions have been renamed the `features` module and `features_from_X` functions. Use these instead. The `geometries` module and function names are deprecated and will be removed in the v2.0.0 release. See the OSMnx v2 migration guide: https://github.com/gboeing/osmnx/issues/1123\n",
            "  all_buildings_from_osm = ox.geometries_from_bbox(north, south, east, west, tags)\n",
            "/Library/Frameworks/Python.framework/Versions/3.10/lib/python3.10/site-packages/osmnx/geometries.py:48: FutureWarning: The `north`, `south`, `east`, and `west` parameters are deprecated and will be removed in the v2.0.0 release. Use the `bbox` parameter instead. See the OSMnx v2 migration guide: https://github.com/gboeing/osmnx/issues/1123\n",
            "  return features.features_from_bbox(north, south, east, west, tags=tags)\n",
            "/Library/Frameworks/Python.framework/Versions/3.10/lib/python3.10/site-packages/osmnx/geometries.py:48: FutureWarning: The expected order of coordinates in `bbox` will change in the v2.0.0 release to `(left, bottom, right, top)`.\n",
            "  return features.features_from_bbox(north, south, east, west, tags=tags)\n"
          ]
        },
        {
          "name": "stdout",
          "output_type": "stream",
          "text": [
            "osm_uk_10_6.csv has been formed successfully\n",
            "Getting dataframe to form osm_uk_10_7.csv\n"
          ]
        },
        {
          "name": "stderr",
          "output_type": "stream",
          "text": [
            "/var/folders/tq/f7lcjhp564g26624rbp38l240000gn/T/ipykernel_19312/1508289565.py:212: FutureWarning: The `geometries` module and `geometries_from_X` functions have been renamed the `features` module and `features_from_X` functions. Use these instead. The `geometries` module and function names are deprecated and will be removed in the v2.0.0 release. See the OSMnx v2 migration guide: https://github.com/gboeing/osmnx/issues/1123\n",
            "  all_buildings_from_osm = ox.geometries_from_bbox(north, south, east, west, tags)\n",
            "/Library/Frameworks/Python.framework/Versions/3.10/lib/python3.10/site-packages/osmnx/geometries.py:48: FutureWarning: The `north`, `south`, `east`, and `west` parameters are deprecated and will be removed in the v2.0.0 release. Use the `bbox` parameter instead. See the OSMnx v2 migration guide: https://github.com/gboeing/osmnx/issues/1123\n",
            "  return features.features_from_bbox(north, south, east, west, tags=tags)\n",
            "/Library/Frameworks/Python.framework/Versions/3.10/lib/python3.10/site-packages/osmnx/geometries.py:48: FutureWarning: The expected order of coordinates in `bbox` will change in the v2.0.0 release to `(left, bottom, right, top)`.\n",
            "  return features.features_from_bbox(north, south, east, west, tags=tags)\n"
          ]
        },
        {
          "name": "stdout",
          "output_type": "stream",
          "text": [
            "osm_uk_10_7.csv has been formed successfully\n",
            "Getting dataframe to form osm_uk_10_8.csv\n"
          ]
        },
        {
          "name": "stderr",
          "output_type": "stream",
          "text": [
            "/var/folders/tq/f7lcjhp564g26624rbp38l240000gn/T/ipykernel_19312/1508289565.py:212: FutureWarning: The `geometries` module and `geometries_from_X` functions have been renamed the `features` module and `features_from_X` functions. Use these instead. The `geometries` module and function names are deprecated and will be removed in the v2.0.0 release. See the OSMnx v2 migration guide: https://github.com/gboeing/osmnx/issues/1123\n",
            "  all_buildings_from_osm = ox.geometries_from_bbox(north, south, east, west, tags)\n",
            "/Library/Frameworks/Python.framework/Versions/3.10/lib/python3.10/site-packages/osmnx/geometries.py:48: FutureWarning: The `north`, `south`, `east`, and `west` parameters are deprecated and will be removed in the v2.0.0 release. Use the `bbox` parameter instead. See the OSMnx v2 migration guide: https://github.com/gboeing/osmnx/issues/1123\n",
            "  return features.features_from_bbox(north, south, east, west, tags=tags)\n",
            "/Library/Frameworks/Python.framework/Versions/3.10/lib/python3.10/site-packages/osmnx/geometries.py:48: FutureWarning: The expected order of coordinates in `bbox` will change in the v2.0.0 release to `(left, bottom, right, top)`.\n",
            "  return features.features_from_bbox(north, south, east, west, tags=tags)\n"
          ]
        },
        {
          "name": "stdout",
          "output_type": "stream",
          "text": [
            "osm_uk_10_8.csv has been formed successfully\n",
            "Getting dataframe to form osm_uk_10_9.csv\n"
          ]
        },
        {
          "name": "stderr",
          "output_type": "stream",
          "text": [
            "/var/folders/tq/f7lcjhp564g26624rbp38l240000gn/T/ipykernel_19312/1508289565.py:212: FutureWarning: The `geometries` module and `geometries_from_X` functions have been renamed the `features` module and `features_from_X` functions. Use these instead. The `geometries` module and function names are deprecated and will be removed in the v2.0.0 release. See the OSMnx v2 migration guide: https://github.com/gboeing/osmnx/issues/1123\n",
            "  all_buildings_from_osm = ox.geometries_from_bbox(north, south, east, west, tags)\n",
            "/Library/Frameworks/Python.framework/Versions/3.10/lib/python3.10/site-packages/osmnx/geometries.py:48: FutureWarning: The `north`, `south`, `east`, and `west` parameters are deprecated and will be removed in the v2.0.0 release. Use the `bbox` parameter instead. See the OSMnx v2 migration guide: https://github.com/gboeing/osmnx/issues/1123\n",
            "  return features.features_from_bbox(north, south, east, west, tags=tags)\n",
            "/Library/Frameworks/Python.framework/Versions/3.10/lib/python3.10/site-packages/osmnx/geometries.py:48: FutureWarning: The expected order of coordinates in `bbox` will change in the v2.0.0 release to `(left, bottom, right, top)`.\n",
            "  return features.features_from_bbox(north, south, east, west, tags=tags)\n"
          ]
        },
        {
          "name": "stdout",
          "output_type": "stream",
          "text": [
            "osm_uk_10_9.csv has been formed successfully\n",
            "Getting dataframe to form osm_uk_10_10.csv\n"
          ]
        },
        {
          "name": "stderr",
          "output_type": "stream",
          "text": [
            "/var/folders/tq/f7lcjhp564g26624rbp38l240000gn/T/ipykernel_19312/1508289565.py:212: FutureWarning: The `geometries` module and `geometries_from_X` functions have been renamed the `features` module and `features_from_X` functions. Use these instead. The `geometries` module and function names are deprecated and will be removed in the v2.0.0 release. See the OSMnx v2 migration guide: https://github.com/gboeing/osmnx/issues/1123\n",
            "  all_buildings_from_osm = ox.geometries_from_bbox(north, south, east, west, tags)\n",
            "/Library/Frameworks/Python.framework/Versions/3.10/lib/python3.10/site-packages/osmnx/geometries.py:48: FutureWarning: The `north`, `south`, `east`, and `west` parameters are deprecated and will be removed in the v2.0.0 release. Use the `bbox` parameter instead. See the OSMnx v2 migration guide: https://github.com/gboeing/osmnx/issues/1123\n",
            "  return features.features_from_bbox(north, south, east, west, tags=tags)\n",
            "/Library/Frameworks/Python.framework/Versions/3.10/lib/python3.10/site-packages/osmnx/geometries.py:48: FutureWarning: The expected order of coordinates in `bbox` will change in the v2.0.0 release to `(left, bottom, right, top)`.\n",
            "  return features.features_from_bbox(north, south, east, west, tags=tags)\n"
          ]
        },
        {
          "name": "stdout",
          "output_type": "stream",
          "text": [
            "osm_uk_10_10.csv has been formed successfully\n",
            "Getting dataframe to form osm_uk_10_11.csv\n"
          ]
        },
        {
          "name": "stderr",
          "output_type": "stream",
          "text": [
            "/var/folders/tq/f7lcjhp564g26624rbp38l240000gn/T/ipykernel_19312/1508289565.py:212: FutureWarning: The `geometries` module and `geometries_from_X` functions have been renamed the `features` module and `features_from_X` functions. Use these instead. The `geometries` module and function names are deprecated and will be removed in the v2.0.0 release. See the OSMnx v2 migration guide: https://github.com/gboeing/osmnx/issues/1123\n",
            "  all_buildings_from_osm = ox.geometries_from_bbox(north, south, east, west, tags)\n",
            "/Library/Frameworks/Python.framework/Versions/3.10/lib/python3.10/site-packages/osmnx/geometries.py:48: FutureWarning: The `north`, `south`, `east`, and `west` parameters are deprecated and will be removed in the v2.0.0 release. Use the `bbox` parameter instead. See the OSMnx v2 migration guide: https://github.com/gboeing/osmnx/issues/1123\n",
            "  return features.features_from_bbox(north, south, east, west, tags=tags)\n",
            "/Library/Frameworks/Python.framework/Versions/3.10/lib/python3.10/site-packages/osmnx/geometries.py:48: FutureWarning: The expected order of coordinates in `bbox` will change in the v2.0.0 release to `(left, bottom, right, top)`.\n",
            "  return features.features_from_bbox(north, south, east, west, tags=tags)\n"
          ]
        },
        {
          "name": "stdout",
          "output_type": "stream",
          "text": [
            "osm_uk_10_11.csv has been formed successfully\n",
            "Getting dataframe to form osm_uk_10_12.csv\n"
          ]
        },
        {
          "name": "stderr",
          "output_type": "stream",
          "text": [
            "/var/folders/tq/f7lcjhp564g26624rbp38l240000gn/T/ipykernel_19312/1508289565.py:212: FutureWarning: The `geometries` module and `geometries_from_X` functions have been renamed the `features` module and `features_from_X` functions. Use these instead. The `geometries` module and function names are deprecated and will be removed in the v2.0.0 release. See the OSMnx v2 migration guide: https://github.com/gboeing/osmnx/issues/1123\n",
            "  all_buildings_from_osm = ox.geometries_from_bbox(north, south, east, west, tags)\n",
            "/Library/Frameworks/Python.framework/Versions/3.10/lib/python3.10/site-packages/osmnx/geometries.py:48: FutureWarning: The `north`, `south`, `east`, and `west` parameters are deprecated and will be removed in the v2.0.0 release. Use the `bbox` parameter instead. See the OSMnx v2 migration guide: https://github.com/gboeing/osmnx/issues/1123\n",
            "  return features.features_from_bbox(north, south, east, west, tags=tags)\n",
            "/Library/Frameworks/Python.framework/Versions/3.10/lib/python3.10/site-packages/osmnx/geometries.py:48: FutureWarning: The expected order of coordinates in `bbox` will change in the v2.0.0 release to `(left, bottom, right, top)`.\n",
            "  return features.features_from_bbox(north, south, east, west, tags=tags)\n"
          ]
        },
        {
          "name": "stdout",
          "output_type": "stream",
          "text": [
            "osm_uk_10_12.csv has not been created due to error \"No data elements in server response. Check log and query location/tags.\"\n",
            "Getting dataframe to form osm_uk_10_13.csv\n"
          ]
        },
        {
          "name": "stderr",
          "output_type": "stream",
          "text": [
            "/var/folders/tq/f7lcjhp564g26624rbp38l240000gn/T/ipykernel_19312/1508289565.py:212: FutureWarning: The `geometries` module and `geometries_from_X` functions have been renamed the `features` module and `features_from_X` functions. Use these instead. The `geometries` module and function names are deprecated and will be removed in the v2.0.0 release. See the OSMnx v2 migration guide: https://github.com/gboeing/osmnx/issues/1123\n",
            "  all_buildings_from_osm = ox.geometries_from_bbox(north, south, east, west, tags)\n",
            "/Library/Frameworks/Python.framework/Versions/3.10/lib/python3.10/site-packages/osmnx/geometries.py:48: FutureWarning: The `north`, `south`, `east`, and `west` parameters are deprecated and will be removed in the v2.0.0 release. Use the `bbox` parameter instead. See the OSMnx v2 migration guide: https://github.com/gboeing/osmnx/issues/1123\n",
            "  return features.features_from_bbox(north, south, east, west, tags=tags)\n",
            "/Library/Frameworks/Python.framework/Versions/3.10/lib/python3.10/site-packages/osmnx/geometries.py:48: FutureWarning: The expected order of coordinates in `bbox` will change in the v2.0.0 release to `(left, bottom, right, top)`.\n",
            "  return features.features_from_bbox(north, south, east, west, tags=tags)\n"
          ]
        },
        {
          "name": "stdout",
          "output_type": "stream",
          "text": [
            "osm_uk_10_13.csv has not been created due to error \"No data elements in server response. Check log and query location/tags.\"\n",
            "Getting dataframe to form osm_uk_10_14.csv\n"
          ]
        },
        {
          "name": "stderr",
          "output_type": "stream",
          "text": [
            "/var/folders/tq/f7lcjhp564g26624rbp38l240000gn/T/ipykernel_19312/1508289565.py:212: FutureWarning: The `geometries` module and `geometries_from_X` functions have been renamed the `features` module and `features_from_X` functions. Use these instead. The `geometries` module and function names are deprecated and will be removed in the v2.0.0 release. See the OSMnx v2 migration guide: https://github.com/gboeing/osmnx/issues/1123\n",
            "  all_buildings_from_osm = ox.geometries_from_bbox(north, south, east, west, tags)\n",
            "/Library/Frameworks/Python.framework/Versions/3.10/lib/python3.10/site-packages/osmnx/geometries.py:48: FutureWarning: The `north`, `south`, `east`, and `west` parameters are deprecated and will be removed in the v2.0.0 release. Use the `bbox` parameter instead. See the OSMnx v2 migration guide: https://github.com/gboeing/osmnx/issues/1123\n",
            "  return features.features_from_bbox(north, south, east, west, tags=tags)\n",
            "/Library/Frameworks/Python.framework/Versions/3.10/lib/python3.10/site-packages/osmnx/geometries.py:48: FutureWarning: The expected order of coordinates in `bbox` will change in the v2.0.0 release to `(left, bottom, right, top)`.\n",
            "  return features.features_from_bbox(north, south, east, west, tags=tags)\n"
          ]
        },
        {
          "name": "stdout",
          "output_type": "stream",
          "text": [
            "osm_uk_10_14.csv has not been created due to error \"No data elements in server response. Check log and query location/tags.\"\n",
            "Getting dataframe to form osm_uk_10_15.csv\n"
          ]
        },
        {
          "name": "stderr",
          "output_type": "stream",
          "text": [
            "/var/folders/tq/f7lcjhp564g26624rbp38l240000gn/T/ipykernel_19312/1508289565.py:212: FutureWarning: The `geometries` module and `geometries_from_X` functions have been renamed the `features` module and `features_from_X` functions. Use these instead. The `geometries` module and function names are deprecated and will be removed in the v2.0.0 release. See the OSMnx v2 migration guide: https://github.com/gboeing/osmnx/issues/1123\n",
            "  all_buildings_from_osm = ox.geometries_from_bbox(north, south, east, west, tags)\n",
            "/Library/Frameworks/Python.framework/Versions/3.10/lib/python3.10/site-packages/osmnx/geometries.py:48: FutureWarning: The `north`, `south`, `east`, and `west` parameters are deprecated and will be removed in the v2.0.0 release. Use the `bbox` parameter instead. See the OSMnx v2 migration guide: https://github.com/gboeing/osmnx/issues/1123\n",
            "  return features.features_from_bbox(north, south, east, west, tags=tags)\n",
            "/Library/Frameworks/Python.framework/Versions/3.10/lib/python3.10/site-packages/osmnx/geometries.py:48: FutureWarning: The expected order of coordinates in `bbox` will change in the v2.0.0 release to `(left, bottom, right, top)`.\n",
            "  return features.features_from_bbox(north, south, east, west, tags=tags)\n"
          ]
        },
        {
          "name": "stdout",
          "output_type": "stream",
          "text": [
            "osm_uk_10_15.csv has not been created due to error \"No data elements in server response. Check log and query location/tags.\"\n",
            "Getting dataframe to form osm_uk_10_16.csv\n"
          ]
        },
        {
          "name": "stderr",
          "output_type": "stream",
          "text": [
            "/var/folders/tq/f7lcjhp564g26624rbp38l240000gn/T/ipykernel_19312/1508289565.py:212: FutureWarning: The `geometries` module and `geometries_from_X` functions have been renamed the `features` module and `features_from_X` functions. Use these instead. The `geometries` module and function names are deprecated and will be removed in the v2.0.0 release. See the OSMnx v2 migration guide: https://github.com/gboeing/osmnx/issues/1123\n",
            "  all_buildings_from_osm = ox.geometries_from_bbox(north, south, east, west, tags)\n",
            "/Library/Frameworks/Python.framework/Versions/3.10/lib/python3.10/site-packages/osmnx/geometries.py:48: FutureWarning: The `north`, `south`, `east`, and `west` parameters are deprecated and will be removed in the v2.0.0 release. Use the `bbox` parameter instead. See the OSMnx v2 migration guide: https://github.com/gboeing/osmnx/issues/1123\n",
            "  return features.features_from_bbox(north, south, east, west, tags=tags)\n",
            "/Library/Frameworks/Python.framework/Versions/3.10/lib/python3.10/site-packages/osmnx/geometries.py:48: FutureWarning: The expected order of coordinates in `bbox` will change in the v2.0.0 release to `(left, bottom, right, top)`.\n",
            "  return features.features_from_bbox(north, south, east, west, tags=tags)\n"
          ]
        },
        {
          "name": "stdout",
          "output_type": "stream",
          "text": [
            "osm_uk_10_16.csv has not been created due to error \"No data elements in server response. Check log and query location/tags.\"\n",
            "Getting dataframe to form osm_uk_10_17.csv\n"
          ]
        },
        {
          "name": "stderr",
          "output_type": "stream",
          "text": [
            "/var/folders/tq/f7lcjhp564g26624rbp38l240000gn/T/ipykernel_19312/1508289565.py:212: FutureWarning: The `geometries` module and `geometries_from_X` functions have been renamed the `features` module and `features_from_X` functions. Use these instead. The `geometries` module and function names are deprecated and will be removed in the v2.0.0 release. See the OSMnx v2 migration guide: https://github.com/gboeing/osmnx/issues/1123\n",
            "  all_buildings_from_osm = ox.geometries_from_bbox(north, south, east, west, tags)\n",
            "/Library/Frameworks/Python.framework/Versions/3.10/lib/python3.10/site-packages/osmnx/geometries.py:48: FutureWarning: The `north`, `south`, `east`, and `west` parameters are deprecated and will be removed in the v2.0.0 release. Use the `bbox` parameter instead. See the OSMnx v2 migration guide: https://github.com/gboeing/osmnx/issues/1123\n",
            "  return features.features_from_bbox(north, south, east, west, tags=tags)\n",
            "/Library/Frameworks/Python.framework/Versions/3.10/lib/python3.10/site-packages/osmnx/geometries.py:48: FutureWarning: The expected order of coordinates in `bbox` will change in the v2.0.0 release to `(left, bottom, right, top)`.\n",
            "  return features.features_from_bbox(north, south, east, west, tags=tags)\n"
          ]
        },
        {
          "name": "stdout",
          "output_type": "stream",
          "text": [
            "osm_uk_10_17.csv has not been created due to error \"No data elements in server response. Check log and query location/tags.\"\n",
            "Getting dataframe to form osm_uk_11_0.csv\n"
          ]
        },
        {
          "name": "stderr",
          "output_type": "stream",
          "text": [
            "/var/folders/tq/f7lcjhp564g26624rbp38l240000gn/T/ipykernel_19312/1508289565.py:212: FutureWarning: The `geometries` module and `geometries_from_X` functions have been renamed the `features` module and `features_from_X` functions. Use these instead. The `geometries` module and function names are deprecated and will be removed in the v2.0.0 release. See the OSMnx v2 migration guide: https://github.com/gboeing/osmnx/issues/1123\n",
            "  all_buildings_from_osm = ox.geometries_from_bbox(north, south, east, west, tags)\n",
            "/Library/Frameworks/Python.framework/Versions/3.10/lib/python3.10/site-packages/osmnx/geometries.py:48: FutureWarning: The `north`, `south`, `east`, and `west` parameters are deprecated and will be removed in the v2.0.0 release. Use the `bbox` parameter instead. See the OSMnx v2 migration guide: https://github.com/gboeing/osmnx/issues/1123\n",
            "  return features.features_from_bbox(north, south, east, west, tags=tags)\n",
            "/Library/Frameworks/Python.framework/Versions/3.10/lib/python3.10/site-packages/osmnx/geometries.py:48: FutureWarning: The expected order of coordinates in `bbox` will change in the v2.0.0 release to `(left, bottom, right, top)`.\n",
            "  return features.features_from_bbox(north, south, east, west, tags=tags)\n"
          ]
        },
        {
          "name": "stdout",
          "output_type": "stream",
          "text": [
            "osm_uk_11_0.csv has been formed successfully\n",
            "Getting dataframe to form osm_uk_11_1.csv\n"
          ]
        },
        {
          "name": "stderr",
          "output_type": "stream",
          "text": [
            "/var/folders/tq/f7lcjhp564g26624rbp38l240000gn/T/ipykernel_19312/1508289565.py:212: FutureWarning: The `geometries` module and `geometries_from_X` functions have been renamed the `features` module and `features_from_X` functions. Use these instead. The `geometries` module and function names are deprecated and will be removed in the v2.0.0 release. See the OSMnx v2 migration guide: https://github.com/gboeing/osmnx/issues/1123\n",
            "  all_buildings_from_osm = ox.geometries_from_bbox(north, south, east, west, tags)\n",
            "/Library/Frameworks/Python.framework/Versions/3.10/lib/python3.10/site-packages/osmnx/geometries.py:48: FutureWarning: The `north`, `south`, `east`, and `west` parameters are deprecated and will be removed in the v2.0.0 release. Use the `bbox` parameter instead. See the OSMnx v2 migration guide: https://github.com/gboeing/osmnx/issues/1123\n",
            "  return features.features_from_bbox(north, south, east, west, tags=tags)\n",
            "/Library/Frameworks/Python.framework/Versions/3.10/lib/python3.10/site-packages/osmnx/geometries.py:48: FutureWarning: The expected order of coordinates in `bbox` will change in the v2.0.0 release to `(left, bottom, right, top)`.\n",
            "  return features.features_from_bbox(north, south, east, west, tags=tags)\n"
          ]
        },
        {
          "name": "stdout",
          "output_type": "stream",
          "text": [
            "osm_uk_11_1.csv has been formed successfully\n",
            "Getting dataframe to form osm_uk_11_2.csv\n"
          ]
        },
        {
          "name": "stderr",
          "output_type": "stream",
          "text": [
            "/var/folders/tq/f7lcjhp564g26624rbp38l240000gn/T/ipykernel_19312/1508289565.py:212: FutureWarning: The `geometries` module and `geometries_from_X` functions have been renamed the `features` module and `features_from_X` functions. Use these instead. The `geometries` module and function names are deprecated and will be removed in the v2.0.0 release. See the OSMnx v2 migration guide: https://github.com/gboeing/osmnx/issues/1123\n",
            "  all_buildings_from_osm = ox.geometries_from_bbox(north, south, east, west, tags)\n",
            "/Library/Frameworks/Python.framework/Versions/3.10/lib/python3.10/site-packages/osmnx/geometries.py:48: FutureWarning: The `north`, `south`, `east`, and `west` parameters are deprecated and will be removed in the v2.0.0 release. Use the `bbox` parameter instead. See the OSMnx v2 migration guide: https://github.com/gboeing/osmnx/issues/1123\n",
            "  return features.features_from_bbox(north, south, east, west, tags=tags)\n",
            "/Library/Frameworks/Python.framework/Versions/3.10/lib/python3.10/site-packages/osmnx/geometries.py:48: FutureWarning: The expected order of coordinates in `bbox` will change in the v2.0.0 release to `(left, bottom, right, top)`.\n",
            "  return features.features_from_bbox(north, south, east, west, tags=tags)\n"
          ]
        },
        {
          "name": "stdout",
          "output_type": "stream",
          "text": [
            "osm_uk_11_2.csv has been formed successfully\n",
            "Getting dataframe to form osm_uk_11_3.csv\n"
          ]
        },
        {
          "name": "stderr",
          "output_type": "stream",
          "text": [
            "/var/folders/tq/f7lcjhp564g26624rbp38l240000gn/T/ipykernel_19312/1508289565.py:212: FutureWarning: The `geometries` module and `geometries_from_X` functions have been renamed the `features` module and `features_from_X` functions. Use these instead. The `geometries` module and function names are deprecated and will be removed in the v2.0.0 release. See the OSMnx v2 migration guide: https://github.com/gboeing/osmnx/issues/1123\n",
            "  all_buildings_from_osm = ox.geometries_from_bbox(north, south, east, west, tags)\n",
            "/Library/Frameworks/Python.framework/Versions/3.10/lib/python3.10/site-packages/osmnx/geometries.py:48: FutureWarning: The `north`, `south`, `east`, and `west` parameters are deprecated and will be removed in the v2.0.0 release. Use the `bbox` parameter instead. See the OSMnx v2 migration guide: https://github.com/gboeing/osmnx/issues/1123\n",
            "  return features.features_from_bbox(north, south, east, west, tags=tags)\n",
            "/Library/Frameworks/Python.framework/Versions/3.10/lib/python3.10/site-packages/osmnx/geometries.py:48: FutureWarning: The expected order of coordinates in `bbox` will change in the v2.0.0 release to `(left, bottom, right, top)`.\n",
            "  return features.features_from_bbox(north, south, east, west, tags=tags)\n"
          ]
        },
        {
          "name": "stdout",
          "output_type": "stream",
          "text": [
            "osm_uk_11_3.csv has been formed successfully\n",
            "Getting dataframe to form osm_uk_11_4.csv\n"
          ]
        },
        {
          "name": "stderr",
          "output_type": "stream",
          "text": [
            "/var/folders/tq/f7lcjhp564g26624rbp38l240000gn/T/ipykernel_19312/1508289565.py:212: FutureWarning: The `geometries` module and `geometries_from_X` functions have been renamed the `features` module and `features_from_X` functions. Use these instead. The `geometries` module and function names are deprecated and will be removed in the v2.0.0 release. See the OSMnx v2 migration guide: https://github.com/gboeing/osmnx/issues/1123\n",
            "  all_buildings_from_osm = ox.geometries_from_bbox(north, south, east, west, tags)\n",
            "/Library/Frameworks/Python.framework/Versions/3.10/lib/python3.10/site-packages/osmnx/geometries.py:48: FutureWarning: The `north`, `south`, `east`, and `west` parameters are deprecated and will be removed in the v2.0.0 release. Use the `bbox` parameter instead. See the OSMnx v2 migration guide: https://github.com/gboeing/osmnx/issues/1123\n",
            "  return features.features_from_bbox(north, south, east, west, tags=tags)\n",
            "/Library/Frameworks/Python.framework/Versions/3.10/lib/python3.10/site-packages/osmnx/geometries.py:48: FutureWarning: The expected order of coordinates in `bbox` will change in the v2.0.0 release to `(left, bottom, right, top)`.\n",
            "  return features.features_from_bbox(north, south, east, west, tags=tags)\n"
          ]
        },
        {
          "name": "stdout",
          "output_type": "stream",
          "text": [
            "osm_uk_11_4.csv has been formed successfully\n",
            "Getting dataframe to form osm_uk_11_5.csv\n"
          ]
        },
        {
          "name": "stderr",
          "output_type": "stream",
          "text": [
            "/var/folders/tq/f7lcjhp564g26624rbp38l240000gn/T/ipykernel_19312/1508289565.py:212: FutureWarning: The `geometries` module and `geometries_from_X` functions have been renamed the `features` module and `features_from_X` functions. Use these instead. The `geometries` module and function names are deprecated and will be removed in the v2.0.0 release. See the OSMnx v2 migration guide: https://github.com/gboeing/osmnx/issues/1123\n",
            "  all_buildings_from_osm = ox.geometries_from_bbox(north, south, east, west, tags)\n",
            "/Library/Frameworks/Python.framework/Versions/3.10/lib/python3.10/site-packages/osmnx/geometries.py:48: FutureWarning: The `north`, `south`, `east`, and `west` parameters are deprecated and will be removed in the v2.0.0 release. Use the `bbox` parameter instead. See the OSMnx v2 migration guide: https://github.com/gboeing/osmnx/issues/1123\n",
            "  return features.features_from_bbox(north, south, east, west, tags=tags)\n",
            "/Library/Frameworks/Python.framework/Versions/3.10/lib/python3.10/site-packages/osmnx/geometries.py:48: FutureWarning: The expected order of coordinates in `bbox` will change in the v2.0.0 release to `(left, bottom, right, top)`.\n",
            "  return features.features_from_bbox(north, south, east, west, tags=tags)\n"
          ]
        },
        {
          "name": "stdout",
          "output_type": "stream",
          "text": [
            "osm_uk_11_5.csv has been formed successfully\n",
            "Getting dataframe to form osm_uk_11_6.csv\n"
          ]
        },
        {
          "name": "stderr",
          "output_type": "stream",
          "text": [
            "/var/folders/tq/f7lcjhp564g26624rbp38l240000gn/T/ipykernel_19312/1508289565.py:212: FutureWarning: The `geometries` module and `geometries_from_X` functions have been renamed the `features` module and `features_from_X` functions. Use these instead. The `geometries` module and function names are deprecated and will be removed in the v2.0.0 release. See the OSMnx v2 migration guide: https://github.com/gboeing/osmnx/issues/1123\n",
            "  all_buildings_from_osm = ox.geometries_from_bbox(north, south, east, west, tags)\n",
            "/Library/Frameworks/Python.framework/Versions/3.10/lib/python3.10/site-packages/osmnx/geometries.py:48: FutureWarning: The `north`, `south`, `east`, and `west` parameters are deprecated and will be removed in the v2.0.0 release. Use the `bbox` parameter instead. See the OSMnx v2 migration guide: https://github.com/gboeing/osmnx/issues/1123\n",
            "  return features.features_from_bbox(north, south, east, west, tags=tags)\n",
            "/Library/Frameworks/Python.framework/Versions/3.10/lib/python3.10/site-packages/osmnx/geometries.py:48: FutureWarning: The expected order of coordinates in `bbox` will change in the v2.0.0 release to `(left, bottom, right, top)`.\n",
            "  return features.features_from_bbox(north, south, east, west, tags=tags)\n"
          ]
        },
        {
          "name": "stdout",
          "output_type": "stream",
          "text": [
            "osm_uk_11_6.csv has been formed successfully\n",
            "Getting dataframe to form osm_uk_11_7.csv\n"
          ]
        },
        {
          "name": "stderr",
          "output_type": "stream",
          "text": [
            "/var/folders/tq/f7lcjhp564g26624rbp38l240000gn/T/ipykernel_19312/1508289565.py:212: FutureWarning: The `geometries` module and `geometries_from_X` functions have been renamed the `features` module and `features_from_X` functions. Use these instead. The `geometries` module and function names are deprecated and will be removed in the v2.0.0 release. See the OSMnx v2 migration guide: https://github.com/gboeing/osmnx/issues/1123\n",
            "  all_buildings_from_osm = ox.geometries_from_bbox(north, south, east, west, tags)\n",
            "/Library/Frameworks/Python.framework/Versions/3.10/lib/python3.10/site-packages/osmnx/geometries.py:48: FutureWarning: The `north`, `south`, `east`, and `west` parameters are deprecated and will be removed in the v2.0.0 release. Use the `bbox` parameter instead. See the OSMnx v2 migration guide: https://github.com/gboeing/osmnx/issues/1123\n",
            "  return features.features_from_bbox(north, south, east, west, tags=tags)\n",
            "/Library/Frameworks/Python.framework/Versions/3.10/lib/python3.10/site-packages/osmnx/geometries.py:48: FutureWarning: The expected order of coordinates in `bbox` will change in the v2.0.0 release to `(left, bottom, right, top)`.\n",
            "  return features.features_from_bbox(north, south, east, west, tags=tags)\n"
          ]
        },
        {
          "name": "stdout",
          "output_type": "stream",
          "text": [
            "osm_uk_11_7.csv has been formed successfully\n",
            "Getting dataframe to form osm_uk_11_8.csv\n"
          ]
        },
        {
          "name": "stderr",
          "output_type": "stream",
          "text": [
            "/var/folders/tq/f7lcjhp564g26624rbp38l240000gn/T/ipykernel_19312/1508289565.py:212: FutureWarning: The `geometries` module and `geometries_from_X` functions have been renamed the `features` module and `features_from_X` functions. Use these instead. The `geometries` module and function names are deprecated and will be removed in the v2.0.0 release. See the OSMnx v2 migration guide: https://github.com/gboeing/osmnx/issues/1123\n",
            "  all_buildings_from_osm = ox.geometries_from_bbox(north, south, east, west, tags)\n",
            "/Library/Frameworks/Python.framework/Versions/3.10/lib/python3.10/site-packages/osmnx/geometries.py:48: FutureWarning: The `north`, `south`, `east`, and `west` parameters are deprecated and will be removed in the v2.0.0 release. Use the `bbox` parameter instead. See the OSMnx v2 migration guide: https://github.com/gboeing/osmnx/issues/1123\n",
            "  return features.features_from_bbox(north, south, east, west, tags=tags)\n",
            "/Library/Frameworks/Python.framework/Versions/3.10/lib/python3.10/site-packages/osmnx/geometries.py:48: FutureWarning: The expected order of coordinates in `bbox` will change in the v2.0.0 release to `(left, bottom, right, top)`.\n",
            "  return features.features_from_bbox(north, south, east, west, tags=tags)\n"
          ]
        },
        {
          "name": "stdout",
          "output_type": "stream",
          "text": [
            "osm_uk_11_8.csv has been formed successfully\n",
            "Getting dataframe to form osm_uk_11_9.csv\n"
          ]
        },
        {
          "name": "stderr",
          "output_type": "stream",
          "text": [
            "/var/folders/tq/f7lcjhp564g26624rbp38l240000gn/T/ipykernel_19312/1508289565.py:212: FutureWarning: The `geometries` module and `geometries_from_X` functions have been renamed the `features` module and `features_from_X` functions. Use these instead. The `geometries` module and function names are deprecated and will be removed in the v2.0.0 release. See the OSMnx v2 migration guide: https://github.com/gboeing/osmnx/issues/1123\n",
            "  all_buildings_from_osm = ox.geometries_from_bbox(north, south, east, west, tags)\n",
            "/Library/Frameworks/Python.framework/Versions/3.10/lib/python3.10/site-packages/osmnx/geometries.py:48: FutureWarning: The `north`, `south`, `east`, and `west` parameters are deprecated and will be removed in the v2.0.0 release. Use the `bbox` parameter instead. See the OSMnx v2 migration guide: https://github.com/gboeing/osmnx/issues/1123\n",
            "  return features.features_from_bbox(north, south, east, west, tags=tags)\n",
            "/Library/Frameworks/Python.framework/Versions/3.10/lib/python3.10/site-packages/osmnx/geometries.py:48: FutureWarning: The expected order of coordinates in `bbox` will change in the v2.0.0 release to `(left, bottom, right, top)`.\n",
            "  return features.features_from_bbox(north, south, east, west, tags=tags)\n"
          ]
        },
        {
          "name": "stdout",
          "output_type": "stream",
          "text": [
            "osm_uk_11_9.csv has been formed successfully\n",
            "Getting dataframe to form osm_uk_11_10.csv\n"
          ]
        },
        {
          "name": "stderr",
          "output_type": "stream",
          "text": [
            "/var/folders/tq/f7lcjhp564g26624rbp38l240000gn/T/ipykernel_19312/1508289565.py:212: FutureWarning: The `geometries` module and `geometries_from_X` functions have been renamed the `features` module and `features_from_X` functions. Use these instead. The `geometries` module and function names are deprecated and will be removed in the v2.0.0 release. See the OSMnx v2 migration guide: https://github.com/gboeing/osmnx/issues/1123\n",
            "  all_buildings_from_osm = ox.geometries_from_bbox(north, south, east, west, tags)\n",
            "/Library/Frameworks/Python.framework/Versions/3.10/lib/python3.10/site-packages/osmnx/geometries.py:48: FutureWarning: The `north`, `south`, `east`, and `west` parameters are deprecated and will be removed in the v2.0.0 release. Use the `bbox` parameter instead. See the OSMnx v2 migration guide: https://github.com/gboeing/osmnx/issues/1123\n",
            "  return features.features_from_bbox(north, south, east, west, tags=tags)\n",
            "/Library/Frameworks/Python.framework/Versions/3.10/lib/python3.10/site-packages/osmnx/geometries.py:48: FutureWarning: The expected order of coordinates in `bbox` will change in the v2.0.0 release to `(left, bottom, right, top)`.\n",
            "  return features.features_from_bbox(north, south, east, west, tags=tags)\n"
          ]
        },
        {
          "name": "stdout",
          "output_type": "stream",
          "text": [
            "osm_uk_11_10.csv has been formed successfully\n",
            "Getting dataframe to form osm_uk_11_11.csv\n"
          ]
        },
        {
          "name": "stderr",
          "output_type": "stream",
          "text": [
            "/var/folders/tq/f7lcjhp564g26624rbp38l240000gn/T/ipykernel_19312/1508289565.py:212: FutureWarning: The `geometries` module and `geometries_from_X` functions have been renamed the `features` module and `features_from_X` functions. Use these instead. The `geometries` module and function names are deprecated and will be removed in the v2.0.0 release. See the OSMnx v2 migration guide: https://github.com/gboeing/osmnx/issues/1123\n",
            "  all_buildings_from_osm = ox.geometries_from_bbox(north, south, east, west, tags)\n",
            "/Library/Frameworks/Python.framework/Versions/3.10/lib/python3.10/site-packages/osmnx/geometries.py:48: FutureWarning: The `north`, `south`, `east`, and `west` parameters are deprecated and will be removed in the v2.0.0 release. Use the `bbox` parameter instead. See the OSMnx v2 migration guide: https://github.com/gboeing/osmnx/issues/1123\n",
            "  return features.features_from_bbox(north, south, east, west, tags=tags)\n",
            "/Library/Frameworks/Python.framework/Versions/3.10/lib/python3.10/site-packages/osmnx/geometries.py:48: FutureWarning: The expected order of coordinates in `bbox` will change in the v2.0.0 release to `(left, bottom, right, top)`.\n",
            "  return features.features_from_bbox(north, south, east, west, tags=tags)\n"
          ]
        },
        {
          "name": "stdout",
          "output_type": "stream",
          "text": [
            "osm_uk_11_11.csv has not been created due to error \"No data elements in server response. Check log and query location/tags.\"\n",
            "Getting dataframe to form osm_uk_11_12.csv\n"
          ]
        },
        {
          "name": "stderr",
          "output_type": "stream",
          "text": [
            "/var/folders/tq/f7lcjhp564g26624rbp38l240000gn/T/ipykernel_19312/1508289565.py:212: FutureWarning: The `geometries` module and `geometries_from_X` functions have been renamed the `features` module and `features_from_X` functions. Use these instead. The `geometries` module and function names are deprecated and will be removed in the v2.0.0 release. See the OSMnx v2 migration guide: https://github.com/gboeing/osmnx/issues/1123\n",
            "  all_buildings_from_osm = ox.geometries_from_bbox(north, south, east, west, tags)\n",
            "/Library/Frameworks/Python.framework/Versions/3.10/lib/python3.10/site-packages/osmnx/geometries.py:48: FutureWarning: The `north`, `south`, `east`, and `west` parameters are deprecated and will be removed in the v2.0.0 release. Use the `bbox` parameter instead. See the OSMnx v2 migration guide: https://github.com/gboeing/osmnx/issues/1123\n",
            "  return features.features_from_bbox(north, south, east, west, tags=tags)\n",
            "/Library/Frameworks/Python.framework/Versions/3.10/lib/python3.10/site-packages/osmnx/geometries.py:48: FutureWarning: The expected order of coordinates in `bbox` will change in the v2.0.0 release to `(left, bottom, right, top)`.\n",
            "  return features.features_from_bbox(north, south, east, west, tags=tags)\n"
          ]
        },
        {
          "name": "stdout",
          "output_type": "stream",
          "text": [
            "osm_uk_11_12.csv has not been created due to error \"No data elements in server response. Check log and query location/tags.\"\n",
            "Getting dataframe to form osm_uk_11_13.csv\n"
          ]
        },
        {
          "name": "stderr",
          "output_type": "stream",
          "text": [
            "/var/folders/tq/f7lcjhp564g26624rbp38l240000gn/T/ipykernel_19312/1508289565.py:212: FutureWarning: The `geometries` module and `geometries_from_X` functions have been renamed the `features` module and `features_from_X` functions. Use these instead. The `geometries` module and function names are deprecated and will be removed in the v2.0.0 release. See the OSMnx v2 migration guide: https://github.com/gboeing/osmnx/issues/1123\n",
            "  all_buildings_from_osm = ox.geometries_from_bbox(north, south, east, west, tags)\n",
            "/Library/Frameworks/Python.framework/Versions/3.10/lib/python3.10/site-packages/osmnx/geometries.py:48: FutureWarning: The `north`, `south`, `east`, and `west` parameters are deprecated and will be removed in the v2.0.0 release. Use the `bbox` parameter instead. See the OSMnx v2 migration guide: https://github.com/gboeing/osmnx/issues/1123\n",
            "  return features.features_from_bbox(north, south, east, west, tags=tags)\n",
            "/Library/Frameworks/Python.framework/Versions/3.10/lib/python3.10/site-packages/osmnx/geometries.py:48: FutureWarning: The expected order of coordinates in `bbox` will change in the v2.0.0 release to `(left, bottom, right, top)`.\n",
            "  return features.features_from_bbox(north, south, east, west, tags=tags)\n"
          ]
        },
        {
          "name": "stdout",
          "output_type": "stream",
          "text": [
            "osm_uk_11_13.csv has not been created due to error \"No data elements in server response. Check log and query location/tags.\"\n",
            "Getting dataframe to form osm_uk_11_14.csv\n"
          ]
        },
        {
          "name": "stderr",
          "output_type": "stream",
          "text": [
            "/var/folders/tq/f7lcjhp564g26624rbp38l240000gn/T/ipykernel_19312/1508289565.py:212: FutureWarning: The `geometries` module and `geometries_from_X` functions have been renamed the `features` module and `features_from_X` functions. Use these instead. The `geometries` module and function names are deprecated and will be removed in the v2.0.0 release. See the OSMnx v2 migration guide: https://github.com/gboeing/osmnx/issues/1123\n",
            "  all_buildings_from_osm = ox.geometries_from_bbox(north, south, east, west, tags)\n",
            "/Library/Frameworks/Python.framework/Versions/3.10/lib/python3.10/site-packages/osmnx/geometries.py:48: FutureWarning: The `north`, `south`, `east`, and `west` parameters are deprecated and will be removed in the v2.0.0 release. Use the `bbox` parameter instead. See the OSMnx v2 migration guide: https://github.com/gboeing/osmnx/issues/1123\n",
            "  return features.features_from_bbox(north, south, east, west, tags=tags)\n",
            "/Library/Frameworks/Python.framework/Versions/3.10/lib/python3.10/site-packages/osmnx/geometries.py:48: FutureWarning: The expected order of coordinates in `bbox` will change in the v2.0.0 release to `(left, bottom, right, top)`.\n",
            "  return features.features_from_bbox(north, south, east, west, tags=tags)\n"
          ]
        },
        {
          "name": "stdout",
          "output_type": "stream",
          "text": [
            "osm_uk_11_14.csv has not been created due to error \"No data elements in server response. Check log and query location/tags.\"\n",
            "Getting dataframe to form osm_uk_11_15.csv\n"
          ]
        },
        {
          "name": "stderr",
          "output_type": "stream",
          "text": [
            "/var/folders/tq/f7lcjhp564g26624rbp38l240000gn/T/ipykernel_19312/1508289565.py:212: FutureWarning: The `geometries` module and `geometries_from_X` functions have been renamed the `features` module and `features_from_X` functions. Use these instead. The `geometries` module and function names are deprecated and will be removed in the v2.0.0 release. See the OSMnx v2 migration guide: https://github.com/gboeing/osmnx/issues/1123\n",
            "  all_buildings_from_osm = ox.geometries_from_bbox(north, south, east, west, tags)\n",
            "/Library/Frameworks/Python.framework/Versions/3.10/lib/python3.10/site-packages/osmnx/geometries.py:48: FutureWarning: The `north`, `south`, `east`, and `west` parameters are deprecated and will be removed in the v2.0.0 release. Use the `bbox` parameter instead. See the OSMnx v2 migration guide: https://github.com/gboeing/osmnx/issues/1123\n",
            "  return features.features_from_bbox(north, south, east, west, tags=tags)\n",
            "/Library/Frameworks/Python.framework/Versions/3.10/lib/python3.10/site-packages/osmnx/geometries.py:48: FutureWarning: The expected order of coordinates in `bbox` will change in the v2.0.0 release to `(left, bottom, right, top)`.\n",
            "  return features.features_from_bbox(north, south, east, west, tags=tags)\n"
          ]
        },
        {
          "name": "stdout",
          "output_type": "stream",
          "text": [
            "osm_uk_11_15.csv has not been created due to error \"No data elements in server response. Check log and query location/tags.\"\n",
            "Getting dataframe to form osm_uk_11_16.csv\n"
          ]
        },
        {
          "name": "stderr",
          "output_type": "stream",
          "text": [
            "/var/folders/tq/f7lcjhp564g26624rbp38l240000gn/T/ipykernel_19312/1508289565.py:212: FutureWarning: The `geometries` module and `geometries_from_X` functions have been renamed the `features` module and `features_from_X` functions. Use these instead. The `geometries` module and function names are deprecated and will be removed in the v2.0.0 release. See the OSMnx v2 migration guide: https://github.com/gboeing/osmnx/issues/1123\n",
            "  all_buildings_from_osm = ox.geometries_from_bbox(north, south, east, west, tags)\n",
            "/Library/Frameworks/Python.framework/Versions/3.10/lib/python3.10/site-packages/osmnx/geometries.py:48: FutureWarning: The `north`, `south`, `east`, and `west` parameters are deprecated and will be removed in the v2.0.0 release. Use the `bbox` parameter instead. See the OSMnx v2 migration guide: https://github.com/gboeing/osmnx/issues/1123\n",
            "  return features.features_from_bbox(north, south, east, west, tags=tags)\n",
            "/Library/Frameworks/Python.framework/Versions/3.10/lib/python3.10/site-packages/osmnx/geometries.py:48: FutureWarning: The expected order of coordinates in `bbox` will change in the v2.0.0 release to `(left, bottom, right, top)`.\n",
            "  return features.features_from_bbox(north, south, east, west, tags=tags)\n"
          ]
        },
        {
          "name": "stdout",
          "output_type": "stream",
          "text": [
            "osm_uk_11_16.csv has not been created due to error \"No data elements in server response. Check log and query location/tags.\"\n",
            "Getting dataframe to form osm_uk_11_17.csv\n"
          ]
        },
        {
          "name": "stderr",
          "output_type": "stream",
          "text": [
            "/var/folders/tq/f7lcjhp564g26624rbp38l240000gn/T/ipykernel_19312/1508289565.py:212: FutureWarning: The `geometries` module and `geometries_from_X` functions have been renamed the `features` module and `features_from_X` functions. Use these instead. The `geometries` module and function names are deprecated and will be removed in the v2.0.0 release. See the OSMnx v2 migration guide: https://github.com/gboeing/osmnx/issues/1123\n",
            "  all_buildings_from_osm = ox.geometries_from_bbox(north, south, east, west, tags)\n",
            "/Library/Frameworks/Python.framework/Versions/3.10/lib/python3.10/site-packages/osmnx/geometries.py:48: FutureWarning: The `north`, `south`, `east`, and `west` parameters are deprecated and will be removed in the v2.0.0 release. Use the `bbox` parameter instead. See the OSMnx v2 migration guide: https://github.com/gboeing/osmnx/issues/1123\n",
            "  return features.features_from_bbox(north, south, east, west, tags=tags)\n",
            "/Library/Frameworks/Python.framework/Versions/3.10/lib/python3.10/site-packages/osmnx/geometries.py:48: FutureWarning: The expected order of coordinates in `bbox` will change in the v2.0.0 release to `(left, bottom, right, top)`.\n",
            "  return features.features_from_bbox(north, south, east, west, tags=tags)\n"
          ]
        },
        {
          "name": "stdout",
          "output_type": "stream",
          "text": [
            "osm_uk_11_17.csv has not been created due to error \"No data elements in server response. Check log and query location/tags.\"\n"
          ]
        }
      ],
      "source": [
        "ew_bounds = {\"north\": 55.8, \"south\": 49.8, \"east\": 2.0, \"west\": -7.0}\n",
        "\n",
        "west = -7.0\n",
        "south = 49.8\n",
        "step = 0.5\n",
        "tags = {\"building\": True}\n",
        "\n",
        "for i in range(5, 12):\n",
        "    for j in range(0, 18):\n",
        "        if i == 3 and (j == 13 or j == 14):\n",
        "            continue # Greater London has to be processed separately\n",
        "        file_name = f'osm_uk_{i}_{j}.csv'\n",
        "        print(f'Getting dataframe to form {file_name}')\n",
        "        bounds = (south + step * (i + 1), south + step * i, west + step * (j + 1), west + step * j)\n",
        "        try:\n",
        "            df = get_all_buildings_from_osm_by_bounds(bounds, tags)\n",
        "            for feature in features_df:\n",
        "                if feature not in df.columns:\n",
        "                    df[feature] = None\n",
        "            df = df[features_df]\n",
        "            # for column in df.columns:\n",
        "            #     print(f\"Column '{column}' has {df[column].count()} non-empty entries. 5 examples of non-empty entries: {df[column].dropna().head(5).tolist()}\")\n",
        "            df.to_csv(\"./\" + file_name, index=True, header=True)\n",
        "            print(f'{file_name} has been formed successfully')\n",
        "        except Exception as e:\n",
        "            print(f'{file_name} has not been created due to error \"{e}\"')"
      ]
    },
    {
      "cell_type": "code",
      "execution_count": 23,
      "metadata": {},
      "outputs": [
        {
          "name": "stdout",
          "output_type": "stream",
          "text": [
            "Getting dataframe to form osm_uk_gl_0_0.csv\n"
          ]
        },
        {
          "name": "stderr",
          "output_type": "stream",
          "text": [
            "/var/folders/tq/f7lcjhp564g26624rbp38l240000gn/T/ipykernel_19312/1508289565.py:212: FutureWarning: The `geometries` module and `geometries_from_X` functions have been renamed the `features` module and `features_from_X` functions. Use these instead. The `geometries` module and function names are deprecated and will be removed in the v2.0.0 release. See the OSMnx v2 migration guide: https://github.com/gboeing/osmnx/issues/1123\n",
            "  all_buildings_from_osm = ox.geometries_from_bbox(north, south, east, west, tags)\n",
            "/Library/Frameworks/Python.framework/Versions/3.10/lib/python3.10/site-packages/osmnx/geometries.py:48: FutureWarning: The `north`, `south`, `east`, and `west` parameters are deprecated and will be removed in the v2.0.0 release. Use the `bbox` parameter instead. See the OSMnx v2 migration guide: https://github.com/gboeing/osmnx/issues/1123\n",
            "  return features.features_from_bbox(north, south, east, west, tags=tags)\n",
            "/Library/Frameworks/Python.framework/Versions/3.10/lib/python3.10/site-packages/osmnx/geometries.py:48: FutureWarning: The expected order of coordinates in `bbox` will change in the v2.0.0 release to `(left, bottom, right, top)`.\n",
            "  return features.features_from_bbox(north, south, east, west, tags=tags)\n"
          ]
        },
        {
          "name": "stdout",
          "output_type": "stream",
          "text": [
            "osm_uk_gl_0_0.csv has been formed successfully\n",
            "Getting dataframe to form osm_uk_gl_0_1.csv\n"
          ]
        },
        {
          "name": "stderr",
          "output_type": "stream",
          "text": [
            "/var/folders/tq/f7lcjhp564g26624rbp38l240000gn/T/ipykernel_19312/1508289565.py:212: FutureWarning: The `geometries` module and `geometries_from_X` functions have been renamed the `features` module and `features_from_X` functions. Use these instead. The `geometries` module and function names are deprecated and will be removed in the v2.0.0 release. See the OSMnx v2 migration guide: https://github.com/gboeing/osmnx/issues/1123\n",
            "  all_buildings_from_osm = ox.geometries_from_bbox(north, south, east, west, tags)\n",
            "/Library/Frameworks/Python.framework/Versions/3.10/lib/python3.10/site-packages/osmnx/geometries.py:48: FutureWarning: The `north`, `south`, `east`, and `west` parameters are deprecated and will be removed in the v2.0.0 release. Use the `bbox` parameter instead. See the OSMnx v2 migration guide: https://github.com/gboeing/osmnx/issues/1123\n",
            "  return features.features_from_bbox(north, south, east, west, tags=tags)\n",
            "/Library/Frameworks/Python.framework/Versions/3.10/lib/python3.10/site-packages/osmnx/geometries.py:48: FutureWarning: The expected order of coordinates in `bbox` will change in the v2.0.0 release to `(left, bottom, right, top)`.\n",
            "  return features.features_from_bbox(north, south, east, west, tags=tags)\n"
          ]
        },
        {
          "name": "stdout",
          "output_type": "stream",
          "text": [
            "osm_uk_gl_0_1.csv has been formed successfully\n",
            "Getting dataframe to form osm_uk_gl_0_2.csv\n"
          ]
        },
        {
          "name": "stderr",
          "output_type": "stream",
          "text": [
            "/var/folders/tq/f7lcjhp564g26624rbp38l240000gn/T/ipykernel_19312/1508289565.py:212: FutureWarning: The `geometries` module and `geometries_from_X` functions have been renamed the `features` module and `features_from_X` functions. Use these instead. The `geometries` module and function names are deprecated and will be removed in the v2.0.0 release. See the OSMnx v2 migration guide: https://github.com/gboeing/osmnx/issues/1123\n",
            "  all_buildings_from_osm = ox.geometries_from_bbox(north, south, east, west, tags)\n",
            "/Library/Frameworks/Python.framework/Versions/3.10/lib/python3.10/site-packages/osmnx/geometries.py:48: FutureWarning: The `north`, `south`, `east`, and `west` parameters are deprecated and will be removed in the v2.0.0 release. Use the `bbox` parameter instead. See the OSMnx v2 migration guide: https://github.com/gboeing/osmnx/issues/1123\n",
            "  return features.features_from_bbox(north, south, east, west, tags=tags)\n",
            "/Library/Frameworks/Python.framework/Versions/3.10/lib/python3.10/site-packages/osmnx/geometries.py:48: FutureWarning: The expected order of coordinates in `bbox` will change in the v2.0.0 release to `(left, bottom, right, top)`.\n",
            "  return features.features_from_bbox(north, south, east, west, tags=tags)\n"
          ]
        },
        {
          "name": "stdout",
          "output_type": "stream",
          "text": [
            "osm_uk_gl_0_2.csv has been formed successfully\n",
            "Getting dataframe to form osm_uk_gl_0_3.csv\n"
          ]
        },
        {
          "name": "stderr",
          "output_type": "stream",
          "text": [
            "/var/folders/tq/f7lcjhp564g26624rbp38l240000gn/T/ipykernel_19312/1508289565.py:212: FutureWarning: The `geometries` module and `geometries_from_X` functions have been renamed the `features` module and `features_from_X` functions. Use these instead. The `geometries` module and function names are deprecated and will be removed in the v2.0.0 release. See the OSMnx v2 migration guide: https://github.com/gboeing/osmnx/issues/1123\n",
            "  all_buildings_from_osm = ox.geometries_from_bbox(north, south, east, west, tags)\n",
            "/Library/Frameworks/Python.framework/Versions/3.10/lib/python3.10/site-packages/osmnx/geometries.py:48: FutureWarning: The `north`, `south`, `east`, and `west` parameters are deprecated and will be removed in the v2.0.0 release. Use the `bbox` parameter instead. See the OSMnx v2 migration guide: https://github.com/gboeing/osmnx/issues/1123\n",
            "  return features.features_from_bbox(north, south, east, west, tags=tags)\n",
            "/Library/Frameworks/Python.framework/Versions/3.10/lib/python3.10/site-packages/osmnx/geometries.py:48: FutureWarning: The expected order of coordinates in `bbox` will change in the v2.0.0 release to `(left, bottom, right, top)`.\n",
            "  return features.features_from_bbox(north, south, east, west, tags=tags)\n"
          ]
        },
        {
          "name": "stdout",
          "output_type": "stream",
          "text": [
            "osm_uk_gl_0_3.csv has been formed successfully\n",
            "Getting dataframe to form osm_uk_gl_0_4.csv\n"
          ]
        },
        {
          "name": "stderr",
          "output_type": "stream",
          "text": [
            "/var/folders/tq/f7lcjhp564g26624rbp38l240000gn/T/ipykernel_19312/1508289565.py:212: FutureWarning: The `geometries` module and `geometries_from_X` functions have been renamed the `features` module and `features_from_X` functions. Use these instead. The `geometries` module and function names are deprecated and will be removed in the v2.0.0 release. See the OSMnx v2 migration guide: https://github.com/gboeing/osmnx/issues/1123\n",
            "  all_buildings_from_osm = ox.geometries_from_bbox(north, south, east, west, tags)\n",
            "/Library/Frameworks/Python.framework/Versions/3.10/lib/python3.10/site-packages/osmnx/geometries.py:48: FutureWarning: The `north`, `south`, `east`, and `west` parameters are deprecated and will be removed in the v2.0.0 release. Use the `bbox` parameter instead. See the OSMnx v2 migration guide: https://github.com/gboeing/osmnx/issues/1123\n",
            "  return features.features_from_bbox(north, south, east, west, tags=tags)\n",
            "/Library/Frameworks/Python.framework/Versions/3.10/lib/python3.10/site-packages/osmnx/geometries.py:48: FutureWarning: The expected order of coordinates in `bbox` will change in the v2.0.0 release to `(left, bottom, right, top)`.\n",
            "  return features.features_from_bbox(north, south, east, west, tags=tags)\n"
          ]
        },
        {
          "name": "stdout",
          "output_type": "stream",
          "text": [
            "osm_uk_gl_0_4.csv has been formed successfully\n",
            "Getting dataframe to form osm_uk_gl_0_5.csv\n"
          ]
        },
        {
          "name": "stderr",
          "output_type": "stream",
          "text": [
            "/var/folders/tq/f7lcjhp564g26624rbp38l240000gn/T/ipykernel_19312/1508289565.py:212: FutureWarning: The `geometries` module and `geometries_from_X` functions have been renamed the `features` module and `features_from_X` functions. Use these instead. The `geometries` module and function names are deprecated and will be removed in the v2.0.0 release. See the OSMnx v2 migration guide: https://github.com/gboeing/osmnx/issues/1123\n",
            "  all_buildings_from_osm = ox.geometries_from_bbox(north, south, east, west, tags)\n",
            "/Library/Frameworks/Python.framework/Versions/3.10/lib/python3.10/site-packages/osmnx/geometries.py:48: FutureWarning: The `north`, `south`, `east`, and `west` parameters are deprecated and will be removed in the v2.0.0 release. Use the `bbox` parameter instead. See the OSMnx v2 migration guide: https://github.com/gboeing/osmnx/issues/1123\n",
            "  return features.features_from_bbox(north, south, east, west, tags=tags)\n",
            "/Library/Frameworks/Python.framework/Versions/3.10/lib/python3.10/site-packages/osmnx/geometries.py:48: FutureWarning: The expected order of coordinates in `bbox` will change in the v2.0.0 release to `(left, bottom, right, top)`.\n",
            "  return features.features_from_bbox(north, south, east, west, tags=tags)\n"
          ]
        },
        {
          "name": "stdout",
          "output_type": "stream",
          "text": [
            "osm_uk_gl_0_5.csv has been formed successfully\n",
            "Getting dataframe to form osm_uk_gl_0_6.csv\n"
          ]
        },
        {
          "name": "stderr",
          "output_type": "stream",
          "text": [
            "/var/folders/tq/f7lcjhp564g26624rbp38l240000gn/T/ipykernel_19312/1508289565.py:212: FutureWarning: The `geometries` module and `geometries_from_X` functions have been renamed the `features` module and `features_from_X` functions. Use these instead. The `geometries` module and function names are deprecated and will be removed in the v2.0.0 release. See the OSMnx v2 migration guide: https://github.com/gboeing/osmnx/issues/1123\n",
            "  all_buildings_from_osm = ox.geometries_from_bbox(north, south, east, west, tags)\n",
            "/Library/Frameworks/Python.framework/Versions/3.10/lib/python3.10/site-packages/osmnx/geometries.py:48: FutureWarning: The `north`, `south`, `east`, and `west` parameters are deprecated and will be removed in the v2.0.0 release. Use the `bbox` parameter instead. See the OSMnx v2 migration guide: https://github.com/gboeing/osmnx/issues/1123\n",
            "  return features.features_from_bbox(north, south, east, west, tags=tags)\n",
            "/Library/Frameworks/Python.framework/Versions/3.10/lib/python3.10/site-packages/osmnx/geometries.py:48: FutureWarning: The expected order of coordinates in `bbox` will change in the v2.0.0 release to `(left, bottom, right, top)`.\n",
            "  return features.features_from_bbox(north, south, east, west, tags=tags)\n"
          ]
        },
        {
          "name": "stdout",
          "output_type": "stream",
          "text": [
            "osm_uk_gl_0_6.csv has been formed successfully\n",
            "Getting dataframe to form osm_uk_gl_0_7.csv\n"
          ]
        },
        {
          "name": "stderr",
          "output_type": "stream",
          "text": [
            "/var/folders/tq/f7lcjhp564g26624rbp38l240000gn/T/ipykernel_19312/1508289565.py:212: FutureWarning: The `geometries` module and `geometries_from_X` functions have been renamed the `features` module and `features_from_X` functions. Use these instead. The `geometries` module and function names are deprecated and will be removed in the v2.0.0 release. See the OSMnx v2 migration guide: https://github.com/gboeing/osmnx/issues/1123\n",
            "  all_buildings_from_osm = ox.geometries_from_bbox(north, south, east, west, tags)\n",
            "/Library/Frameworks/Python.framework/Versions/3.10/lib/python3.10/site-packages/osmnx/geometries.py:48: FutureWarning: The `north`, `south`, `east`, and `west` parameters are deprecated and will be removed in the v2.0.0 release. Use the `bbox` parameter instead. See the OSMnx v2 migration guide: https://github.com/gboeing/osmnx/issues/1123\n",
            "  return features.features_from_bbox(north, south, east, west, tags=tags)\n",
            "/Library/Frameworks/Python.framework/Versions/3.10/lib/python3.10/site-packages/osmnx/geometries.py:48: FutureWarning: The expected order of coordinates in `bbox` will change in the v2.0.0 release to `(left, bottom, right, top)`.\n",
            "  return features.features_from_bbox(north, south, east, west, tags=tags)\n"
          ]
        },
        {
          "name": "stdout",
          "output_type": "stream",
          "text": [
            "osm_uk_gl_0_7.csv has been formed successfully\n",
            "Getting dataframe to form osm_uk_gl_1_0.csv\n"
          ]
        },
        {
          "name": "stderr",
          "output_type": "stream",
          "text": [
            "/var/folders/tq/f7lcjhp564g26624rbp38l240000gn/T/ipykernel_19312/1508289565.py:212: FutureWarning: The `geometries` module and `geometries_from_X` functions have been renamed the `features` module and `features_from_X` functions. Use these instead. The `geometries` module and function names are deprecated and will be removed in the v2.0.0 release. See the OSMnx v2 migration guide: https://github.com/gboeing/osmnx/issues/1123\n",
            "  all_buildings_from_osm = ox.geometries_from_bbox(north, south, east, west, tags)\n",
            "/Library/Frameworks/Python.framework/Versions/3.10/lib/python3.10/site-packages/osmnx/geometries.py:48: FutureWarning: The `north`, `south`, `east`, and `west` parameters are deprecated and will be removed in the v2.0.0 release. Use the `bbox` parameter instead. See the OSMnx v2 migration guide: https://github.com/gboeing/osmnx/issues/1123\n",
            "  return features.features_from_bbox(north, south, east, west, tags=tags)\n",
            "/Library/Frameworks/Python.framework/Versions/3.10/lib/python3.10/site-packages/osmnx/geometries.py:48: FutureWarning: The expected order of coordinates in `bbox` will change in the v2.0.0 release to `(left, bottom, right, top)`.\n",
            "  return features.features_from_bbox(north, south, east, west, tags=tags)\n"
          ]
        },
        {
          "name": "stdout",
          "output_type": "stream",
          "text": [
            "osm_uk_gl_1_0.csv has been formed successfully\n",
            "Getting dataframe to form osm_uk_gl_1_1.csv\n"
          ]
        },
        {
          "name": "stderr",
          "output_type": "stream",
          "text": [
            "/var/folders/tq/f7lcjhp564g26624rbp38l240000gn/T/ipykernel_19312/1508289565.py:212: FutureWarning: The `geometries` module and `geometries_from_X` functions have been renamed the `features` module and `features_from_X` functions. Use these instead. The `geometries` module and function names are deprecated and will be removed in the v2.0.0 release. See the OSMnx v2 migration guide: https://github.com/gboeing/osmnx/issues/1123\n",
            "  all_buildings_from_osm = ox.geometries_from_bbox(north, south, east, west, tags)\n",
            "/Library/Frameworks/Python.framework/Versions/3.10/lib/python3.10/site-packages/osmnx/geometries.py:48: FutureWarning: The `north`, `south`, `east`, and `west` parameters are deprecated and will be removed in the v2.0.0 release. Use the `bbox` parameter instead. See the OSMnx v2 migration guide: https://github.com/gboeing/osmnx/issues/1123\n",
            "  return features.features_from_bbox(north, south, east, west, tags=tags)\n",
            "/Library/Frameworks/Python.framework/Versions/3.10/lib/python3.10/site-packages/osmnx/geometries.py:48: FutureWarning: The expected order of coordinates in `bbox` will change in the v2.0.0 release to `(left, bottom, right, top)`.\n",
            "  return features.features_from_bbox(north, south, east, west, tags=tags)\n"
          ]
        },
        {
          "name": "stdout",
          "output_type": "stream",
          "text": [
            "osm_uk_gl_1_1.csv has been formed successfully\n",
            "Getting dataframe to form osm_uk_gl_1_2.csv\n"
          ]
        },
        {
          "name": "stderr",
          "output_type": "stream",
          "text": [
            "/var/folders/tq/f7lcjhp564g26624rbp38l240000gn/T/ipykernel_19312/1508289565.py:212: FutureWarning: The `geometries` module and `geometries_from_X` functions have been renamed the `features` module and `features_from_X` functions. Use these instead. The `geometries` module and function names are deprecated and will be removed in the v2.0.0 release. See the OSMnx v2 migration guide: https://github.com/gboeing/osmnx/issues/1123\n",
            "  all_buildings_from_osm = ox.geometries_from_bbox(north, south, east, west, tags)\n",
            "/Library/Frameworks/Python.framework/Versions/3.10/lib/python3.10/site-packages/osmnx/geometries.py:48: FutureWarning: The `north`, `south`, `east`, and `west` parameters are deprecated and will be removed in the v2.0.0 release. Use the `bbox` parameter instead. See the OSMnx v2 migration guide: https://github.com/gboeing/osmnx/issues/1123\n",
            "  return features.features_from_bbox(north, south, east, west, tags=tags)\n",
            "/Library/Frameworks/Python.framework/Versions/3.10/lib/python3.10/site-packages/osmnx/geometries.py:48: FutureWarning: The expected order of coordinates in `bbox` will change in the v2.0.0 release to `(left, bottom, right, top)`.\n",
            "  return features.features_from_bbox(north, south, east, west, tags=tags)\n"
          ]
        },
        {
          "name": "stdout",
          "output_type": "stream",
          "text": [
            "osm_uk_gl_1_2.csv has been formed successfully\n",
            "Getting dataframe to form osm_uk_gl_1_3.csv\n"
          ]
        },
        {
          "name": "stderr",
          "output_type": "stream",
          "text": [
            "/var/folders/tq/f7lcjhp564g26624rbp38l240000gn/T/ipykernel_19312/1508289565.py:212: FutureWarning: The `geometries` module and `geometries_from_X` functions have been renamed the `features` module and `features_from_X` functions. Use these instead. The `geometries` module and function names are deprecated and will be removed in the v2.0.0 release. See the OSMnx v2 migration guide: https://github.com/gboeing/osmnx/issues/1123\n",
            "  all_buildings_from_osm = ox.geometries_from_bbox(north, south, east, west, tags)\n",
            "/Library/Frameworks/Python.framework/Versions/3.10/lib/python3.10/site-packages/osmnx/geometries.py:48: FutureWarning: The `north`, `south`, `east`, and `west` parameters are deprecated and will be removed in the v2.0.0 release. Use the `bbox` parameter instead. See the OSMnx v2 migration guide: https://github.com/gboeing/osmnx/issues/1123\n",
            "  return features.features_from_bbox(north, south, east, west, tags=tags)\n",
            "/Library/Frameworks/Python.framework/Versions/3.10/lib/python3.10/site-packages/osmnx/geometries.py:48: FutureWarning: The expected order of coordinates in `bbox` will change in the v2.0.0 release to `(left, bottom, right, top)`.\n",
            "  return features.features_from_bbox(north, south, east, west, tags=tags)\n"
          ]
        },
        {
          "name": "stdout",
          "output_type": "stream",
          "text": [
            "osm_uk_gl_1_3.csv has been formed successfully\n",
            "Getting dataframe to form osm_uk_gl_1_4.csv\n"
          ]
        },
        {
          "name": "stderr",
          "output_type": "stream",
          "text": [
            "/var/folders/tq/f7lcjhp564g26624rbp38l240000gn/T/ipykernel_19312/1508289565.py:212: FutureWarning: The `geometries` module and `geometries_from_X` functions have been renamed the `features` module and `features_from_X` functions. Use these instead. The `geometries` module and function names are deprecated and will be removed in the v2.0.0 release. See the OSMnx v2 migration guide: https://github.com/gboeing/osmnx/issues/1123\n",
            "  all_buildings_from_osm = ox.geometries_from_bbox(north, south, east, west, tags)\n",
            "/Library/Frameworks/Python.framework/Versions/3.10/lib/python3.10/site-packages/osmnx/geometries.py:48: FutureWarning: The `north`, `south`, `east`, and `west` parameters are deprecated and will be removed in the v2.0.0 release. Use the `bbox` parameter instead. See the OSMnx v2 migration guide: https://github.com/gboeing/osmnx/issues/1123\n",
            "  return features.features_from_bbox(north, south, east, west, tags=tags)\n",
            "/Library/Frameworks/Python.framework/Versions/3.10/lib/python3.10/site-packages/osmnx/geometries.py:48: FutureWarning: The expected order of coordinates in `bbox` will change in the v2.0.0 release to `(left, bottom, right, top)`.\n",
            "  return features.features_from_bbox(north, south, east, west, tags=tags)\n"
          ]
        },
        {
          "name": "stdout",
          "output_type": "stream",
          "text": [
            "osm_uk_gl_1_4.csv has been formed successfully\n",
            "Getting dataframe to form osm_uk_gl_1_5.csv\n"
          ]
        },
        {
          "name": "stderr",
          "output_type": "stream",
          "text": [
            "/var/folders/tq/f7lcjhp564g26624rbp38l240000gn/T/ipykernel_19312/1508289565.py:212: FutureWarning: The `geometries` module and `geometries_from_X` functions have been renamed the `features` module and `features_from_X` functions. Use these instead. The `geometries` module and function names are deprecated and will be removed in the v2.0.0 release. See the OSMnx v2 migration guide: https://github.com/gboeing/osmnx/issues/1123\n",
            "  all_buildings_from_osm = ox.geometries_from_bbox(north, south, east, west, tags)\n",
            "/Library/Frameworks/Python.framework/Versions/3.10/lib/python3.10/site-packages/osmnx/geometries.py:48: FutureWarning: The `north`, `south`, `east`, and `west` parameters are deprecated and will be removed in the v2.0.0 release. Use the `bbox` parameter instead. See the OSMnx v2 migration guide: https://github.com/gboeing/osmnx/issues/1123\n",
            "  return features.features_from_bbox(north, south, east, west, tags=tags)\n",
            "/Library/Frameworks/Python.framework/Versions/3.10/lib/python3.10/site-packages/osmnx/geometries.py:48: FutureWarning: The expected order of coordinates in `bbox` will change in the v2.0.0 release to `(left, bottom, right, top)`.\n",
            "  return features.features_from_bbox(north, south, east, west, tags=tags)\n"
          ]
        },
        {
          "name": "stdout",
          "output_type": "stream",
          "text": [
            "osm_uk_gl_1_5.csv has been formed successfully\n",
            "Getting dataframe to form osm_uk_gl_1_6.csv\n"
          ]
        },
        {
          "name": "stderr",
          "output_type": "stream",
          "text": [
            "/var/folders/tq/f7lcjhp564g26624rbp38l240000gn/T/ipykernel_19312/1508289565.py:212: FutureWarning: The `geometries` module and `geometries_from_X` functions have been renamed the `features` module and `features_from_X` functions. Use these instead. The `geometries` module and function names are deprecated and will be removed in the v2.0.0 release. See the OSMnx v2 migration guide: https://github.com/gboeing/osmnx/issues/1123\n",
            "  all_buildings_from_osm = ox.geometries_from_bbox(north, south, east, west, tags)\n",
            "/Library/Frameworks/Python.framework/Versions/3.10/lib/python3.10/site-packages/osmnx/geometries.py:48: FutureWarning: The `north`, `south`, `east`, and `west` parameters are deprecated and will be removed in the v2.0.0 release. Use the `bbox` parameter instead. See the OSMnx v2 migration guide: https://github.com/gboeing/osmnx/issues/1123\n",
            "  return features.features_from_bbox(north, south, east, west, tags=tags)\n",
            "/Library/Frameworks/Python.framework/Versions/3.10/lib/python3.10/site-packages/osmnx/geometries.py:48: FutureWarning: The expected order of coordinates in `bbox` will change in the v2.0.0 release to `(left, bottom, right, top)`.\n",
            "  return features.features_from_bbox(north, south, east, west, tags=tags)\n"
          ]
        },
        {
          "name": "stdout",
          "output_type": "stream",
          "text": [
            "osm_uk_gl_1_6.csv has been formed successfully\n",
            "Getting dataframe to form osm_uk_gl_1_7.csv\n"
          ]
        },
        {
          "name": "stderr",
          "output_type": "stream",
          "text": [
            "/var/folders/tq/f7lcjhp564g26624rbp38l240000gn/T/ipykernel_19312/1508289565.py:212: FutureWarning: The `geometries` module and `geometries_from_X` functions have been renamed the `features` module and `features_from_X` functions. Use these instead. The `geometries` module and function names are deprecated and will be removed in the v2.0.0 release. See the OSMnx v2 migration guide: https://github.com/gboeing/osmnx/issues/1123\n",
            "  all_buildings_from_osm = ox.geometries_from_bbox(north, south, east, west, tags)\n",
            "/Library/Frameworks/Python.framework/Versions/3.10/lib/python3.10/site-packages/osmnx/geometries.py:48: FutureWarning: The `north`, `south`, `east`, and `west` parameters are deprecated and will be removed in the v2.0.0 release. Use the `bbox` parameter instead. See the OSMnx v2 migration guide: https://github.com/gboeing/osmnx/issues/1123\n",
            "  return features.features_from_bbox(north, south, east, west, tags=tags)\n",
            "/Library/Frameworks/Python.framework/Versions/3.10/lib/python3.10/site-packages/osmnx/geometries.py:48: FutureWarning: The expected order of coordinates in `bbox` will change in the v2.0.0 release to `(left, bottom, right, top)`.\n",
            "  return features.features_from_bbox(north, south, east, west, tags=tags)\n"
          ]
        },
        {
          "name": "stdout",
          "output_type": "stream",
          "text": [
            "osm_uk_gl_1_7.csv has not been created due to error \"No data elements in server response. Check log and query location/tags.\"\n",
            "Getting dataframe to form osm_uk_gl_2_0.csv\n"
          ]
        },
        {
          "name": "stderr",
          "output_type": "stream",
          "text": [
            "/var/folders/tq/f7lcjhp564g26624rbp38l240000gn/T/ipykernel_19312/1508289565.py:212: FutureWarning: The `geometries` module and `geometries_from_X` functions have been renamed the `features` module and `features_from_X` functions. Use these instead. The `geometries` module and function names are deprecated and will be removed in the v2.0.0 release. See the OSMnx v2 migration guide: https://github.com/gboeing/osmnx/issues/1123\n",
            "  all_buildings_from_osm = ox.geometries_from_bbox(north, south, east, west, tags)\n",
            "/Library/Frameworks/Python.framework/Versions/3.10/lib/python3.10/site-packages/osmnx/geometries.py:48: FutureWarning: The `north`, `south`, `east`, and `west` parameters are deprecated and will be removed in the v2.0.0 release. Use the `bbox` parameter instead. See the OSMnx v2 migration guide: https://github.com/gboeing/osmnx/issues/1123\n",
            "  return features.features_from_bbox(north, south, east, west, tags=tags)\n",
            "/Library/Frameworks/Python.framework/Versions/3.10/lib/python3.10/site-packages/osmnx/geometries.py:48: FutureWarning: The expected order of coordinates in `bbox` will change in the v2.0.0 release to `(left, bottom, right, top)`.\n",
            "  return features.features_from_bbox(north, south, east, west, tags=tags)\n"
          ]
        },
        {
          "name": "stdout",
          "output_type": "stream",
          "text": [
            "osm_uk_gl_2_0.csv has been formed successfully\n",
            "Getting dataframe to form osm_uk_gl_2_1.csv\n"
          ]
        },
        {
          "name": "stderr",
          "output_type": "stream",
          "text": [
            "/var/folders/tq/f7lcjhp564g26624rbp38l240000gn/T/ipykernel_19312/1508289565.py:212: FutureWarning: The `geometries` module and `geometries_from_X` functions have been renamed the `features` module and `features_from_X` functions. Use these instead. The `geometries` module and function names are deprecated and will be removed in the v2.0.0 release. See the OSMnx v2 migration guide: https://github.com/gboeing/osmnx/issues/1123\n",
            "  all_buildings_from_osm = ox.geometries_from_bbox(north, south, east, west, tags)\n",
            "/Library/Frameworks/Python.framework/Versions/3.10/lib/python3.10/site-packages/osmnx/geometries.py:48: FutureWarning: The `north`, `south`, `east`, and `west` parameters are deprecated and will be removed in the v2.0.0 release. Use the `bbox` parameter instead. See the OSMnx v2 migration guide: https://github.com/gboeing/osmnx/issues/1123\n",
            "  return features.features_from_bbox(north, south, east, west, tags=tags)\n",
            "/Library/Frameworks/Python.framework/Versions/3.10/lib/python3.10/site-packages/osmnx/geometries.py:48: FutureWarning: The expected order of coordinates in `bbox` will change in the v2.0.0 release to `(left, bottom, right, top)`.\n",
            "  return features.features_from_bbox(north, south, east, west, tags=tags)\n"
          ]
        },
        {
          "name": "stdout",
          "output_type": "stream",
          "text": [
            "osm_uk_gl_2_1.csv has been formed successfully\n",
            "Getting dataframe to form osm_uk_gl_2_2.csv\n"
          ]
        },
        {
          "name": "stderr",
          "output_type": "stream",
          "text": [
            "/var/folders/tq/f7lcjhp564g26624rbp38l240000gn/T/ipykernel_19312/1508289565.py:212: FutureWarning: The `geometries` module and `geometries_from_X` functions have been renamed the `features` module and `features_from_X` functions. Use these instead. The `geometries` module and function names are deprecated and will be removed in the v2.0.0 release. See the OSMnx v2 migration guide: https://github.com/gboeing/osmnx/issues/1123\n",
            "  all_buildings_from_osm = ox.geometries_from_bbox(north, south, east, west, tags)\n",
            "/Library/Frameworks/Python.framework/Versions/3.10/lib/python3.10/site-packages/osmnx/geometries.py:48: FutureWarning: The `north`, `south`, `east`, and `west` parameters are deprecated and will be removed in the v2.0.0 release. Use the `bbox` parameter instead. See the OSMnx v2 migration guide: https://github.com/gboeing/osmnx/issues/1123\n",
            "  return features.features_from_bbox(north, south, east, west, tags=tags)\n",
            "/Library/Frameworks/Python.framework/Versions/3.10/lib/python3.10/site-packages/osmnx/geometries.py:48: FutureWarning: The expected order of coordinates in `bbox` will change in the v2.0.0 release to `(left, bottom, right, top)`.\n",
            "  return features.features_from_bbox(north, south, east, west, tags=tags)\n"
          ]
        },
        {
          "name": "stdout",
          "output_type": "stream",
          "text": [
            "osm_uk_gl_2_2.csv has been formed successfully\n",
            "Getting dataframe to form osm_uk_gl_2_3.csv\n"
          ]
        },
        {
          "name": "stderr",
          "output_type": "stream",
          "text": [
            "/var/folders/tq/f7lcjhp564g26624rbp38l240000gn/T/ipykernel_19312/1508289565.py:212: FutureWarning: The `geometries` module and `geometries_from_X` functions have been renamed the `features` module and `features_from_X` functions. Use these instead. The `geometries` module and function names are deprecated and will be removed in the v2.0.0 release. See the OSMnx v2 migration guide: https://github.com/gboeing/osmnx/issues/1123\n",
            "  all_buildings_from_osm = ox.geometries_from_bbox(north, south, east, west, tags)\n",
            "/Library/Frameworks/Python.framework/Versions/3.10/lib/python3.10/site-packages/osmnx/geometries.py:48: FutureWarning: The `north`, `south`, `east`, and `west` parameters are deprecated and will be removed in the v2.0.0 release. Use the `bbox` parameter instead. See the OSMnx v2 migration guide: https://github.com/gboeing/osmnx/issues/1123\n",
            "  return features.features_from_bbox(north, south, east, west, tags=tags)\n",
            "/Library/Frameworks/Python.framework/Versions/3.10/lib/python3.10/site-packages/osmnx/geometries.py:48: FutureWarning: The expected order of coordinates in `bbox` will change in the v2.0.0 release to `(left, bottom, right, top)`.\n",
            "  return features.features_from_bbox(north, south, east, west, tags=tags)\n"
          ]
        },
        {
          "name": "stdout",
          "output_type": "stream",
          "text": [
            "osm_uk_gl_2_3.csv has been formed successfully\n",
            "Getting dataframe to form osm_uk_gl_2_4.csv\n"
          ]
        },
        {
          "name": "stderr",
          "output_type": "stream",
          "text": [
            "/var/folders/tq/f7lcjhp564g26624rbp38l240000gn/T/ipykernel_19312/1508289565.py:212: FutureWarning: The `geometries` module and `geometries_from_X` functions have been renamed the `features` module and `features_from_X` functions. Use these instead. The `geometries` module and function names are deprecated and will be removed in the v2.0.0 release. See the OSMnx v2 migration guide: https://github.com/gboeing/osmnx/issues/1123\n",
            "  all_buildings_from_osm = ox.geometries_from_bbox(north, south, east, west, tags)\n",
            "/Library/Frameworks/Python.framework/Versions/3.10/lib/python3.10/site-packages/osmnx/geometries.py:48: FutureWarning: The `north`, `south`, `east`, and `west` parameters are deprecated and will be removed in the v2.0.0 release. Use the `bbox` parameter instead. See the OSMnx v2 migration guide: https://github.com/gboeing/osmnx/issues/1123\n",
            "  return features.features_from_bbox(north, south, east, west, tags=tags)\n",
            "/Library/Frameworks/Python.framework/Versions/3.10/lib/python3.10/site-packages/osmnx/geometries.py:48: FutureWarning: The expected order of coordinates in `bbox` will change in the v2.0.0 release to `(left, bottom, right, top)`.\n",
            "  return features.features_from_bbox(north, south, east, west, tags=tags)\n"
          ]
        },
        {
          "name": "stdout",
          "output_type": "stream",
          "text": [
            "osm_uk_gl_2_4.csv has been formed successfully\n",
            "Getting dataframe to form osm_uk_gl_2_5.csv\n"
          ]
        },
        {
          "name": "stderr",
          "output_type": "stream",
          "text": [
            "/var/folders/tq/f7lcjhp564g26624rbp38l240000gn/T/ipykernel_19312/1508289565.py:212: FutureWarning: The `geometries` module and `geometries_from_X` functions have been renamed the `features` module and `features_from_X` functions. Use these instead. The `geometries` module and function names are deprecated and will be removed in the v2.0.0 release. See the OSMnx v2 migration guide: https://github.com/gboeing/osmnx/issues/1123\n",
            "  all_buildings_from_osm = ox.geometries_from_bbox(north, south, east, west, tags)\n",
            "/Library/Frameworks/Python.framework/Versions/3.10/lib/python3.10/site-packages/osmnx/geometries.py:48: FutureWarning: The `north`, `south`, `east`, and `west` parameters are deprecated and will be removed in the v2.0.0 release. Use the `bbox` parameter instead. See the OSMnx v2 migration guide: https://github.com/gboeing/osmnx/issues/1123\n",
            "  return features.features_from_bbox(north, south, east, west, tags=tags)\n",
            "/Library/Frameworks/Python.framework/Versions/3.10/lib/python3.10/site-packages/osmnx/geometries.py:48: FutureWarning: The expected order of coordinates in `bbox` will change in the v2.0.0 release to `(left, bottom, right, top)`.\n",
            "  return features.features_from_bbox(north, south, east, west, tags=tags)\n"
          ]
        },
        {
          "name": "stdout",
          "output_type": "stream",
          "text": [
            "osm_uk_gl_2_5.csv has been formed successfully\n",
            "Getting dataframe to form osm_uk_gl_2_6.csv\n"
          ]
        },
        {
          "name": "stderr",
          "output_type": "stream",
          "text": [
            "/var/folders/tq/f7lcjhp564g26624rbp38l240000gn/T/ipykernel_19312/1508289565.py:212: FutureWarning: The `geometries` module and `geometries_from_X` functions have been renamed the `features` module and `features_from_X` functions. Use these instead. The `geometries` module and function names are deprecated and will be removed in the v2.0.0 release. See the OSMnx v2 migration guide: https://github.com/gboeing/osmnx/issues/1123\n",
            "  all_buildings_from_osm = ox.geometries_from_bbox(north, south, east, west, tags)\n",
            "/Library/Frameworks/Python.framework/Versions/3.10/lib/python3.10/site-packages/osmnx/geometries.py:48: FutureWarning: The `north`, `south`, `east`, and `west` parameters are deprecated and will be removed in the v2.0.0 release. Use the `bbox` parameter instead. See the OSMnx v2 migration guide: https://github.com/gboeing/osmnx/issues/1123\n",
            "  return features.features_from_bbox(north, south, east, west, tags=tags)\n",
            "/Library/Frameworks/Python.framework/Versions/3.10/lib/python3.10/site-packages/osmnx/geometries.py:48: FutureWarning: The expected order of coordinates in `bbox` will change in the v2.0.0 release to `(left, bottom, right, top)`.\n",
            "  return features.features_from_bbox(north, south, east, west, tags=tags)\n"
          ]
        },
        {
          "name": "stdout",
          "output_type": "stream",
          "text": [
            "osm_uk_gl_2_6.csv has been formed successfully\n",
            "Getting dataframe to form osm_uk_gl_2_7.csv\n"
          ]
        },
        {
          "name": "stderr",
          "output_type": "stream",
          "text": [
            "/var/folders/tq/f7lcjhp564g26624rbp38l240000gn/T/ipykernel_19312/1508289565.py:212: FutureWarning: The `geometries` module and `geometries_from_X` functions have been renamed the `features` module and `features_from_X` functions. Use these instead. The `geometries` module and function names are deprecated and will be removed in the v2.0.0 release. See the OSMnx v2 migration guide: https://github.com/gboeing/osmnx/issues/1123\n",
            "  all_buildings_from_osm = ox.geometries_from_bbox(north, south, east, west, tags)\n",
            "/Library/Frameworks/Python.framework/Versions/3.10/lib/python3.10/site-packages/osmnx/geometries.py:48: FutureWarning: The `north`, `south`, `east`, and `west` parameters are deprecated and will be removed in the v2.0.0 release. Use the `bbox` parameter instead. See the OSMnx v2 migration guide: https://github.com/gboeing/osmnx/issues/1123\n",
            "  return features.features_from_bbox(north, south, east, west, tags=tags)\n",
            "/Library/Frameworks/Python.framework/Versions/3.10/lib/python3.10/site-packages/osmnx/geometries.py:48: FutureWarning: The expected order of coordinates in `bbox` will change in the v2.0.0 release to `(left, bottom, right, top)`.\n",
            "  return features.features_from_bbox(north, south, east, west, tags=tags)\n"
          ]
        },
        {
          "name": "stdout",
          "output_type": "stream",
          "text": [
            "osm_uk_gl_2_7.csv has been formed successfully\n",
            "Getting dataframe to form osm_uk_gl_3_0.csv\n"
          ]
        },
        {
          "name": "stderr",
          "output_type": "stream",
          "text": [
            "/var/folders/tq/f7lcjhp564g26624rbp38l240000gn/T/ipykernel_19312/1508289565.py:212: FutureWarning: The `geometries` module and `geometries_from_X` functions have been renamed the `features` module and `features_from_X` functions. Use these instead. The `geometries` module and function names are deprecated and will be removed in the v2.0.0 release. See the OSMnx v2 migration guide: https://github.com/gboeing/osmnx/issues/1123\n",
            "  all_buildings_from_osm = ox.geometries_from_bbox(north, south, east, west, tags)\n",
            "/Library/Frameworks/Python.framework/Versions/3.10/lib/python3.10/site-packages/osmnx/geometries.py:48: FutureWarning: The `north`, `south`, `east`, and `west` parameters are deprecated and will be removed in the v2.0.0 release. Use the `bbox` parameter instead. See the OSMnx v2 migration guide: https://github.com/gboeing/osmnx/issues/1123\n",
            "  return features.features_from_bbox(north, south, east, west, tags=tags)\n",
            "/Library/Frameworks/Python.framework/Versions/3.10/lib/python3.10/site-packages/osmnx/geometries.py:48: FutureWarning: The expected order of coordinates in `bbox` will change in the v2.0.0 release to `(left, bottom, right, top)`.\n",
            "  return features.features_from_bbox(north, south, east, west, tags=tags)\n"
          ]
        },
        {
          "name": "stdout",
          "output_type": "stream",
          "text": [
            "osm_uk_gl_3_0.csv has been formed successfully\n",
            "Getting dataframe to form osm_uk_gl_3_1.csv\n"
          ]
        },
        {
          "name": "stderr",
          "output_type": "stream",
          "text": [
            "/var/folders/tq/f7lcjhp564g26624rbp38l240000gn/T/ipykernel_19312/1508289565.py:212: FutureWarning: The `geometries` module and `geometries_from_X` functions have been renamed the `features` module and `features_from_X` functions. Use these instead. The `geometries` module and function names are deprecated and will be removed in the v2.0.0 release. See the OSMnx v2 migration guide: https://github.com/gboeing/osmnx/issues/1123\n",
            "  all_buildings_from_osm = ox.geometries_from_bbox(north, south, east, west, tags)\n",
            "/Library/Frameworks/Python.framework/Versions/3.10/lib/python3.10/site-packages/osmnx/geometries.py:48: FutureWarning: The `north`, `south`, `east`, and `west` parameters are deprecated and will be removed in the v2.0.0 release. Use the `bbox` parameter instead. See the OSMnx v2 migration guide: https://github.com/gboeing/osmnx/issues/1123\n",
            "  return features.features_from_bbox(north, south, east, west, tags=tags)\n",
            "/Library/Frameworks/Python.framework/Versions/3.10/lib/python3.10/site-packages/osmnx/geometries.py:48: FutureWarning: The expected order of coordinates in `bbox` will change in the v2.0.0 release to `(left, bottom, right, top)`.\n",
            "  return features.features_from_bbox(north, south, east, west, tags=tags)\n"
          ]
        },
        {
          "name": "stdout",
          "output_type": "stream",
          "text": [
            "osm_uk_gl_3_1.csv has been formed successfully\n",
            "Getting dataframe to form osm_uk_gl_3_2.csv\n"
          ]
        },
        {
          "name": "stderr",
          "output_type": "stream",
          "text": [
            "/var/folders/tq/f7lcjhp564g26624rbp38l240000gn/T/ipykernel_19312/1508289565.py:212: FutureWarning: The `geometries` module and `geometries_from_X` functions have been renamed the `features` module and `features_from_X` functions. Use these instead. The `geometries` module and function names are deprecated and will be removed in the v2.0.0 release. See the OSMnx v2 migration guide: https://github.com/gboeing/osmnx/issues/1123\n",
            "  all_buildings_from_osm = ox.geometries_from_bbox(north, south, east, west, tags)\n",
            "/Library/Frameworks/Python.framework/Versions/3.10/lib/python3.10/site-packages/osmnx/geometries.py:48: FutureWarning: The `north`, `south`, `east`, and `west` parameters are deprecated and will be removed in the v2.0.0 release. Use the `bbox` parameter instead. See the OSMnx v2 migration guide: https://github.com/gboeing/osmnx/issues/1123\n",
            "  return features.features_from_bbox(north, south, east, west, tags=tags)\n",
            "/Library/Frameworks/Python.framework/Versions/3.10/lib/python3.10/site-packages/osmnx/geometries.py:48: FutureWarning: The expected order of coordinates in `bbox` will change in the v2.0.0 release to `(left, bottom, right, top)`.\n",
            "  return features.features_from_bbox(north, south, east, west, tags=tags)\n"
          ]
        },
        {
          "name": "stdout",
          "output_type": "stream",
          "text": [
            "osm_uk_gl_3_2.csv has been formed successfully\n",
            "Getting dataframe to form osm_uk_gl_3_3.csv\n"
          ]
        },
        {
          "name": "stderr",
          "output_type": "stream",
          "text": [
            "/var/folders/tq/f7lcjhp564g26624rbp38l240000gn/T/ipykernel_19312/1508289565.py:212: FutureWarning: The `geometries` module and `geometries_from_X` functions have been renamed the `features` module and `features_from_X` functions. Use these instead. The `geometries` module and function names are deprecated and will be removed in the v2.0.0 release. See the OSMnx v2 migration guide: https://github.com/gboeing/osmnx/issues/1123\n",
            "  all_buildings_from_osm = ox.geometries_from_bbox(north, south, east, west, tags)\n",
            "/Library/Frameworks/Python.framework/Versions/3.10/lib/python3.10/site-packages/osmnx/geometries.py:48: FutureWarning: The `north`, `south`, `east`, and `west` parameters are deprecated and will be removed in the v2.0.0 release. Use the `bbox` parameter instead. See the OSMnx v2 migration guide: https://github.com/gboeing/osmnx/issues/1123\n",
            "  return features.features_from_bbox(north, south, east, west, tags=tags)\n",
            "/Library/Frameworks/Python.framework/Versions/3.10/lib/python3.10/site-packages/osmnx/geometries.py:48: FutureWarning: The expected order of coordinates in `bbox` will change in the v2.0.0 release to `(left, bottom, right, top)`.\n",
            "  return features.features_from_bbox(north, south, east, west, tags=tags)\n"
          ]
        },
        {
          "name": "stdout",
          "output_type": "stream",
          "text": [
            "osm_uk_gl_3_3.csv has been formed successfully\n",
            "Getting dataframe to form osm_uk_gl_3_4.csv\n"
          ]
        },
        {
          "name": "stderr",
          "output_type": "stream",
          "text": [
            "/var/folders/tq/f7lcjhp564g26624rbp38l240000gn/T/ipykernel_19312/1508289565.py:212: FutureWarning: The `geometries` module and `geometries_from_X` functions have been renamed the `features` module and `features_from_X` functions. Use these instead. The `geometries` module and function names are deprecated and will be removed in the v2.0.0 release. See the OSMnx v2 migration guide: https://github.com/gboeing/osmnx/issues/1123\n",
            "  all_buildings_from_osm = ox.geometries_from_bbox(north, south, east, west, tags)\n",
            "/Library/Frameworks/Python.framework/Versions/3.10/lib/python3.10/site-packages/osmnx/geometries.py:48: FutureWarning: The `north`, `south`, `east`, and `west` parameters are deprecated and will be removed in the v2.0.0 release. Use the `bbox` parameter instead. See the OSMnx v2 migration guide: https://github.com/gboeing/osmnx/issues/1123\n",
            "  return features.features_from_bbox(north, south, east, west, tags=tags)\n",
            "/Library/Frameworks/Python.framework/Versions/3.10/lib/python3.10/site-packages/osmnx/geometries.py:48: FutureWarning: The expected order of coordinates in `bbox` will change in the v2.0.0 release to `(left, bottom, right, top)`.\n",
            "  return features.features_from_bbox(north, south, east, west, tags=tags)\n"
          ]
        },
        {
          "name": "stdout",
          "output_type": "stream",
          "text": [
            "osm_uk_gl_3_4.csv has been formed successfully\n",
            "Getting dataframe to form osm_uk_gl_3_5.csv\n"
          ]
        },
        {
          "name": "stderr",
          "output_type": "stream",
          "text": [
            "/var/folders/tq/f7lcjhp564g26624rbp38l240000gn/T/ipykernel_19312/1508289565.py:212: FutureWarning: The `geometries` module and `geometries_from_X` functions have been renamed the `features` module and `features_from_X` functions. Use these instead. The `geometries` module and function names are deprecated and will be removed in the v2.0.0 release. See the OSMnx v2 migration guide: https://github.com/gboeing/osmnx/issues/1123\n",
            "  all_buildings_from_osm = ox.geometries_from_bbox(north, south, east, west, tags)\n",
            "/Library/Frameworks/Python.framework/Versions/3.10/lib/python3.10/site-packages/osmnx/geometries.py:48: FutureWarning: The `north`, `south`, `east`, and `west` parameters are deprecated and will be removed in the v2.0.0 release. Use the `bbox` parameter instead. See the OSMnx v2 migration guide: https://github.com/gboeing/osmnx/issues/1123\n",
            "  return features.features_from_bbox(north, south, east, west, tags=tags)\n",
            "/Library/Frameworks/Python.framework/Versions/3.10/lib/python3.10/site-packages/osmnx/geometries.py:48: FutureWarning: The expected order of coordinates in `bbox` will change in the v2.0.0 release to `(left, bottom, right, top)`.\n",
            "  return features.features_from_bbox(north, south, east, west, tags=tags)\n"
          ]
        },
        {
          "name": "stdout",
          "output_type": "stream",
          "text": [
            "osm_uk_gl_3_5.csv has been formed successfully\n",
            "Getting dataframe to form osm_uk_gl_3_6.csv\n"
          ]
        },
        {
          "name": "stderr",
          "output_type": "stream",
          "text": [
            "/var/folders/tq/f7lcjhp564g26624rbp38l240000gn/T/ipykernel_19312/1508289565.py:212: FutureWarning: The `geometries` module and `geometries_from_X` functions have been renamed the `features` module and `features_from_X` functions. Use these instead. The `geometries` module and function names are deprecated and will be removed in the v2.0.0 release. See the OSMnx v2 migration guide: https://github.com/gboeing/osmnx/issues/1123\n",
            "  all_buildings_from_osm = ox.geometries_from_bbox(north, south, east, west, tags)\n",
            "/Library/Frameworks/Python.framework/Versions/3.10/lib/python3.10/site-packages/osmnx/geometries.py:48: FutureWarning: The `north`, `south`, `east`, and `west` parameters are deprecated and will be removed in the v2.0.0 release. Use the `bbox` parameter instead. See the OSMnx v2 migration guide: https://github.com/gboeing/osmnx/issues/1123\n",
            "  return features.features_from_bbox(north, south, east, west, tags=tags)\n",
            "/Library/Frameworks/Python.framework/Versions/3.10/lib/python3.10/site-packages/osmnx/geometries.py:48: FutureWarning: The expected order of coordinates in `bbox` will change in the v2.0.0 release to `(left, bottom, right, top)`.\n",
            "  return features.features_from_bbox(north, south, east, west, tags=tags)\n"
          ]
        },
        {
          "name": "stdout",
          "output_type": "stream",
          "text": [
            "osm_uk_gl_3_6.csv has been formed successfully\n",
            "Getting dataframe to form osm_uk_gl_3_7.csv\n"
          ]
        },
        {
          "name": "stderr",
          "output_type": "stream",
          "text": [
            "/var/folders/tq/f7lcjhp564g26624rbp38l240000gn/T/ipykernel_19312/1508289565.py:212: FutureWarning: The `geometries` module and `geometries_from_X` functions have been renamed the `features` module and `features_from_X` functions. Use these instead. The `geometries` module and function names are deprecated and will be removed in the v2.0.0 release. See the OSMnx v2 migration guide: https://github.com/gboeing/osmnx/issues/1123\n",
            "  all_buildings_from_osm = ox.geometries_from_bbox(north, south, east, west, tags)\n",
            "/Library/Frameworks/Python.framework/Versions/3.10/lib/python3.10/site-packages/osmnx/geometries.py:48: FutureWarning: The `north`, `south`, `east`, and `west` parameters are deprecated and will be removed in the v2.0.0 release. Use the `bbox` parameter instead. See the OSMnx v2 migration guide: https://github.com/gboeing/osmnx/issues/1123\n",
            "  return features.features_from_bbox(north, south, east, west, tags=tags)\n",
            "/Library/Frameworks/Python.framework/Versions/3.10/lib/python3.10/site-packages/osmnx/geometries.py:48: FutureWarning: The expected order of coordinates in `bbox` will change in the v2.0.0 release to `(left, bottom, right, top)`.\n",
            "  return features.features_from_bbox(north, south, east, west, tags=tags)\n"
          ]
        },
        {
          "name": "stdout",
          "output_type": "stream",
          "text": [
            "osm_uk_gl_3_7.csv has been formed successfully\n"
          ]
        }
      ],
      "source": [
        "gl_bounds = {\"north\": 51.8, \"south\": 51.3, \"east\": 0.5, \"west\": -0.5}\n",
        "\n",
        "west = -0.5\n",
        "south = 51.3\n",
        "step = 0.25\n",
        "tags = {\"building\": True}\n",
        "\n",
        "for i in range(0, 2):\n",
        "    for j in range(0, 4):\n",
        "        file_name = f'osm_uk_gl_{i}_{j}.csv'\n",
        "        print(f'Getting dataframe to form {file_name}')\n",
        "        bounds = (south + step * (i + 1), south + step * i, west + step * (j + 1), west + step * j)\n",
        "        try:\n",
        "            df = get_all_buildings_from_osm_by_bounds(bounds, tags)\n",
        "            for feature in features_df:\n",
        "                if feature not in df.columns:\n",
        "                    df[feature] = None\n",
        "            df = df[features_df]\n",
        "            # for column in df.columns:\n",
        "            #     print(f\"Column '{column}' has {df[column].count()} non-empty entries. 5 examples of non-empty entries: {df[column].dropna().head(5).tolist()}\")\n",
        "            df.to_csv(\"./\" + file_name, index=True, header=True)\n",
        "            print(f'{file_name} has been formed successfully')\n",
        "        except Exception as e:\n",
        "            print(f'{file_name} has not been created due to error \"{e}\"')"
      ]
    },
    {
      "cell_type": "code",
      "execution_count": 31,
      "metadata": {},
      "outputs": [],
      "source": [
        "import subprocess\n",
        "import glob"
      ]
    },
    {
      "cell_type": "code",
      "execution_count": 24,
      "metadata": {},
      "outputs": [
        {
          "name": "stdout",
          "output_type": "stream",
          "text": [
            "File osm_uk_0_0.csv has 2528 rows\n",
            "File osm_uk_0_1.csv has 2528 rows\n",
            "File osm_uk_0_2.csv has 5637 rows\n",
            "File osm_uk_0_3.csv has 57392 rows\n",
            "File osm_uk_0_4.csv has 5397 rows\n",
            "File osm_uk_0_5.csv has 205494 rows\n",
            "File osm_uk_0_6.csv has 9018 rows\n",
            "File osm_uk_0_7.csv has 41389 rows\n",
            "File osm_uk_0_8.csv has 511699 rows\n",
            "File osm_uk_10_0.csv has 55442 rows\n",
            "File osm_uk_10_1.csv has 40252 rows\n",
            "File osm_uk_10_10.csv has 277616 rows\n",
            "File osm_uk_10_11.csv has 66901 rows\n",
            "File osm_uk_10_2.csv has 11970 rows\n",
            "File osm_uk_10_3.csv has 6405 rows\n",
            "File osm_uk_10_4.csv has 5655 rows\n",
            "File osm_uk_10_5.csv has 5765 rows\n",
            "File osm_uk_10_6.csv has 16002 rows\n",
            "File osm_uk_10_7.csv has 10396 rows\n",
            "File osm_uk_10_8.csv has 20958 rows\n",
            "File osm_uk_10_9.csv has 17964 rows\n",
            "File osm_uk_11_0.csv has 288 rows\n",
            "File osm_uk_11_1.csv has 1977 rows\n",
            "File osm_uk_11_10.csv has 27813 rows\n",
            "File osm_uk_11_2.csv has 3408 rows\n",
            "File osm_uk_11_3.csv has 6492 rows\n",
            "File osm_uk_11_4.csv has 76857 rows\n",
            "File osm_uk_11_5.csv has 119976 rows\n",
            "File osm_uk_11_6.csv has 57052 rows\n",
            "File osm_uk_11_7.csv has 12182 rows\n",
            "File osm_uk_11_8.csv has 32157 rows\n",
            "File osm_uk_11_9.csv has 29169 rows\n",
            "File osm_uk_1_10.csv has 119951 rows\n",
            "File osm_uk_1_11.csv has 85549 rows\n",
            "File osm_uk_1_12.csv has 39016 rows\n",
            "File osm_uk_1_13.csv has 1424 rows\n",
            "File osm_uk_1_14.csv has 6976 rows\n",
            "File osm_uk_1_3.csv has 7771 rows\n",
            "File osm_uk_1_4.csv has 36445 rows\n",
            "File osm_uk_1_5.csv has 89050 rows\n",
            "File osm_uk_1_6.csv has 135403 rows\n",
            "File osm_uk_1_7.csv has 71195 rows\n",
            "File osm_uk_1_8.csv has 9832 rows\n",
            "File osm_uk_1_9.csv has 70133 rows\n",
            "File osm_uk_2_10.csv has 88536 rows\n",
            "File osm_uk_2_11.csv has 343899 rows\n",
            "File osm_uk_2_12.csv has 214613 rows\n",
            "File osm_uk_2_13.csv has 344315 rows\n",
            "File osm_uk_2_14.csv has 119338 rows\n",
            "File osm_uk_2_15.csv has 102447 rows\n",
            "File osm_uk_2_16.csv has 52208 rows\n",
            "File osm_uk_2_17.csv has 99822 rows\n",
            "File osm_uk_2_4.csv has 1251 rows\n",
            "File osm_uk_2_5.csv has 16147 rows\n",
            "File osm_uk_2_6.csv has 11389 rows\n",
            "File osm_uk_2_7.csv has 113994 rows\n",
            "File osm_uk_2_8.csv has 46205 rows\n",
            "File osm_uk_2_9.csv has 48027 rows\n",
            "File osm_uk_3_10.csv has 129335 rows\n",
            "File osm_uk_3_11.csv has 178944 rows\n",
            "File osm_uk_3_12.csv has 303543 rows\n",
            "File osm_uk_3_15.csv has 118283 rows\n",
            "File osm_uk_3_16.csv has 53182 rows\n",
            "File osm_uk_3_17.csv has 1 rows\n",
            "File osm_uk_3_2.csv has 2 rows\n",
            "File osm_uk_3_3.csv has 3105 rows\n",
            "File osm_uk_3_4.csv has 10915 rows\n",
            "File osm_uk_3_5.csv has 32066 rows\n",
            "File osm_uk_3_6.csv has 53955 rows\n",
            "File osm_uk_3_7.csv has 206273 rows\n",
            "File osm_uk_3_8.csv has 399598 rows\n",
            "File osm_uk_3_9.csv has 188619 rows\n",
            "File osm_uk_4_0.csv has 21077 rows\n",
            "File osm_uk_4_1.csv has 9790 rows\n",
            "File osm_uk_4_10.csv has 113673 rows\n",
            "File osm_uk_4_11.csv has 63115 rows\n",
            "File osm_uk_4_12.csv has 114285 rows\n",
            "File osm_uk_4_13.csv has 138300 rows\n",
            "File osm_uk_4_14.csv has 144428 rows\n",
            "File osm_uk_4_15.csv has 98889 rows\n",
            "File osm_uk_4_16.csv has 166630 rows\n",
            "File osm_uk_4_17.csv has 7421 rows\n",
            "File osm_uk_4_3.csv has 2884 rows\n",
            "File osm_uk_4_4.csv has 15148 rows\n",
            "File osm_uk_4_5.csv has 18458 rows\n",
            "File osm_uk_4_6.csv has 11270 rows\n",
            "File osm_uk_4_7.csv has 25213 rows\n",
            "File osm_uk_4_8.csv has 42403 rows\n",
            "File osm_uk_4_9.csv has 179482 rows\n",
            "File osm_uk_5_0.csv has 74179 rows\n",
            "File osm_uk_5_1.csv has 54722 rows\n",
            "File osm_uk_5_10.csv has 615204 rows\n",
            "File osm_uk_5_11.csv has 206359 rows\n",
            "File osm_uk_5_12.csv has 79114 rows\n",
            "File osm_uk_5_13.csv has 120884 rows\n",
            "File osm_uk_5_14.csv has 82988 rows\n",
            "File osm_uk_5_15.csv has 70322 rows\n",
            "File osm_uk_5_16.csv has 160165 rows\n",
            "File osm_uk_5_17.csv has 43463 rows\n",
            "File osm_uk_5_4.csv has 258 rows\n",
            "File osm_uk_5_5.csv has 14024 rows\n",
            "File osm_uk_5_6.csv has 13647 rows\n",
            "File osm_uk_5_7.csv has 18012 rows\n",
            "File osm_uk_5_8.csv has 45262 rows\n",
            "File osm_uk_5_9.csv has 281387 rows\n",
            "File osm_uk_6_0.csv has 111495 rows\n",
            "File osm_uk_6_1.csv has 171627 rows\n",
            "File osm_uk_6_10.csv has 87517 rows\n",
            "File osm_uk_6_11.csv has 478681 rows\n",
            "File osm_uk_6_12.csv has 48570 rows\n",
            "File osm_uk_6_13.csv has 23979 rows\n",
            "File osm_uk_6_14.csv has 18547 rows\n",
            "File osm_uk_6_15.csv has 19366 rows\n",
            "File osm_uk_6_16.csv has 26717 rows\n",
            "File osm_uk_6_17.csv has 1349 rows\n",
            "File osm_uk_6_2.csv has 3 rows\n",
            "File osm_uk_6_4.csv has 10655 rows\n",
            "File osm_uk_6_5.csv has 41892 rows\n",
            "File osm_uk_6_6.csv has 27065 rows\n",
            "File osm_uk_6_7.csv has 99092 rows\n",
            "File osm_uk_6_8.csv has 175484 rows\n",
            "File osm_uk_6_9.csv has 151344 rows\n",
            "File osm_uk_7_0.csv has 122453 rows\n",
            "File osm_uk_7_1.csv has 452707 rows\n",
            "File osm_uk_7_10.csv has 268124 rows\n",
            "File osm_uk_7_11.csv has 281730 rows\n",
            "File osm_uk_7_12.csv has 54301 rows\n",
            "File osm_uk_7_13.csv has 153167 rows\n",
            "File osm_uk_7_14.csv has 13381 rows\n",
            "File osm_uk_7_4.csv has 7361 rows\n",
            "File osm_uk_7_5.csv has 14264 rows\n",
            "File osm_uk_7_6.csv has 9570 rows\n",
            "File osm_uk_7_7.csv has 146751 rows\n",
            "File osm_uk_7_8.csv has 477798 rows\n",
            "File osm_uk_7_9.csv has 434761 rows\n",
            "File osm_uk_8_0.csv has 82649 rows\n",
            "File osm_uk_8_1.csv has 99252 rows\n",
            "File osm_uk_8_10.csv has 176645 rows\n",
            "File osm_uk_8_11.csv has 150874 rows\n",
            "File osm_uk_8_12.csv has 54110 rows\n",
            "File osm_uk_8_13.csv has 88472 rows\n",
            "File osm_uk_8_2.csv has 20988 rows\n",
            "File osm_uk_8_4.csv has 13852 rows\n",
            "File osm_uk_8_5.csv has 8576 rows\n",
            "File osm_uk_8_6.csv has 2 rows\n",
            "File osm_uk_8_7.csv has 22613 rows\n",
            "File osm_uk_8_8.csv has 58316 rows\n",
            "File osm_uk_8_9.csv has 43125 rows\n",
            "File osm_uk_9_0.csv has 38208 rows\n",
            "File osm_uk_9_1.csv has 89930 rows\n",
            "File osm_uk_9_10.csv has 53268 rows\n",
            "File osm_uk_9_11.csv has 76984 rows\n",
            "File osm_uk_9_12.csv has 22925 rows\n",
            "File osm_uk_9_13.csv has 2219 rows\n",
            "File osm_uk_9_2.csv has 208208 rows\n",
            "File osm_uk_9_3.csv has 7838 rows\n",
            "File osm_uk_9_4.csv has 2002 rows\n",
            "File osm_uk_9_5.csv has 5301 rows\n",
            "File osm_uk_9_6.csv has 9096 rows\n",
            "File osm_uk_9_7.csv has 24547 rows\n",
            "File osm_uk_9_8.csv has 30461 rows\n",
            "File osm_uk_9_9.csv has 11602 rows\n",
            "File osm_uk_gl_0_0.csv has 158329 rows\n",
            "File osm_uk_gl_0_1.csv has 409614 rows\n",
            "File osm_uk_gl_0_2.csv has 218137 rows\n",
            "File osm_uk_gl_0_3.csv has 46921 rows\n",
            "File osm_uk_gl_0_4.csv has 46395 rows\n",
            "File osm_uk_gl_0_5.csv has 27905 rows\n",
            "File osm_uk_gl_0_6.csv has 20587 rows\n",
            "File osm_uk_gl_0_7.csv has 16643 rows\n",
            "File osm_uk_gl_1_0.csv has 135219 rows\n",
            "File osm_uk_gl_1_1.csv has 263172 rows\n",
            "File osm_uk_gl_1_2.csv has 101926 rows\n",
            "File osm_uk_gl_1_3.csv has 39868 rows\n",
            "File osm_uk_gl_1_4.csv has 31714 rows\n",
            "File osm_uk_gl_1_5.csv has 12365 rows\n",
            "File osm_uk_gl_1_6.csv has 15954 rows\n",
            "File osm_uk_gl_2_0.csv has 46059 rows\n",
            "File osm_uk_gl_2_1.csv has 26770 rows\n",
            "File osm_uk_gl_2_2.csv has 29073 rows\n",
            "File osm_uk_gl_2_3.csv has 8814 rows\n",
            "File osm_uk_gl_2_4.csv has 11709 rows\n",
            "File osm_uk_gl_2_5.csv has 44906 rows\n",
            "File osm_uk_gl_2_6.csv has 78522 rows\n",
            "File osm_uk_gl_2_7.csv has 24063 rows\n",
            "File osm_uk_gl_3_0.csv has 31539 rows\n",
            "File osm_uk_gl_3_1.csv has 34120 rows\n",
            "File osm_uk_gl_3_2.csv has 85806 rows\n",
            "File osm_uk_gl_3_3.csv has 20780 rows\n",
            "File osm_uk_gl_3_4.csv has 18584 rows\n",
            "File osm_uk_gl_3_5.csv has 23797 rows\n",
            "File osm_uk_gl_3_6.csv has 49535 rows\n",
            "File osm_uk_gl_3_7.csv has 14766 rows\n",
            "Rows in total: 16174398\n"
          ]
        }
      ],
      "source": [
        "file_pattern = \"osm_uk_*.csv\"\n",
        "file_list = glob.glob(file_pattern)\n",
        "file_list.sort()\n",
        "\n",
        "rows = 0\n",
        "for file_name in file_list:\n",
        "    try:\n",
        "        result = subprocess.run(['wc', '-l', file_name], capture_output=True, text=True)\n",
        "        row_count = int(result.stdout.split()[0]) - 1\n",
        "        rows += row_count\n",
        "        print(f'File {file_name} has {row_count} rows')\n",
        "    except Exception as e:\n",
        "        print(f'Error processing {file_name}: {e}')\n",
        "print(f\"Rows in total: {rows}\")\n"
      ]
    },
    {
      "cell_type": "markdown",
      "metadata": {},
      "source": [
        "Datasets that we are going to use can be huge and unwieldy to manipulate directly in python frameworks such as pandas. Therefore, we will host the data in a cloud hosted relational database (such as MariaDB hosted on the AWS RDS service).\n",
        "\n",
        "Now let's structure the data and upload it to our AWS database.\n",
        "\n",
        "We will construct tables that contain per-output-area data, latitudes and longitudes of the output areas, (and potentially, extracted selected open street maps features from the country-wide data file)."
      ]
    },
    {
      "cell_type": "code",
      "execution_count": 35,
      "metadata": {},
      "outputs": [
        {
          "name": "stdout",
          "output_type": "stream",
          "text": [
            "Connection established!\n"
          ]
        }
      ],
      "source": [
        "conn = create_connection()"
      ]
    },
    {
      "cell_type": "code",
      "execution_count": 27,
      "metadata": {},
      "outputs": [],
      "source": [
        "# execute_query(conn, \"DROP TABLE table_name;\")"
      ]
    },
    {
      "cell_type": "code",
      "execution_count": 29,
      "metadata": {},
      "outputs": [],
      "source": [
        "column_names = features_db\n",
        "columns = len(column_names)\n",
        "data_types = ['TEXT' for _ in range(columns)]\n",
        "constraints = ['' for _ in range(columns)]"
      ]
    },
    {
      "cell_type": "code",
      "execution_count": 30,
      "metadata": {},
      "outputs": [
        {
          "name": "stdout",
          "output_type": "stream",
          "text": [
            "CREATE TABLE osm_data (`element_type` TEXT , `osmid` TEXT , `geometry` TEXT , `ways` TEXT , `nodes` TEXT , `type` TEXT , `addr:country` TEXT , `addr:postcode` TEXT , `addr:street` TEXT , `addr:housenumber` TEXT , `addr:city` TEXT , `addr:housename` TEXT , `addr:place` TEXT , `name` TEXT , `alt_name` TEXT , `old_name` TEXT , `nohousenumber` TEXT , `note` TEXT , `disused` TEXT , `height` TEXT , `amenity` TEXT , `tourism` TEXT , `brand` TEXT , `leisure` TEXT , `cuisine` TEXT , `emergency` TEXT , `historic` TEXT , `sport` TEXT , `shop` TEXT , `religion` TEXT , `power` TEXT , `military` TEXT , `house` TEXT , `building` TEXT , `building:material` TEXT , `building:levels` TEXT , `internet_access` TEXT , `capacity` TEXT , `roof:levels` TEXT , `roof:shapefee` TEXT , `man_made` TEXT , `denomination` TEXT , `layer` TEXT )\n"
          ]
        }
      ],
      "source": [
        "create_table_by_query(conn, 'osm_data', columns, column_names, data_types, constraints)"
      ]
    },
    {
      "cell_type": "code",
      "execution_count": 36,
      "metadata": {},
      "outputs": [
        {
          "name": "stdout",
          "output_type": "stream",
          "text": [
            "Loading data into the table\n",
            "Data loaded into the table osm_data\n",
            "File osm_uk_0_5.csv has been uploaded to the database successfully\n",
            "Loading data into the table\n",
            "Data loaded into the table osm_data\n",
            "File osm_uk_0_6.csv has been uploaded to the database successfully\n",
            "Loading data into the table\n",
            "Data loaded into the table osm_data\n",
            "File osm_uk_0_7.csv has been uploaded to the database successfully\n",
            "Loading data into the table\n",
            "Data loaded into the table osm_data\n",
            "File osm_uk_0_8.csv has been uploaded to the database successfully\n",
            "Loading data into the table\n",
            "Data loaded into the table osm_data\n",
            "File osm_uk_10_0.csv has been uploaded to the database successfully\n",
            "Loading data into the table\n",
            "Data loaded into the table osm_data\n",
            "File osm_uk_10_1.csv has been uploaded to the database successfully\n",
            "Loading data into the table\n",
            "Data loaded into the table osm_data\n",
            "File osm_uk_10_10.csv has been uploaded to the database successfully\n",
            "Loading data into the table\n",
            "Data loaded into the table osm_data\n",
            "File osm_uk_10_11.csv has been uploaded to the database successfully\n",
            "Loading data into the table\n",
            "Data loaded into the table osm_data\n",
            "File osm_uk_10_2.csv has been uploaded to the database successfully\n",
            "Loading data into the table\n",
            "Data loaded into the table osm_data\n",
            "File osm_uk_10_3.csv has been uploaded to the database successfully\n",
            "Loading data into the table\n",
            "Data loaded into the table osm_data\n",
            "File osm_uk_10_4.csv has been uploaded to the database successfully\n",
            "Loading data into the table\n",
            "Data loaded into the table osm_data\n",
            "File osm_uk_10_5.csv has been uploaded to the database successfully\n",
            "Loading data into the table\n",
            "Data loaded into the table osm_data\n",
            "File osm_uk_10_6.csv has been uploaded to the database successfully\n",
            "Loading data into the table\n",
            "Data loaded into the table osm_data\n",
            "File osm_uk_10_7.csv has been uploaded to the database successfully\n",
            "Loading data into the table\n",
            "Data loaded into the table osm_data\n",
            "File osm_uk_10_8.csv has been uploaded to the database successfully\n",
            "Loading data into the table\n",
            "Data loaded into the table osm_data\n",
            "File osm_uk_10_9.csv has been uploaded to the database successfully\n",
            "Loading data into the table\n",
            "Data loaded into the table osm_data\n",
            "File osm_uk_11_0.csv has been uploaded to the database successfully\n",
            "Loading data into the table\n",
            "Data loaded into the table osm_data\n",
            "File osm_uk_11_1.csv has been uploaded to the database successfully\n",
            "Loading data into the table\n",
            "Data loaded into the table osm_data\n",
            "File osm_uk_11_10.csv has been uploaded to the database successfully\n",
            "Loading data into the table\n",
            "Data loaded into the table osm_data\n",
            "File osm_uk_11_2.csv has been uploaded to the database successfully\n",
            "Loading data into the table\n",
            "Data loaded into the table osm_data\n",
            "File osm_uk_11_3.csv has been uploaded to the database successfully\n",
            "Loading data into the table\n",
            "Data loaded into the table osm_data\n",
            "File osm_uk_11_4.csv has been uploaded to the database successfully\n",
            "Loading data into the table\n",
            "Data loaded into the table osm_data\n",
            "File osm_uk_11_5.csv has been uploaded to the database successfully\n",
            "Loading data into the table\n",
            "Data loaded into the table osm_data\n",
            "File osm_uk_11_6.csv has been uploaded to the database successfully\n",
            "Loading data into the table\n",
            "Data loaded into the table osm_data\n",
            "File osm_uk_11_7.csv has been uploaded to the database successfully\n",
            "Loading data into the table\n",
            "Data loaded into the table osm_data\n",
            "File osm_uk_11_8.csv has been uploaded to the database successfully\n",
            "Loading data into the table\n",
            "Data loaded into the table osm_data\n",
            "File osm_uk_11_9.csv has been uploaded to the database successfully\n",
            "Loading data into the table\n",
            "Data loaded into the table osm_data\n",
            "File osm_uk_1_10.csv has been uploaded to the database successfully\n",
            "Loading data into the table\n",
            "Data loaded into the table osm_data\n",
            "File osm_uk_1_11.csv has been uploaded to the database successfully\n",
            "Loading data into the table\n",
            "Data loaded into the table osm_data\n",
            "File osm_uk_1_12.csv has been uploaded to the database successfully\n",
            "Loading data into the table\n",
            "Data loaded into the table osm_data\n",
            "File osm_uk_1_13.csv has been uploaded to the database successfully\n",
            "Loading data into the table\n",
            "Data loaded into the table osm_data\n",
            "File osm_uk_1_14.csv has been uploaded to the database successfully\n",
            "Loading data into the table\n",
            "Data loaded into the table osm_data\n",
            "File osm_uk_1_3.csv has been uploaded to the database successfully\n",
            "Loading data into the table\n",
            "Data loaded into the table osm_data\n",
            "File osm_uk_1_4.csv has been uploaded to the database successfully\n",
            "Loading data into the table\n",
            "Data loaded into the table osm_data\n",
            "File osm_uk_1_5.csv has been uploaded to the database successfully\n",
            "Loading data into the table\n",
            "Data loaded into the table osm_data\n",
            "File osm_uk_1_6.csv has been uploaded to the database successfully\n",
            "Loading data into the table\n",
            "Data loaded into the table osm_data\n",
            "File osm_uk_1_7.csv has been uploaded to the database successfully\n",
            "Loading data into the table\n",
            "Data loaded into the table osm_data\n",
            "File osm_uk_1_8.csv has been uploaded to the database successfully\n",
            "Loading data into the table\n",
            "Data loaded into the table osm_data\n",
            "File osm_uk_1_9.csv has been uploaded to the database successfully\n",
            "Loading data into the table\n",
            "Data loaded into the table osm_data\n",
            "File osm_uk_2_10.csv has been uploaded to the database successfully\n",
            "Loading data into the table\n",
            "Data loaded into the table osm_data\n",
            "File osm_uk_2_11.csv has been uploaded to the database successfully\n",
            "Loading data into the table\n",
            "Data loaded into the table osm_data\n",
            "File osm_uk_2_12.csv has been uploaded to the database successfully\n",
            "Loading data into the table\n",
            "Data loaded into the table osm_data\n",
            "File osm_uk_2_13.csv has been uploaded to the database successfully\n",
            "Loading data into the table\n",
            "Data loaded into the table osm_data\n",
            "File osm_uk_2_14.csv has been uploaded to the database successfully\n",
            "Loading data into the table\n",
            "Data loaded into the table osm_data\n",
            "File osm_uk_2_15.csv has been uploaded to the database successfully\n",
            "Loading data into the table\n",
            "Data loaded into the table osm_data\n",
            "File osm_uk_2_16.csv has been uploaded to the database successfully\n",
            "Loading data into the table\n",
            "Data loaded into the table osm_data\n",
            "File osm_uk_2_17.csv has been uploaded to the database successfully\n",
            "Loading data into the table\n",
            "Data loaded into the table osm_data\n",
            "File osm_uk_2_4.csv has been uploaded to the database successfully\n",
            "Loading data into the table\n",
            "Data loaded into the table osm_data\n",
            "File osm_uk_2_5.csv has been uploaded to the database successfully\n",
            "Loading data into the table\n",
            "Data loaded into the table osm_data\n",
            "File osm_uk_2_6.csv has been uploaded to the database successfully\n",
            "Loading data into the table\n",
            "Data loaded into the table osm_data\n",
            "File osm_uk_2_7.csv has been uploaded to the database successfully\n",
            "Loading data into the table\n",
            "Data loaded into the table osm_data\n",
            "File osm_uk_2_8.csv has been uploaded to the database successfully\n",
            "Loading data into the table\n",
            "Data loaded into the table osm_data\n",
            "File osm_uk_2_9.csv has been uploaded to the database successfully\n",
            "Loading data into the table\n",
            "Data loaded into the table osm_data\n",
            "File osm_uk_3_10.csv has been uploaded to the database successfully\n",
            "Loading data into the table\n",
            "Data loaded into the table osm_data\n",
            "File osm_uk_3_11.csv has been uploaded to the database successfully\n",
            "Loading data into the table\n",
            "Data loaded into the table osm_data\n",
            "File osm_uk_3_12.csv has been uploaded to the database successfully\n",
            "Loading data into the table\n",
            "Data loaded into the table osm_data\n",
            "File osm_uk_3_15.csv has been uploaded to the database successfully\n",
            "Loading data into the table\n",
            "Data loaded into the table osm_data\n",
            "File osm_uk_3_16.csv has been uploaded to the database successfully\n",
            "Loading data into the table\n",
            "Data loaded into the table osm_data\n",
            "File osm_uk_3_17.csv has been uploaded to the database successfully\n",
            "Loading data into the table\n",
            "Data loaded into the table osm_data\n",
            "File osm_uk_3_2.csv has been uploaded to the database successfully\n",
            "Loading data into the table\n",
            "Data loaded into the table osm_data\n",
            "File osm_uk_3_3.csv has been uploaded to the database successfully\n",
            "Loading data into the table\n",
            "Data loaded into the table osm_data\n",
            "File osm_uk_3_4.csv has been uploaded to the database successfully\n",
            "Loading data into the table\n",
            "Data loaded into the table osm_data\n",
            "File osm_uk_3_5.csv has been uploaded to the database successfully\n",
            "Loading data into the table\n",
            "Data loaded into the table osm_data\n",
            "File osm_uk_3_6.csv has been uploaded to the database successfully\n",
            "Loading data into the table\n",
            "Data loaded into the table osm_data\n",
            "File osm_uk_3_7.csv has been uploaded to the database successfully\n",
            "Loading data into the table\n",
            "Data loaded into the table osm_data\n",
            "File osm_uk_3_8.csv has been uploaded to the database successfully\n",
            "Loading data into the table\n",
            "Data loaded into the table osm_data\n",
            "File osm_uk_3_9.csv has been uploaded to the database successfully\n",
            "Loading data into the table\n",
            "Data loaded into the table osm_data\n",
            "File osm_uk_4_0.csv has been uploaded to the database successfully\n",
            "Loading data into the table\n",
            "Data loaded into the table osm_data\n",
            "File osm_uk_4_1.csv has been uploaded to the database successfully\n",
            "Loading data into the table\n",
            "Data loaded into the table osm_data\n",
            "File osm_uk_4_10.csv has been uploaded to the database successfully\n",
            "Loading data into the table\n",
            "Data loaded into the table osm_data\n",
            "File osm_uk_4_11.csv has been uploaded to the database successfully\n",
            "Loading data into the table\n",
            "Data loaded into the table osm_data\n",
            "File osm_uk_4_12.csv has been uploaded to the database successfully\n",
            "Loading data into the table\n",
            "Data loaded into the table osm_data\n",
            "File osm_uk_4_13.csv has been uploaded to the database successfully\n",
            "Loading data into the table\n",
            "Data loaded into the table osm_data\n",
            "File osm_uk_4_14.csv has been uploaded to the database successfully\n",
            "Loading data into the table\n",
            "Data loaded into the table osm_data\n",
            "File osm_uk_4_15.csv has been uploaded to the database successfully\n",
            "Loading data into the table\n",
            "Data loaded into the table osm_data\n",
            "File osm_uk_4_16.csv has been uploaded to the database successfully\n",
            "Loading data into the table\n",
            "Data loaded into the table osm_data\n",
            "File osm_uk_4_17.csv has been uploaded to the database successfully\n",
            "Loading data into the table\n",
            "Data loaded into the table osm_data\n",
            "File osm_uk_4_3.csv has been uploaded to the database successfully\n",
            "Loading data into the table\n",
            "Data loaded into the table osm_data\n",
            "File osm_uk_4_4.csv has been uploaded to the database successfully\n",
            "Loading data into the table\n",
            "Data loaded into the table osm_data\n",
            "File osm_uk_4_5.csv has been uploaded to the database successfully\n",
            "Loading data into the table\n",
            "Data loaded into the table osm_data\n",
            "File osm_uk_4_6.csv has been uploaded to the database successfully\n",
            "Loading data into the table\n",
            "Data loaded into the table osm_data\n",
            "File osm_uk_4_7.csv has been uploaded to the database successfully\n",
            "Loading data into the table\n",
            "Data loaded into the table osm_data\n",
            "File osm_uk_4_8.csv has been uploaded to the database successfully\n",
            "Loading data into the table\n",
            "Data loaded into the table osm_data\n",
            "File osm_uk_4_9.csv has been uploaded to the database successfully\n",
            "Loading data into the table\n",
            "Data loaded into the table osm_data\n",
            "File osm_uk_5_0.csv has been uploaded to the database successfully\n",
            "Loading data into the table\n",
            "Data loaded into the table osm_data\n",
            "File osm_uk_5_1.csv has been uploaded to the database successfully\n",
            "Loading data into the table\n",
            "Data loaded into the table osm_data\n",
            "File osm_uk_5_10.csv has been uploaded to the database successfully\n",
            "Loading data into the table\n",
            "Data loaded into the table osm_data\n",
            "File osm_uk_5_11.csv has been uploaded to the database successfully\n",
            "Loading data into the table\n",
            "Data loaded into the table osm_data\n",
            "File osm_uk_5_12.csv has been uploaded to the database successfully\n",
            "Loading data into the table\n",
            "Data loaded into the table osm_data\n",
            "File osm_uk_5_13.csv has been uploaded to the database successfully\n",
            "Loading data into the table\n",
            "Data loaded into the table osm_data\n",
            "File osm_uk_5_14.csv has been uploaded to the database successfully\n",
            "Loading data into the table\n",
            "Data loaded into the table osm_data\n",
            "File osm_uk_5_15.csv has been uploaded to the database successfully\n",
            "Loading data into the table\n",
            "Data loaded into the table osm_data\n",
            "File osm_uk_5_16.csv has been uploaded to the database successfully\n",
            "Loading data into the table\n",
            "Data loaded into the table osm_data\n",
            "File osm_uk_5_17.csv has been uploaded to the database successfully\n",
            "Loading data into the table\n",
            "Data loaded into the table osm_data\n",
            "File osm_uk_5_4.csv has been uploaded to the database successfully\n",
            "Loading data into the table\n",
            "Data loaded into the table osm_data\n",
            "File osm_uk_5_5.csv has been uploaded to the database successfully\n",
            "Loading data into the table\n",
            "Data loaded into the table osm_data\n",
            "File osm_uk_5_6.csv has been uploaded to the database successfully\n",
            "Loading data into the table\n",
            "Data loaded into the table osm_data\n",
            "File osm_uk_5_7.csv has been uploaded to the database successfully\n",
            "Loading data into the table\n",
            "Data loaded into the table osm_data\n",
            "File osm_uk_5_8.csv has been uploaded to the database successfully\n",
            "Loading data into the table\n",
            "Data loaded into the table osm_data\n",
            "File osm_uk_5_9.csv has been uploaded to the database successfully\n",
            "Loading data into the table\n",
            "Data loaded into the table osm_data\n",
            "File osm_uk_6_0.csv has been uploaded to the database successfully\n",
            "Loading data into the table\n",
            "Data loaded into the table osm_data\n",
            "File osm_uk_6_1.csv has been uploaded to the database successfully\n",
            "Loading data into the table\n",
            "Data loaded into the table osm_data\n",
            "File osm_uk_6_10.csv has been uploaded to the database successfully\n",
            "Loading data into the table\n",
            "Data loaded into the table osm_data\n",
            "File osm_uk_6_11.csv has been uploaded to the database successfully\n",
            "Loading data into the table\n",
            "Data loaded into the table osm_data\n",
            "File osm_uk_6_12.csv has been uploaded to the database successfully\n",
            "Loading data into the table\n",
            "Data loaded into the table osm_data\n",
            "File osm_uk_6_13.csv has been uploaded to the database successfully\n",
            "Loading data into the table\n",
            "Data loaded into the table osm_data\n",
            "File osm_uk_6_14.csv has been uploaded to the database successfully\n",
            "Loading data into the table\n",
            "Data loaded into the table osm_data\n",
            "File osm_uk_6_15.csv has been uploaded to the database successfully\n",
            "Loading data into the table\n",
            "Data loaded into the table osm_data\n",
            "File osm_uk_6_16.csv has been uploaded to the database successfully\n",
            "Loading data into the table\n",
            "Data loaded into the table osm_data\n",
            "File osm_uk_6_17.csv has been uploaded to the database successfully\n",
            "Loading data into the table\n",
            "Data loaded into the table osm_data\n",
            "File osm_uk_6_2.csv has been uploaded to the database successfully\n",
            "Loading data into the table\n",
            "Data loaded into the table osm_data\n",
            "File osm_uk_6_4.csv has been uploaded to the database successfully\n",
            "Loading data into the table\n",
            "Data loaded into the table osm_data\n",
            "File osm_uk_6_5.csv has been uploaded to the database successfully\n",
            "Loading data into the table\n",
            "Data loaded into the table osm_data\n",
            "File osm_uk_6_6.csv has been uploaded to the database successfully\n",
            "Loading data into the table\n",
            "Data loaded into the table osm_data\n",
            "File osm_uk_6_7.csv has been uploaded to the database successfully\n",
            "Loading data into the table\n",
            "Data loaded into the table osm_data\n",
            "File osm_uk_6_8.csv has been uploaded to the database successfully\n",
            "Loading data into the table\n",
            "Data loaded into the table osm_data\n",
            "File osm_uk_6_9.csv has been uploaded to the database successfully\n",
            "Loading data into the table\n",
            "Data loaded into the table osm_data\n",
            "File osm_uk_7_0.csv has been uploaded to the database successfully\n",
            "Loading data into the table\n",
            "Data loaded into the table osm_data\n",
            "File osm_uk_7_1.csv has been uploaded to the database successfully\n",
            "Loading data into the table\n",
            "Data loaded into the table osm_data\n",
            "File osm_uk_7_10.csv has been uploaded to the database successfully\n",
            "Loading data into the table\n",
            "Data loaded into the table osm_data\n",
            "File osm_uk_7_11.csv has been uploaded to the database successfully\n",
            "Loading data into the table\n",
            "Data loaded into the table osm_data\n",
            "File osm_uk_7_12.csv has been uploaded to the database successfully\n",
            "Loading data into the table\n",
            "Data loaded into the table osm_data\n",
            "File osm_uk_7_13.csv has been uploaded to the database successfully\n",
            "Loading data into the table\n",
            "Data loaded into the table osm_data\n",
            "File osm_uk_7_14.csv has been uploaded to the database successfully\n",
            "Loading data into the table\n",
            "Data loaded into the table osm_data\n",
            "File osm_uk_7_4.csv has been uploaded to the database successfully\n",
            "Loading data into the table\n",
            "Data loaded into the table osm_data\n",
            "File osm_uk_7_5.csv has been uploaded to the database successfully\n",
            "Loading data into the table\n",
            "Data loaded into the table osm_data\n",
            "File osm_uk_7_6.csv has been uploaded to the database successfully\n",
            "Loading data into the table\n",
            "Data loaded into the table osm_data\n",
            "File osm_uk_7_7.csv has been uploaded to the database successfully\n",
            "Loading data into the table\n",
            "Data loaded into the table osm_data\n",
            "File osm_uk_7_8.csv has been uploaded to the database successfully\n",
            "Loading data into the table\n",
            "Data loaded into the table osm_data\n",
            "File osm_uk_7_9.csv has been uploaded to the database successfully\n",
            "Loading data into the table\n",
            "Data loaded into the table osm_data\n",
            "File osm_uk_8_0.csv has been uploaded to the database successfully\n",
            "Loading data into the table\n",
            "Data loaded into the table osm_data\n",
            "File osm_uk_8_1.csv has been uploaded to the database successfully\n",
            "Loading data into the table\n",
            "Data loaded into the table osm_data\n",
            "File osm_uk_8_10.csv has been uploaded to the database successfully\n",
            "Loading data into the table\n",
            "Data loaded into the table osm_data\n",
            "File osm_uk_8_11.csv has been uploaded to the database successfully\n",
            "Loading data into the table\n",
            "Data loaded into the table osm_data\n",
            "File osm_uk_8_12.csv has been uploaded to the database successfully\n",
            "Loading data into the table\n",
            "Data loaded into the table osm_data\n",
            "File osm_uk_8_13.csv has been uploaded to the database successfully\n",
            "Loading data into the table\n",
            "Data loaded into the table osm_data\n",
            "File osm_uk_8_2.csv has been uploaded to the database successfully\n",
            "Loading data into the table\n",
            "Data loaded into the table osm_data\n",
            "File osm_uk_8_4.csv has been uploaded to the database successfully\n",
            "Loading data into the table\n",
            "Data loaded into the table osm_data\n",
            "File osm_uk_8_5.csv has been uploaded to the database successfully\n",
            "Loading data into the table\n",
            "Data loaded into the table osm_data\n",
            "File osm_uk_8_6.csv has been uploaded to the database successfully\n",
            "Loading data into the table\n",
            "Data loaded into the table osm_data\n",
            "File osm_uk_8_7.csv has been uploaded to the database successfully\n",
            "Loading data into the table\n",
            "Data loaded into the table osm_data\n",
            "File osm_uk_8_8.csv has been uploaded to the database successfully\n",
            "Loading data into the table\n",
            "Data loaded into the table osm_data\n",
            "File osm_uk_8_9.csv has been uploaded to the database successfully\n",
            "Loading data into the table\n",
            "Data loaded into the table osm_data\n",
            "File osm_uk_9_0.csv has been uploaded to the database successfully\n",
            "Loading data into the table\n",
            "Data loaded into the table osm_data\n",
            "File osm_uk_9_1.csv has been uploaded to the database successfully\n",
            "Loading data into the table\n",
            "Data loaded into the table osm_data\n",
            "File osm_uk_9_10.csv has been uploaded to the database successfully\n",
            "Loading data into the table\n",
            "Data loaded into the table osm_data\n",
            "File osm_uk_9_11.csv has been uploaded to the database successfully\n",
            "Loading data into the table\n",
            "Data loaded into the table osm_data\n",
            "File osm_uk_9_12.csv has been uploaded to the database successfully\n",
            "Loading data into the table\n",
            "Data loaded into the table osm_data\n",
            "File osm_uk_9_13.csv has been uploaded to the database successfully\n",
            "Loading data into the table\n",
            "Data loaded into the table osm_data\n",
            "File osm_uk_9_2.csv has been uploaded to the database successfully\n",
            "Loading data into the table\n",
            "Data loaded into the table osm_data\n",
            "File osm_uk_9_3.csv has been uploaded to the database successfully\n",
            "Loading data into the table\n",
            "Data loaded into the table osm_data\n",
            "File osm_uk_9_4.csv has been uploaded to the database successfully\n",
            "Loading data into the table\n",
            "Data loaded into the table osm_data\n",
            "File osm_uk_9_5.csv has been uploaded to the database successfully\n",
            "Loading data into the table\n",
            "Data loaded into the table osm_data\n",
            "File osm_uk_9_6.csv has been uploaded to the database successfully\n",
            "Loading data into the table\n",
            "Data loaded into the table osm_data\n",
            "File osm_uk_9_7.csv has been uploaded to the database successfully\n",
            "Loading data into the table\n",
            "Data loaded into the table osm_data\n",
            "File osm_uk_9_8.csv has been uploaded to the database successfully\n",
            "Loading data into the table\n",
            "Data loaded into the table osm_data\n",
            "File osm_uk_9_9.csv has been uploaded to the database successfully\n",
            "Loading data into the table\n",
            "Data loaded into the table osm_data\n",
            "File osm_uk_gl_0_0.csv has been uploaded to the database successfully\n",
            "Loading data into the table\n",
            "Data loaded into the table osm_data\n",
            "File osm_uk_gl_0_1.csv has been uploaded to the database successfully\n",
            "Loading data into the table\n",
            "Data loaded into the table osm_data\n",
            "File osm_uk_gl_0_2.csv has been uploaded to the database successfully\n",
            "Loading data into the table\n",
            "Data loaded into the table osm_data\n",
            "File osm_uk_gl_0_3.csv has been uploaded to the database successfully\n",
            "Loading data into the table\n",
            "Error processing osm_uk_gl_0_4.csv: (1017, \"Can't find file 'b'./osm_uk_gl_0_4.csv''\")\n",
            "Loading data into the table\n",
            "Error processing osm_uk_gl_0_5.csv: (1017, \"Can't find file 'b'./osm_uk_gl_0_5.csv''\")\n",
            "Loading data into the table\n",
            "Error processing osm_uk_gl_0_6.csv: (1017, \"Can't find file 'b'./osm_uk_gl_0_6.csv''\")\n",
            "Loading data into the table\n",
            "Error processing osm_uk_gl_0_7.csv: (1017, \"Can't find file 'b'./osm_uk_gl_0_7.csv''\")\n",
            "Loading data into the table\n",
            "Data loaded into the table osm_data\n",
            "File osm_uk_gl_1_0.csv has been uploaded to the database successfully\n",
            "Loading data into the table\n",
            "Data loaded into the table osm_data\n",
            "File osm_uk_gl_1_1.csv has been uploaded to the database successfully\n",
            "Loading data into the table\n",
            "Data loaded into the table osm_data\n",
            "File osm_uk_gl_1_2.csv has been uploaded to the database successfully\n",
            "Loading data into the table\n",
            "Data loaded into the table osm_data\n",
            "File osm_uk_gl_1_3.csv has been uploaded to the database successfully\n",
            "Loading data into the table\n",
            "Error processing osm_uk_gl_1_4.csv: (1017, \"Can't find file 'b'./osm_uk_gl_1_4.csv''\")\n",
            "Loading data into the table\n",
            "Error processing osm_uk_gl_1_5.csv: (1017, \"Can't find file 'b'./osm_uk_gl_1_5.csv''\")\n",
            "Loading data into the table\n",
            "Error processing osm_uk_gl_1_6.csv: (1017, \"Can't find file 'b'./osm_uk_gl_1_6.csv''\")\n",
            "Loading data into the table\n",
            "Error processing osm_uk_gl_2_0.csv: (1017, \"Can't find file 'b'./osm_uk_gl_2_0.csv''\")\n",
            "Loading data into the table\n",
            "Error processing osm_uk_gl_2_1.csv: (1017, \"Can't find file 'b'./osm_uk_gl_2_1.csv''\")\n",
            "Loading data into the table\n",
            "Error processing osm_uk_gl_2_2.csv: (1017, \"Can't find file 'b'./osm_uk_gl_2_2.csv''\")\n",
            "Loading data into the table\n",
            "Error processing osm_uk_gl_2_3.csv: (1017, \"Can't find file 'b'./osm_uk_gl_2_3.csv''\")\n",
            "Loading data into the table\n",
            "Error processing osm_uk_gl_2_4.csv: (1017, \"Can't find file 'b'./osm_uk_gl_2_4.csv''\")\n",
            "Loading data into the table\n",
            "Error processing osm_uk_gl_2_5.csv: (1017, \"Can't find file 'b'./osm_uk_gl_2_5.csv''\")\n",
            "Loading data into the table\n",
            "Error processing osm_uk_gl_2_6.csv: (1017, \"Can't find file 'b'./osm_uk_gl_2_6.csv''\")\n",
            "Loading data into the table\n",
            "Error processing osm_uk_gl_2_7.csv: (1017, \"Can't find file 'b'./osm_uk_gl_2_7.csv''\")\n",
            "Loading data into the table\n",
            "Error processing osm_uk_gl_3_0.csv: (1017, \"Can't find file 'b'./osm_uk_gl_3_0.csv''\")\n",
            "Loading data into the table\n",
            "Error processing osm_uk_gl_3_1.csv: (1017, \"Can't find file 'b'./osm_uk_gl_3_1.csv''\")\n",
            "Loading data into the table\n",
            "Error processing osm_uk_gl_3_2.csv: (1017, \"Can't find file 'b'./osm_uk_gl_3_2.csv''\")\n",
            "Loading data into the table\n",
            "Error processing osm_uk_gl_3_3.csv: (1017, \"Can't find file 'b'./osm_uk_gl_3_3.csv''\")\n",
            "Loading data into the table\n",
            "Error processing osm_uk_gl_3_4.csv: (1017, \"Can't find file 'b'./osm_uk_gl_3_4.csv''\")\n",
            "Loading data into the table\n",
            "Error processing osm_uk_gl_3_5.csv: (1017, \"Can't find file 'b'./osm_uk_gl_3_5.csv''\")\n",
            "Loading data into the table\n",
            "Error processing osm_uk_gl_3_6.csv: (1017, \"Can't find file 'b'./osm_uk_gl_3_6.csv''\")\n",
            "Loading data into the table\n",
            "Error processing osm_uk_gl_3_7.csv: (1017, \"Can't find file 'b'./osm_uk_gl_3_7.csv''\")\n"
          ]
        }
      ],
      "source": [
        "file_pattern = \"osm_uk_*.csv\"\n",
        "file_list = glob.glob(file_pattern)\n",
        "file_list.sort()\n",
        "\n",
        "for file_name in file_list:\n",
        "    try:\n",
        "        csv_to_db(conn, file_name, 'osm_data', ignore_first_row=True)\n",
        "        print(f'File {file_name} has been uploaded to the database successfully')\n",
        "    except Exception as e:\n",
        "        print(f'Error processing {file_name}: {e}')"
      ]
    },
    {
      "cell_type": "code",
      "execution_count": 39,
      "metadata": {},
      "outputs": [],
      "source": [
        "column_names = ['date', 'geography', 'geography_code', 'NSSEC_Total', 'NSSEC_L1_L2_L3', 'NSSEC_L4_L5_L6', 'NSSEC_L7', 'NSSEC_L8_L9', 'NSSEC_L10_L11', 'NSSEC_L12', 'NSSEC_L13', 'NSSEC_L14', 'NSSEC_L15']\n",
        "columns = len(column_names)\n",
        "data_types = ['INT', 'TEXT', 'TEXT', 'INT', 'INT', 'INT', 'INT', 'INT', 'INT', 'INT', 'INT', 'INT', 'INT']\n",
        "constraints = ['' for _ in range(columns)]\n",
        "\n",
        "db_name = 'nssec_data'\n",
        "file_name = 'census2021-ts062/census2021-ts062-oa.csv'\n",
        "\n",
        "create_table_by_query(conn, db_name, columns, column_names, data_types, constraints)\n",
        "csv_to_db(conn, file_name, db_name, ignore_first_row=True)"
      ]
    },
    {
      "cell_type": "code",
      "execution_count": 42,
      "metadata": {},
      "outputs": [
        {
          "name": "stdout",
          "output_type": "stream",
          "text": [
            "CREATE TABLE mi_data (`date` INT , `geography` TEXT , `geography_code` TEXT , `MI_Total` INT , `MI_AddrYearAgoSameInUK` INT , `MI_AddrYearAgoStudentInUK` INT , `MI_AddrYearAgoInUK` INT , `MI_AddrYearAgoOutUK` INT )\n",
            "Loading data into the table\n",
            "Data loaded into the table mi_data\n"
          ]
        }
      ],
      "source": [
        "column_names = ['date', 'geography', 'geography_code', 'MI_Total', 'MI_AddrYearAgoSameInUK', 'MI_AddrYearAgoStudentInUK', 'MI_AddrYearAgoInUK', 'MI_AddrYearAgoOutUK']\n",
        "columns = len(column_names)\n",
        "data_types = ['INT', 'TEXT', 'TEXT', 'INT', 'INT', 'INT', 'INT', 'INT']\n",
        "constraints = ['' for _ in range(columns)]\n",
        "\n",
        "db_name = 'mi_data'\n",
        "file_name = 'census2021-ts019/census2021-ts019-oa.csv'\n",
        "\n",
        "create_table_by_query(conn, db_name, columns, column_names, data_types, constraints)\n",
        "csv_to_db(conn, file_name, db_name, ignore_first_row=True)"
      ]
    },
    {
      "cell_type": "code",
      "execution_count": 44,
      "metadata": {},
      "outputs": [
        {
          "name": "stdout",
          "output_type": "stream",
          "text": [
            "CREATE TABLE oa_data (`FID` INT , `OA21CD` TEXT , `LSOA21CD` TEXT , `LSOA21NM` TEXT , `LSOA21NMW` TEXT , `BNG_E` INT , `BNG_N` INT , `LAT` FLOAT , `LONG` FLOAT , `ShapeArea` FLOAT , `ShapeLength` FLOAT , `GlobalID` TEXT )\n",
            "Loading data into the table\n",
            "Data loaded into the table oa_data\n"
          ]
        }
      ],
      "source": [
        "column_names = ['FID', 'OA21CD', 'LSOA21CD', 'LSOA21NM', 'LSOA21NMW', 'BNG_E', 'BNG_N', 'LAT', 'LONG', 'ShapeArea', 'ShapeLength', 'GlobalID']\n",
        "columns = len(column_names)\n",
        "data_types = ['INT', 'TEXT', 'TEXT', 'TEXT', 'TEXT', 'INT', 'INT', 'FLOAT', 'FLOAT', 'FLOAT', 'FLOAT', 'TEXT']\n",
        "constraints = ['' for _ in range(columns)]\n",
        "\n",
        "db_name = 'oa_data'\n",
        "file_name = 'uk_oa_list.csv'\n",
        "\n",
        "create_table_by_query(conn, db_name, columns, column_names, data_types, constraints)\n",
        "csv_to_db(conn, file_name, db_name, ignore_first_row=True)"
      ]
    },
    {
      "cell_type": "code",
      "execution_count": 47,
      "metadata": {},
      "outputs": [
        {
          "name": "stdout",
          "output_type": "stream",
          "text": [
            "\n",
            "Table: mi_data\n",
            "\n",
            "Approx Row Count: 0.1 M\n",
            "('date', 'geography', 'geography_code', 'MI_Total', 'MI_AddrYearAgoSameInUK', 'MI_AddrYearAgoStudentInUK', 'MI_AddrYearAgoInUK', 'MI_AddrYearAgoOutUK')\n",
            "(2021, 'E00060274', 'E00060274', 271, 253, 0, 18, 0)\n",
            "(2021, 'E00060275', 'E00060275', 407, 386, 0, 19, 2)\n",
            "(2021, 'E00060276', 'E00060276', 257, 245, 0, 12, 0)\n",
            "(2021, 'E00060277', 'E00060277', 275, 244, 0, 31, 0)\n",
            "(2021, 'E00060279', 'E00060279', 272, 257, 0, 15, 0)\n",
            "\n",
            "No indices set on this table.\n",
            "\n",
            "Table: nssec_data\n",
            "\n",
            "Approx Row Count: 0.1 M\n",
            "('date', 'geography', 'geography_code', 'NSSEC_Total', 'NSSEC_L1_L2_L3', 'NSSEC_L4_L5_L6', 'NSSEC_L7', 'NSSEC_L8_L9', 'NSSEC_L10_L11', 'NSSEC_L12', 'NSSEC_L13', 'NSSEC_L14', 'NSSEC_L15')\n",
            "(2021, 'E00000001', 'E00000001', 159, 80, 38, 13, 9, 3, 5, 5, 4, 2)\n",
            "(2021, 'E00000003', 'E00000003', 222, 96, 58, 8, 26, 2, 5, 2, 5, 20)\n",
            "(2021, 'E00000005', 'E00000005', 103, 37, 28, 8, 21, 0, 3, 1, 1, 4)\n",
            "(2021, 'E00000007', 'E00000007', 140, 62, 39, 5, 11, 3, 3, 1, 6, 10)\n",
            "(2021, 'E00000010', 'E00000010', 170, 34, 45, 17, 27, 7, 10, 14, 11, 5)\n",
            "\n",
            "No indices set on this table.\n",
            "\n",
            "Table: oa_data\n",
            "\n",
            "Approx Row Count: 0.1 M\n",
            "('FID', 'OA21CD', 'LSOA21CD', 'LSOA21NM', 'LSOA21NMW', 'BNG_E', 'BNG_N', 'LAT', 'LONG', 'ShapeArea', 'ShapeLength', 'GlobalID')\n",
            "(1, 'E00000001', 'E01000001', 'City of London 001A', ' ', 532250, 181864, 51.5202, -0.09523, 6949.15, 421.166, '3a44dd3d-5082-4a09-9b9c-3a5fadc811ed\\r')\n",
            "(2, 'E00000003', 'E01000001', 'City of London 001A', ' ', 532171, 181819, 51.5198, -0.09638, 4492.41, 307.715, 'f1216dc8-14d1-4857-9230-cab0641758fb\\r')\n",
            "(3, 'E00000005', 'E01000001', 'City of London 001A', ' ', 532166, 181722, 51.519, -0.09649, 8565.51, 385.205, '44d6f70f-549c-4288-9b6d-de2adbf02582\\r')\n",
            "(4, 'E00000007', 'E01000001', 'City of London 001A', ' ', 532088, 181473, 51.5167, -0.09771, 75994.8, 1408.61, '4dd683e1-9a5c-46cf-9e19-8465c8fbb6cb\\r')\n",
            "(5, 'E00000010', 'E01000003', 'City of London 001C', ' ', 532092, 182114, 51.5225, -0.09741, 2102.88, 215.272, '7476781f-8fe4-4c9b-bde1-0eecbd146dff\\r')\n",
            "\n",
            "No indices set on this table.\n",
            "\n",
            "Table: osm_data\n",
            "\n",
            "Approx Row Count: 15.9 M\n",
            "('element_type', 'osmid', 'geometry', 'ways', 'nodes', 'type', 'addr:country', 'addr:postcode', 'addr:street', 'addr:housenumber', 'addr:city', 'addr:housename', 'addr:place', 'name', 'alt_name', 'old_name', 'nohousenumber', 'note', 'disused', 'height', 'amenity', 'tourism', 'brand', 'leisure', 'cuisine', 'emergency', 'historic', 'sport', 'shop', 'religion', 'power', 'military', 'house', 'building', 'building:material', 'building:levels', 'internet_access', 'capacity', 'roof:levels', 'roof:shapefee', 'man_made', 'denomination', 'layer')\n",
            "('way', '49991751', 'POLYGON ((-6.2911211 49.9254836, -6.2911423 49.9254596, -6.2912031 49.9254818, -6.2912404 49.9254395, -6.2910983 49.9253876, -6.2910399 49.925454, -6.2911211 49.9254836))', '', '[635033657, 3940186015, 3940186016, 635033659, 635033661, 635033667, 635033657]', '', '', '', '', '', '', '', '', '', '', '', '', '', '', '', '', '', '', '', '', '', '', '', '', '', '', '', '', 'house', '', '', '', '', '', '', '', '', '')\n",
            "('way', '49991793', 'POLYGON ((-6.2994262 49.9209714, -6.2993332 49.9209899, -6.2992927 49.9209055, -6.2993738 49.9208894, -6.2993857 49.920887, -6.2994262 49.9209714))', '', '[635034331, 10629916014, 1277992779, 10629916012, 10629916013, 635034331]', '', '', '', '', '', '', '', '', \"Farmer Brown's Bulb Shop\", '', '', '', '', '', '', '', '', '', '', '', '', '', '', 'garden_centre', '', '', '', '', 'yes', '', '', '', '', '', '', '', '', '')\n",
            "('way', '72498853', 'POLYGON ((-6.2949997 49.9145146, -6.2950681 49.9140249, -6.2949997 49.914021, -6.2950025 49.9140007, -6.2947882 49.9139883, -6.2947848 49.9140128, -6.2947993 49.9140137, -6.294789 49.9140871, -6.294767 49.9140858, -6.2947628 49.9141165, -6.2947847 49.9141178, -6.2947773 49.9141714, -6.2947577 49.9141702, -6.2947534 49.9142006, -6.2947389 49.9141998, -6.2947116 49.9143958, -6.2947729 49.9143994, -6.294769 49.9144274, -6.2949415 49.9144374, -6.2949313 49.9145106, -6.2949997 49.9145146))', '', '[9180314202, 9180314201, 9180314200, 9180314199, 860681552, 860681547, 9180314198, 9180314197, 2470046667, 2470046665, 9180314196, 9180314195, 2470046669, 2470046671, 2470046670, 860681550, 2470046672, 860681548, 9180314194, 9180314193, 9180314202]', '', '', '', '', '', '', '', '', \"St Mary's Airport\", '', '', '', '', '', '', '', '', '', '', '', '', '', '', '', '', '', '', '', 'yes', '', '', '', '', '', '', '', '', '')\n",
            "('way', '72499050', 'POLYGON ((-6.3116005 49.9167842, -6.3116678 49.9167344, -6.3117142 49.9167604, -6.311736 49.9167443, -6.3117611 49.9167583, -6.3118221 49.9167925, -6.3118005 49.9168086, -6.3118682 49.9168465, -6.3118577 49.9168543, -6.311834 49.9168718, -6.3118136 49.9168869, -6.3118007 49.9168964, -6.3116005 49.9167842))', '', '[860681915, 860681916, 2409193117, 2409193116, 382392012, 382393142, 2409193118, 860681917, 9169387831, 2495663989, 9169387832, 860681918, 860681915]', '', '', '', '', '', '', '', '', \"St Mary's Lifeboat Station\", '', '', '', '', '', '', '', '', '', '', '', 'water_rescue', '', '', '', '', '', '', '', 'yes', '', '', '', '', '', '', '', '', '')\n",
            "('way', '72499117', 'POLYGON ((-6.3134352 49.9146669, -6.3134663 49.9147353, -6.3134061 49.9147467, -6.3134095 49.9147542, -6.3131503 49.9148031, -6.3131469 49.9147957, -6.3130936 49.9148057, -6.3130624 49.9147373, -6.3134352 49.9146669))', '', '[860681919, 860681920, 9169387085, 9169387084, 9169387083, 9169387086, 860681921, 860681922, 860681919]', '', '', 'TR21 0JT', 'Church Street', '', 'Hugh Town', '', '', 'Isles of Scilly Museum', '', '', '', '', '', '', '', 'museum', '', '', '', '', '', '', '', '', '', '', '', 'yes', '', '', '', '', '', '', '', '', '')\n",
            "\n",
            "No indices set on this table.\n",
            "\n",
            "Table: postcode_data\n",
            "\n",
            "Approx Row Count: 2.5 M\n",
            "('postcode', 'status', 'usertype', 'easting', 'northing', 'positional_quality_indicator', 'country', 'latitude', 'longitude', 'postcode_no_space', 'postcode_fixed_width_seven', 'postcode_fixed_width_eight', 'postcode_area', 'postcode_district', 'postcode_sector', 'outcode', 'incode', 'db_id')\n",
            "('AB1 0AA', 'terminated', 'small', 385386, 801193, 1, 'Scotland', Decimal('57.10147400'), Decimal('-2.24285100'), 'AB10AA', 'AB1 0AA', 'AB1  0AA', 'AB', 'AB1', 'AB1 0', 'AB1', '0AA', 1)\n",
            "('AB1 0AB', 'terminated', 'small', 385177, 801314, 1, 'Scotland', Decimal('57.10255400'), Decimal('-2.24630800'), 'AB10AB', 'AB1 0AB', 'AB1  0AB', 'AB', 'AB1', 'AB1 0', 'AB1', '0AB', 2)\n",
            "('AB1 0AD', 'terminated', 'small', 385053, 801092, 1, 'Scotland', Decimal('57.10055600'), Decimal('-2.24834200'), 'AB10AD', 'AB1 0AD', 'AB1  0AD', 'AB', 'AB1', 'AB1 0', 'AB1', '0AD', 3)\n",
            "('AB1 0AE', 'terminated', 'small', 384600, 799300, 8, 'Scotland', Decimal('57.08444400'), Decimal('-2.25570800'), 'AB10AE', 'AB1 0AE', 'AB1  0AE', 'AB', 'AB1', 'AB1 0', 'AB1', '0AE', 4)\n",
            "('AB1 0AF', 'terminated', 'large', 384460, 800660, 8, 'Scotland', Decimal('57.09665600'), Decimal('-2.25810200'), 'AB10AF', 'AB1 0AF', 'AB1  0AF', 'AB', 'AB1', 'AB1 0', 'AB1', '0AF', 5)\n",
            "\n",
            "Indices:\n",
            " - PRIMARY (BTREE): Column db_id\n",
            " - idx_postcode_postcode (BTREE): Column postcode\n",
            "\n",
            "Table: pp_data\n",
            "\n",
            "Approx Row Count: 29.3 M\n",
            "('transaction_unique_identifier', 'price', 'date_of_transfer', 'postcode', 'property_type', 'new_build_flag', 'tenure_type', 'primary_addressable_object_name', 'secondary_addressable_object_name', 'street', 'locality', 'town_city', 'district', 'county', 'ppd_category_type', 'record_status', 'db_id')\n",
            "('{109BBF80-1E51-4910-8E2C-B124E1117A7A}', 34950, datetime.date(1995, 6, 9), 'BA3 3AH', 'F', 'N', 'L', 'COOMBEND HOUSE', '7', 'COOMBEND', 'RADSTOCK', 'RADSTOCK', 'WANSDYKE', 'AVON', 'A', 'A', 1)\n",
            "('{D5233D67-2975-426B-B98D-B124E39331D9}', 133000, datetime.date(1995, 6, 19), 'SW18 5AG', 'T', 'N', 'F', '142', '', 'ASTONVILLE STREET', 'LONDON', 'LONDON', 'WANDSWORTH', 'GREATER LONDON', 'A', 'A', 2)\n",
            "('{718BD35C-25E1-431C-8AF7-B124E63ED4E1}', 83000, datetime.date(1995, 8, 21), 'IP11 7PU', 'D', 'N', 'F', '3', '', 'GARFIELD ROAD', 'FELIXSTOWE', 'FELIXSTOWE', 'SUFFOLK COASTAL', 'SUFFOLK', 'A', 'A', 3)\n",
            "('{E127F626-6247-4D95-A392-B124F4C0A558}', 59000, datetime.date(1995, 7, 27), 'PE21 0SF', 'D', 'Y', 'F', 'BEAUCADRE', '', 'GAYSFIELD ROAD', 'FISHTOFT', 'BOSTON', 'BOSTON', 'LINCOLNSHIRE', 'A', 'A', 4)\n",
            "('{B10762A0-2C9C-4C82-A885-B1250B55FFF9}', 51000, datetime.date(1995, 2, 28), 'ME7 4DF', 'T', 'N', 'F', '41', '', 'FRANKLIN ROAD', 'GILLINGHAM', 'GILLINGHAM', 'GILLINGHAM', 'KENT', 'A', 'A', 5)\n",
            "\n",
            "Indices:\n",
            " - PRIMARY (BTREE): Column db_id\n",
            " - idx_pp_postcode (BTREE): Column postcode\n",
            " - idx_pp_date_transfer (BTREE): Column date_of_transfer\n",
            " - idx_address (BTREE): Column postcode\n",
            " - idx_address (BTREE): Column street\n",
            " - idx_address (BTREE): Column primary_addressable_object_name\n",
            " - idx_address (BTREE): Column town_city\n",
            "\n",
            "Table: prices_coordinates_data\n",
            "\n",
            "Approx Row Count: 5.0 M\n",
            "('price', 'date_of_transfer', 'postcode', 'property_type', 'new_build_flag', 'tenure_type', 'locality', 'town_city', 'district', 'county', 'country', 'latitude', 'longitude', 'db_id')\n",
            "(370000, datetime.date(2024, 1, 1), 'WR12 7FE', 'T', 'N', 'F', '', 'BROADWAY', 'WYCHAVON', 'WORCESTERSHIRE', 'England', Decimal('52.04243800'), Decimal('-1.85757200'), 1)\n",
            "(50000, datetime.date(2024, 1, 1), 'TS17 6LJ', 'T', 'N', 'F', 'THORNABY', 'STOCKTON-ON-TEES', 'STOCKTON-ON-TEES', 'STOCKTON-ON-TEES', 'England', Decimal('54.55240100'), Decimal('-1.30114300'), 2)\n",
            "(485000, datetime.date(2024, 1, 1), 'BR3 6QH', 'F', 'N', 'L', '', 'BECKENHAM', 'BROMLEY', 'GREATER LONDON', 'England', Decimal('51.40061400'), Decimal('-0.01854100'), 3)\n",
            "(226000, datetime.date(2024, 1, 1), 'BL9 9EZ', 'S', 'N', 'F', '', 'BURY', 'BURY', 'GREATER MANCHESTER', 'England', Decimal('53.58415200'), Decimal('-2.28348100'), 4)\n",
            "(64000, datetime.date(2024, 1, 1), 'NE29 7LT', 'F', 'N', 'L', '', 'NORTH SHIELDS', 'NORTH TYNESIDE', 'TYNE AND WEAR', 'England', Decimal('55.01156300'), Decimal('-1.46931900'), 5)\n",
            "\n",
            "Indices:\n",
            " - PRIMARY (BTREE): Column db_id\n",
            " - idx_lat_lon_btree (BTREE): Column latitude\n",
            " - idx_lat_lon_btree (BTREE): Column longitude\n"
          ]
        }
      ],
      "source": [
        "get_summary_on_db(conn)"
      ]
    },
    {
      "cell_type": "markdown",
      "metadata": {},
      "source": [
        "We have to make sure that we set the correct indices on our data, as this will allow our code to run much faster. The best way to do that is to create an index on any column we will be looking up, and joint indices if our lookup involves multiple columns (like coordinates).\n",
        "\n",
        "Please be aware that as it's not always possible to predict which columns have to be indexed, we might return to this later in the project. This is an example of the situation when we have to alternate between the parts of our fynesse framework in order to run our project smoothly."
      ]
    },
    {
      "cell_type": "markdown",
      "metadata": {},
      "source": [
        "TODO: Write a short paragraph summarising what you did in the Access stage."
      ]
    },
    {
      "cell_type": "markdown",
      "metadata": {
        "id": "MIweGJKkn1LW"
      },
      "source": [
        "## Assess"
      ]
    },
    {
      "cell_type": "markdown",
      "metadata": {},
      "source": [
        "Explore the data.\n",
        "- To make predictions you will augment your data with information obtained from Open Street Map: an open license source of mapping information. You will need to use the techniques you have learnt in the course to indentify and incorporate useful features for your prediction tasks.\n",
        "- Look at the percentage of students (NS SEC code L15) in the individual output areas, and explore how it's related to various types of open street map features in those locations. Use the relationships you found to suggest the features to be used in a system that predicts percentage of students in a given area.\n",
        "- Do the same for an additional census variable (e.g., the average age in a given area).\n",
        "\n",
        "*Some of the census data sheets are very detailed. You might want to try \"boiling them down\" to some aggregate value or selecting just the most important columns.*"
      ]
    },
    {
      "cell_type": "code",
      "execution_count": null,
      "metadata": {},
      "outputs": [],
      "source": [
        "nssec_df = nssec_df.drop(nssec_df.columns[[0, 2]], axis=1).set_index('geography')\n",
        "nssec_df = nssec_df.sort_index()\n",
        "print(nssec_df.columns)\n",
        "nssec_df.columns = range(10)\n",
        "nssec_df.iloc[:, 1:10] = nssec_df.iloc[:, 1:10].div(nssec_df.iloc[:, 0], axis=0)\n",
        "nssec_df = nssec_df.drop(columns=nssec_df.columns[0])\n",
        "\n",
        "students = np.array(nssec_df[9])\n",
        "occ_df = nssec_df.copy()\n",
        "occ_df = np.array(occ_df.drop(columns=occ_df.columns[8]))"
      ]
    },
    {
      "cell_type": "code",
      "execution_count": null,
      "metadata": {
        "id": "FUy3b7lin2wU"
      },
      "outputs": [],
      "source": []
    },
    {
      "cell_type": "markdown",
      "metadata": {
        "id": "Kr5-wBZs1BDT"
      },
      "source": [
        "Write a short paragraph summarising what you did in the Assess stage."
      ]
    },
    {
      "cell_type": "code",
      "execution_count": null,
      "metadata": {
        "id": "RpzpG97O1JTs"
      },
      "outputs": [],
      "source": [
        "# TODO: your answer here"
      ]
    },
    {
      "cell_type": "markdown",
      "metadata": {
        "id": "TIzv84Kcn3Dj"
      },
      "source": [
        "## Address"
      ]
    },
    {
      "cell_type": "markdown",
      "metadata": {},
      "source": [
        "Make a prediction system.\n",
        "- Use Open Street Maps to predict Socio-Economic Status - in particular, the percent of full time students, from OSM features. Your function should take as input a coordinate pair (you can assume it will be in England), and return an estimate for the share of students in that area.\n",
        "- Do the same for the additional census variable you selected in the previous step."
      ]
    },
    {
      "cell_type": "code",
      "execution_count": null,
      "metadata": {
        "id": "P9GQVzaBn-YC"
      },
      "outputs": [],
      "source": []
    },
    {
      "cell_type": "code",
      "execution_count": null,
      "metadata": {
        "id": "Ukm6s3Fyn57t"
      },
      "outputs": [],
      "source": [
        "def estimate_students(latitude: float, longitude: float) -> float:\n",
        "    \"\"\"\n",
        "    Args:\n",
        "    latitude (float): The latitude coordinate.\n",
        "    longitude (float): The longitude coordinate.\n",
        "\n",
        "    Returns:\n",
        "    float: Estimated share of students in that area (value between 0 and 1).\n",
        "    \"\"\"\n",
        "    # TODO: implement\n",
        "    return NotImplementedError\n",
        "\n",
        "\n",
        "def estimate_something(latitude: float, longitude: float) -> float:\n",
        "    #TODO: rename function\n",
        "    \"\"\"\n",
        "    Args:\n",
        "    latitude (float): The latitude coordinate.\n",
        "    longitude (float): The longitude coordinate.\n",
        "\n",
        "    Returns:\n",
        "    float: Estimated value, percentage, probability, etc\n",
        "    \"\"\"\n",
        "    # TODO: implement\n",
        "    return NotImplementedError"
      ]
    },
    {
      "cell_type": "markdown",
      "metadata": {
        "id": "ktZ4NrcU1NsX"
      },
      "source": [
        "Write a short paragraph summarising what you did in the Address stage."
      ]
    },
    {
      "cell_type": "code",
      "execution_count": null,
      "metadata": {
        "id": "WQVi5mRF1R7V"
      },
      "outputs": [],
      "source": [
        "# TODO: your answer here"
      ]
    },
    {
      "cell_type": "markdown",
      "metadata": {
        "id": "M03wH58P5V3K"
      },
      "source": [
        "## Discussion"
      ]
    },
    {
      "cell_type": "markdown",
      "metadata": {
        "id": "0OlifPaO6Twy"
      },
      "source": [
        "#### Story and structure"
      ]
    },
    {
      "cell_type": "code",
      "execution_count": null,
      "metadata": {
        "id": "vHe7s9WP8vc_"
      },
      "outputs": [],
      "source": [
        "# Marks awarded for inline explanation and structure, no need for answers here. Go over your notebook to make sure you explain what you did and why."
      ]
    },
    {
      "cell_type": "markdown",
      "metadata": {
        "id": "nQXOZrmh6ZkH"
      },
      "source": [
        "#### Design decisions"
      ]
    },
    {
      "cell_type": "code",
      "execution_count": null,
      "metadata": {
        "id": "VZpLGlIQ6WOB"
      },
      "outputs": [],
      "source": [
        "# TODO: your answer here"
      ]
    },
    {
      "cell_type": "markdown",
      "metadata": {
        "id": "uXTy0gCJ7FqJ"
      },
      "source": [
        "#### Comparison"
      ]
    },
    {
      "cell_type": "code",
      "execution_count": null,
      "metadata": {
        "id": "StIuDGx26YT3"
      },
      "outputs": [],
      "source": [
        "# TODO: your answer here"
      ]
    },
    {
      "cell_type": "markdown",
      "metadata": {
        "id": "DRnOzM_Y7Jt7"
      },
      "source": [
        "#### Reusability"
      ]
    },
    {
      "cell_type": "code",
      "execution_count": null,
      "metadata": {
        "id": "XNin895_6YgZ"
      },
      "outputs": [],
      "source": [
        "# TODO: your answer here"
      ]
    },
    {
      "cell_type": "markdown",
      "metadata": {
        "id": "_L96aZiR4WVL"
      },
      "source": [
        "# Task 2: miniproject (13 marks)"
      ]
    },
    {
      "cell_type": "markdown",
      "metadata": {
        "id": "6i81p_90A1at"
      },
      "source": [
        "We expect your miniproject to be more advanced than the example project, and that's why we allocated more marks to it. The first 7 marks will be allocated similarly to Task 1.\n",
        "\n",
        "6 remaining points are *bonus* - they will be allocated for going far beyond what you did in Task 1, either in data access, assess, address or story."
      ]
    },
    {
      "cell_type": "markdown",
      "metadata": {
        "id": "USNwRwBaCzOC"
      },
      "source": [
        "#### Choosing your topic\n",
        "\n",
        "You are given a lot of flexibility in choosing a miniproject topic.\n",
        "\n",
        "Some hints:\n",
        "- Your project should be based on the Census, Price Paid, OSM and Election datasets.\n",
        "- It's a good idea to pick something that you are interested in.\n",
        "- Bear in mind there are no marks dedicated to your overall prediction accuracy, so there is no advantage to picking 'easy' topics. It is perfectly ok to not reach significant predictive power, as long as you followed the proper process.\n",
        "\n",
        "Some guidelines:\n",
        "- Do not make a miniproject that furthers discriminatory rhetoric. In general, avoid topics that could be insensitive. If in doubt, message Radzim Sendyka (and *cc* Christian Cabrera) to discuss if this applies to your idea.\n",
        "- Please avoid any projects that would require approval from the ethics comittee.\n",
        "- Pick the scope of your projects that will allow you to show your skills. Some projects might not be challenging enough while others might be hard to make any progress in. Don't be scared to report negative results.\n",
        "\n",
        "Please email Radzim Sendyka (and *cc* Christian Cabrera) with your project idea when you begin working on it, so we can let you know about any potential concerns (eg. potentially insensive, too off-topic, too simple, too complex) as soon as we can. You can change the topic up to the submission deadline, but let us know again in cases of major changes."
      ]
    },
    {
      "cell_type": "markdown",
      "metadata": {
        "id": "pwjwzdgvAGI-"
      },
      "source": [
        "Most of the advice from Task 1 still applies, particularly around using an online relational database, structuring your notebook, fynesse, access-assess-address, data readiness levels, hints."
      ]
    },
    {
      "cell_type": "markdown",
      "metadata": {
        "id": "9i6X92QHnuAT"
      },
      "source": [
        "Sources you may want to include in your data include:\n",
        "\n",
        "  - UK Census Data\n",
        "    - UK Census 2021 data [here](https://www.ons.gov.uk/search?topics=9731,6646,3845,9497,4262,4128,7755,4994,6885,9724,7367&filter=datasets) or [here](https://www.nomisweb.co.uk/sources/census_2021_bulk).\n",
        "    - Historical Census data [here](https://www.ons.gov.uk/census/historiccensusdata).\n",
        "    - Geographic coordinates of Census Output Areas [here](https://www.data.gov.uk/dataset/4d4e021d-fe98-4a0e-88e2-3ead84538537/output-areas-december-2021-boundaries-ew-bgc-v2).\n",
        "  - Spatial data\n",
        "    - You should already have a connection to OpenStreetMaps.\n",
        "    - You might want to also download the entire map for England (or more) [here](https://download.openstreetmap.fr/extracts/) or [here](https://wiki.openstreetmap.org/wiki/Planet.osm).\n",
        "  - Election data\n",
        "    - Recent Election Results data [here](https://commonslibrary.parliament.uk/research-briefings/cbp-10009/)\n",
        "    - Historical Election Results data [here](https://commonslibrary.parliament.uk/research-briefings/cbp-8647/#fullreport).\n",
        "    - Lookup reference between Output Areas and Parliamentary Constituencies [here](https://geoportal.statistics.gov.uk/datasets/5968b5b2c0f14dd29ba277beaae6dec3_0/explore).\n",
        "  - Price Paid Data\n",
        "    - You should have this data already in your database.\n",
        "  - OSM\n",
        "    - You should know how to access this data from previous practicals."
      ]
    },
    {
      "cell_type": "markdown",
      "metadata": {
        "id": "C0etneFRoDRx"
      },
      "source": [
        "Example ideas:\n",
        "\n",
        "- Are areas correlated in terms of census results? If so, find the areas that are leading change, and the ones that are following.\n",
        "- Which historical census variables used to predict election results in the past, but don't seem related anymore?\n",
        "- Census results are only updated once a decade, but new roads and houses are built every year. Can census results, for example those relating to travel, be predicted from basic map information, such as street networks?\n",
        "- Building new houses is our best way of tackling the housing crisis. Use the information on new builds in the house prices dataset to explore what factors drive new developments, and make predictions for where the next houses will be built.\n",
        "- House styles differ a lot between regions and inhabitants. Can you make any predictions about the house or area simply from looking at it's geometric shape and orientation?\n",
        "\n",
        "Note that the ideas are just a starting point question. You should include more in-depth investigations into the data, validate your findings where applicable, and prepare visualisations."
      ]
    },
    {
      "cell_type": "markdown",
      "metadata": {
        "id": "8lW1FTFyBFFr"
      },
      "source": [
        "## Title and description"
      ]
    },
    {
      "cell_type": "code",
      "execution_count": null,
      "metadata": {
        "id": "k225EcHeA_aV"
      },
      "outputs": [],
      "source": [
        "# TODO: title your miniproject"
      ]
    },
    {
      "cell_type": "code",
      "execution_count": null,
      "metadata": {
        "id": "gtVWDrKcBIVJ"
      },
      "outputs": [],
      "source": [
        "# TODO: provide a very brief description of the goals of your miniproject"
      ]
    },
    {
      "cell_type": "markdown",
      "metadata": {
        "id": "6UH7IY3aBml-"
      },
      "source": [
        "## TODO: Your Project Goes Here"
      ]
    },
    {
      "cell_type": "code",
      "execution_count": null,
      "metadata": {
        "id": "fBlEztj4ZqqN"
      },
      "outputs": [],
      "source": []
    },
    {
      "cell_type": "markdown",
      "metadata": {
        "id": "jjIIXwV2HYFT"
      },
      "source": [
        "## Conclusions\n",
        "\n",
        "The below code is for marking purpuses only, and not part of your project. It helps us gather the data we need without asking you for database credentials, and scouring github pages. This is mandatory. If the code does not work for you, let us know immediately."
      ]
    },
    {
      "cell_type": "markdown",
      "metadata": {
        "id": "9ccS8vrjHbh3"
      },
      "source": [
        "1) Please re-run the code from Practical 1 to help us see the contents of your database. We recommend you include all data sources there, but some smaller inputs are fine to use as files."
      ]
    },
    {
      "cell_type": "code",
      "execution_count": 3,
      "metadata": {
        "id": "XNLYfO92HZ_G"
      },
      "outputs": [
        {
          "name": "stderr",
          "output_type": "stream",
          "text": [
            "UsageError: Line magic function `%sql` not found.\n"
          ]
        }
      ],
      "source": [
        "tables = %sql SHOW TABLES;\n",
        "\n",
        "for row in tables:\n",
        "    table_name = row[0]\n",
        "    print(f\"\\nTable: {table_name}\")\n",
        "\n",
        "    table_status = %sql SHOW TABLE STATUS LIKE '{table_name}';\n",
        "    approx_row_count = table_status[0][4] if table_status else 'Unable to fetch row count'\n",
        "    print(\"\\nApprox Row Count:\", approx_row_count//100000/10, \"M\")\n",
        "\n",
        "    first_5_rows = %sql SELECT * FROM `{table_name}` LIMIT 5;\n",
        "    print(first_5_rows)\n",
        "\n",
        "    indices = %sql SHOW INDEX FROM `{table_name}`;\n",
        "    if indices:\n",
        "        print(\"\\nIndices:\")\n",
        "        for index in indices:\n",
        "            print(f\" - {index[2]} ({index[10]}): Column {index[4]}\")\n",
        "    else:\n",
        "        print(\"\\nNo indices set on this table.\")"
      ]
    },
    {
      "cell_type": "markdown",
      "metadata": {
        "id": "E8r6UgTsHmms"
      },
      "source": [
        "2) Please paste a link to your fynesse library below, and make sure it's publically accessible. Also run the code below, and make sure it worked, printing out the contents of your library."
      ]
    },
    {
      "cell_type": "code",
      "execution_count": 5,
      "metadata": {
        "id": "CqbzdvzhJTMN"
      },
      "outputs": [],
      "source": [
        "fynesse_url = 'https://github.com/sdenyskov/sd995_ads_2024.git' # '<your-url-library-here>'"
      ]
    },
    {
      "cell_type": "code",
      "execution_count": null,
      "metadata": {
        "id": "2h-g3gEhHq0b"
      },
      "outputs": [],
      "source": [
        "import fynesse\n",
        "import os\n",
        "\n",
        "print('FYNESSE STRUCTURE:')\n",
        "package_path = os.path.dirname(fynesse.__file__)\n",
        "for root, dirs, files in os.walk(package_path):\n",
        "    level = root.replace(package_path, '').count(os.sep)\n",
        "    indent = ' ' * 4 * level\n",
        "    print(f\"{indent}{os.path.basename(root)}/\")\n",
        "    sub_indent = ' ' * 4 * (level + 1)\n",
        "    for f in files:\n",
        "        print(f\"{sub_indent}{f}\")\n",
        "\n",
        "print('FILE CONTENTS')\n",
        "for root, dirs, files in os.walk(package_path):\n",
        "    for file in files:\n",
        "        file_path = os.path.join(root, file)\n",
        "        print(f\"--- Contents of {file_path} ---\\n\")\n",
        "        try:\n",
        "            with open(file_path, \"r\", encoding=\"utf-8\") as f:\n",
        "                print(f.read())\n",
        "        except Exception as e:\n",
        "            print(f\"Could not read {file_path}: {e}\")\n",
        "        print(\"\\n\" + \"-\" * 50 + \"\\n\")"
      ]
    }
  ],
  "metadata": {
    "colab": {
      "provenance": []
    },
    "kernelspec": {
      "display_name": "Python 3",
      "name": "python3"
    },
    "language_info": {
      "codemirror_mode": {
        "name": "ipython",
        "version": 3
      },
      "file_extension": ".py",
      "mimetype": "text/x-python",
      "name": "python",
      "nbconvert_exporter": "python",
      "pygments_lexer": "ipython3",
      "version": "3.10.6"
    }
  },
  "nbformat": 4,
  "nbformat_minor": 0
}

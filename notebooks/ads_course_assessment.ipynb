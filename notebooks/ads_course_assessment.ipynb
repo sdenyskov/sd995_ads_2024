{
  "cells": [
    {
      "cell_type": "markdown",
      "metadata": {
        "id": "-tbzTphJeGlW"
      },
      "source": [
        "# Assessment for Advanced Data Science\n",
        "# *Data Pipelines*"
      ]
    },
    {
      "cell_type": "markdown",
      "metadata": {
        "id": "vVm3IV8eZPdE"
      },
      "source": [
        "## Radzim Sendyka, Christian Cabrera, Carl Henrik Ek and Neil D. Lawrence\n",
        "\n",
        "### 19 November 2024"
      ]
    },
    {
      "cell_type": "markdown",
      "metadata": {
        "id": "Evaf5gdVnE0s"
      },
      "source": [
        "Welcome to the course assessment for the Advanced Data Science unit. In this assessment, you will build two data pipelines and prediction systems.\n",
        "\n",
        "The maximum total mark for this assessment is 20. That mark is split into two miniprojects below.\n",
        "- The first miniproject is worth 7 marks.\n",
        "- The second miniproject is worth 13 marks.\n",
        "\n",
        "*The check Session for this Assessment is 03 December 2024.*"
      ]
    },
    {
      "cell_type": "markdown",
      "metadata": {
        "id": "R_gVPt8Nndjn"
      },
      "source": [
        "# Task 1 (7 marks)"
      ]
    },
    {
      "cell_type": "markdown",
      "metadata": {
        "id": "2yaFil7l34HD"
      },
      "source": [
        "This example project builds on your experience from the practicals, using Open Street Maps, and connecting them to real-world datasets.\n",
        "\n",
        "Your prediction system will be based on data from the 2021 UK Census, and Open Street Maps."
      ]
    },
    {
      "cell_type": "markdown",
      "metadata": {},
      "source": [
        "### Build a data pipeline and prediction system"
      ]
    },
    {
      "cell_type": "markdown",
      "metadata": {
        "id": "jVnzIgd3ZWt0"
      },
      "source": [
        "Structure your system around the [Access-Assess-Address](https://inverseprobability.com/talks/notes/access-assess-address-a-pipeline-for-automated-data-science.html) framework for automated data science.\n",
        "Use the framework of [Data Readiness Levels](https://inverseprobability.com/publications/data-readiness-levels.html) to track the state of your datasets throughout the process.\n",
        "Visualise your data and predictions using appropriate charts and graphics.\n",
        "Remember, your notebook should tell a story.\n",
        "\n",
        "1.1. Download the data from online sources. In this task you will need:\n",
        "  - UK Census Data\n",
        "    - The UK Census data file for and Socio-economic Classification (NS SEC) [here](https://www.ons.gov.uk/datasets/TS062/editions/2021/versions/5) or [here](https://www.nomisweb.co.uk/sources/census_2021_bulk). Use the most detailed area type (Output Areas).\n",
        "    - One other UK Census data file of your choosing [here](https://www.ons.gov.uk/search?topics=9731,6646,3845,9497,4262,4128,7755,4994,6885,9724,7367&filter=datasets) or [here](https://www.nomisweb.co.uk/sources/census_2021_bulk). Use the most detailed area type available.\n",
        "    - Geographic coordinates of Census Output Areas [here](https://www.data.gov.uk/dataset/4d4e021d-fe98-4a0e-88e2-3ead84538537/output-areas-december-2021-boundaries-ew-bgc-v2).\n",
        "  - Spatial data\n",
        "    - Set up an API connection to Open Street Maps [here](https://osmnx.readthedocs.io/en/stable/). Optionally, to be able to use more data in training, you might want to also download the entire map for England (or more) [here](https://download.openstreetmap.fr/extracts/) or [here](https://wiki.openstreetmap.org/wiki/Planet.osm).\n",
        "\n",
        "1.2. Structure the data, and upload it to your AWS database.\n",
        "\n",
        "- Census datasets can be huge and unwieldy to manipulate directly in python frameworks such as pandas. As a result we will host the data in a relational database.\n",
        "\n",
        "- Using a cloud hosted database (such as MariaDB hosted on the AWS RDS service),  you will construct a database containing tables that contain per-output-area data, latitudes and longitudes of the output areas, and potentially, extracted selected open street maps features from the country-wide data file.\n",
        "\n",
        "- Make sure you set the correct indices on your data, which will allow your code to run much faster. Hint: create an index on any columns you will be looking up, and joint indices if your lookup involves multiple columns (like coordinates).\n",
        "\n",
        "You will likely find the following resources helpful.\n",
        "\n",
        "- Lecture 1, 2 and 3.\n",
        "- Lab class 1 and 2.\n",
        "\n",
        "\n",
        "- *Note, this particular dataset could probably be handled directly in pandas, but you are explicitly tasked with using a database. This is a compromise from previous iterations of this course, where students spent quite a lot of time struggling from the size of the data. This is an opportunity for you to demonstrate your skills, as well as prepare for the second part of the assessment where databases might be necessary. Approach that do not use databases where needed will be penalised during marking.*\n",
        "\n",
        "\n",
        "2.0. Explore the data.\n",
        "\n",
        "  - To make predictions you will augment your data with information obtained from Open Street Map: an open license source of mapping information. You will need to use the techniques you have learnt in the course to indentify and incorporate useful features for your prediction tasks.\n",
        "  - Look at the percentage of students (NS SEC code L15) in the individual output areas, and explore how it's related to various types of open street map features in those locations. Use the relationships you found to suggest the features to be used in a system that predicts percentage of students in a given area.\n",
        "  - Do the same for an additional census variable (e.g., the average age in a given area).\n",
        "\n",
        "3.0. Make a prediction system.\n",
        "- Use Open Street Maps to predict Socio-Economic Status - in particular, the percent of full time students, from OSM features. Your function should take as input a coordinate pair (you can assume it will be in England), and return an estimate for the share of students in that area.\n",
        "\n",
        "- Do the same for the additional census variable you selected in the previous step.\n",
        "\n",
        "Hints:\n",
        "\n",
        "  - *Some of the census data sheets are very detailed. You might want to try \"boiling them down\" to some aggregate value or selecting just the most important columns.*\n",
        "\n",
        "  - *This assignment is focused on data pipelines, rather than machine learning, so we do not expect any advanced architectures here - a linear model or similar is perfectly fine.*\n",
        "  \n",
        "  - *For data exploration, or picking your second dataset, you may find useful the [interactive map](https://www.ons.gov.uk/census/maps/) of the census data.*"
      ]
    },
    {
      "cell_type": "markdown",
      "metadata": {},
      "source": [
        "### Story"
      ]
    },
    {
      "cell_type": "markdown",
      "metadata": {
        "id": "VAfdUurg4JhM"
      },
      "source": [
        "- Remember the notebook you create should tell a story, any code that is not critical to that story can safely be placed into the associated analysis library and imported for use (structured as given in the Fynesse template). Make sure your decisions are well substanciated and flow nicely throughout the notebook, with clear explanations.\n",
        "\n",
        "- Explain everything you do. Why is your question important, why you selected the datasets you did, why did you join them how you did, why did you look at the things you looked at.\n",
        "\n",
        "Make sure in your notebook you discuss the design decisions you made in your pipeline and prediction system. How did you structure your notebook? How did you track data readiness? Which aspects of your system could be improved further?\n",
        "\n",
        "Make sure you compare how you predict student population and your second chosen property. What differences are there, in the underlying data, process, and results?\n",
        "\n",
        "Make sure you discuss the reusability of your data pipeline and prediction system. What changes to the underlying data/system is it resilient to, and what isn't it? What work would need to be done to adjust it to answer questions about other statistics, or a different country, instead?"
      ]
    },
    {
      "cell_type": "markdown",
      "metadata": {
        "id": "VN8V5rhV4CNW"
      },
      "source": [
        "### Fynesse library"
      ]
    },
    {
      "cell_type": "markdown",
      "metadata": {},
      "source": [
        "- Alongside your implementation you will provide a short repository overview describing how you have implemented the different parts of the project and where you have placed those parts in your code repository. You will submit your code alongside a version of this notebook that will allow your examiner to understand and reconstruct the thinking behind your analysis. This notebook is structured to help you in creating that description and allow you to understand how we will allocate the marks. You should make use of the Fynesse framework (https://github.com/lawrennd/fynesse_template) for structuring your code.\n",
        "\n",
        "- One artefact to be included in your submission is a python library structured according to the \"Access, Assess, Address\" standard for data science solutions. You will submit this library alongside your code. Use the cell below to perform the necessary installation instructions for your library.\n",
        "You should base your module on the template repository given by the Fynesse template repository. That should make it pip-installable as below.\n",
        "`%pip install git+https://github.com/lawrennd/fynesse_template.git`. You can either replace fynesse with the name you've given your analysis module or you can leave the name as fynesse if you prefer.\n",
        "\n",
        "- Remember the notebook you create should tell a story, any code that is not critical to that story can safely be placed into the associated analysis library and imported for use (structured as given in the Fynesse template). Remember to include you fynesse library in your submission."
      ]
    },
    {
      "cell_type": "markdown",
      "metadata": {},
      "source": [
        "## Installs and imports"
      ]
    },
    {
      "cell_type": "code",
      "execution_count": 619,
      "metadata": {},
      "outputs": [],
      "source": [
        "import subprocess\n",
        "import glob\n",
        "import warnings\n",
        "import os\n",
        "import csv\n",
        "import zipfile\n",
        "import random\n",
        "import numpy as np\n",
        "import pandas as pd\n",
        "import geopandas as gpd\n",
        "import matplotlib.pyplot as plt\n",
        "import statsmodels.api as sm\n",
        "from pyproj import Proj, transform\n",
        "from sklearn.model_selection import KFold\n",
        "from sklearn.metrics import mean_squared_error, r2_score"
      ]
    },
    {
      "cell_type": "markdown",
      "metadata": {},
      "source": [
        "Let's start with installing, importing, and checking contents of fynesse library:"
      ]
    },
    {
      "cell_type": "code",
      "execution_count": null,
      "metadata": {},
      "outputs": [],
      "source": [
        "%pip uninstall --yes fynesse\n",
        "%pip install git+https://github.com/sdenyskov/sd995_ads_2024.git"
      ]
    },
    {
      "cell_type": "code",
      "execution_count": 554,
      "metadata": {},
      "outputs": [],
      "source": [
        "import fynesse"
      ]
    },
    {
      "cell_type": "markdown",
      "metadata": {
        "id": "s6_rVCxjnzLB"
      },
      "source": [
        "## Access"
      ]
    },
    {
      "cell_type": "markdown",
      "metadata": {},
      "source": [
        "We will download needed data from online sources and upload it to the database. Datasets that we are going to use can be huge and unwieldy to manipulate directly in python frameworks such as pandas. Therefore, we will host the data in a cloud hosted relational database (such as MariaDB hosted on the AWS RDS service).\n",
        "\n",
        "Now let's structure the data and upload it to our AWS database.\n",
        "\n",
        "We will construct tables that contain per-output-area data, latitudes and longitudes of the output areas, (and potentially, extracted selected open street maps features from the country-wide data file)."
      ]
    },
    {
      "cell_type": "code",
      "execution_count": 1494,
      "metadata": {},
      "outputs": [
        {
          "name": "stdout",
          "output_type": "stream",
          "text": [
            "Connection established!\n"
          ]
        }
      ],
      "source": [
        "conn = fynesse.access.create_connection()"
      ]
    },
    {
      "cell_type": "markdown",
      "metadata": {},
      "source": [
        "### Census Data"
      ]
    },
    {
      "cell_type": "markdown",
      "metadata": {},
      "source": [
        "- UK Census data file for and Socio-economic Classification (NS SEC) - we will use the most detailed area type (Output Areas).\n",
        "- One other UK Census data file of our choosing - we will use Migrant Indicator - we will use the most detailed area type (Output Areas).\n",
        "- Geographic coordinates of Census Output Areas - two types."
      ]
    },
    {
      "cell_type": "code",
      "execution_count": null,
      "metadata": {},
      "outputs": [],
      "source": [
        "fynesse.access.download_census_data('TS062')\n",
        "\n",
        "fynesse.access.download_census_data('TS019')\n",
        "\n",
        "fynesse.access.download_data_csv(['https://open-geography-portalx-ons.hub.arcgis.com/api/download/v1/items/6beafcfd9b9c4c9993a06b6b199d7e6d/csv?layers=0'], ['uk_oa_list.csv'])\n",
        "\n",
        "url = \"https://open-geography-portalx-ons.hub.arcgis.com/api/download/v1/items/6beafcfd9b9c4c9993a06b6b199d7e6d/shapefile?layers=0\"\n",
        "zip_file_path = \"uk_oa_with_borders.zip\"\n",
        "extraction_folder = \"uk_oa_with_borders\"\n",
        "fynesse.access.download_and_extract_zip(url, zip_file_path, extraction_folder)\n",
        "gdf_oa_boundaries_2021 = gpd.read_file('uk_oa_with_borders/OA_2021_EW_BGC_V2.shp')\n",
        "fynesse.access.df_to_csv(gdf_oa_boundaries_2021, \"uk_oa_with_boundaries.csv\")"
      ]
    },
    {
      "cell_type": "code",
      "execution_count": 280,
      "metadata": {},
      "outputs": [
        {
          "name": "stdout",
          "output_type": "stream",
          "text": [
            "Loading data into the table\n",
            "Data loaded into the table data_oa\n",
            "Loading data into the table\n",
            "Data loaded into the table data_oa_with_boundaries\n"
          ]
        },
        {
          "data": {
            "text/plain": [
              "[]"
            ]
          },
          "execution_count": 280,
          "metadata": {},
          "output_type": "execute_result"
        }
      ],
      "source": [
        "query_create_data_oa = \"\"\"\n",
        "CREATE TABLE IF NOT EXISTS `data_oa` (\n",
        "  `FID` int unsigned NOT NULL,\n",
        "  `OA21CD` varchar(9) COLLATE utf8_bin NOT NULL,\n",
        "  `LSOA21CD` varchar(9) COLLATE utf8_bin NOT NULL,\n",
        "  `LSOA21NM` tinytext COLLATE utf8_bin NOT NULL,\n",
        "  `LSOA21NMW` tinytext COLLATE utf8_bin NOT NULL,\n",
        "  `BNG_E` int unsigned NOT NULL,\n",
        "  `BNG_N` int unsigned NOT NULL,\n",
        "  `LAT` float NOT NULL,\n",
        "  `LON` float NOT NULL,\n",
        "  `ShapeArea` float NOT NULL,\n",
        "  `ShapeLength` float NOT NULL,\n",
        "  `GlobalID` tinytext COLLATE utf8_bin NOT NULL,\n",
        "  `db_id` bigint(20) unsigned NOT NULL AUTO_INCREMENT,\n",
        "  PRIMARY KEY (`db_id`)\n",
        ") DEFAULT CHARSET=utf8 COLLATE=utf8_bin AUTO_INCREMENT=1;\"\"\"\n",
        "\n",
        "fynesse.assess.execute_query(conn, query_create_data_oa)\n",
        "\n",
        "fynesse.access.csv_to_db(conn, 'uk_oa_list.csv', 'data_oa', ignore_first_row=True)\n",
        "\n",
        "fynesse.assess.create_single_index(conn, 'idx_oa', 'data_oa', 'OA21CD')\n",
        "\n",
        "query_create_data_oa_with_boundaries = \"\"\"\n",
        "CREATE TABLE IF NOT EXISTS `data_oa_with_boundaries` (\n",
        "  `OA21CD` varchar(9) COLLATE utf8_bin NOT NULL,\n",
        "  `LSOA21CD` varchar(9) COLLATE utf8_bin NOT NULL,\n",
        "  `LSOA21NM` tinytext COLLATE utf8_bin NOT NULL,\n",
        "  `LSOA21NMW` tinytext COLLATE utf8_bin NOT NULL,\n",
        "  `BNG_E` int unsigned NOT NULL,\n",
        "  `BNG_N` int unsigned NOT NULL,\n",
        "  `LAT` float NOT NULL,\n",
        "  `LON` float NOT NULL,\n",
        "  `GlobalID` tinytext COLLATE utf8_bin NOT NULL,\n",
        "  `Geometry` text COLLATE utf8_bin NOT NULL,\n",
        "  `db_id` bigint(20) unsigned NOT NULL AUTO_INCREMENT,\n",
        "  PRIMARY KEY (`db_id`)\n",
        ") DEFAULT CHARSET=utf8 COLLATE=utf8_bin AUTO_INCREMENT=1;\"\"\"\n",
        "\n",
        "fynesse.assess.execute_query(conn, query_create_data_oa_with_boundaries)\n",
        "\n",
        "fynesse.access.csv_to_db(conn, 'uk_oa_with_boundaries.csv', 'data_oa_with_boundaries', ignore_first_row=True)\n",
        "\n",
        "fynesse.assess.create_single_index(conn, 'idx_oa', 'data_oa_with_boundaries', 'OA21CD')\n",
        "\n",
        "query_create_oa_data = \"\"\"\n",
        "CREATE TABLE oa_data AS\n",
        "SELECT \n",
        "    data_oa.*,\n",
        "    data_oa_with_boundaries.geometry AS geometry_string_ne\n",
        "FROM \n",
        "    data_oa \n",
        "    JOIN data_oa_with_boundaries \n",
        "    ON data_oa.OA21CD = data_oa_with_boundaries.OA21CD;\n",
        "\"\"\"\n",
        "\n",
        "fynesse.assess.execute_query(conn, query_create_oa_data)\n",
        "\n",
        "fynesse.assess.execute_query(conn, \"ALTER TABLE oa_data ADD PRIMARY KEY (FID);\")\n",
        "\n",
        "fynesse.assess.execute_query(conn, \"DROP TABLE data_oa;\")\n",
        "fynesse.assess.execute_query(conn, \"DROP TABLE data_oa_with_boundaries;\")"
      ]
    },
    {
      "cell_type": "code",
      "execution_count": null,
      "metadata": {},
      "outputs": [],
      "source": [
        "query_create_census_data_nssec = \"\"\"\n",
        "CREATE TABLE IF NOT EXISTS `census_data_nssec` (\n",
        "  `date` int unsigned NOT NULL,\n",
        "  `geography` varchar(9) COLLATE utf8_bin NOT NULL,\n",
        "  `geography_code` varchar(9) COLLATE utf8_bin NOT NULL,\n",
        "  `NSSEC_Total` int unsigned,\n",
        "  `NSSEC_L1_L2_L3` int unsigned,\n",
        "  `NSSEC_L4_L5_L6` int unsigned,\n",
        "  `NSSEC_L7` int unsigned,\n",
        "  `NSSEC_L8_L9` int unsigned,\n",
        "  `NSSEC_L10_L11` int unsigned,\n",
        "  `NSSEC_L12` int unsigned,\n",
        "  `NSSEC_L13` int unsigned,\n",
        "  `NSSEC_L14` int unsigned,\n",
        "  `NSSEC_L15` int unsigned,\n",
        "  `db_id` bigint(20) unsigned NOT NULL AUTO_INCREMENT,\n",
        "  PRIMARY KEY (`db_id`)\n",
        ") DEFAULT CHARSET=utf8 COLLATE=utf8_bin AUTO_INCREMENT=1;\"\"\"\n",
        "\n",
        "fynesse.assess.execute_query(conn, query_create_census_data_nssec)\n",
        "\n",
        "fynesse.access.csv_to_db(conn, 'census2021-ts062/census2021-ts062-oa.csv', 'census_data_nssec', ignore_first_row=True)\n",
        "\n",
        "fynesse.assess.create_single_index(conn, 'idx_geography', 'census_data_nssec', 'geography')\n",
        "\n",
        "query_create_census_data_mi = \"\"\"\n",
        "CREATE TABLE IF NOT EXISTS `census_data_mi` (\n",
        "  `date` int unsigned NOT NULL,\n",
        "  `geography` varchar(9) COLLATE utf8_bin NOT NULL,\n",
        "  `geography_code` varchar(9) COLLATE utf8_bin NOT NULL,\n",
        "  `MI_Total` int unsigned,\n",
        "  `MI_AddrYearAgoSameInUK` int unsigned,\n",
        "  `MI_AddrYearAgoStudentInUK` int unsigned,\n",
        "  `MI_AddrYearAgoInUK` int unsigned,\n",
        "  `MI_AddrYearAgoOutUK` int unsigned,\n",
        "  `db_id` bigint(20) unsigned NOT NULL AUTO_INCREMENT,\n",
        "  PRIMARY KEY (`db_id`)\n",
        ") DEFAULT CHARSET=utf8 COLLATE=utf8_bin AUTO_INCREMENT=1;\"\"\"\n",
        "\n",
        "fynesse.assess.execute_query(conn, query_create_census_data_mi)\n",
        "\n",
        "fynesse.access.csv_to_db(conn, 'census2021-ts019/census2021-ts019-oa.csv', 'census_data_mi', ignore_first_row=True)\n",
        "\n",
        "fynesse.assess.create_single_index(conn, 'idx_geography', 'census_data_mi', 'geography')\n",
        "\n",
        "query_create_census_data_1 = \"\"\"\n",
        "CREATE TABLE census_data_1 AS\n",
        "SELECT \n",
        "    census_data_nssec.*, \n",
        "    census_data_mi.MI_Total, \n",
        "    census_data_mi.MI_AddrYearAgoSameInUK, \n",
        "    census_data_mi.MI_AddrYearAgoStudentInUK, \n",
        "    census_data_mi.MI_AddrYearAgoInUK, \n",
        "    census_data_mi.MI_AddrYearAgoOutUK \n",
        "FROM \n",
        "    census_data_nssec \n",
        "    JOIN census_data_mi \n",
        "    ON census_data_nssec.geography = census_data_mi.geography;\n",
        "\"\"\"\n",
        "\n",
        "fynesse.assess.execute_query(conn, query_create_census_data_1)\n",
        "\n",
        "fynesse.assess.execute_query(conn, \"DROP TABLE census_data_nssec;\")\n",
        "\n",
        "fynesse.assess.execute_query(conn, \"DROP TABLE census_data_mi;\")"
      ]
    },
    {
      "cell_type": "markdown",
      "metadata": {},
      "source": [
        "### Spatial data"
      ]
    },
    {
      "cell_type": "markdown",
      "metadata": {},
      "source": [
        "We will also need to get spatial data - we will get it using Open Street Maps."
      ]
    },
    {
      "cell_type": "code",
      "execution_count": 33,
      "metadata": {},
      "outputs": [],
      "source": [
        "features_df = [\n",
        " 'geometry',\n",
        " 'ways',\n",
        " 'nodes',\n",
        " 'type',\n",
        " 'addr:country',\n",
        " 'addr:postcode',\n",
        " 'addr:street',\n",
        " 'addr:housenumber',\n",
        " 'addr:city',\n",
        " 'addr:housename',\n",
        " 'addr:place',\n",
        "\n",
        " 'name',\n",
        " 'alt_name',\n",
        " 'old_name',\n",
        " 'nohousenumber',\n",
        " 'note',\n",
        "\n",
        " 'disused',\n",
        " 'height',\n",
        "\n",
        " 'amenity',\n",
        " 'tourism',\n",
        " 'brand',\n",
        " 'leisure',\n",
        " 'cuisine',\n",
        " 'emergency',\n",
        " 'historic',\n",
        " 'sport',\n",
        " 'shop',\n",
        " 'religion',\n",
        " 'power',\n",
        " 'military',\n",
        "\n",
        " 'house',\n",
        " 'building',\n",
        " 'building:material',\n",
        " 'building:levels',\n",
        " 'internet_access',\n",
        "\n",
        " 'capacity',\n",
        " 'roof:levels',\n",
        " 'roof:shape'\n",
        " 'fee',\n",
        " 'man_made',\n",
        " 'denomination',\n",
        " 'layer']\n",
        "\n",
        "features_db = ['element_type', 'osmid'] + features_df"
      ]
    },
    {
      "cell_type": "code",
      "execution_count": null,
      "metadata": {},
      "outputs": [],
      "source": [
        "ew_bounds = {\"north\": 55.8, \"south\": 49.8, \"east\": 2.0, \"west\": -7.0}\n",
        "\n",
        "west = -7.0\n",
        "south = 49.8\n",
        "step = 0.5\n",
        "tags = {\"building\": True}\n",
        "\n",
        "for i in range(5, 12):\n",
        "    for j in range(0, 18):\n",
        "        if i == 3 and (j == 13 or j == 14):\n",
        "            continue # Greater London has to be processed separately\n",
        "        file_name = f'osm_uk_{i}_{j}.csv'\n",
        "        print(f'Getting dataframe to form {file_name}')\n",
        "        bounds = (south + step * (i + 1), south + step * i, west + step * (j + 1), west + step * j)\n",
        "        try:\n",
        "            df = fynesse.access.get_all_buildings_from_osm_by_bounds(bounds, tags)\n",
        "            for feature in features_df:\n",
        "                if feature not in df.columns:\n",
        "                    df[feature] = None\n",
        "            df = df[features_df]\n",
        "            df.to_csv(\"./\" + file_name, index=True, header=True)\n",
        "            print(f'{file_name} has been formed successfully')\n",
        "        except Exception as e:\n",
        "            print(f'{file_name} has not been created due to error \"{e}\"')"
      ]
    },
    {
      "cell_type": "code",
      "execution_count": null,
      "metadata": {},
      "outputs": [],
      "source": [
        "gl_bounds = {\"north\": 51.8, \"south\": 51.3, \"east\": 0.5, \"west\": -0.5}\n",
        "\n",
        "west = -0.5\n",
        "south = 51.3\n",
        "step = 0.25\n",
        "tags = {\"building\": True}\n",
        "\n",
        "for i in range(0, 2):\n",
        "    for j in range(0, 4):\n",
        "        file_name = f'osm_uk_gl_{i}_{j}.csv'\n",
        "        print(f'Getting dataframe to form {file_name}')\n",
        "        bounds = (south + step * (i + 1), south + step * i, west + step * (j + 1), west + step * j)\n",
        "        try:\n",
        "            df = fynesse.access.get_all_buildings_from_osm_by_bounds(bounds, tags)\n",
        "            for feature in features_df:\n",
        "                if feature not in df.columns:\n",
        "                    df[feature] = None\n",
        "            df = df[features_df]\n",
        "            df.to_csv(\"./\" + file_name, index=True, header=True)\n",
        "            print(f'{file_name} has been formed successfully')\n",
        "        except Exception as e:\n",
        "            print(f'{file_name} has not been created due to error \"{e}\"')"
      ]
    },
    {
      "cell_type": "markdown",
      "metadata": {},
      "source": [
        "Let's check row count in uploaded files:"
      ]
    },
    {
      "cell_type": "code",
      "execution_count": 1258,
      "metadata": {},
      "outputs": [
        {
          "name": "stdout",
          "output_type": "stream",
          "text": [
            "Files used_osm_uk_data/osm_uk_*.csv has 15453992 rows in total\n"
          ]
        }
      ],
      "source": [
        "file_pattern = \"used_osm_uk_data/osm_uk_*.csv\"\n",
        "file_list = glob.glob(file_pattern)\n",
        "file_list.sort()\n",
        "\n",
        "rows = 0\n",
        "\n",
        "for file_name in file_list:\n",
        "    try:\n",
        "        result = subprocess.run(['wc', '-l', file_name], capture_output=True, text=True)\n",
        "        row_count = int(result.stdout.split()[0]) - 1\n",
        "        rows += row_count\n",
        "    except Exception as e:\n",
        "        print(f'Error processing {file_name}: {e}')\n",
        "\n",
        "print(f'Files {file_pattern} have {rows} rows in total')"
      ]
    },
    {
      "cell_type": "markdown",
      "metadata": {},
      "source": [
        "Let's apply basic filter to OSM data - we are going to select only data with valid postcode. While this is not absolutely necessary, it might simplify operations in the future, and it also helps to decrease the size of the dataset."
      ]
    },
    {
      "cell_type": "code",
      "execution_count": null,
      "metadata": {},
      "outputs": [],
      "source": [
        "file_pattern = \"used_osm_uk_data/osm_uk_*.csv\"\n",
        "file_list = glob.glob(file_pattern)\n",
        "file_list.sort()\n",
        "\n",
        "total_rows_with_postcode = 0\n",
        "output_file = \"osm_uk_valid_data.csv\"\n",
        "header = True\n",
        "\n",
        "for file_name in file_list:\n",
        "    df = pd.read_csv(file_name)\n",
        "    df_with_postcode = df[(df[[\"addr:postcode\"]].notnull().any(axis=1))]\n",
        "    total_rows_with_postcode += len(df_with_postcode)\n",
        "    df_with_postcode.to_csv(output_file, mode ='a', index=False, header=header)\n",
        "    header = False\n",
        "    print(file_name + \" has been processed.\")\n",
        "\n",
        "print(\"Rows with 'postcode' field not empty:\", total_rows_with_postcode)"
      ]
    },
    {
      "cell_type": "markdown",
      "metadata": {},
      "source": [
        "We ended up with 2.5M rows."
      ]
    },
    {
      "cell_type": "code",
      "execution_count": 1259,
      "metadata": {},
      "outputs": [
        {
          "name": "stdout",
          "output_type": "stream",
          "text": [
            "File osm_uk_valid_data.csv has 2546212 rows\n"
          ]
        }
      ],
      "source": [
        "file_name = \"osm_uk_valid_data.csv\"\n",
        "result = subprocess.run(['wc', '-l', file_name], capture_output=True, text=True)\n",
        "row_count = int(result.stdout.split()[0]) - 1\n",
        "print(f'File {file_name} has {row_count} rows')"
      ]
    },
    {
      "cell_type": "code",
      "execution_count": 1492,
      "metadata": {},
      "outputs": [
        {
          "name": "stdout",
          "output_type": "stream",
          "text": [
            "Loading data into the table\n",
            "Data loaded into the table osm_data_temp\n"
          ]
        }
      ],
      "source": [
        "features_db = [feature.replace(\":\", \"_\") for feature in features_db]\n",
        "\n",
        "query_create_osm_data_temp = \"\"\"\n",
        "CREATE TABLE IF NOT EXISTS `osm_data_temp` (\n",
        "\"\"\"\n",
        "\n",
        "rows = [f'  `{features_db[i]}` text COLLATE utf8_bin NOT NULL,\\n' for i in range(len(features_db))]\n",
        "rows[1] = f'  `{features_db[1]}` int unsigned NOT NULL,\\n'\n",
        "rows[2] = f'  `geometry_string` text COLLATE utf8_bin NOT NULL,\\n'\n",
        "for row in rows:\n",
        "  query_create_osm_data_temp += row\n",
        "\n",
        "query_create_osm_data_temp += \"\"\"  `db_id` bigint(20) unsigned NOT NULL AUTO_INCREMENT,\n",
        "  PRIMARY KEY (`db_id`)\n",
        ") DEFAULT CHARSET=utf8 COLLATE=utf8_bin AUTO_INCREMENT=1;\"\"\"\n",
        "\n",
        "fynesse.assess.execute_query(conn, query_create_osm_data_temp)\n",
        "\n",
        "fynesse.access.csv_to_db(conn, 'osm_uk_valid_data.csv', 'osm_data', ignore_first_row=True)"
      ]
    },
    {
      "cell_type": "code",
      "execution_count": 289,
      "metadata": {},
      "outputs": [
        {
          "data": {
            "text/plain": [
              "[]"
            ]
          },
          "execution_count": 289,
          "metadata": {},
          "output_type": "execute_result"
        }
      ],
      "source": [
        "fynesse.assess.execute_query(conn, \"ALTER TABLE osm_data RENAME COLUMN geometry_string TO geometry_string_ll;\")"
      ]
    },
    {
      "cell_type": "markdown",
      "metadata": {},
      "source": [
        "### Indexing data"
      ]
    },
    {
      "cell_type": "markdown",
      "metadata": {},
      "source": [
        "We have to make sure that we set the correct indices on our data, as this will allow our code to run much faster. The best way to do that is to create an index on any column we will be looking up, and joint indices if our lookup involves multiple columns (like coordinates)."
      ]
    },
    {
      "cell_type": "code",
      "execution_count": 1336,
      "metadata": {},
      "outputs": [
        {
          "data": {
            "text/plain": [
              "[]"
            ]
          },
          "execution_count": 1336,
          "metadata": {},
          "output_type": "execute_result"
        }
      ],
      "source": [
        "fynesse.assess.create_single_index(conn, 'idx_geography', 'census_data_1', 'geography')\n",
        "fynesse.assess.create_single_index(conn, 'idx_geography_code', 'census_data_1', 'geography_code')"
      ]
    },
    {
      "cell_type": "code",
      "execution_count": 292,
      "metadata": {},
      "outputs": [
        {
          "data": {
            "text/plain": [
              "[]"
            ]
          },
          "execution_count": 292,
          "metadata": {},
          "output_type": "execute_result"
        }
      ],
      "source": [
        "fynesse.assess.create_single_index(conn, 'idx_oa', 'oa_data', 'OA21CD')\n",
        "fynesse.assess.create_single_index(conn, 'idx_lsoa', 'oa_data', 'LSOA21CD')\n",
        "fynesse.assess.create_multiple_index(conn, 'idx_lat_lon_btree', 'oa_data', ['LAT', 'LON'])"
      ]
    },
    {
      "cell_type": "code",
      "execution_count": 412,
      "metadata": {},
      "outputs": [
        {
          "data": {
            "text/plain": [
              "[]"
            ]
          },
          "execution_count": 412,
          "metadata": {},
          "output_type": "execute_result"
        }
      ],
      "source": [
        "fynesse.assess.create_single_index(conn, 'idx_postcode', 'osm_data', 'addr_postcode')"
      ]
    },
    {
      "cell_type": "markdown",
      "metadata": {},
      "source": [
        "As it's not always possible to predict which columns have to be indexed, we might return to this later in the project. This is an example of the situation when we have to alternate between the parts of our fynesse framework in order to run our project smoothly."
      ]
    },
    {
      "cell_type": "markdown",
      "metadata": {},
      "source": [
        "### Summary on access"
      ]
    },
    {
      "cell_type": "code",
      "execution_count": null,
      "metadata": {},
      "outputs": [],
      "source": [
        "fynesse.assess.get_summary_on_db(conn)"
      ]
    },
    {
      "cell_type": "code",
      "execution_count": null,
      "metadata": {},
      "outputs": [],
      "source": [
        "\"\"\"\n",
        "\n",
        "Table census_data_1 - Approx Row Count 0.1M\n",
        "('date', 'geography', 'geography_code', 'NSSEC_Total', 'NSSEC_L1_L2_L3', 'NSSEC_L4_L5_L6', 'NSSEC_L7', 'NSSEC_L8_L9', 'NSSEC_L10_L11', 'NSSEC_L12', 'NSSEC_L13', 'NSSEC_L14', 'NSSEC_L15', 'db_id', 'MI_Total', 'MI_AddrYearAgoSameInUK', 'MI_AddrYearAgoStudentInUK', 'MI_AddrYearAgoInUK', 'MI_AddrYearAgoOutUK')\n",
        "(2021, 'E00000001', 'E00000001', 159, 80, 38, 13, 9, 3, 5, 5, 4, 2, 1, 175, 154, 0, 9, 12)\n",
        "(2021, 'E00000003', 'E00000003', 222, 96, 58, 8, 26, 2, 5, 2, 5, 20, 2, 252, 228, 6, 13, 5)\n",
        "(2021, 'E00000005', 'E00000005', 103, 37, 28, 8, 21, 0, 3, 1, 1, 4, 3, 113, 99, 0, 12, 2)\n",
        "Indices:\n",
        " - idx_geography (BTREE): Column geography\n",
        " - idx_geography_code (BTREE): Column geography_code\n",
        "\n",
        "Table oa_data - Approx Row Count 0.1M\n",
        "('FID', 'OA21CD', 'LSOA21CD', 'LSOA21NM', 'LSOA21NMW', 'BNG_E', 'BNG_N', 'LAT', 'LON', 'ShapeArea', 'ShapeLength', 'GlobalID', 'db_id', 'geometry_string_ne')\n",
        "(1, 'E00000001', 'E01000001', 'City of London 001A', ' ', 532250, 181864, 51.5202, -0.09523, 6949.15, 421.166, '3a44dd3d-5082-4a09-9b9c-3a5fadc811ed\\r', 1, 'POLYGON ((532303.4919999996 181814.1099999994, 532213.3779999996 181846.1919999998, 532194.8990000002 181874.26300000027, 532162.9718000004 181864.00879999995, 532162.4910000004 181867.76300000027, 532248.3943999996 181895.3501999993, 532282.6299999999 181906.49599999934, 532308.875 181914.79700000025, 532303.4919999996 181814.1099999994))')\n",
        "(2, 'E00000003', 'E01000001', 'City of London 001A', ' ', 532171, 181819, 51.5198, -0.09638, 4492.41, 307.715, 'f1216dc8-14d1-4857-9230-cab0641758fb\\r', 2, 'POLYGON ((532213.3779999996 181846.1919999998, 532190.5392000005 181796.06120000035, 532180.131 181763.01999999955, 532155.909 181805.6799999997, 532127.2989999996 181800.62399999984, 532162.9718000004 181864.00879999995, 532194.8990000002 181874.26300000027, 532213.3779999996 181846.1919999998))')\n",
        "(3, 'E00000005', 'E01000001', 'City of London 001A', ' ', 532166, 181722, 51.519, -0.09649, 8565.51, 385.205, '44d6f70f-549c-4288-9b6d-de2adbf02582\\r', 3, 'POLYGON ((532180.131 181763.01999999955, 532219.1610000003 181703.9389999993, 532201.2920000004 181668.1799999997, 532124.3210000005 181682.67500000075, 532127.2989999996 181800.62399999984, 532155.909 181805.6799999997, 532180.131 181763.01999999955))')\n",
        "Indices:\n",
        " - idx_oa (BTREE): Column OA21CD\n",
        " - idx_lsoa (BTREE): Column LSOA21CD\n",
        " - idx_lat_lon_btree (BTREE): Column LAT\n",
        " - idx_lat_lon_btree (BTREE): Column LON\n",
        "\n",
        "Table osm_data - Approx Row Count 2.5M\n",
        "('element_type', 'osmid', 'geometry_string_ll', 'ways', 'nodes', 'type', 'addr_country', 'addr_postcode', 'addr_street', 'addr_housenumber', 'addr_city', 'addr_housename', 'addr_place', 'name', 'alt_name', 'old_name', 'nohousenumber', 'note', 'disused', 'height', 'amenity', 'tourism', 'brand', 'leisure', 'cuisine', 'emergency', 'historic', 'sport', 'shop', 'religion', 'power', 'military', 'house', 'building', 'building_material', 'building_levels', 'internet_access', 'capacity', 'roof_levels', 'roof_shapefee', 'man_made', 'denomination', 'layer', 'db_id')\n",
        "('way', 72499117, 'POLYGON ((-6.3134352 49.9146669, -6.3134663 49.9147353, -6.3134061 49.9147467, -6.3134095 49.9147542, -6.3131503 49.9148031, -6.3131469 49.9147957, -6.3130936 49.9148057, -6.3130624 49.9147373, -6.3134352 49.9146669))', '', '[860681919, 860681920, 9169387085, 9169387084, 9169387083, 9169387086, 860681921, 860681922, 860681919]', '', '', 'TR21 0JT', 'Church Street', '', 'Hugh Town', '', '', 'Isles of Scilly Museum', '', '', '', '', '', '', '', 'museum', '', '', '', '', '', '', '', '', '', '', '', 'yes', '', '', '', '', '', '', '', '', '', 1)\n",
        "('way', 112445611, 'POLYGON ((-6.3084596 49.9166407, -6.308579 49.916719, -6.3085171 49.9167581, -6.3084892 49.9167398, -6.3085024 49.9167315, -6.3084109 49.9166715, -6.3084596 49.9166407))', '', '[9170680719, 1277992838, 9170680715, 9170680714, 9170680716, 1277992862, 9170680719]', '', '', 'TR21 0JY', '', '', 'Portmellon', '', '', 'The Sailing Centre', '', '', '', '', '', '', '', '', '', 'boathouse', '', '', '', 'sailing', '', '', '', '', '', 'yes', '', '', '', '', '', '', '', '', '', 2)\n",
        "('way', 112445629, 'POLYGON ((-6.3087257 49.9166066, -6.3085551 49.916498, -6.3086358 49.9164671, -6.3087896 49.9165649, -6.3087257 49.9166066))', '', '[1277992753, 9170680721, 1277992733, 1277992688, 1277992753]', '', '', 'TR21 0JY', '', '', 'Portmellon', '', '', 'The Beach', '', '', '', '', '', '', 'restaurant', '', '', '', '', '', '', '', '', '', '', '', '', 'yes', '', '', '', '', '', '', '', '', '', 3)\n",
        "Indices:\n",
        " - idx_postcode (BTREE): Column addr_postcode\n",
        "\n",
        "Table postcode_data - Approx Row Count 2.5M\n",
        "('postcode', 'status', 'usertype', 'easting', 'northing', 'positional_quality_indicator', 'country', 'latitude', 'longitude', 'postcode_no_space', 'postcode_fixed_width_seven', 'postcode_fixed_width_eight', 'postcode_area', 'postcode_district', 'postcode_sector', 'outcode', 'incode', 'db_id')\n",
        "('AB1 0AA', 'terminated', 'small', 385386, 801193, 1, 'Scotland', Decimal('57.10147400'), Decimal('-2.24285100'), 'AB10AA', 'AB1 0AA', 'AB1  0AA', 'AB', 'AB1', 'AB1 0', 'AB1', '0AA', 1)\n",
        "('AB1 0AB', 'terminated', 'small', 385177, 801314, 1, 'Scotland', Decimal('57.10255400'), Decimal('-2.24630800'), 'AB10AB', 'AB1 0AB', 'AB1  0AB', 'AB', 'AB1', 'AB1 0', 'AB1', '0AB', 2)\n",
        "('AB1 0AD', 'terminated', 'small', 385053, 801092, 1, 'Scotland', Decimal('57.10055600'), Decimal('-2.24834200'), 'AB10AD', 'AB1 0AD', 'AB1  0AD', 'AB', 'AB1', 'AB1 0', 'AB1', '0AD', 3)\n",
        "Indices:\n",
        " - PRIMARY (BTREE): Column db_id\n",
        " - idx_postcode_postcode (BTREE): Column postcode\n",
        "\n",
        "Table pp_data - Approx Row Count 29.3M\n",
        "('transaction_unique_identifier', 'price', 'date_of_transfer', 'postcode', 'property_type', 'new_build_flag', 'tenure_type', 'primary_addressable_object_name', 'secondary_addressable_object_name', 'street', 'locality', 'town_city', 'district', 'county', 'ppd_category_type', 'record_status', 'db_id')\n",
        "('{109BBF80-1E51-4910-8E2C-B124E1117A7A}', 34950, datetime.date(1995, 6, 9), 'BA3 3AH', 'F', 'N', 'L', 'COOMBEND HOUSE', '7', 'COOMBEND', 'RADSTOCK', 'RADSTOCK', 'WANSDYKE', 'AVON', 'A', 'A', 1)\n",
        "('{D5233D67-2975-426B-B98D-B124E39331D9}', 133000, datetime.date(1995, 6, 19), 'SW18 5AG', 'T', 'N', 'F', '142', '', 'ASTONVILLE STREET', 'LONDON', 'LONDON', 'WANDSWORTH', 'GREATER LONDON', 'A', 'A', 2)\n",
        "('{718BD35C-25E1-431C-8AF7-B124E63ED4E1}', 83000, datetime.date(1995, 8, 21), 'IP11 7PU', 'D', 'N', 'F', '3', '', 'GARFIELD ROAD', 'FELIXSTOWE', 'FELIXSTOWE', 'SUFFOLK COASTAL', 'SUFFOLK', 'A', 'A', 3)\n",
        "Indices:\n",
        " - PRIMARY (BTREE): Column db_id\n",
        " - idx_pp_postcode (BTREE): Column postcode\n",
        " - idx_pp_date_transfer (BTREE): Column date_of_transfer\n",
        " - idx_address (BTREE): Column postcode\n",
        " - idx_address (BTREE): Column street\n",
        " - idx_address (BTREE): Column primary_addressable_object_name\n",
        " - idx_address (BTREE): Column town_city\n",
        "\n",
        "Table prices_coordinates_data - Approx Row Count 5.8M\n",
        "('price', 'date_of_transfer', 'postcode', 'property_type', 'new_build_flag', 'tenure_type', 'locality', 'town_city', 'district', 'county', 'country', 'latitude', 'longitude', 'db_id')\n",
        "(370000, datetime.date(2024, 1, 1), 'WR12 7FE', 'T', 'N', 'F', '', 'BROADWAY', 'WYCHAVON', 'WORCESTERSHIRE', 'England', Decimal('52.04243800'), Decimal('-1.85757200'), 1)\n",
        "(50000, datetime.date(2024, 1, 1), 'TS17 6LJ', 'T', 'N', 'F', 'THORNABY', 'STOCKTON-ON-TEES', 'STOCKTON-ON-TEES', 'STOCKTON-ON-TEES', 'England', Decimal('54.55240100'), Decimal('-1.30114300'), 2)\n",
        "(485000, datetime.date(2024, 1, 1), 'BR3 6QH', 'F', 'N', 'L', '', 'BECKENHAM', 'BROMLEY', 'GREATER LONDON', 'England', Decimal('51.40061400'), Decimal('-0.01854100'), 3)\n",
        "Indices:\n",
        " - PRIMARY (BTREE): Column db_id\n",
        " - idx_lat_lon_btree (BTREE): Column latitude\n",
        " - idx_lat_lon_btree (BTREE): Column longitude\n",
        "\n",
        "\"\"\""
      ]
    },
    {
      "cell_type": "markdown",
      "metadata": {
        "id": "MIweGJKkn1LW"
      },
      "source": [
        "## Assess"
      ]
    },
    {
      "cell_type": "code",
      "execution_count": 512,
      "metadata": {},
      "outputs": [
        {
          "name": "stdout",
          "output_type": "stream",
          "text": [
            "Connection established!\n"
          ]
        }
      ],
      "source": [
        "conn = fynesse.access.create_connection()"
      ]
    },
    {
      "cell_type": "markdown",
      "metadata": {},
      "source": [
        "### Creating osm_data_sample"
      ]
    },
    {
      "cell_type": "markdown",
      "metadata": {},
      "source": [
        "OSM data has 2.5M entries, so let's create a small (1K rows) subset of it representing all three types of elements."
      ]
    },
    {
      "cell_type": "code",
      "execution_count": 296,
      "metadata": {},
      "outputs": [
        {
          "data": {
            "text/plain": [
              "[]"
            ]
          },
          "execution_count": 296,
          "metadata": {},
          "output_type": "execute_result"
        }
      ],
      "source": [
        "query = \"\"\"\n",
        "CREATE TABLE osm_data_sample AS\n",
        "SELECT * FROM (\n",
        "    SELECT * FROM osm_data WHERE element_type = 'relation' LIMIT 100\n",
        ") AS relation_sample\n",
        "UNION ALL\n",
        "SELECT * FROM (\n",
        "    SELECT * FROM osm_data WHERE element_type = 'node' LIMIT 100\n",
        ") AS node_sample\n",
        "UNION ALL\n",
        "SELECT * FROM (\n",
        "    SELECT * FROM osm_data WHERE element_type = 'way' LIMIT 800\n",
        ") AS way_sample;\n",
        "\"\"\"\n",
        "fynesse.assess.execute_query(conn, query)"
      ]
    },
    {
      "cell_type": "markdown",
      "metadata": {},
      "source": [
        "### Transforming osm_data geometries to National Grid format"
      ]
    },
    {
      "cell_type": "code",
      "execution_count": 303,
      "metadata": {},
      "outputs": [],
      "source": [
        "from shapely import wkt\n",
        "import geopandas as gpd\n",
        "from pyproj import CRS"
      ]
    },
    {
      "cell_type": "code",
      "execution_count": 321,
      "metadata": {},
      "outputs": [
        {
          "name": "stdout",
          "output_type": "stream",
          "text": [
            "Data successfully exported to backup/osm_data.csv\n"
          ]
        },
        {
          "name": "stderr",
          "output_type": "stream",
          "text": [
            "/var/folders/tq/f7lcjhp564g26624rbp38l240000gn/T/ipykernel_8285/3719149625.py:2: DtypeWarning: Columns (3,5,11,12,14,15,16,17,18,19,21,23,25,26,27,30,31,32,34,35,36,37,38,40,41) have mixed types. Specify dtype option on import or set low_memory=False.\n",
            "  df = pd.read_csv('backup/osm_data.csv')\n"
          ]
        }
      ],
      "source": [
        "fynesse.access.db_to_csv(conn, 'osm_data', 'backup/osm_data.csv')\n",
        "df = pd.read_csv('backup/osm_data.csv')"
      ]
    },
    {
      "cell_type": "code",
      "execution_count": 322,
      "metadata": {},
      "outputs": [
        {
          "name": "stdout",
          "output_type": "stream",
          "text": [
            "DataFrame successfully saved to backup/geometry_temp.csv\n"
          ]
        }
      ],
      "source": [
        "df = df[['db_id', 'geometry_string_ll']]\n",
        "df['geometry'] = df['geometry_string_ll'].apply(wkt.loads)  # converting WKT strings to geometries\n",
        "gdf = gpd.GeoDataFrame(df, geometry='geometry', crs=\"EPSG:4326\")  # setting CRS to WGS84 (EPSG:4326)\n",
        "\n",
        "# Define the CRS for the transformation\n",
        "wgs84 = CRS.from_epsg(4326)\n",
        "osgb = CRS.from_epsg(27700)\n",
        "\n",
        "# Transform geometries\n",
        "gdf = gdf.set_crs(wgs84, allow_override=True)  # Set input CRS to WGS84\n",
        "gdf = gdf.to_crs(osgb)  # Reproject to OSGB\n",
        "gdf = gdf[['db_id', 'geometry']]\n",
        "\n",
        "fynesse.access.df_to_csv(gdf, 'backup/geometry_temp.csv')"
      ]
    },
    {
      "cell_type": "code",
      "execution_count": 323,
      "metadata": {},
      "outputs": [
        {
          "name": "stdout",
          "output_type": "stream",
          "text": [
            "Loading data into the table\n",
            "Data loaded into the table geometry_temp\n"
          ]
        }
      ],
      "source": [
        "query_create_geometry_temp = \"\"\"\n",
        "CREATE TABLE IF NOT EXISTS `geometry_temp` (\n",
        "  `db_id` bigint(20) unsigned NOT NULL,\n",
        "  `geometry_string_ne` text COLLATE utf8_bin NOT NULL,\n",
        "  PRIMARY KEY (`db_id`)\n",
        ") DEFAULT CHARSET=utf8 COLLATE=utf8_bin AUTO_INCREMENT=1;\"\"\"\n",
        "\n",
        "fynesse.assess.execute_query(conn, query_create_geometry_temp)\n",
        "\n",
        "fynesse.access.csv_to_db(conn, 'backup/geometry_temp.csv', 'geometry_temp', True)"
      ]
    },
    {
      "cell_type": "code",
      "execution_count": 324,
      "metadata": {},
      "outputs": [
        {
          "data": {
            "text/plain": [
              "[]"
            ]
          },
          "execution_count": 324,
          "metadata": {},
          "output_type": "execute_result"
        }
      ],
      "source": [
        "query = \"\"\"\n",
        "ALTER TABLE osm_data\n",
        "ADD COLUMN geometry_string_ne text;\n",
        "\"\"\"\n",
        "fynesse.assess.execute_query(conn, query)"
      ]
    },
    {
      "cell_type": "code",
      "execution_count": 325,
      "metadata": {},
      "outputs": [
        {
          "data": {
            "text/plain": [
              "[]"
            ]
          },
          "execution_count": 325,
          "metadata": {},
          "output_type": "execute_result"
        }
      ],
      "source": [
        "query = \"\"\"\n",
        "UPDATE osm_data\n",
        "JOIN geometry_temp ON osm_data.db_id = geometry_temp.db_id\n",
        "SET osm_data.geometry_string_ne = geometry_temp.geometry_string_ne;\n",
        "\"\"\"\n",
        "fynesse.assess.execute_query(conn, query)"
      ]
    },
    {
      "cell_type": "code",
      "execution_count": 326,
      "metadata": {},
      "outputs": [
        {
          "data": {
            "text/plain": [
              "[]"
            ]
          },
          "execution_count": 326,
          "metadata": {},
          "output_type": "execute_result"
        }
      ],
      "source": [
        "fynesse.assess.execute_query(conn, \"DROP TABLE geometry_temp;\")"
      ]
    },
    {
      "cell_type": "markdown",
      "metadata": {},
      "source": [
        "### Transforming osm_data geometries to binary"
      ]
    },
    {
      "cell_type": "code",
      "execution_count": 380,
      "metadata": {},
      "outputs": [
        {
          "data": {
            "text/plain": [
              "[]"
            ]
          },
          "execution_count": 380,
          "metadata": {},
          "output_type": "execute_result"
        }
      ],
      "source": [
        "query = \"\"\"\n",
        "ALTER TABLE osm_data\n",
        "ADD COLUMN geometry geometry;\n",
        "\"\"\"\n",
        "fynesse.assess.execute_query(conn, query)"
      ]
    },
    {
      "cell_type": "code",
      "execution_count": 381,
      "metadata": {},
      "outputs": [
        {
          "data": {
            "text/plain": [
              "[]"
            ]
          },
          "execution_count": 381,
          "metadata": {},
          "output_type": "execute_result"
        }
      ],
      "source": [
        "query = \"\"\"\n",
        "UPDATE osm_data\n",
        "SET geometry = ST_GeomFromText(geometry_string_ne);\n",
        "\"\"\"\n",
        "fynesse.assess.execute_query(conn, query)"
      ]
    },
    {
      "cell_type": "code",
      "execution_count": 385,
      "metadata": {},
      "outputs": [
        {
          "data": {
            "text/plain": [
              "((0,),)"
            ]
          },
          "execution_count": 385,
          "metadata": {},
          "output_type": "execute_result"
        }
      ],
      "source": [
        "fynesse.assess.execute_query(conn, \"SELECT COUNT(*) FROM osm_data WHERE geometry IS NULL;\")"
      ]
    },
    {
      "cell_type": "code",
      "execution_count": 404,
      "metadata": {},
      "outputs": [
        {
          "data": {
            "text/plain": [
              "[]"
            ]
          },
          "execution_count": 404,
          "metadata": {},
          "output_type": "execute_result"
        }
      ],
      "source": [
        "fynesse.assess.execute_query(conn, \"ALTER TABLE osm_data MODIFY COLUMN geometry GEOMETRY NOT NULL;\")"
      ]
    },
    {
      "cell_type": "code",
      "execution_count": 405,
      "metadata": {},
      "outputs": [
        {
          "data": {
            "text/plain": [
              "[]"
            ]
          },
          "execution_count": 405,
          "metadata": {},
          "output_type": "execute_result"
        }
      ],
      "source": [
        "fynesse.assess.execute_query(conn, \"ALTER TABLE osm_data ADD SPATIAL INDEX (geometry);\")"
      ]
    },
    {
      "cell_type": "markdown",
      "metadata": {},
      "source": [
        "### Transforming oa_data geometries to binary"
      ]
    },
    {
      "cell_type": "code",
      "execution_count": 319,
      "metadata": {},
      "outputs": [
        {
          "data": {
            "text/plain": [
              "[]"
            ]
          },
          "execution_count": 319,
          "metadata": {},
          "output_type": "execute_result"
        }
      ],
      "source": [
        "query = \"\"\"\n",
        "ALTER TABLE oa_data\n",
        "ADD COLUMN geometry geometry;\n",
        "\"\"\"\n",
        "fynesse.assess.execute_query(conn, query)"
      ]
    },
    {
      "cell_type": "code",
      "execution_count": 320,
      "metadata": {},
      "outputs": [
        {
          "data": {
            "text/plain": [
              "[]"
            ]
          },
          "execution_count": 320,
          "metadata": {},
          "output_type": "execute_result"
        }
      ],
      "source": [
        "query = \"\"\"\n",
        "UPDATE oa_data\n",
        "SET geometry = ST_GeomFromText(geometry_string_ne);\n",
        "\"\"\"\n",
        "fynesse.assess.execute_query(conn, query)"
      ]
    },
    {
      "cell_type": "code",
      "execution_count": 394,
      "metadata": {},
      "outputs": [
        {
          "data": {
            "text/plain": [
              "((1,),)"
            ]
          },
          "execution_count": 394,
          "metadata": {},
          "output_type": "execute_result"
        }
      ],
      "source": [
        "fynesse.assess.execute_query(conn, \"SELECT COUNT(*) FROM oa_data WHERE geometry IS NULL;\")"
      ]
    },
    {
      "cell_type": "code",
      "execution_count": 395,
      "metadata": {},
      "outputs": [
        {
          "data": {
            "text/plain": [
              "((128262,\n",
              "  'MULTIPOLYGON (((583510.0650000004 343935.03199999966, 583531.3804000001 343926.2312000003, 583502.7224000003 343929.36849999987, 583510.0650000004 343935.03199999966)), ((583556.8679999998 344073.86209999956, 583528.04 344063.5399999991, 583517.7401999999 344087.2675999999, 583556.8679999998 344073.86209999956)), ((583537.4698000001 344121.4315000009, 583537.2012 344121.0901999995, 583537.4299999997 344121.4399999995, 583537.4698000001 344121.4315000009)), ((583719.3600000003 344177.6199999992, 583734.9299999997 344174.33999999985, 583778.5499999998 344176.72000000067, 583754.8907000003 344153.2020999994, 583716.2690000003 344161.9056000002, 583699.4000000004 344176.4299999997, 583690.2242999999 344203.72309999913, 583687.3520999998 344217.4804999996, 583691.7800000003 344230.1899999995, 583697.4400000004 344225.19999999925, 583696.96 344201.4299999997, 583719.3600000003 344177.6199999992)), ((583727.1950000003 344200.9389999993, 583766.6399999997 344180.8629999999, 583721.4740000004 344181.52999999933, 583703.0839999998 344208.11700000055, 583706.3109999998 344287.2139999997, 583727.1950000003 344200.9389999993)), ((583951.7000000002 344451.4299999997, 583924.5999999996 344394.9900000002, 583958.4800000004 344449.75, 583984.6799999997 344399.1099999994, 583935.4400000004 344346.27999999933, 583920.46 344356.58999999985, 583874.8700000001 344357.0999999996, 583923.0998 344348.4844000004, 583916.7699999996 344329.1899999995, 583776.9073000001 344278.13609999977, 583769.9299999997 344332.97000000067, 583758.0700000003 344357.66000000015, 583717.8600000003 344366.02999999933, 583758.3600000003 344352.6400000006, 583749.6200000001 344317.8599999994, 583763.1699999999 344293.8699999992, 583778.8099999996 344274.0099999998, 583842.9199999999 344299.7400000002, 583782.7999999998 344190.7400000002, 583721.4400000004 344276, 583667.4400000004 344332.52999999933, 583640.46 344332.0099999998, 583603.2800000003 344317.58999999985, 583553.3200000003 344269.97000000067, 583524.6299999999 344290.5, 583695.6299999999 344491.4399999995, 583737.3499999996 344477.9900000002, 583727.9299999997 344465.6699999999, 583733.5800000001 344451.0399999991, 583726.3700000001 344437.30000000075, 583726.7400000002 344428.91000000015, 583739.5 344419.4199999999, 583823.6500000004 344431.9299999997, 583803.6299999999 344473.5800000001, 583781.4100000001 344477.8900000006, 583760.4299999997 344501.1799999997, 583789.9400000004 344553.0999999996, 583787.0099999998 344519.22000000067, 583792.7699999996 344504.55000000075, 583855.8099999996 344448.9600000009, 583792.7061000001 344509.8457999993, 583817.9800000004 344555.02999999933, 583872.5891000004 344512.72140000015, 583872.5999999996 344512.69999999925, 583872.6365999999 344512.68459999934, 583951.7000000002 344451.4299999997)), ((583799.9800000004 344460.44999999925, 583789.9900000002 344431.8100000005, 583756.4800000004 344438.1899999995, 583741.8499999996 344422.6699999999, 583730.6900000004 344432.5700000003, 583740.1100000003 344454.5399999991, 583741.7800000003 344480.6099999994, 583700.8899999997 344496.94999999925, 583764.2300000004 344562.2599999998, 583753.6100000003 344504.19999999925, 583753.4800000004 344494.9600000009, 583781.4699999997 344471, 583799.9800000004 344460.44999999925)), ((583805.5 344576.19999999925, 583824.5199999996 344559.9900000002, 583786.46 344563.5700000003, 583761.4500000002 344526.08999999985, 583773.5599999996 344579.3699999992, 583805.5 344576.19999999925)), ((583897.318 344814.17200000025, 583913.8200000003 344705.19999999925, 583856.1692000004 344741.1967999991, 583900.46 344694.4199999999, 583804.5 344617.5700000003, 583803.3499999996 344805.4900000002, 583897.318 344814.17200000025)), ((584194.1468000002 344819.01099999994, 584155.6105000004 344774.9781999998, 584120.5899999999 344778.7400000002, 584147.6900000004 344818.01999999955, 584194.1468000002 344819.01099999994)), ((582862.7000000002 345063.5999999996, 582820.5341999996 345060.5099999998, 582808.0999999996 345066.69999999925, 582820.5999999996 345088.19999999925, 582862.7000000002 345063.5999999996)), ((582527.4808999998 345079.81460000016, 582525.2964000003 345078.2982000001, 582511.6217999998 345096.14159999974, 582527.4808999998 345079.81460000016)), ((583711.3399999999 344986.19999999925, 583769.96 344921.9000000004, 583715.301 344944.0850000009, 583711.699 344923.6400000006, 583621.8499999996 345081.8200000003, 583711.7199999997 345099.8900000006, 583734.2599999998 345109.97000000067, 583739.0199999996 345116.7400000002, 583744.2958000004 345128.7871000003, 583770.9199999999 345096.7100000009, 583735.6399999997 345081.19999999925, 583711.3399999999 344986.19999999925)), ((582443.1911000004 345138.9188000001, 582445.9391999999 345136.9633000009, 582429.3278000001 345142.2268000003, 582443.1911000004 345138.9188000001)), ((582161.9194999998 345148.83029999956, 582161.8607000001 345148.7938000001, 582161.8706 345148.8847000003, 582161.9194999998 345148.83029999956)), ((584697.4500000002 345172.9299999997, 584670.8321000002 345140.5722000003, 584686.5800000001 345123.66000000015, 584751.8439999996 345125.36649999954, 584756.4900000002 345114.2899999991, 584734.9900000002 345067.55000000075, 584735.0300000003 345097.6400000006, 584693.4819999998 345103.0014999993, 584684.5499999998 345093.6400000006, 584627.0199999996 345163.8599999994, 584633.71 345135.2899999991, 584617.1540000001 345131.3969999999, 584574.6200000001 345139.5600000005, 584657.7999999998 345193.3200000003, 584697.4500000002 345172.9299999997)), ((582261.9016000004 345224.36810000055, 582260.9800000004 345222.9399999995, 582250.9424999999 345231.8570000008, 582261.9016000004 345224.36810000055)), ((582181.3432 345277.56120000035, 582218.2000000002 345246.66000000015, 582208.4550000001 345248.8236999996, 582195.5 345251.69999999925, 582175.5314999996 345250.2058000006, 582175.2562999995 345217.9770999998, 582221 345196.69999999925, 582194.9035999998 345248.7073999997, 582230.494 345225.4629999995, 582242.3263999997 345217.7352000009, 582243.9297000002 345226.1116000004, 582313.8328999998 345185.5719000008, 582324.1146999998 345179.60909999907, 582329.5 345148.0999999996, 582233.2000000002 345190.30000000075, 582314.7999999998 345149.5999999996, 582293.0192999998 345133.76659999974, 582209.7000000002 345178.9000000004, 582277.4000000004 345122.30000000075, 582355.1799999997 345145.3200000003, 582332.1699999999 345165.3800000008, 582453.0214999998 345132.72470000014, 582461.3219999997 345128.93099999987, 582470.8584000003 345118.15589999966, 582497.2112999996 345088.3802000005, 582521.2199999997 345067.6899999995, 582480.79 345066.3599999994, 582165.2443000004 345103.3753999993, 582157.7022000002 345110.35339999944, 582157.6947999997 345110.36290000007, 582160.8860999998 345139.80289999954, 582160.8953999998 345139.8076000009, 582168.0866 345145.02219999954, 582185.7000000002 345192.69999999925, 582168.4349999996 345153.7410000004, 582163.1524999999 345160.6274999995, 582163.1446000002 345160.6378000006, 582176.2811000003 345281.8224999998, 582176.3163999999 345281.7860000003, 582181.3432 345277.56120000035), (582249.5099999998 345215.7899999991, 582242.6200000001 345219, 582242.3381000003 345217.7320000008, 582249.5099999998 345215.7899999991)), ((585253.6909999996 345286.7013000008, 585203.0465000002 345276.1934999991, 585199.8600000003 345285.3599999994, 585253.6909999996 345286.7013000008)), ((583199.5921999998 345292.38159999996, 583199.6200000001 345292.37030000053, 583199.5466 345292.3813000005, 583199.5921999998 345292.38159999996)), ((583433.3150000004 345308.3100000005, 583368.9000000004 345277.19999999925, 583422.7000000002 345280.9000000004, 583427.7999999998 345254.4000000004, 583430.0999999996 345233.80000000075, 583400.9000000004 345222.9000000004, 583428.5 345224.5700000003, 583434.9800000004 345237.6500000004, 583432.5300000003 345250.9900000002, 583442.8300000001 345242.26999999955, 583451.3772 345220.73750000075, 583322.54 345180.83999999985, 583346.2000000002 345224.30000000075, 583304.4000000004 345213.69999999925, 583297.7800000003 345284, 583337.2199999997 345310, 583341.7939999998 345281.87900000066, 583359.5499999998 345320.3100000005, 583433.3150000004 345308.3100000005)), ((582715.5482999999 345336.38010000065, 582715.4370999997 345336.33469999954, 582738.9499000004 345351.62780000083, 582738.9792999998 345351.62230000086, 582747.6398 345349.76439999975, 582743.0102000004 345347.58579999954, 582715.5482999999 345336.38010000065)), ((582970.5 345366.30000000075, 583016.0999999996 345328.9000000004, 582897.2999999998 345356.0999999996, 582930.7000000002 345336.4000000004, 582875.5 345352.4000000004, 582872.2999999998 345329.80000000075, 583005.4000000004 345319.4000000004, 583021.7999999998 345323.0999999996, 583067.5999999996 345294, 583043.0999999996 345290.80000000075, 582968.9000000004 345305.5, 582913.5 345266.80000000075, 582978.4000000004 345289.30000000075, 582980.4000000004 345262.30000000075, 583006.2999999998 345269.5, 582993 345296.19999999925, 583035.0999999996 345273.69999999925, 583069.0999999996 345281.4000000004, 583078.9100000001 345288.3800000008, 583069.2999999998 345255.0999999996, 583093.5499999998 345285.9600000009, 583178.2999999998 345255.9000000004, 583286.7000000002 345286.9000000004, 583277.5999999996 345237.0999999996, 583258.7000000002 345251.30000000075, 583247.7000000002 345244.4000000004, 583217.2999999998 345222.5999999996, 583255.2000000002 345240.19999999925, 583264.9000000004 345206.5, 583281.1100000003 345236.0099999998, 583313.7000000002 345174.7599999998, 583214 345149.69999999925, 583212.8899999997 345176.5399999991, 582992.5999999996 345219, 583205 345176.4000000004, 583212.7000000002 345144.5999999996, 583221.0199999996 345146.0449999999, 583187.6013000002 345131.92640000023, 583153 345171.69999999925, 583176.5499999998 345127.47000000067, 583124.2999999998 345142.5999999996, 583155.744 345121.99719999917, 583015.1500000004 345081.8200000003, 583004.9000000004 345189.19999999925, 583001.0999999996 345079.47000000067, 582926.5 345115, 582945.7000000002 345138.5, 582921.5 345122.0999999996, 582924.5 345114.5999999996, 582930.0999999996 345105.76999999955, 582962.6799999997 345073.05000000075, 582908.2000000002 345073.5399999991, 582911.7000000002 345111.19999999925, 582903.7999999998 345074.4000000004, 582868 345068, 582838.7000000002 345091.69999999925, 582846.0999999996 345094.80000000075, 582871.2999999998 345129.30000000075, 582837.2000000002 345196.5, 582871.5 345170.4000000004, 582910.9211999997 345193.6319999993, 582871.6402000003 345173.2963999994, 582832.2000000002 345203, 582861.0999999996 345137.0999999996, 582837.7000000002 345144, 582843.4189999998 345096.3747000005, 582829.5999999996 345089.19999999925, 582822 345091.30000000075, 582813.7000000002 345089.69999999925, 582808.5999999996 345083.0999999996, 582787.5 345060.80000000075, 582790.1528000003 345123.62230000086, 582794.4000000004 345224.19999999925, 582804.9000000004 345227.69999999925, 582821.7000000002 345232, 582898.5 345276.9000000004, 582815.2000000002 345236.69999999925, 582781.4000000004 345242.5999999996, 582784.2999999998 345205.5, 582766.4000000004 345234.69999999925, 582753.2000000002 345274.19999999925, 582766.2999999998 345283.4000000004, 582835.2412 345365.3259999994, 582854.1785000004 345288.3234000001, 582854.5999999996 345365.9000000004, 582970.5 345366.30000000075)), ((582769.9992000004 345371.80110000074, 582752.2800000003 345355.41000000015, 582747.4819999998 345357.1534000002, 582747.4584999997 345357.16190000065, 582770.0783000002 345371.8742999993, 582769.9992000004 345371.80110000074)), ((582967.3130000001 345380.2809999995, 583077.2989999996 345310.7785, 583077.267 345310.7832999993, 583054.6299999999 345314.1899999995, 582958.2594999997 345381.2561000008, 582967.3130000001 345380.2809999995)), ((582813.2000000002 345361.5, 582773.0999999996 345300.80000000075, 582767 345323.30000000075, 582701.3860999998 345279.27600000054, 582696.3799999999 345274.6735999994, 582692.7471000003 345265.38010000065, 582708.4000000004 345195, 582698.3318999996 345269.73640000075, 582704.6782 345274.6867999993, 582764.5999999996 345297, 582765.2516000001 345287.69370000064, 582749.7999999998 345277.0999999996, 582747.5 345267, 582771 345205.5999999996, 582736 345200.0999999996, 582772.4000000004 345193.0999999996, 582775.0999999996 345138.69999999925, 582737.9000000004 345174.4000000004, 582702.2000000002 345156.80000000075, 582737.8167000003 345171.01769999973, 582780.9000000004 345130.0999999996, 582784.2999999998 345060.5999999996, 582695.0999999996 345084.9000000004, 582708.0999999996 345057.19999999925, 582545.0099999998 345063.3699999992, 582679.2000000002 345160.69999999925, 582648 345147.5, 582643.9996999996 345169.1571999993, 582648.5225999998 345204.62560000084, 582677.2000000002 345235.80000000075, 582651.5504000001 345228.3694000002, 582657.2090999996 345272.7456, 582666.2999999998 345299.80000000075, 582756.7000000002 345341.0999999996, 582802.5 345385.80000000075, 582811.9000000004 345390.5, 582889.5999999996 345372.69999999925, 582842 345371.30000000075, 582813.2000000002 345361.5)), ((584259.619 345473.9790000003, 584393.0379999997 345443.83699999936, 584365.9419999998 345459.6099999994, 584440.9539999999 345473.69099999964, 584471.6100000003 345396.2899999991, 584489.7800000003 345382.0399999991, 584458.0099999998 345313.52999999933, 584402.2699999996 345392.8100000005, 584360.7400000002 345366.1500000004, 584333.04 345376.5099999998, 584322.3700000001 345390.1799999997, 584315.3200000003 345393.4199999999, 584307.7699999996 345391.8599999994, 584313.3799999999 345360.76999999955, 584255.0899999999 345350.9299999997, 584322.75 345356.5099999998, 584314.9912999999 345388.35500000045, 584331.5300000003 345372.80000000075, 584364.6500000004 345360.3200000003, 584399.6500000004 345388.8200000003, 584457.8899999997 345310.6300000008, 584543.6500000004 345320.5099999998, 584487.7800000003 345318.05000000075, 584493.9000000004 345385.9900000002, 584491.0499999998 345392.9299999997, 584482.7429999998 345395.24909999967, 584478.233 345464.37099999934, 584604.3509999998 345470.8690000009, 584734.6600000001 345329.1899999995, 584901.4800000004 345258.8200000003, 584883.4500000002 345118.1099999994, 584821.4299999997 345177.4900000002, 584838.1100000003 345137.8100000005, 584802.2999999998 345135.4399999995, 584807.5352999996 345206.5604999997, 584798.8799999999 345159.26999999955, 584765.1699999999 345080.9600000009, 584794.6200000001 345133.1699999999, 584820.8099999996 345118.02999999933, 584842.7199999997 345138.8800000008, 584827.7199999997 345108.33999999985, 584869.0199999996 345102.8499999996, 584836.7000000002 345059.4399999995, 584741.54 345007.9900000002, 584712 345044.6799999997, 584715.5 344985.9000000004, 584701.9100000001 345019.76999999955, 584689.7999999998 344998.69999999925, 584655.7300000004 345017.1400000006, 584694.4299999997 345058.5, 584629.9400000004 345057.41000000015, 584626.4900000002 344950.7400000002, 584681.0599999996 344942.3599999994, 584652.1206999999 344890.98900000006, 584647.4144000001 344890.28810000047, 584607.9299999997 344927.22000000067, 584603.0608999999 344908.43740000017, 584586.5954999998 344916.3841999993, 584602.3499999996 344952.4000000004, 584579.5 344929.0999999996, 584504.7599999998 345014.1699999999, 584554.0999999996 344995.9000000004, 584599.7000000002 344990.5999999996, 584603.3158 344957.4734000005, 584615.04 345019.0600000005, 584581.8399999999 345017.16000000015, 584597.0599999996 345049.9900000002, 584550.2000000002 345040.0600000005, 584556.3099999996 345088.2400000002, 584634.1399999997 345129.83999999985, 584648.7199999997 345107.0999999996, 584695.3899999997 345074.4600000009, 584695.1699999999 345084.3900000006, 584738.8099999996 345060.6899999995, 584753.46 345085.0800000001, 584778.3499999996 345128.1500000004, 584785.2000000002 345164.0800000001, 584791.25 345204.72000000067, 584787.1500000004 345211.1300000008, 584789.04 345228.47000000067, 584752.7800000003 345219.9900000002, 584765.2300000004 345232.83999999985, 584761.4900000002 345240.0800000001, 584674.1100000003 345269.8800000008, 584757.6699999999 345235.7899999991, 584746.7800000003 345222.26999999955, 584752.25 345217.0600000005, 584767.5499999998 345219.8800000008, 584784.9299999997 345207.1300000008, 584775.7999999998 345140.98000000045, 584758.0800000001 345154.1899999995, 584694.46 345131.3800000008, 584704.8799999999 345183.0399999991, 584649.4699999997 345207.6099999994, 584577.0099999998 345162.9600000009, 584588.75 345152.3599999994, 584572.9699999997 345149.44999999925, 584571.1799999997 345134.7899999991, 584597.3399999999 345130.3100000005, 584557.25 345102.0099999998, 584566.0999999996 345130.3499999996, 584561.7400000002 345136.9399999995, 584497.7000000002 345152.2100000009, 584474.21 345222.1199999992, 584497.8700000001 345142.8100000005, 584561.0999999996 345126.83999999985, 584544.96 345055.1199999992, 584527.3300000001 345071.2899999991, 584570.3883999996 344998.4397999998, 584516.1100000003 345040.5099999998, 584480.1900000004 344983.4000000004, 584444.1500000004 345000, 584421.3448999999 345065.7270999998, 584472.9400000004 345044.1199999992, 584478.8300000001 345049.5, 584473.9500000002 345130.0999999996, 584436.4299999997 345108.0700000003, 584468.2400000002 345099.3599999994, 584473.1500000004 345052.02999999933, 584419.6399999997 345072.9299999997, 584387.9699999997 345075.0399999991, 584374.6900000004 345146.83999999985, 584379.8899999997 345074.8300000001, 584290.4900000002 345058.47000000067, 584304.2999999998 345075.9900000002, 584306.7000000002 345092.8699999992, 584293 345101.6799999997, 584300.4100000001 345126.16000000015, 584258.9676000001 345113.2714000009, 584255.8200000003 345108.9600000009, 584298.1500000004 345085.1500000004, 584293.4989 345079.0011999998, 584265.2300000004 345041.6300000008, 584217.3505999995 345101.89430000074, 584244.8600000003 345042.05000000075, 584223.6500000004 345058.8800000008, 584216.2599999998 345055.44999999925, 584212.1900000004 345039.30000000075, 584185.0499999998 345075.1699999999, 584195.2800000003 345044.19999999925, 584199.8899999997 345039.58999999985, 584215.3899999997 345036.19999999925, 584221.9500000002 345056.8599999994, 584235.6699999999 345033.51999999955, 584210.8284 345008.3490999993, 584256.2599999998 345034.6500000004, 584247.4199999999 344943.3699999992, 584259.8600000003 345034.75, 584412.7400000002 345048.5099999998, 584423.0099999998 345001.3499999996, 584372.5899999999 345005.3699999992, 584321.9199999999 344962.75, 584423.9199999999 344997.6199999992, 584426.1200000001 344949.77999999933, 584349.4000000004 344935.5999999996, 584408.2999999998 344930.30000000075, 584432.7800000003 344950.33999999985, 584457.1299999999 344978.26999999955, 584391.6699999999 344840.94999999925, 584241.2300000004 344864.47000000067, 584235.8980999999 344862.9451000001, 584231.4949000003 344861.68590000086, 584225.3899999997 344859.9399999995, 584176.6799999997 344826.72000000067, 584173.7199999997 344858.0099999998, 584183.3399999999 344871.5800000001, 584186.2300000004 344891.8100000005, 584183.29 344945.76999999955, 584205.6900000004 344908.8900000006, 584208.3700000001 344943.4199999999, 584184.9720999999 344968.5900999997, 584155.1799999997 344971.69999999925, 584173.25 344929.3800000008, 584147.8600000003 344934.2100000009, 584169.8499999996 344916.05000000075, 584174.4400000004 344923.7100000009, 584176.1699999999 344941.7100000009, 584184.6799999997 344957.19999999925, 584179.4299999997 344942.02999999933, 584179.6207999997 344932.19659999944, 584180.1699999999 344894.1799999997, 584132.8200000003 344882.9299999997, 584180.1791000003 344889.7404999994, 584179.9331999999 344885.31269999966, 584165.54 344858.9900000002, 584127.1600000001 344871.0600000005, 584112.0300000003 344909.44999999925, 584059.2300000004 344915.9299999997, 584028.0599999996 344972.80000000075, 584037.6113 344976.69370000064, 584042.75 344978.73000000045, 584064.2000000002 345004.4299999997, 584073.3449999997 345007.0449999999, 584065.9000000004 345007.1400000006, 584057.71 345002.9199999999, 584041.6677999999 344984.7095999997, 584019.5099999998 345018.2100000009, 584039.2599999998 344980.8800000008, 584011.1600000001 344972.3300000001, 583967 344996.69999999925, 583991.7000000002 344978.5999999996, 583949.5 344955.5, 583930 344973.19999999925, 583922.5 344973.9000000004, 583893.0999999996 344962.0999999996, 583881.0999999996 344976.19999999925, 583872.2000000002 344971.5, 583881.7818999998 344940.14540000074, 583881.4000000004 344972.80000000075, 583896.9000000004 344954.80000000075, 583924.7999999998 344970.5999999996, 583943.7999999998 344956.19999999925, 583951 344952.9000000004, 583940.7000000002 344899.9000000004, 583956.2999999998 344953.5, 583989.4000000004 344936.5999999996, 583968.0999999996 344959.0999999996, 584023.9900000002 344968.0800000001, 584033.8399999999 344928.3300000001, 584065.6200000001 344905.5700000003, 584111.6900000004 344901.5999999996, 584107.4855000004 344890.0842000004, 584093 344850.41000000015, 584114.9100000001 344868.44999999925, 584168.29 344837.3900000006, 584137.21 344817.72000000067, 584114.4000000004 344792.44999999925, 584112.7300000004 344784.3499999996, 584112.0599999996 344762.3100000005, 583943.8300000001 344729.4199999999, 583925.3099999996 344760.2400000002, 583955.7225000001 344777.5020000003, 583929.7400000002 344769.97000000067, 583920.1299999999 344761.3499999996, 583920.7000000002 344746.75, 583906.2450000001 344770.94999999925, 583982.8899999997 344840.23000000045, 583925.4500000002 344808, 583855.9100000001 344855.9900000002, 583876.2999999998 344882.2899999991, 583805.1799999997 344817.4600000009, 583756.2699999996 344869.3900000006, 583804.2800000003 344908.0099999998, 583782.3499999996 344914.8599999994, 583782.8799999999 344937.7899999991, 583794.1399999997 344937.30000000075, 583792.2999999998 344965.9000000004, 583790.9199999999 344940.7899999991, 583742.1699999999 344966.8900000006, 583753.6299999999 345006.5700000003, 583774.9000000004 344998.0999999996, 583756.7000000002 345044.69999999925, 583786.5999999996 345045.19999999925, 583748.5 345053.9000000004, 583775.2300000004 345087.5399999991, 583770.9699999997 345110.6699999999, 583737.7699999996 345165.8699999992, 583769.2000000002 345164.9000000004, 583737.9400000004 345188.3599999994, 583915.7599999998 345268.1899999995, 583910.0999999996 345219.5, 583859.7999999998 345214.69999999925, 583852.5 345212.69999999925, 583847.5 345205.80000000075, 583862.5999999996 345187.19999999925, 583858.7000000002 345157.30000000075, 583875 345187, 583851.4000000004 345208.5, 583859 345212.69999999925, 583919.4000000004 345141.9000000004, 583832.5999999996 345120.0999999996, 583814 345085.9000000004, 583900 345129.5, 583890.5 345115.30000000075, 583910.5999999996 345096.4000000004, 583898.0999999996 345056.5999999996, 583923.5999999996 345077.30000000075, 583950.5757999998 345053.9475999996, 583928.2893000003 345035.4350000005, 583955.5 345047.9000000004, 583949.0999999996 345062.69999999925, 583915.4000000004 345090.5999999996, 583938.5 345099.30000000075, 583899.5789000001 345113.3445999995, 583899.7171 345118.6473999992, 583917.4000000004 345136.30000000075, 583923 345144.69999999925, 583889.2000000002 345206.30000000075, 583970.2999999998 345191.5, 583964.1985999998 345150.4079999998, 583978 345186.9000000004, 583972 345193.5999999996, 583913.7999999998 345214.0999999996, 583922.8099999996 345270.44999999925, 584014.2199999997 345161.4000000004, 584043.7999999998 345188.72000000067, 584056.7999999998 345182.3200000003, 584034.6100000003 345131.44999999925, 584037.71 345123.8300000001, 584045.7199999997 345119.4299999997, 584062.5099999998 345118.3499999996, 584069.0099999998 345113.33999999985, 584070.1100000003 345105.22000000067, 584064.3099999996 345100.2899999991, 584061.5099999998 345093.1699999999, 584069.3499999996 345051.47000000067, 584066.4000000004 345098.8900000006, 584081.4493000004 345110.2566999998, 584062.2999999998 345121.6500000004, 584046.1200000001 345121.9299999997, 584065.7000000002 345175.19999999925, 584062.2999999998 345182.6199999992, 584055.5999999996 345188.73000000045, 584048.3499999996 345191.25, 584016.3300000001 345184.33999999985, 584022.2562999995 345227.46360000037, 584001.1900000004 345185.4000000004, 583937.5999999996 345269.9000000004, 583854.7999999998 345297.19999999925, 583896.6500000004 345273.3800000008, 583838.8200000003 345238.5099999998, 583752.7000000002 345230, 583751.4000000004 345261.69999999925, 583738.2699999996 345208.9600000009, 583686.2999999998 345197.0999999996, 583733.21 345200.3800000008, 583668.2999999998 345155.0999999996, 583726.1600000001 345170.6300000008, 583715.7400000002 345109.4900000002, 583704.2884 345113.44129999913, 583642.0099999998 345134.9299999997, 583602.3600000003 345096.8699999992, 583526.9900000002 345194.6899999995, 583797.3090000004 344718.83999999985, 583767.7400000002 344595.3100000005, 583500.2800000003 344293.3800000008, 583447.4009999996 344124.5519999992, 583434.9740000004 344004.6469999999, 583519.7599999998 344281.1899999995, 583582.3799999999 344175.77999999933, 583609.2819999997 344159.9749999996, 583598.5823999997 344118.5117000006, 583591.8342000004 344119.25009999983, 583537.5499999998 344132.5600000005, 583507.8499999996 344091.5800000001, 583523.1699999999 344054.94999999925, 583560.5658 344062.17259999923, 583580.0199999996 344065.9299999997, 583573.6210000003 343926.02899999917, 583511.1440000003 343947.23900000006, 583495.2385999998 343930.1877999995, 583493.2999999998 343930.4000000004, 583487.0360000003 343921.3942000009, 583473.3200000003 343906.6899999995, 583480.8463000003 343912.4951000009, 583348 343721.5, 583368.4000000004 343642.69999999925, 583449.2999999998 343584.69999999925, 583572.5999999996 343352.5999999996, 583664.4000000004 343312.3990000002, 583747.7999999998 343223.69999999925, 583793.2999999998 343227.80000000075, 583848.9270000001 343297.23900000006, 583921.5999999996 343192.4000000004, 583921.4869999997 343138.9299999997, 583983 343099, 584148 343167, 584217 342980, 584328 343040, 584462 343043, 584791.7690000003 343136.38299999945, 584790 342828, 585082.0489999996 342801.3220000006, 585007.1880000001 342803.81200000085, 584996.6880000001 342693.9059999995, 584924.9989999998 342588.5940000005, 584939.1880000001 342478, 584741.6880000001 342438.9059999995, 584626.875 342334.81200000085, 584588.125 342357.68700000085, 584496.8130000001 342339.2809999995, 584478.5 342395.5940000005, 584374.375 342420.31200000085, 584353.375 342392.18700000085, 584294.8130000001 342476, 584229.5 342463.81200000085, 584210.8080000002 342486.80599999987, 583984.8109999998 342709.59300000034, 583863.875 342639.31200000085, 583805.8190000001 342551.81599999964, 583555.1270000003 342441.1009999998, 583531.6169999996 342735.8100000005, 583077.3550000004 342658.32349999994, 583074.807 342686.68700000085, 582794.5 342677.31200000085, 582553.3130000001 342733.9059999995, 582352.767 342729.97199999914, 582058.5290000001 342749.3770000003, 581515.125 342795.2809999995, 581314.1880000001 342447.9059999995, 581242.8789999997 342257.4204999991, 580553.193 342443.09300000034, 580566.3119999999 342773.90300000086, 580764 342782.5940000005, 581063.3870000001 343166.3049999997, 581101.6880000001 343150.2190000005, 581164.3485000003 343326.3894999996, 581300.5 343263.9059999995, 581453.8130000001 343275.5940000005, 581498.1880000001 343427.7190000005, 581585.8770000003 343402.5999999996, 581677.625 343755.9059999995, 581715.6880000001 344048.40499999933, 581965.6880000001 343982.09899999946, 581975.3119999999 344346.80599999987, 582075 344347.49899999984, 582155.7149 345092.0984000005, 582155.7230000002 345092.09699999914, 582164.1207999997 345090.6088999994, 582615.5999999996 345046.9000000004, 582978.79 345066.0399999991, 583160.4000000004 345111.66000000015, 583196.4900000002 345126.0099999998, 583452.96 345215.6699999999, 583466.3700000001 345223.41000000015, 583441.2999999998 345253, 583461 345249.30000000075, 583419.96 345291.8800000008, 583532.2400000002 345301.94999999925, 583628.7000000002 345363.30000000075, 583633.4000000004 345323.0999999996, 583649.8799999999 345379.30000000075, 583676.7999999998 345376.4000000004, 583678.2361000003 345347.19779999927, 583688.2000000002 345328, 583703.7000000002 345355.69999999925, 583689.0999999996 345382.0999999996, 583747.7999999998 345326, 583709.5 345381.0999999996, 583691.4000000004 345389.4000000004, 583678.0999999996 345386.5999999996, 583722.2999999998 345416.4000000004, 583781.7999999998 345390.9000000004, 583802.7000000002 345423.5, 583804 345368.69999999925, 583819.7999999998 345411.19999999925, 583841.5 345391.0999999996, 583828.0669999998 345420.2212000005, 583909.7708 345433.2924000006, 583895.5599999996 345377.2899999991, 583896.29 345405.26999999955, 583867.4699999997 345405, 583874.0599999996 345359.1400000006, 583862.4000000004 345361.5, 583789 345344.5999999996, 583865.0668000001 345357.6027000006, 583881.5800000001 345333.47000000067, 583950.7599999998 345431.41000000015, 583972.9299999997 345420.77999999933, 583975.0700000003 345410.5399999991, 583952.9199999999 345393.4900000002, 583966 345341.4000000004, 583974.3700000001 345394.9000000004, 584004.3609999996 345373.20600000024, 584049.523 345378.34500000067, 584147.6200000001 345447.9910000004, 584259.619 345473.9790000003)), ((583765.0300000003 345503.2599999998, 583994.0300000003 345469.9199999999, 584222.6299999999 345491.6300000008, 584054.5599999996 345441.2400000002, 584037.0300000003 345406.5399999991, 584032.9579999996 345428.41599999927, 584030.4589999998 345437.1270000003, 584027.4929 345443.72550000064, 584026.4349999996 345446.0789999999, 583981.3799999999 345452.75799999945, 584027.8935000002 345440.21360000037, 584012.29 345385.7400000002, 583999.5750000002 345413.16000000015, 583983.8490000004 345428.86400000006, 583945.2300000004 345439.02999999933, 583903.1799999997 345439.69999999925, 583804.9000000004 345430.19999999925, 583788.2999999998 345427.4000000004, 583770.7999999998 345410.0999999996, 583742.2000000002 345440.80000000075, 583749.5 345412.30000000075, 583727.7999999998 345429.80000000075, 583686.4000000004 345423.5, 583651.2000000002 345383.3800000008, 583677.9000000004 345426.69999999925, 583765.0300000003 345503.2599999998)), ((582589.3494999995 345605.26630000025, 582579 345600.5940000005, 582577.1052000001 345601.0985000003, 582577.6484000003 345601.2672000006, 582589.3494999995 345605.26630000025)), ((582341.0999999996 345805, 582368.2999999998 345766.9000000004, 582348 345781.0999999996, 582358.7000000002 345744.5, 582320.7000000002 345723.30000000075, 582325 345674.80000000075, 582389.5 345640.9000000004, 582405.0999999996 345637, 582317.29 345643.2599999998, 582288.9161 345682.1721999999, 582287.9682999998 345685.1040000003, 582321.4000000004 345695.5999999996, 582289.1106000002 345714.2003000006, 582289.0999999996 345729.19999999925, 582268.2000000002 345699.69999999925, 582195.4900000002 345772.1400000006, 582279.9000000004 345794.0999999996, 582296 345755.0999999996, 582293.4000000004 345795.4000000004, 582341.0999999996 345805)), ((582612.0999999996 345801.30000000075, 582620.2000000002 345800.80000000075, 582627.5999999996 345802.4000000004, 582636.7999999998 345802.30000000075, 582624.8564999998 345694.1710000001, 582575.5952000003 345691.6196999997, 582573.5 345686.4000000004, 582598.7000000002 345674.80000000075, 582610.7000000002 345672.80000000075, 582665.5 345679, 582680.2999999998 345675.5999999996, 582689.5011999998 345678.8831999991, 582717.5899999999 345687.2899999991, 582729.6200000001 345685.52999999933, 582717.9000000004 345679.8200000003, 582687.9013 345674.1952999998, 582664.71 345672.26999999955, 582578.7999999998 345663.69999999925, 582532.0999999996 345662.4000000004, 582567.7999999998 345711.80000000075, 582588.4000000004 345731.19999999925, 582589.4554000003 345734.20639999956, 582591.7000000002 345740.5999999996, 582599.5 345753.0999999996, 582604.2000000002 345770.5, 582604 345786.4000000004, 582596.7999999998 345789.30000000075, 582589.7000000002 345796.0999999996, 582604.7999999998 345806.69999999925, 582612.0999999996 345801.30000000075)), ((583977.7939999998 345806.8049999997, 584017 345744.26300000027, 583943.9960000003 345787.19400000013, 583977.7939999998 345806.8049999997)), ((584058.7189999996 345743.8499999996, 584105.2929999996 345727.2899999991, 584138.6359999999 345729.5270000007, 584077.6320000002 345745.68099999987, 584054.3090000004 345775.8499999996, 584096.9699999997 345751.3599999994, 584128.3200000003 345756.41000000015, 584145.9900000002 345748.05000000075, 584204.8600000003 345738.6799999997, 584065.2580000004 345711.4550000001, 583988.6979999999 345806.9539999999, 584058.7189999996 345743.8499999996)), ((583212.0999999996 345782, 583176.0226999996 345772.70189999975, 583172.2000000002 345784.5, 583189.7000000002 345807, 583212.0999999996 345782)), ((582777.2999999998 345787.9000000004, 582713.0999999996 345741.9000000004, 582763.0999999996 345762.69999999925, 582772.7999999998 345732.19999999925, 582786.7000000002 345723.80000000075, 582810.2300000004 345721.3800000008, 582811.4199999999 345713.9199999999, 582770.2599999998 345692.9399999995, 582735.5999999996 345717.5, 582755.4900000002 345688.98000000045, 582708.9249 345689.47959999926, 582694.1259000003 345685.45240000077, 582667.5999999996 345699.19999999925, 582674.4392999997 345725.1337000001, 582664.2999999998 345697.5, 582669.7999999998 345691, 582687.5 345684.0999999996, 582664 345683.9000000004, 582654.2999999998 345702.30000000075, 582681.2999999998 345765.5999999996, 582653.5 345718.5, 582652.5 345700.80000000075, 582660.9699999997 345685.77490000054, 582619.2999999998 345678, 582629.7000000002 345690.5, 582654.7999999998 345769.5999999996, 582658.2751000002 345790.0496999994, 582696 345802.5999999996, 582724.7999999998 345805.9000000004, 582728.7999999998 345812.4000000004, 582737.5 345814.5, 582777.2999999998 345787.9000000004)), ((582372.7000000002 345817.19999999925, 582388.5999999996 345810.30000000075, 582435.4000000004 345815.9000000004, 582430.7999999998 345800.69999999925, 582414.7999999998 345801.5, 582386.7000000002 345712.4000000004, 582370.2999999998 345703.5999999996, 582360.0999999996 345725.9000000004, 582359.9000000004 345710.5999999996, 582368.4249999998 345690.22330000065, 582371.2000000002 345680.69999999925, 582389.8562000003 345644.3071999997, 582327.5 345686.19999999925, 582397.7000000002 345794.9000000004, 582369.2000000002 345776, 582372.7000000002 345817.19999999925)), ((583272.9000000004 345797.19999999925, 583227.5 345790.19999999925, 583198 345800.5, 583228.4000000004 345802.19999999925, 583264.7000000002 345817.4000000004, 583283.9160000002 345804.0617999993, 583272.9000000004 345797.19999999925)), ((582650.0971999997 345769.9752999991, 582639.5 345757.4000000004, 582649.7000000002 345812.19999999925, 582692 345819.69999999925, 582658.2999999998 345795.80000000075, 582651.5 345781.9000000004, 582650.0971999997 345769.9752999991)), ((582497.5607000003 345793.99090000056, 582491.5155999996 345788.4452999998, 582482.2999999998 345781.30000000075, 582498.5 345782.5999999996, 582517.2000000002 345789.69999999925, 582525.2000000002 345721.4000000004, 582447.9000000004 345712.9000000004, 582483.4000000004 345745.5, 582437.5999999996 345776.5999999996, 582457.5 345736.30000000075, 582433.2999999998 345715.5999999996, 582448.7999999998 345709.5, 582475 345706.5999999996, 582473.5199999996 345658.8900000006, 582444.9000000004 345683.19999999925, 582417.2999999998 345645.19999999925, 582367.7999999998 345696.75, 582385.7999999998 345707.5, 582405.4000000004 345732.80000000075, 582417 345797.80000000075, 582462.2821000004 345790.7013000008, 582461.0257000001 345821.1228, 582481.5 345797.5, 582497.5607000003 345793.99090000056)), ((582777.9000000004 345835.0999999996, 582790.6632000003 345807.25090000033, 582735 345821.80000000075, 582777.9000000004 345835.0999999996)), ((582527.7000000002 345802, 582503.4019999998 345792.71470000036, 582501.5999999996 345799.5999999996, 582481.0999999996 345803.30000000075, 582471 345827.4000000004, 582509 345835.4000000004, 582527.7000000002 345802)), ((584116.1399999997 345815.0700000003, 584241.5700000003 345757.6199999992, 584171.0599999996 345754.8300000001, 584108.54 345810.6400000006, 584076.3899999997 345808.16000000015, 584077.5300000003 345839.7400000002, 584092.79 345823.6799999997, 584116.1399999997 345815.0700000003)), ((582665.4000000004 345844.30000000075, 582674.0999999996 345831.5999999996, 582689.9000000004 345837.5999999996, 582722.7999999998 345813.4000000004, 582701 345809.5, 582691.2999999998 345823.5, 582661.2999999998 345819.0999999996, 582646.2000000002 345815.0999999996, 582629.8509999998 345806.8976000007, 582621.5999999996 345823.5, 582665.4000000004 345844.30000000075)), ((582322.5 345853.4000000004, 582371.4000000004 345842.80000000075, 582389.5 345848.5999999996, 582423.7999999998 345830.5999999996, 582474.9199999999 345835.8499999996, 582450.5999999996 345822, 582443.7000000002 345802.69999999925, 582441.7999999998 345810, 582435.2999999998 345824.5999999996, 582425.5 345827.5999999996, 582389.5 345817.30000000075, 582384.9134999998 345840.9331, 582360.7000000002 345834.5999999996, 582380.7999999998 345825.69999999925, 582348.0999999996 345819.19999999925, 582364.4000000004 345801.19999999925, 582353.0999999996 345804.9000000004, 582316.7999999998 345812.30000000075, 582298.7999999998 345809.19999999925, 582288 345797.80000000075, 582173.96 345799.2599999998, 582207.5 345851.30000000075, 582233.7999999998 345844.19999999925, 582260.2000000002 345836.4000000004, 582268.2000000002 345833.30000000075, 582322.5 345853.4000000004)), ((582867.0999999996 345851.5, 582932.5999999996 345813.30000000075, 582926.5 345756.69999999925, 582890.4107999997 345752.52109999955, 582899.2000000002 345782.4000000004, 582897 345791.30000000075, 582871.2000000002 345796.69999999925, 582883.2999999998 345809.30000000075, 582878.4000000004 345815.30000000075, 582848.2000000002 345817.0999999996, 582827.7000000002 345780.5, 582854.7000000002 345814.5999999996, 582874.7999999998 345808.69999999925, 582868.7000000002 345795, 582894.5 345788.80000000075, 582886.7999999998 345749.69999999925, 582892.2999999998 345744.5999999996, 582860.5 345746.5, 582879.5 345779.4000000004, 582875.0999999996 345786.0999999996, 582848.2999999998 345772.4000000004, 582875.5599999996 345782.4929000009, 582857.7000000002 345747.5999999996, 582857.193 345739.3780000005, 582826.7999999998 345734.19999999925, 582794.5 345755.9000000004, 582818.7000000002 345764.4000000004, 582796.2999999998 345760.0999999996, 582792.2000000002 345753.69999999925, 582814.9000000004 345735.0999999996, 582784.7411000002 345740.85280000046, 582780.7471000003 345744.88489999995, 582804.2000000002 345808.5999999996, 582794.7999999998 345845, 582826.4000000004 345850, 582832.2999999998 345855.4000000004, 582842 345872.9000000004, 582867.0999999996 345851.5)), ((582988.0999999996 345869.5999999996, 582942.4000000004 345754.4000000004, 582940.2999999998 345817.80000000075, 582897.3016999997 345854.9232000001, 582963.4000000004 345882.30000000075, 582988.0999999996 345869.5999999996)), ((584091.1299999999 345854.48000000045, 584102.9699999997 345827.33999999985, 584092.7999999998 345837.44999999925, 584087.3200000003 345843.1500000004, 584077.8399999999 345846.73000000045, 584055.1799999997 345849.08999999985, 584038.7000000002 345846.55000000075, 584036.5999999996 345882.69999999925, 584091.1299999999 345854.48000000045)), ((583573.2999999998 345884.30000000075, 583552.7999999998 345841.30000000075, 583605.2000000002 345872.19999999925, 583803.5999999996 345881.5999999996, 583826.5999999996 345860.80000000075, 583810.9000000004 345860.9000000004, 583794 345859, 583761.2000000002 345836.4000000004, 583815.1738 345856.5370000005, 583836.7000000002 345838.9000000004, 583779.2999999998 345801.5, 583840.9000000004 345827.69999999925, 583825.7999999998 345800.80000000075, 583851.5999999996 345808.9000000004, 583887.5 345763.0999999996, 583851.5 345769.0999999996, 583817.2999999998 345771.80000000075, 583831.0999999996 345752.80000000075, 583747.4000000004 345762, 583725.7999999998 345736.69999999925, 583703.5999999996 345756.4000000004, 583711.7000000002 345732.19999999925, 583680.0999999996 345776, 583634.6586999996 345764.35899999924, 583668 345770.4000000004, 583631.1934000002 345760.3406000007, 583580.5999999996 345783.0999999996, 583660.9000000004 345728.0999999996, 583645.4000000004 345712.9000000004, 583830.8200000003 345745.30000000075, 583851.9800000004 345765.6199999992, 583862.9000000004 345754.5, 583897.2000000002 345752, 583888.7000000002 345729.9000000004, 583852.2999999998 345744.69999999925, 583871.9000000004 345720.69999999925, 583887 345717.0999999996, 583898.4199999999 345731.0700000003, 583901.2740000002 345748.0020000003, 583909.4850000003 345750.29700000025, 583933.8140000002 345723.4910000004, 583944.2800000003 345701.8699999992, 583933.1999000004 345694.0530999992, 583894.5 345691.5999999996, 583690.5999999996 345698.0999999996, 583741.5 345686, 583709.8547999999 345671.2366000004, 583890.1354 345681.0416000001, 583936.5599999996 345688.4600000009, 583951.6900000004 345695.9419999998, 583982.784 345641.52600000054, 584044.8059999999 345623.4509999994, 583952.8600000003 345576.1899999995, 583771.7300000004 345597.75, 583626.7000000002 345650.5600000005, 583624.4819 345657.2681000009, 583580.9000000004 345670.8800000008, 583553.5 345774.5, 583538.5 345788, 583492.2999999998 345798.4000000004, 583499.7000000002 345837.9000000004, 583458.2999999998 345809.5999999996, 583460.5999999996 345831.80000000075, 583472.2999999998 345847, 583482.2000000002 345858.9000000004, 583495.2000000002 345875.5, 583510.2000000002 345859.5, 583488.2999999998 345848.4000000004, 583542 345859.9000000004, 583553.5999999996 345869.5999999996, 583558.2999999998 345884.19999999925, 583573.2999999998 345884.30000000075)), ((582676.6613999996 345879.7452000007, 582682.7000000002 345841.80000000075, 582671.4000000004 345845.30000000075, 582662.5 345846.0999999996, 582648.5999999996 345840.80000000075, 582675.2999999998 345888.30000000075, 582676.6613999996 345879.7452000007)), ((583085.2999999998 345900.5999999996, 583088.7000000002 345887.30000000075, 583105.7999999998 345864.0999999996, 583115.5999999996 345864, 583086.4000000004 345839.19999999925, 583072.5 345851.80000000075, 583063.5 345867.9000000004, 583054.5 345886.5999999996, 583032.7143000001 345883.9000000004, 583061.5 345865.30000000075, 583054.2000000002 345851.69999999925, 583052.0999999996 345799.80000000075, 583047.6486999998 345812.6458999999, 583037.2000000002 345842.80000000075, 583037.4000000004 345810.19999999925, 583013.2000000002 345811.69999999925, 582988.9468 345801.28449999914, 582996.2999999998 345767.5999999996, 582960.5499999998 345762.9299999997, 583007.5999999996 345890, 582974.2000000002 345882.5999999996, 583023.0999999996 345910.19999999925, 583085.2999999998 345900.5999999996)), ((583602.7000000002 345950.83999999985, 583601.9000000004 345908, 583568.5999999996 345917.80000000075, 583606 345898.4000000004, 583516.7000000002 345908.5999999996, 583467.5999999996 345907.80000000075, 583506.1816999996 345905.1796000004, 583463.4000000004 345881.19999999925, 583534 345902.19999999925, 583550.0999999996 345869.9000000004, 583537.3701999998 345869.12490000017, 583510 345868.9000000004, 583497 345877.30000000075, 583489.2000000002 345876.80000000075, 583479.7000000002 345863.9000000004, 583441.7000000002 345863.30000000075, 583470.0458000004 345850.8809999991, 583457.5999999996 345838.69999999925, 583415.5999999996 345790.5999999996, 583481.2999999998 345810.80000000075, 583491.0999999996 345750.4000000004, 583535.4793999996 345781.3033000007, 583571.9900000002 345673.4000000004, 583527.0860000001 345684.9417000003, 583512.4623999996 345694.7815000005, 583445.7013999997 345705.8599999994, 583222.0700000003 345763.33999999985, 583239.0999999996 345783.19999999925, 583300.9000000004 345791.9000000004, 583308.4000000004 345806.0999999996, 583313.5 345791.9000000004, 583351.4000000004 345805.69999999925, 583398.2000000002 345803, 583395.7000000002 345868.5999999996, 583433 345873, 583446.7000000002 345935.5, 583459.9000000004 345947.4000000004, 583492.5999999996 345944.5, 583514.2999999998 345950.5999999996, 583523.2000000002 345926.19999999925, 583474.5 345930, 583515 345913.9000000004, 583602.7000000002 345950.83999999985)), ((584058.7999999998 345905.19999999925, 583995.7999999998 345890, 584006.9000000004 345906.30000000075, 583978.5 345984.4000000004, 584058.7999999998 345905.19999999925)), ((583612.4500000002 345977.8200000003, 583611.4100000001 345956.44999999925, 583568.6562000001 345976.2930999994, 583584.5 345950, 583536.9000000004 345930.5999999996, 583510.4000000004 345957.9000000004, 583487.5999999996 345948.19999999925, 583457.2000000002 345950.5, 583401.7999999998 345917.5, 583438 345927.9000000004, 583428.9000000004 345875.5999999996, 583377.7000000002 345881.5999999996, 583392.2999999998 345812.80000000075, 583353.5 345818.4000000004, 583308.4000000004 345809.69999999925, 583262.2000000002 345820.0999999996, 583246.4000000004 345822.30000000075, 583250.7000000002 345829.30000000075, 583255.5 345835.19999999925, 583213.0361000001 345804.2496000007, 583182.2000000002 345813.5, 583180.2999999998 345856.80000000075, 583169.7999999998 345833.9000000004, 583181.4000000004 345802.30000000075, 583174.5 345797.19999999925, 583169.7999999998 345782.69999999925, 583173 345775.0999999996, 583126.7999999998 345838.9000000004, 583121 345796, 583079 345801.4000000004, 583158.0700000003 345773.5700000003, 583004.9199999999 345768.66000000015, 582998.2999999998 345793.19999999925, 583016.4000000004 345808.30000000075, 583054.2000000002 345797, 583059.5 345802.80000000075, 583060.5 345851, 583066.7000000002 345846.0999999996, 583085.7000000002 345836.0999999996, 583118.5 345854, 583120.2999999998 345861.80000000075, 583106.0999999996 345879.5, 583124.4102999996 345892.5156999994, 583275.2999999998 345884, 583267.0999999996 345853.80000000075, 583319.04 345907.9299999997, 583351.0707999999 345913.3197000008, 583384.71 345918.98000000045, 583402.75 345970.4199999999, 583492.8300000001 345961.69999999925, 583571.9800000004 345993.3100000005, 583612.4500000002 345977.8200000003)), ((583985.0999999996 345941.19999999925, 583992.9000000004 345884.80000000075, 584025.2000000002 345885.4000000004, 584026.2999999998 345868.9000000004, 584034.2999999998 345847.80000000075, 584040.3899999997 345842.1199999992, 584052.9664000003 345842.28580000065, 584072.9900000002 345809.2100000009, 584078.1900000004 345803.1199999992, 584108.04 345806.47000000067, 584160.7800000003 345754.8300000001, 584145.8601000002 345754.9411999993, 584126.04 345762.9299999997, 584101.7699999996 345755.26999999955, 584065.9100000001 345813.91000000015, 584079.8200000003 345765.76999999955, 584047.5199999996 345802.33999999985, 583982.7999999998 345857.5999999996, 584050.29 345778.6799999997, 583992.5499999998 345818.4199999999, 583965.727 345823.1129999999, 583935.7240000004 345797.4240000006, 583942.9000000004 345878, 583983.9000000004 345893.19999999925, 583958.2000000002 345938, 583980.0999999996 345895.4000000004, 583953.0999999996 345890.9000000004, 583949.7000000002 345996.5999999996, 583985.0999999996 345941.19999999925)), ((586845.2324000001 345955.4626000002, 586837.125 345378.2809999995, 586868.8130000001 345248.5940000005, 587000.6880000001 345037.81200000085, 586899.3739999998 344871.9059999995, 586882 344757.5, 586804.1880000001 344687.5, 586813.375 344538, 586925.8130000001 344364.7809999995, 586875.8130000001 344312.5940000005, 586918.875 343896.81200000085, 586904.3130000001 343631.68700000085, 586752.6903999997 342971.9240000006, 586533 343030.5, 586431.5 343025.9059999995, 586181 342950.31200000085, 585801.3130000001 342931.2809999995, 585441.3021999998 342866.9056000002, 585232.0010000002 344478, 585267 344755, 585432 345194, 585419 345321, 585273.7884999998 345290.87120000087, 585229.1100000003 345304.3699999992, 585177.9299999997 345278.0700000003, 585184.54 345293.19999999925, 585182.4500000002 345318.3100000005, 585174.8783999998 345301.2193999998, 585139.3499999996 345319.8599999994, 585125.2999999998 345341.01999999955, 585128.5899999999 345290.47000000067, 585134.9299999997 345318.5999999996, 585139.75 345293.9299999997, 585146.4800000004 345307.2400000002, 585175.9199999999 345296.5800000001, 585171.0099999998 345281.83999999985, 585175.2199999997 345274.9600000009, 585187.0423999997 345272.87289999984, 585165.3859999999 345268.37959999964, 585109.3899999997 345261.3699999992, 585012.6299999999 345468.6500000004, 585026.1699999999 345504.2400000002, 584986.2699999996 345515.3900000006, 585014.8600000003 345532, 585070.5999999996 345464.4000000004, 585113.7000000002 345473.30000000075, 585127.0800000001 345428.5399999991, 585119.8099999996 345476.0999999996, 585161.2400000002 345429.5, 585130.46 345481.3100000005, 585154.3700000001 345492.69999999925, 585180.5199999996 345442.16000000015, 585163.1299999999 345517.94999999925, 585201.6200000001 345444.66000000015, 585166.7599999998 345525.8100000005, 585208.3399999999 345521.27999999933, 585224.6200000001 345407.58999999985, 585208.4000000004 345381.9399999995, 585177.1580999997 345371.8216999993, 585228.9299999997 345373.91000000015, 585228.9299999997 345407.0999999996, 585254.6600000001 345395.1799999997, 585243.4500000002 345383.3599999994, 585249.6600000001 345364.1799999997, 585266.5800000001 345320.91000000015, 585281 345325.76999999955, 585282.2999999998 345298.9600000009, 585311.0499999998 345339.27999999933, 585377.75 345332.6099999994, 585624.6200000001 345440.19999999925, 585365.54 345337.6799999997, 585315.46 345349.1099999994, 585269.1900000004 345326.01999999955, 585270.5800000001 345347.1400000006, 585246.96 345378.6799999997, 585261.0800000001 345386.4299999997, 585266.8899999997 345363.83999999985, 585280.6100000003 345361.3800000008, 585295.2300000004 345357.1400000006, 585345.4900000002 345353.3800000008, 585286.6200000001 345363.5099999998, 585306.1100000003 345385.3599999994, 585270.1900000004 345367.6500000004, 585274.7000000002 345382.0700000003, 585262.4800000004 345391.2100000009, 585260.8600000003 345398.66000000015, 585255.4400000004 345404.1300000008, 585236.5199999996 345411.76999999955, 585231.7999999998 345463.08999999985, 585259.5899999999 345423.4199999999, 585221.6500000004 345530.19999999925, 585257.5199999996 345523.41000000015, 585284.6100000003 345450.97000000067, 585266.0999999996 345513.7400000002, 585295.0599999996 345502.66000000015, 585226.4900000002 345548.80000000075, 585184.8200000003 345530.1300000008, 585192.6699999999 345586, 585279.0199999996 345567.7899999991, 585333.0099999998 345476.2899999991, 585289.1500000004 345558.76999999955, 585362.6200000001 345505.1400000006, 585301.8200000003 345559.9299999997, 585368.5800000001 345535.8499999996, 585347.1399999997 345556.4600000009, 585397.0300000003 345579.94999999925, 585379.9400000004 345613.30000000075, 585423.1600000001 345605.26999999955, 585430.9199999999 345580.4299999997, 585413.6900000004 345564.76999999955, 585427.4900000002 345544.7899999991, 585408.0800000001 345533.19999999925, 585409.6100000003 345506.3300000001, 585416.6100000003 345486.51999999955, 585389.25 345449.9199999999, 585422 345474.80000000075, 585453.3899999997 345437.8300000001, 585431.6900000004 345478.33999999985, 585418.9000000004 345483.19999999925, 585418.0499999998 345506.9299999997, 585412.2400000002 345512.72000000067, 585431.4299999997 345541.9000000004, 585435.25 345578.8699999992, 585429.4199999999 345605.4299999997, 585397.2199999997 345620.58999999985, 585405.2999999998 345621.66000000015, 585458.8499999996 345594.2400000002, 585451.21 345529.8300000001, 585479.9299999997 345603.3800000008, 585478.6100000003 345578.91000000015, 585480.0111999996 345569.48640000075, 585484.8099999996 345555.9000000004, 585518.6200000001 345540.3300000001, 585524.6900000004 345535.83999999985, 585508.4800000004 345518.77999999933, 585526.9900000002 345532.7100000009, 585545.2400000002 345507.9900000002, 585552.4299999997 345505.7599999998, 585546.6600000001 345517.6799999997, 585531.2999999998 345536.5399999991, 585490.46 345555.73000000045, 585481.21 345576.4299999997, 585505.5300000003 345596.3699999992, 585477.0300000003 345606.23000000045, 585530.7400000002 345602.3699999992, 585579.1799999997 345513.1799999997, 585538.8099999996 345604.30000000075, 585594.7400000002 345555.6400000006, 585552.6799999997 345601.1099999994, 585646.1600000001 345597.4000000004, 585623.6100000003 345621.27999999933, 585671.9800000004 345630.98000000045, 585707.6399999997 345710.8100000005, 585655.6100000003 345672.8699999992, 585666.0899999999 345638.55000000075, 585648.7199999997 345633.72000000067, 585616.3600000003 345626.47000000067, 585611.1799999997 345609.6799999997, 585588.2000000002 345642.1099999994, 585589.2800000003 345602.05000000075, 585572.4199999999 345639.08999999985, 585560.46 345610.76999999955, 585503.5099999998 345609.8499999996, 585479.6200000001 345648.5600000005, 585444.6600000001 345606.72000000067, 585377.9400000004 345657.9399999995, 585329.3799999999 345631.19999999925, 585369.9000000004 345603.8599999994, 585345.21 345567.77999999933, 585284.6799999997 345577.22000000067, 585267.6100000003 345584.4399999995, 585298.6799999997 345579.33999999985, 585318.9900000002 345596.2599999998, 585312.9699999997 345603.2100000009, 585280.7999999998 345586.6199999992, 585278.8499999996 345601.7100000009, 585200.1100000003 345605.1199999992, 585090.9199999999 345496.02999999933, 585040.5800000001 345547.0600000005, 584984.2400000002 345554.3900000006, 585120.3099999996 345576.7100000009, 585022.5 345582.19999999925, 585050.4199999999 345595.9299999997, 585024.1200000001 345605.7599999998, 584911.5 345595.8900000006, 584890.1399999997 345667.9600000009, 584787.165 345640.62600000016, 584774.6529999999 345691.65300000086, 585092.4689999996 345854.7860000003, 585384.773 345936.7520000003, 585891.1339999996 345950.9210000001, 586361.7879999997 346053.5610000007, 586844.8795999996 345955.53050000034, 586845.2324000001 345955.4626000002)), ((581159.3389999997 346737.1989999991, 582566.7240000004 346422.8929999992, 583812.9709999999 346258.909, 584460.193 346113.01099999994, 584732.1780000003 346015.22000000067, 584792.1919999998 345954.93799999915, 584796.517 345851.68400000036, 584687.9040000001 345727.7019999996, 584579.426 345714.98399999924, 584494.2300000004 345794.23000000045, 584394.8338000001 345823.7030999996, 584304.3399999999 345807.5600000005, 584332.0999999996 345876.0999999996, 584324.2000000002 345906.5, 584341.4000000004 345936.80000000075, 584341 345948.0999999996, 584334.2000000002 345966, 584270.4000000004 345973.30000000075, 584331.7999999998 345962.5, 584325.6101000002 345920.4213999994, 584271.79 345796.44999999925, 584208.7800000003 345837.1199999992, 584211.7400000002 345856.5700000003, 584160.0999999996 345970.30000000075, 584206.8300000001 345850.7100000009, 584157 345882.69999999925, 584225.2000000002 345811.1699999999, 584146.2699999996 345863.5399999991, 584096.0922999997 345956.0752000008, 584137.0999999996 346006.69999999925, 584091.2999999998 345970.69999999925, 584110 346041.5, 584088.2999999998 345972.30000000075, 584093 345955.19999999925, 584152.0499999998 345828.33999999985, 584073.7999999998 345887.19999999925, 584074.5999999996 345974.0999999996, 584048.7999999998 345967, 584059.2000000002 345977.4000000004, 584072.4000000004 346003.4000000004, 584080.4000000004 346030.19999999925, 584053.9746000003 345977.3490999993, 584050.2999999998 346002.5999999996, 584022.7999999998 345980.30000000075, 584035.0999999996 345951, 583998.7000000002 345988.0999999996, 584021.0999999996 346020.9000000004, 583994.7000000002 345993.80000000075, 583983.0999999996 346024.69999999925, 583989.9000000004 345986.0999999996, 583972.7999999998 346043.5999999996, 583962.5999999996 345989.9000000004, 583950.5 346000.9000000004, 583923.8529000003 346013.7215999998, 583911.75 346036.5099999998, 583916.5 346007.69999999925, 583885.4000000004 346028, 583901 346008, 583925.5 346001.0999999996, 583944.5999999996 345994.19999999925, 583947.0999999996 345894.30000000075, 583914.4000000004 345966.5, 583945.0999999996 345888.5, 583921.4000000004 345925.19999999925, 583921.3020000001 345795.97699999996, 583879.1799999997 345853.8699999992, 583886.9000000004 345851.80000000075, 583898 345883, 583901.7000000002 345945.30000000075, 583886.5 345856.80000000075, 583870.5999999996 345879.0999999996, 583879.0999999996 345899.19999999925, 583896.2000000002 345971, 583888.5999999996 346004.4000000004, 583874.4000000004 345955.4000000004, 583864.7999999998 345988.9000000004, 583857 346063.69999999925, 583856.5999999996 345993.69999999925, 583870.7000000002 345946.9000000004, 583874.5999999996 345897.9000000004, 583855.2000000002 345896.69999999925, 583872.3799999999 345865.7100000009, 583831.0300000003 345910.6099999994, 583835.7000000002 346064.5, 583825.1500000004 345914.5999999996, 583794 345961.0999999996, 583807.7000000002 345982.0999999996, 583806.5999999996 345992.19999999925, 583809.5 346081, 583799.7000000002 345979.4000000004, 583774 346017.5999999996, 583802.0999999996 345930.5999999996, 583764 346014.5, 583782.0999999996 345945.19999999925, 583746.2000000002 345955.30000000075, 583758.2000000002 345979.0999999996, 583732.7000000002 345964.19999999925, 583757.1879000003 346049.59830000065, 583734.7000000002 346079.30000000075, 583739.2000000002 346040.9000000004, 583713 346067.5, 583736 345992.19999999925, 583698.2000000002 346056.69999999925, 583695.2000000002 346114.19999999925, 583668.8142999997 346102.2857000008, 583701 346020.80000000075, 583621.5 346108.80000000075, 583727.2999999998 345987.5, 583658.7000000002 346023.0999999996, 583678.2000000002 345988.0999999996, 583796.7199999997 345920.19999999925, 583761.1699999999 345921.7899999991, 583754.5 345926.30000000075, 583739.4896999998 345919.6213000007, 583703.2000000002 345957.80000000075, 583717 345924.5999999996, 583696.5999999996 345920.30000000075, 583635.7000000002 346019.4000000004, 583689.9000000004 345916.4000000004, 583740.2999999998 345914.69999999925, 583751.9804999996 345919.5723000001, 583734.6200000001 345907.8499999996, 583698.2000000002 345897.69999999925, 583646.5 345931.0999999996, 583688.6900000004 345899.8499999996, 583665.7599999998 345891.3699999992, 583638.6399999997 345914.33999999985, 583630.3899999997 345978, 583602.4000000004 346015.30000000075, 583606.2000000002 346092.9000000004, 583595.5 346013.5999999996, 583548.7789000003 346067.4032000005, 583545.5 346063.80000000075, 583534.5 346109.80000000075, 583506.0999999996 346086.69999999925, 583539.5 346080.69999999925, 583552.9000000004 346018.30000000075, 583483.9000000004 346078.5, 583528.2999999998 346031, 583507.5 346001.4000000004, 583499 346015.9000000004, 583393.7000000002 346111.30000000075, 583432.2000000002 346066.30000000075, 583379.5 346087.80000000075, 583495.4713000003 346012.8738000002, 583479.5999999996 345991.9000000004, 583502.2000000002 345995.80000000075, 583554.8600000003 346011.9000000004, 583480.1699999999 345979.30000000075, 583389.4929999998 346000.5131999999, 583383 345997.19999999925, 583336.5 346022.9000000004, 583404 346037.9000000004, 583382.5999999996 346078.80000000075, 583335.9000000004 346105.5999999996, 583399.7999999998 346042.30000000075, 583347.2999999998 346059, 583363.7999999998 346041.9000000004, 583323.4000000004 346026.9000000004, 583295 346132.5999999996, 583281.0999999996 346104.30000000075, 583255.2411000002 346139.8937999997, 583293.2000000002 346077.9000000004, 583246 346108.30000000075, 583317.7999999998 346022.7400000002, 583254.7999999998 346032.1699999999, 583256.8600000003 346089.1099999994, 583093.5099999998 346205.5069999993, 583065.5 346191, 583081.0999999996 346145.19999999925, 583096.5999999996 346200.0999999996, 583162.7999999998 346120.4000000004, 583160.7000000002 346081.9000000004, 583166 346121.5, 583229.2000000002 346085.19999999925, 583136.2000000002 346054.69999999925, 583127.5 346021.5999999996, 583080.5999999996 346031.30000000075, 583128.4000000004 346007, 583040.5 345983.30000000075, 583084.4000000004 345979.30000000075, 583130.2999999998 346005.19999999925, 583138.9000000004 346051.0999999996, 583220.5999999996 346079.19999999925, 583258.2000000002 346003, 583170.5 346033.30000000075, 583251 345997.4000000004, 583213.5999999996 345981, 583222.7000000002 345959.4000000004, 583279.0999999996 346013.9000000004, 583413.25 345978.52999999933, 583397.7000000002 345972.5, 583367.9000000004 345981, 583315 345973.30000000075, 583369.6637000004 345976.2097999994, 583339.2000000002 345966.5, 583382.4800000004 345967.3699999992, 583375.0300000003 345920.4000000004, 583346.9000000004 345919, 583335.7999999998 345917.4000000004, 583317.7999999998 345913.0999999996, 583297.2000000002 345897.4000000004, 583264.4000000004 345923.5999999996, 583282.5999999996 345887.69999999925, 583188.9000000004 345910.5999999996, 583120.2000000002 345897, 583099.7000000002 345885.19999999925, 583122.2000000002 345907.0999999996, 583022.5999999996 345914.5, 582991.7000000002 345911.5, 582976.9000000004 345977.19999999925, 582988 345907.30000000075, 582959.5999999996 345918.5999999996, 582960.6962000001 345964.16779999994, 582950.9003999997 345916.40020000003, 582979.0999999996 345891.0999999996, 582879.5 345850.69999999925, 582853.2000000002 345869.19999999925, 582884.5999999996 345888, 582894.5 345928.5, 582905.7000000002 345952.9000000004, 582902.2000000002 345961.5, 582911.7999999998 345997.9000000004, 582878.0999999996 346000.5, 582900.3806999996 345951.76099999994, 582856.0999999996 345923.5999999996, 582881.2999999998 345889.9000000004, 582833.7999999998 345875.5999999996, 582864.915 345960.30370000005, 582812.9000000004 345892.80000000075, 582828 345858.4000000004, 582797.9000000004 345856.80000000075, 582783.4000000004 345842.0999999996, 582792.4000000004 345858.80000000075, 582796.5999999996 345865.0999999996, 582757.5 345885.69999999925, 582792.5999999996 345860.9000000004, 582735.2999999998 345876.80000000075, 582734 345847.4000000004, 582767.5999999996 345841.9000000004, 582721.7999999998 345820.80000000075, 582685.7999999998 345859, 582688.4000000004 345882.19999999925, 582703 345876.0999999996, 582721.4000000004 345882.69999999925, 582721 345955.69999999925, 582744.2328000003 345956.0557000004, 582692.7000000002 345989.69999999925, 582718.5999999996 346004.9000000004, 582694.5 346001.4000000004, 582697 346009.5, 582705.0999999996 346024.19999999925, 582712.9000000004 346047.9000000004, 582704.2000000002 346073.69999999925, 582758 346090.4000000004, 582797.2999999998 346152.9000000004, 582779.0999999996 346191, 582820.2999999998 346197.9000000004, 582831.2000000002 346221.0999999996, 582830 346228.69999999925, 582820.5999999996 346243.5, 582822.5999999996 346251.0999999996, 582857.4749999996 346247.6150000002, 582813 346256.9000000004, 582818.0999999996 346239.19999999925, 582827.7999999998 346221.80000000075, 582771.9000000004 346190.4000000004, 582792.5999999996 346152.80000000075, 582753.5999999996 346093.80000000075, 582697.3858000003 346094.0621000007, 582684.2000000002 346157.5999999996, 582701.4491999997 346053.1967999991, 582703.2000000002 346042.5999999996, 582647.2999999998 346046.19999999925, 582642.7000000002 346040.19999999925, 582640.7000000002 346031.5, 582646.2999999998 346014.80000000075, 582625.4000000004 346004.4000000004, 582613 346034.5, 582635.5999999996 346075.4000000004, 582612.4000000004 346045.19999999925, 582610.5 346027.9000000004, 582615.4000000004 346014, 582623.4000000004 346001.4000000004, 582630.2000000002 345997.4000000004, 582648.7000000002 346012.4000000004, 582652.8499999996 346020.8499999996, 582645.2000000002 346040.80000000075, 582702.2000000002 346034.69999999925, 582697.6639 346024.98259999976, 582655.0999999996 345933.80000000075, 582607.8601000002 345955.2898999993, 582562.4000000004 346043.80000000075, 582605 345950.19999999925, 582617.0999999996 345937.30000000075, 582653.9000000004 345930.69999999925, 582662.0999999996 345937.5999999996, 582686 345987.80000000075, 582716.9000000004 345892.19999999925, 582703.2433000002 345887.97289999947, 582694.9000000004 345889.0999999996, 582677.5999999996 345896.9000000004, 582657.7999999998 345878.69999999925, 582645.5 345870.0999999996, 582645.7000000002 345894, 582630 345860.9000000004, 582567.2999999998 345941.19999999925, 582567.2000000002 345901.0999999996, 582640.2000000002 345835.19999999925, 582619.5 345824.69999999925, 582623.5 345802.0999999996, 582610.9000000004 345809.5999999996, 582603.0999999996 345807.9000000004, 582588 345800.5, 582569.7704999996 345771.68459999934, 582600.2000000002 345784.5999999996, 582588.2000000002 345734.5, 582574 345732.5999999996, 582580 345750.80000000075, 582571.7999999998 345741.0999999996, 582566.5999999996 345713.69999999925, 582527.7999999998 345669.30000000075, 582490.0999999996 345672.9000000004, 582540 345728.5999999996, 582528.2999999998 345781.0999999996, 582586.0645000003 345805.23399999924, 582542.7000000002 345817, 582561.20000'),)"
            ]
          },
          "execution_count": 395,
          "metadata": {},
          "output_type": "execute_result"
        }
      ],
      "source": [
        "fynesse.assess.execute_query(conn, \"SELECT db_id, geometry_string_ne FROM oa_data WHERE geometry IS NULL;\")"
      ]
    },
    {
      "cell_type": "code",
      "execution_count": 397,
      "metadata": {},
      "outputs": [
        {
          "data": {
            "text/plain": [
              "()"
            ]
          },
          "execution_count": 397,
          "metadata": {},
          "output_type": "execute_result"
        }
      ],
      "source": [
        "fynesse.assess.execute_query(conn, \"DELETE FROM oa_data WHERE db_id = 128262;\")\n",
        "fynesse.assess.execute_query(conn, \"SELECT * FROM oa_data WHERE db_id = 128262;\")"
      ]
    },
    {
      "cell_type": "code",
      "execution_count": 481,
      "metadata": {},
      "outputs": [],
      "source": [
        "# geography_code = 'E00135410'"
      ]
    },
    {
      "cell_type": "code",
      "execution_count": 480,
      "metadata": {},
      "outputs": [
        {
          "data": {
            "text/plain": [
              "()"
            ]
          },
          "execution_count": 480,
          "metadata": {},
          "output_type": "execute_result"
        }
      ],
      "source": [
        "fynesse.assess.execute_query(conn, \"DELETE FROM census_data_1 WHERE db_id = 128262;\")\n",
        "fynesse.assess.execute_query(conn, \"SELECT * FROM census_data_1 WHERE db_id = 128262;\")"
      ]
    },
    {
      "cell_type": "code",
      "execution_count": 401,
      "metadata": {},
      "outputs": [
        {
          "data": {
            "text/plain": [
              "[]"
            ]
          },
          "execution_count": 401,
          "metadata": {},
          "output_type": "execute_result"
        }
      ],
      "source": [
        "fynesse.assess.execute_query(conn, \"ALTER TABLE oa_data MODIFY COLUMN geometry GEOMETRY NOT NULL;\")"
      ]
    },
    {
      "cell_type": "code",
      "execution_count": 403,
      "metadata": {},
      "outputs": [
        {
          "data": {
            "text/plain": [
              "[]"
            ]
          },
          "execution_count": 403,
          "metadata": {},
          "output_type": "execute_result"
        }
      ],
      "source": [
        "fynesse.assess.execute_query(conn, \"ALTER TABLE oa_data ADD SPATIAL INDEX (geometry);\")"
      ]
    },
    {
      "cell_type": "markdown",
      "metadata": {},
      "source": [
        "### Intermediate summary"
      ]
    },
    {
      "cell_type": "code",
      "execution_count": null,
      "metadata": {},
      "outputs": [],
      "source": [
        "fynesse.assess.get_summary_on_db(conn)"
      ]
    },
    {
      "cell_type": "code",
      "execution_count": null,
      "metadata": {},
      "outputs": [],
      "source": [
        "\"\"\"\n",
        "\n",
        "Table census_data_1 - Approx Row Count 0.1M\n",
        "('date', 'geography', 'geography_code', 'NSSEC_Total', 'NSSEC_L1_L2_L3', 'NSSEC_L4_L5_L6', 'NSSEC_L7', 'NSSEC_L8_L9', 'NSSEC_L10_L11', 'NSSEC_L12', 'NSSEC_L13', 'NSSEC_L14', 'NSSEC_L15', 'db_id', 'MI_Total', 'MI_AddrYearAgoSameInUK', 'MI_AddrYearAgoStudentInUK', 'MI_AddrYearAgoInUK', 'MI_AddrYearAgoOutUK')\n",
        "(2021, 'E00000001', 'E00000001', 159, 80, 38, 13, 9, 3, 5, 5, 4, 2, 1, 175, 154, 0, 9, 12)\n",
        "(2021, 'E00000003', 'E00000003', 222, 96, 58, 8, 26, 2, 5, 2, 5, 20, 2, 252, 228, 6, 13, 5)\n",
        "(2021, 'E00000005', 'E00000005', 103, 37, 28, 8, 21, 0, 3, 1, 1, 4, 3, 113, 99, 0, 12, 2)\n",
        "Indices:\n",
        " - idx_geography (BTREE): Column geography\n",
        " - idx_geography_code (BTREE): Column geography_code\n",
        "\n",
        "Table oa_data - Approx Row Count 0.1M\n",
        "('FID', 'OA21CD', 'LSOA21CD', 'LSOA21NM', 'LSOA21NMW', 'BNG_E', 'BNG_N', 'LAT', 'LON', 'ShapeArea', 'ShapeLength', 'GlobalID', 'db_id', 'geometry_string_ne', 'geometry')\n",
        "(1, 'E00000001', 'E01000001', 'City of London 001A', ' ', 532250, 181864, 51.5202, -0.09523, 6949.15, 421.166, '3a44dd3d-5082-4a09-9b9c-3a5fadc811ed\\r', 1, 'POLYGON ((532303.4919999996 181814.1099999994, 532213.3779999996 181846.1919999998, 532194.8990000002 181874.26300000027, 532162.9718000004 181864.00879999995, 532162.4910000004 181867.76300000027, 532248.3943999996 181895.3501999993, 532282.6299999999 181906.49599999934, 532308.875 181914.79700000025, 532303.4919999996 181814.1099999994))', b'\\x00\\x00\\x00\\x00\\x01\\x03\\x00\\x00\\x00\\x01\\x00\\x00\\x00\\t\\x00\\x00\\x00\\x88l\\xe7\\xfb\\x9e> A\\x00\\xaeG\\xe1\\xb01\\x06AH7\\x89\\xc1\\xea= A\\xc0K7\\x89\\xb12\\x06A`\\xbaI\\xcc\\xc5= A\\x80\\xbe\\x9f\\x1a\\x923\\x06A\\x08\\xc5\\x8f\\xf1\\x85= A\\x00\\xbc\\x05\\x12@3\\x06A Zd\\xfb\\x84= A\\x80\\xbe\\x9f\\x1a^3\\x06A\\xf8\\xcb\\xee\\xc90> A@\\xa85\\xcd:4\\x06A(\\\\\\x8fBu> A\\x00\\xd9\\xce\\xf7\\x934\\x06A\\x00\\x00\\x00\\xc0\\xa9> A@\\x89A`\\xd64\\x06A\\x88l\\xe7\\xfb\\x9e> A\\x00\\xaeG\\xe1\\xb01\\x06A')\n",
        "(2, 'E00000003', 'E01000001', 'City of London 001A', ' ', 532171, 181819, 51.5198, -0.09638, 4492.41, 307.715, 'f1216dc8-14d1-4857-9230-cab0641758fb\\r', 2, 'POLYGON ((532213.3779999996 181846.1919999998, 532190.5392000005 181796.06120000035, 532180.131 181763.01999999955, 532155.909 181805.6799999997, 532127.2989999996 181800.62399999984, 532162.9718000004 181864.00879999995, 532194.8990000002 181874.26300000027, 532213.3779999996 181846.1919999998))', b'\\x00\\x00\\x00\\x00\\x01\\x03\\x00\\x00\\x00\\x01\\x00\\x00\\x00\\x08\\x00\\x00\\x00H7\\x89\\xc1\\xea= A\\xc0K7\\x89\\xb12\\x06A\\xc0\\x05\\x12\\x14\\xbd= A\\x00mV} 1\\x06A\\x98n\\x12C\\xa8= A\\x80\\xc2\\xf5(\\x180\\x06A\\xb0rh\\xd1w= A\\x00\\xd7\\xa3pm1\\x06A(\\x87\\x16\\x99>= A@\\xb6\\xf3\\xfdD1\\x06A\\x08\\xc5\\x8f\\xf1\\x85= A\\x00\\xbc\\x05\\x12@3\\x06A`\\xbaI\\xcc\\xc5= A\\x80\\xbe\\x9f\\x1a\\x923\\x06AH7\\x89\\xc1\\xea= A\\xc0K7\\x89\\xb12\\x06A')\n",
        "(3, 'E00000005', 'E01000001', 'City of London 001A', ' ', 532166, 181722, 51.519, -0.09649, 8565.51, 385.205, '44d6f70f-549c-4288-9b6d-de2adbf02582\\r', 3, 'POLYGON ((532180.131 181763.01999999955, 532219.1610000003 181703.9389999993, 532201.2920000004 181668.1799999997, 532124.3210000005 181682.67500000075, 532127.2989999996 181800.62399999984, 532155.909 181805.6799999997, 532180.131 181763.01999999955))', b'\\x00\\x00\\x00\\x00\\x01\\x03\\x00\\x00\\x00\\x01\\x00\\x00\\x00\\x07\\x00\\x00\\x00\\x98n\\x12C\\xa8= A\\x80\\xc2\\xf5(\\x180\\x06A\\x90\\x97nR\\xf6= A\\x80n\\x12\\x83?.\\x06A(\\x06\\x81\\x95\\xd2= A\\x00\\xd7\\xa3p!-\\x06A\\xb0\\x1cZ\\xa48= A\\x80fff\\x95-\\x06A(\\x87\\x16\\x99>= A@\\xb6\\xf3\\xfdD1\\x06A\\xb0rh\\xd1w= A\\x00\\xd7\\xa3pm1\\x06A\\x98n\\x12C\\xa8= A\\x80\\xc2\\xf5(\\x180\\x06A')\n",
        "Indices:\n",
        " - PRIMARY (BTREE): Column FID\n",
        " - idx_oa (BTREE): Column OA21CD\n",
        " - idx_lsoa (BTREE): Column LSOA21CD\n",
        " - idx_lat_lon_btree (BTREE): Column LAT\n",
        " - idx_lat_lon_btree (BTREE): Column LON\n",
        " - geometry (SPATIAL): Column geometry\n",
        "\n",
        "Table osm_data - Approx Row Count 2.3M\n",
        "('element_type', 'osmid', 'geometry_string_ll', 'ways', 'nodes', 'type', 'addr_country', 'addr_postcode', 'addr_street', 'addr_housenumber', 'addr_city', 'addr_housename', 'addr_place', 'name', 'alt_name', 'old_name', 'nohousenumber', 'note', 'disused', 'height', 'amenity', 'tourism', 'brand', 'leisure', 'cuisine', 'emergency', 'historic', 'sport', 'shop', 'religion', 'power', 'military', 'house', 'building', 'building_material', 'building_levels', 'internet_access', 'capacity', 'roof_levels', 'roof_shapefee', 'man_made', 'denomination', 'layer', 'db_id', 'geometry_string_ne', 'geometry')\n",
        "('way', 72499117, 'POLYGON ((-6.3134352 49.9146669, -6.3134663 49.9147353, -6.3134061 49.9147467, -6.3134095 49.9147542, -6.3131503 49.9148031, -6.3131469 49.9147957, -6.3130936 49.9148057, -6.3130624 49.9147373, -6.3134352 49.9146669))', '', '[860681919, 860681920, 9169387085, 9169387084, 9169387083, 9169387086, 860681921, 860681922, 860681919]', '', '', 'TR21 0JT', 'Church Street', '', 'Hugh Town', '', '', 'Isles of Scilly Museum', '', '', '', '', '', '', '', 'museum', '', '', '', '', '', '', '', '', '', '', '', 'yes', '', '', '', '', '', '', '', '', '', 1, 'POLYGON ((90458.76146576129 10530.59510146096, 90456.96838425193 10538.325346537269, 90461.36151221936 10539.34294224321, 90461.1656261129 10540.190514922826, 90480.0796803821 10544.551471966843, 90480.27621043124 10543.71501331353, 90484.16519925534 10544.605615865905, 90485.96549134556 10536.874967216398, 90458.76146576129 10530.59510146096))', b\"\\x00\\x00\\x00\\x00\\x01\\x03\\x00\\x00\\x00\\x01\\x00\\x00\\x00\\t\\x00\\x00\\x00\\xdc\\xb8\\xf6.\\xac\\x15\\xf6@P\\xe0H,L\\x91\\xc4@@|\\x80~\\x8f\\x15\\xf6@\\xb8\\x90\\xf4\\xa4)\\x95\\xc4@t\\t\\xc1\\xc8\\xd5\\x15\\xf6@\\x80\\x0b\\x88\\xe5\\xab\\x95\\xc4@$\\x91g\\xa6\\xd2\\x15\\xf6@x\\x01\\xcbb\\x18\\x96\\xc4@\\xb4\\xef^F\\x01\\x17\\xf6@ '\\xa2\\x96F\\x98\\xc4@\\x10\\xa1[k\\x04\\x17\\xf6@\\xe8f\\x8e\\x85\\xdb\\x97\\xc4@p\\xf9\\xa7\\xa4B\\x17\\xf6@\\x00\\x19\\xd2\\x84M\\x98\\xc4@\\x9c\\r\\xa7r_\\x17\\xf6@\\xc0\\xfd\\xec\\xfeo\\x94\\xc4@\\xdc\\xb8\\xf6.\\xac\\x15\\xf6@P\\xe0H,L\\x91\\xc4@\")\n",
        "('way', 112445611, 'POLYGON ((-6.3084596 49.9166407, -6.308579 49.916719, -6.3085171 49.9167581, -6.3084892 49.9167398, -6.3085024 49.9167315, -6.3084109 49.9166715, -6.3084596 49.9166407))', '', '[9170680719, 1277992838, 9170680715, 9170680714, 9170680716, 1277992862, 9170680719]', '', '', 'TR21 0JY', '', '', 'Portmellon', '', '', 'The Sailing Centre', '', '', '', '', '', '', '', '', '', 'boathouse', '', '', '', 'sailing', '', '', '', '', '', 'yes', '', '', '', '', '', '', '', '', '', 2, 'POLYGON ((90828.4609464347 10729.354209220925, 90820.39463746297 10738.549788717108, 90825.08695750969 10742.639007787584, 90826.97177186015 10740.489873598155, 90825.97139167401 10739.62207760218, 90832.15288637078 10732.575638220165, 90828.4609464347 10729.354209220925))', b'\\x00\\x00\\x00\\x00\\x01\\x03\\x00\\x00\\x00\\x01\\x00\\x00\\x00\\x07\\x00\\x00\\x00d^\\t`\\xc7,\\xf6@\\xe8M\\xbaV\\xad\\xf4\\xc4@T_oPF,\\xf6@\\xd8\\x07z_F\\xf9\\xc4@\\xc4\\x8e-d\\x91,\\xf6@\\xc8\\xd6\\x01\\xcbQ\\xfb\\xc4@h\\xa6`\\x8c\\xaf,\\xf6@\\xa0\\x95-\\xb4>\\xfa\\xc4@\\xf8\\xfe\\xd1\\x8a\\x9f,\\xf6@x&=\\xa0\\xcf\\xf9\\xc4@\\xa8\\xfa8r\\x02-\\xf6@\\xf8`\\x83\\xaeI\\xf6\\xc4@d^\\t`\\xc7,\\xf6@\\xe8M\\xbaV\\xad\\xf4\\xc4@')\n",
        "('way', 112445629, 'POLYGON ((-6.3087257 49.9166066, -6.3085551 49.916498, -6.3086358 49.9164671, -6.3087896 49.9165649, -6.3087257 49.9166066))', '', '[1277992753, 9170680721, 1277992733, 1277992688, 1277992753]', '', '', 'TR21 0JY', '', '', 'Portmellon', '', '', 'The Beach', '', '', '', '', '', '', 'restaurant', '', '', '', '', '', '', '', '', '', '', '', '', 'yes', '', '', '', '', '', '', '', '', '', 3, 'POLYGON ((90809.14760272152 10726.665366668487, 90820.69383186748 10713.890660483463, 90814.70495984284 10710.790500333693, 90804.2950828856 10722.295490033372, 90809.14760272152 10726.665366668487))', b'\\x00\\x00\\x00\\x00\\x01\\x03\\x00\\x00\\x00\\x01\\x00\\x00\\x00\\x05\\x00\\x00\\x00\\xdc\\xab\\x94\\\\\\x92+\\xf6@\\x80(\\xbc*U\\xf3\\xc4@\\xbcq\\xef\\x19K,\\xf6@(\\xa8)\\x01\\xf2\\xec\\xc4@\\xe0\\xf8\\x83G\\xeb+\\xf6@Xl\\x1d/e\\xeb\\xc4@\\xf4\\xd4\\xa8\\xb8D+\\xf6@\\xd0\\x0e\\x9e\\xd2%\\xf1\\xc4@\\xdc\\xab\\x94\\\\\\x92+\\xf6@\\x80(\\xbc*U\\xf3\\xc4@')\n",
        "Indices:\n",
        " - idx_postcode (BTREE): Column addr_postcode\n",
        " - idx_db_id (BTREE): Column db_id\n",
        " - geometry (SPATIAL): Column geometry\n",
        "\n",
        "Table osm_data_sample - Approx Row Count 0.0M\n",
        "('element_type', 'osmid', 'geometry_string_ll', 'ways', 'nodes', 'type', 'addr_country', 'addr_postcode', 'addr_street', 'addr_housenumber', 'addr_city', 'addr_housename', 'addr_place', 'name', 'alt_name', 'old_name', 'nohousenumber', 'note', 'disused', 'height', 'amenity', 'tourism', 'brand', 'leisure', 'cuisine', 'emergency', 'historic', 'sport', 'shop', 'religion', 'power', 'military', 'house', 'building', 'building_material', 'building_levels', 'internet_access', 'capacity', 'roof_levels', 'roof_shapefee', 'man_made', 'denomination', 'layer', 'db_id', 'geometry_string_ne', 'geometry')\n",
        "('relation', 1576004, 'POLYGON ((-5.3588132 50.137841, -5.3588119 50.1379062, -5.3588302 50.1379064, -5.3588303 50.137916, -5.3588298 50.1379271, -5.3591748 50.1379298, -5.3591737 50.1379875, -5.359063 50.1379867, -5.3588525 50.137985, -5.3587354 50.1379841, -5.3587345 50.1380317, -5.3582376 50.1380279, -5.3582395 50.1379277, -5.3582623 50.1379278, -5.3582655 50.1377577, -5.3583753 50.1377585, -5.3583746 50.137798, -5.3584518 50.1377986, -5.3586827 50.1378004, -5.358682 50.13784, -5.3587528 50.137841, -5.3588132 50.137841), (-5.3586324 50.1378861, -5.3586326 50.1378722, -5.3584124 50.1378714, -5.3584115 50.1379669, -5.358487 50.1379672, -5.3586316 50.1379678, -5.3586324 50.1378861))', '[112168276, 112168270]', '[[[1275780250, 1275780520, 6915654134, 6915654135, 6915654127, 1275780590, 1275780263, 1275780264, 6915654094, 6915654093, 1275780324, 1275780605, 1275780649, 1275780536, 1275780574, 1275780460, 1275780494, 1275780375, 11543332618, 1275780477, 1275780444, 1275780250], [1275780610, 6915616070, 1275780448, 1275780303, 1275780358, 6915616068, 1275780610]]]', 'multipolygon', '', 'TR13 9RE', '', '', 'Helston', 'Godolphin Estate', 'Godolphin Cross', 'Godolphin Count House', '', '', '', '', '', '', '', 'attraction', '', '', '', '', '', '', '', '', '', '', '', 'yes', '', '', '', '', '', '', '', '', '-2.0', 9231, 'POLYGON ((160086.16956965212 31822.472745400475, 160086.58895984557 31829.71596022285, 160085.2825716251 31829.79709322439, 160085.32350359295 31830.864516799717, 160085.4148126958 31832.09674381002, 160060.78083433688 31833.507368218503, 160061.1484081984 31839.917552823725, 160069.0530244006 31839.472289172612, 160084.08304005134 31838.605765294487, 160092.44438522015 31838.12882112735, 160092.74705420376 31843.416970515507, 160128.22749901644 31841.395378445304, 160127.5900522634 31830.263617495773, 160125.9616744297 31830.348106398684, 160124.88135450747 31811.4506942546, 160117.04099638914 31811.892977273732, 160117.2887921534 31816.28140370059, 160111.7764561905 31816.596549069625, 160095.28945915794 31817.539766504895, 160095.53777390122 31821.939308143687, 160090.48467634825 31822.278339675016, 160086.16956965212 31822.472745400475), (160099.31215739273 31826.90398117411, 160099.22826281504 31825.35955047325, 160114.95581193813 31824.561936467944, 160115.49830795583 31835.17447969984, 160110.10594067888 31835.450809407223, 160099.7784352009 31835.982886881276, 160099.31215739273 31826.90398117411))', b'\\x00\\x00\\x00\\x00\\x01\\x03\\x00\\x00\\x00\\x02\\x00\\x00\\x00\\x16\\x00\\x00\\x00rUG[\\xb1\\x8a\\x03A\\x98\\xecuA\\x9e\\x13\\xdf@[\\x940\\xb6\\xb4\\x8a\\x03A\\x98\\xd3J\\xd2m\\x15\\xdf@\\x85\\xe9\\xb4B\\xaa\\x8a\\x03A\\xa8L\\x93\\x03s\\x15\\xdf@?\\r\\x89\\x96\\xaa\\x8a\\x03AhE>T\\xb7\\x15\\xdf@\\x93Q\\x89Q\\xab\\x8a\\x03A\\x08\\xf3\\x0c1\\x06\\x16\\xdf@\\xa4\\x12&?\\xe6\\x89\\x03A`\\x8c\\xb8x`\\x16\\xdf@5\\xa3\\xf0/\\xe9\\x89\\x03A\\x90z/\\xb9\\xfa\\x17\\xdf@\\x94\\x0e\\x98l(\\x8a\\x03A\\xa8]\\xfc9\\xde\\x17\\xdf@\\x06\\xe7\\x10\\xaa\\xa0\\x8a\\x03A8\\xcc\\xdb\\xc4\\xa6\\x17\\xdf@\\x9b\\xd6\\x19\\x8e\\xe3\\x8a\\x03A@\\xf8\\x9a>\\x88\\x17\\xdf@\\xec\\x8d\\xf7\\xf9\\xe5\\x8a\\x03A\\xe0\\x19\\xa5\\xaf\\xda\\x18\\xdf@\\x1c\\x01\\xeb\\xd1\\x01\\x8c\\x03A\\x08e\\xe1MY\\x18\\xdf@2Rm\\xb8\\xfc\\x8b\\x03A\\xc0\\xea\\x1b\\xdf\\x90\\x15\\xdf@\\x08]\\x82\\xb1\\xef\\x8b\\x03Ax\\x0f`G\\x96\\x15\\xdf@\\x8e\\x97\\x03\\r\\xe7\\x8b\\x03A\\x00\\xb7,\\xd8\\xdc\\x10\\xdf@5\\xea\\xf5S\\xa8\\x8b\\x03A\\xb0&\\x8a&\\xf9\\x10\\xdf@\\xb2BrO\\xaa\\x8b\\x03A\\xc0\\xaa\\x84\\x02\\x12\\x12\\xdf@\\xc8\\xa9.6~\\x8b\\x03A &\\xdc-&\\x12\\xdf@\\x87\\xf6\\xcfP\\xfa\\x8a\\x03A\\x80\\xcf\\x88\\x8bb\\x12\\xdf@3g\\\\M\\xfc\\x8a\\x03A\\x80\\xe7\\x9f\\x1d|\\x13\\xdf@G\\xfe\\x9d\\xe0\\xd3\\x8a\\x03AX6Q\\xd0\\x91\\x13\\xdf@rUG[\\xb1\\x8a\\x03A\\x98\\xecuA\\x9e\\x13\\xdf@\\x07\\x00\\x00\\x00\\x08`L\\x7f\\x1a\\x8b\\x03A\\xc0\\xda\\xd3\\xda\\xb9\\x14\\xdf@lt{\\xd3\\x19\\x8b\\x03A\\xf8\\xfc\\xdf\\x02W\\x14\\xdf@\\xbb\\xba\\x80\\xa5\\x97\\x8b\\x03A\\x10`\\xc4\\xf6#\\x14\\xdf@\\xad\\xe1\\x88\\xfc\\x9b\\x8b\\x03A(\\xe7\\xac*\\xcb\\x16\\xdf@9m\\xf7\\xd8p\\x8b\\x03A0\\xb3\\x0f\\xda\\xdc\\x16\\xdf@\\x0f<<:\\x1e\\x8b\\x03A\\xb0`\\x9e\\xe7\\xfe\\x16\\xdf@\\x08`L\\x7f\\x1a\\x8b\\x03A\\xc0\\xda\\xd3\\xda\\xb9\\x14\\xdf@')\n",
        "('relation', 6272289, 'POLYGON ((-5.2770057 50.2289954, -5.2770251 50.2290046, -5.2769484 50.2290713, -5.2769275 50.2290614, -5.2767873 50.2291834, -5.276366 50.2289853, -5.2764183 50.2289398, -5.27672 50.2286772, -5.2771429 50.228876, -5.2770057 50.2289954), (-5.2767544 50.2288051, -5.2765608 50.2289686, -5.2767531 50.2290618, -5.2769468 50.2288983, -5.2767544 50.2288051))', '[143400736, 421970682]', '[[[1569200506, 4217005352, 4217005353, 4217005358, 4217005356, 1569200517, 1569200508, 5475247462, 1569200481, 1569200506], [4217005349, 4217005348, 4217005350, 4217005357, 4217005349]]]', 'multipolygon', '', 'TR15 3RD', 'Trevenson Road', '', 'Redruth', '', '', 'Trevithick Court', '', '', '', '', '', '', '', '', '', '', '', '', '', '', '', '', '', '', '', 'college', '', '1.0', '', '', '', '', '', '', '', 9232, 'POLYGON ((166376.37276804046 41694.974749416986, 166375.0344211005 41696.05829827403, 166380.82997802846 41703.231912765885, 166382.27185992844 41702.06584648584, 166392.86590993474 41715.187303649174, 166421.93846893095 41691.84465051026, 166417.986551931 41686.95100738492, 166395.1886003087 41658.70729205961, 166366.0052828661 41682.132921668206, 166376.37276804046 41694.974749416986), (166393.36129452076 41673.0325111158, 166407.96616721348 41690.59953518893, 166394.70974411705 41701.56301420703, 166380.09772006687 41683.99633974003, 166393.36129452076 41673.0325111158))', b'\\x00\\x00\\x00\\x00\\x01\\x03\\x00\\x00\\x00\\x02\\x00\\x00\\x00\\n\\x00\\x00\\x00v\\xcfm\\xfbBO\\x04Ax\\xb0%1\\xdf[\\xe4@\\xe8\\x91~F8O\\x04A\\x8cW\\x94\\xdd\\x01\\\\\\xe4@E\\x85\\xcb\\xa3fO\\x04A R\\xd4k\\xe7\\\\\\xe4@\\xee\\xe5\\xc4,rO\\x04A\\xe8\\x16j\\x1b\\xc2\\\\\\xe4@\\x180b\\xed\\xc6O\\x04A\\xf48d\\xfee^\\xe4@\\xb6\\xff\\xfb\\x81\\xafP\\x04A\\xc4\\x81`\\x07{[\\xe4@\\xbcVu\\xe4\\x8fP\\x04A\\x10\\n\\xa7n\\xdeZ\\xe4@\\xef\\xe0@\\x82\\xd9O\\x04A\\x18\\xf5\"\\xa2VW\\xe4@I\\xbe\\xd1\\n\\xf0N\\x04A<\\xf1\\xe4@DZ\\xe4@v\\xcfm\\xfbBO\\x04Ax\\xb0%1\\xdf[\\xe4@\\x05\\x00\\x00\\x00\\xb7a\\xee\\xe3\\xcaO\\x04Ad\\xc0T\\n!Y\\xe4@C\\xe0\\xb5\\xba?P\\x04A\\xa8kd/S[\\xe4@\\xdaR\\x8e\\xad\\xd5O\\x04A\\xcc^6\\x04\\xb2\\\\\\xe4@[u!\\xc8`O\\x04A\\xe4\\xe0\\x03\\xe2\\x7fZ\\xe4@\\xb7a\\xee\\xe3\\xcaO\\x04Ad\\xc0T\\n!Y\\xe4@')\n",
        "('relation', 7012772, 'POLYGON ((-5.2737421 50.2274724, -5.2735134 50.2275462, -5.2735414 50.2275817, -5.2735731 50.2276211, -5.2734847 50.2276494, -5.2734453 50.2276006, -5.2733934 50.2276178, -5.2732982 50.2274979, -5.273668 50.2273785, -5.2737421 50.2274724))', '[143400690]', '[[[1569200022, 1569200044, 5429909876, 1569200108, 1569200129, 5472660274, 5472660273, 1569200023, 1569199906, 1569200022]]]', 'multipolygon', '', 'TR15 3RD', 'Trevenson Road', '', 'Redruth', '', '', 'dBs', '', '', '', '', '', '', '', '', '', '', '', '', '', '', '', '', '', '', '', 'college', '', '2.0', '', '', '', '', '', '', '', 9233, 'POLYGON ((166601.6469998361 41515.44198465673, 166618.31610309827 41522.928540665045, 166616.49293302154 41526.96247665322, 166614.42498174557 41531.441534391284, 166620.86700770017 41534.310207305214, 166623.43810670276 41528.76211560643, 166627.22310428528 41530.51135377839, 166633.42582582674 41516.8849150138, 166606.4721160039 41504.77180834714, 166601.6469998361 41515.44198465673))', b'\\x00\\x00\\x00\\x00\\x01\\x03\\x00\\x00\\x00\\x01\\x00\\x00\\x00\\n\\x00\\x00\\x00\\x05@\\x0e-MV\\x04A\\xc0\\x01\\xbd$nE\\xe4@\\xaa\\x0fa\\x87\\xd2V\\x04A\\xac\\xe9\\x9a\\xb6]F\\xe4@5\\xde\\x86\\xf1\\xc3V\\x04A\\x98\\xd6\\x9b\\xcc\\xdeF\\xe4@U\\xd4\\\\f\\xb3V\\x04AT\\xbb\\x0c!nG\\xe4@\\xad\\xbb\\xa1\\xef\\xe6V\\x04A\\xdc\\xde7\\xed\\xc9G\\xe4@D\\x16>\\x81\\xfbV\\x04A\\xacD@c\\x18G\\xe4@G\\xe6\\xea\\xc8\\x19W\\x04A\\\\\\x99\\x02]PG\\xe4@\\xfd^\\x17hKW\\x04A\\x80J9Q\\x9cE\\xe4@e\\xc1\\xe4\\xc6sV\\x04A8k\\xa7\\xb2\\x18D\\xe4@\\x05@\\x0e-MV\\x04A\\xc0\\x01\\xbd$nE\\xe4@')\n",
        "Indices:\n",
        " - idx_postcode (BTREE): Column addr_postcode\n",
        " - idx_db_id (BTREE): Column db_id\n",
        " - geometry (SPATIAL): Column geometry\n",
        "\n",
        "Table postcode_data - Approx Row Count 2.5M\n",
        "('postcode', 'status', 'usertype', 'easting', 'northing', 'positional_quality_indicator', 'country', 'latitude', 'longitude', 'postcode_no_space', 'postcode_fixed_width_seven', 'postcode_fixed_width_eight', 'postcode_area', 'postcode_district', 'postcode_sector', 'outcode', 'incode', 'db_id')\n",
        "('AB1 0AA', 'terminated', 'small', 385386, 801193, 1, 'Scotland', Decimal('57.10147400'), Decimal('-2.24285100'), 'AB10AA', 'AB1 0AA', 'AB1  0AA', 'AB', 'AB1', 'AB1 0', 'AB1', '0AA', 1)\n",
        "('AB1 0AB', 'terminated', 'small', 385177, 801314, 1, 'Scotland', Decimal('57.10255400'), Decimal('-2.24630800'), 'AB10AB', 'AB1 0AB', 'AB1  0AB', 'AB', 'AB1', 'AB1 0', 'AB1', '0AB', 2)\n",
        "('AB1 0AD', 'terminated', 'small', 385053, 801092, 1, 'Scotland', Decimal('57.10055600'), Decimal('-2.24834200'), 'AB10AD', 'AB1 0AD', 'AB1  0AD', 'AB', 'AB1', 'AB1 0', 'AB1', '0AD', 3)\n",
        "Indices:\n",
        " - PRIMARY (BTREE): Column db_id\n",
        " - idx_postcode_postcode (BTREE): Column postcode\n",
        "\n",
        "Table pp_data - Approx Row Count 29.3M\n",
        "('transaction_unique_identifier', 'price', 'date_of_transfer', 'postcode', 'property_type', 'new_build_flag', 'tenure_type', 'primary_addressable_object_name', 'secondary_addressable_object_name', 'street', 'locality', 'town_city', 'district', 'county', 'ppd_category_type', 'record_status', 'db_id')\n",
        "('{109BBF80-1E51-4910-8E2C-B124E1117A7A}', 34950, datetime.date(1995, 6, 9), 'BA3 3AH', 'F', 'N', 'L', 'COOMBEND HOUSE', '7', 'COOMBEND', 'RADSTOCK', 'RADSTOCK', 'WANSDYKE', 'AVON', 'A', 'A', 1)\n",
        "('{D5233D67-2975-426B-B98D-B124E39331D9}', 133000, datetime.date(1995, 6, 19), 'SW18 5AG', 'T', 'N', 'F', '142', '', 'ASTONVILLE STREET', 'LONDON', 'LONDON', 'WANDSWORTH', 'GREATER LONDON', 'A', 'A', 2)\n",
        "('{718BD35C-25E1-431C-8AF7-B124E63ED4E1}', 83000, datetime.date(1995, 8, 21), 'IP11 7PU', 'D', 'N', 'F', '3', '', 'GARFIELD ROAD', 'FELIXSTOWE', 'FELIXSTOWE', 'SUFFOLK COASTAL', 'SUFFOLK', 'A', 'A', 3)\n",
        "Indices:\n",
        " - PRIMARY (BTREE): Column db_id\n",
        " - idx_pp_postcode (BTREE): Column postcode\n",
        " - idx_pp_date_transfer (BTREE): Column date_of_transfer\n",
        " - idx_address (BTREE): Column postcode\n",
        " - idx_address (BTREE): Column street\n",
        " - idx_address (BTREE): Column primary_addressable_object_name\n",
        " - idx_address (BTREE): Column town_city\n",
        "\n",
        "Table prices_coordinates_data - Approx Row Count 5.8M\n",
        "('price', 'date_of_transfer', 'postcode', 'property_type', 'new_build_flag', 'tenure_type', 'locality', 'town_city', 'district', 'county', 'country', 'latitude', 'longitude', 'db_id')\n",
        "(370000, datetime.date(2024, 1, 1), 'WR12 7FE', 'T', 'N', 'F', '', 'BROADWAY', 'WYCHAVON', 'WORCESTERSHIRE', 'England', Decimal('52.04243800'), Decimal('-1.85757200'), 1)\n",
        "(50000, datetime.date(2024, 1, 1), 'TS17 6LJ', 'T', 'N', 'F', 'THORNABY', 'STOCKTON-ON-TEES', 'STOCKTON-ON-TEES', 'STOCKTON-ON-TEES', 'England', Decimal('54.55240100'), Decimal('-1.30114300'), 2)\n",
        "(485000, datetime.date(2024, 1, 1), 'BR3 6QH', 'F', 'N', 'L', '', 'BECKENHAM', 'BROMLEY', 'GREATER LONDON', 'England', Decimal('51.40061400'), Decimal('-0.01854100'), 3)\n",
        "Indices:\n",
        " - PRIMARY (BTREE): Column db_id\n",
        " - idx_lat_lon_btree (BTREE): Column latitude\n",
        " - idx_lat_lon_btree (BTREE): Column longitude\n",
        "\n",
        "\"\"\""
      ]
    },
    {
      "cell_type": "markdown",
      "metadata": {},
      "source": [
        "### Assigning OSM objects to their Output Areas"
      ]
    },
    {
      "cell_type": "code",
      "execution_count": 421,
      "metadata": {},
      "outputs": [
        {
          "data": {
            "text/plain": [
              "[]"
            ]
          },
          "execution_count": 421,
          "metadata": {},
          "output_type": "execute_result"
        }
      ],
      "source": [
        "query = \"\"\"\n",
        "ALTER TABLE osm_data_sample\n",
        "ADD COLUMN OA21CD varchar(9);\n",
        "\"\"\"\n",
        "fynesse.assess.execute_query(conn, query)"
      ]
    },
    {
      "cell_type": "code",
      "execution_count": 423,
      "metadata": {},
      "outputs": [
        {
          "data": {
            "text/plain": [
              "[]"
            ]
          },
          "execution_count": 423,
          "metadata": {},
          "output_type": "execute_result"
        }
      ],
      "source": [
        "query = \"\"\"\n",
        "UPDATE osm_data_sample\n",
        "JOIN oa_data\n",
        "ON ST_Contains(oa_data.geometry, osm_data_sample.geometry)\n",
        "SET osm_data_sample.OA21CD = oa_data.OA21CD;\n",
        "\"\"\"\n",
        "fynesse.assess.execute_query(conn, query)"
      ]
    },
    {
      "cell_type": "code",
      "execution_count": 425,
      "metadata": {},
      "outputs": [
        {
          "data": {
            "text/plain": [
              "((1, 2546167),)"
            ]
          },
          "execution_count": 425,
          "metadata": {},
          "output_type": "execute_result"
        }
      ],
      "source": [
        "fynesse.assess.execute_query(conn, \"SELECT MIN(db_id) AS min_db_id, MAX(db_id) AS max_db_id FROM osm_data;\")"
      ]
    },
    {
      "cell_type": "code",
      "execution_count": 427,
      "metadata": {},
      "outputs": [
        {
          "data": {
            "text/plain": [
              "[]"
            ]
          },
          "execution_count": 427,
          "metadata": {},
          "output_type": "execute_result"
        }
      ],
      "source": [
        "query = \"\"\"\n",
        "ALTER TABLE osm_data\n",
        "ADD COLUMN OA21CD varchar(9);\n",
        "\"\"\"\n",
        "fynesse.assess.execute_query(conn, query)"
      ]
    },
    {
      "cell_type": "markdown",
      "metadata": {},
      "source": [
        "The following takes about 20-30s per loop to run:"
      ]
    },
    {
      "cell_type": "code",
      "execution_count": null,
      "metadata": {},
      "outputs": [],
      "source": [
        "for i in range(0, 260):\n",
        "\n",
        "    a = i * 10000\n",
        "    b = (i + 1) * 10000\n",
        "\n",
        "    query = f\"\"\"\n",
        "    UPDATE osm_data\n",
        "    JOIN oa_data\n",
        "    ON ST_Contains(oa_data.geometry, osm_data.geometry)\n",
        "    SET osm_data.OA21CD = oa_data.OA21CD\n",
        "    WHERE osm_data.db_id >= {a} AND osm_data.db_id < {b};\n",
        "    \"\"\"\n",
        "    fynesse.assess.execute_query(conn, query)\n",
        "\n",
        "    # print(f\"Batch with db_id in the range [{a}, {b}) has been processed.\")"
      ]
    },
    {
      "cell_type": "code",
      "execution_count": 449,
      "metadata": {},
      "outputs": [
        {
          "data": {
            "text/plain": [
              "[]"
            ]
          },
          "execution_count": 449,
          "metadata": {},
          "output_type": "execute_result"
        }
      ],
      "source": [
        "fynesse.assess.create_single_index(conn, 'idx_oa', 'osm_data', 'OA21CD')"
      ]
    },
    {
      "cell_type": "code",
      "execution_count": 453,
      "metadata": {},
      "outputs": [
        {
          "data": {
            "text/plain": [
              "((2546167,),)"
            ]
          },
          "execution_count": 453,
          "metadata": {},
          "output_type": "execute_result"
        }
      ],
      "source": [
        "fynesse.assess.execute_query(conn, \"SELECT COUNT(*) FROM osm_data;\")"
      ]
    },
    {
      "cell_type": "code",
      "execution_count": 454,
      "metadata": {},
      "outputs": [
        {
          "data": {
            "text/plain": [
              "((158823,),)"
            ]
          },
          "execution_count": 454,
          "metadata": {},
          "output_type": "execute_result"
        }
      ],
      "source": [
        "fynesse.assess.execute_query(conn, \"SELECT COUNT(*) FROM osm_data WHERE OA21CD IS NULL;\")"
      ]
    },
    {
      "cell_type": "markdown",
      "metadata": {},
      "source": [
        "Out of 2546167 objects stored in osm_data 158823 weren't identified with any output area, hence 2387344 osm_data objects have valid OA21CD - this is 93.76% of the total number of osm_data objects."
      ]
    },
    {
      "cell_type": "markdown",
      "metadata": {},
      "source": [
        "### UNUSED - Assigning OSM objects to their Output Areas using dataframes"
      ]
    },
    {
      "cell_type": "markdown",
      "metadata": {},
      "source": [
        "Unfortunately, it's not always possible to conduct geometrical operation in databases. Our next subtask will be to figure out the code of the Output Area to which each of 2.5M OSM data objects belong. Due to limited time we will have to switch to dataframes in order to speed up this process."
      ]
    },
    {
      "cell_type": "code",
      "execution_count": 1759,
      "metadata": {},
      "outputs": [],
      "source": [
        "import pandas as pd\n",
        "import geopandas as gpd\n",
        "from shapely import wkt"
      ]
    },
    {
      "cell_type": "code",
      "execution_count": 1762,
      "metadata": {},
      "outputs": [
        {
          "name": "stderr",
          "output_type": "stream",
          "text": [
            "/var/folders/tq/f7lcjhp564g26624rbp38l240000gn/T/ipykernel_33730/754419987.py:2: DtypeWarning: Columns (3,5,11,12,14,15,16,17,18,19,21,23,25,26,27,30,31,32,34,35,36,37,38,40,41) have mixed types. Specify dtype option on import or set low_memory=False.\n",
            "  osm_data_df = pd.read_csv('backup/osm_data.csv')\n"
          ]
        }
      ],
      "source": [
        "fynesse.access.db_to_csv(conn, 'oa_data', 'backup/oa_data.csv')\n",
        "fynesse.access.db_to_csv(conn, 'osm_data', 'backup/osm_data.csv')\n",
        "\n",
        "oa_data_df = pd.read_csv('backup/oa_data.csv')\n",
        "osm_data_df = pd.read_csv('backup/osm_data.csv')\n",
        "\n",
        "oa_data_df = oa_data_df[['OA21CD', 'geometry_string']]\n",
        "osm_data_df = osm_data_df[['db_id', 'geometry_string']]\n",
        "\n",
        "\"\"\"\n",
        "oa_data_df['geometry'] = oa_data_df['geometry_string'].apply(wkt.loads)  # converting WKT strings to geometries\n",
        "oa_data_gdf = gpd.GeoDataFrame(oa_data_df, geometry='geometry')  # converting DataFrame to GeoDataFrame\n",
        "oa_data_gdf.set_crs(\"EPSG:27700\", inplace=True)  # setting CRS to EPSG:27700 (UK Grid)\n",
        "\n",
        "osm_data_df['geometry'] = osm_data_df['geometry_string'].apply(wkt.loads)  # converting WKT strings to geometries\n",
        "osm_data_gdf = gpd.GeoDataFrame(osm_data_df, geometry='geometry', crs=\"EPSG:4326\")  # setting CRS to WGS84 (EPSG:4326)\n",
        "osm_data_gdf = osm_data_gdf.to_crs(oa_data_gdf.crs)\n",
        "\"\"\"\n",
        "\n",
        "oa_data_df['geometry'] = oa_data_df['geometry_string_ne'].apply(wkt.loads)  # converting WKT strings to geometries\n",
        "oa_data_gdf = gpd.GeoDataFrame(oa_data_df, geometry='geometry')  # converting DataFrame to GeoDataFrame\n",
        "oa_data_gdf.set_crs(\"EPSG:27700\", inplace=True)  # setting CRS to EPSG:27700 (UK Grid)\n",
        "\n",
        "osm_data_df['geometry'] = osm_data_df['geometry_string_ne'].apply(wkt.loads)  # converting WKT strings to geometries\n",
        "osm_data_gdf = gpd.GeoDataFrame(osm_data_df, geometry='geometry')  # converting DataFrame to GeoDataFrame\n",
        "osm_data_gdf.set_crs(\"EPSG:27700\", inplace=True)  # setting CRS to EPSG:27700 (UK Grid)\n",
        "\n",
        "result = gpd.sjoin(osm_data_gdf, oa_data_gdf[['OA21CD', 'geometry']], how='left', predicate='within') # spatial join\n",
        "result_df = result[['db_id', 'OA21CD']]"
      ]
    },
    {
      "cell_type": "code",
      "execution_count": 1767,
      "metadata": {},
      "outputs": [],
      "source": [
        "result_df = result_df.dropna(subset=['OA21CD'])"
      ]
    },
    {
      "cell_type": "code",
      "execution_count": 1770,
      "metadata": {},
      "outputs": [
        {
          "name": "stdout",
          "output_type": "stream",
          "text": [
            "DataFrame successfully saved to backup/sjoin_results.csv\n"
          ]
        }
      ],
      "source": [
        "fynesse.access.df_to_csv(result_df, 'backup/sjoin_results.csv')"
      ]
    },
    {
      "cell_type": "code",
      "execution_count": 1773,
      "metadata": {},
      "outputs": [
        {
          "name": "stdout",
          "output_type": "stream",
          "text": [
            "Loading data into the table\n",
            "Data loaded into the table sjoin_results\n"
          ]
        }
      ],
      "source": [
        "query_create_sjoin_results = \"\"\"\n",
        "CREATE TABLE IF NOT EXISTS `sjoin_results` (\n",
        "  `db_id` bigint(20) unsigned NOT NULL,\n",
        "  `OA21CD` varchar(9) COLLATE utf8_bin NOT NULL,\n",
        "  PRIMARY KEY (`db_id`)\n",
        ") DEFAULT CHARSET=utf8 COLLATE=utf8_bin AUTO_INCREMENT=1;\"\"\"\n",
        "\n",
        "fynesse.assess.execute_query(conn, query_create_sjoin_results)\n",
        "\n",
        "fynesse.access.csv_to_db(conn, 'sjoin_results.csv', 'sjoin_results', True)"
      ]
    },
    {
      "cell_type": "code",
      "execution_count": 1777,
      "metadata": {},
      "outputs": [
        {
          "data": {
            "text/plain": [
              "[]"
            ]
          },
          "execution_count": 1777,
          "metadata": {},
          "output_type": "execute_result"
        }
      ],
      "source": [
        "fynesse.assess.create_single_index(conn, 'idx_db_id', 'osm_data', 'db_id')"
      ]
    },
    {
      "cell_type": "code",
      "execution_count": 1791,
      "metadata": {},
      "outputs": [
        {
          "data": {
            "text/plain": [
              "[]"
            ]
          },
          "execution_count": 1791,
          "metadata": {},
          "output_type": "execute_result"
        }
      ],
      "source": [
        "query = \"\"\"\n",
        "ALTER TABLE osm_data\n",
        "ADD COLUMN OA21CD VARCHAR(9) DEFAULT NULL;\n",
        "\"\"\"\n",
        "fynesse.assess.execute_query(conn, query)"
      ]
    },
    {
      "cell_type": "code",
      "execution_count": 1792,
      "metadata": {},
      "outputs": [
        {
          "data": {
            "text/plain": [
              "[]"
            ]
          },
          "execution_count": 1792,
          "metadata": {},
          "output_type": "execute_result"
        }
      ],
      "source": [
        "query = \"\"\"\n",
        "UPDATE osm_data\n",
        "JOIN sjoin_results ON osm_data.db_id = sjoin_results.db_id\n",
        "SET osm_data.OA21CD = sjoin_results.OA21CD;\n",
        "\"\"\"\n",
        "fynesse.assess.execute_query(conn, query)"
      ]
    },
    {
      "cell_type": "code",
      "execution_count": 112,
      "metadata": {},
      "outputs": [
        {
          "data": {
            "text/plain": [
              "[]"
            ]
          },
          "execution_count": 112,
          "metadata": {},
          "output_type": "execute_result"
        }
      ],
      "source": [
        "fynesse.assess.execute_query(conn, \"DROP TABLE sjoin_results;\")"
      ]
    },
    {
      "cell_type": "markdown",
      "metadata": {},
      "source": [
        "### Adding OSM information"
      ]
    },
    {
      "cell_type": "markdown",
      "metadata": {},
      "source": [
        "Let's augment our data with information obtained from Open Street Map to indentify and incorporate useful features for our prediction tasks."
      ]
    },
    {
      "cell_type": "markdown",
      "metadata": {},
      "source": [
        "Selecting features of interest from the list of available features and counting number of instances of each of them in each Output Area."
      ]
    },
    {
      "cell_type": "code",
      "execution_count": 456,
      "metadata": {},
      "outputs": [],
      "source": [
        "features_of_interest = ['amenity', 'tourism', 'leisure', 'cuisine', 'emergency', 'historic', 'sport', 'shop', 'religion', 'power', 'military', 'house', 'building']"
      ]
    },
    {
      "cell_type": "code",
      "execution_count": 462,
      "metadata": {},
      "outputs": [
        {
          "name": "stdout",
          "output_type": "stream",
          "text": [
            "Feature amenity is being processed...\n",
            "Feature amenity has been processed.\n",
            "Feature tourism is being processed...\n",
            "Feature tourism has been processed.\n",
            "Feature leisure is being processed...\n",
            "Feature leisure has been processed.\n",
            "Feature cuisine is being processed...\n",
            "Feature cuisine has been processed.\n",
            "Feature emergency is being processed...\n",
            "Feature emergency has been processed.\n",
            "Feature historic is being processed...\n",
            "Feature historic has been processed.\n",
            "Feature sport is being processed...\n",
            "Feature sport has been processed.\n",
            "Feature shop is being processed...\n",
            "Feature shop has been processed.\n",
            "Feature religion is being processed...\n",
            "Feature religion has been processed.\n",
            "Feature power is being processed...\n",
            "Feature power has been processed.\n",
            "Feature military is being processed...\n",
            "Feature military has been processed.\n",
            "Feature house is being processed...\n",
            "Feature house has been processed.\n",
            "Feature building is being processed...\n",
            "Feature building has been processed.\n"
          ]
        }
      ],
      "source": [
        "for feature in features_of_interest:\n",
        "    \n",
        "    print(f\"Feature {feature} is being processed...\")\n",
        "    \n",
        "    query = f\"\"\"\n",
        "    ALTER TABLE census_data_1\n",
        "    ADD COLUMN {feature} INT DEFAULT 0;\n",
        "    \"\"\"\n",
        "    fynesse.assess.execute_query(conn, query)\n",
        "\n",
        "    query = f\"\"\"\n",
        "    UPDATE census_data_1\n",
        "    LEFT JOIN (\n",
        "        SELECT \n",
        "            OA21CD, \n",
        "            COUNT(*) AS non_empty_{feature}_count\n",
        "        FROM \n",
        "            osm_data\n",
        "        WHERE \n",
        "            OA21CD IS NOT NULL AND {feature} IS NOT NULL AND {feature} != ''\n",
        "        GROUP BY \n",
        "            OA21CD\n",
        "    ) AS grouped_counts\n",
        "    ON census_data_1.geography_code = grouped_counts.OA21CD\n",
        "    SET census_data_1.{feature} = COALESCE(grouped_counts.non_empty_{feature}_count, 0);\n",
        "    \"\"\"\n",
        "    fynesse.assess.execute_query(conn, query)\n",
        "\n",
        "    print(f\"Feature {feature} has been processed.\")"
      ]
    },
    {
      "cell_type": "markdown",
      "metadata": {},
      "source": [
        "### UNUSED - Adding OSM information with dataframes"
      ]
    },
    {
      "cell_type": "code",
      "execution_count": 689,
      "metadata": {},
      "outputs": [],
      "source": [
        "# not optimal with dataframes\n",
        "\n",
        "\"\"\"\n",
        "for feature in features_of_interest:\n",
        "    oa_data_gdf[feature] = oa_data_gdf.apply(lambda row: len(osm_data_gdf[(osm_data_gdf['OA21CD'] == row['OA21CD']) & (osm_data_gdf[feature] != '') & (osm_data_gdf[feature].notna())]), axis=1)\n",
        "\"\"\""
      ]
    },
    {
      "cell_type": "code",
      "execution_count": 1410,
      "metadata": {},
      "outputs": [],
      "source": [
        "# with dataframes\n",
        "\n",
        "\"\"\"\n",
        "grouped_counts = {feature: osm_data_gdf[(osm_data_gdf[feature].notna()) & (osm_data_gdf[feature] != '')].groupby('OA21CD').size() for feature in features_of_interest}\n",
        "\n",
        "for feature in features_of_interest:\n",
        "    oa_data_gdf[feature] = oa_data_gdf['OA21CD'].map(grouped_counts[feature]).fillna(0).astype(int)\n",
        "\"\"\""
      ]
    },
    {
      "cell_type": "markdown",
      "metadata": {},
      "source": [
        "### Adding advanced OSM metrics"
      ]
    },
    {
      "cell_type": "code",
      "execution_count": null,
      "metadata": {},
      "outputs": [],
      "source": [
        "features_of_interest_nearby = [feature + '_nearby' for feature in features_of_interest]"
      ]
    },
    {
      "cell_type": "code",
      "execution_count": null,
      "metadata": {},
      "outputs": [],
      "source": [
        "for feature in features_of_interest:\n",
        "\n",
        "    query = f\"\"\"\n",
        "    ALTER TABLE census_data_1 \n",
        "    ADD COLUMN {feature}_nearby INT DEFAULT 0;\n",
        "    \"\"\"\n",
        "    fynesse.assess.execute_query(conn, query)\n",
        "\n",
        "    query = f\"\"\"\n",
        "    UPDATE census_data_1\n",
        "    LEFT JOIN (\n",
        "        SELECT \n",
        "            oa_data.OA21CD, \n",
        "            COUNT(*) AS nearby_{feature}_count\n",
        "        FROM \n",
        "            oa_data\n",
        "        JOIN \n",
        "            osm_data\n",
        "        ON \n",
        "            ST_Distance_Sphere(oa_data.geometry, osm_data.geometry) <= 1000\n",
        "        WHERE \n",
        "            osm_data.{feature} IS NOT NULL AND osm_data.{feature} != ''\n",
        "        GROUP BY \n",
        "            oa_data.OA21CD\n",
        "    ) AS grouped_counts\n",
        "    ON census_data_1.geography_code = grouped_counts.OA21CD\n",
        "    SET census_data_1.{feature}_nearby = COALESCE(grouped_counts.nearby_{feature}_count, 0);\n",
        "    \"\"\"\n",
        "    fynesse.assess.execute_query(conn, query)\n",
        "    \n",
        "    print(f\"Feature {feature} has been processed.\")\n"
      ]
    },
    {
      "cell_type": "markdown",
      "metadata": {},
      "source": [
        "### UNUSED - Adding advanced OSM metrics with dataframes"
      ]
    },
    {
      "cell_type": "markdown",
      "metadata": {},
      "source": [
        "It makes more sense to include all objects located in proximity to given Output Area."
      ]
    },
    {
      "cell_type": "markdown",
      "metadata": {},
      "source": [
        "Please be aware that this operation is almost undoable in MariaDB database and will be done with the help of dataframes due to the following main factors:\n",
        " - lack of support for advanced spatial operations in MariaDB;\n",
        " - this type of operation requires very huge amount of time;\n",
        " - MariaDb lacks support for optimal ways of doing this, while performance speed with dataframes is very good (about 1 minute per feature);\n",
        " - last point might make dataframes preferable even when dealing with very large amounts of data (we will only need to split data into patches);\n",
        " - fortunately, this isn't our concern in this case."
      ]
    },
    {
      "cell_type": "code",
      "execution_count": 97,
      "metadata": {},
      "outputs": [],
      "source": [
        "features_of_interest_nearby = [feature + '_nearby' for feature in features_of_interest]"
      ]
    },
    {
      "cell_type": "code",
      "execution_count": 2,
      "metadata": {},
      "outputs": [],
      "source": [
        "import pandas as pd\n",
        "import geopandas as gpd\n",
        "from shapely import wkt"
      ]
    },
    {
      "cell_type": "code",
      "execution_count": 1818,
      "metadata": {},
      "outputs": [
        {
          "name": "stdout",
          "output_type": "stream",
          "text": [
            "Data successfully exported to backup/oa_data.csv\n",
            "Data successfully exported to backup/osm_data.csv\n"
          ]
        }
      ],
      "source": [
        "fynesse.access.db_to_csv(conn, 'oa_data', 'backup/oa_data.csv')\n",
        "fynesse.access.db_to_csv(conn, 'osm_data', 'backup/osm_data.csv')"
      ]
    },
    {
      "cell_type": "code",
      "execution_count": null,
      "metadata": {},
      "outputs": [],
      "source": [
        "oa_data_df = pd.read_csv('backup/oa_data.csv')\n",
        "oa_data_df = oa_data_df[['OA21CD', 'geometry_string']]\n",
        "oa_data_df['geometry'] = oa_data_df['geometry_string'].apply(wkt.loads)  # Convert WKT to geometries\n",
        "oa_data_gdf = gpd.GeoDataFrame(oa_data_df, geometry='geometry')  # Create GeoDataFrame\n",
        "oa_data_gdf.set_crs(\"EPSG:27700\", inplace=True)  # Set CRS to EPSG:27700 (UK Grid)"
      ]
    },
    {
      "cell_type": "code",
      "execution_count": 11,
      "metadata": {},
      "outputs": [
        {
          "name": "stderr",
          "output_type": "stream",
          "text": [
            "/var/folders/tq/f7lcjhp564g26624rbp38l240000gn/T/ipykernel_8285/3572026491.py:1: DtypeWarning: Columns (3,5,11,12,14,15,16,17,18,19,21,23,25,26,27,30,31,32,34,35,36,37,38,40,41) have mixed types. Specify dtype option on import or set low_memory=False.\n",
            "  osm_data_df = pd.read_csv('backup/osm_data.csv')\n"
          ]
        }
      ],
      "source": [
        "osm_data_df = pd.read_csv('backup/osm_data.csv')\n",
        "osm_data_df = osm_data_df[['db_id', 'geometry_string', 'OA21CD'] + features_of_interest]\n",
        "osm_data_df['geometry'] = osm_data_df['geometry_string'].apply(wkt.loads)  # Convert WKT to geometries\n",
        "osm_data_gdf = gpd.GeoDataFrame(osm_data_df, geometry='geometry', crs=\"EPSG:4326\")  # Set CRS to WGS84 (EPSG:4326)\n",
        "osm_data_gdf = osm_data_gdf.to_crs(oa_data_gdf.crs)  # Reproject osm_data to match oa_data CRS"
      ]
    },
    {
      "cell_type": "code",
      "execution_count": 31,
      "metadata": {},
      "outputs": [],
      "source": [
        "results_df = pd.DataFrame({'OA21CD': oa_data_gdf['OA21CD']})\n",
        "results_df.set_index('OA21CD', inplace=True)"
      ]
    },
    {
      "cell_type": "code",
      "execution_count": 15,
      "metadata": {},
      "outputs": [],
      "source": [
        "oa_data_gdf['buffer'] = oa_data_gdf.geometry.buffer(1000)  # Buffer distance in meters (EPSG:27700 is metric) - create a 1km buffer around each output area\n",
        "oa_data_gdf.set_geometry('buffer', inplace=True)"
      ]
    },
    {
      "cell_type": "code",
      "execution_count": 75,
      "metadata": {},
      "outputs": [
        {
          "name": "stdout",
          "output_type": "stream",
          "text": [
            "Feature amenity is being processed...\n",
            "Feature amenity has been processed.\n",
            "Feature tourism is being processed...\n",
            "Feature tourism has been processed.\n",
            "Feature leisure is being processed...\n",
            "Feature leisure has been processed.\n",
            "Feature cuisine is being processed...\n",
            "Feature cuisine has been processed.\n",
            "Feature emergency is being processed...\n",
            "Feature emergency has been processed.\n",
            "Feature historic is being processed...\n",
            "Feature historic has been processed.\n",
            "Feature sport is being processed...\n",
            "Feature sport has been processed.\n",
            "Feature shop is being processed...\n",
            "Feature shop has been processed.\n",
            "Feature religion is being processed...\n",
            "Feature religion has been processed.\n",
            "Feature power is being processed...\n",
            "Feature power has been processed.\n",
            "Feature military is being processed...\n",
            "Feature military has been processed.\n",
            "Feature house is being processed...\n",
            "Feature house has been processed.\n",
            "Feature building is being processed...\n",
            "Feature building has been processed.\n"
          ]
        }
      ],
      "source": [
        "for feature in features_of_interest:\n",
        "    \n",
        "    print(f\"Feature {feature} is being processed...\")\n",
        "\n",
        "    osm_data_gdf_feature = osm_data_gdf.copy()[['geometry', feature, 'OA21CD']]\n",
        "    osm_data_gdf_feature = osm_data_gdf_feature[osm_data_gdf_feature[feature].notna() & (osm_data_gdf_feature[feature] != '')]\n",
        "    osm_data_gdf_feature.set_geometry('geometry', inplace=True)\n",
        "\n",
        "    joined = gpd.sjoin(osm_data_gdf_feature, oa_data_gdf[['OA21CD', 'buffer']], how='inner', predicate='within') # spatial join to count amenities within each buffer\n",
        "    joined.rename(columns={'OA21CD_right': 'OA21CD'}, inplace=True)\n",
        "\n",
        "    feature_counts = joined.groupby('OA21CD').size() # group by OA21CD to count amenities\n",
        "    feature_counts = feature_counts.reset_index(name=f'{feature}_count')\n",
        "    feature_counts = feature_counts.set_index('OA21CD')\n",
        "    feature_counts.rename(columns={f'{feature}_count': f'{feature}_nearby'}, inplace=True)\n",
        "\n",
        "    results_df[f'{feature}_nearby'] = 0\n",
        "    results_df.update(feature_counts)\n",
        "\n",
        "    print(f\"Feature {feature} has been processed.\")"
      ]
    },
    {
      "cell_type": "code",
      "execution_count": 89,
      "metadata": {},
      "outputs": [],
      "source": [
        "results_df = results_df.reset_index()"
      ]
    },
    {
      "cell_type": "code",
      "execution_count": 90,
      "metadata": {},
      "outputs": [
        {
          "data": {
            "text/html": [
              "<div>\n",
              "<style scoped>\n",
              "    .dataframe tbody tr th:only-of-type {\n",
              "        vertical-align: middle;\n",
              "    }\n",
              "\n",
              "    .dataframe tbody tr th {\n",
              "        vertical-align: top;\n",
              "    }\n",
              "\n",
              "    .dataframe thead th {\n",
              "        text-align: right;\n",
              "    }\n",
              "</style>\n",
              "<table border=\"1\" class=\"dataframe\">\n",
              "  <thead>\n",
              "    <tr style=\"text-align: right;\">\n",
              "      <th></th>\n",
              "      <th>OA21CD</th>\n",
              "      <th>amenity_nearby</th>\n",
              "      <th>tourism_nearby</th>\n",
              "      <th>leisure_nearby</th>\n",
              "      <th>cuisine_nearby</th>\n",
              "      <th>emergency_nearby</th>\n",
              "      <th>historic_nearby</th>\n",
              "      <th>sport_nearby</th>\n",
              "      <th>shop_nearby</th>\n",
              "      <th>religion_nearby</th>\n",
              "      <th>power_nearby</th>\n",
              "      <th>military_nearby</th>\n",
              "      <th>house_nearby</th>\n",
              "      <th>building_nearby</th>\n",
              "    </tr>\n",
              "  </thead>\n",
              "  <tbody>\n",
              "    <tr>\n",
              "      <th>0</th>\n",
              "      <td>E00000001</td>\n",
              "      <td>229</td>\n",
              "      <td>26</td>\n",
              "      <td>6</td>\n",
              "      <td>73</td>\n",
              "      <td>0</td>\n",
              "      <td>3</td>\n",
              "      <td>3</td>\n",
              "      <td>45</td>\n",
              "      <td>19</td>\n",
              "      <td>1</td>\n",
              "      <td>0</td>\n",
              "      <td>8</td>\n",
              "      <td>653</td>\n",
              "    </tr>\n",
              "    <tr>\n",
              "      <th>1</th>\n",
              "      <td>E00000003</td>\n",
              "      <td>212</td>\n",
              "      <td>23</td>\n",
              "      <td>6</td>\n",
              "      <td>67</td>\n",
              "      <td>0</td>\n",
              "      <td>4</td>\n",
              "      <td>3</td>\n",
              "      <td>40</td>\n",
              "      <td>18</td>\n",
              "      <td>1</td>\n",
              "      <td>0</td>\n",
              "      <td>8</td>\n",
              "      <td>617</td>\n",
              "    </tr>\n",
              "    <tr>\n",
              "      <th>2</th>\n",
              "      <td>E00000005</td>\n",
              "      <td>217</td>\n",
              "      <td>24</td>\n",
              "      <td>6</td>\n",
              "      <td>68</td>\n",
              "      <td>0</td>\n",
              "      <td>4</td>\n",
              "      <td>3</td>\n",
              "      <td>41</td>\n",
              "      <td>21</td>\n",
              "      <td>1</td>\n",
              "      <td>0</td>\n",
              "      <td>8</td>\n",
              "      <td>623</td>\n",
              "    </tr>\n",
              "    <tr>\n",
              "      <th>3</th>\n",
              "      <td>E00000007</td>\n",
              "      <td>253</td>\n",
              "      <td>29</td>\n",
              "      <td>6</td>\n",
              "      <td>79</td>\n",
              "      <td>0</td>\n",
              "      <td>6</td>\n",
              "      <td>3</td>\n",
              "      <td>45</td>\n",
              "      <td>26</td>\n",
              "      <td>1</td>\n",
              "      <td>0</td>\n",
              "      <td>8</td>\n",
              "      <td>704</td>\n",
              "    </tr>\n",
              "    <tr>\n",
              "      <th>4</th>\n",
              "      <td>E00000010</td>\n",
              "      <td>181</td>\n",
              "      <td>15</td>\n",
              "      <td>6</td>\n",
              "      <td>60</td>\n",
              "      <td>0</td>\n",
              "      <td>3</td>\n",
              "      <td>3</td>\n",
              "      <td>42</td>\n",
              "      <td>11</td>\n",
              "      <td>1</td>\n",
              "      <td>0</td>\n",
              "      <td>8</td>\n",
              "      <td>584</td>\n",
              "    </tr>\n",
              "    <tr>\n",
              "      <th>...</th>\n",
              "      <td>...</td>\n",
              "      <td>...</td>\n",
              "      <td>...</td>\n",
              "      <td>...</td>\n",
              "      <td>...</td>\n",
              "      <td>...</td>\n",
              "      <td>...</td>\n",
              "      <td>...</td>\n",
              "      <td>...</td>\n",
              "      <td>...</td>\n",
              "      <td>...</td>\n",
              "      <td>...</td>\n",
              "      <td>...</td>\n",
              "      <td>...</td>\n",
              "    </tr>\n",
              "    <tr>\n",
              "      <th>188874</th>\n",
              "      <td>W00010693</td>\n",
              "      <td>13</td>\n",
              "      <td>8</td>\n",
              "      <td>2</td>\n",
              "      <td>4</td>\n",
              "      <td>0</td>\n",
              "      <td>0</td>\n",
              "      <td>1</td>\n",
              "      <td>10</td>\n",
              "      <td>2</td>\n",
              "      <td>0</td>\n",
              "      <td>0</td>\n",
              "      <td>8</td>\n",
              "      <td>126</td>\n",
              "    </tr>\n",
              "    <tr>\n",
              "      <th>188875</th>\n",
              "      <td>W00010694</td>\n",
              "      <td>10</td>\n",
              "      <td>2</td>\n",
              "      <td>0</td>\n",
              "      <td>1</td>\n",
              "      <td>0</td>\n",
              "      <td>0</td>\n",
              "      <td>0</td>\n",
              "      <td>11</td>\n",
              "      <td>0</td>\n",
              "      <td>0</td>\n",
              "      <td>0</td>\n",
              "      <td>0</td>\n",
              "      <td>31</td>\n",
              "    </tr>\n",
              "    <tr>\n",
              "      <th>188876</th>\n",
              "      <td>W00010695</td>\n",
              "      <td>6</td>\n",
              "      <td>0</td>\n",
              "      <td>0</td>\n",
              "      <td>5</td>\n",
              "      <td>0</td>\n",
              "      <td>0</td>\n",
              "      <td>0</td>\n",
              "      <td>12</td>\n",
              "      <td>0</td>\n",
              "      <td>0</td>\n",
              "      <td>0</td>\n",
              "      <td>0</td>\n",
              "      <td>20</td>\n",
              "    </tr>\n",
              "    <tr>\n",
              "      <th>188877</th>\n",
              "      <td>W00010696</td>\n",
              "      <td>6</td>\n",
              "      <td>0</td>\n",
              "      <td>1</td>\n",
              "      <td>4</td>\n",
              "      <td>0</td>\n",
              "      <td>0</td>\n",
              "      <td>1</td>\n",
              "      <td>28</td>\n",
              "      <td>0</td>\n",
              "      <td>0</td>\n",
              "      <td>0</td>\n",
              "      <td>0</td>\n",
              "      <td>41</td>\n",
              "    </tr>\n",
              "    <tr>\n",
              "      <th>188878</th>\n",
              "      <td>W00010697</td>\n",
              "      <td>22</td>\n",
              "      <td>2</td>\n",
              "      <td>0</td>\n",
              "      <td>6</td>\n",
              "      <td>0</td>\n",
              "      <td>0</td>\n",
              "      <td>1</td>\n",
              "      <td>12</td>\n",
              "      <td>3</td>\n",
              "      <td>0</td>\n",
              "      <td>0</td>\n",
              "      <td>126</td>\n",
              "      <td>249</td>\n",
              "    </tr>\n",
              "  </tbody>\n",
              "</table>\n",
              "<p>188879 rows × 14 columns</p>\n",
              "</div>"
            ],
            "text/plain": [
              "           OA21CD  amenity_nearby  tourism_nearby  leisure_nearby  \\\n",
              "0       E00000001             229              26               6   \n",
              "1       E00000003             212              23               6   \n",
              "2       E00000005             217              24               6   \n",
              "3       E00000007             253              29               6   \n",
              "4       E00000010             181              15               6   \n",
              "...           ...             ...             ...             ...   \n",
              "188874  W00010693              13               8               2   \n",
              "188875  W00010694              10               2               0   \n",
              "188876  W00010695               6               0               0   \n",
              "188877  W00010696               6               0               1   \n",
              "188878  W00010697              22               2               0   \n",
              "\n",
              "        cuisine_nearby  emergency_nearby  historic_nearby  sport_nearby  \\\n",
              "0                   73                 0                3             3   \n",
              "1                   67                 0                4             3   \n",
              "2                   68                 0                4             3   \n",
              "3                   79                 0                6             3   \n",
              "4                   60                 0                3             3   \n",
              "...                ...               ...              ...           ...   \n",
              "188874               4                 0                0             1   \n",
              "188875               1                 0                0             0   \n",
              "188876               5                 0                0             0   \n",
              "188877               4                 0                0             1   \n",
              "188878               6                 0                0             1   \n",
              "\n",
              "        shop_nearby  religion_nearby  power_nearby  military_nearby  \\\n",
              "0                45               19             1                0   \n",
              "1                40               18             1                0   \n",
              "2                41               21             1                0   \n",
              "3                45               26             1                0   \n",
              "4                42               11             1                0   \n",
              "...             ...              ...           ...              ...   \n",
              "188874           10                2             0                0   \n",
              "188875           11                0             0                0   \n",
              "188876           12                0             0                0   \n",
              "188877           28                0             0                0   \n",
              "188878           12                3             0                0   \n",
              "\n",
              "        house_nearby  building_nearby  \n",
              "0                  8              653  \n",
              "1                  8              617  \n",
              "2                  8              623  \n",
              "3                  8              704  \n",
              "4                  8              584  \n",
              "...              ...              ...  \n",
              "188874             8              126  \n",
              "188875             0               31  \n",
              "188876             0               20  \n",
              "188877             0               41  \n",
              "188878           126              249  \n",
              "\n",
              "[188879 rows x 14 columns]"
            ]
          },
          "execution_count": 90,
          "metadata": {},
          "output_type": "execute_result"
        }
      ],
      "source": [
        "results_df"
      ]
    },
    {
      "cell_type": "code",
      "execution_count": 91,
      "metadata": {},
      "outputs": [
        {
          "name": "stdout",
          "output_type": "stream",
          "text": [
            "DataFrame successfully saved to backup/adv_osm_metrics.csv\n"
          ]
        }
      ],
      "source": [
        "fynesse.access.df_to_csv(results_df, 'backup/adv_osm_metrics.csv')"
      ]
    },
    {
      "cell_type": "code",
      "execution_count": null,
      "metadata": {},
      "outputs": [],
      "source": [
        "# conn = None # don't re-run!!!\n",
        "\n",
        "query_create_adv_osm_metrics = \"\"\"\n",
        "CREATE TABLE IF NOT EXISTS `adv_osm_metrics` (\n",
        "  `OA21CD` varchar(9) COLLATE utf8_bin NOT NULL,\n",
        "\"\"\"\n",
        "\n",
        "for feature in features_of_interest_nearby:\n",
        "  query_create_adv_osm_metrics += f'  `{feature}` int unsigned NOT NULL,\\n'\n",
        "\n",
        "query_create_adv_osm_metrics += \"\"\"  PRIMARY KEY (`OA21CD`)\n",
        ") DEFAULT CHARSET=utf8 COLLATE=utf8_bin;\n",
        "\"\"\"\n",
        "\n",
        "fynesse.assess.execute_query(conn, query_create_adv_osm_metrics)\n",
        "\n",
        "fynesse.access.csv_to_db(conn, 'backup/adv_osm_metrics.csv', 'adv_osm_metrics', True)"
      ]
    },
    {
      "cell_type": "code",
      "execution_count": 104,
      "metadata": {},
      "outputs": [
        {
          "data": {
            "text/plain": [
              "[]"
            ]
          },
          "execution_count": 104,
          "metadata": {},
          "output_type": "execute_result"
        }
      ],
      "source": [
        "fynesse.assess.create_single_index(conn, 'idx_oa', 'adv_osm_metrics', 'OA21CD')"
      ]
    },
    {
      "cell_type": "code",
      "execution_count": 109,
      "metadata": {},
      "outputs": [
        {
          "name": "stdout",
          "output_type": "stream",
          "text": [
            "Feature amenity_nearby is being processed...\n",
            "Feature amenity_nearby has been processed.\n",
            "Feature tourism_nearby is being processed...\n",
            "Feature tourism_nearby has been processed.\n",
            "Feature leisure_nearby is being processed...\n",
            "Feature leisure_nearby has been processed.\n",
            "Feature cuisine_nearby is being processed...\n",
            "Feature cuisine_nearby has been processed.\n",
            "Feature emergency_nearby is being processed...\n",
            "Feature emergency_nearby has been processed.\n",
            "Feature historic_nearby is being processed...\n",
            "Feature historic_nearby has been processed.\n",
            "Feature sport_nearby is being processed...\n",
            "Feature sport_nearby has been processed.\n",
            "Feature shop_nearby is being processed...\n",
            "Feature shop_nearby has been processed.\n",
            "Feature religion_nearby is being processed...\n",
            "Feature religion_nearby has been processed.\n",
            "Feature power_nearby is being processed...\n",
            "Feature power_nearby has been processed.\n",
            "Feature military_nearby is being processed...\n",
            "Feature military_nearby has been processed.\n",
            "Feature house_nearby is being processed...\n",
            "Feature house_nearby has been processed.\n",
            "Feature building_nearby is being processed...\n",
            "Feature building_nearby has been processed.\n"
          ]
        }
      ],
      "source": [
        "for feature in features_of_interest_nearby:\n",
        "    \n",
        "    print(f\"Feature {feature} is being processed...\")\n",
        "    \n",
        "    query = f\"\"\"\n",
        "    ALTER TABLE census_data_1\n",
        "    ADD COLUMN {feature} int unsigned NOT NULL;\n",
        "    \"\"\"\n",
        "\n",
        "    fynesse.assess.execute_query(conn, query)\n",
        "\n",
        "    query = f\"\"\"\n",
        "    UPDATE census_data_1\n",
        "    JOIN adv_osm_metrics ON census_data_1.geography_code = adv_osm_metrics.OA21CD\n",
        "    SET census_data_1.{feature} = adv_osm_metrics.{feature};\n",
        "    \"\"\"\n",
        "\n",
        "    fynesse.assess.execute_query(conn, query)\n",
        "    \n",
        "    print(f\"Feature {feature} has been processed.\")"
      ]
    },
    {
      "cell_type": "code",
      "execution_count": 113,
      "metadata": {},
      "outputs": [
        {
          "data": {
            "text/plain": [
              "[]"
            ]
          },
          "execution_count": 113,
          "metadata": {},
          "output_type": "execute_result"
        }
      ],
      "source": [
        "fynesse.assess.execute_query(conn, \"DROP TABLE adv_osm_metrics;\")"
      ]
    },
    {
      "cell_type": "markdown",
      "metadata": {},
      "source": [
        "### UNUSED - Adding advanced OSM metrics with dataframes"
      ]
    },
    {
      "cell_type": "code",
      "execution_count": null,
      "metadata": {},
      "outputs": [],
      "source": [
        "# with dataframes\n",
        "\n",
        "\"\"\"\n",
        "from scipy.spatial import cKDTree\n",
        "\n",
        "for feature in features_of_interest:\n",
        "    coordinates = oa_data_gdf[['LONG', 'LAT']].to_numpy()\n",
        "    tree = cKDTree(coordinates) # building spatial tree\n",
        "    threshold_distance = 0.005  # 500 meters at the equator\n",
        "    amenity_nearby = []\n",
        "\n",
        "    for i in range(len(coordinates)):\n",
        "        indices = tree.query_ball_point(coordinates[i], r=threshold_distance)\n",
        "        nearby_sum = oa_data_gdf.iloc[indices][feature].sum()\n",
        "        amenity_nearby.append(nearby_sum)\n",
        "\n",
        "    oa_data_gdf[feature + '_nearby'] = amenity_nearby\n",
        "\"\"\""
      ]
    },
    {
      "cell_type": "code",
      "execution_count": null,
      "metadata": {},
      "outputs": [],
      "source": [
        "# with dataframes, not optimal\n",
        "\n",
        "\"\"\"\n",
        "from shapely.geometry import Point\n",
        "\n",
        "oa_data_gdf = oa_data_gdf.rename(columns={'geometry': 'geometry_polygon'})\n",
        "oa_data_gdf['geometry_point'] = [Point(xy) for xy in zip(oa_data_gdf['LONG'], oa_data_gdf['LAT'])]\n",
        "oa_data_gdf['geometry'] = oa_data_gdf['geometry_point']\n",
        "\n",
        "geo_oa_data_gdf = gpd.GeoDataFrame(oa_data_gdf, geometry='geometry')\n",
        "\n",
        "threshold_distance = 1000  # in meters\n",
        "geo_oa_data_gdf = geo_oa_data_gdf.set_crs(\"EPSG:4326\")  # assuming WGS84 Latitude/Longitude\n",
        "geo_oa_data_gdf = geo_oa_data_gdf.to_crs(\"EPSG:3395\")   # converting to meters for distance calculations\n",
        "\n",
        "geo_oa_data_gdf['amenity_nearby'] = 0\n",
        "\n",
        "for idx, row in geo_oa_data_gdf.iterrows():\n",
        "    buffer = row['geometry'].buffer(threshold_distance)\n",
        "    nearby = geo_oa_data_gdf[geo_oa_data_gdf['geometry'].within(buffer)]\n",
        "    geo_oa_data_gdf.at[idx, 'amenity_nearby'] = nearby['amenity'].sum()\n",
        "\n",
        "oa_data_gdf = geo_oa_data_gdf.drop(columns=['geometry'])\n",
        "\"\"\""
      ]
    },
    {
      "cell_type": "markdown",
      "metadata": {},
      "source": [
        "### Intermediate summary"
      ]
    },
    {
      "cell_type": "code",
      "execution_count": null,
      "metadata": {},
      "outputs": [],
      "source": [
        "fynesse.assess.get_summary_on_db(conn)"
      ]
    },
    {
      "cell_type": "code",
      "execution_count": null,
      "metadata": {},
      "outputs": [],
      "source": [
        "\"\"\"\n",
        "\n",
        "Table census_data_1 - Approx Row Count 0.1M\n",
        "('date', 'geography', 'geography_code', 'NSSEC_Total', 'NSSEC_L1_L2_L3', 'NSSEC_L4_L5_L6', 'NSSEC_L7', 'NSSEC_L8_L9', 'NSSEC_L10_L11', 'NSSEC_L12', 'NSSEC_L13', 'NSSEC_L14', 'NSSEC_L15', 'db_id', 'MI_Total', 'MI_AddrYearAgoSameInUK', 'MI_AddrYearAgoStudentInUK', 'MI_AddrYearAgoInUK', 'MI_AddrYearAgoOutUK', 'amenity', 'tourism', 'leisure', 'cuisine', 'emergency', 'historic', 'sport', 'shop', 'religion', 'power', 'military', 'house', 'building', 'amenity_nearby', 'tourism_nearby', 'leisure_nearby', 'cuisine_nearby', 'emergency_nearby', 'historic_nearby', 'sport_nearby', 'shop_nearby', 'religion_nearby', 'power_nearby', 'military_nearby', 'house_nearby', 'building_nearby')\n",
        "(2021, 'E00000001', 'E00000001', 159, 80, 38, 13, 9, 3, 5, 5, 4, 2, 1, 175, 154, 0, 9, 12, 0, 0, 0, 0, 0, 0, 0, 0, 0, 0, 0, 0, 0, 229, 26, 6, 73, 0, 3, 3, 45, 19, 1, 0, 8, 653)\n",
        "(2021, 'E00000003', 'E00000003', 222, 96, 58, 8, 26, 2, 5, 2, 5, 20, 2, 252, 228, 6, 13, 5, 0, 0, 0, 0, 0, 0, 0, 0, 0, 0, 0, 0, 0, 212, 23, 6, 67, 0, 4, 3, 40, 18, 1, 0, 8, 617)\n",
        "(2021, 'E00000005', 'E00000005', 103, 37, 28, 8, 21, 0, 3, 1, 1, 4, 3, 113, 99, 0, 12, 2, 1, 0, 0, 1, 0, 0, 0, 0, 0, 0, 0, 0, 1, 217, 24, 6, 68, 0, 4, 3, 41, 21, 1, 0, 8, 623)\n",
        "Indices:\n",
        " - idx_geography (BTREE): Column geography\n",
        " - idx_geography_code (BTREE): Column geography_code\n",
        "\n",
        "Table oa_data - Approx Row Count 0.1M\n",
        "('FID', 'OA21CD', 'LSOA21CD', 'LSOA21NM', 'LSOA21NMW', 'BNG_E', 'BNG_N', 'LAT', 'LON', 'ShapeArea', 'ShapeLength', 'GlobalID', 'db_id', 'geometry_string_ne', 'geometry')\n",
        "(1, 'E00000001', 'E01000001', 'City of London 001A', ' ', 532250, 181864, 51.5202, -0.09523, 6949.15, 421.166, '3a44dd3d-5082-4a09-9b9c-3a5fadc811ed\\r', 1, 'POLYGON ((532303.4919999996 181814.1099999994, 532213.3779999996 181846.1919999998, 532194.8990000002 181874.26300000027, 532162.9718000004 181864.00879999995, 532162.4910000004 181867.76300000027, 532248.3943999996 181895.3501999993, 532282.6299999999 181906.49599999934, 532308.875 181914.79700000025, 532303.4919999996 181814.1099999994))', b'\\x00\\x00\\x00\\x00\\x01\\x03\\x00\\x00\\x00\\x01\\x00\\x00\\x00\\t\\x00\\x00\\x00\\x88l\\xe7\\xfb\\x9e> A\\x00\\xaeG\\xe1\\xb01\\x06AH7\\x89\\xc1\\xea= A\\xc0K7\\x89\\xb12\\x06A`\\xbaI\\xcc\\xc5= A\\x80\\xbe\\x9f\\x1a\\x923\\x06A\\x08\\xc5\\x8f\\xf1\\x85= A\\x00\\xbc\\x05\\x12@3\\x06A Zd\\xfb\\x84= A\\x80\\xbe\\x9f\\x1a^3\\x06A\\xf8\\xcb\\xee\\xc90> A@\\xa85\\xcd:4\\x06A(\\\\\\x8fBu> A\\x00\\xd9\\xce\\xf7\\x934\\x06A\\x00\\x00\\x00\\xc0\\xa9> A@\\x89A`\\xd64\\x06A\\x88l\\xe7\\xfb\\x9e> A\\x00\\xaeG\\xe1\\xb01\\x06A')\n",
        "(2, 'E00000003', 'E01000001', 'City of London 001A', ' ', 532171, 181819, 51.5198, -0.09638, 4492.41, 307.715, 'f1216dc8-14d1-4857-9230-cab0641758fb\\r', 2, 'POLYGON ((532213.3779999996 181846.1919999998, 532190.5392000005 181796.06120000035, 532180.131 181763.01999999955, 532155.909 181805.6799999997, 532127.2989999996 181800.62399999984, 532162.9718000004 181864.00879999995, 532194.8990000002 181874.26300000027, 532213.3779999996 181846.1919999998))', b'\\x00\\x00\\x00\\x00\\x01\\x03\\x00\\x00\\x00\\x01\\x00\\x00\\x00\\x08\\x00\\x00\\x00H7\\x89\\xc1\\xea= A\\xc0K7\\x89\\xb12\\x06A\\xc0\\x05\\x12\\x14\\xbd= A\\x00mV} 1\\x06A\\x98n\\x12C\\xa8= A\\x80\\xc2\\xf5(\\x180\\x06A\\xb0rh\\xd1w= A\\x00\\xd7\\xa3pm1\\x06A(\\x87\\x16\\x99>= A@\\xb6\\xf3\\xfdD1\\x06A\\x08\\xc5\\x8f\\xf1\\x85= A\\x00\\xbc\\x05\\x12@3\\x06A`\\xbaI\\xcc\\xc5= A\\x80\\xbe\\x9f\\x1a\\x923\\x06AH7\\x89\\xc1\\xea= A\\xc0K7\\x89\\xb12\\x06A')\n",
        "(3, 'E00000005', 'E01000001', 'City of London 001A', ' ', 532166, 181722, 51.519, -0.09649, 8565.51, 385.205, '44d6f70f-549c-4288-9b6d-de2adbf02582\\r', 3, 'POLYGON ((532180.131 181763.01999999955, 532219.1610000003 181703.9389999993, 532201.2920000004 181668.1799999997, 532124.3210000005 181682.67500000075, 532127.2989999996 181800.62399999984, 532155.909 181805.6799999997, 532180.131 181763.01999999955))', b'\\x00\\x00\\x00\\x00\\x01\\x03\\x00\\x00\\x00\\x01\\x00\\x00\\x00\\x07\\x00\\x00\\x00\\x98n\\x12C\\xa8= A\\x80\\xc2\\xf5(\\x180\\x06A\\x90\\x97nR\\xf6= A\\x80n\\x12\\x83?.\\x06A(\\x06\\x81\\x95\\xd2= A\\x00\\xd7\\xa3p!-\\x06A\\xb0\\x1cZ\\xa48= A\\x80fff\\x95-\\x06A(\\x87\\x16\\x99>= A@\\xb6\\xf3\\xfdD1\\x06A\\xb0rh\\xd1w= A\\x00\\xd7\\xa3pm1\\x06A\\x98n\\x12C\\xa8= A\\x80\\xc2\\xf5(\\x180\\x06A')\n",
        "Indices:\n",
        " - PRIMARY (BTREE): Column FID\n",
        " - idx_oa (BTREE): Column OA21CD\n",
        " - idx_lsoa (BTREE): Column LSOA21CD\n",
        " - idx_lat_lon_btree (BTREE): Column LAT\n",
        " - idx_lat_lon_btree (BTREE): Column LON\n",
        " - geometry (SPATIAL): Column geometry\n",
        "\n",
        "Table osm_data - Approx Row Count 2.3M\n",
        "('element_type', 'osmid', 'geometry_string_ll', 'ways', 'nodes', 'type', 'addr_country', 'addr_postcode', 'addr_street', 'addr_housenumber', 'addr_city', 'addr_housename', 'addr_place', 'name', 'alt_name', 'old_name', 'nohousenumber', 'note', 'disused', 'height', 'amenity', 'tourism', 'brand', 'leisure', 'cuisine', 'emergency', 'historic', 'sport', 'shop', 'religion', 'power', 'military', 'house', 'building', 'building_material', 'building_levels', 'internet_access', 'capacity', 'roof_levels', 'roof_shapefee', 'man_made', 'denomination', 'layer', 'db_id', 'geometry_string_ne', 'geometry', 'OA21CD')\n",
        "('way', 72499117, 'POLYGON ((-6.3134352 49.9146669, -6.3134663 49.9147353, -6.3134061 49.9147467, -6.3134095 49.9147542, -6.3131503 49.9148031, -6.3131469 49.9147957, -6.3130936 49.9148057, -6.3130624 49.9147373, -6.3134352 49.9146669))', '', '[860681919, 860681920, 9169387085, 9169387084, 9169387083, 9169387086, 860681921, 860681922, 860681919]', '', '', 'TR21 0JT', 'Church Street', '', 'Hugh Town', '', '', 'Isles of Scilly Museum', '', '', '', '', '', '', '', 'museum', '', '', '', '', '', '', '', '', '', '', '', 'yes', '', '', '', '', '', '', '', '', '', 1, 'POLYGON ((90458.76146576129 10530.59510146096, 90456.96838425193 10538.325346537269, 90461.36151221936 10539.34294224321, 90461.1656261129 10540.190514922826, 90480.0796803821 10544.551471966843, 90480.27621043124 10543.71501331353, 90484.16519925534 10544.605615865905, 90485.96549134556 10536.874967216398, 90458.76146576129 10530.59510146096))', b\"\\x00\\x00\\x00\\x00\\x01\\x03\\x00\\x00\\x00\\x01\\x00\\x00\\x00\\t\\x00\\x00\\x00\\xdc\\xb8\\xf6.\\xac\\x15\\xf6@P\\xe0H,L\\x91\\xc4@@|\\x80~\\x8f\\x15\\xf6@\\xb8\\x90\\xf4\\xa4)\\x95\\xc4@t\\t\\xc1\\xc8\\xd5\\x15\\xf6@\\x80\\x0b\\x88\\xe5\\xab\\x95\\xc4@$\\x91g\\xa6\\xd2\\x15\\xf6@x\\x01\\xcbb\\x18\\x96\\xc4@\\xb4\\xef^F\\x01\\x17\\xf6@ '\\xa2\\x96F\\x98\\xc4@\\x10\\xa1[k\\x04\\x17\\xf6@\\xe8f\\x8e\\x85\\xdb\\x97\\xc4@p\\xf9\\xa7\\xa4B\\x17\\xf6@\\x00\\x19\\xd2\\x84M\\x98\\xc4@\\x9c\\r\\xa7r_\\x17\\xf6@\\xc0\\xfd\\xec\\xfeo\\x94\\xc4@\\xdc\\xb8\\xf6.\\xac\\x15\\xf6@P\\xe0H,L\\x91\\xc4@\", 'E00096405')\n",
        "('way', 112445611, 'POLYGON ((-6.3084596 49.9166407, -6.308579 49.916719, -6.3085171 49.9167581, -6.3084892 49.9167398, -6.3085024 49.9167315, -6.3084109 49.9166715, -6.3084596 49.9166407))', '', '[9170680719, 1277992838, 9170680715, 9170680714, 9170680716, 1277992862, 9170680719]', '', '', 'TR21 0JY', '', '', 'Portmellon', '', '', 'The Sailing Centre', '', '', '', '', '', '', '', '', '', 'boathouse', '', '', '', 'sailing', '', '', '', '', '', 'yes', '', '', '', '', '', '', '', '', '', 2, 'POLYGON ((90828.4609464347 10729.354209220925, 90820.39463746297 10738.549788717108, 90825.08695750969 10742.639007787584, 90826.97177186015 10740.489873598155, 90825.97139167401 10739.62207760218, 90832.15288637078 10732.575638220165, 90828.4609464347 10729.354209220925))', b'\\x00\\x00\\x00\\x00\\x01\\x03\\x00\\x00\\x00\\x01\\x00\\x00\\x00\\x07\\x00\\x00\\x00d^\\t`\\xc7,\\xf6@\\xe8M\\xbaV\\xad\\xf4\\xc4@T_oPF,\\xf6@\\xd8\\x07z_F\\xf9\\xc4@\\xc4\\x8e-d\\x91,\\xf6@\\xc8\\xd6\\x01\\xcbQ\\xfb\\xc4@h\\xa6`\\x8c\\xaf,\\xf6@\\xa0\\x95-\\xb4>\\xfa\\xc4@\\xf8\\xfe\\xd1\\x8a\\x9f,\\xf6@x&=\\xa0\\xcf\\xf9\\xc4@\\xa8\\xfa8r\\x02-\\xf6@\\xf8`\\x83\\xaeI\\xf6\\xc4@d^\\t`\\xc7,\\xf6@\\xe8M\\xbaV\\xad\\xf4\\xc4@', 'E00096404')\n",
        "('way', 112445629, 'POLYGON ((-6.3087257 49.9166066, -6.3085551 49.916498, -6.3086358 49.9164671, -6.3087896 49.9165649, -6.3087257 49.9166066))', '', '[1277992753, 9170680721, 1277992733, 1277992688, 1277992753]', '', '', 'TR21 0JY', '', '', 'Portmellon', '', '', 'The Beach', '', '', '', '', '', '', 'restaurant', '', '', '', '', '', '', '', '', '', '', '', '', 'yes', '', '', '', '', '', '', '', '', '', 3, 'POLYGON ((90809.14760272152 10726.665366668487, 90820.69383186748 10713.890660483463, 90814.70495984284 10710.790500333693, 90804.2950828856 10722.295490033372, 90809.14760272152 10726.665366668487))', b'\\x00\\x00\\x00\\x00\\x01\\x03\\x00\\x00\\x00\\x01\\x00\\x00\\x00\\x05\\x00\\x00\\x00\\xdc\\xab\\x94\\\\\\x92+\\xf6@\\x80(\\xbc*U\\xf3\\xc4@\\xbcq\\xef\\x19K,\\xf6@(\\xa8)\\x01\\xf2\\xec\\xc4@\\xe0\\xf8\\x83G\\xeb+\\xf6@Xl\\x1d/e\\xeb\\xc4@\\xf4\\xd4\\xa8\\xb8D+\\xf6@\\xd0\\x0e\\x9e\\xd2%\\xf1\\xc4@\\xdc\\xab\\x94\\\\\\x92+\\xf6@\\x80(\\xbc*U\\xf3\\xc4@', 'E00096404')\n",
        "Indices:\n",
        " - idx_postcode (BTREE): Column addr_postcode\n",
        " - idx_db_id (BTREE): Column db_id\n",
        " - geometry (SPATIAL): Column geometry\n",
        " - idx_oa (BTREE): Column OA21CD\n",
        "\n",
        "Table osm_data_sample - Approx Row Count 0.0M\n",
        "('element_type', 'osmid', 'geometry_string_ll', 'ways', 'nodes', 'type', 'addr_country', 'addr_postcode', 'addr_street', 'addr_housenumber', 'addr_city', 'addr_housename', 'addr_place', 'name', 'alt_name', 'old_name', 'nohousenumber', 'note', 'disused', 'height', 'amenity', 'tourism', 'brand', 'leisure', 'cuisine', 'emergency', 'historic', 'sport', 'shop', 'religion', 'power', 'military', 'house', 'building', 'building_material', 'building_levels', 'internet_access', 'capacity', 'roof_levels', 'roof_shapefee', 'man_made', 'denomination', 'layer', 'db_id', 'geometry_string_ne', 'geometry', 'OA21CD')\n",
        "('relation', 1576004, 'POLYGON ((-5.3588132 50.137841, -5.3588119 50.1379062, -5.3588302 50.1379064, -5.3588303 50.137916, -5.3588298 50.1379271, -5.3591748 50.1379298, -5.3591737 50.1379875, -5.359063 50.1379867, -5.3588525 50.137985, -5.3587354 50.1379841, -5.3587345 50.1380317, -5.3582376 50.1380279, -5.3582395 50.1379277, -5.3582623 50.1379278, -5.3582655 50.1377577, -5.3583753 50.1377585, -5.3583746 50.137798, -5.3584518 50.1377986, -5.3586827 50.1378004, -5.358682 50.13784, -5.3587528 50.137841, -5.3588132 50.137841), (-5.3586324 50.1378861, -5.3586326 50.1378722, -5.3584124 50.1378714, -5.3584115 50.1379669, -5.358487 50.1379672, -5.3586316 50.1379678, -5.3586324 50.1378861))', '[112168276, 112168270]', '[[[1275780250, 1275780520, 6915654134, 6915654135, 6915654127, 1275780590, 1275780263, 1275780264, 6915654094, 6915654093, 1275780324, 1275780605, 1275780649, 1275780536, 1275780574, 1275780460, 1275780494, 1275780375, 11543332618, 1275780477, 1275780444, 1275780250], [1275780610, 6915616070, 1275780448, 1275780303, 1275780358, 6915616068, 1275780610]]]', 'multipolygon', '', 'TR13 9RE', '', '', 'Helston', 'Godolphin Estate', 'Godolphin Cross', 'Godolphin Count House', '', '', '', '', '', '', '', 'attraction', '', '', '', '', '', '', '', '', '', '', '', 'yes', '', '', '', '', '', '', '', '', '-2.0', 9231, 'POLYGON ((160086.16956965212 31822.472745400475, 160086.58895984557 31829.71596022285, 160085.2825716251 31829.79709322439, 160085.32350359295 31830.864516799717, 160085.4148126958 31832.09674381002, 160060.78083433688 31833.507368218503, 160061.1484081984 31839.917552823725, 160069.0530244006 31839.472289172612, 160084.08304005134 31838.605765294487, 160092.44438522015 31838.12882112735, 160092.74705420376 31843.416970515507, 160128.22749901644 31841.395378445304, 160127.5900522634 31830.263617495773, 160125.9616744297 31830.348106398684, 160124.88135450747 31811.4506942546, 160117.04099638914 31811.892977273732, 160117.2887921534 31816.28140370059, 160111.7764561905 31816.596549069625, 160095.28945915794 31817.539766504895, 160095.53777390122 31821.939308143687, 160090.48467634825 31822.278339675016, 160086.16956965212 31822.472745400475), (160099.31215739273 31826.90398117411, 160099.22826281504 31825.35955047325, 160114.95581193813 31824.561936467944, 160115.49830795583 31835.17447969984, 160110.10594067888 31835.450809407223, 160099.7784352009 31835.982886881276, 160099.31215739273 31826.90398117411))', b'\\x00\\x00\\x00\\x00\\x01\\x03\\x00\\x00\\x00\\x02\\x00\\x00\\x00\\x16\\x00\\x00\\x00rUG[\\xb1\\x8a\\x03A\\x98\\xecuA\\x9e\\x13\\xdf@[\\x940\\xb6\\xb4\\x8a\\x03A\\x98\\xd3J\\xd2m\\x15\\xdf@\\x85\\xe9\\xb4B\\xaa\\x8a\\x03A\\xa8L\\x93\\x03s\\x15\\xdf@?\\r\\x89\\x96\\xaa\\x8a\\x03AhE>T\\xb7\\x15\\xdf@\\x93Q\\x89Q\\xab\\x8a\\x03A\\x08\\xf3\\x0c1\\x06\\x16\\xdf@\\xa4\\x12&?\\xe6\\x89\\x03A`\\x8c\\xb8x`\\x16\\xdf@5\\xa3\\xf0/\\xe9\\x89\\x03A\\x90z/\\xb9\\xfa\\x17\\xdf@\\x94\\x0e\\x98l(\\x8a\\x03A\\xa8]\\xfc9\\xde\\x17\\xdf@\\x06\\xe7\\x10\\xaa\\xa0\\x8a\\x03A8\\xcc\\xdb\\xc4\\xa6\\x17\\xdf@\\x9b\\xd6\\x19\\x8e\\xe3\\x8a\\x03A@\\xf8\\x9a>\\x88\\x17\\xdf@\\xec\\x8d\\xf7\\xf9\\xe5\\x8a\\x03A\\xe0\\x19\\xa5\\xaf\\xda\\x18\\xdf@\\x1c\\x01\\xeb\\xd1\\x01\\x8c\\x03A\\x08e\\xe1MY\\x18\\xdf@2Rm\\xb8\\xfc\\x8b\\x03A\\xc0\\xea\\x1b\\xdf\\x90\\x15\\xdf@\\x08]\\x82\\xb1\\xef\\x8b\\x03Ax\\x0f`G\\x96\\x15\\xdf@\\x8e\\x97\\x03\\r\\xe7\\x8b\\x03A\\x00\\xb7,\\xd8\\xdc\\x10\\xdf@5\\xea\\xf5S\\xa8\\x8b\\x03A\\xb0&\\x8a&\\xf9\\x10\\xdf@\\xb2BrO\\xaa\\x8b\\x03A\\xc0\\xaa\\x84\\x02\\x12\\x12\\xdf@\\xc8\\xa9.6~\\x8b\\x03A &\\xdc-&\\x12\\xdf@\\x87\\xf6\\xcfP\\xfa\\x8a\\x03A\\x80\\xcf\\x88\\x8bb\\x12\\xdf@3g\\\\M\\xfc\\x8a\\x03A\\x80\\xe7\\x9f\\x1d|\\x13\\xdf@G\\xfe\\x9d\\xe0\\xd3\\x8a\\x03AX6Q\\xd0\\x91\\x13\\xdf@rUG[\\xb1\\x8a\\x03A\\x98\\xecuA\\x9e\\x13\\xdf@\\x07\\x00\\x00\\x00\\x08`L\\x7f\\x1a\\x8b\\x03A\\xc0\\xda\\xd3\\xda\\xb9\\x14\\xdf@lt{\\xd3\\x19\\x8b\\x03A\\xf8\\xfc\\xdf\\x02W\\x14\\xdf@\\xbb\\xba\\x80\\xa5\\x97\\x8b\\x03A\\x10`\\xc4\\xf6#\\x14\\xdf@\\xad\\xe1\\x88\\xfc\\x9b\\x8b\\x03A(\\xe7\\xac*\\xcb\\x16\\xdf@9m\\xf7\\xd8p\\x8b\\x03A0\\xb3\\x0f\\xda\\xdc\\x16\\xdf@\\x0f<<:\\x1e\\x8b\\x03A\\xb0`\\x9e\\xe7\\xfe\\x16\\xdf@\\x08`L\\x7f\\x1a\\x8b\\x03A\\xc0\\xda\\xd3\\xda\\xb9\\x14\\xdf@', 'E00095232')\n",
        "('relation', 6272289, 'POLYGON ((-5.2770057 50.2289954, -5.2770251 50.2290046, -5.2769484 50.2290713, -5.2769275 50.2290614, -5.2767873 50.2291834, -5.276366 50.2289853, -5.2764183 50.2289398, -5.27672 50.2286772, -5.2771429 50.228876, -5.2770057 50.2289954), (-5.2767544 50.2288051, -5.2765608 50.2289686, -5.2767531 50.2290618, -5.2769468 50.2288983, -5.2767544 50.2288051))', '[143400736, 421970682]', '[[[1569200506, 4217005352, 4217005353, 4217005358, 4217005356, 1569200517, 1569200508, 5475247462, 1569200481, 1569200506], [4217005349, 4217005348, 4217005350, 4217005357, 4217005349]]]', 'multipolygon', '', 'TR15 3RD', 'Trevenson Road', '', 'Redruth', '', '', 'Trevithick Court', '', '', '', '', '', '', '', '', '', '', '', '', '', '', '', '', '', '', '', 'college', '', '1.0', '', '', '', '', '', '', '', 9232, 'POLYGON ((166376.37276804046 41694.974749416986, 166375.0344211005 41696.05829827403, 166380.82997802846 41703.231912765885, 166382.27185992844 41702.06584648584, 166392.86590993474 41715.187303649174, 166421.93846893095 41691.84465051026, 166417.986551931 41686.95100738492, 166395.1886003087 41658.70729205961, 166366.0052828661 41682.132921668206, 166376.37276804046 41694.974749416986), (166393.36129452076 41673.0325111158, 166407.96616721348 41690.59953518893, 166394.70974411705 41701.56301420703, 166380.09772006687 41683.99633974003, 166393.36129452076 41673.0325111158))', b'\\x00\\x00\\x00\\x00\\x01\\x03\\x00\\x00\\x00\\x02\\x00\\x00\\x00\\n\\x00\\x00\\x00v\\xcfm\\xfbBO\\x04Ax\\xb0%1\\xdf[\\xe4@\\xe8\\x91~F8O\\x04A\\x8cW\\x94\\xdd\\x01\\\\\\xe4@E\\x85\\xcb\\xa3fO\\x04A R\\xd4k\\xe7\\\\\\xe4@\\xee\\xe5\\xc4,rO\\x04A\\xe8\\x16j\\x1b\\xc2\\\\\\xe4@\\x180b\\xed\\xc6O\\x04A\\xf48d\\xfee^\\xe4@\\xb6\\xff\\xfb\\x81\\xafP\\x04A\\xc4\\x81`\\x07{[\\xe4@\\xbcVu\\xe4\\x8fP\\x04A\\x10\\n\\xa7n\\xdeZ\\xe4@\\xef\\xe0@\\x82\\xd9O\\x04A\\x18\\xf5\"\\xa2VW\\xe4@I\\xbe\\xd1\\n\\xf0N\\x04A<\\xf1\\xe4@DZ\\xe4@v\\xcfm\\xfbBO\\x04Ax\\xb0%1\\xdf[\\xe4@\\x05\\x00\\x00\\x00\\xb7a\\xee\\xe3\\xcaO\\x04Ad\\xc0T\\n!Y\\xe4@C\\xe0\\xb5\\xba?P\\x04A\\xa8kd/S[\\xe4@\\xdaR\\x8e\\xad\\xd5O\\x04A\\xcc^6\\x04\\xb2\\\\\\xe4@[u!\\xc8`O\\x04A\\xe4\\xe0\\x03\\xe2\\x7fZ\\xe4@\\xb7a\\xee\\xe3\\xcaO\\x04Ad\\xc0T\\n!Y\\xe4@', 'E00182758')\n",
        "('relation', 7012772, 'POLYGON ((-5.2737421 50.2274724, -5.2735134 50.2275462, -5.2735414 50.2275817, -5.2735731 50.2276211, -5.2734847 50.2276494, -5.2734453 50.2276006, -5.2733934 50.2276178, -5.2732982 50.2274979, -5.273668 50.2273785, -5.2737421 50.2274724))', '[143400690]', '[[[1569200022, 1569200044, 5429909876, 1569200108, 1569200129, 5472660274, 5472660273, 1569200023, 1569199906, 1569200022]]]', 'multipolygon', '', 'TR15 3RD', 'Trevenson Road', '', 'Redruth', '', '', 'dBs', '', '', '', '', '', '', '', '', '', '', '', '', '', '', '', '', '', '', '', 'college', '', '2.0', '', '', '', '', '', '', '', 9233, 'POLYGON ((166601.6469998361 41515.44198465673, 166618.31610309827 41522.928540665045, 166616.49293302154 41526.96247665322, 166614.42498174557 41531.441534391284, 166620.86700770017 41534.310207305214, 166623.43810670276 41528.76211560643, 166627.22310428528 41530.51135377839, 166633.42582582674 41516.8849150138, 166606.4721160039 41504.77180834714, 166601.6469998361 41515.44198465673))', b'\\x00\\x00\\x00\\x00\\x01\\x03\\x00\\x00\\x00\\x01\\x00\\x00\\x00\\n\\x00\\x00\\x00\\x05@\\x0e-MV\\x04A\\xc0\\x01\\xbd$nE\\xe4@\\xaa\\x0fa\\x87\\xd2V\\x04A\\xac\\xe9\\x9a\\xb6]F\\xe4@5\\xde\\x86\\xf1\\xc3V\\x04A\\x98\\xd6\\x9b\\xcc\\xdeF\\xe4@U\\xd4\\\\f\\xb3V\\x04AT\\xbb\\x0c!nG\\xe4@\\xad\\xbb\\xa1\\xef\\xe6V\\x04A\\xdc\\xde7\\xed\\xc9G\\xe4@D\\x16>\\x81\\xfbV\\x04A\\xacD@c\\x18G\\xe4@G\\xe6\\xea\\xc8\\x19W\\x04A\\\\\\x99\\x02]PG\\xe4@\\xfd^\\x17hKW\\x04A\\x80J9Q\\x9cE\\xe4@e\\xc1\\xe4\\xc6sV\\x04A8k\\xa7\\xb2\\x18D\\xe4@\\x05@\\x0e-MV\\x04A\\xc0\\x01\\xbd$nE\\xe4@', 'E00182758')\n",
        "Indices:\n",
        " - geometry (SPATIAL): Column geometry\n",
        " - idx_postcode (BTREE): Column addr_postcode\n",
        " - idx_db_id (BTREE): Column db_id\n",
        " - idx_oa (BTREE): Column OA21CD\n",
        "\n",
        "Table postcode_data - Approx Row Count 2.5M\n",
        "('postcode', 'status', 'usertype', 'easting', 'northing', 'positional_quality_indicator', 'country', 'latitude', 'longitude', 'postcode_no_space', 'postcode_fixed_width_seven', 'postcode_fixed_width_eight', 'postcode_area', 'postcode_district', 'postcode_sector', 'outcode', 'incode', 'db_id')\n",
        "('AB1 0AA', 'terminated', 'small', 385386, 801193, 1, 'Scotland', Decimal('57.10147400'), Decimal('-2.24285100'), 'AB10AA', 'AB1 0AA', 'AB1  0AA', 'AB', 'AB1', 'AB1 0', 'AB1', '0AA', 1)\n",
        "('AB1 0AB', 'terminated', 'small', 385177, 801314, 1, 'Scotland', Decimal('57.10255400'), Decimal('-2.24630800'), 'AB10AB', 'AB1 0AB', 'AB1  0AB', 'AB', 'AB1', 'AB1 0', 'AB1', '0AB', 2)\n",
        "('AB1 0AD', 'terminated', 'small', 385053, 801092, 1, 'Scotland', Decimal('57.10055600'), Decimal('-2.24834200'), 'AB10AD', 'AB1 0AD', 'AB1  0AD', 'AB', 'AB1', 'AB1 0', 'AB1', '0AD', 3)\n",
        "Indices:\n",
        " - PRIMARY (BTREE): Column db_id\n",
        " - idx_postcode_postcode (BTREE): Column postcode\n",
        "\n",
        "Table pp_data - Approx Row Count 29.3M\n",
        "('transaction_unique_identifier', 'price', 'date_of_transfer', 'postcode', 'property_type', 'new_build_flag', 'tenure_type', 'primary_addressable_object_name', 'secondary_addressable_object_name', 'street', 'locality', 'town_city', 'district', 'county', 'ppd_category_type', 'record_status', 'db_id')\n",
        "('{109BBF80-1E51-4910-8E2C-B124E1117A7A}', 34950, datetime.date(1995, 6, 9), 'BA3 3AH', 'F', 'N', 'L', 'COOMBEND HOUSE', '7', 'COOMBEND', 'RADSTOCK', 'RADSTOCK', 'WANSDYKE', 'AVON', 'A', 'A', 1)\n",
        "('{D5233D67-2975-426B-B98D-B124E39331D9}', 133000, datetime.date(1995, 6, 19), 'SW18 5AG', 'T', 'N', 'F', '142', '', 'ASTONVILLE STREET', 'LONDON', 'LONDON', 'WANDSWORTH', 'GREATER LONDON', 'A', 'A', 2)\n",
        "('{718BD35C-25E1-431C-8AF7-B124E63ED4E1}', 83000, datetime.date(1995, 8, 21), 'IP11 7PU', 'D', 'N', 'F', '3', '', 'GARFIELD ROAD', 'FELIXSTOWE', 'FELIXSTOWE', 'SUFFOLK COASTAL', 'SUFFOLK', 'A', 'A', 3)\n",
        "Indices:\n",
        " - PRIMARY (BTREE): Column db_id\n",
        " - idx_pp_postcode (BTREE): Column postcode\n",
        " - idx_pp_date_transfer (BTREE): Column date_of_transfer\n",
        " - idx_address (BTREE): Column postcode\n",
        " - idx_address (BTREE): Column street\n",
        " - idx_address (BTREE): Column primary_addressable_object_name\n",
        " - idx_address (BTREE): Column town_city\n",
        "\n",
        "Table prices_coordinates_data - Approx Row Count 5.8M\n",
        "('price', 'date_of_transfer', 'postcode', 'property_type', 'new_build_flag', 'tenure_type', 'locality', 'town_city', 'district', 'county', 'country', 'latitude', 'longitude', 'db_id')\n",
        "(370000, datetime.date(2024, 1, 1), 'WR12 7FE', 'T', 'N', 'F', '', 'BROADWAY', 'WYCHAVON', 'WORCESTERSHIRE', 'England', Decimal('52.04243800'), Decimal('-1.85757200'), 1)\n",
        "(50000, datetime.date(2024, 1, 1), 'TS17 6LJ', 'T', 'N', 'F', 'THORNABY', 'STOCKTON-ON-TEES', 'STOCKTON-ON-TEES', 'STOCKTON-ON-TEES', 'England', Decimal('54.55240100'), Decimal('-1.30114300'), 2)\n",
        "(485000, datetime.date(2024, 1, 1), 'BR3 6QH', 'F', 'N', 'L', '', 'BECKENHAM', 'BROMLEY', 'GREATER LONDON', 'England', Decimal('51.40061400'), Decimal('-0.01854100'), 3)\n",
        "Indices:\n",
        " - PRIMARY (BTREE): Column db_id\n",
        " - idx_lat_lon_btree (BTREE): Column latitude\n",
        " - idx_lat_lon_btree (BTREE): Column longitude\n",
        "\n",
        "\"\"\""
      ]
    },
    {
      "cell_type": "markdown",
      "metadata": {},
      "source": [
        "### Analysing census on students"
      ]
    },
    {
      "cell_type": "markdown",
      "metadata": {},
      "source": [
        "Now let's look at the percentage of students (NSSEC code L15) in the individual output areas, and explore how it's related to various types of open street map features in those locations.\n",
        "\n",
        "The relationships we've found can be used to suggest the features to be used in a system that predicts percentage of students in a given area."
      ]
    },
    {
      "cell_type": "code",
      "execution_count": 513,
      "metadata": {},
      "outputs": [
        {
          "data": {
            "text/plain": [
              "[]"
            ]
          },
          "execution_count": 513,
          "metadata": {},
          "output_type": "execute_result"
        }
      ],
      "source": [
        "query = \"\"\"\n",
        "ALTER TABLE `census_data_1`\n",
        "ADD COLUMN `NSSEC_L15_Norm` DOUBLE DEFAULT NULL;\n",
        "\"\"\"\n",
        "fynesse.assess.execute_query(conn, query)\n",
        "\n",
        "query = \"\"\"\n",
        "UPDATE `census_data_1`\n",
        "SET `NSSEC_L15_Norm` = CASE WHEN `NSSEC_Total` != 0 THEN `NSSEC_L15` / `NSSEC_Total` ELSE NULL END;\n",
        "\"\"\"\n",
        "fynesse.assess.execute_query(conn, query)"
      ]
    },
    {
      "cell_type": "code",
      "execution_count": 519,
      "metadata": {},
      "outputs": [
        {
          "name": "stdout",
          "output_type": "stream",
          "text": [
            "Correlation between amenity and NSSEC_L15_Norm = 0.08380660137546729\n",
            "Correlation between tourism and NSSEC_L15_Norm = 0.022150447795696103\n",
            "Correlation between leisure and NSSEC_L15_Norm = 0.0319225652773569\n",
            "Correlation between cuisine and NSSEC_L15_Norm = 0.0702364997844513\n",
            "Correlation between emergency and NSSEC_L15_Norm = 0.005895092369061722\n",
            "Correlation between historic and NSSEC_L15_Norm = 0.003623897880015864\n",
            "Correlation between sport and NSSEC_L15_Norm = 0.020815039482067373\n",
            "Correlation between shop and NSSEC_L15_Norm = 0.048257096379167884\n",
            "Correlation between religion and NSSEC_L15_Norm = 0.0441717336558891\n",
            "Correlation between power and NSSEC_L15_Norm = 0.005290450547469846\n",
            "Correlation between military and NSSEC_L15_Norm = 0.010351058659277471\n",
            "Correlation between house and NSSEC_L15_Norm = 0.025133955304340764\n",
            "Correlation between building and NSSEC_L15_Norm = 0.02885279460442878\n"
          ]
        }
      ],
      "source": [
        "for feature in features_of_interest:\n",
        "    \n",
        "    query = f\"\"\"\n",
        "    SELECT\n",
        "        (AVG({feature} * NSSEC_L15_Norm) - AVG({feature}) * AVG(NSSEC_L15_Norm)) /\n",
        "        (STD({feature}) * STD(NSSEC_L15_Norm)) AS correlation\n",
        "    FROM\n",
        "        census_data_1\n",
        "    \"\"\"\n",
        "\n",
        "    corr = fynesse.assess.execute_query(conn, query)[0][0]\n",
        "\n",
        "    print(f\"Correlation between {feature} and NSSEC_L15_Norm = {corr}\")"
      ]
    },
    {
      "cell_type": "markdown",
      "metadata": {},
      "source": [
        "### Analysing census on migrants"
      ]
    },
    {
      "cell_type": "markdown",
      "metadata": {},
      "source": [
        "Now let's do the same for an additional census variables (information about numbers of migrants in the area)."
      ]
    },
    {
      "cell_type": "code",
      "execution_count": 520,
      "metadata": {},
      "outputs": [
        {
          "data": {
            "text/plain": [
              "[]"
            ]
          },
          "execution_count": 520,
          "metadata": {},
          "output_type": "execute_result"
        }
      ],
      "source": [
        "query = \"\"\"\n",
        "ALTER TABLE `census_data_1`\n",
        "ADD COLUMN `MI_AddrYearAgoOutUK_Norm` DOUBLE DEFAULT NULL;\n",
        "\"\"\"\n",
        "fynesse.assess.execute_query(conn, query)\n",
        "\n",
        "query = \"\"\"\n",
        "UPDATE `census_data_1`\n",
        "SET `MI_AddrYearAgoOutUK_Norm` = CASE WHEN `MI_Total` != 0 THEN `MI_AddrYearAgoOutUK` / `MI_Total` ELSE NULL END;\n",
        "\"\"\"\n",
        "fynesse.assess.execute_query(conn, query)"
      ]
    },
    {
      "cell_type": "code",
      "execution_count": 521,
      "metadata": {},
      "outputs": [
        {
          "name": "stdout",
          "output_type": "stream",
          "text": [
            "Correlation between amenity and MI_AddrYearAgoOutUK_Norm = 0.11580899954770109\n",
            "Correlation between tourism and MI_AddrYearAgoOutUK_Norm = 0.06099930729571484\n",
            "Correlation between leisure and MI_AddrYearAgoOutUK_Norm = 0.043301486871161435\n",
            "Correlation between cuisine and MI_AddrYearAgoOutUK_Norm = 0.09407478055948061\n",
            "Correlation between emergency and MI_AddrYearAgoOutUK_Norm = 0.016909076865599174\n",
            "Correlation between historic and MI_AddrYearAgoOutUK_Norm = 0.01573379080466059\n",
            "Correlation between sport and MI_AddrYearAgoOutUK_Norm = 0.02904515250025243\n",
            "Correlation between shop and MI_AddrYearAgoOutUK_Norm = 0.06611956810993311\n",
            "Correlation between religion and MI_AddrYearAgoOutUK_Norm = 0.04926543943064286\n",
            "Correlation between power and MI_AddrYearAgoOutUK_Norm = 0.0014008555795028176\n",
            "Correlation between military and MI_AddrYearAgoOutUK_Norm = 0.013548933487625023\n",
            "Correlation between house and MI_AddrYearAgoOutUK_Norm = -0.004845653013535402\n",
            "Correlation between building and MI_AddrYearAgoOutUK_Norm = -0.004980338611239147\n"
          ]
        }
      ],
      "source": [
        "for feature in features_of_interest:\n",
        "    \n",
        "    query = f\"\"\"\n",
        "    SELECT\n",
        "        (AVG({feature} * MI_AddrYearAgoOutUK_Norm) - AVG({feature}) * AVG(MI_AddrYearAgoOutUK_Norm)) /\n",
        "        (STD({feature}) * STD(MI_AddrYearAgoOutUK_Norm)) AS correlation\n",
        "    FROM\n",
        "        census_data_1\n",
        "    \"\"\"\n",
        "\n",
        "    corr = fynesse.assess.execute_query(conn, query)[0][0]\n",
        "\n",
        "    print(f\"Correlation between {feature} and MI_AddrYearAgoOutUK_Norm = {corr}\")"
      ]
    },
    {
      "cell_type": "markdown",
      "metadata": {},
      "source": [
        "### Summary on Assess"
      ]
    },
    {
      "cell_type": "code",
      "execution_count": null,
      "metadata": {},
      "outputs": [],
      "source": [
        "fynesse.assess.get_summary_on_db(conn)"
      ]
    },
    {
      "cell_type": "code",
      "execution_count": null,
      "metadata": {},
      "outputs": [],
      "source": [
        "\"\"\"\n",
        "\n",
        "Table census_data_1 - Approx Row Count 0.1M\n",
        "('date', 'geography', 'geography_code', 'NSSEC_Total', 'NSSEC_L1_L2_L3', 'NSSEC_L4_L5_L6', 'NSSEC_L7', 'NSSEC_L8_L9', 'NSSEC_L10_L11', 'NSSEC_L12', 'NSSEC_L13', 'NSSEC_L14', 'NSSEC_L15', 'db_id', 'MI_Total', 'MI_AddrYearAgoSameInUK', 'MI_AddrYearAgoStudentInUK', 'MI_AddrYearAgoInUK', 'MI_AddrYearAgoOutUK', 'amenity_nearby', 'tourism_nearby', 'leisure_nearby', 'cuisine_nearby', 'emergency_nearby', 'historic_nearby', 'sport_nearby', 'shop_nearby', 'religion_nearby', 'power_nearby', 'military_nearby', 'house_nearby', 'building_nearby', 'amenity', 'tourism', 'leisure', 'cuisine', 'emergency', 'historic', 'sport', 'shop', 'religion', 'power', 'military', 'house', 'building', 'NSSEC_L15_Norm', 'MI_AddrYearAgoOutUK_Norm')\n",
        "(2021, 'E00000001', 'E00000001', 159, 80, 38, 13, 9, 3, 5, 5, 4, 2, 1, 175, 154, 0, 9, 12, 229, 26, 6, 73, 0, 3, 3, 45, 19, 1, 0, 8, 653, 0, 0, 0, 0, 0, 0, 0, 0, 0, 0, 0, 0, 0, 0.012578616, 0.068571428)\n",
        "(2021, 'E00000003', 'E00000003', 222, 96, 58, 8, 26, 2, 5, 2, 5, 20, 2, 252, 228, 6, 13, 5, 212, 23, 6, 67, 0, 4, 3, 40, 18, 1, 0, 8, 617, 0, 0, 0, 0, 0, 0, 0, 0, 0, 0, 0, 0, 0, 0.09009009, 0.019841269)\n",
        "(2021, 'E00000005', 'E00000005', 103, 37, 28, 8, 21, 0, 3, 1, 1, 4, 3, 113, 99, 0, 12, 2, 217, 24, 6, 68, 0, 4, 3, 41, 21, 1, 0, 8, 623, 1, 0, 0, 1, 0, 0, 0, 0, 0, 0, 0, 0, 1, 0.038834951, 0.017699115)\n",
        "Indices:\n",
        " - idx_geography (BTREE): Column geography\n",
        " - idx_geography_code (BTREE): Column geography_code\n",
        "\n",
        "Table oa_data - Approx Row Count 0.1M\n",
        "('FID', 'OA21CD', 'LSOA21CD', 'LSOA21NM', 'LSOA21NMW', 'BNG_E', 'BNG_N', 'LAT', 'LON', 'ShapeArea', 'ShapeLength', 'GlobalID', 'db_id', 'geometry_string_ne', 'geometry')\n",
        "(1, 'E00000001', 'E01000001', 'City of London 001A', ' ', 532250, 181864, 51.5202, -0.09523, 6949.15, 421.166, '3a44dd3d-5082-4a09-9b9c-3a5fadc811ed\\r', 1, 'POLYGON ((532303.4919999996 181814.1099999994, 532213.3779999996 181846.1919999998, 532194.8990000002 181874.26300000027, 532162.9718000004 181864.00879999995, 532162.4910000004 181867.76300000027, 532248.3943999996 181895.3501999993, 532282.6299999999 181906.49599999934, 532308.875 181914.79700000025, 532303.4919999996 181814.1099999994))', b'\\x00\\x00\\x00\\x00\\x01\\x03\\x00\\x00\\x00\\x01\\x00\\x00\\x00\\t\\x00\\x00\\x00\\x88l\\xe7\\xfb\\x9e> A\\x00\\xaeG\\xe1\\xb01\\x06AH7\\x89\\xc1\\xea= A\\xc0K7\\x89\\xb12\\x06A`\\xbaI\\xcc\\xc5= A\\x80\\xbe\\x9f\\x1a\\x923\\x06A\\x08\\xc5\\x8f\\xf1\\x85= A\\x00\\xbc\\x05\\x12@3\\x06A Zd\\xfb\\x84= A\\x80\\xbe\\x9f\\x1a^3\\x06A\\xf8\\xcb\\xee\\xc90> A@\\xa85\\xcd:4\\x06A(\\\\\\x8fBu> A\\x00\\xd9\\xce\\xf7\\x934\\x06A\\x00\\x00\\x00\\xc0\\xa9> A@\\x89A`\\xd64\\x06A\\x88l\\xe7\\xfb\\x9e> A\\x00\\xaeG\\xe1\\xb01\\x06A')\n",
        "(2, 'E00000003', 'E01000001', 'City of London 001A', ' ', 532171, 181819, 51.5198, -0.09638, 4492.41, 307.715, 'f1216dc8-14d1-4857-9230-cab0641758fb\\r', 2, 'POLYGON ((532213.3779999996 181846.1919999998, 532190.5392000005 181796.06120000035, 532180.131 181763.01999999955, 532155.909 181805.6799999997, 532127.2989999996 181800.62399999984, 532162.9718000004 181864.00879999995, 532194.8990000002 181874.26300000027, 532213.3779999996 181846.1919999998))', b'\\x00\\x00\\x00\\x00\\x01\\x03\\x00\\x00\\x00\\x01\\x00\\x00\\x00\\x08\\x00\\x00\\x00H7\\x89\\xc1\\xea= A\\xc0K7\\x89\\xb12\\x06A\\xc0\\x05\\x12\\x14\\xbd= A\\x00mV} 1\\x06A\\x98n\\x12C\\xa8= A\\x80\\xc2\\xf5(\\x180\\x06A\\xb0rh\\xd1w= A\\x00\\xd7\\xa3pm1\\x06A(\\x87\\x16\\x99>= A@\\xb6\\xf3\\xfdD1\\x06A\\x08\\xc5\\x8f\\xf1\\x85= A\\x00\\xbc\\x05\\x12@3\\x06A`\\xbaI\\xcc\\xc5= A\\x80\\xbe\\x9f\\x1a\\x923\\x06AH7\\x89\\xc1\\xea= A\\xc0K7\\x89\\xb12\\x06A')\n",
        "(3, 'E00000005', 'E01000001', 'City of London 001A', ' ', 532166, 181722, 51.519, -0.09649, 8565.51, 385.205, '44d6f70f-549c-4288-9b6d-de2adbf02582\\r', 3, 'POLYGON ((532180.131 181763.01999999955, 532219.1610000003 181703.9389999993, 532201.2920000004 181668.1799999997, 532124.3210000005 181682.67500000075, 532127.2989999996 181800.62399999984, 532155.909 181805.6799999997, 532180.131 181763.01999999955))', b'\\x00\\x00\\x00\\x00\\x01\\x03\\x00\\x00\\x00\\x01\\x00\\x00\\x00\\x07\\x00\\x00\\x00\\x98n\\x12C\\xa8= A\\x80\\xc2\\xf5(\\x180\\x06A\\x90\\x97nR\\xf6= A\\x80n\\x12\\x83?.\\x06A(\\x06\\x81\\x95\\xd2= A\\x00\\xd7\\xa3p!-\\x06A\\xb0\\x1cZ\\xa48= A\\x80fff\\x95-\\x06A(\\x87\\x16\\x99>= A@\\xb6\\xf3\\xfdD1\\x06A\\xb0rh\\xd1w= A\\x00\\xd7\\xa3pm1\\x06A\\x98n\\x12C\\xa8= A\\x80\\xc2\\xf5(\\x180\\x06A')\n",
        "Indices:\n",
        " - PRIMARY (BTREE): Column FID\n",
        " - idx_oa (BTREE): Column OA21CD\n",
        " - idx_lsoa (BTREE): Column LSOA21CD\n",
        " - idx_lat_lon_btree (BTREE): Column LAT\n",
        " - idx_lat_lon_btree (BTREE): Column LON\n",
        " - geometry (SPATIAL): Column geometry\n",
        "\n",
        "Table osm_data - Approx Row Count 2.3M\n",
        "('element_type', 'osmid', 'geometry_string_ll', 'ways', 'nodes', 'type', 'addr_country', 'addr_postcode', 'addr_street', 'addr_housenumber', 'addr_city', 'addr_housename', 'addr_place', 'name', 'alt_name', 'old_name', 'nohousenumber', 'note', 'disused', 'height', 'amenity', 'tourism', 'brand', 'leisure', 'cuisine', 'emergency', 'historic', 'sport', 'shop', 'religion', 'power', 'military', 'house', 'building', 'building_material', 'building_levels', 'internet_access', 'capacity', 'roof_levels', 'roof_shapefee', 'man_made', 'denomination', 'layer', 'db_id', 'geometry_string_ne', 'geometry', 'OA21CD')\n",
        "('way', 72499117, 'POLYGON ((-6.3134352 49.9146669, -6.3134663 49.9147353, -6.3134061 49.9147467, -6.3134095 49.9147542, -6.3131503 49.9148031, -6.3131469 49.9147957, -6.3130936 49.9148057, -6.3130624 49.9147373, -6.3134352 49.9146669))', '', '[860681919, 860681920, 9169387085, 9169387084, 9169387083, 9169387086, 860681921, 860681922, 860681919]', '', '', 'TR21 0JT', 'Church Street', '', 'Hugh Town', '', '', 'Isles of Scilly Museum', '', '', '', '', '', '', '', 'museum', '', '', '', '', '', '', '', '', '', '', '', 'yes', '', '', '', '', '', '', '', '', '', 1, 'POLYGON ((90458.76146576129 10530.59510146096, 90456.96838425193 10538.325346537269, 90461.36151221936 10539.34294224321, 90461.1656261129 10540.190514922826, 90480.0796803821 10544.551471966843, 90480.27621043124 10543.71501331353, 90484.16519925534 10544.605615865905, 90485.96549134556 10536.874967216398, 90458.76146576129 10530.59510146096))', b\"\\x00\\x00\\x00\\x00\\x01\\x03\\x00\\x00\\x00\\x01\\x00\\x00\\x00\\t\\x00\\x00\\x00\\xdc\\xb8\\xf6.\\xac\\x15\\xf6@P\\xe0H,L\\x91\\xc4@@|\\x80~\\x8f\\x15\\xf6@\\xb8\\x90\\xf4\\xa4)\\x95\\xc4@t\\t\\xc1\\xc8\\xd5\\x15\\xf6@\\x80\\x0b\\x88\\xe5\\xab\\x95\\xc4@$\\x91g\\xa6\\xd2\\x15\\xf6@x\\x01\\xcbb\\x18\\x96\\xc4@\\xb4\\xef^F\\x01\\x17\\xf6@ '\\xa2\\x96F\\x98\\xc4@\\x10\\xa1[k\\x04\\x17\\xf6@\\xe8f\\x8e\\x85\\xdb\\x97\\xc4@p\\xf9\\xa7\\xa4B\\x17\\xf6@\\x00\\x19\\xd2\\x84M\\x98\\xc4@\\x9c\\r\\xa7r_\\x17\\xf6@\\xc0\\xfd\\xec\\xfeo\\x94\\xc4@\\xdc\\xb8\\xf6.\\xac\\x15\\xf6@P\\xe0H,L\\x91\\xc4@\", 'E00096405')\n",
        "('way', 112445611, 'POLYGON ((-6.3084596 49.9166407, -6.308579 49.916719, -6.3085171 49.9167581, -6.3084892 49.9167398, -6.3085024 49.9167315, -6.3084109 49.9166715, -6.3084596 49.9166407))', '', '[9170680719, 1277992838, 9170680715, 9170680714, 9170680716, 1277992862, 9170680719]', '', '', 'TR21 0JY', '', '', 'Portmellon', '', '', 'The Sailing Centre', '', '', '', '', '', '', '', '', '', 'boathouse', '', '', '', 'sailing', '', '', '', '', '', 'yes', '', '', '', '', '', '', '', '', '', 2, 'POLYGON ((90828.4609464347 10729.354209220925, 90820.39463746297 10738.549788717108, 90825.08695750969 10742.639007787584, 90826.97177186015 10740.489873598155, 90825.97139167401 10739.62207760218, 90832.15288637078 10732.575638220165, 90828.4609464347 10729.354209220925))', b'\\x00\\x00\\x00\\x00\\x01\\x03\\x00\\x00\\x00\\x01\\x00\\x00\\x00\\x07\\x00\\x00\\x00d^\\t`\\xc7,\\xf6@\\xe8M\\xbaV\\xad\\xf4\\xc4@T_oPF,\\xf6@\\xd8\\x07z_F\\xf9\\xc4@\\xc4\\x8e-d\\x91,\\xf6@\\xc8\\xd6\\x01\\xcbQ\\xfb\\xc4@h\\xa6`\\x8c\\xaf,\\xf6@\\xa0\\x95-\\xb4>\\xfa\\xc4@\\xf8\\xfe\\xd1\\x8a\\x9f,\\xf6@x&=\\xa0\\xcf\\xf9\\xc4@\\xa8\\xfa8r\\x02-\\xf6@\\xf8`\\x83\\xaeI\\xf6\\xc4@d^\\t`\\xc7,\\xf6@\\xe8M\\xbaV\\xad\\xf4\\xc4@', 'E00096404')\n",
        "('way', 112445629, 'POLYGON ((-6.3087257 49.9166066, -6.3085551 49.916498, -6.3086358 49.9164671, -6.3087896 49.9165649, -6.3087257 49.9166066))', '', '[1277992753, 9170680721, 1277992733, 1277992688, 1277992753]', '', '', 'TR21 0JY', '', '', 'Portmellon', '', '', 'The Beach', '', '', '', '', '', '', 'restaurant', '', '', '', '', '', '', '', '', '', '', '', '', 'yes', '', '', '', '', '', '', '', '', '', 3, 'POLYGON ((90809.14760272152 10726.665366668487, 90820.69383186748 10713.890660483463, 90814.70495984284 10710.790500333693, 90804.2950828856 10722.295490033372, 90809.14760272152 10726.665366668487))', b'\\x00\\x00\\x00\\x00\\x01\\x03\\x00\\x00\\x00\\x01\\x00\\x00\\x00\\x05\\x00\\x00\\x00\\xdc\\xab\\x94\\\\\\x92+\\xf6@\\x80(\\xbc*U\\xf3\\xc4@\\xbcq\\xef\\x19K,\\xf6@(\\xa8)\\x01\\xf2\\xec\\xc4@\\xe0\\xf8\\x83G\\xeb+\\xf6@Xl\\x1d/e\\xeb\\xc4@\\xf4\\xd4\\xa8\\xb8D+\\xf6@\\xd0\\x0e\\x9e\\xd2%\\xf1\\xc4@\\xdc\\xab\\x94\\\\\\x92+\\xf6@\\x80(\\xbc*U\\xf3\\xc4@', 'E00096404')\n",
        "Indices:\n",
        " - idx_postcode (BTREE): Column addr_postcode\n",
        " - idx_db_id (BTREE): Column db_id\n",
        " - geometry (SPATIAL): Column geometry\n",
        " - idx_oa (BTREE): Column OA21CD\n",
        "\n",
        "Table osm_data_sample - Approx Row Count 0.0M\n",
        "('element_type', 'osmid', 'geometry_string_ll', 'ways', 'nodes', 'type', 'addr_country', 'addr_postcode', 'addr_street', 'addr_housenumber', 'addr_city', 'addr_housename', 'addr_place', 'name', 'alt_name', 'old_name', 'nohousenumber', 'note', 'disused', 'height', 'amenity', 'tourism', 'brand', 'leisure', 'cuisine', 'emergency', 'historic', 'sport', 'shop', 'religion', 'power', 'military', 'house', 'building', 'building_material', 'building_levels', 'internet_access', 'capacity', 'roof_levels', 'roof_shapefee', 'man_made', 'denomination', 'layer', 'db_id', 'geometry_string_ne', 'geometry', 'OA21CD')\n",
        "('relation', 1576004, 'POLYGON ((-5.3588132 50.137841, -5.3588119 50.1379062, -5.3588302 50.1379064, -5.3588303 50.137916, -5.3588298 50.1379271, -5.3591748 50.1379298, -5.3591737 50.1379875, -5.359063 50.1379867, -5.3588525 50.137985, -5.3587354 50.1379841, -5.3587345 50.1380317, -5.3582376 50.1380279, -5.3582395 50.1379277, -5.3582623 50.1379278, -5.3582655 50.1377577, -5.3583753 50.1377585, -5.3583746 50.137798, -5.3584518 50.1377986, -5.3586827 50.1378004, -5.358682 50.13784, -5.3587528 50.137841, -5.3588132 50.137841), (-5.3586324 50.1378861, -5.3586326 50.1378722, -5.3584124 50.1378714, -5.3584115 50.1379669, -5.358487 50.1379672, -5.3586316 50.1379678, -5.3586324 50.1378861))', '[112168276, 112168270]', '[[[1275780250, 1275780520, 6915654134, 6915654135, 6915654127, 1275780590, 1275780263, 1275780264, 6915654094, 6915654093, 1275780324, 1275780605, 1275780649, 1275780536, 1275780574, 1275780460, 1275780494, 1275780375, 11543332618, 1275780477, 1275780444, 1275780250], [1275780610, 6915616070, 1275780448, 1275780303, 1275780358, 6915616068, 1275780610]]]', 'multipolygon', '', 'TR13 9RE', '', '', 'Helston', 'Godolphin Estate', 'Godolphin Cross', 'Godolphin Count House', '', '', '', '', '', '', '', 'attraction', '', '', '', '', '', '', '', '', '', '', '', 'yes', '', '', '', '', '', '', '', '', '-2.0', 9231, 'POLYGON ((160086.16956965212 31822.472745400475, 160086.58895984557 31829.71596022285, 160085.2825716251 31829.79709322439, 160085.32350359295 31830.864516799717, 160085.4148126958 31832.09674381002, 160060.78083433688 31833.507368218503, 160061.1484081984 31839.917552823725, 160069.0530244006 31839.472289172612, 160084.08304005134 31838.605765294487, 160092.44438522015 31838.12882112735, 160092.74705420376 31843.416970515507, 160128.22749901644 31841.395378445304, 160127.5900522634 31830.263617495773, 160125.9616744297 31830.348106398684, 160124.88135450747 31811.4506942546, 160117.04099638914 31811.892977273732, 160117.2887921534 31816.28140370059, 160111.7764561905 31816.596549069625, 160095.28945915794 31817.539766504895, 160095.53777390122 31821.939308143687, 160090.48467634825 31822.278339675016, 160086.16956965212 31822.472745400475), (160099.31215739273 31826.90398117411, 160099.22826281504 31825.35955047325, 160114.95581193813 31824.561936467944, 160115.49830795583 31835.17447969984, 160110.10594067888 31835.450809407223, 160099.7784352009 31835.982886881276, 160099.31215739273 31826.90398117411))', b'\\x00\\x00\\x00\\x00\\x01\\x03\\x00\\x00\\x00\\x02\\x00\\x00\\x00\\x16\\x00\\x00\\x00rUG[\\xb1\\x8a\\x03A\\x98\\xecuA\\x9e\\x13\\xdf@[\\x940\\xb6\\xb4\\x8a\\x03A\\x98\\xd3J\\xd2m\\x15\\xdf@\\x85\\xe9\\xb4B\\xaa\\x8a\\x03A\\xa8L\\x93\\x03s\\x15\\xdf@?\\r\\x89\\x96\\xaa\\x8a\\x03AhE>T\\xb7\\x15\\xdf@\\x93Q\\x89Q\\xab\\x8a\\x03A\\x08\\xf3\\x0c1\\x06\\x16\\xdf@\\xa4\\x12&?\\xe6\\x89\\x03A`\\x8c\\xb8x`\\x16\\xdf@5\\xa3\\xf0/\\xe9\\x89\\x03A\\x90z/\\xb9\\xfa\\x17\\xdf@\\x94\\x0e\\x98l(\\x8a\\x03A\\xa8]\\xfc9\\xde\\x17\\xdf@\\x06\\xe7\\x10\\xaa\\xa0\\x8a\\x03A8\\xcc\\xdb\\xc4\\xa6\\x17\\xdf@\\x9b\\xd6\\x19\\x8e\\xe3\\x8a\\x03A@\\xf8\\x9a>\\x88\\x17\\xdf@\\xec\\x8d\\xf7\\xf9\\xe5\\x8a\\x03A\\xe0\\x19\\xa5\\xaf\\xda\\x18\\xdf@\\x1c\\x01\\xeb\\xd1\\x01\\x8c\\x03A\\x08e\\xe1MY\\x18\\xdf@2Rm\\xb8\\xfc\\x8b\\x03A\\xc0\\xea\\x1b\\xdf\\x90\\x15\\xdf@\\x08]\\x82\\xb1\\xef\\x8b\\x03Ax\\x0f`G\\x96\\x15\\xdf@\\x8e\\x97\\x03\\r\\xe7\\x8b\\x03A\\x00\\xb7,\\xd8\\xdc\\x10\\xdf@5\\xea\\xf5S\\xa8\\x8b\\x03A\\xb0&\\x8a&\\xf9\\x10\\xdf@\\xb2BrO\\xaa\\x8b\\x03A\\xc0\\xaa\\x84\\x02\\x12\\x12\\xdf@\\xc8\\xa9.6~\\x8b\\x03A &\\xdc-&\\x12\\xdf@\\x87\\xf6\\xcfP\\xfa\\x8a\\x03A\\x80\\xcf\\x88\\x8bb\\x12\\xdf@3g\\\\M\\xfc\\x8a\\x03A\\x80\\xe7\\x9f\\x1d|\\x13\\xdf@G\\xfe\\x9d\\xe0\\xd3\\x8a\\x03AX6Q\\xd0\\x91\\x13\\xdf@rUG[\\xb1\\x8a\\x03A\\x98\\xecuA\\x9e\\x13\\xdf@\\x07\\x00\\x00\\x00\\x08`L\\x7f\\x1a\\x8b\\x03A\\xc0\\xda\\xd3\\xda\\xb9\\x14\\xdf@lt{\\xd3\\x19\\x8b\\x03A\\xf8\\xfc\\xdf\\x02W\\x14\\xdf@\\xbb\\xba\\x80\\xa5\\x97\\x8b\\x03A\\x10`\\xc4\\xf6#\\x14\\xdf@\\xad\\xe1\\x88\\xfc\\x9b\\x8b\\x03A(\\xe7\\xac*\\xcb\\x16\\xdf@9m\\xf7\\xd8p\\x8b\\x03A0\\xb3\\x0f\\xda\\xdc\\x16\\xdf@\\x0f<<:\\x1e\\x8b\\x03A\\xb0`\\x9e\\xe7\\xfe\\x16\\xdf@\\x08`L\\x7f\\x1a\\x8b\\x03A\\xc0\\xda\\xd3\\xda\\xb9\\x14\\xdf@', 'E00095232')\n",
        "('relation', 6272289, 'POLYGON ((-5.2770057 50.2289954, -5.2770251 50.2290046, -5.2769484 50.2290713, -5.2769275 50.2290614, -5.2767873 50.2291834, -5.276366 50.2289853, -5.2764183 50.2289398, -5.27672 50.2286772, -5.2771429 50.228876, -5.2770057 50.2289954), (-5.2767544 50.2288051, -5.2765608 50.2289686, -5.2767531 50.2290618, -5.2769468 50.2288983, -5.2767544 50.2288051))', '[143400736, 421970682]', '[[[1569200506, 4217005352, 4217005353, 4217005358, 4217005356, 1569200517, 1569200508, 5475247462, 1569200481, 1569200506], [4217005349, 4217005348, 4217005350, 4217005357, 4217005349]]]', 'multipolygon', '', 'TR15 3RD', 'Trevenson Road', '', 'Redruth', '', '', 'Trevithick Court', '', '', '', '', '', '', '', '', '', '', '', '', '', '', '', '', '', '', '', 'college', '', '1.0', '', '', '', '', '', '', '', 9232, 'POLYGON ((166376.37276804046 41694.974749416986, 166375.0344211005 41696.05829827403, 166380.82997802846 41703.231912765885, 166382.27185992844 41702.06584648584, 166392.86590993474 41715.187303649174, 166421.93846893095 41691.84465051026, 166417.986551931 41686.95100738492, 166395.1886003087 41658.70729205961, 166366.0052828661 41682.132921668206, 166376.37276804046 41694.974749416986), (166393.36129452076 41673.0325111158, 166407.96616721348 41690.59953518893, 166394.70974411705 41701.56301420703, 166380.09772006687 41683.99633974003, 166393.36129452076 41673.0325111158))', b'\\x00\\x00\\x00\\x00\\x01\\x03\\x00\\x00\\x00\\x02\\x00\\x00\\x00\\n\\x00\\x00\\x00v\\xcfm\\xfbBO\\x04Ax\\xb0%1\\xdf[\\xe4@\\xe8\\x91~F8O\\x04A\\x8cW\\x94\\xdd\\x01\\\\\\xe4@E\\x85\\xcb\\xa3fO\\x04A R\\xd4k\\xe7\\\\\\xe4@\\xee\\xe5\\xc4,rO\\x04A\\xe8\\x16j\\x1b\\xc2\\\\\\xe4@\\x180b\\xed\\xc6O\\x04A\\xf48d\\xfee^\\xe4@\\xb6\\xff\\xfb\\x81\\xafP\\x04A\\xc4\\x81`\\x07{[\\xe4@\\xbcVu\\xe4\\x8fP\\x04A\\x10\\n\\xa7n\\xdeZ\\xe4@\\xef\\xe0@\\x82\\xd9O\\x04A\\x18\\xf5\"\\xa2VW\\xe4@I\\xbe\\xd1\\n\\xf0N\\x04A<\\xf1\\xe4@DZ\\xe4@v\\xcfm\\xfbBO\\x04Ax\\xb0%1\\xdf[\\xe4@\\x05\\x00\\x00\\x00\\xb7a\\xee\\xe3\\xcaO\\x04Ad\\xc0T\\n!Y\\xe4@C\\xe0\\xb5\\xba?P\\x04A\\xa8kd/S[\\xe4@\\xdaR\\x8e\\xad\\xd5O\\x04A\\xcc^6\\x04\\xb2\\\\\\xe4@[u!\\xc8`O\\x04A\\xe4\\xe0\\x03\\xe2\\x7fZ\\xe4@\\xb7a\\xee\\xe3\\xcaO\\x04Ad\\xc0T\\n!Y\\xe4@', 'E00182758')\n",
        "('relation', 7012772, 'POLYGON ((-5.2737421 50.2274724, -5.2735134 50.2275462, -5.2735414 50.2275817, -5.2735731 50.2276211, -5.2734847 50.2276494, -5.2734453 50.2276006, -5.2733934 50.2276178, -5.2732982 50.2274979, -5.273668 50.2273785, -5.2737421 50.2274724))', '[143400690]', '[[[1569200022, 1569200044, 5429909876, 1569200108, 1569200129, 5472660274, 5472660273, 1569200023, 1569199906, 1569200022]]]', 'multipolygon', '', 'TR15 3RD', 'Trevenson Road', '', 'Redruth', '', '', 'dBs', '', '', '', '', '', '', '', '', '', '', '', '', '', '', '', '', '', '', '', 'college', '', '2.0', '', '', '', '', '', '', '', 9233, 'POLYGON ((166601.6469998361 41515.44198465673, 166618.31610309827 41522.928540665045, 166616.49293302154 41526.96247665322, 166614.42498174557 41531.441534391284, 166620.86700770017 41534.310207305214, 166623.43810670276 41528.76211560643, 166627.22310428528 41530.51135377839, 166633.42582582674 41516.8849150138, 166606.4721160039 41504.77180834714, 166601.6469998361 41515.44198465673))', b'\\x00\\x00\\x00\\x00\\x01\\x03\\x00\\x00\\x00\\x01\\x00\\x00\\x00\\n\\x00\\x00\\x00\\x05@\\x0e-MV\\x04A\\xc0\\x01\\xbd$nE\\xe4@\\xaa\\x0fa\\x87\\xd2V\\x04A\\xac\\xe9\\x9a\\xb6]F\\xe4@5\\xde\\x86\\xf1\\xc3V\\x04A\\x98\\xd6\\x9b\\xcc\\xdeF\\xe4@U\\xd4\\\\f\\xb3V\\x04AT\\xbb\\x0c!nG\\xe4@\\xad\\xbb\\xa1\\xef\\xe6V\\x04A\\xdc\\xde7\\xed\\xc9G\\xe4@D\\x16>\\x81\\xfbV\\x04A\\xacD@c\\x18G\\xe4@G\\xe6\\xea\\xc8\\x19W\\x04A\\\\\\x99\\x02]PG\\xe4@\\xfd^\\x17hKW\\x04A\\x80J9Q\\x9cE\\xe4@e\\xc1\\xe4\\xc6sV\\x04A8k\\xa7\\xb2\\x18D\\xe4@\\x05@\\x0e-MV\\x04A\\xc0\\x01\\xbd$nE\\xe4@', 'E00182758')\n",
        "Indices:\n",
        " - geometry (SPATIAL): Column geometry\n",
        " - idx_postcode (BTREE): Column addr_postcode\n",
        " - idx_db_id (BTREE): Column db_id\n",
        " - idx_oa (BTREE): Column OA21CD\n",
        "\n",
        "Table postcode_data - Approx Row Count 2.5M\n",
        "('postcode', 'status', 'usertype', 'easting', 'northing', 'positional_quality_indicator', 'country', 'latitude', 'longitude', 'postcode_no_space', 'postcode_fixed_width_seven', 'postcode_fixed_width_eight', 'postcode_area', 'postcode_district', 'postcode_sector', 'outcode', 'incode', 'db_id')\n",
        "('AB1 0AA', 'terminated', 'small', 385386, 801193, 1, 'Scotland', Decimal('57.10147400'), Decimal('-2.24285100'), 'AB10AA', 'AB1 0AA', 'AB1  0AA', 'AB', 'AB1', 'AB1 0', 'AB1', '0AA', 1)\n",
        "('AB1 0AB', 'terminated', 'small', 385177, 801314, 1, 'Scotland', Decimal('57.10255400'), Decimal('-2.24630800'), 'AB10AB', 'AB1 0AB', 'AB1  0AB', 'AB', 'AB1', 'AB1 0', 'AB1', '0AB', 2)\n",
        "('AB1 0AD', 'terminated', 'small', 385053, 801092, 1, 'Scotland', Decimal('57.10055600'), Decimal('-2.24834200'), 'AB10AD', 'AB1 0AD', 'AB1  0AD', 'AB', 'AB1', 'AB1 0', 'AB1', '0AD', 3)\n",
        "Indices:\n",
        " - PRIMARY (BTREE): Column db_id\n",
        " - idx_postcode_postcode (BTREE): Column postcode\n",
        "\n",
        "Table pp_data - Approx Row Count 29.3M\n",
        "('transaction_unique_identifier', 'price', 'date_of_transfer', 'postcode', 'property_type', 'new_build_flag', 'tenure_type', 'primary_addressable_object_name', 'secondary_addressable_object_name', 'street', 'locality', 'town_city', 'district', 'county', 'ppd_category_type', 'record_status', 'db_id')\n",
        "('{109BBF80-1E51-4910-8E2C-B124E1117A7A}', 34950, datetime.date(1995, 6, 9), 'BA3 3AH', 'F', 'N', 'L', 'COOMBEND HOUSE', '7', 'COOMBEND', 'RADSTOCK', 'RADSTOCK', 'WANSDYKE', 'AVON', 'A', 'A', 1)\n",
        "('{D5233D67-2975-426B-B98D-B124E39331D9}', 133000, datetime.date(1995, 6, 19), 'SW18 5AG', 'T', 'N', 'F', '142', '', 'ASTONVILLE STREET', 'LONDON', 'LONDON', 'WANDSWORTH', 'GREATER LONDON', 'A', 'A', 2)\n",
        "('{718BD35C-25E1-431C-8AF7-B124E63ED4E1}', 83000, datetime.date(1995, 8, 21), 'IP11 7PU', 'D', 'N', 'F', '3', '', 'GARFIELD ROAD', 'FELIXSTOWE', 'FELIXSTOWE', 'SUFFOLK COASTAL', 'SUFFOLK', 'A', 'A', 3)\n",
        "Indices:\n",
        " - PRIMARY (BTREE): Column db_id\n",
        " - idx_pp_postcode (BTREE): Column postcode\n",
        " - idx_pp_date_transfer (BTREE): Column date_of_transfer\n",
        " - idx_address (BTREE): Column postcode\n",
        " - idx_address (BTREE): Column street\n",
        " - idx_address (BTREE): Column primary_addressable_object_name\n",
        " - idx_address (BTREE): Column town_city\n",
        "\n",
        "Table prices_coordinates_data - Approx Row Count 5.8M\n",
        "('price', 'date_of_transfer', 'postcode', 'property_type', 'new_build_flag', 'tenure_type', 'locality', 'town_city', 'district', 'county', 'country', 'latitude', 'longitude', 'db_id')\n",
        "(370000, datetime.date(2024, 1, 1), 'WR12 7FE', 'T', 'N', 'F', '', 'BROADWAY', 'WYCHAVON', 'WORCESTERSHIRE', 'England', Decimal('52.04243800'), Decimal('-1.85757200'), 1)\n",
        "(50000, datetime.date(2024, 1, 1), 'TS17 6LJ', 'T', 'N', 'F', 'THORNABY', 'STOCKTON-ON-TEES', 'STOCKTON-ON-TEES', 'STOCKTON-ON-TEES', 'England', Decimal('54.55240100'), Decimal('-1.30114300'), 2)\n",
        "(485000, datetime.date(2024, 1, 1), 'BR3 6QH', 'F', 'N', 'L', '', 'BECKENHAM', 'BROMLEY', 'GREATER LONDON', 'England', Decimal('51.40061400'), Decimal('-0.01854100'), 3)\n",
        "Indices:\n",
        " - PRIMARY (BTREE): Column db_id\n",
        " - idx_lat_lon_btree (BTREE): Column latitude\n",
        " - idx_lat_lon_btree (BTREE): Column longitude\n",
        "\n",
        "\"\"\""
      ]
    },
    {
      "cell_type": "markdown",
      "metadata": {
        "id": "TIzv84Kcn3Dj"
      },
      "source": [
        "## Address"
      ]
    },
    {
      "cell_type": "code",
      "execution_count": 558,
      "metadata": {},
      "outputs": [
        {
          "name": "stdout",
          "output_type": "stream",
          "text": [
            "Connection established!\n"
          ]
        }
      ],
      "source": [
        "conn = fynesse.access.create_connection()"
      ]
    },
    {
      "cell_type": "markdown",
      "metadata": {},
      "source": [
        "### Introducing a helper function"
      ]
    },
    {
      "cell_type": "code",
      "execution_count": 524,
      "metadata": {},
      "outputs": [],
      "source": [
        "def oa_by_coordinates(latitude: float, longitude: float) -> str:\n",
        "\n",
        "    wgs84 = Proj(init='epsg:4326')  # WGS 84 (latitude, longitude)\n",
        "    osgb = Proj(init='epsg:27700')  # National Grid (easting, northing)\n",
        "\n",
        "    x, y = transform(wgs84, osgb, longitude, latitude)\n",
        "\n",
        "    query = f\"\"\"\n",
        "    SELECT oa.OA21CD\n",
        "    FROM oa_data oa\n",
        "    WHERE ST_Contains(\n",
        "        oa.geometry, \n",
        "        ST_GeomFromText('POINT({x} {y})', 27700)\n",
        "    );\n",
        "    \"\"\"\n",
        "\n",
        "    oa = fynesse.assess.execute_query(conn, query)\n",
        "\n",
        "    return oa[0][0] if oa else None"
      ]
    },
    {
      "cell_type": "code",
      "execution_count": 527,
      "metadata": {},
      "outputs": [
        {
          "name": "stdout",
          "output_type": "stream",
          "text": [
            "Data successfully exported to backup/census_data_1.csv\n"
          ]
        }
      ],
      "source": [
        "fynesse.access.db_to_csv(conn, 'census_data_1', 'backup/census_data_1.csv')\n",
        "census_data_1_df = pd.read_csv('backup/census_data_1.csv')"
      ]
    },
    {
      "cell_type": "markdown",
      "metadata": {},
      "source": [
        "### Predicting share of students in the area"
      ]
    },
    {
      "cell_type": "markdown",
      "metadata": {},
      "source": [
        "Now let's make a prediction system which will use Open Street Maps to predict Socio-Economic Status - in particular, the percent of full time students, from OSM features."
      ]
    },
    {
      "cell_type": "markdown",
      "metadata": {},
      "source": [
        "Our function should take as input a coordinate pair (we can assume it will be in England), and return an estimate for the share of students in that area."
      ]
    },
    {
      "cell_type": "code",
      "execution_count": 526,
      "metadata": {},
      "outputs": [],
      "source": [
        "def get_true_NSSEC_L15_Norm(latitude: float, longitude: float) -> float:\n",
        "    \"\"\"\n",
        "    Args:\n",
        "    latitude (float): The latitude coordinate.\n",
        "    longitude (float): The longitude coordinate.\n",
        "\n",
        "    Returns:\n",
        "    float: True share of students in that area (value between 0 and 1).\n",
        "    \"\"\"\n",
        "\n",
        "    oa = oa_by_coordinates(latitude, longitude)\n",
        "\n",
        "    if oa is None:\n",
        "        return None\n",
        "    else:\n",
        "        query = f\"\"\"\n",
        "        SELECT NSSEC_L15_Norm\n",
        "        FROM census_data_1\n",
        "        WHERE geography_code = '{oa}';\n",
        "        \"\"\"\n",
        "        true_value = fynesse.assess.execute_query(conn, query)[0][0]\n",
        "\n",
        "        return float(true_value)"
      ]
    },
    {
      "cell_type": "code",
      "execution_count": 528,
      "metadata": {
        "id": "Ukm6s3Fyn57t"
      },
      "outputs": [],
      "source": [
        "def estimate_NSSEC_L15_Norm(latitude: float, longitude: float) -> float:\n",
        "    \"\"\"\n",
        "    Args:\n",
        "    latitude (float): The latitude coordinate.\n",
        "    longitude (float): The longitude coordinate.\n",
        "\n",
        "    Returns:\n",
        "    float: Estimated share of students in that area (value between 0 and 1).\n",
        "    \"\"\"\n",
        "    \n",
        "    selected_features = ['amenity', 'tourism', 'leisure', 'cuisine', 'sport', 'shop', 'religion', 'house', 'building', 'emergency', 'historic', 'power', 'military']\n",
        "    \n",
        "    x = census_data_1_df[selected_features].to_numpy()\n",
        "    y = census_data_1_df['NSSEC_L15_Norm'].to_numpy()\n",
        "    model = sm.OLS(y, x)\n",
        "    results = model.fit()\n",
        "\n",
        "    oa = oa_by_coordinates(latitude, longitude)\n",
        "    \n",
        "    if oa is None:\n",
        "        return None\n",
        "    else:\n",
        "        x_pred = census_data_1_df[census_data_1_df['geography_code'] == oa][selected_features].to_numpy()\n",
        "        y_pred = results.get_prediction(x_pred).summary_frame(alpha=0.00)['mean']\n",
        "        return y_pred[0]"
      ]
    },
    {
      "cell_type": "code",
      "execution_count": 531,
      "metadata": {},
      "outputs": [
        {
          "name": "stdout",
          "output_type": "stream",
          "text": [
            "Correlation coefficient: 0.2530932386830538\n"
          ]
        }
      ],
      "source": [
        "warnings.simplefilter(action='ignore', category=FutureWarning)\n",
        "warnings.simplefilter(action='ignore', category=RuntimeWarning)\n",
        "\n",
        "lat_min, lat_max = 51.3, 53.8\n",
        "lon_min, lon_max = -2.5, 1.5\n",
        "samples = 100\n",
        "    \n",
        "coords = [(random.uniform(lat_min, lat_max), random.uniform(lon_min, lon_max)) for _ in range(samples)]\n",
        "trues = []\n",
        "preds = []\n",
        "\n",
        "for i in range(samples):\n",
        "    \n",
        "    latitude = coords[i][0]\n",
        "    longitude = coords[i][1]\n",
        "    oa = oa_by_coordinates(latitude, longitude)\n",
        "    true_value = get_true_NSSEC_L15_Norm(latitude, longitude)\n",
        "\n",
        "    if oa is not None:\n",
        "        pred_value = estimate_NSSEC_L15_Norm(latitude, longitude)\n",
        "        trues.append(true_value)\n",
        "        preds.append(pred_value)\n",
        "\n",
        "print(f\"Correlation coefficient: {np.corrcoef(trues, preds)[0, 1]}\")"
      ]
    },
    {
      "cell_type": "code",
      "execution_count": 532,
      "metadata": {},
      "outputs": [
        {
          "data": {
            "image/png": "[encoded data removed]",
            "text/plain": [
              "<Figure size 800x600 with 1 Axes>"
            ]
          },
          "metadata": {},
          "output_type": "display_data"
        },
        {
          "name": "stdout",
          "output_type": "stream",
          "text": [
            "RMSE: 0.04036853317773891\n",
            "R2: -3.373095939394215\n",
            "CORRELATION: 0.2530932386830538\n"
          ]
        }
      ],
      "source": [
        "fynesse.assess.plot_predictions_against_trues(trues, preds)"
      ]
    },
    {
      "cell_type": "markdown",
      "metadata": {},
      "source": [
        "### Predicting share of migrants in the area"
      ]
    },
    {
      "cell_type": "markdown",
      "metadata": {},
      "source": [
        "Now let's try to predict the additional census variable we selected in the previous step."
      ]
    },
    {
      "cell_type": "code",
      "execution_count": 534,
      "metadata": {},
      "outputs": [],
      "source": [
        "def get_true_MI_AddrYearAgoOutUK_Norm(latitude: float, longitude: float) -> float:\n",
        "    \"\"\"\n",
        "    Args:\n",
        "    latitude (float): The latitude coordinate.\n",
        "    longitude (float): The longitude coordinate.\n",
        "\n",
        "    Returns:\n",
        "    float: True share of migrants that used to live outside of the UK one year ago in that area (value between 0 and 1).\n",
        "    \"\"\"\n",
        "\n",
        "    oa = oa_by_coordinates(latitude, longitude)\n",
        "\n",
        "    if oa is None:\n",
        "        return None\n",
        "    else:\n",
        "        query = f\"\"\"\n",
        "        SELECT MI_AddrYearAgoOutUK_Norm\n",
        "        FROM census_data_1\n",
        "        WHERE geography_code = '{oa}';\n",
        "        \"\"\"\n",
        "        true_value = fynesse.assess.execute_query(conn, query)[0][0]\n",
        "\n",
        "        return float(true_value)"
      ]
    },
    {
      "cell_type": "code",
      "execution_count": 542,
      "metadata": {},
      "outputs": [],
      "source": [
        "def estimate_MI_AddrYearAgoOutUK_Norm(latitude: float, longitude: float) -> float:\n",
        "    \"\"\"\n",
        "    Args:\n",
        "    latitude (float): The latitude coordinate.\n",
        "    longitude (float): The longitude coordinate.\n",
        "\n",
        "    Returns:\n",
        "    float: Estimated share of migrants that used to live outside of the UK one year ago in that area (value between 0 and 1).\n",
        "    \"\"\"\n",
        "    \n",
        "    selected_features = ['amenity', 'tourism', 'leisure', 'cuisine', 'sport', 'shop', 'religion', 'house', 'building', 'emergency', 'historic', 'power', 'military']\n",
        "    \n",
        "    x = census_data_1_df[selected_features].to_numpy()\n",
        "    y = census_data_1_df['MI_AddrYearAgoOutUK_Norm'].to_numpy()\n",
        "    model = sm.OLS(y, x)\n",
        "    results = model.fit()\n",
        "\n",
        "    oa = oa_by_coordinates(latitude, longitude)\n",
        "    \n",
        "    if oa is None:\n",
        "        return None\n",
        "    else:\n",
        "        x_pred = census_data_1_df[census_data_1_df['geography_code'] == oa][selected_features].to_numpy()\n",
        "        y_pred = results.get_prediction(x_pred).summary_frame(alpha=0.00)['mean']\n",
        "        return y_pred[0]"
      ]
    },
    {
      "cell_type": "code",
      "execution_count": 547,
      "metadata": {},
      "outputs": [
        {
          "name": "stdout",
          "output_type": "stream",
          "text": [
            "Correlation coefficient: 0.4518782367671427\n"
          ]
        }
      ],
      "source": [
        "warnings.simplefilter(action='ignore', category=FutureWarning)\n",
        "warnings.simplefilter(action='ignore', category=RuntimeWarning)\n",
        "\n",
        "lat_min, lat_max = 51.3, 53.8\n",
        "lon_min, lon_max = -2.5, 1.5\n",
        "samples = 100\n",
        "    \n",
        "coords = [(random.uniform(lat_min, lat_max), random.uniform(lon_min, lon_max)) for _ in range(samples)]\n",
        "trues = []\n",
        "preds = []\n",
        "\n",
        "for i in range(samples):\n",
        "    \n",
        "    latitude = coords[i][0]\n",
        "    longitude = coords[i][1]\n",
        "    oa = oa_by_coordinates(latitude, longitude)\n",
        "    true_value = get_true_MI_AddrYearAgoOutUK_Norm(latitude, longitude)\n",
        "\n",
        "    if oa is not None:\n",
        "        pred_value = estimate_MI_AddrYearAgoOutUK_Norm(latitude, longitude)\n",
        "        trues.append(true_value)\n",
        "        preds.append(pred_value)\n",
        "\n",
        "print(f\"Correlation coefficient: {np.corrcoef(trues, preds)[0, 1]}\")"
      ]
    },
    {
      "cell_type": "code",
      "execution_count": 548,
      "metadata": {},
      "outputs": [
        {
          "data": {
            "image/png": "[encoded data removed]",
            "text/plain": [
              "<Figure size 800x600 with 1 Axes>"
            ]
          },
          "metadata": {},
          "output_type": "display_data"
        },
        {
          "name": "stdout",
          "output_type": "stream",
          "text": [
            "RMSE: 0.009222659678923118\n",
            "R2: 0.027933032480942366\n",
            "CORRELATION: 0.4518782367671427\n"
          ]
        }
      ],
      "source": [
        "fynesse.assess.plot_predictions_against_trues(trues, preds)"
      ]
    },
    {
      "cell_type": "markdown",
      "metadata": {
        "id": "M03wH58P5V3K"
      },
      "source": [
        "## Discussion"
      ]
    },
    {
      "cell_type": "markdown",
      "metadata": {
        "id": "0OlifPaO6Twy"
      },
      "source": [
        "### Story and structure"
      ]
    },
    {
      "cell_type": "markdown",
      "metadata": {},
      "source": [
        "Marks awarded for inline explanation and structure, no need for answers here."
      ]
    },
    {
      "cell_type": "markdown",
      "metadata": {
        "id": "nQXOZrmh6ZkH"
      },
      "source": [
        "### Design decisions"
      ]
    },
    {
      "cell_type": "markdown",
      "metadata": {},
      "source": [
        "One of the toughest design decisions I had to face during this project was to decide how to store geometrical data. While it's possible to do simple operations (such as computing area of polygon) in SQL, for more complex operations I needed to use dataframes. Limited time for this task puts further constraints on this topic."
      ]
    },
    {
      "cell_type": "markdown",
      "metadata": {
        "id": "uXTy0gCJ7FqJ"
      },
      "source": [
        "### Comparison"
      ]
    },
    {
      "cell_type": "markdown",
      "metadata": {},
      "source": [
        "Not sure what to put here - to be discussed."
      ]
    },
    {
      "cell_type": "markdown",
      "metadata": {
        "id": "DRnOzM_Y7Jt7"
      },
      "source": [
        "### Reusability"
      ]
    },
    {
      "cell_type": "markdown",
      "metadata": {},
      "source": [
        "Quite a big number of snippets of code produced during this project can be effectively reused. Most of such pieces of code has been placed into fynesse library, some of them still remain in the code."
      ]
    },
    {
      "cell_type": "markdown",
      "metadata": {
        "id": "_L96aZiR4WVL"
      },
      "source": [
        "# Task 2: miniproject (13 marks)"
      ]
    },
    {
      "cell_type": "markdown",
      "metadata": {
        "id": "6i81p_90A1at"
      },
      "source": [
        "We expect your miniproject to be more advanced than the example project, and that's why we allocated more marks to it. The first 7 marks will be allocated similarly to Task 1.\n",
        "\n",
        "6 remaining points are *bonus* - they will be allocated for going far beyond what you did in Task 1, either in data access, assess, address or story."
      ]
    },
    {
      "cell_type": "markdown",
      "metadata": {
        "id": "USNwRwBaCzOC"
      },
      "source": [
        "#### Choosing your topic"
      ]
    },
    {
      "cell_type": "markdown",
      "metadata": {},
      "source": [
        "You are given a lot of flexibility in choosing a miniproject topic.\n",
        "\n",
        "Some hints:\n",
        "- Your project should be based on the Census, Price Paid, OSM and Election datasets.\n",
        "- It's a good idea to pick something that you are interested in.\n",
        "- Bear in mind there are no marks dedicated to your overall prediction accuracy, so there is no advantage to picking 'easy' topics. It is perfectly ok to not reach significant predictive power, as long as you followed the proper process.\n",
        "\n",
        "Some guidelines:\n",
        "- Do not make a miniproject that furthers discriminatory rhetoric. In general, avoid topics that could be insensitive. If in doubt, message Radzim Sendyka (and *cc* Christian Cabrera) to discuss if this applies to your idea.\n",
        "- Please avoid any projects that would require approval from the ethics comittee.\n",
        "- Pick the scope of your projects that will allow you to show your skills. Some projects might not be challenging enough while others might be hard to make any progress in. Don't be scared to report negative results.\n",
        "\n",
        "Please email Radzim Sendyka (and *cc* Christian Cabrera) with your project idea when you begin working on it, so we can let you know about any potential concerns (eg. potentially insensive, too off-topic, too simple, too complex) as soon as we can. You can change the topic up to the submission deadline, but let us know again in cases of major changes."
      ]
    },
    {
      "cell_type": "markdown",
      "metadata": {
        "id": "pwjwzdgvAGI-"
      },
      "source": [
        "Most of the advice from Task 1 still applies, particularly around using an online relational database, structuring your notebook, fynesse, access-assess-address, data readiness levels, hints."
      ]
    },
    {
      "cell_type": "markdown",
      "metadata": {
        "id": "9i6X92QHnuAT"
      },
      "source": [
        "Sources you may want to include in your data include:\n",
        "\n",
        "  - UK Census Data\n",
        "    - UK Census 2021 data [here](https://www.ons.gov.uk/search?topics=9731,6646,3845,9497,4262,4128,7755,4994,6885,9724,7367&filter=datasets) or [here](https://www.nomisweb.co.uk/sources/census_2021_bulk).\n",
        "    - Historical Census data [here](https://www.ons.gov.uk/census/historiccensusdata).\n",
        "    - Geographic coordinates of Census Output Areas [here](https://www.data.gov.uk/dataset/4d4e021d-fe98-4a0e-88e2-3ead84538537/output-areas-december-2021-boundaries-ew-bgc-v2).\n",
        "  - Spatial data\n",
        "    - You should already have a connection to OpenStreetMaps.\n",
        "    - You might want to also download the entire map for England (or more) [here](https://download.openstreetmap.fr/extracts/) or [here](https://wiki.openstreetmap.org/wiki/Planet.osm).\n",
        "  - Election data\n",
        "    - Recent Election Results data [here](https://commonslibrary.parliament.uk/research-briefings/cbp-10009/)\n",
        "    - Historical Election Results data [here](https://commonslibrary.parliament.uk/research-briefings/cbp-8647/#fullreport).\n",
        "    - Lookup reference between Output Areas and Parliamentary Constituencies [here](https://geoportal.statistics.gov.uk/datasets/5968b5b2c0f14dd29ba277beaae6dec3_0/explore).\n",
        "  - Price Paid Data\n",
        "    - You should have this data already in your database.\n",
        "  - OSM\n",
        "    - You should know how to access this data from previous practicals."
      ]
    },
    {
      "cell_type": "markdown",
      "metadata": {
        "id": "C0etneFRoDRx"
      },
      "source": [
        "Example ideas:\n",
        "\n",
        "- Are areas correlated in terms of census results? If so, find the areas that are leading change, and the ones that are following.\n",
        "- Which historical census variables used to predict election results in the past, but don't seem related anymore?\n",
        "- Census results are only updated once a decade, but new roads and houses are built every year. Can census results, for example those relating to travel, be predicted from basic map information, such as street networks?\n",
        "- Building new houses is our best way of tackling the housing crisis. Use the information on new builds in the house prices dataset to explore what factors drive new developments, and make predictions for where the next houses will be built.\n",
        "- House styles differ a lot between regions and inhabitants. Can you make any predictions about the house or area simply from looking at it's geometric shape and orientation?\n",
        "\n",
        "Note that the ideas are just a starting point question. You should include more in-depth investigations into the data, validate your findings where applicable, and prepare visualisations."
      ]
    },
    {
      "cell_type": "markdown",
      "metadata": {
        "id": "8lW1FTFyBFFr"
      },
      "source": [
        "## Title"
      ]
    },
    {
      "cell_type": "markdown",
      "metadata": {},
      "source": [
        "### How often do unexpected cultural or political shifts lead to unpredictable electoral outcomes? "
      ]
    },
    {
      "cell_type": "markdown",
      "metadata": {},
      "source": [
        "## Description"
      ]
    },
    {
      "cell_type": "markdown",
      "metadata": {},
      "source": [
        "The aim of the project is to investigate how often unexpected factors like region-specific cultural issues influence voting results.\n",
        "\n",
        "TODO: expand this"
      ]
    },
    {
      "cell_type": "markdown",
      "metadata": {
        "id": "6UH7IY3aBml-"
      },
      "source": [
        "## Project plan"
      ]
    },
    {
      "cell_type": "markdown",
      "metadata": {},
      "source": [
        "- Extract relevant demographic features from census data.\n",
        "- Add special indices to enrich the dataset.\n",
        "- Cluster regions based on similarity of demographic profiles.\n",
        "- Compare clusters to voting patterns.\n",
        "- Identify demographic profiles strongly associated with specific voting patterns.\n",
        "- Identify areas with anomalies in voting results (do a thorough analysis in assess).\n",
        "- Build a model to predict voting results based on census data. \n",
        "- Analyse feature importance to identify links between demographic features and voting outcomes. \n",
        "- Identify regions where predictions deviate significantly from actual results (make use of LOOCV or something similar to avoid testing on region you used as part of your training, as it might not deviate much in this case)."
      ]
    },
    {
      "cell_type": "markdown",
      "metadata": {},
      "source": [
        "## Imports"
      ]
    },
    {
      "cell_type": "code",
      "execution_count": 1156,
      "metadata": {},
      "outputs": [],
      "source": [
        "import time\n",
        "import seaborn as sns\n",
        "from collections import Counter\n",
        "from scipy.stats import zscore\n",
        "from sklearn.cluster import KMeans\n",
        "from sklearn.tree import DecisionTreeClassifier, export_text\n",
        "from sklearn.preprocessing import StandardScaler\n",
        "from sklearn.decomposition import PCA\n",
        "from sklearn.ensemble import RandomForestClassifier\n",
        "from sklearn.model_selection import train_test_split\n",
        "from sklearn.metrics import silhouette_score, classification_report, accuracy_score, confusion_matrix"
      ]
    },
    {
      "cell_type": "markdown",
      "metadata": {},
      "source": [
        "## TOREMOVE - Functions"
      ]
    },
    {
      "cell_type": "code",
      "execution_count": 1303,
      "metadata": {},
      "outputs": [],
      "source": [
        "# ACCESS\n",
        "\n",
        "def print_columns(file_path):\n",
        "\n",
        "    with open(file_path, 'r') as csv_file:\n",
        "        reader = csv.reader(csv_file)\n",
        "        first_row = next(reader)\n",
        "    \n",
        "    for i, column_title in enumerate(first_row):\n",
        "        print(f\"Column {i}: {column_title}\")\n",
        "\n",
        "def count_columns(file_path):\n",
        "\n",
        "    with open(file_path, 'r') as csv_file:\n",
        "        reader = csv.reader(csv_file)\n",
        "        first_row = next(reader)\n",
        "        column_count = len(first_row)\n",
        "\n",
        "    return column_count\n",
        "\n",
        "def add_census_feature(table, code, column, name, dir = '.'):\n",
        "    \n",
        "    fynesse.access.download_census_data(code, dir)\n",
        "    file_path = f'{dir}/census2021-{code.lower()}/census2021-{code.lower()}-oa.csv'\n",
        "    census_data_df = pd.read_csv(file_path)\n",
        "    title = census_data_df.columns[column]\n",
        "    print(f\"Original title: {title}\")\n",
        "\n",
        "    # user_input = input(\"Do you want to proceed with adding this feature? (Press Enter to continue or 'q' to quit): \")\n",
        "    # if user_input.lower() == 'q':\n",
        "    #     print(\"Operation cancelled by the user.\")\n",
        "    #     return\n",
        "\n",
        "    query = \"\"\"\n",
        "    CREATE TABLE IF NOT EXISTS `temp` (\n",
        "      `date` int unsigned NOT NULL,\n",
        "      `geography` varchar(9) COLLATE utf8_bin NOT NULL,\n",
        "      `geography_code` varchar(9) COLLATE utf8_bin NOT NULL,\n",
        "    \"\"\"\n",
        "\n",
        "    for i in range(3, count_columns(file_path)):\n",
        "        query += f'  `{i}` int unsigned NOT NULL,'\n",
        "\n",
        "    query += \"\"\"\n",
        "      `db_id` bigint(20) unsigned NOT NULL AUTO_INCREMENT,\n",
        "      PRIMARY KEY (`db_id`)\n",
        "    ) DEFAULT CHARSET=utf8 COLLATE=utf8_bin AUTO_INCREMENT=1;\"\"\"\n",
        "\n",
        "    fynesse.assess.execute_query(conn, query)\n",
        "\n",
        "    fynesse.access.csv_to_db(conn, file_path, 'temp', ignore_first_row=True)\n",
        "\n",
        "    fynesse.assess.create_single_index(conn, 'idx_geography_code', 'temp', 'geography_code')\n",
        "\n",
        "    column_name = f'{code}_{column}_{name}'\n",
        "\n",
        "    query = f\"ALTER TABLE {table} ADD COLUMN {column_name} int unsigned NOT NULL DEFAULT 0;\"\n",
        "\n",
        "    fynesse.assess.execute_query(conn, query)\n",
        "        \n",
        "    query = f\"\"\"\n",
        "    UPDATE {table}\n",
        "    SET {column_name} = (\n",
        "        SELECT temp.{column}\n",
        "        FROM temp\n",
        "        WHERE {table}.OA21CD = temp.geography_code\n",
        "    );\n",
        "    \"\"\"\n",
        "\n",
        "    fynesse.assess.execute_query(conn, query)\n",
        "\n",
        "    fynesse.assess.execute_query(conn, \"DROP TABLE temp;\")\n",
        "\n",
        "    print(f\"Column {column_name} has been added to the table {table} successfully.\")"
      ]
    },
    {
      "cell_type": "code",
      "execution_count": 1304,
      "metadata": {},
      "outputs": [],
      "source": [
        "# ASSESS\n",
        "\n",
        "def add_geography_and_oa_to_pp_data(year, month):\n",
        "    \n",
        "    x = f\"{year}-{month:02}-01\"\n",
        "    y = f\"{year}-{month:02}-31\"\n",
        "\n",
        "    query = f\"\"\"\n",
        "    UPDATE pp_data_with_geography \n",
        "    JOIN postcode_data\n",
        "    ON pp_data_with_geography.postcode = postcode_data.postcode\n",
        "    SET \n",
        "        pp_data_with_geography.easting = postcode_data.easting,\n",
        "        pp_data_with_geography.northing = postcode_data.northing,\n",
        "        pp_data_with_geography.geography = ST_GeomFromText(CONCAT('POINT(', postcode_data.easting, ' ', postcode_data.northing, ')'))\n",
        "    WHERE pp_data_with_geography.date_of_transfer >= '{x}' AND pp_data_with_geography.date_of_transfer <= '{y}';\n",
        "    \"\"\"\n",
        "    \n",
        "    start = time.time()\n",
        "    fynesse.assess.execute_query(conn, query)\n",
        "\n",
        "    query = f\"\"\"\n",
        "    UPDATE pp_data_with_geography\n",
        "    JOIN oa_data\n",
        "    ON ST_Within(pp_data_with_geography.geography, oa_data.geometry)\n",
        "    SET pp_data_with_geography.OA21CD = oa_data.OA21CD\n",
        "    WHERE pp_data_with_geography.date_of_transfer >= '{x}' \n",
        "    AND pp_data_with_geography.date_of_transfer <= '{y}';\n",
        "    \"\"\"\n",
        "    \n",
        "    fynesse.assess.execute_query(conn, query)\n",
        "    end = time.time()\n",
        "    \n",
        "    print(f\"Transactions from {x} to {y} have been processed in {end - start} seconds.\")\n",
        "\n",
        "def get_summary_on_table(conn, table_name):\n",
        "\n",
        "    table_status = fynesse.assess.execute_query(conn, f\"SHOW TABLE STATUS LIKE '{table_name}';\")\n",
        "    approx_row_count = table_status[0][4] if table_status else 'Unable to fetch row count'\n",
        "    print(f\"\\nTable {table_name} - Approx Row Count {approx_row_count//100000/10}M\")\n",
        "\n",
        "    column_names = fynesse.assess.execute_query(conn, f\"SELECT COLUMN_NAME FROM INFORMATION_SCHEMA.COLUMNS WHERE TABLE_NAME = '{table_name}';\")\n",
        "    print(tuple(item[0] for item in column_names))\n",
        "\n",
        "    limit = 3\n",
        "    first_rows = fynesse.assess.execute_query(conn, f\"SELECT * FROM `{table_name}` LIMIT {limit};\")\n",
        "    for row in first_rows:\n",
        "        print(row)\n",
        "\n",
        "    indices = fynesse.assess.execute_query(conn, f\"SHOW INDEX FROM `{table_name}`;\")\n",
        "    if indices:\n",
        "        print(\"Indices:\")\n",
        "        for index in indices:\n",
        "            print(f\" - {index[2]} ({index[10]}): Column {index[4]}\")\n",
        "    else:\n",
        "        print(\"No indices set on this table.\")\n",
        "\n",
        "def db_to_df(table_name, columns, sort_by_column):\n",
        "    \n",
        "    query = f\"SELECT {', '.join(columns)} FROM {table_name} ORDER BY {sort_by_column} ASC\"\n",
        "    r = fynesse.assess.execute_query(conn, query)\n",
        "    df = pd.DataFrame(r, columns=columns)\n",
        "\n",
        "    return df\n",
        "\n",
        "def plot_correlation_between_dataframes(df1, df2):\n",
        "    \n",
        "    correlation_matrix_full = np.zeros((df1.shape[1], df2.shape[1]))\n",
        "    \n",
        "    for i, col1 in enumerate(df1.columns):\n",
        "        for j, col2 in enumerate(df2.columns):\n",
        "            correlation_matrix_full[i, j] = df1[col1].corr(df2[col2])\n",
        "    \n",
        "    correlation_matrix_df = pd.DataFrame(correlation_matrix_full, index=df1.columns, columns=df2.columns)\n",
        "    # correlation_matrix_df = correlation_matrix_df.applymap(lambda x: np.nan if -0.10 < x < 0.10 else x)\n",
        "    \n",
        "    fig, ax = plt.subplots(figsize=(10, 8))\n",
        "    \n",
        "    sns.heatmap(correlation_matrix_df, annot=True, fmt='.2f', cmap='coolwarm', \n",
        "                cbar_kws={'label': 'Correlation'}, ax=ax, linewidths=0.5, linecolor='black', \n",
        "                annot_kws={'size': 10, 'weight': 'bold'})\n",
        "\n",
        "    ax.set_xticklabels(correlation_matrix_df.columns, rotation=45, ha='right', fontsize=10)\n",
        "    ax.set_yticks(np.arange(len(correlation_matrix_df.index)))\n",
        "    ax.set_yticklabels(correlation_matrix_df.index, rotation=0, fontsize=10)\n",
        "        \n",
        "    # ax.set_xticklabels(correlation_matrix_df.columns, rotation=45, ha='right', fontsize=10)\n",
        "    # ax.set_yticklabels(correlation_matrix_df.index, rotation=0, fontsize=10)\n",
        "    \n",
        "    plt.tight_layout()\n",
        "    plt.show()\n",
        "\n",
        "def plot_cluster_matrix(matrix, xlabel, ylabel):\n",
        "\n",
        "    plt.figure(figsize=(8, 6))\n",
        "    plt.imshow(matrix, cmap='coolwarm', interpolation='nearest', aspect='auto')\n",
        "    plt.colorbar(label='Count')\n",
        "    plt.title(\"Cluster Grid (Counts)\")\n",
        "    plt.xlabel(xlabel)\n",
        "    plt.ylabel(ylabel)\n",
        "    plt.xticks(range(len(matrix.columns)), matrix.columns)\n",
        "    plt.yticks(range(len(matrix.index)), matrix.index)\n",
        "    \n",
        "    for i in range(len(matrix.index)):\n",
        "        for j in range(len(matrix.columns)):\n",
        "            plt.text(j, i, f\"{matrix.iloc[i, j]}\", ha='center', va='center', color=\"black\")\n",
        "\n",
        "    plt.tight_layout()\n",
        "    plt.show()\n",
        "\n",
        "def elbow_method(data, max_k=10):\n",
        "    distortions = []\n",
        "    silhouette_scores = []\n",
        "    for k in range(2, max_k + 1):\n",
        "        kmeans = KMeans(n_clusters=k, random_state=42)\n",
        "        kmeans.fit(data)\n",
        "        distortions.append(kmeans.inertia_)\n",
        "        silhouette_scores.append(silhouette_score(data, kmeans.labels_))\n",
        "    \n",
        "    plt.figure(figsize=(12, 6))\n",
        "    \n",
        "    plt.subplot(1, 2, 1)\n",
        "    plt.plot(range(2, max_k + 1), distortions, marker='o')\n",
        "    plt.title(\"Elbow Method (Distortion)\")\n",
        "    plt.xlabel(\"Number of clusters\")\n",
        "    plt.ylabel(\"Distortion\")\n",
        "\n",
        "    plt.subplot(1, 2, 2)\n",
        "    plt.plot(range(2, max_k + 1), silhouette_scores, marker='o')\n",
        "    plt.title(\"Silhouette Score\")\n",
        "    plt.xlabel(\"Number of clusters\")\n",
        "    plt.ylabel(\"Silhouette Score\")\n",
        "    \n",
        "    plt.tight_layout()\n",
        "    plt.show()\n",
        "\n",
        "def print_counts_per_region(table, column):\n",
        "    \n",
        "    n_rows = fynesse.assess.execute_query(conn, f\"SELECT COUNT(*) AS row_count FROM {table};\")[0][0]\n",
        "    print(f\"Total: {n_rows}\")\n",
        "\n",
        "    for letter in ['E', 'W', 'S', 'N']:\n",
        "        \n",
        "        n_rows = fynesse.assess.execute_query(conn, f\"SELECT COUNT(*) AS row_count FROM {table} WHERE {column} LIKE '{letter}%';\")[0][0]\n",
        "        print(f\"{letter}: {n_rows}\")\n",
        "\n",
        "def add_feature_from_oa_to_pc_data(original_table, feature):\n",
        "    \n",
        "    query = f\"\"\"\n",
        "    ALTER TABLE pc_data\n",
        "    ADD COLUMN {feature} bigint DEFAULT 0 NOT NULL;\n",
        "    \"\"\"\n",
        "    fynesse.assess.execute_query(conn, query)\n",
        "\n",
        "    query = f\"\"\"\n",
        "    UPDATE pc_data\n",
        "    JOIN (\n",
        "        SELECT\n",
        "            oa_to_pc.PCON25CD,\n",
        "            SUM({original_table}.{feature}) AS {feature}\n",
        "        FROM\n",
        "            oa_to_pc\n",
        "        JOIN\n",
        "            {original_table} ON oa_to_pc.OA21CD = {original_table}.OA21CD\n",
        "        GROUP BY\n",
        "            oa_to_pc.PCON25CD\n",
        "    ) AS temp\n",
        "    ON pc_data.ONS_ID = temp.PCON25CD\n",
        "    SET pc_data.{feature} = temp.{feature};\n",
        "    \"\"\"\n",
        "    fynesse.assess.execute_query(conn, query)\n",
        "\n",
        "    print(f\"Feature {feature} has been added to pc_data successfully.\")\n",
        "\n",
        "def get_ew_boundary_polygon():\n",
        "    \n",
        "    uk_boundary_coords = [\n",
        "        (-5.75, 50.00),\n",
        "        (-4.45, 51.10),\n",
        "        (-3.10, 51.25),\n",
        "        (-2.75, 51.55),\n",
        "        (-3.35, 51.35),\n",
        "        (-5.35, 51.75),\n",
        "        (-4.15, 52.60),\n",
        "        (-4.60, 53.40),\n",
        "        (-3.15, 53.50),\n",
        "        (-3.75, 54.60),\n",
        "        (-2.00, 55.80),\n",
        "        (-1.60, 55.60),\n",
        "        (-1.15, 54.65),\n",
        "        (-0.50, 54.50),\n",
        "        (0.20, 53.60),\n",
        "        (0.45, 53.00),\n",
        "        (1.30, 53.00),\n",
        "        (1.80, 52.60),\n",
        "        (1.60, 52.00),\n",
        "        (0.80, 51.50),\n",
        "        (1.70, 51.40),\n",
        "        (0.35, 50.50),\n",
        "        (-3.25, 50.60),\n",
        "        (-3.70, 50.20),\n",
        "        (-4.70, 50.30),\n",
        "        (-5.15, 50.00),\n",
        "        (-5.75, 50.00)\n",
        "    ]\n",
        "\n",
        "    return uk_boundary_coords"
      ]
    },
    {
      "cell_type": "code",
      "execution_count": 1308,
      "metadata": {},
      "outputs": [],
      "source": [
        "# ADDRESS\n",
        "\n",
        "def cross_validation(x, y, k=5):\n",
        "    kf = KFold(n_splits=k, shuffle=True, random_state=42)\n",
        "\n",
        "    r2_list = []\n",
        "    rmse_list = []\n",
        "    corr_list = []\n",
        "\n",
        "    for train_index, test_index in kf.split(x):\n",
        "        # using iloc[] to correctly index the rows\n",
        "        x_train, x_test = x.iloc[train_index], x.iloc[test_index]\n",
        "        y_train, y_test = y.iloc[train_index], y.iloc[test_index]\n",
        "        \n",
        "        model = sm.OLS(y_train, x_train)\n",
        "        results = model.fit()\n",
        "        y_pred = results.get_prediction(x_test).summary_frame(alpha=0.00)['mean']\n",
        "        \n",
        "        r2_list.append(r2_score(y_test, y_pred))\n",
        "        rmse_list.append(np.sqrt(mean_squared_error(y_test, y_pred)))\n",
        "        corr_list.append(np.corrcoef(y_test, y_pred)[0, 1])\n",
        "\n",
        "    mean_r2 = np.mean(r2_list)\n",
        "    mean_rmse = np.mean(rmse_list)\n",
        "    mean_corr = np.mean(corr_list)\n",
        "\n",
        "    print(f\"Mean R2: {mean_r2}\")\n",
        "    print(f\"Mean RMSE: {mean_rmse}\")\n",
        "    print(f\"Mean Correlation: {mean_corr}\")"
      ]
    },
    {
      "cell_type": "markdown",
      "metadata": {},
      "source": [
        "## Access"
      ]
    },
    {
      "cell_type": "code",
      "execution_count": 678,
      "metadata": {},
      "outputs": [
        {
          "name": "stdout",
          "output_type": "stream",
          "text": [
            "Connection established!\n"
          ]
        }
      ],
      "source": [
        "conn = fynesse.access.create_connection()"
      ]
    },
    {
      "cell_type": "markdown",
      "metadata": {},
      "source": [
        "### General election data"
      ]
    },
    {
      "cell_type": "code",
      "execution_count": null,
      "metadata": {},
      "outputs": [],
      "source": [
        "url = \"https://researchbriefings.files.parliament.uk/documents/CBP-10009/HoC-GE2024-results-by-constituency.csv\"\n",
        "file_name = \"dataForPart2/GE2024_results.csv\"\n",
        "fynesse.access.download_data_csv([url], [file_name])"
      ]
    },
    {
      "cell_type": "code",
      "execution_count": 609,
      "metadata": {},
      "outputs": [
        {
          "name": "stdout",
          "output_type": "stream",
          "text": [
            "Loading data into the table\n",
            "Data loaded into the table ge_2024_results\n"
          ]
        }
      ],
      "source": [
        "query_create_ge_2024_results = \"\"\"\n",
        "CREATE TABLE IF NOT EXISTS `ge_2024_results` (\n",
        "  `ONS_ID` varchar(9) COLLATE utf8_bin NOT NULL,\n",
        "  `ONS_region_ID` varchar(9) COLLATE utf8_bin NOT NULL,\n",
        "  `Constituency_name` tinytext COLLATE utf8_bin NOT NULL,\n",
        "  `County_name` tinytext COLLATE utf8_bin NOT NULL,\n",
        "  `Region_name` tinytext COLLATE utf8_bin NOT NULL,\n",
        "  `Country_name` tinytext COLLATE utf8_bin NOT NULL,\n",
        "  `Constituency_type` tinytext COLLATE utf8_bin NOT NULL,\n",
        "  `Declaration_time` tinytext COLLATE utf8_bin NOT NULL,\n",
        "  `Member_first_name` tinytext COLLATE utf8_bin NOT NULL,\n",
        "  `Member_surname` tinytext COLLATE utf8_bin NOT NULL,\n",
        "  `Member_gender` tinytext COLLATE utf8_bin NOT NULL,\n",
        "  `Result` tinytext COLLATE utf8_bin NOT NULL,\n",
        "  `First_party` tinytext COLLATE utf8_bin NOT NULL,\n",
        "  `Second_party` tinytext COLLATE utf8_bin NOT NULL,\n",
        "  `Electorate` int unsigned NOT NULL,\n",
        "  `Valid_votes` int unsigned NOT NULL,\n",
        "  `Invalid_votes` int unsigned NOT NULL,\n",
        "  `Majority` int unsigned NOT NULL,\n",
        "  `Con` int unsigned NOT NULL,\n",
        "  `Lab` int unsigned NOT NULL,\n",
        "  `LD` int unsigned NOT NULL,\n",
        "  `RUK` int unsigned NOT NULL,\n",
        "  `Green` int unsigned NOT NULL,\n",
        "  `SNP` int unsigned NOT NULL,\n",
        "  `PC` int unsigned NOT NULL,\n",
        "  `DUP` int unsigned NOT NULL,\n",
        "  `SF` int unsigned NOT NULL,\n",
        "  `SDLP` int unsigned NOT NULL,\n",
        "  `UUP` int unsigned NOT NULL,\n",
        "  `APNI` int unsigned NOT NULL,\n",
        "  `All_other_candidates` int unsigned NOT NULL,\n",
        "  `Of_which_other_winner` int unsigned NOT NULL,\n",
        "  `db_id` bigint(20) unsigned NOT NULL AUTO_INCREMENT,\n",
        "  PRIMARY KEY (`db_id`)\n",
        ") DEFAULT CHARSET=utf8 COLLATE=utf8_bin AUTO_INCREMENT=1;\"\"\"\n",
        "\n",
        "fynesse.assess.execute_query(conn, query_create_ge_2024_results)\n",
        "\n",
        "fynesse.access.csv_to_db(conn, 'dataForPart2/GE2024_results.csv', 'ge_2024_results', ignore_first_row=True)"
      ]
    },
    {
      "cell_type": "code",
      "execution_count": 615,
      "metadata": {},
      "outputs": [
        {
          "data": {
            "text/plain": [
              "[]"
            ]
          },
          "execution_count": 615,
          "metadata": {},
          "output_type": "execute_result"
        }
      ],
      "source": [
        "fynesse.assess.create_single_index(conn, 'idx_ons_id', 'ge_2024_results', 'ONS_ID')\n",
        "fynesse.assess.create_single_index(conn, 'idx_ons_region_id', 'ge_2024_results', 'ONS_region_ID')\n",
        "fynesse.assess.create_single_index(conn, 'idx_result', 'ge_2024_results', 'Result')\n",
        "fynesse.assess.create_single_index(conn, 'idx_first_party', 'ge_2024_results', 'First_party')\n",
        "fynesse.assess.create_single_index(conn, 'idx_second_party', 'ge_2024_results', 'Second_party')"
      ]
    },
    {
      "cell_type": "markdown",
      "metadata": {},
      "source": [
        "### OA to PC lookup data"
      ]
    },
    {
      "cell_type": "code",
      "execution_count": 613,
      "metadata": {},
      "outputs": [
        {
          "name": "stdout",
          "output_type": "stream",
          "text": [
            "Loading data into the table\n",
            "Data loaded into the table oa_to_pc\n"
          ]
        }
      ],
      "source": [
        "query_create_oa_to_pc = \"\"\"\n",
        "CREATE TABLE IF NOT EXISTS `oa_to_pc` (\n",
        "  `OA21CD` varchar(9) COLLATE utf8_bin NOT NULL,\n",
        "  `PCON25CD` varchar(9) COLLATE utf8_bin NOT NULL,\n",
        "  `PCON25NM` tinytext COLLATE utf8_bin NOT NULL,\n",
        "  `PCON25NMW` tinytext COLLATE utf8_bin NOT NULL,\n",
        "  `LAD21CD` varchar(9) COLLATE utf8_bin NOT NULL,\n",
        "  `LAD21NM` tinytext COLLATE utf8_bin NOT NULL,\n",
        "  `ObjectId` int unsigned NOT NULL,\n",
        "  `db_id` bigint(20) unsigned NOT NULL AUTO_INCREMENT,\n",
        "  PRIMARY KEY (`db_id`)\n",
        ") DEFAULT CHARSET=utf8 COLLATE=utf8_bin AUTO_INCREMENT=1;\"\"\"\n",
        "\n",
        "fynesse.assess.execute_query(conn, query_create_oa_to_pc)\n",
        "\n",
        "fynesse.access.csv_to_db(conn, 'dataForPart2/Output_area_(2021)_to_future_Parliamentary_Constituencies_Lookup_in_England_and_Wales.csv', 'oa_to_pc', ignore_first_row=True)"
      ]
    },
    {
      "cell_type": "code",
      "execution_count": 617,
      "metadata": {},
      "outputs": [
        {
          "data": {
            "text/plain": [
              "[]"
            ]
          },
          "execution_count": 617,
          "metadata": {},
          "output_type": "execute_result"
        }
      ],
      "source": [
        "fynesse.assess.create_single_index(conn, 'idx_oa21cd', 'oa_to_pc', 'OA21CD')\n",
        "fynesse.assess.create_single_index(conn, 'idx_pcon25cd', 'oa_to_pc', 'PCON25CD')\n",
        "fynesse.assess.create_single_index(conn, 'idx_lad21cd', 'oa_to_pc', 'LAD21CD')"
      ]
    },
    {
      "cell_type": "markdown",
      "metadata": {},
      "source": [
        "### Census and OSM data"
      ]
    },
    {
      "cell_type": "code",
      "execution_count": 758,
      "metadata": {},
      "outputs": [
        {
          "data": {
            "text/plain": [
              "[]"
            ]
          },
          "execution_count": 758,
          "metadata": {},
          "output_type": "execute_result"
        }
      ],
      "source": [
        "query = \"\"\"\n",
        "CREATE TABLE osm_and_census_data_2 AS\n",
        "SELECT \n",
        "    date, geography_code AS OA21CD, db_id, \n",
        "    amenity, tourism, leisure, cuisine, emergency, historic, sport, shop, religion, power, military, house, building\n",
        "FROM census_data_1;\n",
        "\"\"\"\n",
        "fynesse.assess.execute_query(conn, query)\n",
        "\n",
        "fynesse.assess.execute_query(conn, \"ALTER TABLE osm_and_census_data_2 ADD PRIMARY KEY (OA21CD);\")"
      ]
    },
    {
      "cell_type": "code",
      "execution_count": 787,
      "metadata": {},
      "outputs": [],
      "source": [
        "code_column_name = [\n",
        "    ('TS007A', 8, 'Age_20_24'), \n",
        "    ('TS007A', 11, 'Age_35_39'), \n",
        "    ('TS007A', 14, 'Age_50_54'), \n",
        "    ('TS007A', 17, 'Age_65_69'),\n",
        "    ('TS021', 4, 'Ethnic_Asian'),\n",
        "    ('TS021', 10, 'Ethnic_Black'),\n",
        "    ('TS021', 19, 'Ethnic_White'),\n",
        "    ('TS054', 4, 'Tenure_Own'), \n",
        "    ('TS054', 7, 'Tenure_ShareOwn'), \n",
        "    ('TS054', 9, 'Tenure_SocRent'), \n",
        "    ('TS054', 12, 'Tenure_PrivRent'),\n",
        "    ('TS066', 4, 'Economic_Act'), \n",
        "    ('TS066', 16, 'Economic_ActStudent'), \n",
        "    ('TS066', 28, 'Economic_Inact'),\n",
        "    ('TS067', 4, 'Qualification_No'), \n",
        "    ('TS067', 5, 'Qualification_L1'), \n",
        "    ('TS067', 6, 'Qualification_L2'),\n",
        "    ('TS004', 4, 'Birth_Europe'), \n",
        "    ('TS004', 5, 'Birth_UK'), \n",
        "    ('TS004', 13, 'Birth_Africa'), \n",
        "    ('TS004', 14, 'Birth_MEandAsia'),\n",
        "    ('TS037', 4, 'Health_VeryGood'), \n",
        "    ('TS037', 6, 'Health_Fair'), \n",
        "    ('TS037', 8, 'Health_VeryBad')\n",
        "]"
      ]
    },
    {
      "cell_type": "code",
      "execution_count": null,
      "metadata": {},
      "outputs": [],
      "source": [
        "codes = list(set(triple[0] for triple in code_column_name))\n",
        "codes.sort()\n",
        "\n",
        "for code in codes:\n",
        "    file_path = f'dataForPart2/census2021-{code.lower()}/census2021-{code.lower()}-oa.csv'\n",
        "    print(f\"Code: {code}\")\n",
        "    print_columns(file_path)\n",
        "    print()"
      ]
    },
    {
      "cell_type": "code",
      "execution_count": 798,
      "metadata": {},
      "outputs": [
        {
          "name": "stdout",
          "output_type": "stream",
          "text": [
            "Files already exist at: dataForPart2/census2021-ts007a.\n",
            "Original title: Age: Aged 20 to 24 years\n",
            "Loading data into the table\n",
            "Data loaded into the table temp\n",
            "Column TS007A_8_Age_20_24 has been added to the table osm_and_census_data_2 successfully.\n",
            "Files already exist at: dataForPart2/census2021-ts007a.\n",
            "Original title: Age: Aged 35 to 39 years\n",
            "Loading data into the table\n",
            "Data loaded into the table temp\n",
            "Column TS007A_11_Age_35_39 has been added to the table osm_and_census_data_2 successfully.\n",
            "Files already exist at: dataForPart2/census2021-ts007a.\n",
            "Original title: Age: Aged 50 to 54 years\n",
            "Loading data into the table\n",
            "Data loaded into the table temp\n",
            "Column TS007A_14_Age_50_54 has been added to the table osm_and_census_data_2 successfully.\n",
            "Files already exist at: dataForPart2/census2021-ts007a.\n",
            "Original title: Age: Aged 65 to 69 years\n",
            "Loading data into the table\n",
            "Data loaded into the table temp\n",
            "Column TS007A_17_Age_65_69 has been added to the table osm_and_census_data_2 successfully.\n",
            "Files already exist at: dataForPart2/census2021-ts021.\n",
            "Original title: Ethnic group: Asian, Asian British or Asian Welsh\n",
            "Loading data into the table\n",
            "Data loaded into the table temp\n",
            "Column TS021_4_Ethnic_Asian has been added to the table osm_and_census_data_2 successfully.\n",
            "Files already exist at: dataForPart2/census2021-ts021.\n",
            "Original title: Ethnic group: Black, Black British, Black Welsh, Caribbean or African\n",
            "Loading data into the table\n",
            "Data loaded into the table temp\n",
            "Column TS021_10_Ethnic_Black has been added to the table osm_and_census_data_2 successfully.\n",
            "Files already exist at: dataForPart2/census2021-ts021.\n",
            "Original title: Ethnic group: White\n",
            "Loading data into the table\n",
            "Data loaded into the table temp\n",
            "Column TS021_19_Ethnic_White has been added to the table osm_and_census_data_2 successfully.\n",
            "Files already exist at: dataForPart2/census2021-ts054.\n",
            "Original title: Tenure of household: Owned\n",
            "Loading data into the table\n",
            "Data loaded into the table temp\n",
            "Column TS054_4_Tenure_Own has been added to the table osm_and_census_data_2 successfully.\n",
            "Files already exist at: dataForPart2/census2021-ts054.\n",
            "Original title: Tenure of household: Shared ownership\n",
            "Loading data into the table\n",
            "Data loaded into the table temp\n",
            "Column TS054_7_Tenure_ShareOwn has been added to the table osm_and_census_data_2 successfully.\n",
            "Files already exist at: dataForPart2/census2021-ts054.\n",
            "Original title: Tenure of household: Social rented\n",
            "Loading data into the table\n",
            "Data loaded into the table temp\n",
            "Column TS054_9_Tenure_SocRent has been added to the table osm_and_census_data_2 successfully.\n",
            "Files already exist at: dataForPart2/census2021-ts054.\n",
            "Original title: Tenure of household: Private rented\n",
            "Loading data into the table\n",
            "Data loaded into the table temp\n",
            "Column TS054_12_Tenure_PrivRent has been added to the table osm_and_census_data_2 successfully.\n",
            "Files already exist at: dataForPart2/census2021-ts066.\n",
            "Original title: Economic activity status: Economically active (excluding full-time students)\n",
            "Loading data into the table\n",
            "Data loaded into the table temp\n",
            "Column TS066_4_Economic_Act has been added to the table osm_and_census_data_2 successfully.\n",
            "Files already exist at: dataForPart2/census2021-ts066.\n",
            "Original title: Economic activity status: Economically active and a full-time student\n",
            "Loading data into the table\n",
            "Data loaded into the table temp\n",
            "Column TS066_16_Economic_ActStudent has been added to the table osm_and_census_data_2 successfully.\n",
            "Files already exist at: dataForPart2/census2021-ts066.\n",
            "Original title: Economic activity status: Economically inactive\n",
            "Loading data into the table\n",
            "Data loaded into the table temp\n",
            "Column TS066_28_Economic_Inact has been added to the table osm_and_census_data_2 successfully.\n",
            "Files already exist at: dataForPart2/census2021-ts067.\n",
            "Original title: Highest level of qualification: No qualifications\n",
            "Loading data into the table\n",
            "Data loaded into the table temp\n",
            "Column TS067_4_Qualification_No has been added to the table osm_and_census_data_2 successfully.\n",
            "Files already exist at: dataForPart2/census2021-ts067.\n",
            "Original title: Highest level of qualification: Level 1 and entry level qualifications\n",
            "Loading data into the table\n",
            "Data loaded into the table temp\n",
            "Column TS067_5_Qualification_L1 has been added to the table osm_and_census_data_2 successfully.\n",
            "Files already exist at: dataForPart2/census2021-ts067.\n",
            "Original title: Highest level of qualification: Level 2 qualifications\n",
            "Loading data into the table\n",
            "Data loaded into the table temp\n",
            "Column TS067_6_Qualification_L2 has been added to the table osm_and_census_data_2 successfully.\n",
            "Files already exist at: dataForPart2/census2021-ts004.\n",
            "Original title: Country of birth: Europe; measures: Value\n",
            "Loading data into the table\n",
            "Data loaded into the table temp\n",
            "Column TS004_4_Birth_Europe has been added to the table osm_and_census_data_2 successfully.\n",
            "Files already exist at: dataForPart2/census2021-ts004.\n",
            "Original title: Country of birth: Europe: United Kingdom; measures: Value\n",
            "Loading data into the table\n",
            "Data loaded into the table temp\n",
            "Column TS004_5_Birth_UK has been added to the table osm_and_census_data_2 successfully.\n",
            "Files already exist at: dataForPart2/census2021-ts004.\n",
            "Original title: Country of birth: Africa; measures: Value\n",
            "Loading data into the table\n",
            "Data loaded into the table temp\n",
            "Column TS004_13_Birth_Africa has been added to the table osm_and_census_data_2 successfully.\n",
            "Files already exist at: dataForPart2/census2021-ts004.\n",
            "Original title: Country of birth: Middle East and Asia; measures: Value\n",
            "Loading data into the table\n",
            "Data loaded into the table temp\n",
            "Column TS004_14_Birth_MEandAsia has been added to the table osm_and_census_data_2 successfully.\n",
            "Files already exist at: dataForPart2/census2021-ts037.\n",
            "Original title: General health: Very good health\n",
            "Loading data into the table\n",
            "Data loaded into the table temp\n",
            "Column TS037_4_Health_VeryGood has been added to the table osm_and_census_data_2 successfully.\n",
            "Files already exist at: dataForPart2/census2021-ts037.\n",
            "Original title: General health: Fair health\n",
            "Loading data into the table\n",
            "Data loaded into the table temp\n",
            "Column TS037_6_Health_Fair has been added to the table osm_and_census_data_2 successfully.\n",
            "Files already exist at: dataForPart2/census2021-ts037.\n",
            "Original title: General health: Very bad health\n",
            "Loading data into the table\n",
            "Data loaded into the table temp\n",
            "Column TS037_8_Health_VeryBad has been added to the table osm_and_census_data_2 successfully.\n"
          ]
        }
      ],
      "source": [
        "for element in code_column_name:\n",
        "    code, column, name = element\n",
        "    add_census_feature('osm_and_census_data_2', code, column, name, 'dataForPart2')"
      ]
    },
    {
      "cell_type": "code",
      "execution_count": 799,
      "metadata": {},
      "outputs": [
        {
          "data": {
            "text/plain": [
              "[]"
            ]
          },
          "execution_count": 799,
          "metadata": {},
          "output_type": "execute_result"
        }
      ],
      "source": [
        "fynesse.assess.create_single_index(conn, 'idx_oa', 'osm_and_census_data_2', 'OA21CD')"
      ]
    },
    {
      "cell_type": "markdown",
      "metadata": {},
      "source": [
        "### Summary on access"
      ]
    },
    {
      "cell_type": "code",
      "execution_count": null,
      "metadata": {},
      "outputs": [],
      "source": [
        "fynesse.assess.get_summary_on_db(conn)"
      ]
    },
    {
      "cell_type": "code",
      "execution_count": null,
      "metadata": {},
      "outputs": [],
      "source": [
        "\"\"\"\n",
        "\n",
        "Table census_data_1 - Approx Row Count 0.1M\n",
        "('date', 'geography', 'geography_code', 'NSSEC_Total', 'NSSEC_L1_L2_L3', 'NSSEC_L4_L5_L6', 'NSSEC_L7', 'NSSEC_L8_L9', 'NSSEC_L10_L11', 'NSSEC_L12', 'NSSEC_L13', 'NSSEC_L14', 'NSSEC_L15', 'db_id', 'MI_Total', 'MI_AddrYearAgoSameInUK', 'MI_AddrYearAgoStudentInUK', 'MI_AddrYearAgoInUK', 'MI_AddrYearAgoOutUK', 'amenity_nearby', 'tourism_nearby', 'leisure_nearby', 'cuisine_nearby', 'emergency_nearby', 'historic_nearby', 'sport_nearby', 'shop_nearby', 'religion_nearby', 'power_nearby', 'military_nearby', 'house_nearby', 'building_nearby', 'amenity', 'tourism', 'leisure', 'cuisine', 'emergency', 'historic', 'sport', 'shop', 'religion', 'power', 'military', 'house', 'building', 'NSSEC_L15_Norm', 'MI_AddrYearAgoOutUK_Norm')\n",
        "(2021, 'E00000001', 'E00000001', 159, 80, 38, 13, 9, 3, 5, 5, 4, 2, 1, 175, 154, 0, 9, 12, 229, 26, 6, 73, 0, 3, 3, 45, 19, 1, 0, 8, 653, 0, 0, 0, 0, 0, 0, 0, 0, 0, 0, 0, 0, 0, 0.012578616, 0.068571428)\n",
        "(2021, 'E00000003', 'E00000003', 222, 96, 58, 8, 26, 2, 5, 2, 5, 20, 2, 252, 228, 6, 13, 5, 212, 23, 6, 67, 0, 4, 3, 40, 18, 1, 0, 8, 617, 0, 0, 0, 0, 0, 0, 0, 0, 0, 0, 0, 0, 0, 0.09009009, 0.019841269)\n",
        "(2021, 'E00000005', 'E00000005', 103, 37, 28, 8, 21, 0, 3, 1, 1, 4, 3, 113, 99, 0, 12, 2, 217, 24, 6, 68, 0, 4, 3, 41, 21, 1, 0, 8, 623, 1, 0, 0, 1, 0, 0, 0, 0, 0, 0, 0, 0, 1, 0.038834951, 0.017699115)\n",
        "Indices:\n",
        " - idx_geography (BTREE): Column geography\n",
        " - idx_geography_code (BTREE): Column geography_code\n",
        "\n",
        "Table ge_2024_results - Approx Row Count 0.0M\n",
        "('ONS_ID', 'ONS_region_ID', 'Constituency_name', 'County_name', 'Region_name', 'Country_name', 'Constituency_type', 'Declaration_time', 'Member_first_name', 'Member_surname', 'Member_gender', 'Result', 'First_party', 'Second_party', 'Electorate', 'Valid_votes', 'Invalid_votes', 'Majority', 'Con', 'Lab', 'LD', 'RUK', 'Green', 'SNP', 'PC', 'DUP', 'SF', 'SDLP', 'UUP', 'APNI', 'All_other_candidates', 'Of_which_other_winner', 'db_id')\n",
        "('W07000081', 'W92000004', 'Aberafan Maesteg', '', 'Wales', 'Wales', 'County', '', 'Stephen', 'Kinnock', 'Male', 'Lab hold', 'Lab', 'RUK', 72580, 35755, 79, 10354, 2903, 17838, 916, 7484, 1094, 0, 4719, 0, 0, 0, 0, 0, 801, 0, 1)\n",
        "('E14001063', 'E12000008', 'Aldershot', '', 'South East', 'England', 'Borough', '', 'Alex', 'Baker', 'Female', 'Lab gain from Con', 'Lab', 'Con', 78553, 48544, 179, 5683, 14081, 19764, 4052, 8210, 2155, 0, 0, 0, 0, 0, 0, 0, 282, 0, 6)\n",
        "('E14001064', 'E12000005', 'Aldridge-Brownhills', '', 'West Midlands', 'England', 'Borough', '', 'Wendy', 'Morton', 'Female', 'Con hold', 'Con', 'Lab', 70268, 40912, 156, 4294, 15901, 11607, 1755, 9903, 1746, 0, 0, 0, 0, 0, 0, 0, 0, 0, 7)\n",
        "Indices:\n",
        " - PRIMARY (BTREE): Column db_id\n",
        " - idx_ons_id (BTREE): Column ONS_ID\n",
        " - idx_ons_region_id (BTREE): Column ONS_region_ID\n",
        " - idx_result (BTREE): Column Result\n",
        " - idx_first_party (BTREE): Column First_party\n",
        " - idx_second_party (BTREE): Column Second_party\n",
        "\n",
        "Table oa_data - Approx Row Count 0.1M\n",
        "('FID', 'OA21CD', 'LSOA21CD', 'LSOA21NM', 'LSOA21NMW', 'BNG_E', 'BNG_N', 'LAT', 'LON', 'ShapeArea', 'ShapeLength', 'GlobalID', 'db_id', 'geometry_string_ne', 'geometry')\n",
        "(1, 'E00000001', 'E01000001', 'City of London 001A', ' ', 532250, 181864, 51.5202, -0.09523, 6949.15, 421.166, '3a44dd3d-5082-4a09-9b9c-3a5fadc811ed\\r', 1, 'POLYGON ((532303.4919999996 181814.1099999994, 532213.3779999996 181846.1919999998, 532194.8990000002 181874.26300000027, 532162.9718000004 181864.00879999995, 532162.4910000004 181867.76300000027, 532248.3943999996 181895.3501999993, 532282.6299999999 181906.49599999934, 532308.875 181914.79700000025, 532303.4919999996 181814.1099999994))', b'\\x00\\x00\\x00\\x00\\x01\\x03\\x00\\x00\\x00\\x01\\x00\\x00\\x00\\t\\x00\\x00\\x00\\x88l\\xe7\\xfb\\x9e> A\\x00\\xaeG\\xe1\\xb01\\x06AH7\\x89\\xc1\\xea= A\\xc0K7\\x89\\xb12\\x06A`\\xbaI\\xcc\\xc5= A\\x80\\xbe\\x9f\\x1a\\x923\\x06A\\x08\\xc5\\x8f\\xf1\\x85= A\\x00\\xbc\\x05\\x12@3\\x06A Zd\\xfb\\x84= A\\x80\\xbe\\x9f\\x1a^3\\x06A\\xf8\\xcb\\xee\\xc90> A@\\xa85\\xcd:4\\x06A(\\\\\\x8fBu> A\\x00\\xd9\\xce\\xf7\\x934\\x06A\\x00\\x00\\x00\\xc0\\xa9> A@\\x89A`\\xd64\\x06A\\x88l\\xe7\\xfb\\x9e> A\\x00\\xaeG\\xe1\\xb01\\x06A')\n",
        "(2, 'E00000003', 'E01000001', 'City of London 001A', ' ', 532171, 181819, 51.5198, -0.09638, 4492.41, 307.715, 'f1216dc8-14d1-4857-9230-cab0641758fb\\r', 2, 'POLYGON ((532213.3779999996 181846.1919999998, 532190.5392000005 181796.06120000035, 532180.131 181763.01999999955, 532155.909 181805.6799999997, 532127.2989999996 181800.62399999984, 532162.9718000004 181864.00879999995, 532194.8990000002 181874.26300000027, 532213.3779999996 181846.1919999998))', b'\\x00\\x00\\x00\\x00\\x01\\x03\\x00\\x00\\x00\\x01\\x00\\x00\\x00\\x08\\x00\\x00\\x00H7\\x89\\xc1\\xea= A\\xc0K7\\x89\\xb12\\x06A\\xc0\\x05\\x12\\x14\\xbd= A\\x00mV} 1\\x06A\\x98n\\x12C\\xa8= A\\x80\\xc2\\xf5(\\x180\\x06A\\xb0rh\\xd1w= A\\x00\\xd7\\xa3pm1\\x06A(\\x87\\x16\\x99>= A@\\xb6\\xf3\\xfdD1\\x06A\\x08\\xc5\\x8f\\xf1\\x85= A\\x00\\xbc\\x05\\x12@3\\x06A`\\xbaI\\xcc\\xc5= A\\x80\\xbe\\x9f\\x1a\\x923\\x06AH7\\x89\\xc1\\xea= A\\xc0K7\\x89\\xb12\\x06A')\n",
        "(3, 'E00000005', 'E01000001', 'City of London 001A', ' ', 532166, 181722, 51.519, -0.09649, 8565.51, 385.205, '44d6f70f-549c-4288-9b6d-de2adbf02582\\r', 3, 'POLYGON ((532180.131 181763.01999999955, 532219.1610000003 181703.9389999993, 532201.2920000004 181668.1799999997, 532124.3210000005 181682.67500000075, 532127.2989999996 181800.62399999984, 532155.909 181805.6799999997, 532180.131 181763.01999999955))', b'\\x00\\x00\\x00\\x00\\x01\\x03\\x00\\x00\\x00\\x01\\x00\\x00\\x00\\x07\\x00\\x00\\x00\\x98n\\x12C\\xa8= A\\x80\\xc2\\xf5(\\x180\\x06A\\x90\\x97nR\\xf6= A\\x80n\\x12\\x83?.\\x06A(\\x06\\x81\\x95\\xd2= A\\x00\\xd7\\xa3p!-\\x06A\\xb0\\x1cZ\\xa48= A\\x80fff\\x95-\\x06A(\\x87\\x16\\x99>= A@\\xb6\\xf3\\xfdD1\\x06A\\xb0rh\\xd1w= A\\x00\\xd7\\xa3pm1\\x06A\\x98n\\x12C\\xa8= A\\x80\\xc2\\xf5(\\x180\\x06A')\n",
        "Indices:\n",
        " - PRIMARY (BTREE): Column FID\n",
        " - idx_oa (BTREE): Column OA21CD\n",
        " - idx_lsoa (BTREE): Column LSOA21CD\n",
        " - idx_lat_lon_btree (BTREE): Column LAT\n",
        " - idx_lat_lon_btree (BTREE): Column LON\n",
        " - geometry (SPATIAL): Column geometry\n",
        "\n",
        "Table oa_to_pc - Approx Row Count 0.1M\n",
        "('OA21CD', 'PCON25CD', 'PCON25NM', 'PCON25NMW', 'LAD21CD', 'LAD21NM', 'ObjectId', 'db_id')\n",
        "('E00000337', 'E14001073', 'Barking', '', 'E09000002', 'Barking and Dagenham', 1, 1)\n",
        "('E00000338', 'E14001073', 'Barking', '', 'E09000002', 'Barking and Dagenham', 2, 2)\n",
        "('E00000340', 'E14001073', 'Barking', '', 'E09000002', 'Barking and Dagenham', 3, 3)\n",
        "Indices:\n",
        " - PRIMARY (BTREE): Column db_id\n",
        " - idx_oa21cd (BTREE): Column OA21CD\n",
        " - idx_pcon25cd (BTREE): Column PCON25CD\n",
        " - idx_lad21cd (BTREE): Column LAD21CD\n",
        "\n",
        "Table osm_and_census_data_2 - Approx Row Count 0.1M\n",
        "('date', 'OA21CD', 'db_id', 'amenity', 'tourism', 'leisure', 'cuisine', 'emergency', 'historic', 'sport', 'shop', 'religion', 'power', 'military', 'house', 'building', 'TS007A_8_Age_20_24', 'TS007A_11_Age_35_39', 'TS007A_14_Age_50_54', 'TS007A_17_Age_65_69', 'TS021_4_Ethnic_Asian', 'TS021_10_Ethnic_Black', 'TS021_19_Ethnic_White', 'TS054_4_Tenure_Own', 'TS054_7_Tenure_ShareOwn', 'TS054_9_Tenure_SocRent', 'TS054_12_Tenure_PrivRent', 'TS066_4_Economic_Act', 'TS066_16_Economic_ActStudent', 'TS066_28_Economic_Inact', 'TS067_4_Qualification_No', 'TS067_5_Qualification_L1', 'TS067_6_Qualification_L2', 'TS004_4_Birth_Europe', 'TS004_5_Birth_UK', 'TS004_13_Birth_Africa', 'TS004_14_Birth_MEandAsia', 'TS037_4_Health_VeryGood', 'TS037_6_Health_Fair', 'TS037_8_Health_VeryBad')\n",
        "(2021, 'E00000001', 1, 0, 0, 0, 0, 0, 0, 0, 0, 0, 0, 0, 0, 0, 3, 4, 15, 24, 5, 3, 155, 72, 0, 7, 15, 98, 0, 63, 4, 7, 10, 149, 118, 0, 6, 98, 26, 0)\n",
        "(2021, 'E00000003', 2, 0, 0, 0, 0, 0, 0, 0, 0, 0, 0, 0, 0, 0, 12, 13, 20, 35, 24, 5, 209, 91, 0, 2, 17, 139, 1, 83, 5, 3, 8, 207, 184, 7, 18, 146, 15, 2)\n",
        "(2021, 'E00000005', 3, 1, 0, 0, 1, 0, 0, 0, 0, 0, 0, 0, 0, 1, 7, 5, 8, 12, 13, 0, 85, 40, 0, 2, 21, 68, 1, 36, 3, 2, 3, 88, 73, 2, 11, 62, 8, 0)\n",
        "Indices:\n",
        " - PRIMARY (BTREE): Column OA21CD\n",
        " - idx_oa (BTREE): Column OA21CD\n",
        "\n",
        "Table osm_data - Approx Row Count 2.3M\n",
        "('element_type', 'osmid', 'geometry_string_ll', 'ways', 'nodes', 'type', 'addr_country', 'addr_postcode', 'addr_street', 'addr_housenumber', 'addr_city', 'addr_housename', 'addr_place', 'name', 'alt_name', 'old_name', 'nohousenumber', 'note', 'disused', 'height', 'amenity', 'tourism', 'brand', 'leisure', 'cuisine', 'emergency', 'historic', 'sport', 'shop', 'religion', 'power', 'military', 'house', 'building', 'building_material', 'building_levels', 'internet_access', 'capacity', 'roof_levels', 'roof_shapefee', 'man_made', 'denomination', 'layer', 'db_id', 'geometry_string_ne', 'geometry', 'OA21CD')\n",
        "('way', 72499117, 'POLYGON ((-6.3134352 49.9146669, -6.3134663 49.9147353, -6.3134061 49.9147467, -6.3134095 49.9147542, -6.3131503 49.9148031, -6.3131469 49.9147957, -6.3130936 49.9148057, -6.3130624 49.9147373, -6.3134352 49.9146669))', '', '[860681919, 860681920, 9169387085, 9169387084, 9169387083, 9169387086, 860681921, 860681922, 860681919]', '', '', 'TR21 0JT', 'Church Street', '', 'Hugh Town', '', '', 'Isles of Scilly Museum', '', '', '', '', '', '', '', 'museum', '', '', '', '', '', '', '', '', '', '', '', 'yes', '', '', '', '', '', '', '', '', '', 1, 'POLYGON ((90458.76146576129 10530.59510146096, 90456.96838425193 10538.325346537269, 90461.36151221936 10539.34294224321, 90461.1656261129 10540.190514922826, 90480.0796803821 10544.551471966843, 90480.27621043124 10543.71501331353, 90484.16519925534 10544.605615865905, 90485.96549134556 10536.874967216398, 90458.76146576129 10530.59510146096))', b\"\\x00\\x00\\x00\\x00\\x01\\x03\\x00\\x00\\x00\\x01\\x00\\x00\\x00\\t\\x00\\x00\\x00\\xdc\\xb8\\xf6.\\xac\\x15\\xf6@P\\xe0H,L\\x91\\xc4@@|\\x80~\\x8f\\x15\\xf6@\\xb8\\x90\\xf4\\xa4)\\x95\\xc4@t\\t\\xc1\\xc8\\xd5\\x15\\xf6@\\x80\\x0b\\x88\\xe5\\xab\\x95\\xc4@$\\x91g\\xa6\\xd2\\x15\\xf6@x\\x01\\xcbb\\x18\\x96\\xc4@\\xb4\\xef^F\\x01\\x17\\xf6@ '\\xa2\\x96F\\x98\\xc4@\\x10\\xa1[k\\x04\\x17\\xf6@\\xe8f\\x8e\\x85\\xdb\\x97\\xc4@p\\xf9\\xa7\\xa4B\\x17\\xf6@\\x00\\x19\\xd2\\x84M\\x98\\xc4@\\x9c\\r\\xa7r_\\x17\\xf6@\\xc0\\xfd\\xec\\xfeo\\x94\\xc4@\\xdc\\xb8\\xf6.\\xac\\x15\\xf6@P\\xe0H,L\\x91\\xc4@\", 'E00096405')\n",
        "('way', 112445611, 'POLYGON ((-6.3084596 49.9166407, -6.308579 49.916719, -6.3085171 49.9167581, -6.3084892 49.9167398, -6.3085024 49.9167315, -6.3084109 49.9166715, -6.3084596 49.9166407))', '', '[9170680719, 1277992838, 9170680715, 9170680714, 9170680716, 1277992862, 9170680719]', '', '', 'TR21 0JY', '', '', 'Portmellon', '', '', 'The Sailing Centre', '', '', '', '', '', '', '', '', '', 'boathouse', '', '', '', 'sailing', '', '', '', '', '', 'yes', '', '', '', '', '', '', '', '', '', 2, 'POLYGON ((90828.4609464347 10729.354209220925, 90820.39463746297 10738.549788717108, 90825.08695750969 10742.639007787584, 90826.97177186015 10740.489873598155, 90825.97139167401 10739.62207760218, 90832.15288637078 10732.575638220165, 90828.4609464347 10729.354209220925))', b'\\x00\\x00\\x00\\x00\\x01\\x03\\x00\\x00\\x00\\x01\\x00\\x00\\x00\\x07\\x00\\x00\\x00d^\\t`\\xc7,\\xf6@\\xe8M\\xbaV\\xad\\xf4\\xc4@T_oPF,\\xf6@\\xd8\\x07z_F\\xf9\\xc4@\\xc4\\x8e-d\\x91,\\xf6@\\xc8\\xd6\\x01\\xcbQ\\xfb\\xc4@h\\xa6`\\x8c\\xaf,\\xf6@\\xa0\\x95-\\xb4>\\xfa\\xc4@\\xf8\\xfe\\xd1\\x8a\\x9f,\\xf6@x&=\\xa0\\xcf\\xf9\\xc4@\\xa8\\xfa8r\\x02-\\xf6@\\xf8`\\x83\\xaeI\\xf6\\xc4@d^\\t`\\xc7,\\xf6@\\xe8M\\xbaV\\xad\\xf4\\xc4@', 'E00096404')\n",
        "('way', 112445629, 'POLYGON ((-6.3087257 49.9166066, -6.3085551 49.916498, -6.3086358 49.9164671, -6.3087896 49.9165649, -6.3087257 49.9166066))', '', '[1277992753, 9170680721, 1277992733, 1277992688, 1277992753]', '', '', 'TR21 0JY', '', '', 'Portmellon', '', '', 'The Beach', '', '', '', '', '', '', 'restaurant', '', '', '', '', '', '', '', '', '', '', '', '', 'yes', '', '', '', '', '', '', '', '', '', 3, 'POLYGON ((90809.14760272152 10726.665366668487, 90820.69383186748 10713.890660483463, 90814.70495984284 10710.790500333693, 90804.2950828856 10722.295490033372, 90809.14760272152 10726.665366668487))', b'\\x00\\x00\\x00\\x00\\x01\\x03\\x00\\x00\\x00\\x01\\x00\\x00\\x00\\x05\\x00\\x00\\x00\\xdc\\xab\\x94\\\\\\x92+\\xf6@\\x80(\\xbc*U\\xf3\\xc4@\\xbcq\\xef\\x19K,\\xf6@(\\xa8)\\x01\\xf2\\xec\\xc4@\\xe0\\xf8\\x83G\\xeb+\\xf6@Xl\\x1d/e\\xeb\\xc4@\\xf4\\xd4\\xa8\\xb8D+\\xf6@\\xd0\\x0e\\x9e\\xd2%\\xf1\\xc4@\\xdc\\xab\\x94\\\\\\x92+\\xf6@\\x80(\\xbc*U\\xf3\\xc4@', 'E00096404')\n",
        "Indices:\n",
        " - idx_postcode (BTREE): Column addr_postcode\n",
        " - idx_db_id (BTREE): Column db_id\n",
        " - geometry (SPATIAL): Column geometry\n",
        " - idx_oa (BTREE): Column OA21CD\n",
        "\n",
        "Table osm_data_sample - Approx Row Count 0.0M\n",
        "('element_type', 'osmid', 'geometry_string_ll', 'ways', 'nodes', 'type', 'addr_country', 'addr_postcode', 'addr_street', 'addr_housenumber', 'addr_city', 'addr_housename', 'addr_place', 'name', 'alt_name', 'old_name', 'nohousenumber', 'note', 'disused', 'height', 'amenity', 'tourism', 'brand', 'leisure', 'cuisine', 'emergency', 'historic', 'sport', 'shop', 'religion', 'power', 'military', 'house', 'building', 'building_material', 'building_levels', 'internet_access', 'capacity', 'roof_levels', 'roof_shapefee', 'man_made', 'denomination', 'layer', 'db_id', 'geometry_string_ne', 'geometry', 'OA21CD')\n",
        "('relation', 1576004, 'POLYGON ((-5.3588132 50.137841, -5.3588119 50.1379062, -5.3588302 50.1379064, -5.3588303 50.137916, -5.3588298 50.1379271, -5.3591748 50.1379298, -5.3591737 50.1379875, -5.359063 50.1379867, -5.3588525 50.137985, -5.3587354 50.1379841, -5.3587345 50.1380317, -5.3582376 50.1380279, -5.3582395 50.1379277, -5.3582623 50.1379278, -5.3582655 50.1377577, -5.3583753 50.1377585, -5.3583746 50.137798, -5.3584518 50.1377986, -5.3586827 50.1378004, -5.358682 50.13784, -5.3587528 50.137841, -5.3588132 50.137841), (-5.3586324 50.1378861, -5.3586326 50.1378722, -5.3584124 50.1378714, -5.3584115 50.1379669, -5.358487 50.1379672, -5.3586316 50.1379678, -5.3586324 50.1378861))', '[112168276, 112168270]', '[[[1275780250, 1275780520, 6915654134, 6915654135, 6915654127, 1275780590, 1275780263, 1275780264, 6915654094, 6915654093, 1275780324, 1275780605, 1275780649, 1275780536, 1275780574, 1275780460, 1275780494, 1275780375, 11543332618, 1275780477, 1275780444, 1275780250], [1275780610, 6915616070, 1275780448, 1275780303, 1275780358, 6915616068, 1275780610]]]', 'multipolygon', '', 'TR13 9RE', '', '', 'Helston', 'Godolphin Estate', 'Godolphin Cross', 'Godolphin Count House', '', '', '', '', '', '', '', 'attraction', '', '', '', '', '', '', '', '', '', '', '', 'yes', '', '', '', '', '', '', '', '', '-2.0', 9231, 'POLYGON ((160086.16956965212 31822.472745400475, 160086.58895984557 31829.71596022285, 160085.2825716251 31829.79709322439, 160085.32350359295 31830.864516799717, 160085.4148126958 31832.09674381002, 160060.78083433688 31833.507368218503, 160061.1484081984 31839.917552823725, 160069.0530244006 31839.472289172612, 160084.08304005134 31838.605765294487, 160092.44438522015 31838.12882112735, 160092.74705420376 31843.416970515507, 160128.22749901644 31841.395378445304, 160127.5900522634 31830.263617495773, 160125.9616744297 31830.348106398684, 160124.88135450747 31811.4506942546, 160117.04099638914 31811.892977273732, 160117.2887921534 31816.28140370059, 160111.7764561905 31816.596549069625, 160095.28945915794 31817.539766504895, 160095.53777390122 31821.939308143687, 160090.48467634825 31822.278339675016, 160086.16956965212 31822.472745400475), (160099.31215739273 31826.90398117411, 160099.22826281504 31825.35955047325, 160114.95581193813 31824.561936467944, 160115.49830795583 31835.17447969984, 160110.10594067888 31835.450809407223, 160099.7784352009 31835.982886881276, 160099.31215739273 31826.90398117411))', b'\\x00\\x00\\x00\\x00\\x01\\x03\\x00\\x00\\x00\\x02\\x00\\x00\\x00\\x16\\x00\\x00\\x00rUG[\\xb1\\x8a\\x03A\\x98\\xecuA\\x9e\\x13\\xdf@[\\x940\\xb6\\xb4\\x8a\\x03A\\x98\\xd3J\\xd2m\\x15\\xdf@\\x85\\xe9\\xb4B\\xaa\\x8a\\x03A\\xa8L\\x93\\x03s\\x15\\xdf@?\\r\\x89\\x96\\xaa\\x8a\\x03AhE>T\\xb7\\x15\\xdf@\\x93Q\\x89Q\\xab\\x8a\\x03A\\x08\\xf3\\x0c1\\x06\\x16\\xdf@\\xa4\\x12&?\\xe6\\x89\\x03A`\\x8c\\xb8x`\\x16\\xdf@5\\xa3\\xf0/\\xe9\\x89\\x03A\\x90z/\\xb9\\xfa\\x17\\xdf@\\x94\\x0e\\x98l(\\x8a\\x03A\\xa8]\\xfc9\\xde\\x17\\xdf@\\x06\\xe7\\x10\\xaa\\xa0\\x8a\\x03A8\\xcc\\xdb\\xc4\\xa6\\x17\\xdf@\\x9b\\xd6\\x19\\x8e\\xe3\\x8a\\x03A@\\xf8\\x9a>\\x88\\x17\\xdf@\\xec\\x8d\\xf7\\xf9\\xe5\\x8a\\x03A\\xe0\\x19\\xa5\\xaf\\xda\\x18\\xdf@\\x1c\\x01\\xeb\\xd1\\x01\\x8c\\x03A\\x08e\\xe1MY\\x18\\xdf@2Rm\\xb8\\xfc\\x8b\\x03A\\xc0\\xea\\x1b\\xdf\\x90\\x15\\xdf@\\x08]\\x82\\xb1\\xef\\x8b\\x03Ax\\x0f`G\\x96\\x15\\xdf@\\x8e\\x97\\x03\\r\\xe7\\x8b\\x03A\\x00\\xb7,\\xd8\\xdc\\x10\\xdf@5\\xea\\xf5S\\xa8\\x8b\\x03A\\xb0&\\x8a&\\xf9\\x10\\xdf@\\xb2BrO\\xaa\\x8b\\x03A\\xc0\\xaa\\x84\\x02\\x12\\x12\\xdf@\\xc8\\xa9.6~\\x8b\\x03A &\\xdc-&\\x12\\xdf@\\x87\\xf6\\xcfP\\xfa\\x8a\\x03A\\x80\\xcf\\x88\\x8bb\\x12\\xdf@3g\\\\M\\xfc\\x8a\\x03A\\x80\\xe7\\x9f\\x1d|\\x13\\xdf@G\\xfe\\x9d\\xe0\\xd3\\x8a\\x03AX6Q\\xd0\\x91\\x13\\xdf@rUG[\\xb1\\x8a\\x03A\\x98\\xecuA\\x9e\\x13\\xdf@\\x07\\x00\\x00\\x00\\x08`L\\x7f\\x1a\\x8b\\x03A\\xc0\\xda\\xd3\\xda\\xb9\\x14\\xdf@lt{\\xd3\\x19\\x8b\\x03A\\xf8\\xfc\\xdf\\x02W\\x14\\xdf@\\xbb\\xba\\x80\\xa5\\x97\\x8b\\x03A\\x10`\\xc4\\xf6#\\x14\\xdf@\\xad\\xe1\\x88\\xfc\\x9b\\x8b\\x03A(\\xe7\\xac*\\xcb\\x16\\xdf@9m\\xf7\\xd8p\\x8b\\x03A0\\xb3\\x0f\\xda\\xdc\\x16\\xdf@\\x0f<<:\\x1e\\x8b\\x03A\\xb0`\\x9e\\xe7\\xfe\\x16\\xdf@\\x08`L\\x7f\\x1a\\x8b\\x03A\\xc0\\xda\\xd3\\xda\\xb9\\x14\\xdf@', 'E00095232')\n",
        "('relation', 6272289, 'POLYGON ((-5.2770057 50.2289954, -5.2770251 50.2290046, -5.2769484 50.2290713, -5.2769275 50.2290614, -5.2767873 50.2291834, -5.276366 50.2289853, -5.2764183 50.2289398, -5.27672 50.2286772, -5.2771429 50.228876, -5.2770057 50.2289954), (-5.2767544 50.2288051, -5.2765608 50.2289686, -5.2767531 50.2290618, -5.2769468 50.2288983, -5.2767544 50.2288051))', '[143400736, 421970682]', '[[[1569200506, 4217005352, 4217005353, 4217005358, 4217005356, 1569200517, 1569200508, 5475247462, 1569200481, 1569200506], [4217005349, 4217005348, 4217005350, 4217005357, 4217005349]]]', 'multipolygon', '', 'TR15 3RD', 'Trevenson Road', '', 'Redruth', '', '', 'Trevithick Court', '', '', '', '', '', '', '', '', '', '', '', '', '', '', '', '', '', '', '', 'college', '', '1.0', '', '', '', '', '', '', '', 9232, 'POLYGON ((166376.37276804046 41694.974749416986, 166375.0344211005 41696.05829827403, 166380.82997802846 41703.231912765885, 166382.27185992844 41702.06584648584, 166392.86590993474 41715.187303649174, 166421.93846893095 41691.84465051026, 166417.986551931 41686.95100738492, 166395.1886003087 41658.70729205961, 166366.0052828661 41682.132921668206, 166376.37276804046 41694.974749416986), (166393.36129452076 41673.0325111158, 166407.96616721348 41690.59953518893, 166394.70974411705 41701.56301420703, 166380.09772006687 41683.99633974003, 166393.36129452076 41673.0325111158))', b'\\x00\\x00\\x00\\x00\\x01\\x03\\x00\\x00\\x00\\x02\\x00\\x00\\x00\\n\\x00\\x00\\x00v\\xcfm\\xfbBO\\x04Ax\\xb0%1\\xdf[\\xe4@\\xe8\\x91~F8O\\x04A\\x8cW\\x94\\xdd\\x01\\\\\\xe4@E\\x85\\xcb\\xa3fO\\x04A R\\xd4k\\xe7\\\\\\xe4@\\xee\\xe5\\xc4,rO\\x04A\\xe8\\x16j\\x1b\\xc2\\\\\\xe4@\\x180b\\xed\\xc6O\\x04A\\xf48d\\xfee^\\xe4@\\xb6\\xff\\xfb\\x81\\xafP\\x04A\\xc4\\x81`\\x07{[\\xe4@\\xbcVu\\xe4\\x8fP\\x04A\\x10\\n\\xa7n\\xdeZ\\xe4@\\xef\\xe0@\\x82\\xd9O\\x04A\\x18\\xf5\"\\xa2VW\\xe4@I\\xbe\\xd1\\n\\xf0N\\x04A<\\xf1\\xe4@DZ\\xe4@v\\xcfm\\xfbBO\\x04Ax\\xb0%1\\xdf[\\xe4@\\x05\\x00\\x00\\x00\\xb7a\\xee\\xe3\\xcaO\\x04Ad\\xc0T\\n!Y\\xe4@C\\xe0\\xb5\\xba?P\\x04A\\xa8kd/S[\\xe4@\\xdaR\\x8e\\xad\\xd5O\\x04A\\xcc^6\\x04\\xb2\\\\\\xe4@[u!\\xc8`O\\x04A\\xe4\\xe0\\x03\\xe2\\x7fZ\\xe4@\\xb7a\\xee\\xe3\\xcaO\\x04Ad\\xc0T\\n!Y\\xe4@', 'E00182758')\n",
        "('relation', 7012772, 'POLYGON ((-5.2737421 50.2274724, -5.2735134 50.2275462, -5.2735414 50.2275817, -5.2735731 50.2276211, -5.2734847 50.2276494, -5.2734453 50.2276006, -5.2733934 50.2276178, -5.2732982 50.2274979, -5.273668 50.2273785, -5.2737421 50.2274724))', '[143400690]', '[[[1569200022, 1569200044, 5429909876, 1569200108, 1569200129, 5472660274, 5472660273, 1569200023, 1569199906, 1569200022]]]', 'multipolygon', '', 'TR15 3RD', 'Trevenson Road', '', 'Redruth', '', '', 'dBs', '', '', '', '', '', '', '', '', '', '', '', '', '', '', '', '', '', '', '', 'college', '', '2.0', '', '', '', '', '', '', '', 9233, 'POLYGON ((166601.6469998361 41515.44198465673, 166618.31610309827 41522.928540665045, 166616.49293302154 41526.96247665322, 166614.42498174557 41531.441534391284, 166620.86700770017 41534.310207305214, 166623.43810670276 41528.76211560643, 166627.22310428528 41530.51135377839, 166633.42582582674 41516.8849150138, 166606.4721160039 41504.77180834714, 166601.6469998361 41515.44198465673))', b'\\x00\\x00\\x00\\x00\\x01\\x03\\x00\\x00\\x00\\x01\\x00\\x00\\x00\\n\\x00\\x00\\x00\\x05@\\x0e-MV\\x04A\\xc0\\x01\\xbd$nE\\xe4@\\xaa\\x0fa\\x87\\xd2V\\x04A\\xac\\xe9\\x9a\\xb6]F\\xe4@5\\xde\\x86\\xf1\\xc3V\\x04A\\x98\\xd6\\x9b\\xcc\\xdeF\\xe4@U\\xd4\\\\f\\xb3V\\x04AT\\xbb\\x0c!nG\\xe4@\\xad\\xbb\\xa1\\xef\\xe6V\\x04A\\xdc\\xde7\\xed\\xc9G\\xe4@D\\x16>\\x81\\xfbV\\x04A\\xacD@c\\x18G\\xe4@G\\xe6\\xea\\xc8\\x19W\\x04A\\\\\\x99\\x02]PG\\xe4@\\xfd^\\x17hKW\\x04A\\x80J9Q\\x9cE\\xe4@e\\xc1\\xe4\\xc6sV\\x04A8k\\xa7\\xb2\\x18D\\xe4@\\x05@\\x0e-MV\\x04A\\xc0\\x01\\xbd$nE\\xe4@', 'E00182758')\n",
        "Indices:\n",
        " - geometry (SPATIAL): Column geometry\n",
        " - idx_postcode (BTREE): Column addr_postcode\n",
        " - idx_db_id (BTREE): Column db_id\n",
        " - idx_oa (BTREE): Column OA21CD\n",
        "\n",
        "Table postcode_data - Approx Row Count 2.5M\n",
        "('postcode', 'status', 'usertype', 'easting', 'northing', 'positional_quality_indicator', 'country', 'latitude', 'longitude', 'postcode_no_space', 'postcode_fixed_width_seven', 'postcode_fixed_width_eight', 'postcode_area', 'postcode_district', 'postcode_sector', 'outcode', 'incode', 'db_id')\n",
        "('AB1 0AA', 'terminated', 'small', 385386, 801193, 1, 'Scotland', Decimal('57.10147400'), Decimal('-2.24285100'), 'AB10AA', 'AB1 0AA', 'AB1  0AA', 'AB', 'AB1', 'AB1 0', 'AB1', '0AA', 1)\n",
        "('AB1 0AB', 'terminated', 'small', 385177, 801314, 1, 'Scotland', Decimal('57.10255400'), Decimal('-2.24630800'), 'AB10AB', 'AB1 0AB', 'AB1  0AB', 'AB', 'AB1', 'AB1 0', 'AB1', '0AB', 2)\n",
        "('AB1 0AD', 'terminated', 'small', 385053, 801092, 1, 'Scotland', Decimal('57.10055600'), Decimal('-2.24834200'), 'AB10AD', 'AB1 0AD', 'AB1  0AD', 'AB', 'AB1', 'AB1 0', 'AB1', '0AD', 3)\n",
        "Indices:\n",
        " - PRIMARY (BTREE): Column db_id\n",
        " - idx_postcode_postcode (BTREE): Column postcode\n",
        "\n",
        "Table pp_data - Approx Row Count 29.3M\n",
        "('transaction_unique_identifier', 'price', 'date_of_transfer', 'postcode', 'property_type', 'new_build_flag', 'tenure_type', 'primary_addressable_object_name', 'secondary_addressable_object_name', 'street', 'locality', 'town_city', 'district', 'county', 'ppd_category_type', 'record_status', 'db_id')\n",
        "('{109BBF80-1E51-4910-8E2C-B124E1117A7A}', 34950, datetime.date(1995, 6, 9), 'BA3 3AH', 'F', 'N', 'L', 'COOMBEND HOUSE', '7', 'COOMBEND', 'RADSTOCK', 'RADSTOCK', 'WANSDYKE', 'AVON', 'A', 'A', 1)\n",
        "('{D5233D67-2975-426B-B98D-B124E39331D9}', 133000, datetime.date(1995, 6, 19), 'SW18 5AG', 'T', 'N', 'F', '142', '', 'ASTONVILLE STREET', 'LONDON', 'LONDON', 'WANDSWORTH', 'GREATER LONDON', 'A', 'A', 2)\n",
        "('{718BD35C-25E1-431C-8AF7-B124E63ED4E1}', 83000, datetime.date(1995, 8, 21), 'IP11 7PU', 'D', 'N', 'F', '3', '', 'GARFIELD ROAD', 'FELIXSTOWE', 'FELIXSTOWE', 'SUFFOLK COASTAL', 'SUFFOLK', 'A', 'A', 3)\n",
        "Indices:\n",
        " - PRIMARY (BTREE): Column db_id\n",
        " - idx_pp_postcode (BTREE): Column postcode\n",
        " - idx_pp_date_transfer (BTREE): Column date_of_transfer\n",
        " - idx_address (BTREE): Column postcode\n",
        " - idx_address (BTREE): Column street\n",
        " - idx_address (BTREE): Column primary_addressable_object_name\n",
        " - idx_address (BTREE): Column town_city\n",
        "\n",
        "Table prices_coordinates_data - Approx Row Count 5.8M\n",
        "('price', 'date_of_transfer', 'postcode', 'property_type', 'new_build_flag', 'tenure_type', 'locality', 'town_city', 'district', 'county', 'country', 'latitude', 'longitude', 'db_id')\n",
        "(370000, datetime.date(2024, 1, 1), 'WR12 7FE', 'T', 'N', 'F', '', 'BROADWAY', 'WYCHAVON', 'WORCESTERSHIRE', 'England', Decimal('52.04243800'), Decimal('-1.85757200'), 1)\n",
        "(50000, datetime.date(2024, 1, 1), 'TS17 6LJ', 'T', 'N', 'F', 'THORNABY', 'STOCKTON-ON-TEES', 'STOCKTON-ON-TEES', 'STOCKTON-ON-TEES', 'England', Decimal('54.55240100'), Decimal('-1.30114300'), 2)\n",
        "(485000, datetime.date(2024, 1, 1), 'BR3 6QH', 'F', 'N', 'L', '', 'BECKENHAM', 'BROMLEY', 'GREATER LONDON', 'England', Decimal('51.40061400'), Decimal('-0.01854100'), 3)\n",
        "Indices:\n",
        " - PRIMARY (BTREE): Column db_id\n",
        " - idx_lat_lon_btree (BTREE): Column latitude\n",
        " - idx_lat_lon_btree (BTREE): Column longitude\n",
        "\n",
        "\"\"\""
      ]
    },
    {
      "cell_type": "markdown",
      "metadata": {},
      "source": [
        "## Assess"
      ]
    },
    {
      "cell_type": "code",
      "execution_count": 1257,
      "metadata": {},
      "outputs": [
        {
          "name": "stdout",
          "output_type": "stream",
          "text": [
            "Connection established!\n"
          ]
        }
      ],
      "source": [
        "conn = fynesse.access.create_connection()"
      ]
    },
    {
      "cell_type": "markdown",
      "metadata": {},
      "source": [
        "### Filtering and preparing the data"
      ]
    },
    {
      "cell_type": "code",
      "execution_count": null,
      "metadata": {},
      "outputs": [],
      "source": [
        "\"\"\"\n",
        "\n",
        "Table ge_2024_results - Approx Row Count 0.0M\n",
        "('ONS_ID', 'ONS_region_ID', 'Constituency_name', 'County_name', 'Region_name', 'Country_name', 'Constituency_type', 'Declaration_time', 'Member_first_name', 'Member_surname', 'Member_gender', 'Result', 'First_party', 'Second_party', 'Electorate', 'Valid_votes', 'Invalid_votes', 'Majority', 'Con', 'Lab', 'LD', 'RUK', 'Green', 'SNP', 'PC', 'DUP', 'SF', 'SDLP', 'UUP', 'APNI', 'All_other_candidates', 'Of_which_other_winner', 'db_id')\n",
        "('W07000081', 'W92000004', 'Aberafan Maesteg', '', 'Wales', 'Wales', 'County', '', 'Stephen', 'Kinnock', 'Male', 'Lab hold', 'Lab', 'RUK', 72580, 35755, 79, 10354, 2903, 17838, 916, 7484, 1094, 0, 4719, 0, 0, 0, 0, 0, 801, 0, 1)\n",
        "('E14001063', 'E12000008', 'Aldershot', '', 'South East', 'England', 'Borough', '', 'Alex', 'Baker', 'Female', 'Lab gain from Con', 'Lab', 'Con', 78553, 48544, 179, 5683, 14081, 19764, 4052, 8210, 2155, 0, 0, 0, 0, 0, 0, 0, 282, 0, 6)\n",
        "('E14001064', 'E12000005', 'Aldridge-Brownhills', '', 'West Midlands', 'England', 'Borough', '', 'Wendy', 'Morton', 'Female', 'Con hold', 'Con', 'Lab', 70268, 40912, 156, 4294, 15901, 11607, 1755, 9903, 1746, 0, 0, 0, 0, 0, 0, 0, 0, 0, 7)\n",
        "Indices:\n",
        " - PRIMARY (BTREE): Column db_id\n",
        " - idx_ons_id (BTREE): Column ONS_ID\n",
        " - idx_ons_region_id (BTREE): Column ONS_region_ID\n",
        " - idx_result (BTREE): Column Result\n",
        " - idx_first_party (BTREE): Column First_party\n",
        " - idx_second_party (BTREE): Column Second_party\n",
        "\n",
        "Table oa_data - Approx Row Count 0.1M\n",
        "('FID', 'OA21CD', 'LSOA21CD', 'LSOA21NM', 'LSOA21NMW', 'BNG_E', 'BNG_N', 'LAT', 'LON', 'ShapeArea', 'ShapeLength', 'GlobalID', 'db_id', 'geometry_string_ne', 'geometry')\n",
        "(1, 'E00000001', 'E01000001', 'City of London 001A', ' ', 532250, 181864, 51.5202, -0.09523, 6949.15, 421.166, '3a44dd3d-5082-4a09-9b9c-3a5fadc811ed\\r', 1, 'POLYGON ((532303.4919999996 181814.1099999994, 532213.3779999996 181846.1919999998, 532194.8990000002 181874.26300000027, 532162.9718000004 181864.00879999995, 532162.4910000004 181867.76300000027, 532248.3943999996 181895.3501999993, 532282.6299999999 181906.49599999934, 532308.875 181914.79700000025, 532303.4919999996 181814.1099999994))', b'\\x00\\x00\\x00\\x00\\x01\\x03\\x00\\x00\\x00\\x01\\x00\\x00\\x00\\t\\x00\\x00\\x00\\x88l\\xe7\\xfb\\x9e> A\\x00\\xaeG\\xe1\\xb01\\x06AH7\\x89\\xc1\\xea= A\\xc0K7\\x89\\xb12\\x06A`\\xbaI\\xcc\\xc5= A\\x80\\xbe\\x9f\\x1a\\x923\\x06A\\x08\\xc5\\x8f\\xf1\\x85= A\\x00\\xbc\\x05\\x12@3\\x06A Zd\\xfb\\x84= A\\x80\\xbe\\x9f\\x1a^3\\x06A\\xf8\\xcb\\xee\\xc90> A@\\xa85\\xcd:4\\x06A(\\\\\\x8fBu> A\\x00\\xd9\\xce\\xf7\\x934\\x06A\\x00\\x00\\x00\\xc0\\xa9> A@\\x89A`\\xd64\\x06A\\x88l\\xe7\\xfb\\x9e> A\\x00\\xaeG\\xe1\\xb01\\x06A')\n",
        "(2, 'E00000003', 'E01000001', 'City of London 001A', ' ', 532171, 181819, 51.5198, -0.09638, 4492.41, 307.715, 'f1216dc8-14d1-4857-9230-cab0641758fb\\r', 2, 'POLYGON ((532213.3779999996 181846.1919999998, 532190.5392000005 181796.06120000035, 532180.131 181763.01999999955, 532155.909 181805.6799999997, 532127.2989999996 181800.62399999984, 532162.9718000004 181864.00879999995, 532194.8990000002 181874.26300000027, 532213.3779999996 181846.1919999998))', b'\\x00\\x00\\x00\\x00\\x01\\x03\\x00\\x00\\x00\\x01\\x00\\x00\\x00\\x08\\x00\\x00\\x00H7\\x89\\xc1\\xea= A\\xc0K7\\x89\\xb12\\x06A\\xc0\\x05\\x12\\x14\\xbd= A\\x00mV} 1\\x06A\\x98n\\x12C\\xa8= A\\x80\\xc2\\xf5(\\x180\\x06A\\xb0rh\\xd1w= A\\x00\\xd7\\xa3pm1\\x06A(\\x87\\x16\\x99>= A@\\xb6\\xf3\\xfdD1\\x06A\\x08\\xc5\\x8f\\xf1\\x85= A\\x00\\xbc\\x05\\x12@3\\x06A`\\xbaI\\xcc\\xc5= A\\x80\\xbe\\x9f\\x1a\\x923\\x06AH7\\x89\\xc1\\xea= A\\xc0K7\\x89\\xb12\\x06A')\n",
        "(3, 'E00000005', 'E01000001', 'City of London 001A', ' ', 532166, 181722, 51.519, -0.09649, 8565.51, 385.205, '44d6f70f-549c-4288-9b6d-de2adbf02582\\r', 3, 'POLYGON ((532180.131 181763.01999999955, 532219.1610000003 181703.9389999993, 532201.2920000004 181668.1799999997, 532124.3210000005 181682.67500000075, 532127.2989999996 181800.62399999984, 532155.909 181805.6799999997, 532180.131 181763.01999999955))', b'\\x00\\x00\\x00\\x00\\x01\\x03\\x00\\x00\\x00\\x01\\x00\\x00\\x00\\x07\\x00\\x00\\x00\\x98n\\x12C\\xa8= A\\x80\\xc2\\xf5(\\x180\\x06A\\x90\\x97nR\\xf6= A\\x80n\\x12\\x83?.\\x06A(\\x06\\x81\\x95\\xd2= A\\x00\\xd7\\xa3p!-\\x06A\\xb0\\x1cZ\\xa48= A\\x80fff\\x95-\\x06A(\\x87\\x16\\x99>= A@\\xb6\\xf3\\xfdD1\\x06A\\xb0rh\\xd1w= A\\x00\\xd7\\xa3pm1\\x06A\\x98n\\x12C\\xa8= A\\x80\\xc2\\xf5(\\x180\\x06A')\n",
        "Indices:\n",
        " - PRIMARY (BTREE): Column FID\n",
        " - idx_oa (BTREE): Column OA21CD\n",
        " - idx_lsoa (BTREE): Column LSOA21CD\n",
        " - idx_lat_lon_btree (BTREE): Column LAT\n",
        " - idx_lat_lon_btree (BTREE): Column LON\n",
        " - geometry (SPATIAL): Column geometry\n",
        "\n",
        "Table oa_to_pc - Approx Row Count 0.1M\n",
        "('OA21CD', 'PCON25CD', 'PCON25NM', 'PCON25NMW', 'LAD21CD', 'LAD21NM', 'ObjectId', 'db_id')\n",
        "('E00000337', 'E14001073', 'Barking', '', 'E09000002', 'Barking and Dagenham', 1, 1)\n",
        "('E00000338', 'E14001073', 'Barking', '', 'E09000002', 'Barking and Dagenham', 2, 2)\n",
        "('E00000340', 'E14001073', 'Barking', '', 'E09000002', 'Barking and Dagenham', 3, 3)\n",
        "Indices:\n",
        " - PRIMARY (BTREE): Column db_id\n",
        " - idx_oa21cd (BTREE): Column OA21CD\n",
        " - idx_pcon25cd (BTREE): Column PCON25CD\n",
        " - idx_lad21cd (BTREE): Column LAD21CD\n",
        "\n",
        "Table osm_and_census_data_2 - Approx Row Count 0.1M\n",
        "('date', 'OA21CD', 'db_id', 'amenity', 'tourism', 'leisure', 'cuisine', 'emergency', 'historic', 'sport', 'shop', 'religion', 'power', 'military', 'house', 'building', 'TS007A_8_Age_20_24', 'TS007A_11_Age_35_39', 'TS007A_14_Age_50_54', 'TS007A_17_Age_65_69', 'TS021_4_Ethnic_Asian', 'TS021_10_Ethnic_Black', 'TS021_19_Ethnic_White', 'TS054_4_Tenure_Own', 'TS054_7_Tenure_ShareOwn', 'TS054_9_Tenure_SocRent', 'TS054_12_Tenure_PrivRent', 'TS066_4_Economic_Act', 'TS066_16_Economic_ActStudent', 'TS066_28_Economic_Inact', 'TS067_4_Qualification_No', 'TS067_5_Qualification_L1', 'TS067_6_Qualification_L2', 'TS004_4_Birth_Europe', 'TS004_5_Birth_UK', 'TS004_13_Birth_Africa', 'TS004_14_Birth_MEandAsia', 'TS037_4_Health_VeryGood', 'TS037_6_Health_Fair', 'TS037_8_Health_VeryBad')\n",
        "(2021, 'E00000001', 1, 0, 0, 0, 0, 0, 0, 0, 0, 0, 0, 0, 0, 0, 3, 4, 15, 24, 5, 3, 155, 72, 0, 7, 15, 98, 0, 63, 4, 7, 10, 149, 118, 0, 6, 98, 26, 0)\n",
        "(2021, 'E00000003', 2, 0, 0, 0, 0, 0, 0, 0, 0, 0, 0, 0, 0, 0, 12, 13, 20, 35, 24, 5, 209, 91, 0, 2, 17, 139, 1, 83, 5, 3, 8, 207, 184, 7, 18, 146, 15, 2)\n",
        "(2021, 'E00000005', 3, 1, 0, 0, 1, 0, 0, 0, 0, 0, 0, 0, 0, 1, 7, 5, 8, 12, 13, 0, 85, 40, 0, 2, 21, 68, 1, 36, 3, 2, 3, 88, 73, 2, 11, 62, 8, 0)\n",
        "Indices:\n",
        " - PRIMARY (BTREE): Column OA21CD\n",
        " - idx_oa (BTREE): Column OA21CD\n",
        "\"\"\""
      ]
    },
    {
      "cell_type": "code",
      "execution_count": 739,
      "metadata": {},
      "outputs": [
        {
          "name": "stdout",
          "output_type": "stream",
          "text": [
            "Total: 650\n",
            "E: 543\n",
            "W: 32\n",
            "S: 57\n",
            "N: 18\n"
          ]
        }
      ],
      "source": [
        "print_counts_per_region('ge_2024_results', 'ONS_ID')"
      ]
    },
    {
      "cell_type": "code",
      "execution_count": 741,
      "metadata": {},
      "outputs": [
        {
          "data": {
            "text/plain": [
              "[]"
            ]
          },
          "execution_count": 741,
          "metadata": {},
          "output_type": "execute_result"
        }
      ],
      "source": [
        "fynesse.assess.execute_query(conn, \"DELETE FROM ge_2024_results WHERE ONS_ID LIKE 'N%' OR ONS_ID LIKE 'S%';\")"
      ]
    },
    {
      "cell_type": "code",
      "execution_count": 742,
      "metadata": {},
      "outputs": [
        {
          "name": "stdout",
          "output_type": "stream",
          "text": [
            "Total: 575\n",
            "E: 543\n",
            "W: 32\n",
            "S: 0\n",
            "N: 0\n"
          ]
        }
      ],
      "source": [
        "print_counts_per_region('ge_2024_results', 'ONS_ID')"
      ]
    },
    {
      "cell_type": "code",
      "execution_count": 750,
      "metadata": {},
      "outputs": [
        {
          "data": {
            "text/plain": [
              "[]"
            ]
          },
          "execution_count": 750,
          "metadata": {},
          "output_type": "execute_result"
        }
      ],
      "source": [
        "query = \"\"\"\n",
        "CREATE TABLE pc_data AS\n",
        "SELECT\n",
        "    ge_2024_results.ONS_ID,\n",
        "    CAST(AVG(oa_data.BNG_E) AS FLOAT) AS BNG_E,\n",
        "    CAST(AVG(oa_data.BNG_N) AS FLOAT) AS BNG_N,\n",
        "    AVG(oa_data.LAT) AS LAT,\n",
        "    AVG(oa_data.LON) AS LON,\n",
        "    SUM(oa_data.ShapeArea) AS AREA\n",
        "FROM\n",
        "    ge_2024_results\n",
        "JOIN\n",
        "    oa_to_pc ON ge_2024_results.ONS_ID = oa_to_pc.PCON25CD\n",
        "JOIN\n",
        "    oa_data ON oa_to_pc.OA21CD = oa_data.OA21CD\n",
        "GROUP BY\n",
        "    ge_2024_results.ONS_ID;\n",
        "\"\"\"\n",
        "fynesse.assess.execute_query(conn, query)\n",
        "\n",
        "fynesse.assess.execute_query(conn, \"ALTER TABLE pc_data ADD PRIMARY KEY (ONS_ID);\")"
      ]
    },
    {
      "cell_type": "code",
      "execution_count": 817,
      "metadata": {},
      "outputs": [],
      "source": [
        "features_to_add = list(fynesse.assess.execute_query(conn, \"SELECT COLUMN_NAME FROM INFORMATION_SCHEMA.COLUMNS WHERE TABLE_NAME = 'osm_and_census_data_2';\"))\n",
        "features_to_add = [el[0] for el in features_to_add]\n",
        "features_to_add = features_to_add[3:]\n",
        "\n",
        "for feature in features_to_add:\n",
        "    add_feature_from_oa_to_pc_data('osm_and_census_data_2', feature)"
      ]
    },
    {
      "cell_type": "markdown",
      "metadata": {},
      "source": [
        "### Adding prices paid data to form new features of parliamentary constituencies"
      ]
    },
    {
      "cell_type": "code",
      "execution_count": 1059,
      "metadata": {},
      "outputs": [
        {
          "data": {
            "text/plain": [
              "[]"
            ]
          },
          "execution_count": 1059,
          "metadata": {},
          "output_type": "execute_result"
        }
      ],
      "source": [
        "query = \"\"\"\n",
        "CREATE TABLE pp_data_with_geography\n",
        "SELECT * FROM pp_data \n",
        "WHERE date_of_transfer >= '2022-08-01';\n",
        "\"\"\"\n",
        "fynesse.assess.execute_query(conn, query)\n",
        "\n",
        "query = \"\"\"\n",
        "ALTER TABLE pp_data_with_geography \n",
        "ADD COLUMN easting FLOAT, \n",
        "ADD COLUMN northing FLOAT,\n",
        "ADD COLUMN geography POINT\n",
        "ADD COLUMN OA21CD varchar(9);;\n",
        "\"\"\"\n",
        "fynesse.assess.execute_query(conn, query)\n",
        "\n",
        "fynesse.assess.create_single_index(conn, 'idx_db_id', 'pp_data_with_geography', 'db_id')\n",
        "fynesse.assess.create_single_index(conn, 'idx_postcode', 'pp_data_with_geography', 'postcode')\n",
        "fynesse.assess.create_single_index(conn, 'idx_date_of_transfer', 'pp_data_with_geography', 'date_of_transfer')"
      ]
    },
    {
      "cell_type": "code",
      "execution_count": null,
      "metadata": {},
      "outputs": [],
      "source": [
        "year = 2024\n",
        "month = 9\n",
        "\n",
        "for _ in range(26):\n",
        "\n",
        "    add_geography_and_oa_to_pp_data(year, month)\n",
        "    \n",
        "    if month == 1:\n",
        "        year -= 1\n",
        "        month = 12\n",
        "    else:\n",
        "        month -= 1"
      ]
    },
    {
      "cell_type": "code",
      "execution_count": 1174,
      "metadata": {},
      "outputs": [
        {
          "data": {
            "text/plain": [
              "1612832"
            ]
          },
          "execution_count": 1174,
          "metadata": {},
          "output_type": "execute_result"
        }
      ],
      "source": [
        "fynesse.assess.execute_query(conn, \"SELECT COUNT(*) FROM pp_data_with_geography;\")[0][0]"
      ]
    },
    {
      "cell_type": "code",
      "execution_count": 1229,
      "metadata": {},
      "outputs": [
        {
          "data": {
            "text/plain": [
              "[]"
            ]
          },
          "execution_count": 1229,
          "metadata": {},
          "output_type": "execute_result"
        }
      ],
      "source": [
        "fynesse.assess.execute_query(conn, \"DELETE FROM pp_data_with_geography WHERE OA21CD IS NULL;\")"
      ]
    },
    {
      "cell_type": "code",
      "execution_count": 1233,
      "metadata": {},
      "outputs": [
        {
          "data": {
            "text/plain": [
              "1605461"
            ]
          },
          "execution_count": 1233,
          "metadata": {},
          "output_type": "execute_result"
        }
      ],
      "source": [
        "fynesse.assess.execute_query(conn, \"SELECT COUNT(*) FROM pp_data_with_geography;\")[0][0]"
      ]
    },
    {
      "cell_type": "code",
      "execution_count": 1234,
      "metadata": {},
      "outputs": [
        {
          "data": {
            "text/plain": [
              "[]"
            ]
          },
          "execution_count": 1234,
          "metadata": {},
          "output_type": "execute_result"
        }
      ],
      "source": [
        "fynesse.assess.create_single_index(conn, 'idx_oa', 'pp_data_with_geography', 'OA21CD')"
      ]
    },
    {
      "cell_type": "code",
      "execution_count": 1235,
      "metadata": {},
      "outputs": [
        {
          "name": "stdout",
          "output_type": "stream",
          "text": [
            "\n",
            "Table pp_data_with_geography - Approx Row Count 1.5M\n",
            "('transaction_unique_identifier', 'price', 'date_of_transfer', 'postcode', 'property_type', 'new_build_flag', 'tenure_type', 'primary_addressable_object_name', 'secondary_addressable_object_name', 'street', 'locality', 'town_city', 'district', 'county', 'ppd_category_type', 'record_status', 'db_id', 'easting', 'northing', 'geography', 'OA21CD')\n",
            "('{E7B085FC-4E71-7E31-E053-6C04A8C0E67F}', 590000, datetime.date(2022, 8, 12), 'ME18 5AQ', 'D', 'N', 'F', 'HAVENFIELD', '', 'THE STREET', 'TESTON', 'MAIDSTONE', 'MAIDSTONE', 'KENT', 'A', 'A', 29360121, 570449.0, 153417.0, b'\\x00\\x00\\x00\\x00\\x01\\x01\\x00\\x00\\x00\\x00\\x00\\x00\\x00\\xa2h!A\\x00\\x00\\x00\\x00H\\xba\\x02A', 'E00123488')\n",
            "('{E7B085FC-4E77-7E31-E053-6C04A8C0E67F}', 485000, datetime.date(2022, 8, 10), 'DA16 1RH', 'S', 'N', 'F', '48', '', 'CHARMOUTH ROAD', '', 'WELLING', 'BEXLEY', 'GREATER LONDON', 'A', 'A', 29360137, 547084.0, 176725.0, b'\\x00\\x00\\x00\\x00\\x01\\x01\\x00\\x00\\x00\\x00\\x00\\x00\\x00\\x18\\xb2 A\\x00\\x00\\x00\\x00\\xa8\\x92\\x05A', 'E00002211')\n",
            "('{045A1898-F79B-9A24-E063-4804A8C048EA}', 412500, datetime.date(2022, 11, 16), 'BR1 1AG', 'F', 'N', 'L', 'WILLIAM HOUSE', 'FLAT 85', 'RINGERS ROAD', '', 'BROMLEY', 'BROMLEY', 'GREATER LONDON', 'A', 'A', 29360879, 540259.0, 168855.0, b'\\x00\\x00\\x00\\x00\\x01\\x01\\x00\\x00\\x00\\x00\\x00\\x00\\x00\\xc6| A\\x00\\x00\\x00\\x00\\xb8\\x9c\\x04A', 'E00182600')\n",
            "Indices:\n",
            " - idx_db_id (BTREE): Column db_id\n",
            " - idx_postcode (BTREE): Column postcode\n",
            " - idx_date_of_transfer (BTREE): Column date_of_transfer\n",
            " - idx_oa (BTREE): Column OA21CD\n"
          ]
        }
      ],
      "source": [
        "get_summary_on_table(conn, 'pp_data_with_geography')"
      ]
    },
    {
      "cell_type": "code",
      "execution_count": null,
      "metadata": {},
      "outputs": [],
      "source": [
        "fynesse.assess.execute_query(conn, f\"SELECT DISTINCT property_type FROM pp_data_with_geography;\")\n",
        "fynesse.assess.execute_query(conn, f\"SELECT DISTINCT new_build_flag FROM pp_data_with_geography;\")\n",
        "fynesse.assess.execute_query(conn, f\"SELECT DISTINCT tenure_type FROM pp_data_with_geography;\")"
      ]
    },
    {
      "cell_type": "code",
      "execution_count": null,
      "metadata": {},
      "outputs": [],
      "source": [
        "\"\"\"\n",
        "property_type - the type of property sold.\n",
        "- T - Terraced - A house that shares walls with houses on both sides.  \n",
        "- D - Detached - A standalone house with no shared walls.  \n",
        "- F - Flat/Maisonette - A flat (apartment) or maisonette, typically in a shared building.  \n",
        "- S - Semi-Detached - A house that shares a wall with one neighboring property.  \n",
        "- O - Other - Any property type that does not fit into the above categories.\n",
        "\n",
        "new_build_flag - whether the house being sold is newly built or not.\n",
        "- N - No\n",
        "- Y - Yes\n",
        "\n",
        "tenure_type - the legal ownership arrangement of the property.\n",
        "- F - Freehold - The buyer owns the property and the land it stands on indefinitely.  \n",
        "- L - Leasehold - The buyer owns the property for a specific period (e.g., 99 or 125 years) but not the land it stands on. Ownership reverts to the freeholder when the lease expires.\n",
        "\"\"\""
      ]
    },
    {
      "cell_type": "code",
      "execution_count": 1259,
      "metadata": {},
      "outputs": [
        {
          "data": {
            "text/plain": [
              "[]"
            ]
          },
          "execution_count": 1259,
          "metadata": {},
          "output_type": "execute_result"
        }
      ],
      "source": [
        "query = f\"\"\"\n",
        "CREATE TABLE pp_data_per_oa (\n",
        "    OA21CD VARCHAR(9) PRIMARY KEY,\n",
        "    houses_sum_of_prices FLOAT DEFAULT 0,\n",
        "    houses_total_number INT DEFAULT 0,\n",
        "    houses_terraced INT DEFAULT 0,\n",
        "    houses_detached INT DEFAULT 0,\n",
        "    houses_flat INT DEFAULT 0,\n",
        "    houses_semidetached INT DEFAULT 0,\n",
        "    houses_other INT DEFAULT 0,\n",
        "    houses_old INT DEFAULT 0,\n",
        "    houses_new INT DEFAULT 0,\n",
        "    houses_freehold INT DEFAULT 0,\n",
        "    houses_leasehold INT DEFAULT 0\n",
        ");\n",
        "\"\"\"\n",
        "fynesse.assess.execute_query(conn, query)"
      ]
    },
    {
      "cell_type": "code",
      "execution_count": 1261,
      "metadata": {},
      "outputs": [
        {
          "data": {
            "text/plain": [
              "[]"
            ]
          },
          "execution_count": 1261,
          "metadata": {},
          "output_type": "execute_result"
        }
      ],
      "source": [
        "query = f\"\"\"\n",
        "INSERT INTO pp_data_per_oa (\n",
        "    OA21CD,\n",
        "    houses_sum_of_prices,\n",
        "    houses_total_number,\n",
        "    houses_terraced,\n",
        "    houses_detached,\n",
        "    houses_flat,\n",
        "    houses_semidetached,\n",
        "    houses_other,\n",
        "    houses_old,\n",
        "    houses_new,\n",
        "    houses_freehold,\n",
        "    houses_leasehold\n",
        ")\n",
        "SELECT \n",
        "    OA21CD,\n",
        "    SUM(price) AS houses_sum_of_prices,\n",
        "    COUNT(*) AS houses_total_number,\n",
        "    COUNT(CASE WHEN property_type = 'T' THEN 1 END) AS houses_terraced,\n",
        "    COUNT(CASE WHEN property_type = 'D' THEN 1 END) AS houses_detached,\n",
        "    COUNT(CASE WHEN property_type = 'F' THEN 1 END) AS houses_flat,\n",
        "    COUNT(CASE WHEN property_type = 'S' THEN 1 END) AS houses_semidetached,\n",
        "    COUNT(CASE WHEN property_type = 'O' THEN 1 END) AS houses_other,\n",
        "    COUNT(CASE WHEN new_build_flag = 'N' THEN 1 END) AS houses_old,\n",
        "    COUNT(CASE WHEN new_build_flag = 'Y' THEN 1 END) AS houses_new,\n",
        "    COUNT(CASE WHEN tenure_type = 'F' THEN 1 END) AS houses_freehold,\n",
        "    COUNT(CASE WHEN tenure_type = 'L' THEN 1 END) AS houses_leasehold\n",
        "FROM pp_data_with_geography\n",
        "GROUP BY OA21CD;\n",
        "\"\"\"\n",
        "fynesse.assess.execute_query(conn, query)"
      ]
    },
    {
      "cell_type": "code",
      "execution_count": 1267,
      "metadata": {},
      "outputs": [
        {
          "name": "stdout",
          "output_type": "stream",
          "text": [
            "\n",
            "Table pp_data_per_oa - Approx Row Count 0.1M\n",
            "('OA21CD', 'houses_sum_of_prices', 'houses_total_number', 'houses_terraced', 'houses_detached', 'houses_flat', 'houses_semidetached', 'houses_other', 'houses_old', 'houses_new', 'houses_freehold', 'houses_leasehold', 'houses_average_price')\n",
            "('E00000001', 11770000.0, 7, 0, 0, 7, 0, 0, 7, 0, 0, 7, 1681430.0)\n",
            "('E00000003', 19530100.0, 11, 2, 0, 9, 0, 0, 11, 0, 0, 11, 1775470.0)\n",
            "('E00000005', 22325400.0, 23, 0, 0, 23, 0, 0, 23, 0, 0, 23, 970670.0)\n",
            "Indices:\n",
            " - PRIMARY (BTREE): Column OA21CD\n"
          ]
        }
      ],
      "source": [
        "get_summary_on_table(conn, 'pp_data_per_oa')"
      ]
    },
    {
      "cell_type": "code",
      "execution_count": null,
      "metadata": {},
      "outputs": [],
      "source": [
        "features_to_add = list(fynesse.assess.execute_query(conn, \"SELECT COLUMN_NAME FROM INFORMATION_SCHEMA.COLUMNS WHERE TABLE_NAME = 'pp_data_per_oa';\"))\n",
        "features_to_add = [el[0] for el in features_to_add]\n",
        "features_to_add = features_to_add[1:]\n",
        "\n",
        "for feature in features_to_add:\n",
        "    add_feature_from_oa_to_pc_data('pp_data_per_oa', feature)"
      ]
    },
    {
      "cell_type": "code",
      "execution_count": null,
      "metadata": {},
      "outputs": [],
      "source": [
        "query = f\"\"\"\n",
        "ALTER TABLE pc_data\n",
        "ADD COLUMN houses_average_price FLOAT;\n",
        "\"\"\"\n",
        "fynesse.assess.execute_query(conn, query)\n",
        "\n",
        "query = f\"\"\"\n",
        "UPDATE pc_data\n",
        "SET houses_average_price = \n",
        "    CASE \n",
        "        WHEN houses_total_number = 0 THEN 0\n",
        "        ELSE houses_sum_of_prices / houses_total_number\n",
        "    END;\n",
        "\"\"\"\n",
        "fynesse.assess.execute_query(conn, query)"
      ]
    },
    {
      "cell_type": "code",
      "execution_count": 1280,
      "metadata": {},
      "outputs": [
        {
          "name": "stdout",
          "output_type": "stream",
          "text": [
            "\n",
            "Table pc_data - Approx Row Count 0.0M\n",
            "('ONS_ID', 'BNG_E', 'BNG_N', 'LAT', 'LON', 'AREA', 'amenity', 'tourism', 'leisure', 'cuisine', 'emergency', 'historic', 'sport', 'shop', 'religion', 'power', 'military', 'house', 'building', 'TS007A_8_Age_20_24', 'TS007A_11_Age_35_39', 'TS007A_14_Age_50_54', 'TS007A_17_Age_65_69', 'TS021_4_Ethnic_Asian', 'TS021_10_Ethnic_Black', 'TS021_19_Ethnic_White', 'TS054_4_Tenure_Own', 'TS054_7_Tenure_ShareOwn', 'TS054_9_Tenure_SocRent', 'TS054_12_Tenure_PrivRent', 'TS066_4_Economic_Act', 'TS066_16_Economic_ActStudent', 'TS066_28_Economic_Inact', 'TS067_4_Qualification_No', 'TS067_5_Qualification_L1', 'TS067_6_Qualification_L2', 'TS004_4_Birth_Europe', 'TS004_5_Birth_UK', 'TS004_13_Birth_Africa', 'TS004_14_Birth_MEandAsia', 'TS037_4_Health_VeryGood', 'TS037_6_Health_Fair', 'TS037_8_Health_VeryBad', 'houses_terraced', 'houses_detached', 'houses_flat', 'houses_semidetached', 'houses_other', 'houses_old', 'houses_new', 'houses_freehold', 'houses_leasehold', 'houses_sum_of_prices', 'houses_total_number', 'houses_average_price')\n",
            "('E14001063', 486019.0, 154644.0, 51.28444433858401, -0.7679580485594628, 56663490.720703125, 105, 5, 7, 41, 2, 0, 5, 134, 8, 0, 0, 2488, 4433, 6578, 8868, 8190, 4961, 15588, 2776, 93164, 29186, 799, 6957, 9222, 63367, 1733, 30563, 16909, 11352, 13753, 98776, 91404, 2603, 14448, 58348, 13623, 915, 793, 494, 798, 829, 104, 2767, 251, 2181, 837, 1269768176, 3018, 420732)\n",
            "('E14001064', 404904.0, 301132.0, 52.60795950731694, -1.9290075487648415, 53757197.34863281, 76, 1, 1, 17, 0, 1, 3, 28, 10, 3, 0, 389, 5184, 4576, 5463, 6977, 4803, 8130, 1952, 79884, 29470, 220, 5250, 4210, 44266, 1157, 31547, 16897, 8201, 10965, 89496, 87678, 787, 2870, 41645, 13570, 1253, 488, 513, 329, 933, 62, 2324, 1, 1832, 493, 653306461, 2325, 280992)\n",
            "('E14001065', 377431.0, 389086.0, 53.39812510788061, -2.340879815399267, 51612935.833496094, 19, 3, 1, 6, 0, 0, 3, 20, 7, 0, 0, 16, 179, 3925, 6963, 7225, 4806, 12185, 1658, 81296, 30216, 239, 4637, 5618, 48577, 1208, 29675, 9143, 5680, 9708, 90441, 86205, 1617, 7792, 56963, 10116, 886, 590, 541, 642, 934, 102, 2743, 66, 1809, 1000, 1620365202, 2809, 576848)\n",
            "Indices:\n",
            " - PRIMARY (BTREE): Column ONS_ID\n"
          ]
        }
      ],
      "source": [
        "get_summary_on_table(conn, 'pc_data')"
      ]
    },
    {
      "cell_type": "markdown",
      "metadata": {},
      "source": [
        "### TOCOMPLETE - Analysing the data per parliamentary constituencies"
      ]
    },
    {
      "cell_type": "code",
      "execution_count": null,
      "metadata": {},
      "outputs": [],
      "source": [
        "get_summary_on_table(conn, 'pc_data')"
      ]
    },
    {
      "cell_type": "code",
      "execution_count": null,
      "metadata": {},
      "outputs": [],
      "source": [
        "get_summary_on_table(conn, 'ge_2024_results')"
      ]
    },
    {
      "cell_type": "code",
      "execution_count": null,
      "metadata": {},
      "outputs": [],
      "source": [
        "\"\"\"\n",
        "\n",
        "Table pc_data - Approx Row Count 0.0M\n",
        "('ONS_ID', 'BNG_E', 'BNG_N', 'LAT', 'LON', 'AREA', 'amenity', 'tourism', 'leisure', 'cuisine', 'emergency', 'historic', 'sport', 'shop', 'religion', 'power', 'military', 'house', 'building', 'TS007A_8_Age_20_24', 'TS007A_11_Age_35_39', 'TS007A_14_Age_50_54', 'TS007A_17_Age_65_69', 'TS021_4_Ethnic_Asian', 'TS021_10_Ethnic_Black', 'TS021_19_Ethnic_White', 'TS054_4_Tenure_Own', 'TS054_7_Tenure_ShareOwn', 'TS054_9_Tenure_SocRent', 'TS054_12_Tenure_PrivRent', 'TS066_4_Economic_Act', 'TS066_16_Economic_ActStudent', 'TS066_28_Economic_Inact', 'TS067_4_Qualification_No', 'TS067_5_Qualification_L1', 'TS067_6_Qualification_L2', 'TS004_4_Birth_Europe', 'TS004_5_Birth_UK', 'TS004_13_Birth_Africa', 'TS004_14_Birth_MEandAsia', 'TS037_4_Health_VeryGood', 'TS037_6_Health_Fair', 'TS037_8_Health_VeryBad', 'houses_terraced', 'houses_detached', 'houses_flat', 'houses_semidetached', 'houses_other', 'houses_old', 'houses_new', 'houses_freehold', 'houses_leasehold', 'houses_sum_of_prices', 'houses_total_number', 'houses_average_price')\n",
        "('E14001063', 486019.0, 154644.0, 51.28444433858401, -0.7679580485594628, 56663490.720703125, 105, 5, 7, 41, 2, 0, 5, 134, 8, 0, 0, 2488, 4433, 6578, 8868, 8190, 4961, 15588, 2776, 93164, 29186, 799, 6957, 9222, 63367, 1733, 30563, 16909, 11352, 13753, 98776, 91404, 2603, 14448, 58348, 13623, 915, 793, 494, 798, 829, 104, 2767, 251, 2181, 837, 1269768176, 3018, 420732)\n",
        "('E14001064', 404904.0, 301132.0, 52.60795950731694, -1.9290075487648415, 53757197.34863281, 76, 1, 1, 17, 0, 1, 3, 28, 10, 3, 0, 389, 5184, 4576, 5463, 6977, 4803, 8130, 1952, 79884, 29470, 220, 5250, 4210, 44266, 1157, 31547, 16897, 8201, 10965, 89496, 87678, 787, 2870, 41645, 13570, 1253, 488, 513, 329, 933, 62, 2324, 1, 1832, 493, 653306461, 2325, 280992)\n",
        "('E14001065', 377431.0, 389086.0, 53.39812510788061, -2.340879815399267, 51612935.833496094, 19, 3, 1, 6, 0, 0, 3, 20, 7, 0, 0, 16, 179, 3925, 6963, 7225, 4806, 12185, 1658, 81296, 30216, 239, 4637, 5618, 48577, 1208, 29675, 9143, 5680, 9708, 90441, 86205, 1617, 7792, 56963, 10116, 886, 590, 541, 642, 934, 102, 2743, 66, 1809, 1000, 1620365202, 2809, 576848)\n",
        "Indices:\n",
        " - PRIMARY (BTREE): Column ONS_ID\n",
        "\n",
        "Table ge_2024_results - Approx Row Count 0.0M\n",
        "('ONS_ID', 'ONS_region_ID', 'Constituency_name', 'County_name', 'Region_name', 'Country_name', 'Constituency_type', 'Declaration_time', 'Member_first_name', 'Member_surname', 'Member_gender', 'Result', 'First_party', 'Second_party', 'Electorate', 'Valid_votes', 'Invalid_votes', 'Majority', 'Con', 'Lab', 'LD', 'RUK', 'Green', 'SNP', 'PC', 'DUP', 'SF', 'SDLP', 'UUP', 'APNI', 'All_other_candidates', 'Of_which_other_winner', 'db_id')\n",
        "('W07000081', 'W92000004', 'Aberafan Maesteg', '', 'Wales', 'Wales', 'County', '', 'Stephen', 'Kinnock', 'Male', 'Lab hold', 'Lab', 'RUK', 72580, 35755, 79, 10354, 2903, 17838, 916, 7484, 1094, 0, 4719, 0, 0, 0, 0, 0, 801, 0, 1)\n",
        "('E14001063', 'E12000008', 'Aldershot', '', 'South East', 'England', 'Borough', '', 'Alex', 'Baker', 'Female', 'Lab gain from Con', 'Lab', 'Con', 78553, 48544, 179, 5683, 14081, 19764, 4052, 8210, 2155, 0, 0, 0, 0, 0, 0, 0, 282, 0, 6)\n",
        "('E14001064', 'E12000005', 'Aldridge-Brownhills', '', 'West Midlands', 'England', 'Borough', '', 'Wendy', 'Morton', 'Female', 'Con hold', 'Con', 'Lab', 70268, 40912, 156, 4294, 15901, 11607, 1755, 9903, 1746, 0, 0, 0, 0, 0, 0, 0, 0, 0, 7)\n",
        "Indices:\n",
        " - PRIMARY (BTREE): Column db_id\n",
        " - idx_ons_id (BTREE): Column ONS_ID\n",
        " - idx_ons_region_id (BTREE): Column ONS_region_ID\n",
        " - idx_result (BTREE): Column Result\n",
        " - idx_first_party (BTREE): Column First_party\n",
        " - idx_second_party (BTREE): Column Second_party\n",
        "\n",
        "\"\"\""
      ]
    },
    {
      "cell_type": "code",
      "execution_count": 1302,
      "metadata": {},
      "outputs": [],
      "source": [
        "# add_census_feature('osm_and_census_data_2', code, column, name, 'dataForPart2')\n",
        "# add_feature_from_oa_to_pc_data('osm_and_census_data_2', feature)"
      ]
    },
    {
      "cell_type": "code",
      "execution_count": 1283,
      "metadata": {},
      "outputs": [
        {
          "name": "stdout",
          "output_type": "stream",
          "text": [
            "Data successfully exported to dataForPart2/pc_data.csv\n",
            "Data successfully exported to dataForPart2/ge_2024_results.csv\n"
          ]
        }
      ],
      "source": [
        "fynesse.access.db_to_csv(conn, 'pc_data', \"dataForPart2/pc_data.csv\")\n",
        "fynesse.access.db_to_csv(conn, 'ge_2024_results', \"dataForPart2/ge_2024_results.csv\")\n",
        "pc_data = fynesse.access.csv_to_df(\"dataForPart2/pc_data.csv\")\n",
        "ge_2024_results = fynesse.access.csv_to_df(\"dataForPart2/ge_2024_results.csv\")\n",
        "merged_data = pd.merge(pc_data, ge_2024_results, on=\"ONS_ID\")"
      ]
    },
    {
      "cell_type": "code",
      "execution_count": 1310,
      "metadata": {},
      "outputs": [],
      "source": [
        "labels_columns = ['ONS_ID', 'BNG_E', 'BNG_N', 'LAT', 'LON', 'AREA']\n",
        "demographic_columns = [col for col in pc_data.columns if col not in labels_columns]\n",
        "# voting_columns = ['Electorate', 'Valid_votes', 'Invalid_votes', 'Majority', 'Con', 'Lab', 'LD', 'RUK', 'Green', 'PC', 'All_other_candidates', 'Of_which_other_winner']\n",
        "results_columns = ['Con', 'Lab', 'LD', 'RUK', 'Green', 'PC', 'All_other_candidates']"
      ]
    },
    {
      "cell_type": "code",
      "execution_count": 1311,
      "metadata": {},
      "outputs": [
        {
          "name": "stdout",
          "output_type": "stream",
          "text": [
            "['amenity', 'tourism', 'leisure', 'cuisine', 'emergency', 'historic', 'sport', 'shop', 'religion', 'power', 'military', 'house', 'building', 'TS007A_8_Age_20_24', 'TS007A_11_Age_35_39', 'TS007A_14_Age_50_54', 'TS007A_17_Age_65_69', 'TS021_4_Ethnic_Asian', 'TS021_10_Ethnic_Black', 'TS021_19_Ethnic_White', 'TS054_4_Tenure_Own', 'TS054_7_Tenure_ShareOwn', 'TS054_9_Tenure_SocRent', 'TS054_12_Tenure_PrivRent', 'TS066_4_Economic_Act', 'TS066_16_Economic_ActStudent', 'TS066_28_Economic_Inact', 'TS067_4_Qualification_No', 'TS067_5_Qualification_L1', 'TS067_6_Qualification_L2', 'TS004_4_Birth_Europe', 'TS004_5_Birth_UK', 'TS004_13_Birth_Africa', 'TS004_14_Birth_MEandAsia', 'TS037_4_Health_VeryGood', 'TS037_6_Health_Fair', 'TS037_8_Health_VeryBad', 'houses_terraced', 'houses_detached', 'houses_flat', 'houses_semidetached', 'houses_other', 'houses_old', 'houses_new', 'houses_freehold', 'houses_leasehold', 'houses_sum_of_prices', 'houses_total_number', 'houses_average_price']\n"
          ]
        }
      ],
      "source": [
        "print(demographic_columns)"
      ]
    },
    {
      "cell_type": "code",
      "execution_count": 1312,
      "metadata": {},
      "outputs": [],
      "source": [
        "labels_df = pc_data[labels_columns]\n",
        "demographic_data_df = pc_data[demographic_columns]\n",
        "# voting_data_df = ge_2024_results[voting_columns]\n",
        "results_data_df = ge_2024_results[results_columns]"
      ]
    },
    {
      "cell_type": "code",
      "execution_count": null,
      "metadata": {},
      "outputs": [],
      "source": [
        "n_clusters = 5\n",
        "\n",
        "# cluster = fynesse.assess.kmeans_clusters(demographic_data_df, n_clusters)\n",
        "kmeans = KMeans(n_clusters=n_clusters, random_state=0)\n",
        "kmeans.fit(demographic_data_df)\n",
        "demographic_clusters = kmeans.labels_\n",
        "\n",
        "print(\"Demographics - Cluster sizes: \")\n",
        "print(Counter(demographic_clusters))\n",
        "\n",
        "print(\"Demographics - Census centroids: \")\n",
        "print(kmeans.cluster_centers_)\n",
        "\n",
        "tree = DecisionTreeClassifier(max_depth=3, random_state=42)\n",
        "tree.fit(demographic_data_df, demographic_clusters)\n",
        "tree_rules = export_text(tree, feature_names=demographic_columns)\n",
        "\n",
        "print(\"Demographics - Decision tree rules for clusters: \")\n",
        "print(tree_rules)\n",
        "\n",
        "# cluster = fynesse.assess.kmeans_clusters(results_data_df, n_clusters)\n",
        "kmeans = KMeans(n_clusters=n_clusters, random_state=0)\n",
        "kmeans.fit(results_data_df)\n",
        "results_clusters = kmeans.labels_\n",
        "\n",
        "print(\"Results - Cluster sizes: \")\n",
        "print(Counter(results_clusters))\n",
        "\n",
        "print(\"Results - Census centroids: \")\n",
        "print(kmeans.cluster_centers_)\n",
        "\n",
        "tree = DecisionTreeClassifier(max_depth=3, random_state=42)\n",
        "tree.fit(results_data_df, results_clusters)\n",
        "tree_rules = export_text(tree, feature_names=results_columns)\n",
        "\n",
        "print(\"Results - Decision tree rules for clusters: \")\n",
        "print()\n",
        "\n",
        "plot_correlation_between_dataframes(demographic_data_df, results_data_df)"
      ]
    },
    {
      "cell_type": "code",
      "execution_count": null,
      "metadata": {},
      "outputs": [],
      "source": [
        "df = labels_df.copy()\n",
        "df['clustersDemo'] = demographic_clusters\n",
        "df['clustersResu'] = results_clusters\n",
        "grid = df.groupby(['clustersDemo', 'clustersResu']).size().reset_index(name='count').pivot_table(index='clustersDemo', columns='clustersResu', values='count', aggfunc='sum', fill_value=0)\n",
        "plot_cluster_matrix(grid, \"Results clusters\", \"Demographics clusters\")"
      ]
    },
    {
      "cell_type": "code",
      "execution_count": null,
      "metadata": {},
      "outputs": [],
      "source": [
        "uk_boundary_coords = get_ew_boundary_polygon()\n",
        "uk_boundary_latitudes = [coord[1] for coord in uk_boundary_coords]\n",
        "uk_boundary_longitudes = [coord[0] for coord in uk_boundary_coords]\n",
        "\n",
        "fig, axes = plt.subplots(1, 2, figsize=(16, 10), sharex=True, sharey=True)\n",
        "\n",
        "axes[0].plot(uk_boundary_longitudes, uk_boundary_latitudes, color='black', lw=2)\n",
        "for cluster in range(n_clusters):\n",
        "    subset = labels_df.loc[np.where(results_clusters == cluster)[0]]\n",
        "    axes[0].scatter(subset['LON'], subset['LAT'], label=f'Cluster {cluster}', s=10)\n",
        "axes[0].set_title('Result clusters')\n",
        "axes[0].set_xlabel('Longitude')\n",
        "axes[0].set_ylabel('Latitude')\n",
        "axes[0].legend()\n",
        "\n",
        "axes[1].plot(uk_boundary_longitudes, uk_boundary_latitudes, color='black', lw=2)\n",
        "for cluster in range(n_clusters):\n",
        "    subset = labels_df.loc[np.where(demographic_clusters == cluster)[0]]\n",
        "    axes[1].scatter(subset['LON'], subset['LAT'], label=f'Cluster {cluster}', s=10)\n",
        "axes[1].set_title('Demographic clusters')\n",
        "axes[1].set_xlabel('Longitude')\n",
        "axes[1].set_ylabel('Latitude')\n",
        "axes[1].legend()\n",
        "\n",
        "plt.tight_layout()\n",
        "plt.show()"
      ]
    },
    {
      "cell_type": "code",
      "execution_count": null,
      "metadata": {},
      "outputs": [],
      "source": [
        "for result in results_columns:\n",
        "    x = demographic_data_df.copy()\n",
        "    y = results_data_df[result].copy()\n",
        "    print(f\"Result for {result}\")\n",
        "    cross_validation(x, y, 5)"
      ]
    },
    {
      "cell_type": "code",
      "execution_count": null,
      "metadata": {},
      "outputs": [],
      "source": [
        "# Scale the data\n",
        "scaler = StandardScaler()\n",
        "demographic_data_scaled = scaler.fit_transform(merged_data[demographic_columns])\n",
        "\n",
        "# Applying KMeans clustering\n",
        "n_clusters = 5\n",
        "kmeans = KMeans(n_clusters=n_clusters, random_state=42)\n",
        "merged_data['demographic_cluster'] = kmeans.fit_predict(demographic_data_scaled)\n",
        "\n",
        "# Analysing clusters, using PCA to reduce the dimensionality to 2D for visualization\n",
        "# TODO - change (add) visualisation type?\n",
        "pca = PCA(n_components=2)\n",
        "pca_components = pca.fit_transform(demographic_data_scaled)\n",
        "merged_data['pca1'] = pca_components[:, 0]\n",
        "merged_data['pca2'] = pca_components[:, 1]\n",
        "\n",
        "# PCA loadings\n",
        "loadings = pca.components_\n",
        "loadings_df = pd.DataFrame(\n",
        "    loadings.T,\n",
        "    columns=['PC1', 'PC2'],\n",
        "    index=demographic_columns\n",
        ")\n",
        "print(loadings_df)\n",
        "\n",
        "# Plotting clusters in 2D space using PCA components\n",
        "plt.figure(figsize=(10, 8))\n",
        "sns.scatterplot(x='pca1', y='pca2', hue='demographic_cluster', palette='Set2', data=merged_data, s=100, alpha=0.7)\n",
        "plt.title(\"Clustered Regions Based on Demographics\")\n",
        "plt.show()\n",
        "\n",
        "# Comparing clusters with voting patterns - group by clusters and calculate the average voting distribution\n",
        "cluster_voting_pattern = merged_data.groupby('demographic_cluster')[results_columns].mean()\n",
        "print(cluster_voting_pattern)\n",
        "\n",
        "# Fine-tuning the clustering. Elbow Method, Silhouette Score, Davies-Bouldin index may be useful\n",
        "elbow_method(demographic_data_scaled)"
      ]
    },
    {
      "cell_type": "code",
      "execution_count": null,
      "metadata": {},
      "outputs": [],
      "source": [
        "# Selecting features (X) and target variable (Y)\n",
        "X = merged_data[demographic_columns]\n",
        "y = merged_data['Lab']\n",
        "\n",
        "# Normalising the features\n",
        "X_scaled = StandardScaler().fit_transform(X)\n",
        "\n",
        "# Correlation analysis - calculating correlation between demographic features and voting outcomes\n",
        "correlation_df = pd.DataFrame()\n",
        "for col in results_columns:\n",
        "    correlation_df[col] = merged_data[demographic_columns].corrwith(merged_data[col])\n",
        "print(\"Correlation of demographic profiles with voting outcomes:\")\n",
        "print(correlation_df)\n",
        "\n",
        "# Feature importance using random forest - training a Random Forest Classifier to predict the voting result\n",
        "X_train, X_test, y_train, y_test = train_test_split(X_scaled, y, test_size=0.3, random_state=42)\n",
        "\n",
        "rf_model = RandomForestClassifier(random_state=42)\n",
        "rf_model.fit(X_train, y_train)\n",
        "\n",
        "feature_importances = pd.DataFrame({\n",
        "    'Feature': demographic_columns,\n",
        "    'Importance': rf_model.feature_importances_\n",
        "}).sort_values(by='Importance', ascending=False)\n",
        "\n",
        "print(\"Top Demographic Features Predicting Voting Patterns:\")\n",
        "print(feature_importances.head(10))\n",
        "\n",
        "# Evaluating the model\n",
        "y_pred = rf_model.predict(X_test)\n",
        "print(\"Model Performance on Test Data:\")\n",
        "# print(classification_report(y_test, y_pred))\n",
        "# print(\"Accuracy:\", accuracy_score(y_test, y_pred))\n",
        "print(\"Correlation: \", np.corrcoef(y_test, y_pred)[0][1])"
      ]
    },
    {
      "cell_type": "code",
      "execution_count": null,
      "metadata": {},
      "outputs": [],
      "source": [
        "# Detecting anomalies in voting results\n",
        "# predicting voting results based on demographic features\n",
        "merged_data['Predicted_Result'] = rf_model.predict(X_scaled)\n",
        "\n",
        "# comparing actual vs predicted results\n",
        "merged_data['Anomaly_Score'] = np.abs(merged_data['Predicted_Result'] - merged_data['Lab'])\n",
        "\n",
        "# using Z-scores to identify anomalies\n",
        "merged_data['Anomaly_ZScore'] = zscore(merged_data['Anomaly_Score'])\n",
        "\n",
        "# setting a threshold for anomalies (e.g., Z-score > 2 is an anomaly)\n",
        "anomaly_threshold = 2\n",
        "anomalies = merged_data[merged_data['Anomaly_ZScore'] > anomaly_threshold]\n",
        "\n",
        "print(\"Detected Anomalous Areas in Voting Results:\")\n",
        "print(anomalies[['ONS_ID', 'Constituency_name', 'Lab', 'Predicted_Result', 'Anomaly_ZScore']])\n",
        "\n",
        "# visualising the anomalies\n",
        "plt.figure(figsize=(10, 8))\n",
        "sns.scatterplot(\n",
        "    x=merged_data['pca1'], y=merged_data['pca2'], hue=(merged_data['Anomaly_ZScore'] > anomaly_threshold),\n",
        "    palette={True: 'red', False: 'blue'}, legend='full', alpha=0.7\n",
        ")\n",
        "plt.title(\"Visualization of Anomalies in Voting Results\")\n",
        "plt.xlabel(\"PCA Component 1\")\n",
        "plt.ylabel(\"PCA Component 2\")\n",
        "plt.legend(title=\"Anomaly\", loc='upper right', labels=[\"Normal\", \"Anomaly\"])\n",
        "plt.show()"
      ]
    },
    {
      "cell_type": "markdown",
      "metadata": {},
      "source": [
        "### Summary"
      ]
    },
    {
      "cell_type": "code",
      "execution_count": null,
      "metadata": {},
      "outputs": [],
      "source": [
        "fynesse.assess.get_summary_on_db(conn)"
      ]
    },
    {
      "cell_type": "markdown",
      "metadata": {},
      "source": [
        "## Address"
      ]
    },
    {
      "cell_type": "code",
      "execution_count": null,
      "metadata": {},
      "outputs": [],
      "source": [
        "conn = fynesse.access.create_connection()"
      ]
    },
    {
      "cell_type": "markdown",
      "metadata": {},
      "source": [
        "### TOCOMPLETE - Building a model to predict voting outcomes"
      ]
    },
    {
      "cell_type": "code",
      "execution_count": 1314,
      "metadata": {},
      "outputs": [
        {
          "name": "stdout",
          "output_type": "stream",
          "text": [
            "Model Performance on Test Data:\n",
            "Correlation:  0.2919891332668475\n"
          ]
        }
      ],
      "source": [
        "X = merged_data[demographic_columns]\n",
        "y = merged_data['Lab']\n",
        "X_scaled = StandardScaler().fit_transform(X)\n",
        "\n",
        "X_train, X_test, y_train, y_test = train_test_split(X_scaled, y, test_size=0.3, random_state=42)\n",
        "rf_model = RandomForestClassifier(random_state=42)\n",
        "rf_model.fit(X_train, y_train)\n",
        "\n",
        "y_pred = rf_model.predict(X_test)\n",
        "print(\"Model Performance on Test Data:\")\n",
        "# print(classification_report(y_test, y_pred))\n",
        "# print(\"Accuracy:\", accuracy_score(y_test, y_pred))\n",
        "print(\"Correlation: \", np.corrcoef(y_test, y_pred)[0][1])"
      ]
    },
    {
      "cell_type": "markdown",
      "metadata": {},
      "source": [
        "### Summary"
      ]
    },
    {
      "cell_type": "code",
      "execution_count": null,
      "metadata": {},
      "outputs": [],
      "source": [
        "fynesse.assess.get_summary_on_db(conn)"
      ]
    },
    {
      "cell_type": "markdown",
      "metadata": {},
      "source": [
        "## Discussion"
      ]
    },
    {
      "cell_type": "markdown",
      "metadata": {
        "id": "jjIIXwV2HYFT"
      },
      "source": [
        "## Conclusions"
      ]
    },
    {
      "cell_type": "markdown",
      "metadata": {},
      "source": [
        "The below code is for marking purpuses only, and not part of your project. It helps us gather the data we need without asking you for database credentials, and scouring github pages. This is mandatory. If the code does not work for you, let us know immediately."
      ]
    },
    {
      "cell_type": "markdown",
      "metadata": {
        "id": "9ccS8vrjHbh3"
      },
      "source": [
        "1) Please re-run the code from Practical 1 to help us see the contents of your database. We recommend you include all data sources there, but some smaller inputs are fine to use as files."
      ]
    },
    {
      "cell_type": "markdown",
      "metadata": {},
      "source": [
        "<div style=\"font-size: 12px;\">\n",
        "\n",
        "```python\n",
        "tables = %sql SHOW TABLES;\n",
        "\n",
        "for row in tables:\n",
        "    table_name = row[0]\n",
        "    print(f\"\\nTable: {table_name}\")\n",
        "\n",
        "    table_status = %sql SHOW TABLE STATUS LIKE '{table_name}';\n",
        "    approx_row_count = table_status[0][4] if table_status else 'Unable to fetch row count'\n",
        "    print(\"\\nApprox Row Count:\", approx_row_count//100000/10, \"M\")\n",
        "\n",
        "    first_5_rows = %sql SELECT * FROM `{table_name}` LIMIT 5;\n",
        "    print(first_5_rows)\n",
        "\n",
        "    indices = %sql SHOW INDEX FROM `{table_name}`;\n",
        "    if indices:\n",
        "        print(\"\\nIndices:\")\n",
        "        for index in indices:\n",
        "            print(f\" - {index[2]} ({index[10]}): Column {index[4]}\")\n",
        "    else:\n",
        "        print(\"\\nNo indices set on this table.\")"
      ]
    },
    {
      "cell_type": "markdown",
      "metadata": {},
      "source": [
        "Unfortunately I can't run the code above, so I'll display same output using different method."
      ]
    },
    {
      "cell_type": "code",
      "execution_count": 233,
      "metadata": {},
      "outputs": [],
      "source": [
        "import yaml\n",
        "import pymysql\n",
        "\n",
        "with open(\"credentials.yaml\") as file:\n",
        "    credentials = yaml.safe_load(file)\n",
        "\n",
        "conn = pymysql.connect(\n",
        "    user=credentials[\"username\"],\n",
        "    passwd=credentials[\"password\"],\n",
        "    host=credentials[\"url\"],\n",
        "    port=(int)(credentials[\"port\"]),\n",
        "    local_infile=1,\n",
        "    db=\"ads_2024\"\n",
        ")"
      ]
    },
    {
      "cell_type": "code",
      "execution_count": 234,
      "metadata": {},
      "outputs": [],
      "source": [
        "def ex_query(conn, query):\n",
        "    \n",
        "    cur = conn.cursor()\n",
        "    cur.execute(query)\n",
        "    rows = cur.fetchall()\n",
        "\n",
        "    conn.commit()\n",
        "    return rows"
      ]
    },
    {
      "cell_type": "code",
      "execution_count": 560,
      "metadata": {},
      "outputs": [
        {
          "name": "stdout",
          "output_type": "stream",
          "text": [
            "\n",
            "Table: census_data_1\n",
            "\n",
            "Approx Row Count: 0.1 M\n",
            "((2021, 'E00000001', 'E00000001', 159, 80, 38, 13, 9, 3, 5, 5, 4, 2, 1, 175, 154, 0, 9, 12, 229, 26, 6, 73, 0, 3, 3, 45, 19, 1, 0, 8, 653, 0, 0, 0, 0, 0, 0, 0, 0, 0, 0, 0, 0, 0, 0.012578616, 0.068571428), (2021, 'E00000003', 'E00000003', 222, 96, 58, 8, 26, 2, 5, 2, 5, 20, 2, 252, 228, 6, 13, 5, 212, 23, 6, 67, 0, 4, 3, 40, 18, 1, 0, 8, 617, 0, 0, 0, 0, 0, 0, 0, 0, 0, 0, 0, 0, 0, 0.09009009, 0.019841269), (2021, 'E00000005', 'E00000005', 103, 37, 28, 8, 21, 0, 3, 1, 1, 4, 3, 113, 99, 0, 12, 2, 217, 24, 6, 68, 0, 4, 3, 41, 21, 1, 0, 8, 623, 1, 0, 0, 1, 0, 0, 0, 0, 0, 0, 0, 0, 1, 0.038834951, 0.017699115), (2021, 'E00000007', 'E00000007', 140, 62, 39, 5, 11, 3, 3, 1, 6, 10, 4, 146, 93, 5, 41, 7, 253, 29, 6, 79, 0, 6, 3, 45, 26, 1, 0, 8, 704, 3, 0, 0, 0, 0, 2, 0, 0, 0, 0, 0, 0, 9, 0.071428571, 0.047945205), (2021, 'E00000010', 'E00000010', 170, 34, 45, 17, 27, 7, 10, 14, 11, 5, 5, 178, 153, 0, 19, 6, 181, 15, 6, 60, 0, 3, 3, 42, 11, 1, 0, 8, 584, 0, 0, 0, 0, 0, 0, 0, 0, 0, 0, 0, 0, 0, 0.029411764, 0.033707865))\n",
            "\n",
            "Indices:\n",
            " - idx_geography (BTREE): Column geography\n",
            " - idx_geography_code (BTREE): Column geography_code\n",
            "\n",
            "Table: oa_data\n",
            "\n",
            "Approx Row Count: 0.1 M\n",
            "((1, 'E00000001', 'E01000001', 'City of London 001A', ' ', 532250, 181864, 51.5202, -0.09523, 6949.15, 421.166, '3a44dd3d-5082-4a09-9b9c-3a5fadc811ed\\r', 1, 'POLYGON ((532303.4919999996 181814.1099999994, 532213.3779999996 181846.1919999998, 532194.8990000002 181874.26300000027, 532162.9718000004 181864.00879999995, 532162.4910000004 181867.76300000027, 532248.3943999996 181895.3501999993, 532282.6299999999 181906.49599999934, 532308.875 181914.79700000025, 532303.4919999996 181814.1099999994))', b'\\x00\\x00\\x00\\x00\\x01\\x03\\x00\\x00\\x00\\x01\\x00\\x00\\x00\\t\\x00\\x00\\x00\\x88l\\xe7\\xfb\\x9e> A\\x00\\xaeG\\xe1\\xb01\\x06AH7\\x89\\xc1\\xea= A\\xc0K7\\x89\\xb12\\x06A`\\xbaI\\xcc\\xc5= A\\x80\\xbe\\x9f\\x1a\\x923\\x06A\\x08\\xc5\\x8f\\xf1\\x85= A\\x00\\xbc\\x05\\x12@3\\x06A Zd\\xfb\\x84= A\\x80\\xbe\\x9f\\x1a^3\\x06A\\xf8\\xcb\\xee\\xc90> A@\\xa85\\xcd:4\\x06A(\\\\\\x8fBu> A\\x00\\xd9\\xce\\xf7\\x934\\x06A\\x00\\x00\\x00\\xc0\\xa9> A@\\x89A`\\xd64\\x06A\\x88l\\xe7\\xfb\\x9e> A\\x00\\xaeG\\xe1\\xb01\\x06A'), (2, 'E00000003', 'E01000001', 'City of London 001A', ' ', 532171, 181819, 51.5198, -0.09638, 4492.41, 307.715, 'f1216dc8-14d1-4857-9230-cab0641758fb\\r', 2, 'POLYGON ((532213.3779999996 181846.1919999998, 532190.5392000005 181796.06120000035, 532180.131 181763.01999999955, 532155.909 181805.6799999997, 532127.2989999996 181800.62399999984, 532162.9718000004 181864.00879999995, 532194.8990000002 181874.26300000027, 532213.3779999996 181846.1919999998))', b'\\x00\\x00\\x00\\x00\\x01\\x03\\x00\\x00\\x00\\x01\\x00\\x00\\x00\\x08\\x00\\x00\\x00H7\\x89\\xc1\\xea= A\\xc0K7\\x89\\xb12\\x06A\\xc0\\x05\\x12\\x14\\xbd= A\\x00mV} 1\\x06A\\x98n\\x12C\\xa8= A\\x80\\xc2\\xf5(\\x180\\x06A\\xb0rh\\xd1w= A\\x00\\xd7\\xa3pm1\\x06A(\\x87\\x16\\x99>= A@\\xb6\\xf3\\xfdD1\\x06A\\x08\\xc5\\x8f\\xf1\\x85= A\\x00\\xbc\\x05\\x12@3\\x06A`\\xbaI\\xcc\\xc5= A\\x80\\xbe\\x9f\\x1a\\x923\\x06AH7\\x89\\xc1\\xea= A\\xc0K7\\x89\\xb12\\x06A'), (3, 'E00000005', 'E01000001', 'City of London 001A', ' ', 532166, 181722, 51.519, -0.09649, 8565.51, 385.205, '44d6f70f-549c-4288-9b6d-de2adbf02582\\r', 3, 'POLYGON ((532180.131 181763.01999999955, 532219.1610000003 181703.9389999993, 532201.2920000004 181668.1799999997, 532124.3210000005 181682.67500000075, 532127.2989999996 181800.62399999984, 532155.909 181805.6799999997, 532180.131 181763.01999999955))', b'\\x00\\x00\\x00\\x00\\x01\\x03\\x00\\x00\\x00\\x01\\x00\\x00\\x00\\x07\\x00\\x00\\x00\\x98n\\x12C\\xa8= A\\x80\\xc2\\xf5(\\x180\\x06A\\x90\\x97nR\\xf6= A\\x80n\\x12\\x83?.\\x06A(\\x06\\x81\\x95\\xd2= A\\x00\\xd7\\xa3p!-\\x06A\\xb0\\x1cZ\\xa48= A\\x80fff\\x95-\\x06A(\\x87\\x16\\x99>= A@\\xb6\\xf3\\xfdD1\\x06A\\xb0rh\\xd1w= A\\x00\\xd7\\xa3pm1\\x06A\\x98n\\x12C\\xa8= A\\x80\\xc2\\xf5(\\x180\\x06A'), (4, 'E00000007', 'E01000001', 'City of London 001A', ' ', 532088, 181473, 51.5167, -0.09771, 75994.8, 1408.61, '4dd683e1-9a5c-46cf-9e19-8465c8fbb6cb\\r', 4, 'POLYGON ((532201.2920000004 181668.1799999997, 532267.7280000001 181643.7809999995, 532213.0640000002 181477.20299999975, 532282.25 181460.5, 532248.2489999998 181332.0360000003, 532227.6880000001 181278.875, 532173.125 181263.45299999975, 532074.375 181338.29700000025, 532080.25 181456.75, 531948.3130000001 181471.9690000005, 531951.875 181548, 531985.6409999998 181583.3010000009, 532052.5 181600.39100000076, 532064.375 181561.5940000005, 532095.5702 181577.3063999992, 532133 181614, 532124.3210000005 181682.67500000075, 532201.2920000004 181668.1799999997))', b'\\x00\\x00\\x00\\x00\\x01\\x03\\x00\\x00\\x00\\x01\\x00\\x00\\x00\\x12\\x00\\x00\\x00(\\x06\\x81\\x95\\xd2= A\\x00\\xd7\\xa3p!-\\x06A\\x80j\\xbctW> A\\x80\\xed|?^,\\x06A\\xa8\\x9b\\xc4 \\xea= A\\xc0v\\xbe\\x9f)\\'\\x06A\\x00\\x00\\x00\\x80t> A\\x00\\x00\\x00\\x00\\xa4&\\x06A\\x90\\xed|\\x7f0> A@^\\xbaI\\xa0\"\\x06A8\\x89A`\\x07> A\\x00\\x00\\x00\\x00\\xf7 \\x06A\\x00\\x00\\x00@\\x9a= A\\xc0v\\xbe\\x9f{ \\x06A\\x00\\x00\\x00\\xc0\\xd4< A@\\x89A`\\xd2\"\\x06A\\x00\\x00\\x00\\x80\\xe0< A\\x00\\x00\\x00\\x00\\x86&\\x06A8\\x89A\\xa0\\xd8; A\\x80\\x12\\x83\\xc0\\xff&\\x06A\\x00\\x00\\x00\\xc0\\xdf; A\\x00\\x00\\x00\\x00`)\\x06A\\xe8&1H#< A@\\xb0rhz*\\x06A\\x00\\x00\\x00\\x00\\xa9< A\\xc0\\x9b\\xc4 \\x03+\\x06A\\x00\\x00\\x00\\xc0\\xc0< A\\x80\\x12\\x83\\xc0\\xcc)\\x06A A\\xf1#\\xff< A\\xc0\\xd7\\x81sJ*\\x06A\\x00\\x00\\x00\\x00J= A\\x00\\x00\\x00\\x00p+\\x06A\\xb0\\x1cZ\\xa48= A\\x80fff\\x95-\\x06A(\\x06\\x81\\x95\\xd2= A\\x00\\xd7\\xa3p!-\\x06A'), (5, 'E00000010', 'E01000003', 'City of London 001C', ' ', 532092, 182114, 51.5225, -0.09741, 2102.88, 215.272, '7476781f-8fe4-4c9b-bde1-0eecbd146dff\\r', 5, 'POLYGON ((532127.9579999996 182133.1919999998, 532089.2640000004 182076.9849999994, 532071.3020000001 182159.5859999992, 532127.9579999996 182133.1919999998))', b'\\x00\\x00\\x00\\x00\\x01\\x03\\x00\\x00\\x00\\x01\\x00\\x00\\x00\\x04\\x00\\x00\\x00\\xd8\\xf9~\\xea?= A\\xc0K7\\x89\\xa9;\\x06A\\x10\\x02+\\x87\\xf2< A\\x00\\xaeG\\xe1\\xe79\\x06Ax\\xbe\\x9f\\x9a\\xce< A\\x80\\xc4 \\xb0|<\\x06A\\xd8\\xf9~\\xea?= A\\xc0K7\\x89\\xa9;\\x06A'))\n",
            "\n",
            "Indices:\n",
            " - PRIMARY (BTREE): Column FID\n",
            " - idx_oa (BTREE): Column OA21CD\n",
            " - idx_lsoa (BTREE): Column LSOA21CD\n",
            " - idx_lat_lon_btree (BTREE): Column LAT\n",
            " - idx_lat_lon_btree (BTREE): Column LON\n",
            " - geometry (SPATIAL): Column geometry\n",
            "\n",
            "Table: osm_data\n",
            "\n",
            "Approx Row Count: 2.3 M\n",
            "(('way', 72499117, 'POLYGON ((-6.3134352 49.9146669, -6.3134663 49.9147353, -6.3134061 49.9147467, -6.3134095 49.9147542, -6.3131503 49.9148031, -6.3131469 49.9147957, -6.3130936 49.9148057, -6.3130624 49.9147373, -6.3134352 49.9146669))', '', '[860681919, 860681920, 9169387085, 9169387084, 9169387083, 9169387086, 860681921, 860681922, 860681919]', '', '', 'TR21 0JT', 'Church Street', '', 'Hugh Town', '', '', 'Isles of Scilly Museum', '', '', '', '', '', '', '', 'museum', '', '', '', '', '', '', '', '', '', '', '', 'yes', '', '', '', '', '', '', '', '', '', 1, 'POLYGON ((90458.76146576129 10530.59510146096, 90456.96838425193 10538.325346537269, 90461.36151221936 10539.34294224321, 90461.1656261129 10540.190514922826, 90480.0796803821 10544.551471966843, 90480.27621043124 10543.71501331353, 90484.16519925534 10544.605615865905, 90485.96549134556 10536.874967216398, 90458.76146576129 10530.59510146096))', b\"\\x00\\x00\\x00\\x00\\x01\\x03\\x00\\x00\\x00\\x01\\x00\\x00\\x00\\t\\x00\\x00\\x00\\xdc\\xb8\\xf6.\\xac\\x15\\xf6@P\\xe0H,L\\x91\\xc4@@|\\x80~\\x8f\\x15\\xf6@\\xb8\\x90\\xf4\\xa4)\\x95\\xc4@t\\t\\xc1\\xc8\\xd5\\x15\\xf6@\\x80\\x0b\\x88\\xe5\\xab\\x95\\xc4@$\\x91g\\xa6\\xd2\\x15\\xf6@x\\x01\\xcbb\\x18\\x96\\xc4@\\xb4\\xef^F\\x01\\x17\\xf6@ '\\xa2\\x96F\\x98\\xc4@\\x10\\xa1[k\\x04\\x17\\xf6@\\xe8f\\x8e\\x85\\xdb\\x97\\xc4@p\\xf9\\xa7\\xa4B\\x17\\xf6@\\x00\\x19\\xd2\\x84M\\x98\\xc4@\\x9c\\r\\xa7r_\\x17\\xf6@\\xc0\\xfd\\xec\\xfeo\\x94\\xc4@\\xdc\\xb8\\xf6.\\xac\\x15\\xf6@P\\xe0H,L\\x91\\xc4@\", 'E00096405'), ('way', 112445611, 'POLYGON ((-6.3084596 49.9166407, -6.308579 49.916719, -6.3085171 49.9167581, -6.3084892 49.9167398, -6.3085024 49.9167315, -6.3084109 49.9166715, -6.3084596 49.9166407))', '', '[9170680719, 1277992838, 9170680715, 9170680714, 9170680716, 1277992862, 9170680719]', '', '', 'TR21 0JY', '', '', 'Portmellon', '', '', 'The Sailing Centre', '', '', '', '', '', '', '', '', '', 'boathouse', '', '', '', 'sailing', '', '', '', '', '', 'yes', '', '', '', '', '', '', '', '', '', 2, 'POLYGON ((90828.4609464347 10729.354209220925, 90820.39463746297 10738.549788717108, 90825.08695750969 10742.639007787584, 90826.97177186015 10740.489873598155, 90825.97139167401 10739.62207760218, 90832.15288637078 10732.575638220165, 90828.4609464347 10729.354209220925))', b'\\x00\\x00\\x00\\x00\\x01\\x03\\x00\\x00\\x00\\x01\\x00\\x00\\x00\\x07\\x00\\x00\\x00d^\\t`\\xc7,\\xf6@\\xe8M\\xbaV\\xad\\xf4\\xc4@T_oPF,\\xf6@\\xd8\\x07z_F\\xf9\\xc4@\\xc4\\x8e-d\\x91,\\xf6@\\xc8\\xd6\\x01\\xcbQ\\xfb\\xc4@h\\xa6`\\x8c\\xaf,\\xf6@\\xa0\\x95-\\xb4>\\xfa\\xc4@\\xf8\\xfe\\xd1\\x8a\\x9f,\\xf6@x&=\\xa0\\xcf\\xf9\\xc4@\\xa8\\xfa8r\\x02-\\xf6@\\xf8`\\x83\\xaeI\\xf6\\xc4@d^\\t`\\xc7,\\xf6@\\xe8M\\xbaV\\xad\\xf4\\xc4@', 'E00096404'), ('way', 112445629, 'POLYGON ((-6.3087257 49.9166066, -6.3085551 49.916498, -6.3086358 49.9164671, -6.3087896 49.9165649, -6.3087257 49.9166066))', '', '[1277992753, 9170680721, 1277992733, 1277992688, 1277992753]', '', '', 'TR21 0JY', '', '', 'Portmellon', '', '', 'The Beach', '', '', '', '', '', '', 'restaurant', '', '', '', '', '', '', '', '', '', '', '', '', 'yes', '', '', '', '', '', '', '', '', '', 3, 'POLYGON ((90809.14760272152 10726.665366668487, 90820.69383186748 10713.890660483463, 90814.70495984284 10710.790500333693, 90804.2950828856 10722.295490033372, 90809.14760272152 10726.665366668487))', b'\\x00\\x00\\x00\\x00\\x01\\x03\\x00\\x00\\x00\\x01\\x00\\x00\\x00\\x05\\x00\\x00\\x00\\xdc\\xab\\x94\\\\\\x92+\\xf6@\\x80(\\xbc*U\\xf3\\xc4@\\xbcq\\xef\\x19K,\\xf6@(\\xa8)\\x01\\xf2\\xec\\xc4@\\xe0\\xf8\\x83G\\xeb+\\xf6@Xl\\x1d/e\\xeb\\xc4@\\xf4\\xd4\\xa8\\xb8D+\\xf6@\\xd0\\x0e\\x9e\\xd2%\\xf1\\xc4@\\xdc\\xab\\x94\\\\\\x92+\\xf6@\\x80(\\xbc*U\\xf3\\xc4@', 'E00096404'), ('way', 112445634, 'POLYGON ((-6.3032099 49.9119639, -6.3031428 49.9119763, -6.3030931 49.9118651, -6.3031602 49.9118527, -6.3032099 49.9119639))', '', '[1277992657, 1277992866, 1277992847, 1277992603, 1277992657]', '', '', 'TR21 0NH', '', '', 'Old Town', 'Nowhere', '', 'Island Sea Safaris', '', '', '', '', '', '', '', '', '', 'sports_centre', '', '', '', '', '', '', '', '', '', 'yes', '', '', '', '', '', '', '', '', '', 4, 'POLYGON ((91175.24716721615 10187.907201333248, 91180.14195524645 10189.008014694133, 91182.997248834 10176.444742898515, 91178.10245067417 10175.343926509915, 91175.24716721615 10187.907201333248))', b'\\x00\\x00\\x00\\x00\\x01\\x03\\x00\\x00\\x00\\x01\\x00\\x00\\x00\\x05\\x00\\x00\\x00`\\x9ce\\xf4sB\\xf6@\\x98\\\\,\\x1f\\xf4\\xe5\\xc3@P\\xddrE\\xc2B\\xf6@\\x98 \\xa0\\x06\\x81\\xe6\\xc3@\\x801\\xbb\\xf4\\xefB\\xf6@ \\xd6U\\xed8\\xe0\\xc3@pQ\\xa3\\xa3\\xa1B\\xf6@(\\xac\\xc8\\x05\\xac\\xdf\\xc3@`\\x9ce\\xf4sB\\xf6@\\x98\\\\,\\x1f\\xf4\\xe5\\xc3@', 'E00096406'), ('way', 232574846, 'POLYGON ((-6.3111548 49.9164108, -6.3112935 49.9164135, -6.311294 49.9164032, -6.3113067 49.9164034, -6.3113082 49.9163699, -6.3113173 49.91637, -6.3113191 49.9163326, -6.3113086 49.9163324, -6.3113105 49.9162915, -6.3113015 49.9162913, -6.3113021 49.9162795, -6.3111672 49.9162769, -6.311166 49.9163023, -6.3111187 49.9163014, -6.3111205 49.9162634, -6.3110426 49.9162619, -6.3110409 49.9162994, -6.3110344 49.9162993, -6.3110304 49.9163869, -6.3111558 49.9163893, -6.3111548 49.9164108))', '', '[2409193065, 380751771, 9169387749, 9169387747, 9169387745, 9169387744, 9169387746, 9169387748, 2409193066, 9169387743, 9169387742, 2409193067, 2409193068, 2411435643, 2411435642, 2409193069, 9169387741, 9169387740, 2409193070, 2409193071, 2409193065]', '', '', 'TR21 0PT', 'Strand', '', '', '', '', 'Mincarlo Guest House', '', '', '', '', '', '', '', 'guest_house', '', '', '', '', '', '', '', '', '', '', '', 'yes', '', '', '', '', '', '', '', '', '', 5, 'POLYGON ((90633.58438426221 10714.957234167377, 90623.64877930598 10715.831402154698, 90623.54687172378 10714.688808731938, 90622.63681989204 10714.763604308377, 90622.3144291453 10711.04688000385, 90621.66206669179 10711.095660982333, 90621.29314671812 10706.946762399355, 90622.04533078236 10706.881073130528, 90621.6467986026 10702.343625295049, 90622.29134519829 10702.284145055135, 90622.17264587356 10700.975267077287, 90631.83623623307 10700.127939570171, 90632.0851686935 10702.94573397185, 90635.47358744347 10702.649933059089, 90635.10083245201 10698.434354567842, 90640.68122699088 10697.945220737412, 90641.04359663214 10702.105647171746, 90641.50938741025 10702.067630116653, 90642.35794847005 10711.786267176634, 90633.37480407592 10712.572028013354, 90633.58438426221 10714.957234167377))', b'\\x00\\x00\\x00\\x00\\x01\\x03\\x00\\x00\\x00\\x01\\x00\\x00\\x00\\x15\\x00\\x00\\x00\\xe8O\\xa3Y\\x99 \\xf6@\\xc01\\xa6\\x86z\\xed\\xc4@\\xd8hfa\\xfa\\x1f\\xf6@ \\xc4bk\\xea\\xed\\xc4@\\x8c\\x90\\xfc\\xbf\\xf8\\x1f\\xf6@pp\\xe2*X\\xed\\xc4@\\x1c\\x0ej0\\xea\\x1f\\xf6@\\xc85\\xc9\\xbda\\xed\\xc4@\\x00\\xdb\\xe6\\x07\\xe5\\x1f\\xf6@\\xb0\\xf9)\\x00\\x86\\xeb\\xc4@P>\\xd3\\x97\\xda\\x1f\\xf6@P{\\x9e>\\x8c\\xeb\\xc4@\\xf4\\x9c\\xba\\xb0\\xd4\\x1f\\xf6@(\\xa3\\x82/y\\xe9\\xc4@<\\xc5\\xac\\xb9\\xe0\\x1f\\xf6@\\x80\\x1c\\x01\\xc7p\\xe9\\xc4@\\xd4}IY\\xda\\x1f\\xf6@(\\xe6\\xe9\\xfb+\\xe7\\xc4@(\\x95Y\\xa9\\xe4\\x1f\\xf6@\\x90{\\xdd^$\\xe7\\xc4@\\xccQ(\\xc3\\xe2\\x1f\\xf6@\\xe84\\x8d\\xd5|\\xe6\\xc4@\\x8c>9a} \\xf6@\\xe0\\xe6R`\\x10\\xe6\\xc4@\\x14\\xd9\\xd9\\\\\\x81 \\xf6@\\xe8\\x8f\\xcf\\ry\\xe7\\xc4@Xm\\xd0\\x93\\xb7 \\xf6@\\xb0\\xa8\\x011S\\xe7\\xc4@<}\\x02\\x9d\\xb1 \\xf6@\\xe03\\xee\\x987\\xe5\\xc4@\\xf0EN\\xe6\\n!\\xf6@X=\\xfe\\xfc\\xf8\\xe4\\xc4@\\xd4a\\x92\\xb2\\x10!\\xf6@\\xc8\\xb5\\xd8\\x85\\r\\xe7\\xc4@\\xc0is&\\x18!\\xf6@\\xa0\\x89\\x1a\\xa8\\x08\\xe7\\xc4@\\xc8,(\\xba%!\\xf6@\\xc8 g\\xa4\\xe4\\xeb\\xc4@\\x08\\x8f2\\xff\\x95 \\xf6@\\xe0\\xc468I\\xec\\xc4@\\xe8O\\xa3Y\\x99 \\xf6@\\xc01\\xa6\\x86z\\xed\\xc4@', 'E00096404'))\n",
            "\n",
            "Indices:\n",
            " - idx_postcode (BTREE): Column addr_postcode\n",
            " - idx_db_id (BTREE): Column db_id\n",
            " - geometry (SPATIAL): Column geometry\n",
            " - idx_oa (BTREE): Column OA21CD\n",
            "\n",
            "Table: osm_data_sample\n",
            "\n",
            "Approx Row Count: 0.0 M\n",
            "(('relation', 1576004, 'POLYGON ((-5.3588132 50.137841, -5.3588119 50.1379062, -5.3588302 50.1379064, -5.3588303 50.137916, -5.3588298 50.1379271, -5.3591748 50.1379298, -5.3591737 50.1379875, -5.359063 50.1379867, -5.3588525 50.137985, -5.3587354 50.1379841, -5.3587345 50.1380317, -5.3582376 50.1380279, -5.3582395 50.1379277, -5.3582623 50.1379278, -5.3582655 50.1377577, -5.3583753 50.1377585, -5.3583746 50.137798, -5.3584518 50.1377986, -5.3586827 50.1378004, -5.358682 50.13784, -5.3587528 50.137841, -5.3588132 50.137841), (-5.3586324 50.1378861, -5.3586326 50.1378722, -5.3584124 50.1378714, -5.3584115 50.1379669, -5.358487 50.1379672, -5.3586316 50.1379678, -5.3586324 50.1378861))', '[112168276, 112168270]', '[[[1275780250, 1275780520, 6915654134, 6915654135, 6915654127, 1275780590, 1275780263, 1275780264, 6915654094, 6915654093, 1275780324, 1275780605, 1275780649, 1275780536, 1275780574, 1275780460, 1275780494, 1275780375, 11543332618, 1275780477, 1275780444, 1275780250], [1275780610, 6915616070, 1275780448, 1275780303, 1275780358, 6915616068, 1275780610]]]', 'multipolygon', '', 'TR13 9RE', '', '', 'Helston', 'Godolphin Estate', 'Godolphin Cross', 'Godolphin Count House', '', '', '', '', '', '', '', 'attraction', '', '', '', '', '', '', '', '', '', '', '', 'yes', '', '', '', '', '', '', '', '', '-2.0', 9231, 'POLYGON ((160086.16956965212 31822.472745400475, 160086.58895984557 31829.71596022285, 160085.2825716251 31829.79709322439, 160085.32350359295 31830.864516799717, 160085.4148126958 31832.09674381002, 160060.78083433688 31833.507368218503, 160061.1484081984 31839.917552823725, 160069.0530244006 31839.472289172612, 160084.08304005134 31838.605765294487, 160092.44438522015 31838.12882112735, 160092.74705420376 31843.416970515507, 160128.22749901644 31841.395378445304, 160127.5900522634 31830.263617495773, 160125.9616744297 31830.348106398684, 160124.88135450747 31811.4506942546, 160117.04099638914 31811.892977273732, 160117.2887921534 31816.28140370059, 160111.7764561905 31816.596549069625, 160095.28945915794 31817.539766504895, 160095.53777390122 31821.939308143687, 160090.48467634825 31822.278339675016, 160086.16956965212 31822.472745400475), (160099.31215739273 31826.90398117411, 160099.22826281504 31825.35955047325, 160114.95581193813 31824.561936467944, 160115.49830795583 31835.17447969984, 160110.10594067888 31835.450809407223, 160099.7784352009 31835.982886881276, 160099.31215739273 31826.90398117411))', b'\\x00\\x00\\x00\\x00\\x01\\x03\\x00\\x00\\x00\\x02\\x00\\x00\\x00\\x16\\x00\\x00\\x00rUG[\\xb1\\x8a\\x03A\\x98\\xecuA\\x9e\\x13\\xdf@[\\x940\\xb6\\xb4\\x8a\\x03A\\x98\\xd3J\\xd2m\\x15\\xdf@\\x85\\xe9\\xb4B\\xaa\\x8a\\x03A\\xa8L\\x93\\x03s\\x15\\xdf@?\\r\\x89\\x96\\xaa\\x8a\\x03AhE>T\\xb7\\x15\\xdf@\\x93Q\\x89Q\\xab\\x8a\\x03A\\x08\\xf3\\x0c1\\x06\\x16\\xdf@\\xa4\\x12&?\\xe6\\x89\\x03A`\\x8c\\xb8x`\\x16\\xdf@5\\xa3\\xf0/\\xe9\\x89\\x03A\\x90z/\\xb9\\xfa\\x17\\xdf@\\x94\\x0e\\x98l(\\x8a\\x03A\\xa8]\\xfc9\\xde\\x17\\xdf@\\x06\\xe7\\x10\\xaa\\xa0\\x8a\\x03A8\\xcc\\xdb\\xc4\\xa6\\x17\\xdf@\\x9b\\xd6\\x19\\x8e\\xe3\\x8a\\x03A@\\xf8\\x9a>\\x88\\x17\\xdf@\\xec\\x8d\\xf7\\xf9\\xe5\\x8a\\x03A\\xe0\\x19\\xa5\\xaf\\xda\\x18\\xdf@\\x1c\\x01\\xeb\\xd1\\x01\\x8c\\x03A\\x08e\\xe1MY\\x18\\xdf@2Rm\\xb8\\xfc\\x8b\\x03A\\xc0\\xea\\x1b\\xdf\\x90\\x15\\xdf@\\x08]\\x82\\xb1\\xef\\x8b\\x03Ax\\x0f`G\\x96\\x15\\xdf@\\x8e\\x97\\x03\\r\\xe7\\x8b\\x03A\\x00\\xb7,\\xd8\\xdc\\x10\\xdf@5\\xea\\xf5S\\xa8\\x8b\\x03A\\xb0&\\x8a&\\xf9\\x10\\xdf@\\xb2BrO\\xaa\\x8b\\x03A\\xc0\\xaa\\x84\\x02\\x12\\x12\\xdf@\\xc8\\xa9.6~\\x8b\\x03A &\\xdc-&\\x12\\xdf@\\x87\\xf6\\xcfP\\xfa\\x8a\\x03A\\x80\\xcf\\x88\\x8bb\\x12\\xdf@3g\\\\M\\xfc\\x8a\\x03A\\x80\\xe7\\x9f\\x1d|\\x13\\xdf@G\\xfe\\x9d\\xe0\\xd3\\x8a\\x03AX6Q\\xd0\\x91\\x13\\xdf@rUG[\\xb1\\x8a\\x03A\\x98\\xecuA\\x9e\\x13\\xdf@\\x07\\x00\\x00\\x00\\x08`L\\x7f\\x1a\\x8b\\x03A\\xc0\\xda\\xd3\\xda\\xb9\\x14\\xdf@lt{\\xd3\\x19\\x8b\\x03A\\xf8\\xfc\\xdf\\x02W\\x14\\xdf@\\xbb\\xba\\x80\\xa5\\x97\\x8b\\x03A\\x10`\\xc4\\xf6#\\x14\\xdf@\\xad\\xe1\\x88\\xfc\\x9b\\x8b\\x03A(\\xe7\\xac*\\xcb\\x16\\xdf@9m\\xf7\\xd8p\\x8b\\x03A0\\xb3\\x0f\\xda\\xdc\\x16\\xdf@\\x0f<<:\\x1e\\x8b\\x03A\\xb0`\\x9e\\xe7\\xfe\\x16\\xdf@\\x08`L\\x7f\\x1a\\x8b\\x03A\\xc0\\xda\\xd3\\xda\\xb9\\x14\\xdf@', 'E00095232'), ('relation', 6272289, 'POLYGON ((-5.2770057 50.2289954, -5.2770251 50.2290046, -5.2769484 50.2290713, -5.2769275 50.2290614, -5.2767873 50.2291834, -5.276366 50.2289853, -5.2764183 50.2289398, -5.27672 50.2286772, -5.2771429 50.228876, -5.2770057 50.2289954), (-5.2767544 50.2288051, -5.2765608 50.2289686, -5.2767531 50.2290618, -5.2769468 50.2288983, -5.2767544 50.2288051))', '[143400736, 421970682]', '[[[1569200506, 4217005352, 4217005353, 4217005358, 4217005356, 1569200517, 1569200508, 5475247462, 1569200481, 1569200506], [4217005349, 4217005348, 4217005350, 4217005357, 4217005349]]]', 'multipolygon', '', 'TR15 3RD', 'Trevenson Road', '', 'Redruth', '', '', 'Trevithick Court', '', '', '', '', '', '', '', '', '', '', '', '', '', '', '', '', '', '', '', 'college', '', '1.0', '', '', '', '', '', '', '', 9232, 'POLYGON ((166376.37276804046 41694.974749416986, 166375.0344211005 41696.05829827403, 166380.82997802846 41703.231912765885, 166382.27185992844 41702.06584648584, 166392.86590993474 41715.187303649174, 166421.93846893095 41691.84465051026, 166417.986551931 41686.95100738492, 166395.1886003087 41658.70729205961, 166366.0052828661 41682.132921668206, 166376.37276804046 41694.974749416986), (166393.36129452076 41673.0325111158, 166407.96616721348 41690.59953518893, 166394.70974411705 41701.56301420703, 166380.09772006687 41683.99633974003, 166393.36129452076 41673.0325111158))', b'\\x00\\x00\\x00\\x00\\x01\\x03\\x00\\x00\\x00\\x02\\x00\\x00\\x00\\n\\x00\\x00\\x00v\\xcfm\\xfbBO\\x04Ax\\xb0%1\\xdf[\\xe4@\\xe8\\x91~F8O\\x04A\\x8cW\\x94\\xdd\\x01\\\\\\xe4@E\\x85\\xcb\\xa3fO\\x04A R\\xd4k\\xe7\\\\\\xe4@\\xee\\xe5\\xc4,rO\\x04A\\xe8\\x16j\\x1b\\xc2\\\\\\xe4@\\x180b\\xed\\xc6O\\x04A\\xf48d\\xfee^\\xe4@\\xb6\\xff\\xfb\\x81\\xafP\\x04A\\xc4\\x81`\\x07{[\\xe4@\\xbcVu\\xe4\\x8fP\\x04A\\x10\\n\\xa7n\\xdeZ\\xe4@\\xef\\xe0@\\x82\\xd9O\\x04A\\x18\\xf5\"\\xa2VW\\xe4@I\\xbe\\xd1\\n\\xf0N\\x04A<\\xf1\\xe4@DZ\\xe4@v\\xcfm\\xfbBO\\x04Ax\\xb0%1\\xdf[\\xe4@\\x05\\x00\\x00\\x00\\xb7a\\xee\\xe3\\xcaO\\x04Ad\\xc0T\\n!Y\\xe4@C\\xe0\\xb5\\xba?P\\x04A\\xa8kd/S[\\xe4@\\xdaR\\x8e\\xad\\xd5O\\x04A\\xcc^6\\x04\\xb2\\\\\\xe4@[u!\\xc8`O\\x04A\\xe4\\xe0\\x03\\xe2\\x7fZ\\xe4@\\xb7a\\xee\\xe3\\xcaO\\x04Ad\\xc0T\\n!Y\\xe4@', 'E00182758'), ('relation', 7012772, 'POLYGON ((-5.2737421 50.2274724, -5.2735134 50.2275462, -5.2735414 50.2275817, -5.2735731 50.2276211, -5.2734847 50.2276494, -5.2734453 50.2276006, -5.2733934 50.2276178, -5.2732982 50.2274979, -5.273668 50.2273785, -5.2737421 50.2274724))', '[143400690]', '[[[1569200022, 1569200044, 5429909876, 1569200108, 1569200129, 5472660274, 5472660273, 1569200023, 1569199906, 1569200022]]]', 'multipolygon', '', 'TR15 3RD', 'Trevenson Road', '', 'Redruth', '', '', 'dBs', '', '', '', '', '', '', '', '', '', '', '', '', '', '', '', '', '', '', '', 'college', '', '2.0', '', '', '', '', '', '', '', 9233, 'POLYGON ((166601.6469998361 41515.44198465673, 166618.31610309827 41522.928540665045, 166616.49293302154 41526.96247665322, 166614.42498174557 41531.441534391284, 166620.86700770017 41534.310207305214, 166623.43810670276 41528.76211560643, 166627.22310428528 41530.51135377839, 166633.42582582674 41516.8849150138, 166606.4721160039 41504.77180834714, 166601.6469998361 41515.44198465673))', b'\\x00\\x00\\x00\\x00\\x01\\x03\\x00\\x00\\x00\\x01\\x00\\x00\\x00\\n\\x00\\x00\\x00\\x05@\\x0e-MV\\x04A\\xc0\\x01\\xbd$nE\\xe4@\\xaa\\x0fa\\x87\\xd2V\\x04A\\xac\\xe9\\x9a\\xb6]F\\xe4@5\\xde\\x86\\xf1\\xc3V\\x04A\\x98\\xd6\\x9b\\xcc\\xdeF\\xe4@U\\xd4\\\\f\\xb3V\\x04AT\\xbb\\x0c!nG\\xe4@\\xad\\xbb\\xa1\\xef\\xe6V\\x04A\\xdc\\xde7\\xed\\xc9G\\xe4@D\\x16>\\x81\\xfbV\\x04A\\xacD@c\\x18G\\xe4@G\\xe6\\xea\\xc8\\x19W\\x04A\\\\\\x99\\x02]PG\\xe4@\\xfd^\\x17hKW\\x04A\\x80J9Q\\x9cE\\xe4@e\\xc1\\xe4\\xc6sV\\x04A8k\\xa7\\xb2\\x18D\\xe4@\\x05@\\x0e-MV\\x04A\\xc0\\x01\\xbd$nE\\xe4@', 'E00182758'), ('relation', 9107111, 'POLYGON ((-5.0916894 50.2662696, -5.0917978 50.2662343, -5.09244 50.2660335, -5.0926293 50.2659754, -5.0925277 50.2658441, -5.0927535 50.2657714, -5.0928538 50.2658994, -5.0929449 50.2658735, -5.0930228 50.2659752, -5.0930518 50.2660131, -5.0929629 50.2660395, -5.0930599 50.266166, -5.093141 50.2661157, -5.0932552 50.2661154, -5.0934878 50.2660374, -5.0935186 50.2660567, -5.0935505 50.2660766, -5.0935577 50.2661042, -5.0935642 50.2661293, -5.0935236 50.2661416, -5.0933189 50.2662098, -5.0932498 50.2662631, -5.0931368 50.266268, -5.0932311 50.2663889, -5.0933235 50.2663597, -5.0934415 50.2665082, -5.0933457 50.2665381, -5.0934 50.266605, -5.0934521 50.2666691, -5.0932273 50.2667407, -5.0931245 50.266609, -5.0929298 50.2666711, -5.0930325 50.2668028, -5.0929222 50.2668357, -5.0928162 50.2668696, -5.0927098 50.2667359, -5.0925047 50.2668026, -5.0926111 50.2669363, -5.0924 50.2670085, -5.0922964 50.2668743, -5.0921944 50.2669073, -5.0921309 50.2668345, -5.0921233 50.2668258, -5.0921125 50.2668122, -5.0921087 50.2668074, -5.0921005 50.2667983, -5.0920691 50.2667607, -5.0921992 50.2667213, -5.0921319 50.2666277, -5.0919915 50.2666716, -5.0919444 50.266607, -5.0918935 50.2665424, -5.0920067 50.266505, -5.0919112 50.2663852, -5.0918062 50.2664176, -5.0916894 50.2662696), (-5.0927298 50.2661202, -5.09255 50.2661783, -5.0926444 50.2662976, -5.0928242 50.2662395, -5.0927298 50.2661202), (-5.092906 50.2663447, -5.0927261 50.2664021, -5.0928148 50.2665158, -5.0929947 50.2664584, -5.092906 50.2663447), (-5.0925812 50.2665903, -5.0924868 50.266469, -5.0923095 50.2665254, -5.0924039 50.2666467, -5.0925812 50.2665903), (-5.0924143 50.2663759, -5.0923197 50.2662522, -5.0921449 50.2663068, -5.0922395 50.2664306, -5.0924143 50.2663759))', '[114311293, 656066003, 656066005, 656066004, 656066006]', '[[[9943023175, 1295159995, 1457691429, 1457691396, 1457691512, 1457691483, 1457691371, 1457691352, 1457691405, 1457691402, 1457691425, 1295159914, 9943023169, 1457691489, 1457691388, 9943023140, 9943023139, 9943023137, 10016886492, 10016886481, 10016886493, 10016886480, 10016886494, 10019257173, 9943023136, 9943023138, 1295159910, 9943023141, 9943023142, 9943023144, 9943023143, 10019257190, 1295159975, 1295159971, 1295159973, 1295159930, 1457691461, 10016851787, 1457691449, 1457691446, 1457691452, 1457691472, 6146217792, 6146217470, 1457691413, 10018041863, 9943023168, 10018041862, 9943023145, 9943023167, 1457691360, 1457691399, 1457691330, 1295159898, 1457691345, 9943023175], [6146217796, 6146217795, 6146217794, 6146217793, 6146217796], [6146217804, 6146217803, 6146217802, 6146217801, 6146217804], [6146217800, 6146217799, 6146217798, 6146217797, 6146217800], [6146217808, 6146217807, 6146217806, 6146217805, 6146217808]]]', 'multipolygon', '', 'TR1 3LJ', '', '', 'Truro', '', '', 'Trelawny Wing', '', '', 'yes', '', '', '', '', '', '', '', '', 'no', '', '', '', '', '', '', '', 'hospital', '', '', '', '', '', '', '', '', '1.0', 9234, 'POLYGON ((179763.02041434316 45273.377317951876, 179755.13350937655 45269.774107895675, 179708.4469341523 45249.353607720695, 179694.69018647113 45243.45547718377, 179701.32312523323 45228.55891244652, 179684.89809215462 45221.145886477956, 179678.34257246653 45235.67178418103, 179671.7316706212 45233.06240534078, 179666.6507948134 45244.59839356513, 179664.75951697002 45248.8973600491, 179671.2159551916 45251.56882594034, 179664.88872608618 45265.91822615487, 179658.87766433475 45260.56686556371, 179650.73909056338 45260.87170188365, 179633.80505562734 45252.88980611932, 179631.69960927404 45255.12647752065, 179629.51855777454 45257.43310568284, 179629.13305663603 45260.52253874997, 179628.78588243134 45263.3319902668, 179631.73561908642 45264.57905573692, 179646.63636696956 45271.55416724729, 179651.806247701 45277.27454077566, 179659.8805435519 45277.484610443964, 179653.7198944885 45291.203515760426, 179647.00116810694 45288.231179786264, 179639.27938666413 45305.08839960178, 179646.24359289402 45308.12847071994, 179642.68364456622 45315.726110199816, 179639.26752686518 45323.00597950135, 179655.61600022248 45330.29953969226, 179662.33235347093 45315.35489946758, 179676.49221095056 45321.68160612229, 179669.78295448702 45336.62593152543, 179677.79412528774 45339.95659573813, 179685.50351827728 45343.41116728631, 179692.46720389827 45328.23358065932, 179707.3892642266 45335.04092645564, 179700.42554854165 45350.218492674234, 179715.80045757582 45357.619494306855, 179722.56238666986 45342.39465668559, 179729.98257537588 45345.76108671914, 179734.17089575066 45337.48040954574, 179734.67223636043 45336.49078962623, 179735.37895584063 45334.946996148035, 179735.62754808532 45334.4021627146, 179736.1697936424 45333.36630142483, 179738.23348210633 45329.093605147646, 179728.78151133435 45325.09890347716, 179733.14454774314 45314.49477802415, 179743.3512208163 45318.9592333239, 179746.40890462714 45311.63865411785, 179749.73736005026 45304.306828653294, 179741.49877417946 45300.484405016585, 179747.750212775 45286.88433517897, 179755.38144590385 45290.17522388787, 179763.02041434316 45273.377317951876), (179688.19802871018 45259.84950023578, 179701.2778338618 45265.77573986046, 179695.10254857608 45279.31702816879, 179682.02276704228 45273.39080441196, 179688.19802871018 45259.84950023578), (179676.68019780103 45285.32740377987, 179689.76385020593 45291.17550333319, 179683.96890441058 45304.07741463397, 179670.88527473804 45298.22932999392, 179676.68019780103 45285.32740377987), (179700.9577850968 45311.66743149902, 179707.12380012393 45297.9038220348, 179720.0175074093 45303.648528726946, 179713.85146843633 45317.41212255086, 179700.9577850968 45311.66743149902), (179711.85965041118 45287.339865178656, 179718.0288937911 45273.308886151295, 179730.7361969223 45278.86092722579, 179724.5673910407 45292.903007147484, 179711.85965041118 45287.339865178656))', b'\\x00\\x00\\x00\\x00\\x01\\x03\\x00\\x00\\x00\\x05\\x00\\x00\\x008\\x00\\x00\\x00\\xc2\\xfe\\xce)\\x98\\xf1\\x05A\\xf0\\x18\\xfd\\x12,\\x1b\\xe6@0]m\\x11Y\\xf1\\x05A\\xf0\\xeb}\\xc5\\xb8\\x1a\\xe6@}6R\\x93\\xe3\\xef\\x05A\\x80#\\xc1P+\\x18\\xe6@\\r|\\x80\\x85u\\xef\\x05A\\x0c\\xe3D\\x93n\\x17\\xe6@\\xaa\\xae\\xc2\\x95\\xaa\\xef\\x05A\\xe4Z\\x9c\\xe2\\x91\\x15\\xe6@\\x87\\xf0J/\\'\\xef\\x05Ax\\x1e\\x1a\\xab\\xa4\\x14\\xe6@\"\\xa2\\x96\\xbd\\xf2\\xee\\x05A\\xf0\\x89A\\x7fu\\x16\\xe6@l v\\xda\\xbd\\xee\\x05A8|9\\xff!\\x16\\xe6@@\\xe9\\xd34\\x95\\xee\\x05A\\x0cC\\n&\\x93\\x17\\xe6@\\x18\\xa2}\\x13\\x86\\xee\\x05A\\xf4k,\\xb7\\x1c\\x18\\xe6@+\\xb7F\\xba\\xb9\\xee\\x05A\\\\u\\xd23r\\x18\\xe6@\\x1al\\x1c\\x1c\\x87\\xee\\x05A0\\xd1\\x1bb=\\x1a\\xe6@\\xf5\\xe0t\\x05W\\xee\\x05A,@\\xc3#\\x92\\x19\\xe6@4P\\xa8\\xe9\\x15\\xee\\x05ADY\\xfb\\xe4\\x9b\\x19\\xe6@7\\x01\\xc1p\\x8e\\xed\\x05A\\xc8\\xaeJy\\x9c\\x18\\xe6@@\\xbf\\xcc\\x98}\\xed\\x05A\\xdc\\x95\\x1a\\x0c\\xe4\\x18\\xe6@V\\x9e\\x01&l\\xed\\x05A\\xf0r\\x00\\xdc-\\x19\\xe6@b\\xff\\x7f\\x10i\\xed\\x05A@/\\xa3\\xb8\\x90\\x19\\xe6@i\\xba|If\\xed\\x05AP\\r\\xaa\\x9f\\xea\\x19\\xe6@tB\\x8c\\xe2}\\xed\\x05A\\x94\\xe5\\x9f\\x87\\x12\\x1a\\xe6@\\xd4\\x90G\\x17\\xf5\\xed\\x05At\\xf3\\xbc\\xbb\\xf1\\x1a\\xe6@\\xa2\\xfe1s\\x1e\\xee\\x05A\\x9c\\xbc\\t\\xc9\\xa8\\x1b\\xe6@\\xf1jZ\\x0b_\\xee\\x05A\\x04\\xc3\\xed\\x81\\xaf\\x1b\\xe6@\\xa5\\nX\\xc2-\\xee\\x05A\\xe8{3\\x83f\\x1d\\xe6@\\xa9ld\\x02\\xf8\\xed\\x05A\\xb0&\\xd3e\\x07\\x1d\\xe6@K\\x13/<\\xba\\xed\\x05A\\xd4f+\\xd4\"\\x1f\\xe6@\\xcb\\xd4\\xe0\\xf2\\xf1\\xed\\x05A\\x94\\xa0n\\x1c\\x84\\x1f\\xe6@p\\xa4\\x1ax\\xd5\\xed\\x05A0uK<w \\xe6@\\x06 \\xe5#\\xba\\xed\\x05AX\\xec\\xfb0`!\\xe6@O\\x86\\x91\\xed<\\xee\\x05A\\xc4C\\xd4\\x95I\"\\xe6@\\xc3\\xef\\xa8\\xa8r\\xee\\x05A\\xd4 V[k \\xe6@{K\\x0c\\xf0\\xe3\\xee\\x05A\\x80\\xa4\\xb7\\xcf5!\\xe6@`\\xa4}C\\xae\\xee\\x05A\\xe8\\x8c\\xa1\\x07\\x14#\\xe6@\\xde[^Z\\xee\\xee\\x05AX\\xaan\\x9c~#\\xe6@/\\x974\\x07,\\xef\\x05A\\xfcKH(\\xed#\\xe6@\\xbde\\xd5\\xbcc\\xef\\x05A\\x98%~y\\x07\"\\xe6@\\x16\\x906\\x1d\\xdb\\xef\\x05A\\x90\\xffDO\\xe1\"\\xe6@j\\xfe\\x85g\\xa3\\xef\\x05AHY\\xe4\\xfd\\xc6$\\xe6@0MVg\\x1e\\xf0\\x05A\\x80\\xb9\\xe5\\xd2\\xb3%\\xe6@\\x16\\x95\\xc4\\x7fT\\xf0\\x05A\\xb8\\x0e\\x07\\xa1\\xcc#\\xe6@\\x8azP\\xdc\\x8f\\xf0\\x05A\\x04\\x89\\xd2Z8$\\xe6@a\\x97\\xfe]\\xb1\\xf0\\x05A\\xf4\\xd6\\x83_/#\\xe6@\\xfat\\xbd`\\xb5\\xf0\\x05A<r\\x8c\\xb4\\x0f#\\xe6@\\xf1\\xff\\x19\\x08\\xbb\\xf0\\x05A\\xa8\\xdd\\xcaM\\xde\"\\xe6@9\\xee7\\x05\\xbd\\xf0\\x05A\\\\W\\x84\\xde\\xcc\"\\xe6@\\xe9\\xc4\\xbc[\\xc1\\xf0\\x05A\\x04\\xc4\\xbd\\xb8\\xab\"\\xe6@\\xd7\\xdd+\\xde\\xd1\\xf0\\x05A\\xfc8\\xd0\\xfe\"\"\\xe6@\\xb4\\x03\\x89@\\x86\\xf0\\x05A\\xfc\\x9f7*\\xa3!\\xe6@\\xac\\xa5\\x08(\\xa9\\xf0\\x05A\\x10\\xb98\\xd5O \\xe6@\\xfd\\xdbL\\xcf\\xfa\\xf0\\x05Al\\x15\\n\\xb2\\xde \\xe6@\\x06\\xcaoE\\x13\\xf1\\x05A\\xb4\\xc2\\xdao\\xf4\\x1f\\xe6@\\xaa\\x06\\x1d\\xe6-\\xf1\\x05A\\xecR\\x8a\\xd1\\t\\x1f\\xe6@\\'Q}\\xfd\\xeb\\xf0\\x05A\\x08\\xf3>\\x80\\x8f\\x1e\\xe6@-\\x8eo\\x00\\x1e\\xf1\\x05A\\x0cJyL\\xdc\\x1c\\xe6@\\x92\\x823\\r[\\xf1\\x05A| o\\x9bE\\x1d\\xe6@\\xc2\\xfe\\xce)\\x98\\xf1\\x05A\\xf0\\x18\\xfd\\x12,\\x1b\\xe6@\\x05\\x00\\x00\\x00\\x8f\\x13\\x90\\x95A\\xef\\x05AT\\x1e\\x1b/{\\x19\\xe6@\\xb1\\xf5\\x009\\xaa\\xef\\x05A\\\\f\\xdc\\xd28\\x1a\\xe6@\\xe4\\xfc\\x04\\xd2x\\xef\\x05A\\x1cB\\x18%\\xea\\x1b\\xe6@\\xb0|\\xa0.\\x10\\xef\\x05A\\x10Ax\\x81,\\x1b\\xe6@\\x8f\\x13\\x90\\x95A\\xef\\x05AT\\x1e\\x1b/{\\x19\\xe6@\\x05\\x00\\x00\\x00r\\x8b\\x0bq\\xe5\\xee\\x05A\\xe4}\\x17z\\xaa\\x1c\\xe6@,\\x7f]\\x1cN\\xef\\x05A\\x8c*\\xb9\\x9de\\x1d\\xe6@\\xa3\\xf4P\\xc0\\x1f\\xef\\x05A$A.z\\x02\\x1f\\xe6@\\xff\\xeb\\n\\x15\\xb7\\xee\\x05A\\xfc\\xda\\xabVG\\x1e\\xe6@r\\x8b\\x0bq\\xe5\\xee\\x05A\\xe4}\\x17z\\xaa\\x1c\\xe6@\\x05\\x00\\x00\\x00\\x9b;\\x8b\\xa9\\xa7\\xef\\x05A\\x94M\\x99[\\xf5\\x1f\\xe6@\\\\\\xeb\\x8a\\xfd\\xd8\\xef\\x05A\\x1c0\\x1c\\xec<\\x1e\\xe6@\\xb3\\xec\\xda#@\\xf0\\x05A\\x18Q\\xbf\\xc0\\xf4\\x1e\\xe6@\\xfd\\xae\\xce\\xcf\\x0e\\xf0\\x05A\\xbc\\xa1\\x1b0\\xad \\xe6@\\x9b;\\x8b\\xa9\\xa7\\xef\\x05A\\x94M\\x99[\\xf5\\x1f\\xe6@\\x05\\x00\\x00\\x00\\x10e\\x90\\xe0\\xfe\\xef\\x05Al\\xf0,\\xe0\\xea\\x1c\\xe6@\\xff\\xaa,;0\\xf0\\x05A\\xc05e\\xe2)\\x1b\\xe6@F6\\xbb\\xe3\\x95\\xf0\\x05A\\xe0@\\xb7\\x8c\\xdb\\x1b\\xe6@_P\\x04\\x8ad\\xf0\\x05A\\xd0>o\\xe5\\x9c\\x1d\\xe6@\\x10e\\x90\\xe0\\xfe\\xef\\x05Al\\xf0,\\xe0\\xea\\x1c\\xe6@', 'E00182858'), ('relation', 17306310, 'POLYGON ((-5.1188245 50.2121045, -5.1187778 50.2120636, -5.1187431 50.21208, -5.1186885 50.2120326, -5.1187236 50.2120161, -5.1188993 50.211934, -5.1189789 50.2118967, -5.1190393 50.2119496, -5.1189034 50.2120131, -5.1189439 50.2120487, -5.1188245 50.2121045))', '[1103154278, 1103154279]', '[[[10095067030, 10095067031, 10095067032, 10095067033, 10095067034, 10095067039, 10095067035, 10095067037, 10095067030], [10095067036, 10095067037, 10095067035, 10095067038, 10095067036]]]', 'multipolygon', '', 'TR3 7PX', 'Greenwith Hill', '', 'Truro', '', 'Perranwell Station', 'Royal Oak', '', '', '', '', '', '', 'pub', '', '', '', '', '', '', '', '', '', '', '', '', 'yes', '', '', '', '', '', '', '', '', '', 9239, 'POLYGON ((177577.33139095517 39332.918525739224, 177580.47232909882 39328.232504396816, 177583.02396445133 39329.951918568026, 177586.6981970373 39324.51975092068, 177584.11756138585 39322.790413482406, 177571.2019526632 39314.188806664926, 177565.35009847177 39310.28022900692, 177561.2877372625 39316.341128930566, 177571.27767224575 39322.99397903451, 177568.55434054587 39327.07232673364, 177577.33139095517 39332.918525739224))', b\"\\x00\\x00\\x00\\x00\\x01\\x03\\x00\\x00\\x00\\x01\\x00\\x00\\x00\\x0b\\x00\\x00\\x00\\x15M\\xb0\\xa6J\\xad\\x05AP\\x17\\x90d\\x9d4\\xe3@\\x83zT\\xc7c\\xad\\x05A\\x90\\x0f\\xadp\\x074\\xe3@6F\\x141x\\xad\\x05A\\xc4\\xed\\x1dv>4\\xe3@\\x0bT\\xe8\\x95\\x95\\xad\\x05A\\xcc\\xae\\xcc\\xa1\\x903\\xe3@\\x1c\\x06\\xc4\\xf0\\x80\\xad\\x05A(7\\x11KY3\\xe3@\\x9e[\\x99\\x9d\\x19\\xad\\x05AdF\\xb4\\nF2\\xe3@um\\x00\\xcd\\xea\\xac\\x05A\\x84\\xd2\\xa2\\xf7\\xc81\\xe3@\\xa21IM\\xca\\xac\\x05A\\x108\\x87\\xea\\x8a2\\xe3@\\xf49\\xac8\\x1a\\xad\\x05A\\xc4\\x1e\\xad\\xce_3\\xe3@\\x9b\\x18Jo\\x04\\xad\\x05At'\\x80P\\xe23\\xe3@\\x15M\\xb0\\xa6J\\xad\\x05AP\\x17\\x90d\\x9d4\\xe3@\", 'E00095063'))\n",
            "\n",
            "Indices:\n",
            " - geometry (SPATIAL): Column geometry\n",
            " - idx_postcode (BTREE): Column addr_postcode\n",
            " - idx_db_id (BTREE): Column db_id\n",
            " - idx_oa (BTREE): Column OA21CD\n",
            "\n",
            "Table: postcode_data\n",
            "\n",
            "Approx Row Count: 2.5 M\n",
            "(('AB1 0AA', 'terminated', 'small', 385386, 801193, 1, 'Scotland', Decimal('57.10147400'), Decimal('-2.24285100'), 'AB10AA', 'AB1 0AA', 'AB1  0AA', 'AB', 'AB1', 'AB1 0', 'AB1', '0AA', 1), ('AB1 0AB', 'terminated', 'small', 385177, 801314, 1, 'Scotland', Decimal('57.10255400'), Decimal('-2.24630800'), 'AB10AB', 'AB1 0AB', 'AB1  0AB', 'AB', 'AB1', 'AB1 0', 'AB1', '0AB', 2), ('AB1 0AD', 'terminated', 'small', 385053, 801092, 1, 'Scotland', Decimal('57.10055600'), Decimal('-2.24834200'), 'AB10AD', 'AB1 0AD', 'AB1  0AD', 'AB', 'AB1', 'AB1 0', 'AB1', '0AD', 3), ('AB1 0AE', 'terminated', 'small', 384600, 799300, 8, 'Scotland', Decimal('57.08444400'), Decimal('-2.25570800'), 'AB10AE', 'AB1 0AE', 'AB1  0AE', 'AB', 'AB1', 'AB1 0', 'AB1', '0AE', 4), ('AB1 0AF', 'terminated', 'large', 384460, 800660, 8, 'Scotland', Decimal('57.09665600'), Decimal('-2.25810200'), 'AB10AF', 'AB1 0AF', 'AB1  0AF', 'AB', 'AB1', 'AB1 0', 'AB1', '0AF', 5))\n",
            "\n",
            "Indices:\n",
            " - PRIMARY (BTREE): Column db_id\n",
            " - idx_postcode_postcode (BTREE): Column postcode\n",
            "\n",
            "Table: pp_data\n",
            "\n",
            "Approx Row Count: 29.3 M\n",
            "(('{109BBF80-1E51-4910-8E2C-B124E1117A7A}', 34950, datetime.date(1995, 6, 9), 'BA3 3AH', 'F', 'N', 'L', 'COOMBEND HOUSE', '7', 'COOMBEND', 'RADSTOCK', 'RADSTOCK', 'WANSDYKE', 'AVON', 'A', 'A', 1), ('{D5233D67-2975-426B-B98D-B124E39331D9}', 133000, datetime.date(1995, 6, 19), 'SW18 5AG', 'T', 'N', 'F', '142', '', 'ASTONVILLE STREET', 'LONDON', 'LONDON', 'WANDSWORTH', 'GREATER LONDON', 'A', 'A', 2), ('{718BD35C-25E1-431C-8AF7-B124E63ED4E1}', 83000, datetime.date(1995, 8, 21), 'IP11 7PU', 'D', 'N', 'F', '3', '', 'GARFIELD ROAD', 'FELIXSTOWE', 'FELIXSTOWE', 'SUFFOLK COASTAL', 'SUFFOLK', 'A', 'A', 3), ('{E127F626-6247-4D95-A392-B124F4C0A558}', 59000, datetime.date(1995, 7, 27), 'PE21 0SF', 'D', 'Y', 'F', 'BEAUCADRE', '', 'GAYSFIELD ROAD', 'FISHTOFT', 'BOSTON', 'BOSTON', 'LINCOLNSHIRE', 'A', 'A', 4), ('{B10762A0-2C9C-4C82-A885-B1250B55FFF9}', 51000, datetime.date(1995, 2, 28), 'ME7 4DF', 'T', 'N', 'F', '41', '', 'FRANKLIN ROAD', 'GILLINGHAM', 'GILLINGHAM', 'GILLINGHAM', 'KENT', 'A', 'A', 5))\n",
            "\n",
            "Indices:\n",
            " - PRIMARY (BTREE): Column db_id\n",
            " - idx_pp_postcode (BTREE): Column postcode\n",
            " - idx_pp_date_transfer (BTREE): Column date_of_transfer\n",
            " - idx_address (BTREE): Column postcode\n",
            " - idx_address (BTREE): Column street\n",
            " - idx_address (BTREE): Column primary_addressable_object_name\n",
            " - idx_address (BTREE): Column town_city\n",
            "\n",
            "Table: prices_coordinates_data\n",
            "\n",
            "Approx Row Count: 5.8 M\n",
            "((370000, datetime.date(2024, 1, 1), 'WR12 7FE', 'T', 'N', 'F', '', 'BROADWAY', 'WYCHAVON', 'WORCESTERSHIRE', 'England', Decimal('52.04243800'), Decimal('-1.85757200'), 1), (50000, datetime.date(2024, 1, 1), 'TS17 6LJ', 'T', 'N', 'F', 'THORNABY', 'STOCKTON-ON-TEES', 'STOCKTON-ON-TEES', 'STOCKTON-ON-TEES', 'England', Decimal('54.55240100'), Decimal('-1.30114300'), 2), (485000, datetime.date(2024, 1, 1), 'BR3 6QH', 'F', 'N', 'L', '', 'BECKENHAM', 'BROMLEY', 'GREATER LONDON', 'England', Decimal('51.40061400'), Decimal('-0.01854100'), 3), (226000, datetime.date(2024, 1, 1), 'BL9 9EZ', 'S', 'N', 'F', '', 'BURY', 'BURY', 'GREATER MANCHESTER', 'England', Decimal('53.58415200'), Decimal('-2.28348100'), 4), (64000, datetime.date(2024, 1, 1), 'NE29 7LT', 'F', 'N', 'L', '', 'NORTH SHIELDS', 'NORTH TYNESIDE', 'TYNE AND WEAR', 'England', Decimal('55.01156300'), Decimal('-1.46931900'), 5))\n",
            "\n",
            "Indices:\n",
            " - PRIMARY (BTREE): Column db_id\n",
            " - idx_lat_lon_btree (BTREE): Column latitude\n",
            " - idx_lat_lon_btree (BTREE): Column longitude\n"
          ]
        }
      ],
      "source": [
        "tables = ex_query(conn, f\"SHOW TABLES;\")\n",
        "\n",
        "for row in tables:\n",
        "    table_name = row[0]\n",
        "    print(f\"\\nTable: {table_name}\")\n",
        "\n",
        "    table_status = ex_query(conn, f\"SHOW TABLE STATUS LIKE '{table_name}';\")\n",
        "    approx_row_count = table_status[0][4] if table_status else 'Unable to fetch row count'\n",
        "    print(\"\\nApprox Row Count:\", approx_row_count//100000/10, \"M\")\n",
        "\n",
        "    first_5_rows = ex_query(conn, f\"SELECT * FROM `{table_name}` LIMIT 5;\")\n",
        "    print(first_5_rows)\n",
        "\n",
        "    indices = ex_query(conn, f\"SHOW INDEX FROM `{table_name}`;\")\n",
        "    if indices:\n",
        "        print(\"\\nIndices:\")\n",
        "        for index in indices:\n",
        "            print(f\" - {index[2]} ({index[10]}): Column {index[4]}\")\n",
        "    else:\n",
        "        print(\"\\nNo indices set on this table.\")"
      ]
    },
    {
      "cell_type": "markdown",
      "metadata": {
        "id": "E8r6UgTsHmms"
      },
      "source": [
        "2) Please paste a link to your fynesse library below, and make sure it's publically accessible. Also run the code below, and make sure it worked, printing out the contents of your library."
      ]
    },
    {
      "cell_type": "code",
      "execution_count": 236,
      "metadata": {
        "id": "CqbzdvzhJTMN"
      },
      "outputs": [],
      "source": [
        "fynesse_url = 'https://github.com/sdenyskov/sd995_ads_2024.git'"
      ]
    },
    {
      "cell_type": "code",
      "execution_count": 237,
      "metadata": {
        "id": "2h-g3gEhHq0b"
      },
      "outputs": [
        {
          "name": "stdout",
          "output_type": "stream",
          "text": [
            "FYNESSE STRUCTURE:\n",
            "fynesse/\n",
            "    defaults.yml\n",
            "    address.py\n",
            "    config.py\n",
            "    access.py\n",
            "    __init__.py\n",
            "    assess.py\n",
            "    __pycache__/\n",
            "        address.cpython-310.pyc\n",
            "        assess.cpython-310.pyc\n",
            "        config.cpython-310.pyc\n",
            "        access.cpython-310.pyc\n",
            "        __init__.cpython-310.pyc\n",
            "FILE CONTENTS\n",
            "--- Contents of /Library/Frameworks/Python.framework/Versions/3.10/lib/python3.10/site-packages/fynesse/defaults.yml ---\n",
            "\n",
            "# Place config informatio you want everyone to have here.\n",
            "data_url: https://raw.githubusercontent.com/lawrennd/datasets_mirror/main/\n",
            "\n",
            "\n",
            "--------------------------------------------------\n",
            "\n",
            "--- Contents of /Library/Frameworks/Python.framework/Versions/3.10/lib/python3.10/site-packages/fynesse/address.py ---\n",
            "\n",
            "from .config import *\n",
            "\n",
            "import pandas as pd\n",
            "import numpy as np\n",
            "import statsmodels.api as sm\n",
            "from sklearn.model_selection import KFold\n",
            "from sklearn.metrics import mean_squared_error, r2_score\n",
            "\n",
            "\n",
            "\n",
            "def fit_and_predict(x, y, x_pred, design_matrix = lambda x: x.reshape(-1, 1), regularised = False, alpha = 0.05, L1_wt = 1.0):\n",
            "    \n",
            "    # Example of design_matrix: design_matrix = lambda x: sm.add_constant(np.concatenate(((x).reshape(-1, 1), (x**2).reshape(-1, 1), (x**3).reshape(-1, 1)), axis=1))\n",
            "    \n",
            "    np.random.seed(42)\n",
            "    \n",
            "    if regularised:\n",
            "        model = sm.OLS(y, design_matrix(x))\n",
            "        results = model.fit_regularized(alpha=alpha, L1_wt=L1_wt)\n",
            "        y_pred = results.predict(design_matrix(x_pred))\n",
            "    else:\n",
            "        model = sm.OLS(y, design_matrix(x))\n",
            "        results = model.fit()\n",
            "        y_pred = results.get_prediction(design_matrix(x_pred)).summary_frame(alpha=0.00)['mean']\n",
            "    \n",
            "    return y_pred\n",
            "\n",
            "def cross_validation(x, y, k):\n",
            "\n",
            "    kf = KFold(n_splits=k, shuffle=True, random_state=42)\n",
            "\n",
            "    r2_list = []\n",
            "    rmse_list = []\n",
            "    corr_list = []\n",
            "\n",
            "    for train_index, test_index in kf.split(x):\n",
            "        x_train, x_test = x[train_index], x[test_index]\n",
            "        y_train, y_test = y[train_index], y[test_index]\n",
            "        \n",
            "        y_pred_test = fit_and_predict(x_train, y_train, x_test)\n",
            "        \n",
            "        r2_list.append(r2_score(y_test, y_pred_test))\n",
            "        rmse_list.append(np.sqrt(mean_squared_error(y_test, y_pred_test)))\n",
            "        corr_list.append(np.corrcoef(y_test, y_pred_test)[0, 1])\n",
            "    \n",
            "    return (np.mean(r2_list), np.mean(rmse_list), np.mean(corr_list))\n",
            "\n",
            "def predict_age_profile(nssec_df, age_df, nssec_row_to_predict):\n",
            "    \n",
            "    norm_age_df = age_df.div(age_df.sum(axis=1), axis=0)\n",
            "\n",
            "    preds = []\n",
            "\n",
            "    for year in range(100):\n",
            "        x = np.array(nssec_df)\n",
            "        y = np.array(norm_age_df[year])\n",
            "        \n",
            "        model = sm.OLS(y, x)\n",
            "        result = model.fit()\n",
            "        y_pred = result.get_prediction(nssec_row_to_predict).summary_frame(alpha=0.00)[\"mean\"]\n",
            "\n",
            "        preds.append(y_pred[0])\n",
            "    \n",
            "    return preds\n",
            "\n",
            "\n",
            "--------------------------------------------------\n",
            "\n",
            "--- Contents of /Library/Frameworks/Python.framework/Versions/3.10/lib/python3.10/site-packages/fynesse/config.py ---\n",
            "\n",
            "import os\n",
            "import yaml\n",
            "\n",
            "default_file = os.path.join(os.path.dirname(__file__), \"defaults.yml\")\n",
            "local_file = os.path.abspath(os.path.join(os.path.dirname(__file__), \"machine.yml\"))\n",
            "user_file = '_config.yml'\n",
            "\n",
            "config = {}\n",
            "\n",
            "if os.path.exists(default_file):\n",
            "    with open(default_file) as file:\n",
            "        config.update(yaml.load(file, Loader=yaml.FullLoader))\n",
            "\n",
            "if os.path.exists(local_file):\n",
            "    with open(local_file) as file:\n",
            "        config.update(yaml.load(file, Loader=yaml.FullLoader))\n",
            "\n",
            "if os.path.exists(user_file):\n",
            "    with open(user_file) as file:\n",
            "        config.update(yaml.load(file, Loader=yaml.FullLoader))\n",
            "\n",
            "if config=={}:\n",
            "    raise ValueError(\n",
            "        \"No configuration file found at either \"\n",
            "        + user_file\n",
            "        + \" or \"\n",
            "        + local_file\n",
            "        + \" or \"\n",
            "        + default_file\n",
            "        + \".\"\n",
            "    )\n",
            "\n",
            "for key, item in config.items():\n",
            "    if item is str:\n",
            "        config[key] = os.path.expandvars(item)\n",
            "\n",
            "\n",
            "--------------------------------------------------\n",
            "\n",
            "--- Contents of /Library/Frameworks/Python.framework/Versions/3.10/lib/python3.10/site-packages/fynesse/access.py ---\n",
            "\n",
            "from .config import *\n",
            "\n",
            "import requests\n",
            "import pymysql\n",
            "import csv\n",
            "import pandas as pd\n",
            "import osmnx as ox\n",
            "import yaml\n",
            "import zipfile\n",
            "import io\n",
            "import math\n",
            "import numpy as np\n",
            "import os\n",
            "\n",
            "\n",
            "\n",
            "################ These functions are used for downloading data and transforming it by the scheme csv <-> db <-> df ################\n",
            "\n",
            "\n",
            "\n",
            "def download_data_csv(file_url_list, file_name_list):\n",
            "    \"\"\"\n",
            "    Download data from the web in the format of csv.\n",
            "    \"\"\"\n",
            "\n",
            "    if len(file_url_list) != len(file_name_list):\n",
            "        raise Exception(\"file_url_list and file_name_list must be of equal length\")\n",
            "\n",
            "    for i in range(len(file_url_list)):\n",
            "        file_url = file_url_list[i]\n",
            "        file_name = file_name_list[i]\n",
            "        print (f\"Downloading data from {file_url}\")\n",
            "        response = requests.get(file_url)\n",
            "        if response.status_code == 200:\n",
            "            with open(\"./\" + file_name, \"wb\") as file:\n",
            "                file.write(response.content)\n",
            "\n",
            "def download_data_zip(file_url, file_name):\n",
            "    \"\"\"\n",
            "    Download data from the web in the format of zip.\n",
            "    \"\"\"\n",
            "    \n",
            "    # Getting zip\n",
            "    response = requests.get(file_url)\n",
            "\n",
            "    if response.status_code == 200:\n",
            "        print(\"ZIP file has been downloaded successfully!\")\n",
            "\n",
            "        # Getting csv\n",
            "        zip_file = zipfile.ZipFile(io.BytesIO(response.content))\n",
            "        csv_file = zip_file.open(file_name)\n",
            "\n",
            "        # Saving csv\n",
            "        file = open(\"./\" + file_name, \"wb\")\n",
            "        file.write(csv_file.read())\n",
            "        print(\"File has been saved successfully.\")\n",
            "\n",
            "def download_census_data(code, base_dir=''):\n",
            "\n",
            "    url = f'https://www.nomisweb.co.uk/output/census/2021/census2021-{code.lower()}.zip'\n",
            "    extract_dir = os.path.join(base_dir, os.path.splitext(os.path.basename(url))[0])\n",
            "\n",
            "    if os.path.exists(extract_dir) and os.listdir(extract_dir):\n",
            "        print(f\"Files already exist at: {extract_dir}.\")\n",
            "        return\n",
            "\n",
            "    os.makedirs(extract_dir, exist_ok=True)\n",
            "    response = requests.get(url)\n",
            "    response.raise_for_status()\n",
            "\n",
            "    with zipfile.ZipFile(io.BytesIO(response.content)) as zip_ref:\n",
            "        zip_ref.extractall(extract_dir)\n",
            "\n",
            "    print(f\"Files extracted to: {extract_dir}\")\n",
            "\n",
            "def load_census_data(code, level='msoa'):\n",
            "    \n",
            "    return pd.read_csv(f'census2021-{code.lower()}/census2021-{code.lower()}-{level}.csv')\n",
            "\n",
            "def create_connection(database='ads_2024'):\n",
            "    \"\"\" \n",
            "    Create a database connection to the MariaDB database \n",
            "    specified by the host url and database name.\n",
            "    Returns Connection object or None.\n",
            "    \"\"\"\n",
            "    \n",
            "    with open(\"credentials.yaml\") as file:\n",
            "        credentials = yaml.safe_load(file)\n",
            "\n",
            "    conn = None\n",
            "    try:\n",
            "        conn = pymysql.connect(user=credentials[\"username\"],\n",
            "                               passwd=credentials[\"password\"],\n",
            "                               host=credentials[\"url\"],\n",
            "                               port=(int)(credentials[\"port\"]),\n",
            "                               local_infile=1,\n",
            "                               db=database\n",
            "                               )\n",
            "        print(f\"Connection established!\")\n",
            "    except Exception as e:\n",
            "        print(f\"Error connecting to the MariaDB Server: {e}\")\n",
            "    \n",
            "    return conn\n",
            "\n",
            "def csv_to_df(file_name):\n",
            "\n",
            "    try:\n",
            "        df = pd.read_csv(\"./\" + file_name)\n",
            "        return df\n",
            "    except Exception as e:\n",
            "        print(f\"Error loading CSV file: {e}\")\n",
            "        return None\n",
            "\n",
            "def csv_to_db(conn, file_name, table_name, ignore_first_row):\n",
            "\n",
            "    cur = conn.cursor()\n",
            "\n",
            "    csv_file_path = './' + file_name\n",
            "    print(f'Loading data into the table')\n",
            "    if ignore_first_row:\n",
            "        cur.execute(f\"LOAD DATA LOCAL INFILE '{csv_file_path}' INTO TABLE `{table_name}` FIELDS TERMINATED BY ',' OPTIONALLY ENCLOSED by '\\\"' LINES STARTING BY '' TERMINATED BY '\\n' IGNORE 1 LINES;\")\n",
            "    else:\n",
            "        cur.execute(f\"LOAD DATA LOCAL INFILE '{csv_file_path}' INTO TABLE `{table_name}` FIELDS TERMINATED BY ',' OPTIONALLY ENCLOSED by '\\\"' LINES STARTING BY '' TERMINATED BY '\\n';\")\n",
            "    print(f'Data loaded into the table {table_name}')\n",
            "\n",
            "    conn.commit()\n",
            "\n",
            "def db_to_csv(conn, table_name, file_name):\n",
            "\n",
            "    try:\n",
            "        cur = conn.cursor()\n",
            "\n",
            "        cur.execute(f\"SELECT * FROM `{table_name}`;\")\n",
            "        column_titles = [desc[0] for desc in cur.description]\n",
            "        rows = cur.fetchall()\n",
            "        \n",
            "        with open(file_name, mode='w', newline='', encoding='utf-8') as csv_file:\n",
            "            writer = csv.writer(csv_file)\n",
            "            writer.writerow(column_titles)\n",
            "            writer.writerows(rows)\n",
            "        print(f\"Data successfully exported to {file_name}\")\n",
            "    except Exception as e:\n",
            "        print(f\"Error: {e}\")\n",
            "    finally:\n",
            "        conn.commit()\n",
            "\n",
            "def df_to_csv(df, file_name):\n",
            "    \n",
            "    try:\n",
            "        df.to_csv(\"./\" + file_name, index=False)\n",
            "        print(f\"DataFrame successfully saved to {file_name}\")\n",
            "    except Exception as e:\n",
            "        print(f\"Error: {e}\")\n",
            "\n",
            "def housing_upload_join_data_csv(conn, start_date, end_date, csv_file_name):\n",
            "    # start_date = str(year) + \"-01-01\"\n",
            "    # end_date = str(year) + \"-12-31\"\n",
            "\n",
            "  cur = conn.cursor()\n",
            "  print(f'Selecting data')\n",
            "  cur.execute(f'''\n",
            "    SELECT \n",
            "      pp.price, pp.date_of_transfer, pp.postcode, pp.property_type, \n",
            "      pp.new_build_flag, pp.tenure_type, pp.primary_addressable_object_name, \n",
            "      pp.secondary_addressable_object_name, pp.street, pp.locality, \n",
            "      pp.town_city, pp.district, pp.county, po.country, po.latitude, \n",
            "      po.longitude, po.easting, po.northing\n",
            "    FROM (\n",
            "      SELECT \n",
            "        price, date_of_transfer, postcode, property_type, new_build_flag, \n",
            "        tenure_type, primary_addressable_object_name, secondary_addressable_object_name, \n",
            "        street, locality, town_city, district, county\n",
            "      FROM pp_data\n",
            "      WHERE date_of_transfer BETWEEN \"{start_date}\" AND \"{end_date}\"\n",
            "    ) AS pp\n",
            "    INNER JOIN postcode_data AS po \n",
            "    ON pp.postcode = po.postcode;\n",
            "  ''')\n",
            "  rows = cur.fetchall()\n",
            "\n",
            "  # Write the rows to the CSV file\n",
            "  with open(csv_file_name, 'w', newline='') as csvfile:\n",
            "    csv_writer = csv.writer(csvfile)\n",
            "    # Write the data rows\n",
            "    csv_writer.writerows(rows)\n",
            "  print(f'CSV has been formed. Uploading data to the database')\n",
            "  cur.execute(f\"LOAD DATA LOCAL INFILE '\" + csv_file_name + \"' INTO TABLE `prices_coordinates_data` FIELDS TERMINATED BY ',' OPTIONALLY ENCLOSED by '\\\"' LINES STARTING BY '' TERMINATED BY '\\n';\")\n",
            "  print(f'Data has been uploaded to the databse successfully')\n",
            "  conn.commit()\n",
            "\n",
            "def housing_upload_join_data(conn, start_date, end_date):\n",
            "    # start_date = str(year) + \"-01-01\"\n",
            "    # end_date = str(year) + \"-12-31\"\n",
            "\n",
            "    cur = conn.cursor()\n",
            "    print(f'Selecting and inserting data from {start_date} to {end_date}')\n",
            "    query = f\"\"\"\n",
            "        INSERT INTO prices_coordinates_data (\n",
            "            price, date_of_transfer, postcode, property_type, \n",
            "            new_build_flag, tenure_type, primary_addressable_object_name, \n",
            "            secondary_addressable_object_name, street, locality, town_city, \n",
            "            district, county, country, latitude, longitude, easting, northing\n",
            "        )\n",
            "        SELECT \n",
            "            pp.price, pp.date_of_transfer, pp.postcode, pp.property_type, \n",
            "            pp.new_build_flag, pp.tenure_type, pp.primary_addressable_object_name, \n",
            "            pp.secondary_addressable_object_name, pp.street, pp.locality, \n",
            "            pp.town_city, pp.district, pp.county, po.country, po.latitude, \n",
            "            po.longitude, po.easting, po.northing\n",
            "        FROM pp_data AS pp\n",
            "        INNER JOIN postcode_data AS po \n",
            "        ON pp.postcode = po.postcode\n",
            "        WHERE pp.date_of_transfer BETWEEN \\\"{start_date}\\\" AND \\\"{end_date}\\\";\n",
            "    \"\"\"\n",
            "    cur.execute(query)\n",
            "    conn.commit()\n",
            "    print(f'Data from {start_date} to {end_date} has been inserted successfully')\n",
            "\n",
            "def download_and_extract_zip(url, zip_file_path, extraction_folder):\n",
            "    print(\"Downloading file\")\n",
            "    response = requests.get(url, stream=True)\n",
            "    if response.status_code == 200:\n",
            "        with open(zip_file_path, \"wb\") as file:\n",
            "            for chunk in response.iter_content(chunk_size=8192):\n",
            "                file.write(chunk)\n",
            "        print(f\"Downloaded zip file to {zip_file_path}\")\n",
            "    else:\n",
            "        print(f\"Failed to download file. Status code: {response.status_code}\")\n",
            "\n",
            "    print(\"Extracting file\")\n",
            "    if zipfile.is_zipfile(zip_file_path):\n",
            "        with zipfile.ZipFile(zip_file_path, \"r\") as zip_ref:\n",
            "            os.makedirs(extraction_folder, exist_ok=True)\n",
            "            zip_ref.extractall(extraction_folder)\n",
            "        print(f\"Extracted files to {extraction_folder}\")\n",
            "    else:\n",
            "        print(f\"{zip_file_path} is not a valid zip file.\")\n",
            "\n",
            "\n",
            "\n",
            "################ These functions are used for operating with OSM-style data ################\n",
            "\n",
            "\n",
            "\n",
            "def get_bounds(lat, lon, km_box_dimension):\n",
            "    \"\"\"\n",
            "    lat: Latitude of the center point in decimal degrees.\n",
            "    lon: Longitude of the center point in decimal degrees.\n",
            "    km_distance: Distance between sides in kilometers.\n",
            "    Returns (up, down, left, right): border coordinates.\n",
            "    \"\"\"\n",
            "\n",
            "    earth_radius = 6371.0 # km\n",
            "    km_distance = km_box_dimension / 2\n",
            "\n",
            "    angular_distance = km_distance / earth_radius\n",
            "    \n",
            "    up_lat = lat + math.degrees(angular_distance)\n",
            "    down_lat = lat - math.degrees(angular_distance)\n",
            "    \n",
            "    left_lon = lon - math.degrees(angular_distance / math.cos(math.radians(lat)))\n",
            "    right_lon = lon + math.degrees(angular_distance / math.cos(math.radians(lat)))\n",
            "    \n",
            "    return (up_lat, down_lat, left_lon, right_lon)\n",
            "\n",
            "def get_bounds_by_name(place_name):\n",
            "    \n",
            "    # Fetch the boundary polygon for the given place name\n",
            "    gdf = ox.geocode_to_gdf(place_name)\n",
            "    \n",
            "    bounds = gdf.total_bounds\n",
            "\n",
            "    return bounds\n",
            "\n",
            "def km_distance(lat1, lon1, lat2, lon2):\n",
            "\n",
            "    # Convert latitude and longitude from degrees to radians\n",
            "    lat1, lon1, lat2, lon2 = map(np.radians, [lat1, lon1, lat2, lon2])\n",
            "\n",
            "    # Radius of the Earth in kilometers\n",
            "    R = 6371.0\n",
            "\n",
            "    # Differences in coordinates\n",
            "    dlat = lat2 - lat1\n",
            "    dlon = lon2 - lon1\n",
            "\n",
            "    # Haversine formula\n",
            "    a = np.sin(dlat / 2)**2 + np.cos(lat1) * np.cos(lat2) * np.sin(dlon / 2)**2\n",
            "    c = 2 * np.arctan2(np.sqrt(a), np.sqrt(1 - a))\n",
            "    \n",
            "    km_distance = R * c\n",
            "    return km_distance\n",
            "\n",
            "def get_all_buildings_from_osm_by_bounds(bounds, tags = {'building': True}):\n",
            "\n",
            "    (north, south, east, west) = bounds\n",
            "\n",
            "    # Get information about all buildings in the area\n",
            "    all_buildings_from_osm = ox.geometries_from_bbox(north, south, east, west, tags)\n",
            "    \n",
            "    return all_buildings_from_osm\n",
            "\n",
            "\n",
            "--------------------------------------------------\n",
            "\n",
            "--- Contents of /Library/Frameworks/Python.framework/Versions/3.10/lib/python3.10/site-packages/fynesse/__init__.py ---\n",
            "\n",
            "from . import access\n",
            "from . import assess\n",
            "from . import address\n",
            "\n",
            "\n",
            "--------------------------------------------------\n",
            "\n",
            "--- Contents of /Library/Frameworks/Python.framework/Versions/3.10/lib/python3.10/site-packages/fynesse/assess.py ---\n",
            "\n",
            "from .config import *\n",
            "\n",
            "import numpy as np\n",
            "import pandas as pd\n",
            "import matplotlib.pyplot as plt\n",
            "from sklearn.preprocessing import MinMaxScaler\n",
            "from sklearn.cluster import KMeans\n",
            "import osmnx as ox\n",
            "import seaborn as sns\n",
            "from sklearn.metrics import mean_squared_error, r2_score\n",
            "\n",
            "\n",
            "\n",
            "def csv_preview(file_name):\n",
            "\n",
            "    try:\n",
            "        with open(\"./\" + file_name, 'r') as file:\n",
            "            column_titles = file.readline().strip()\n",
            "            print(\"Column Titles:\")\n",
            "            print(column_titles)\n",
            "\n",
            "            print(\"\\nFirst 10 Rows:\")\n",
            "            for i in range(10):\n",
            "                row = file.readline().strip()\n",
            "                if row:\n",
            "                    print(row)\n",
            "                else:\n",
            "                    break\n",
            "    except Exception as e:\n",
            "        print(f\"Error: {e}\")\n",
            "\n",
            "def execute_query(conn, query):\n",
            "    \"\"\"\n",
            "    Examples are:\n",
            "    SHOW TABLES;\n",
            "    SHOW TABLE STATUS LIKE '{table_name}';\n",
            "    SHOW INDEX FROM `{table_name}`;\n",
            "    SELECT * FROM `{table_name}` LIMIT {sample_size};\n",
            "    SELECT count(*) FROM `{table_name}`;\n",
            "    SELECT MIN({column}) AS min_value, MAX({column}) AS max_value FROM `{table_name}`\n",
            "    \"\"\"\n",
            "\n",
            "    cur = conn.cursor()\n",
            "    cur.execute(query)\n",
            "    rows = cur.fetchall()\n",
            "\n",
            "    conn.commit()\n",
            "\n",
            "    return rows\n",
            "\n",
            "def create_table_by_query(conn, table_name, columns, column_names, data_types, constraints):\n",
            "\n",
            "    if columns != len(column_names):\n",
            "        raise Exception(\"columns != len(column_names)\")\n",
            "    elif columns != len(data_types):\n",
            "        raise Exception(\"columns != len(data_types)\")\n",
            "    elif columns != len(constraints):\n",
            "        raise Exception(\"columns != len(constraints)\")\n",
            "    else:\n",
            "        query = f'CREATE TABLE {table_name} ({\", \".join([f\"`{column_names[i]}` {data_types[i]} {constraints[i]}\" for i in range(columns)])})'\n",
            "        print(query)\n",
            "        execute_query(conn, query)\n",
            "\n",
            "def create_single_index(conn, index_name, table_name, field_name):\n",
            "\n",
            "    rows = execute_query(conn, f\"CREATE INDEX {index_name} ON {table_name}({field_name});\")\n",
            "\n",
            "    return rows\n",
            "\n",
            "def create_multiple_index(conn, index_name, table_name, field_names):\n",
            "\n",
            "    rows = execute_query(conn, f\"CREATE INDEX {index_name} ON `{table_name}` ({', '.join(field_names)})\")\n",
            "\n",
            "    return rows\n",
            "\n",
            "def get_summary_on_db(conn):\n",
            "\n",
            "    tables = execute_query(conn, \"SHOW TABLES;\")\n",
            "\n",
            "    for row in tables:\n",
            "        table_name = row[0]\n",
            "        table_status = execute_query(conn, f\"SHOW TABLE STATUS LIKE '{table_name}';\")\n",
            "        approx_row_count = table_status[0][4] if table_status else 'Unable to fetch row count'\n",
            "        print(f\"\\nTable {table_name} - Approx Row Count {approx_row_count//100000/10}M\")\n",
            "\n",
            "        column_names = execute_query(conn, f\"SELECT COLUMN_NAME FROM INFORMATION_SCHEMA.COLUMNS WHERE TABLE_NAME = '{table_name}';\")\n",
            "        print(tuple(item[0] for item in column_names))\n",
            "\n",
            "        limit = 3\n",
            "        first_rows = execute_query(conn, f\"SELECT * FROM `{table_name}` LIMIT {limit};\")\n",
            "        for row in first_rows:\n",
            "            print(row)\n",
            "\n",
            "        indices = execute_query(conn, f\"SHOW INDEX FROM `{table_name}`;\")\n",
            "        if indices:\n",
            "            print(\"Indices:\")\n",
            "            for index in indices:\n",
            "                print(f\" - {index[2]} ({index[10]}): Column {index[4]}\")\n",
            "        else:\n",
            "            print(\"No indices set on this table.\")\n",
            "\n",
            "\n",
            "\n",
            "################################\n",
            "\n",
            "\n",
            "\n",
            "def normalise_df(data, columns_not_to_normalize = ['location']):\n",
            "\n",
            "    # separating columns that should not be normalised\n",
            "    excluded_data = data[columns_not_to_normalize]\n",
            "    data_to_normalize = data.drop(columns=columns_not_to_normalize)\n",
            "    \n",
            "    # normalising remaining columns\n",
            "    scaler = MinMaxScaler()\n",
            "    scaled_data = pd.DataFrame(scaler.fit_transform(data_to_normalize), columns=data_to_normalize.columns) # add index=data.index\n",
            "    \n",
            "    # concatenating excluded and normalised data\n",
            "    normalised_df = pd.concat([excluded_data, scaled_data], axis=1)\n",
            "\n",
            "    return normalised_df\n",
            "\n",
            "def kmeans_clusters(data, n_clusters):\n",
            "    \n",
            "    kmeans = KMeans(n_clusters=n_clusters, random_state=0)\n",
            "    kmeans.fit(data)\n",
            "    clusters = kmeans.labels_\n",
            "\n",
            "    return clusters\n",
            "\n",
            "\n",
            "\n",
            "################################\n",
            "\n",
            "\n",
            "\n",
            "def plot_clusters(clustered_data, n_clusters):\n",
            "    \n",
            "    colors = sns.color_palette(\"hsv\", n_clusters)  # other options: \"Spectral\", \"cubehelix\", etc.\n",
            "\n",
            "    plt.figure(figsize = (10, 10))\n",
            "\n",
            "    for cluster, color in enumerate(colors):\n",
            "        cluster_data = clustered_data[clustered_data['cluster'] == cluster]\n",
            "        plt.scatter(\n",
            "            cluster_data['longitude'], \n",
            "            cluster_data['latitude'], \n",
            "            label=f'Cluster {cluster}', \n",
            "            color=color\n",
            "        )\n",
            "        for _, row in cluster_data.iterrows():\n",
            "            plt.text(row['longitude'] + 0.02, row['latitude'] + 0.02, row['location'])\n",
            "\n",
            "    plt.axis('equal')\n",
            "    plt.grid(True)\n",
            "    plt.xlabel('Longitude')\n",
            "    plt.ylabel('Latitude')\n",
            "    plt.legend(title='Clusters')\n",
            "    plt.show()\n",
            "\n",
            "def plot_correlation_matrix(data, columns_to_drop):\n",
            "\n",
            "    correlation_matrix = data.drop(columns_to_drop).corr()\n",
            "\n",
            "    dim = len(correlation_matrix.columns)\n",
            "\n",
            "    plt.figure(figsize=(10, 8))\n",
            "    plt.imshow(correlation_matrix, cmap='coolwarm', interpolation='nearest')\n",
            "    plt.colorbar(label='Correlation Coefficient')\n",
            "    plt.title(\"Correlation Matrix of Features\")\n",
            "    plt.xticks(range(dim), correlation_matrix.columns, rotation=45, ha='right')\n",
            "    plt.yticks(range(dim), correlation_matrix.columns)\n",
            "\n",
            "    for i in range(dim):\n",
            "        for j in range(dim):\n",
            "            plt.text(j, i, f\"{correlation_matrix.iloc[i, j]:.2f}\", ha=\"center\", va=\"center\", color=\"black\")\n",
            "\n",
            "    plt.tight_layout()\n",
            "\n",
            "def plot_predictions_against_trues(y, y_pred, limits = None):\n",
            "    \n",
            "    plt.figure(figsize=(8, 6))\n",
            "\n",
            "    if limits is not None:\n",
            "        plt.xlim(limits)\n",
            "        plt.ylim(limits)\n",
            "\n",
            "    plt.scatter(y, y_pred, color='blue', label='Predictions')\n",
            "    plt.plot([min(y), max(y)], [min(y), max(y)], 'r--', label=\"Perfect Prediction\")\n",
            "\n",
            "    plt.xlabel('True values')\n",
            "    plt.ylabel('Predictions')\n",
            "    plt.legend()\n",
            "    plt.show()\n",
            "\n",
            "    rmse = np.sqrt(mean_squared_error(y, y_pred))\n",
            "    r2 = r2_score(y, y_pred)\n",
            "    corr = np.corrcoef(y, y_pred)[0, 1]\n",
            "\n",
            "    print(f\"RMSE: {rmse}\\nR2: {r2}\\nCORRELATION: {corr}\")\n",
            "\n",
            "def plot_predictions_and_trues(x_values, true_values, pred_values, limits = None):\n",
            "    \n",
            "    plt.figure(figsize=(8, 6))\n",
            "\n",
            "    if limits is not None:\n",
            "        plt.xlim(limits)\n",
            "        plt.ylim(limits)\n",
            "    \n",
            "    plt.plot(x_values, true_values, label=f\"True values\", color = 'orange')\n",
            "    plt.plot(x_values, pred_values, label=f\"Predicted values\", color = 'blue')\n",
            "\n",
            "    plt.legend()\n",
            "    plt.show()\n",
            "\n",
            "\n",
            "\n",
            "################################\n",
            "\n",
            "\n",
            "\n",
            "def count_pois_near_coordinates_by_bounds(bounds, tags):\n",
            "    \n",
            "    (north, south, west, east) = bounds\n",
            "\n",
            "    pois = ox.geometries_from_bbox(north, south, east, west, tags)\n",
            "    pois_df = pd.DataFrame(pois)\n",
            "    \n",
            "    poi_counts = {}\n",
            "    for tag, value in tags.items():\n",
            "        if tag in pois_df.columns:\n",
            "            if value is True:\n",
            "                poi_counts[tag] = pois_df[tag].notnull().sum() # counting all POIs for this tag\n",
            "            elif isinstance(value, list):\n",
            "                poi_counts[tag] = pois_df[tag].isin(value).sum() # counting POIs that match one of the list values\n",
            "            else:\n",
            "                raise ValueError(f\"Unexpected value: tags[{tag}] = {value}\")\n",
            "        else:\n",
            "            poi_counts[tag] = 0\n",
            "    \n",
            "    return poi_counts\n",
            "\n",
            "def get_houses_from_price_data_by_bounds(conn, bounds):\n",
            "\n",
            "    (north, south, east, west) = bounds\n",
            "    min_date = '1900-01-01'\n",
            "\n",
            "    cur = conn.cursor()\n",
            "    cur.execute(f\"SELECT pcd.*, pp.primary_addressable_object_name, pp.secondary_addressable_object_name, pp.street FROM prices_coordinates_data AS pcd JOIN pp_data AS pp ON pcd.postcode = pp.postcode AND pcd.date_of_transfer = pp.date_of_transfer AND pcd.price = pp.price WHERE pcd.latitude BETWEEN {south} AND {north} AND pcd.longitude BETWEEN {west} AND {east} AND date_of_transfer >= '{min_date}'\")\n",
            "    results = cur.fetchall()\n",
            "\n",
            "    columns = [\n",
            "        \"price\", \n",
            "        \"date_of_transfer\", \n",
            "        \"postcode\", \n",
            "        \"property_type\", \n",
            "        \"new_build_flag\", \n",
            "        \"tenure_type\", \n",
            "        \"locality\", \n",
            "        \"town_city\", \n",
            "        \"district\", \n",
            "        \"county\", \n",
            "        \"country\", \n",
            "        \"latitude\", \n",
            "        \"longitude\", \n",
            "        \"db_id\", \n",
            "        \"primary_addressable_object_name\", \n",
            "        \"secondary_addressable_object_name\", \n",
            "        \"street\"]\n",
            "    \n",
            "    df = pd.DataFrame(results, columns = columns)\n",
            "\n",
            "    conn.commit()\n",
            "\n",
            "    return df\n",
            "\n",
            "def filter_buildings_from_osm(all_buildings_from_osm):\n",
            "\n",
            "    all_buildings_from_osm = all_buildings_from_osm[all_buildings_from_osm['geometry'].geom_type == 'Polygon'] # filtering polygons only\n",
            "\n",
            "    all_buildings_from_osm['area_m2'] = all_buildings_from_osm.copy().to_crs(epsg=3395).geometry.area\n",
            "    # transforming from geographical coordinate reference system to projected reference system, then computing area in square meters\n",
            "    \n",
            "    valid_buildings_from_osm = all_buildings_from_osm[all_buildings_from_osm['addr:street'].notnull() \n",
            "                                                    & all_buildings_from_osm['addr:housenumber'].notnull() \n",
            "                                                    & all_buildings_from_osm['addr:postcode'].notnull()\n",
            "                                                    & all_buildings_from_osm['addr:city'].notnull()] # filtering buildings based on the presence of address\n",
            "    \n",
            "    return valid_buildings_from_osm\n",
            "\n",
            "def capitalize(x):\n",
            "    return x.upper() if isinstance(x, str) else str(x)\n",
            "\n",
            "def match_buildings_from_osm(valid_buildings_from_osm, all_houses_from_db):\n",
            "\n",
            "    matched_buildings_from_osm = valid_buildings_from_osm.copy()\n",
            "\n",
            "    matched_price = []\n",
            "    matched_date_of_transfer = []\n",
            "    matched_latitude = []\n",
            "    matched_longitude = []\n",
            "\n",
            "    # iterating through rows of matched_buildings_from_osm\n",
            "    for _, osm_row in matched_buildings_from_osm.iterrows():\n",
            "        name = capitalize(osm_row['name'])\n",
            "        housenumber = capitalize(osm_row['addr:housenumber'])\n",
            "        street = capitalize(osm_row['addr:street'])\n",
            "        city = capitalize(osm_row['addr:city'])\n",
            "        postcode = capitalize(osm_row['addr:postcode'])\n",
            "\n",
            "        # iterating through rows of all_houses_from_db\n",
            "        match_found = False\n",
            "        for _, db_row in all_houses_from_db.iterrows():\n",
            "            primary_addressable_object_name = capitalize(db_row['primary_addressable_object_name'])\n",
            "            secondary_addressable_object_name = capitalize(db_row['secondary_addressable_object_name'])\n",
            "            db_street = capitalize(db_row['street'])\n",
            "            db_city = capitalize(db_row['town_city'])\n",
            "            db_postcode = capitalize(db_row['postcode'])\n",
            "            \n",
            "            # checking if street, postcode, and city match\n",
            "            if street == db_street and postcode == db_postcode and city == db_city:\n",
            "                if (housenumber == primary_addressable_object_name) or (housenumber == secondary_addressable_object_name) or (name in primary_addressable_object_name) or (name in secondary_addressable_object_name):\n",
            "                    matched_price.append(db_row['price'])\n",
            "                    matched_date_of_transfer.append(db_row['date_of_transfer'])\n",
            "                    matched_latitude.append(db_row['latitude'])\n",
            "                    matched_longitude.append(db_row['longitude'])\n",
            "                    match_found = True\n",
            "                    break\n",
            "\n",
            "        if not match_found:\n",
            "            matched_price.append(None)\n",
            "            matched_date_of_transfer.append(None)\n",
            "            matched_latitude.append(None)\n",
            "            matched_longitude.append(None)\n",
            "\n",
            "    # adding matched data as new columns to matched_buildings_from_osm\n",
            "    matched_buildings_from_osm['price'] = matched_price\n",
            "    matched_buildings_from_osm['date_of_transfer'] = matched_date_of_transfer\n",
            "    matched_buildings_from_osm['latitude'] = matched_latitude\n",
            "    matched_buildings_from_osm['longitude'] = matched_longitude\n",
            "\n",
            "    # removing rows where no match was found\n",
            "    matched_buildings_from_osm.dropna(subset=['price', 'date_of_transfer', 'latitude', 'longitude'], inplace=True)\n",
            "\n",
            "    return matched_buildings_from_osm\n",
            "\n",
            "\n",
            "\n",
            "################################\n",
            "\n",
            "\n",
            "\n",
            "def plot_buildings(bounds, place_name, layer1, layer2 = None, layer3 = None):\n",
            "\n",
            "    north, south, east, west = bounds\n",
            "    \n",
            "    graph = ox.graph_from_bbox(north, south, east, west) # retrieving main graph\n",
            "    nodes, edges = ox.graph_to_gdfs(graph) # retrieving nodes and edges\n",
            "    area = ox.geocode_to_gdf(place_name) # getting place boundary related to the place name as a geodataframe\n",
            "\n",
            "    fig, ax = plt.subplots()\n",
            "    area.plot(ax=ax, facecolor=\"white\") # plotting the footprint\n",
            "    edges.plot(ax=ax, linewidth=1, edgecolor=\"dimgray\") # plotting street edges\n",
            "\n",
            "    ax.set_xlim([west, east])\n",
            "    ax.set_ylim([south, north])\n",
            "    ax.set_xlabel(\"longitude\")\n",
            "    ax.set_ylabel(\"latitude\")\n",
            "\n",
            "    # plotting buildings\n",
            "    layer1.plot(ax=ax, color=\"grey\", alpha=0.7, markersize=10)\n",
            "    if layer2 is not None:\n",
            "        layer2.plot(ax=ax, color=\"blue\", alpha=0.7, markersize=10)\n",
            "    if layer3 is not None:\n",
            "        layer3.plot(ax=ax, color=\"red\", alpha=0.7, markersize=10)\n",
            "    \n",
            "    plt.tight_layout()\n",
            "\n",
            "\n",
            "--------------------------------------------------\n",
            "\n",
            "--- Contents of /Library/Frameworks/Python.framework/Versions/3.10/lib/python3.10/site-packages/fynesse/__pycache__/address.cpython-310.pyc ---\n",
            "\n",
            "Could not read /Library/Frameworks/Python.framework/Versions/3.10/lib/python3.10/site-packages/fynesse/__pycache__/address.cpython-310.pyc: 'utf-8' codec can't decode byte 0xef in position 9: invalid continuation byte\n",
            "\n",
            "--------------------------------------------------\n",
            "\n",
            "--- Contents of /Library/Frameworks/Python.framework/Versions/3.10/lib/python3.10/site-packages/fynesse/__pycache__/assess.cpython-310.pyc ---\n",
            "\n",
            "Could not read /Library/Frameworks/Python.framework/Versions/3.10/lib/python3.10/site-packages/fynesse/__pycache__/assess.cpython-310.pyc: 'utf-8' codec can't decode byte 0xef in position 9: invalid continuation byte\n",
            "\n",
            "--------------------------------------------------\n",
            "\n",
            "--- Contents of /Library/Frameworks/Python.framework/Versions/3.10/lib/python3.10/site-packages/fynesse/__pycache__/config.cpython-310.pyc ---\n",
            "\n",
            "Could not read /Library/Frameworks/Python.framework/Versions/3.10/lib/python3.10/site-packages/fynesse/__pycache__/config.cpython-310.pyc: 'utf-8' codec can't decode byte 0xef in position 9: invalid continuation byte\n",
            "\n",
            "--------------------------------------------------\n",
            "\n",
            "--- Contents of /Library/Frameworks/Python.framework/Versions/3.10/lib/python3.10/site-packages/fynesse/__pycache__/access.cpython-310.pyc ---\n",
            "\n",
            "Could not read /Library/Frameworks/Python.framework/Versions/3.10/lib/python3.10/site-packages/fynesse/__pycache__/access.cpython-310.pyc: 'utf-8' codec can't decode byte 0xef in position 9: invalid continuation byte\n",
            "\n",
            "--------------------------------------------------\n",
            "\n",
            "--- Contents of /Library/Frameworks/Python.framework/Versions/3.10/lib/python3.10/site-packages/fynesse/__pycache__/__init__.cpython-310.pyc ---\n",
            "\n",
            "Could not read /Library/Frameworks/Python.framework/Versions/3.10/lib/python3.10/site-packages/fynesse/__pycache__/__init__.cpython-310.pyc: 'utf-8' codec can't decode byte 0xef in position 9: invalid continuation byte\n",
            "\n",
            "--------------------------------------------------\n",
            "\n"
          ]
        }
      ],
      "source": [
        "import fynesse\n",
        "import os\n",
        "\n",
        "print('FYNESSE STRUCTURE:')\n",
        "package_path = os.path.dirname(fynesse.__file__)\n",
        "for root, dirs, files in os.walk(package_path):\n",
        "    level = root.replace(package_path, '').count(os.sep)\n",
        "    indent = ' ' * 4 * level\n",
        "    print(f\"{indent}{os.path.basename(root)}/\")\n",
        "    sub_indent = ' ' * 4 * (level + 1)\n",
        "    for f in files:\n",
        "        print(f\"{sub_indent}{f}\")\n",
        "\n",
        "print('FILE CONTENTS')\n",
        "for root, dirs, files in os.walk(package_path):\n",
        "    for file in files:\n",
        "        file_path = os.path.join(root, file)\n",
        "        print(f\"--- Contents of {file_path} ---\\n\")\n",
        "        try:\n",
        "            with open(file_path, \"r\", encoding=\"utf-8\") as f:\n",
        "                print(f.read())\n",
        "        except Exception as e:\n",
        "            print(f\"Could not read {file_path}: {e}\")\n",
        "        print(\"\\n\" + \"-\" * 50 + \"\\n\")"
      ]
    }
  ],
  "metadata": {
    "colab": {
      "provenance": []
    },
    "kernelspec": {
      "display_name": "Python 3",
      "name": "python3"
    },
    "language_info": {
      "codemirror_mode": {
        "name": "ipython",
        "version": 3
      },
      "file_extension": ".py",
      "mimetype": "text/x-python",
      "name": "python",
      "nbconvert_exporter": "python",
      "pygments_lexer": "ipython3",
      "version": "3.10.6"
    }
  },
  "nbformat": 4,
  "nbformat_minor": 0
}
